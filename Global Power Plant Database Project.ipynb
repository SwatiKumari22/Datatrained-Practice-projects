{
 "cells": [
  {
   "cell_type": "markdown",
   "id": "ea1535f4",
   "metadata": {},
   "source": [
    "# Problem Statement:"
   ]
  },
  {
   "cell_type": "markdown",
   "id": "385f849d",
   "metadata": {},
   "source": [
    "### Description"
   ]
  },
  {
   "cell_type": "markdown",
   "id": "43e0c337",
   "metadata": {},
   "source": [
    "The Global Power Plant Database is a comprehensive, open source database of power plants around the world. It centralizes power plant data to make it easier to navigate, compare and draw insights for one’s own analysis. The database covers approximately 35,000 power plants from 167 countries and includes thermal plants (e.g. coal, gas, oil, nuclear, biomass, waste, geothermal) and renewables (e.g. hydro, wind, solar). Each power plant is geolocated and entries contain information on plant capacity, generation, ownership, and fuel type. It will be continuously updated as data becomes available."
   ]
  },
  {
   "cell_type": "markdown",
   "id": "2e0a7cc3",
   "metadata": {},
   "source": [
    "### Key attributes of the database"
   ]
  },
  {
   "cell_type": "markdown",
   "id": "09a1b63b",
   "metadata": {},
   "source": [
    "The database includes the following indicators:\n",
    "\n",
    "country (text): 3 character country code corresponding to the ISO 3166-1 alpha-3 specification [5]\n",
    "\n",
    "country_long (text): longer form of the country designation\n",
    "\n",
    "name (text): name or title of the power plant, generally in Romanized form\n",
    "\n",
    "gppd_idnr (text): 10 or 12 character identifier for the power plant\n",
    "\n",
    "capacity_mw (number): electrical generating capacity in megawatts\n",
    "\n",
    "latitude (number): geolocation in decimal degrees; WGS84 (EPSG:4326)\n",
    "\n",
    "longitude (number): geolocation in decimal degrees; WGS84 (EPSG:4326)\n",
    "\n",
    "primary_fuel (text): energy source used in primary electricity generation or export\n",
    "\n",
    "other_fuel1 (text): energy source used in electricity generation or export\n",
    "\n",
    "other_fuel2 (text): energy source used in electricity generation or export\n",
    "\n",
    "other_fuel3 (text): energy source used in electricity generation or export\n",
    "\n",
    "commissioning_year (number): year of plant operation, weighted by unit-capacity when data is available\n",
    "\n",
    "owner (text): majority shareholder of the power plant, generally in Romanized form\n",
    "\n",
    "source (text): entity reporting the data; could be an organization, report, or document, generally in Romanized form\n",
    "\n",
    "url (text): web document corresponding to the source field\n",
    "\n",
    "geolocation_source (text): attribution for geolocation information\n",
    "\n",
    "wepp_id (text): a reference to a unique plant identifier in the widely-used PLATTS-WEPP database.\n",
    "\n",
    "year_of_capacity_data (number): year the capacity information was reported\n",
    "\n",
    "generation_data_source (text): attribution for the reported generation information\n",
    "\n",
    "generation_gwh_2013 (number): electricity generation in gigawatt-hours reported for the year 2013\n",
    "\n",
    "generation_gwh_2014 (number): electricity generation in gigawatt-hours reported for the year 2014\n",
    "\n",
    "generation_gwh_2015 (number): electricity generation in gigawatt-hours reported for the year 2015\n",
    "\n",
    "generation_gwh_2016 (number): electricity generation in gigawatt-hours reported for the year 2016\n",
    "\n",
    "generation_gwh_2017 (number): electricity generation in gigawatt-hours reported for the year 2017\n",
    "\n",
    "generation_gwh_2018 (number): electricity generation in gigawatt-hours reported for the year 2018\n",
    "\n",
    "generation_gwh_2019 (number): electricity generation in gigawatt-hours reported for the year 2019\n",
    "\n",
    "estimated_generation_gwh_2013 (number): estimated electricity generation in gigawatt-hours for the year 2013\n",
    "\n",
    "estimated_generation_gwh_2014 (number): estimated electricity generation in gigawatt-hours for the year 2014\n",
    "\n",
    "estimated_generation_gwh_2015 (number): estimated electricity generation in gigawatt-hours for the year 2015\n",
    "\n",
    "estimated_generation_gwh_2016 (number): estimated electricity generation in gigawatt-hours for the year 2016\n",
    "\n",
    "estimated_generation_gwh_2017 (number): estimated electricity generation in gigawatt-hours for the year 2017\n",
    "\n",
    "estimated_generation_note_2013 (text): label of the model/method used to estimate generation for the year 2013\n",
    "\n",
    "estimated_generation_note_2014 (text): label of the model/method used to estimate generation for the year 2014\n",
    "\n",
    "estimated_generation_note_2015 (text): label of the model/method used to estimate generation for the year 2015\n",
    "\n",
    "estimated_generation_note_2016 (text): label of the model/method used to estimate generation for the year 2016\n",
    "\n",
    "estimated_generation_note_2017 (text): label of the model/method used to estimate generation for the year 2017"
   ]
  },
  {
   "cell_type": "markdown",
   "id": "3372ab3d",
   "metadata": {},
   "source": [
    "### Fuel Type Aggregation"
   ]
  },
  {
   "cell_type": "markdown",
   "id": "face3109",
   "metadata": {},
   "source": [
    "We define the \"Fuel Type\" attribute of our database based on common fuel categories."
   ]
  },
  {
   "cell_type": "markdown",
   "id": "516a9e0b",
   "metadata": {},
   "source": [
    "### Prediction:"
   ]
  },
  {
   "cell_type": "markdown",
   "id": "81d750f3",
   "metadata": {},
   "source": [
    "Make two prediction for labels 1) primary_fuel 2) capacity_mw"
   ]
  },
  {
   "cell_type": "markdown",
   "id": "cbabba75",
   "metadata": {},
   "source": [
    "## Importing important libraries"
   ]
  },
  {
   "cell_type": "code",
   "execution_count": 1,
   "id": "a6a5a8e7",
   "metadata": {},
   "outputs": [],
   "source": [
    "import pandas as pd\n",
    "import numpy as np\n",
    "import seaborn as sns\n",
    "import matplotlib.pyplot as plt\n",
    "\n",
    "from sklearn import metrics\n",
    "from scipy.stats import zscore\n",
    "from sklearn.preprocessing import LabelEncoder\n",
    "from sklearn.preprocessing import OrdinalEncoder\n",
    "from sklearn.preprocessing import StandardScaler\n",
    "from sklearn.model_selection import train_test_split\n",
    "from sklearn.model_selection import cross_val_score\n",
    "from sklearn.model_selection import GridSearchCV\n",
    "from statsmodels.stats.outliers_influence import variance_inflation_factor\n",
    "\n",
    "# Classification\n",
    "\n",
    "from imblearn.over_sampling import SMOTE\n",
    "from sklearn.linear_model import LogisticRegression\n",
    "from sklearn.svm import SVC\n",
    "from sklearn.tree import DecisionTreeClassifier\n",
    "from sklearn.ensemble import RandomForestClassifier\n",
    "from sklearn.ensemble import ExtraTreesClassifier\n",
    "from sklearn.neighbors import KNeighborsClassifier\n",
    "from sklearn.ensemble import GradientBoostingClassifier, BaggingClassifier\n",
    "from sklearn.metrics import classification_report\n",
    "from sklearn.metrics import accuracy_score\n",
    "from sklearn.metrics import roc_auc_score\n",
    "\n",
    "# Regression\n",
    "\n",
    "from sklearn.linear_model import LinearRegression, Ridge, Lasso\n",
    "from sklearn.svm import SVR\n",
    "from sklearn.tree import DecisionTreeRegressor\n",
    "from sklearn.ensemble import RandomForestRegressor\n",
    "from sklearn.neighbors import KNeighborsRegressor\n",
    "from sklearn.ensemble import AdaBoostRegressor\n",
    "from sklearn.ensemble import ExtraTreesRegressor\n",
    "from sklearn.ensemble import GradientBoostingRegressor\n",
    "from xgboost import XGBRegressor\n",
    "from sklearn.metrics import r2_score\n",
    "from sklearn.metrics import mean_squared_error,mean_absolute_error,r2_score\n",
    "\n",
    "import warnings\n",
    "warnings.simplefilter(\"ignore\")\n",
    "warnings.filterwarnings(\"ignore\")\n",
    "import joblib"
   ]
  },
  {
   "cell_type": "markdown",
   "id": "ea109c48",
   "metadata": {},
   "source": [
    "## Loadind the Dataset"
   ]
  },
  {
   "cell_type": "code",
   "execution_count": 2,
   "id": "f58fcadd",
   "metadata": {},
   "outputs": [
    {
     "data": {
      "text/html": [
       "<div>\n",
       "<style scoped>\n",
       "    .dataframe tbody tr th:only-of-type {\n",
       "        vertical-align: middle;\n",
       "    }\n",
       "\n",
       "    .dataframe tbody tr th {\n",
       "        vertical-align: top;\n",
       "    }\n",
       "\n",
       "    .dataframe thead th {\n",
       "        text-align: right;\n",
       "    }\n",
       "</style>\n",
       "<table border=\"1\" class=\"dataframe\">\n",
       "  <thead>\n",
       "    <tr style=\"text-align: right;\">\n",
       "      <th></th>\n",
       "      <th>country</th>\n",
       "      <th>country_long</th>\n",
       "      <th>name</th>\n",
       "      <th>gppd_idnr</th>\n",
       "      <th>capacity_mw</th>\n",
       "      <th>latitude</th>\n",
       "      <th>longitude</th>\n",
       "      <th>primary_fuel</th>\n",
       "      <th>other_fuel1</th>\n",
       "      <th>other_fuel2</th>\n",
       "      <th>other_fuel3</th>\n",
       "      <th>commissioning_year</th>\n",
       "      <th>owner</th>\n",
       "      <th>source</th>\n",
       "      <th>url</th>\n",
       "      <th>geolocation_source</th>\n",
       "      <th>wepp_id</th>\n",
       "      <th>year_of_capacity_data</th>\n",
       "      <th>generation_gwh_2013</th>\n",
       "      <th>generation_gwh_2014</th>\n",
       "      <th>generation_gwh_2015</th>\n",
       "      <th>generation_gwh_2016</th>\n",
       "      <th>generation_gwh_2017</th>\n",
       "      <th>generation_gwh_2018</th>\n",
       "      <th>generation_gwh_2019</th>\n",
       "      <th>generation_data_source</th>\n",
       "      <th>estimated_generation_gwh</th>\n",
       "    </tr>\n",
       "  </thead>\n",
       "  <tbody>\n",
       "    <tr>\n",
       "      <th>0</th>\n",
       "      <td>IND</td>\n",
       "      <td>India</td>\n",
       "      <td>ACME Solar Tower</td>\n",
       "      <td>WRI1020239</td>\n",
       "      <td>2.5</td>\n",
       "      <td>28.1839</td>\n",
       "      <td>73.2407</td>\n",
       "      <td>Solar</td>\n",
       "      <td>NaN</td>\n",
       "      <td>NaN</td>\n",
       "      <td>NaN</td>\n",
       "      <td>2011.0</td>\n",
       "      <td>Solar Paces</td>\n",
       "      <td>National Renewable Energy Laboratory</td>\n",
       "      <td>http://www.nrel.gov/csp/solarpaces/project_det...</td>\n",
       "      <td>National Renewable Energy Laboratory</td>\n",
       "      <td>NaN</td>\n",
       "      <td>NaN</td>\n",
       "      <td>NaN</td>\n",
       "      <td>NaN</td>\n",
       "      <td>NaN</td>\n",
       "      <td>NaN</td>\n",
       "      <td>NaN</td>\n",
       "      <td>NaN</td>\n",
       "      <td>NaN</td>\n",
       "      <td>NaN</td>\n",
       "      <td>NaN</td>\n",
       "    </tr>\n",
       "    <tr>\n",
       "      <th>1</th>\n",
       "      <td>IND</td>\n",
       "      <td>India</td>\n",
       "      <td>ADITYA CEMENT WORKS</td>\n",
       "      <td>WRI1019881</td>\n",
       "      <td>98.0</td>\n",
       "      <td>24.7663</td>\n",
       "      <td>74.6090</td>\n",
       "      <td>Coal</td>\n",
       "      <td>NaN</td>\n",
       "      <td>NaN</td>\n",
       "      <td>NaN</td>\n",
       "      <td>NaN</td>\n",
       "      <td>Ultratech Cement ltd</td>\n",
       "      <td>Ultratech Cement ltd</td>\n",
       "      <td>http://www.ultratechcement.com/</td>\n",
       "      <td>WRI</td>\n",
       "      <td>NaN</td>\n",
       "      <td>NaN</td>\n",
       "      <td>NaN</td>\n",
       "      <td>NaN</td>\n",
       "      <td>NaN</td>\n",
       "      <td>NaN</td>\n",
       "      <td>NaN</td>\n",
       "      <td>NaN</td>\n",
       "      <td>NaN</td>\n",
       "      <td>NaN</td>\n",
       "      <td>NaN</td>\n",
       "    </tr>\n",
       "    <tr>\n",
       "      <th>2</th>\n",
       "      <td>IND</td>\n",
       "      <td>India</td>\n",
       "      <td>AES Saurashtra Windfarms</td>\n",
       "      <td>WRI1026669</td>\n",
       "      <td>39.2</td>\n",
       "      <td>21.9038</td>\n",
       "      <td>69.3732</td>\n",
       "      <td>Wind</td>\n",
       "      <td>NaN</td>\n",
       "      <td>NaN</td>\n",
       "      <td>NaN</td>\n",
       "      <td>NaN</td>\n",
       "      <td>AES</td>\n",
       "      <td>CDM</td>\n",
       "      <td>https://cdm.unfccc.int/Projects/DB/DNV-CUK1328...</td>\n",
       "      <td>WRI</td>\n",
       "      <td>NaN</td>\n",
       "      <td>NaN</td>\n",
       "      <td>NaN</td>\n",
       "      <td>NaN</td>\n",
       "      <td>NaN</td>\n",
       "      <td>NaN</td>\n",
       "      <td>NaN</td>\n",
       "      <td>NaN</td>\n",
       "      <td>NaN</td>\n",
       "      <td>NaN</td>\n",
       "      <td>NaN</td>\n",
       "    </tr>\n",
       "    <tr>\n",
       "      <th>3</th>\n",
       "      <td>IND</td>\n",
       "      <td>India</td>\n",
       "      <td>AGARTALA GT</td>\n",
       "      <td>IND0000001</td>\n",
       "      <td>135.0</td>\n",
       "      <td>23.8712</td>\n",
       "      <td>91.3602</td>\n",
       "      <td>Gas</td>\n",
       "      <td>NaN</td>\n",
       "      <td>NaN</td>\n",
       "      <td>NaN</td>\n",
       "      <td>2004.0</td>\n",
       "      <td>NaN</td>\n",
       "      <td>Central Electricity Authority</td>\n",
       "      <td>http://www.cea.nic.in/</td>\n",
       "      <td>WRI</td>\n",
       "      <td>NaN</td>\n",
       "      <td>2019.0</td>\n",
       "      <td>NaN</td>\n",
       "      <td>617.789264</td>\n",
       "      <td>843.747000</td>\n",
       "      <td>886.004428</td>\n",
       "      <td>663.774500</td>\n",
       "      <td>626.239128</td>\n",
       "      <td>NaN</td>\n",
       "      <td>Central Electricity Authority</td>\n",
       "      <td>NaN</td>\n",
       "    </tr>\n",
       "    <tr>\n",
       "      <th>4</th>\n",
       "      <td>IND</td>\n",
       "      <td>India</td>\n",
       "      <td>AKALTARA TPP</td>\n",
       "      <td>IND0000002</td>\n",
       "      <td>1800.0</td>\n",
       "      <td>21.9603</td>\n",
       "      <td>82.4091</td>\n",
       "      <td>Coal</td>\n",
       "      <td>Oil</td>\n",
       "      <td>NaN</td>\n",
       "      <td>NaN</td>\n",
       "      <td>2015.0</td>\n",
       "      <td>NaN</td>\n",
       "      <td>Central Electricity Authority</td>\n",
       "      <td>http://www.cea.nic.in/</td>\n",
       "      <td>WRI</td>\n",
       "      <td>NaN</td>\n",
       "      <td>2019.0</td>\n",
       "      <td>NaN</td>\n",
       "      <td>3035.550000</td>\n",
       "      <td>5916.370000</td>\n",
       "      <td>6243.000000</td>\n",
       "      <td>5385.579736</td>\n",
       "      <td>7279.000000</td>\n",
       "      <td>NaN</td>\n",
       "      <td>Central Electricity Authority</td>\n",
       "      <td>NaN</td>\n",
       "    </tr>\n",
       "    <tr>\n",
       "      <th>...</th>\n",
       "      <td>...</td>\n",
       "      <td>...</td>\n",
       "      <td>...</td>\n",
       "      <td>...</td>\n",
       "      <td>...</td>\n",
       "      <td>...</td>\n",
       "      <td>...</td>\n",
       "      <td>...</td>\n",
       "      <td>...</td>\n",
       "      <td>...</td>\n",
       "      <td>...</td>\n",
       "      <td>...</td>\n",
       "      <td>...</td>\n",
       "      <td>...</td>\n",
       "      <td>...</td>\n",
       "      <td>...</td>\n",
       "      <td>...</td>\n",
       "      <td>...</td>\n",
       "      <td>...</td>\n",
       "      <td>...</td>\n",
       "      <td>...</td>\n",
       "      <td>...</td>\n",
       "      <td>...</td>\n",
       "      <td>...</td>\n",
       "      <td>...</td>\n",
       "      <td>...</td>\n",
       "      <td>...</td>\n",
       "    </tr>\n",
       "    <tr>\n",
       "      <th>902</th>\n",
       "      <td>IND</td>\n",
       "      <td>India</td>\n",
       "      <td>YERMARUS TPP</td>\n",
       "      <td>IND0000513</td>\n",
       "      <td>1600.0</td>\n",
       "      <td>16.2949</td>\n",
       "      <td>77.3568</td>\n",
       "      <td>Coal</td>\n",
       "      <td>Oil</td>\n",
       "      <td>NaN</td>\n",
       "      <td>NaN</td>\n",
       "      <td>2016.0</td>\n",
       "      <td>NaN</td>\n",
       "      <td>Central Electricity Authority</td>\n",
       "      <td>http://www.cea.nic.in/</td>\n",
       "      <td>WRI</td>\n",
       "      <td>NaN</td>\n",
       "      <td>2019.0</td>\n",
       "      <td>NaN</td>\n",
       "      <td>NaN</td>\n",
       "      <td>0.994875</td>\n",
       "      <td>233.596650</td>\n",
       "      <td>865.400000</td>\n",
       "      <td>686.500000</td>\n",
       "      <td>NaN</td>\n",
       "      <td>Central Electricity Authority</td>\n",
       "      <td>NaN</td>\n",
       "    </tr>\n",
       "    <tr>\n",
       "      <th>903</th>\n",
       "      <td>IND</td>\n",
       "      <td>India</td>\n",
       "      <td>Yelesandra Solar Power Plant</td>\n",
       "      <td>WRI1026222</td>\n",
       "      <td>3.0</td>\n",
       "      <td>12.8932</td>\n",
       "      <td>78.1654</td>\n",
       "      <td>Solar</td>\n",
       "      <td>NaN</td>\n",
       "      <td>NaN</td>\n",
       "      <td>NaN</td>\n",
       "      <td>NaN</td>\n",
       "      <td>Karnataka Power Corporation Limited</td>\n",
       "      <td>Karnataka Power Corporation Limited</td>\n",
       "      <td>http://karnatakapower.com</td>\n",
       "      <td>Industry About</td>\n",
       "      <td>NaN</td>\n",
       "      <td>NaN</td>\n",
       "      <td>NaN</td>\n",
       "      <td>NaN</td>\n",
       "      <td>NaN</td>\n",
       "      <td>NaN</td>\n",
       "      <td>NaN</td>\n",
       "      <td>NaN</td>\n",
       "      <td>NaN</td>\n",
       "      <td>NaN</td>\n",
       "      <td>NaN</td>\n",
       "    </tr>\n",
       "    <tr>\n",
       "      <th>904</th>\n",
       "      <td>IND</td>\n",
       "      <td>India</td>\n",
       "      <td>Yelisirur wind power project</td>\n",
       "      <td>WRI1026776</td>\n",
       "      <td>25.5</td>\n",
       "      <td>15.2758</td>\n",
       "      <td>75.5811</td>\n",
       "      <td>Wind</td>\n",
       "      <td>NaN</td>\n",
       "      <td>NaN</td>\n",
       "      <td>NaN</td>\n",
       "      <td>NaN</td>\n",
       "      <td>NaN</td>\n",
       "      <td>CDM</td>\n",
       "      <td>https://cdm.unfccc.int/Projects/DB/TUEV-RHEIN1...</td>\n",
       "      <td>WRI</td>\n",
       "      <td>NaN</td>\n",
       "      <td>NaN</td>\n",
       "      <td>NaN</td>\n",
       "      <td>NaN</td>\n",
       "      <td>NaN</td>\n",
       "      <td>NaN</td>\n",
       "      <td>NaN</td>\n",
       "      <td>NaN</td>\n",
       "      <td>NaN</td>\n",
       "      <td>NaN</td>\n",
       "      <td>NaN</td>\n",
       "    </tr>\n",
       "    <tr>\n",
       "      <th>905</th>\n",
       "      <td>IND</td>\n",
       "      <td>India</td>\n",
       "      <td>ZAWAR MINES</td>\n",
       "      <td>WRI1019901</td>\n",
       "      <td>80.0</td>\n",
       "      <td>24.3500</td>\n",
       "      <td>73.7477</td>\n",
       "      <td>Coal</td>\n",
       "      <td>NaN</td>\n",
       "      <td>NaN</td>\n",
       "      <td>NaN</td>\n",
       "      <td>NaN</td>\n",
       "      <td>Hindustan Zinc ltd</td>\n",
       "      <td>Hindustan Zinc ltd</td>\n",
       "      <td>http://www.hzlindia.com/</td>\n",
       "      <td>WRI</td>\n",
       "      <td>NaN</td>\n",
       "      <td>NaN</td>\n",
       "      <td>NaN</td>\n",
       "      <td>NaN</td>\n",
       "      <td>NaN</td>\n",
       "      <td>NaN</td>\n",
       "      <td>NaN</td>\n",
       "      <td>NaN</td>\n",
       "      <td>NaN</td>\n",
       "      <td>NaN</td>\n",
       "      <td>NaN</td>\n",
       "    </tr>\n",
       "    <tr>\n",
       "      <th>906</th>\n",
       "      <td>IND</td>\n",
       "      <td>India</td>\n",
       "      <td>iEnergy Theni Wind Farm</td>\n",
       "      <td>WRI1026761</td>\n",
       "      <td>16.5</td>\n",
       "      <td>9.9344</td>\n",
       "      <td>77.4768</td>\n",
       "      <td>Wind</td>\n",
       "      <td>NaN</td>\n",
       "      <td>NaN</td>\n",
       "      <td>NaN</td>\n",
       "      <td>NaN</td>\n",
       "      <td>iEnergy Wind Farms</td>\n",
       "      <td>CDM</td>\n",
       "      <td>https://cdm.unfccc.int/Projects/DB/RWTUV134503...</td>\n",
       "      <td>WRI</td>\n",
       "      <td>NaN</td>\n",
       "      <td>NaN</td>\n",
       "      <td>NaN</td>\n",
       "      <td>NaN</td>\n",
       "      <td>NaN</td>\n",
       "      <td>NaN</td>\n",
       "      <td>NaN</td>\n",
       "      <td>NaN</td>\n",
       "      <td>NaN</td>\n",
       "      <td>NaN</td>\n",
       "      <td>NaN</td>\n",
       "    </tr>\n",
       "  </tbody>\n",
       "</table>\n",
       "<p>907 rows × 27 columns</p>\n",
       "</div>"
      ],
      "text/plain": [
       "    country country_long                          name   gppd_idnr  \\\n",
       "0       IND        India              ACME Solar Tower  WRI1020239   \n",
       "1       IND        India           ADITYA CEMENT WORKS  WRI1019881   \n",
       "2       IND        India      AES Saurashtra Windfarms  WRI1026669   \n",
       "3       IND        India                   AGARTALA GT  IND0000001   \n",
       "4       IND        India                  AKALTARA TPP  IND0000002   \n",
       "..      ...          ...                           ...         ...   \n",
       "902     IND        India                  YERMARUS TPP  IND0000513   \n",
       "903     IND        India  Yelesandra Solar Power Plant  WRI1026222   \n",
       "904     IND        India  Yelisirur wind power project  WRI1026776   \n",
       "905     IND        India                   ZAWAR MINES  WRI1019901   \n",
       "906     IND        India       iEnergy Theni Wind Farm  WRI1026761   \n",
       "\n",
       "     capacity_mw  latitude  longitude primary_fuel other_fuel1 other_fuel2  \\\n",
       "0            2.5   28.1839    73.2407        Solar         NaN         NaN   \n",
       "1           98.0   24.7663    74.6090         Coal         NaN         NaN   \n",
       "2           39.2   21.9038    69.3732         Wind         NaN         NaN   \n",
       "3          135.0   23.8712    91.3602          Gas         NaN         NaN   \n",
       "4         1800.0   21.9603    82.4091         Coal         Oil         NaN   \n",
       "..           ...       ...        ...          ...         ...         ...   \n",
       "902       1600.0   16.2949    77.3568         Coal         Oil         NaN   \n",
       "903          3.0   12.8932    78.1654        Solar         NaN         NaN   \n",
       "904         25.5   15.2758    75.5811         Wind         NaN         NaN   \n",
       "905         80.0   24.3500    73.7477         Coal         NaN         NaN   \n",
       "906         16.5    9.9344    77.4768         Wind         NaN         NaN   \n",
       "\n",
       "     other_fuel3  commissioning_year                                owner  \\\n",
       "0            NaN              2011.0                          Solar Paces   \n",
       "1            NaN                 NaN                 Ultratech Cement ltd   \n",
       "2            NaN                 NaN                                  AES   \n",
       "3            NaN              2004.0                                  NaN   \n",
       "4            NaN              2015.0                                  NaN   \n",
       "..           ...                 ...                                  ...   \n",
       "902          NaN              2016.0                                  NaN   \n",
       "903          NaN                 NaN  Karnataka Power Corporation Limited   \n",
       "904          NaN                 NaN                                  NaN   \n",
       "905          NaN                 NaN                   Hindustan Zinc ltd   \n",
       "906          NaN                 NaN                   iEnergy Wind Farms   \n",
       "\n",
       "                                   source  \\\n",
       "0    National Renewable Energy Laboratory   \n",
       "1                    Ultratech Cement ltd   \n",
       "2                                     CDM   \n",
       "3           Central Electricity Authority   \n",
       "4           Central Electricity Authority   \n",
       "..                                    ...   \n",
       "902         Central Electricity Authority   \n",
       "903   Karnataka Power Corporation Limited   \n",
       "904                                   CDM   \n",
       "905                    Hindustan Zinc ltd   \n",
       "906                                   CDM   \n",
       "\n",
       "                                                   url  \\\n",
       "0    http://www.nrel.gov/csp/solarpaces/project_det...   \n",
       "1                      http://www.ultratechcement.com/   \n",
       "2    https://cdm.unfccc.int/Projects/DB/DNV-CUK1328...   \n",
       "3                               http://www.cea.nic.in/   \n",
       "4                               http://www.cea.nic.in/   \n",
       "..                                                 ...   \n",
       "902                             http://www.cea.nic.in/   \n",
       "903                          http://karnatakapower.com   \n",
       "904  https://cdm.unfccc.int/Projects/DB/TUEV-RHEIN1...   \n",
       "905                           http://www.hzlindia.com/   \n",
       "906  https://cdm.unfccc.int/Projects/DB/RWTUV134503...   \n",
       "\n",
       "                       geolocation_source  wepp_id  year_of_capacity_data  \\\n",
       "0    National Renewable Energy Laboratory      NaN                    NaN   \n",
       "1                                     WRI      NaN                    NaN   \n",
       "2                                     WRI      NaN                    NaN   \n",
       "3                                     WRI      NaN                 2019.0   \n",
       "4                                     WRI      NaN                 2019.0   \n",
       "..                                    ...      ...                    ...   \n",
       "902                                   WRI      NaN                 2019.0   \n",
       "903                        Industry About      NaN                    NaN   \n",
       "904                                   WRI      NaN                    NaN   \n",
       "905                                   WRI      NaN                    NaN   \n",
       "906                                   WRI      NaN                    NaN   \n",
       "\n",
       "     generation_gwh_2013  generation_gwh_2014  generation_gwh_2015  \\\n",
       "0                    NaN                  NaN                  NaN   \n",
       "1                    NaN                  NaN                  NaN   \n",
       "2                    NaN                  NaN                  NaN   \n",
       "3                    NaN           617.789264           843.747000   \n",
       "4                    NaN          3035.550000          5916.370000   \n",
       "..                   ...                  ...                  ...   \n",
       "902                  NaN                  NaN             0.994875   \n",
       "903                  NaN                  NaN                  NaN   \n",
       "904                  NaN                  NaN                  NaN   \n",
       "905                  NaN                  NaN                  NaN   \n",
       "906                  NaN                  NaN                  NaN   \n",
       "\n",
       "     generation_gwh_2016  generation_gwh_2017  generation_gwh_2018  \\\n",
       "0                    NaN                  NaN                  NaN   \n",
       "1                    NaN                  NaN                  NaN   \n",
       "2                    NaN                  NaN                  NaN   \n",
       "3             886.004428           663.774500           626.239128   \n",
       "4            6243.000000          5385.579736          7279.000000   \n",
       "..                   ...                  ...                  ...   \n",
       "902           233.596650           865.400000           686.500000   \n",
       "903                  NaN                  NaN                  NaN   \n",
       "904                  NaN                  NaN                  NaN   \n",
       "905                  NaN                  NaN                  NaN   \n",
       "906                  NaN                  NaN                  NaN   \n",
       "\n",
       "     generation_gwh_2019         generation_data_source  \\\n",
       "0                    NaN                            NaN   \n",
       "1                    NaN                            NaN   \n",
       "2                    NaN                            NaN   \n",
       "3                    NaN  Central Electricity Authority   \n",
       "4                    NaN  Central Electricity Authority   \n",
       "..                   ...                            ...   \n",
       "902                  NaN  Central Electricity Authority   \n",
       "903                  NaN                            NaN   \n",
       "904                  NaN                            NaN   \n",
       "905                  NaN                            NaN   \n",
       "906                  NaN                            NaN   \n",
       "\n",
       "     estimated_generation_gwh  \n",
       "0                         NaN  \n",
       "1                         NaN  \n",
       "2                         NaN  \n",
       "3                         NaN  \n",
       "4                         NaN  \n",
       "..                        ...  \n",
       "902                       NaN  \n",
       "903                       NaN  \n",
       "904                       NaN  \n",
       "905                       NaN  \n",
       "906                       NaN  \n",
       "\n",
       "[907 rows x 27 columns]"
      ]
     },
     "execution_count": 2,
     "metadata": {},
     "output_type": "execute_result"
    }
   ],
   "source": [
    "df = pd.read_csv(\"global-power-plant-database.csv\")\n",
    "\n",
    "# applying maximum display to check all the columns.\n",
    "pd.set_option('display.max_columns', None)\n",
    "df"
   ]
  },
  {
   "cell_type": "markdown",
   "id": "88fbe300",
   "metadata": {},
   "source": [
    "The dataset has 907 rows and 27 columns. So many Nan values are also there in the dataset.\n",
    "\n",
    "We can see that the dataset is comprised of 25 columns including two target variables capacity_mw and primary_fuel(Fuel_Type) where we need to predict both capacity_mw and Fuel Type.\n",
    "\n",
    "Since Fuel_Type is of categorical type so we will apply Classification model to predict Fuel_Type and capacity_mw is of numerical type so we will apply regression model to predict its values. "
   ]
  },
  {
   "cell_type": "markdown",
   "id": "6473ce2f",
   "metadata": {},
   "source": [
    "## EDA (Exploratory Data Analysis)"
   ]
  },
  {
   "cell_type": "code",
   "execution_count": 3,
   "id": "604da66f",
   "metadata": {},
   "outputs": [
    {
     "data": {
      "text/html": [
       "<div>\n",
       "<style scoped>\n",
       "    .dataframe tbody tr th:only-of-type {\n",
       "        vertical-align: middle;\n",
       "    }\n",
       "\n",
       "    .dataframe tbody tr th {\n",
       "        vertical-align: top;\n",
       "    }\n",
       "\n",
       "    .dataframe thead th {\n",
       "        text-align: right;\n",
       "    }\n",
       "</style>\n",
       "<table border=\"1\" class=\"dataframe\">\n",
       "  <thead>\n",
       "    <tr style=\"text-align: right;\">\n",
       "      <th></th>\n",
       "      <th>country</th>\n",
       "      <th>country_long</th>\n",
       "      <th>name</th>\n",
       "      <th>gppd_idnr</th>\n",
       "      <th>capacity_mw</th>\n",
       "      <th>latitude</th>\n",
       "      <th>longitude</th>\n",
       "      <th>primary_fuel</th>\n",
       "      <th>other_fuel1</th>\n",
       "      <th>other_fuel2</th>\n",
       "      <th>other_fuel3</th>\n",
       "      <th>commissioning_year</th>\n",
       "      <th>owner</th>\n",
       "      <th>source</th>\n",
       "      <th>url</th>\n",
       "      <th>geolocation_source</th>\n",
       "      <th>wepp_id</th>\n",
       "      <th>year_of_capacity_data</th>\n",
       "      <th>generation_gwh_2013</th>\n",
       "      <th>generation_gwh_2014</th>\n",
       "      <th>generation_gwh_2015</th>\n",
       "      <th>generation_gwh_2016</th>\n",
       "      <th>generation_gwh_2017</th>\n",
       "      <th>generation_gwh_2018</th>\n",
       "      <th>generation_gwh_2019</th>\n",
       "      <th>generation_data_source</th>\n",
       "      <th>estimated_generation_gwh</th>\n",
       "    </tr>\n",
       "  </thead>\n",
       "  <tbody>\n",
       "    <tr>\n",
       "      <th>0</th>\n",
       "      <td>IND</td>\n",
       "      <td>India</td>\n",
       "      <td>ACME Solar Tower</td>\n",
       "      <td>WRI1020239</td>\n",
       "      <td>2.5</td>\n",
       "      <td>28.1839</td>\n",
       "      <td>73.2407</td>\n",
       "      <td>Solar</td>\n",
       "      <td>NaN</td>\n",
       "      <td>NaN</td>\n",
       "      <td>NaN</td>\n",
       "      <td>2011.0</td>\n",
       "      <td>Solar Paces</td>\n",
       "      <td>National Renewable Energy Laboratory</td>\n",
       "      <td>http://www.nrel.gov/csp/solarpaces/project_det...</td>\n",
       "      <td>National Renewable Energy Laboratory</td>\n",
       "      <td>NaN</td>\n",
       "      <td>NaN</td>\n",
       "      <td>NaN</td>\n",
       "      <td>NaN</td>\n",
       "      <td>NaN</td>\n",
       "      <td>NaN</td>\n",
       "      <td>NaN</td>\n",
       "      <td>NaN</td>\n",
       "      <td>NaN</td>\n",
       "      <td>NaN</td>\n",
       "      <td>NaN</td>\n",
       "    </tr>\n",
       "    <tr>\n",
       "      <th>1</th>\n",
       "      <td>IND</td>\n",
       "      <td>India</td>\n",
       "      <td>ADITYA CEMENT WORKS</td>\n",
       "      <td>WRI1019881</td>\n",
       "      <td>98.0</td>\n",
       "      <td>24.7663</td>\n",
       "      <td>74.6090</td>\n",
       "      <td>Coal</td>\n",
       "      <td>NaN</td>\n",
       "      <td>NaN</td>\n",
       "      <td>NaN</td>\n",
       "      <td>NaN</td>\n",
       "      <td>Ultratech Cement ltd</td>\n",
       "      <td>Ultratech Cement ltd</td>\n",
       "      <td>http://www.ultratechcement.com/</td>\n",
       "      <td>WRI</td>\n",
       "      <td>NaN</td>\n",
       "      <td>NaN</td>\n",
       "      <td>NaN</td>\n",
       "      <td>NaN</td>\n",
       "      <td>NaN</td>\n",
       "      <td>NaN</td>\n",
       "      <td>NaN</td>\n",
       "      <td>NaN</td>\n",
       "      <td>NaN</td>\n",
       "      <td>NaN</td>\n",
       "      <td>NaN</td>\n",
       "    </tr>\n",
       "    <tr>\n",
       "      <th>2</th>\n",
       "      <td>IND</td>\n",
       "      <td>India</td>\n",
       "      <td>AES Saurashtra Windfarms</td>\n",
       "      <td>WRI1026669</td>\n",
       "      <td>39.2</td>\n",
       "      <td>21.9038</td>\n",
       "      <td>69.3732</td>\n",
       "      <td>Wind</td>\n",
       "      <td>NaN</td>\n",
       "      <td>NaN</td>\n",
       "      <td>NaN</td>\n",
       "      <td>NaN</td>\n",
       "      <td>AES</td>\n",
       "      <td>CDM</td>\n",
       "      <td>https://cdm.unfccc.int/Projects/DB/DNV-CUK1328...</td>\n",
       "      <td>WRI</td>\n",
       "      <td>NaN</td>\n",
       "      <td>NaN</td>\n",
       "      <td>NaN</td>\n",
       "      <td>NaN</td>\n",
       "      <td>NaN</td>\n",
       "      <td>NaN</td>\n",
       "      <td>NaN</td>\n",
       "      <td>NaN</td>\n",
       "      <td>NaN</td>\n",
       "      <td>NaN</td>\n",
       "      <td>NaN</td>\n",
       "    </tr>\n",
       "    <tr>\n",
       "      <th>3</th>\n",
       "      <td>IND</td>\n",
       "      <td>India</td>\n",
       "      <td>AGARTALA GT</td>\n",
       "      <td>IND0000001</td>\n",
       "      <td>135.0</td>\n",
       "      <td>23.8712</td>\n",
       "      <td>91.3602</td>\n",
       "      <td>Gas</td>\n",
       "      <td>NaN</td>\n",
       "      <td>NaN</td>\n",
       "      <td>NaN</td>\n",
       "      <td>2004.0</td>\n",
       "      <td>NaN</td>\n",
       "      <td>Central Electricity Authority</td>\n",
       "      <td>http://www.cea.nic.in/</td>\n",
       "      <td>WRI</td>\n",
       "      <td>NaN</td>\n",
       "      <td>2019.0</td>\n",
       "      <td>NaN</td>\n",
       "      <td>617.789264</td>\n",
       "      <td>843.747</td>\n",
       "      <td>886.004428</td>\n",
       "      <td>663.774500</td>\n",
       "      <td>626.239128</td>\n",
       "      <td>NaN</td>\n",
       "      <td>Central Electricity Authority</td>\n",
       "      <td>NaN</td>\n",
       "    </tr>\n",
       "    <tr>\n",
       "      <th>4</th>\n",
       "      <td>IND</td>\n",
       "      <td>India</td>\n",
       "      <td>AKALTARA TPP</td>\n",
       "      <td>IND0000002</td>\n",
       "      <td>1800.0</td>\n",
       "      <td>21.9603</td>\n",
       "      <td>82.4091</td>\n",
       "      <td>Coal</td>\n",
       "      <td>Oil</td>\n",
       "      <td>NaN</td>\n",
       "      <td>NaN</td>\n",
       "      <td>2015.0</td>\n",
       "      <td>NaN</td>\n",
       "      <td>Central Electricity Authority</td>\n",
       "      <td>http://www.cea.nic.in/</td>\n",
       "      <td>WRI</td>\n",
       "      <td>NaN</td>\n",
       "      <td>2019.0</td>\n",
       "      <td>NaN</td>\n",
       "      <td>3035.550000</td>\n",
       "      <td>5916.370</td>\n",
       "      <td>6243.000000</td>\n",
       "      <td>5385.579736</td>\n",
       "      <td>7279.000000</td>\n",
       "      <td>NaN</td>\n",
       "      <td>Central Electricity Authority</td>\n",
       "      <td>NaN</td>\n",
       "    </tr>\n",
       "  </tbody>\n",
       "</table>\n",
       "</div>"
      ],
      "text/plain": [
       "  country country_long                      name   gppd_idnr  capacity_mw  \\\n",
       "0     IND        India          ACME Solar Tower  WRI1020239          2.5   \n",
       "1     IND        India       ADITYA CEMENT WORKS  WRI1019881         98.0   \n",
       "2     IND        India  AES Saurashtra Windfarms  WRI1026669         39.2   \n",
       "3     IND        India               AGARTALA GT  IND0000001        135.0   \n",
       "4     IND        India              AKALTARA TPP  IND0000002       1800.0   \n",
       "\n",
       "   latitude  longitude primary_fuel other_fuel1 other_fuel2  other_fuel3  \\\n",
       "0   28.1839    73.2407        Solar         NaN         NaN          NaN   \n",
       "1   24.7663    74.6090         Coal         NaN         NaN          NaN   \n",
       "2   21.9038    69.3732         Wind         NaN         NaN          NaN   \n",
       "3   23.8712    91.3602          Gas         NaN         NaN          NaN   \n",
       "4   21.9603    82.4091         Coal         Oil         NaN          NaN   \n",
       "\n",
       "   commissioning_year                 owner  \\\n",
       "0              2011.0           Solar Paces   \n",
       "1                 NaN  Ultratech Cement ltd   \n",
       "2                 NaN                   AES   \n",
       "3              2004.0                   NaN   \n",
       "4              2015.0                   NaN   \n",
       "\n",
       "                                 source  \\\n",
       "0  National Renewable Energy Laboratory   \n",
       "1                  Ultratech Cement ltd   \n",
       "2                                   CDM   \n",
       "3         Central Electricity Authority   \n",
       "4         Central Electricity Authority   \n",
       "\n",
       "                                                 url  \\\n",
       "0  http://www.nrel.gov/csp/solarpaces/project_det...   \n",
       "1                    http://www.ultratechcement.com/   \n",
       "2  https://cdm.unfccc.int/Projects/DB/DNV-CUK1328...   \n",
       "3                             http://www.cea.nic.in/   \n",
       "4                             http://www.cea.nic.in/   \n",
       "\n",
       "                     geolocation_source  wepp_id  year_of_capacity_data  \\\n",
       "0  National Renewable Energy Laboratory      NaN                    NaN   \n",
       "1                                   WRI      NaN                    NaN   \n",
       "2                                   WRI      NaN                    NaN   \n",
       "3                                   WRI      NaN                 2019.0   \n",
       "4                                   WRI      NaN                 2019.0   \n",
       "\n",
       "   generation_gwh_2013  generation_gwh_2014  generation_gwh_2015  \\\n",
       "0                  NaN                  NaN                  NaN   \n",
       "1                  NaN                  NaN                  NaN   \n",
       "2                  NaN                  NaN                  NaN   \n",
       "3                  NaN           617.789264              843.747   \n",
       "4                  NaN          3035.550000             5916.370   \n",
       "\n",
       "   generation_gwh_2016  generation_gwh_2017  generation_gwh_2018  \\\n",
       "0                  NaN                  NaN                  NaN   \n",
       "1                  NaN                  NaN                  NaN   \n",
       "2                  NaN                  NaN                  NaN   \n",
       "3           886.004428           663.774500           626.239128   \n",
       "4          6243.000000          5385.579736          7279.000000   \n",
       "\n",
       "   generation_gwh_2019         generation_data_source  \\\n",
       "0                  NaN                            NaN   \n",
       "1                  NaN                            NaN   \n",
       "2                  NaN                            NaN   \n",
       "3                  NaN  Central Electricity Authority   \n",
       "4                  NaN  Central Electricity Authority   \n",
       "\n",
       "   estimated_generation_gwh  \n",
       "0                       NaN  \n",
       "1                       NaN  \n",
       "2                       NaN  \n",
       "3                       NaN  \n",
       "4                       NaN  "
      ]
     },
     "execution_count": 3,
     "metadata": {},
     "output_type": "execute_result"
    }
   ],
   "source": [
    "df.head()"
   ]
  },
  {
   "cell_type": "code",
   "execution_count": 4,
   "id": "6e511497",
   "metadata": {},
   "outputs": [
    {
     "data": {
      "text/plain": [
       "(907, 27)"
      ]
     },
     "execution_count": 4,
     "metadata": {},
     "output_type": "execute_result"
    }
   ],
   "source": [
    "df.shape"
   ]
  },
  {
   "cell_type": "markdown",
   "id": "76185099",
   "metadata": {},
   "source": [
    "The dataset has 907 rows and 27 columns"
   ]
  },
  {
   "cell_type": "code",
   "execution_count": 5,
   "id": "bbf7792f",
   "metadata": {},
   "outputs": [
    {
     "data": {
      "text/plain": [
       "Index(['country', 'country_long', 'name', 'gppd_idnr', 'capacity_mw',\n",
       "       'latitude', 'longitude', 'primary_fuel', 'other_fuel1', 'other_fuel2',\n",
       "       'other_fuel3', 'commissioning_year', 'owner', 'source', 'url',\n",
       "       'geolocation_source', 'wepp_id', 'year_of_capacity_data',\n",
       "       'generation_gwh_2013', 'generation_gwh_2014', 'generation_gwh_2015',\n",
       "       'generation_gwh_2016', 'generation_gwh_2017', 'generation_gwh_2018',\n",
       "       'generation_gwh_2019', 'generation_data_source',\n",
       "       'estimated_generation_gwh'],\n",
       "      dtype='object')"
      ]
     },
     "execution_count": 5,
     "metadata": {},
     "output_type": "execute_result"
    }
   ],
   "source": [
    "df.columns"
   ]
  },
  {
   "cell_type": "code",
   "execution_count": 6,
   "id": "0b1d8974",
   "metadata": {},
   "outputs": [
    {
     "name": "stdout",
     "output_type": "stream",
     "text": [
      "<class 'pandas.core.frame.DataFrame'>\n",
      "RangeIndex: 907 entries, 0 to 906\n",
      "Data columns (total 27 columns):\n",
      " #   Column                    Non-Null Count  Dtype  \n",
      "---  ------                    --------------  -----  \n",
      " 0   country                   907 non-null    object \n",
      " 1   country_long              907 non-null    object \n",
      " 2   name                      907 non-null    object \n",
      " 3   gppd_idnr                 907 non-null    object \n",
      " 4   capacity_mw               907 non-null    float64\n",
      " 5   latitude                  861 non-null    float64\n",
      " 6   longitude                 861 non-null    float64\n",
      " 7   primary_fuel              907 non-null    object \n",
      " 8   other_fuel1               198 non-null    object \n",
      " 9   other_fuel2               1 non-null      object \n",
      " 10  other_fuel3               0 non-null      float64\n",
      " 11  commissioning_year        527 non-null    float64\n",
      " 12  owner                     342 non-null    object \n",
      " 13  source                    907 non-null    object \n",
      " 14  url                       907 non-null    object \n",
      " 15  geolocation_source        888 non-null    object \n",
      " 16  wepp_id                   0 non-null      float64\n",
      " 17  year_of_capacity_data     519 non-null    float64\n",
      " 18  generation_gwh_2013       0 non-null      float64\n",
      " 19  generation_gwh_2014       398 non-null    float64\n",
      " 20  generation_gwh_2015       422 non-null    float64\n",
      " 21  generation_gwh_2016       434 non-null    float64\n",
      " 22  generation_gwh_2017       440 non-null    float64\n",
      " 23  generation_gwh_2018       448 non-null    float64\n",
      " 24  generation_gwh_2019       0 non-null      float64\n",
      " 25  generation_data_source    449 non-null    object \n",
      " 26  estimated_generation_gwh  0 non-null      float64\n",
      "dtypes: float64(15), object(12)\n",
      "memory usage: 191.4+ KB\n"
     ]
    }
   ],
   "source": [
    "df.info()"
   ]
  },
  {
   "cell_type": "markdown",
   "id": "fd38739d",
   "metadata": {},
   "source": [
    "There are 12 object type columns including primary_fuel and remaining 13 columns float types including capacity_mw in the datasets.We will handle object dtype and numerical dtype seperately by simple imputer and label encoder techniques.\n",
    "\n",
    "There are so many null values in the dataset. Let's check the columns which have null values more than 50%."
   ]
  },
  {
   "cell_type": "markdown",
   "id": "42f9e9ac",
   "metadata": {},
   "source": [
    "#### Missing Data"
   ]
  },
  {
   "cell_type": "code",
   "execution_count": 7,
   "id": "00005f9d",
   "metadata": {},
   "outputs": [
    {
     "data": {
      "text/plain": [
       "country                       0\n",
       "country_long                  0\n",
       "name                          0\n",
       "gppd_idnr                     0\n",
       "capacity_mw                   0\n",
       "latitude                     46\n",
       "longitude                    46\n",
       "primary_fuel                  0\n",
       "other_fuel1                 709\n",
       "other_fuel2                 906\n",
       "other_fuel3                 907\n",
       "commissioning_year          380\n",
       "owner                       565\n",
       "source                        0\n",
       "url                           0\n",
       "geolocation_source           19\n",
       "wepp_id                     907\n",
       "year_of_capacity_data       388\n",
       "generation_gwh_2013         907\n",
       "generation_gwh_2014         509\n",
       "generation_gwh_2015         485\n",
       "generation_gwh_2016         473\n",
       "generation_gwh_2017         467\n",
       "generation_gwh_2018         459\n",
       "generation_gwh_2019         907\n",
       "generation_data_source      458\n",
       "estimated_generation_gwh    907\n",
       "dtype: int64"
      ]
     },
     "execution_count": 7,
     "metadata": {},
     "output_type": "execute_result"
    }
   ],
   "source": [
    "df.isnull().sum()"
   ]
  },
  {
   "cell_type": "markdown",
   "id": "639d2d9c",
   "metadata": {},
   "source": [
    "So many columns have missing datas. We are going to remove some columns those having maximum no of null values because if we fill those values, prediction will not be correct. Few Columns that have more than 50% (more than 454 rows) of missing data and will need to be deleted are:\n",
    "\n",
    "other_fuel1 \n",
    "\n",
    "other_fuel2   \n",
    "\n",
    "other_fuel3\n",
    "\n",
    "owner \n",
    "\n",
    "wepp_id\n",
    "\n",
    "generation_gwh_2013    \n",
    "\n",
    "generation_gwh_2014  \n",
    "\n",
    "generation_gwh_2015  \n",
    "\n",
    "generation_gwh_2019\n",
    "\n",
    "estimated_generation_gwh "
   ]
  },
  {
   "cell_type": "code",
   "execution_count": 8,
   "id": "e8e6213d",
   "metadata": {},
   "outputs": [
    {
     "data": {
      "text/plain": [
       "country                       1\n",
       "country_long                  1\n",
       "name                        907\n",
       "gppd_idnr                   907\n",
       "capacity_mw                 361\n",
       "latitude                    836\n",
       "longitude                   827\n",
       "primary_fuel                  8\n",
       "other_fuel1                   3\n",
       "other_fuel2                   1\n",
       "other_fuel3                   0\n",
       "commissioning_year           73\n",
       "owner                       280\n",
       "source                      191\n",
       "url                         304\n",
       "geolocation_source            3\n",
       "wepp_id                       0\n",
       "year_of_capacity_data         1\n",
       "generation_gwh_2013           0\n",
       "generation_gwh_2014         371\n",
       "generation_gwh_2015         396\n",
       "generation_gwh_2016         403\n",
       "generation_gwh_2017         408\n",
       "generation_gwh_2018         410\n",
       "generation_gwh_2019           0\n",
       "generation_data_source        1\n",
       "estimated_generation_gwh      0\n",
       "dtype: int64"
      ]
     },
     "execution_count": 8,
     "metadata": {},
     "output_type": "execute_result"
    }
   ],
   "source": [
    "# Checking number of unique values in each column\n",
    "df.nunique()\n"
   ]
  },
  {
   "cell_type": "markdown",
   "id": "e96ed4a0",
   "metadata": {},
   "source": [
    "Here we can see that column country, country_long has only one value-India.\n",
    "\n",
    "Also other_fuels 3 has no values at all, other_fuels2 has only 1 type of values in only 1 row, rest rows have Nan values, Same is happening with other_fuel1 column, all the rows have nan values except 3 rows.\n",
    "\n",
    "wepp_id , year_of_capacity_data, generation_gwh_2013,generation_gwh_2019, generation_data_source, estimated_generation_gwh  also has either only on evalue or no values and filled with NaN values .\n",
    "\n",
    " Since these columns have same entries thoughout the dataset and these columns will have no effect on prediction because of same value.so we can drop these columns."
   ]
  },
  {
   "cell_type": "markdown",
   "id": "221953be",
   "metadata": {},
   "source": [
    "### Feature Selection"
   ]
  },
  {
   "cell_type": "code",
   "execution_count": 9,
   "id": "767413c7",
   "metadata": {},
   "outputs": [
    {
     "data": {
      "text/plain": [
       "IND    907\n",
       "Name: country, dtype: int64"
      ]
     },
     "execution_count": 9,
     "metadata": {},
     "output_type": "execute_result"
    }
   ],
   "source": [
    "# Checking the count of the country\n",
    "df[\"country\"].value_counts()"
   ]
  },
  {
   "cell_type": "code",
   "execution_count": 10,
   "id": "870d7446",
   "metadata": {},
   "outputs": [],
   "source": [
    "df.drop(columns=[\"country\",\"country_long\"],axis=1,inplace=True)"
   ]
  },
  {
   "cell_type": "code",
   "execution_count": 11,
   "id": "2fb0628e",
   "metadata": {},
   "outputs": [],
   "source": [
    "# Dropping irrelevant columns\n",
    "df.drop(columns=[\"other_fuel1\",\"other_fuel2\",\"other_fuel3\", \"year_of_capacity_data\",\"generation_data_source\",\"wepp_id\",\"estimated_generation_gwh\"], axis=1, inplace=True)"
   ]
  },
  {
   "cell_type": "code",
   "execution_count": 12,
   "id": "f6f5b131",
   "metadata": {},
   "outputs": [
    {
     "data": {
      "text/plain": [
       "ALLAIN DUHANGAN                 1\n",
       "TEESTA LOW DAM -IV              1\n",
       "Bhat Khedi Wind Farm            1\n",
       "NEYVELI ST II                   1\n",
       "Patan Taluka Wind Farm          1\n",
       "                               ..\n",
       "MUNOLI DISTILLERY               1\n",
       "Khilchipur Solar Power Plant    1\n",
       "STAKNA                          1\n",
       "PAWANA                          1\n",
       "FARAKKA STPS                    1\n",
       "Name: name, Length: 907, dtype: int64"
      ]
     },
     "execution_count": 12,
     "metadata": {},
     "output_type": "execute_result"
    }
   ],
   "source": [
    "# Checking the count of name\n",
    "df[\"name\"].value_counts()"
   ]
  },
  {
   "cell_type": "code",
   "execution_count": 13,
   "id": "062e6ffb",
   "metadata": {},
   "outputs": [
    {
     "data": {
      "text/plain": [
       "WRI1020010    1\n",
       "WRI1019910    1\n",
       "IND0000137    1\n",
       "WRI1020008    1\n",
       "IND0000260    1\n",
       "             ..\n",
       "IND0000272    1\n",
       "WRI1019933    1\n",
       "WRI1026064    1\n",
       "WRI1019900    1\n",
       "IND0000221    1\n",
       "Name: gppd_idnr, Length: 907, dtype: int64"
      ]
     },
     "execution_count": 13,
     "metadata": {},
     "output_type": "execute_result"
    }
   ],
   "source": [
    "df[\"gppd_idnr\"].value_counts()"
   ]
  },
  {
   "cell_type": "markdown",
   "id": "50a9c61d",
   "metadata": {},
   "source": [
    "We can see that each power plant has unique name and gppd_idnr. Hence we can drop these features.\n",
    "\n",
    "Also, we see that there is a column \"url\" which basically holds web document links and values such as those or descriptions do not really help in machine learning models and we will be deleteing it too."
   ]
  },
  {
   "cell_type": "code",
   "execution_count": 14,
   "id": "adcac007",
   "metadata": {},
   "outputs": [],
   "source": [
    "#Dropping the columns that has more than 50% null values or no impact on the prediction\n",
    "df.drop(\"name\",axis=1,inplace=True) \n",
    "df.drop(\"gppd_idnr\",axis=1,inplace=True)\n",
    "df.drop(\"owner\",axis=1,inplace=True)\n",
    "df.drop(\"url\",axis=1,inplace=True)\n",
    "df.drop(\"generation_gwh_2013\",axis=1,inplace=True) # All the 907 values are null values\n",
    "df.drop(\"generation_gwh_2019\",axis=1,inplace=True) # All the 907 values are null values\n",
    "df.drop(\"generation_gwh_2017\",axis=1,inplace=True) # 467 rows have null values\n",
    "df.drop(\"generation_gwh_2014\",axis=1,inplace=True) # 509 rows have null values\n",
    "df.drop(\"generation_gwh_2015\",axis=1,inplace=True) # 485 rows have null values"
   ]
  },
  {
   "cell_type": "code",
   "execution_count": 15,
   "id": "60c3be97",
   "metadata": {},
   "outputs": [
    {
     "data": {
      "text/plain": [
       "(907, 9)"
      ]
     },
     "execution_count": 15,
     "metadata": {},
     "output_type": "execute_result"
    }
   ],
   "source": [
    "df.shape"
   ]
  },
  {
   "cell_type": "markdown",
   "id": "05071728",
   "metadata": {},
   "source": [
    "Now we have 10 columns left.\n",
    "Let's check the null values again"
   ]
  },
  {
   "cell_type": "code",
   "execution_count": 16,
   "id": "37da741d",
   "metadata": {},
   "outputs": [
    {
     "data": {
      "text/plain": [
       "capacity_mw              0\n",
       "latitude                46\n",
       "longitude               46\n",
       "primary_fuel             0\n",
       "commissioning_year     380\n",
       "source                   0\n",
       "geolocation_source      19\n",
       "generation_gwh_2016    473\n",
       "generation_gwh_2018    459\n",
       "dtype: int64"
      ]
     },
     "execution_count": 16,
     "metadata": {},
     "output_type": "execute_result"
    }
   ],
   "source": [
    "# Checking null values again after feature selection\n",
    "df.isnull().sum()"
   ]
  },
  {
   "cell_type": "code",
   "execution_count": 17,
   "id": "168ad2e8",
   "metadata": {},
   "outputs": [
    {
     "data": {
      "text/plain": [
       "<AxesSubplot:>"
      ]
     },
     "execution_count": 17,
     "metadata": {},
     "output_type": "execute_result"
    },
    {
     "data": {
      "image/png": "[encoded data removed]",
      "text/plain": [
       "<Figure size 432x288 with 2 Axes>"
      ]
     },
     "metadata": {
      "needs_background": "light"
     },
     "output_type": "display_data"
    }
   ],
   "source": [
    "# Let's visualize the null values clearly\n",
    "sns.heatmap(df.isnull())"
   ]
  },
  {
   "cell_type": "markdown",
   "id": "76dfbcf5",
   "metadata": {},
   "source": [
    "We can clearly observe the white lines in the heat map which indicates the missing values in the dataset."
   ]
  },
  {
   "cell_type": "markdown",
   "id": "d54db9ee",
   "metadata": {},
   "source": [
    "### Treating null values using imputation techniques."
   ]
  },
  {
   "cell_type": "code",
   "execution_count": 18,
   "id": "c2ac5c98",
   "metadata": {},
   "outputs": [
    {
     "data": {
      "text/plain": [
       "capacity_mw            float64\n",
       "latitude               float64\n",
       "longitude              float64\n",
       "primary_fuel            object\n",
       "commissioning_year     float64\n",
       "source                  object\n",
       "geolocation_source      object\n",
       "generation_gwh_2016    float64\n",
       "generation_gwh_2018    float64\n",
       "dtype: object"
      ]
     },
     "execution_count": 18,
     "metadata": {},
     "output_type": "execute_result"
    }
   ],
   "source": [
    "df.dtypes"
   ]
  },
  {
   "cell_type": "code",
   "execution_count": 19,
   "id": "a7d16c46",
   "metadata": {},
   "outputs": [],
   "source": [
    "from sklearn.impute import SimpleImputer\n",
    "\n",
    "#For Object dtype columns\n",
    "imp_O= SimpleImputer(strategy=\"most_frequent\")\n",
    "df[\"primary_fuel\"]= imp_O.fit_transform(df[\"primary_fuel\"].values.reshape(-1,1))\n",
    "df[\"source\"]= imp_O.fit_transform(df[\"source\"].values.reshape(-1,1))\n",
    "df[\"geolocation_source\"]= imp_O.fit_transform(df[\"geolocation_source\"].values.reshape(-1,1))\n",
    "\n",
    "#For float dtype columns\n",
    "imp_N= SimpleImputer(strategy=\"mean\")\n",
    "df[\"capacity_mw\"]= imp_N.fit_transform(df[\"capacity_mw\"].values.reshape(-1,1))\n",
    "df[\"latitude\"]= imp_N.fit_transform(df[\"latitude\"].values.reshape(-1,1))\n",
    "df[\"longitude\"]= imp_N.fit_transform(df[\"longitude\"].values.reshape(-1,1))\n",
    "df[\"commissioning_year\"]= imp_N.fit_transform(df[\"commissioning_year\"].values.reshape(-1,1))\n",
    "df[\"generation_gwh_2016\"]= imp_N.fit_transform(df[\"generation_gwh_2016\"].values.reshape(-1,1))\n",
    "df[\"generation_gwh_2018\"]= imp_N.fit_transform(df[\"generation_gwh_2018\"].values.reshape(-1,1))\n"
   ]
  },
  {
   "cell_type": "code",
   "execution_count": 20,
   "id": "1fc06346",
   "metadata": {},
   "outputs": [
    {
     "data": {
      "text/html": [
       "<div>\n",
       "<style scoped>\n",
       "    .dataframe tbody tr th:only-of-type {\n",
       "        vertical-align: middle;\n",
       "    }\n",
       "\n",
       "    .dataframe tbody tr th {\n",
       "        vertical-align: top;\n",
       "    }\n",
       "\n",
       "    .dataframe thead th {\n",
       "        text-align: right;\n",
       "    }\n",
       "</style>\n",
       "<table border=\"1\" class=\"dataframe\">\n",
       "  <thead>\n",
       "    <tr style=\"text-align: right;\">\n",
       "      <th></th>\n",
       "      <th>capacity_mw</th>\n",
       "      <th>latitude</th>\n",
       "      <th>longitude</th>\n",
       "      <th>primary_fuel</th>\n",
       "      <th>commissioning_year</th>\n",
       "      <th>source</th>\n",
       "      <th>geolocation_source</th>\n",
       "      <th>generation_gwh_2016</th>\n",
       "      <th>generation_gwh_2018</th>\n",
       "    </tr>\n",
       "  </thead>\n",
       "  <tbody>\n",
       "    <tr>\n",
       "      <th>0</th>\n",
       "      <td>2.5</td>\n",
       "      <td>28.1839</td>\n",
       "      <td>73.2407</td>\n",
       "      <td>Solar</td>\n",
       "      <td>2011.000000</td>\n",
       "      <td>National Renewable Energy Laboratory</td>\n",
       "      <td>National Renewable Energy Laboratory</td>\n",
       "      <td>2467.936859</td>\n",
       "      <td>2600.804099</td>\n",
       "    </tr>\n",
       "    <tr>\n",
       "      <th>1</th>\n",
       "      <td>98.0</td>\n",
       "      <td>24.7663</td>\n",
       "      <td>74.6090</td>\n",
       "      <td>Coal</td>\n",
       "      <td>1997.091082</td>\n",
       "      <td>Ultratech Cement ltd</td>\n",
       "      <td>WRI</td>\n",
       "      <td>2467.936859</td>\n",
       "      <td>2600.804099</td>\n",
       "    </tr>\n",
       "    <tr>\n",
       "      <th>2</th>\n",
       "      <td>39.2</td>\n",
       "      <td>21.9038</td>\n",
       "      <td>69.3732</td>\n",
       "      <td>Wind</td>\n",
       "      <td>1997.091082</td>\n",
       "      <td>CDM</td>\n",
       "      <td>WRI</td>\n",
       "      <td>2467.936859</td>\n",
       "      <td>2600.804099</td>\n",
       "    </tr>\n",
       "    <tr>\n",
       "      <th>3</th>\n",
       "      <td>135.0</td>\n",
       "      <td>23.8712</td>\n",
       "      <td>91.3602</td>\n",
       "      <td>Gas</td>\n",
       "      <td>2004.000000</td>\n",
       "      <td>Central Electricity Authority</td>\n",
       "      <td>WRI</td>\n",
       "      <td>886.004428</td>\n",
       "      <td>626.239128</td>\n",
       "    </tr>\n",
       "    <tr>\n",
       "      <th>4</th>\n",
       "      <td>1800.0</td>\n",
       "      <td>21.9603</td>\n",
       "      <td>82.4091</td>\n",
       "      <td>Coal</td>\n",
       "      <td>2015.000000</td>\n",
       "      <td>Central Electricity Authority</td>\n",
       "      <td>WRI</td>\n",
       "      <td>6243.000000</td>\n",
       "      <td>7279.000000</td>\n",
       "    </tr>\n",
       "    <tr>\n",
       "      <th>...</th>\n",
       "      <td>...</td>\n",
       "      <td>...</td>\n",
       "      <td>...</td>\n",
       "      <td>...</td>\n",
       "      <td>...</td>\n",
       "      <td>...</td>\n",
       "      <td>...</td>\n",
       "      <td>...</td>\n",
       "      <td>...</td>\n",
       "    </tr>\n",
       "    <tr>\n",
       "      <th>902</th>\n",
       "      <td>1600.0</td>\n",
       "      <td>16.2949</td>\n",
       "      <td>77.3568</td>\n",
       "      <td>Coal</td>\n",
       "      <td>2016.000000</td>\n",
       "      <td>Central Electricity Authority</td>\n",
       "      <td>WRI</td>\n",
       "      <td>233.596650</td>\n",
       "      <td>686.500000</td>\n",
       "    </tr>\n",
       "    <tr>\n",
       "      <th>903</th>\n",
       "      <td>3.0</td>\n",
       "      <td>12.8932</td>\n",
       "      <td>78.1654</td>\n",
       "      <td>Solar</td>\n",
       "      <td>1997.091082</td>\n",
       "      <td>Karnataka Power Corporation Limited</td>\n",
       "      <td>Industry About</td>\n",
       "      <td>2467.936859</td>\n",
       "      <td>2600.804099</td>\n",
       "    </tr>\n",
       "    <tr>\n",
       "      <th>904</th>\n",
       "      <td>25.5</td>\n",
       "      <td>15.2758</td>\n",
       "      <td>75.5811</td>\n",
       "      <td>Wind</td>\n",
       "      <td>1997.091082</td>\n",
       "      <td>CDM</td>\n",
       "      <td>WRI</td>\n",
       "      <td>2467.936859</td>\n",
       "      <td>2600.804099</td>\n",
       "    </tr>\n",
       "    <tr>\n",
       "      <th>905</th>\n",
       "      <td>80.0</td>\n",
       "      <td>24.3500</td>\n",
       "      <td>73.7477</td>\n",
       "      <td>Coal</td>\n",
       "      <td>1997.091082</td>\n",
       "      <td>Hindustan Zinc ltd</td>\n",
       "      <td>WRI</td>\n",
       "      <td>2467.936859</td>\n",
       "      <td>2600.804099</td>\n",
       "    </tr>\n",
       "    <tr>\n",
       "      <th>906</th>\n",
       "      <td>16.5</td>\n",
       "      <td>9.9344</td>\n",
       "      <td>77.4768</td>\n",
       "      <td>Wind</td>\n",
       "      <td>1997.091082</td>\n",
       "      <td>CDM</td>\n",
       "      <td>WRI</td>\n",
       "      <td>2467.936859</td>\n",
       "      <td>2600.804099</td>\n",
       "    </tr>\n",
       "  </tbody>\n",
       "</table>\n",
       "<p>907 rows × 9 columns</p>\n",
       "</div>"
      ],
      "text/plain": [
       "     capacity_mw  latitude  longitude primary_fuel  commissioning_year  \\\n",
       "0            2.5   28.1839    73.2407        Solar         2011.000000   \n",
       "1           98.0   24.7663    74.6090         Coal         1997.091082   \n",
       "2           39.2   21.9038    69.3732         Wind         1997.091082   \n",
       "3          135.0   23.8712    91.3602          Gas         2004.000000   \n",
       "4         1800.0   21.9603    82.4091         Coal         2015.000000   \n",
       "..           ...       ...        ...          ...                 ...   \n",
       "902       1600.0   16.2949    77.3568         Coal         2016.000000   \n",
       "903          3.0   12.8932    78.1654        Solar         1997.091082   \n",
       "904         25.5   15.2758    75.5811         Wind         1997.091082   \n",
       "905         80.0   24.3500    73.7477         Coal         1997.091082   \n",
       "906         16.5    9.9344    77.4768         Wind         1997.091082   \n",
       "\n",
       "                                   source  \\\n",
       "0    National Renewable Energy Laboratory   \n",
       "1                    Ultratech Cement ltd   \n",
       "2                                     CDM   \n",
       "3           Central Electricity Authority   \n",
       "4           Central Electricity Authority   \n",
       "..                                    ...   \n",
       "902         Central Electricity Authority   \n",
       "903   Karnataka Power Corporation Limited   \n",
       "904                                   CDM   \n",
       "905                    Hindustan Zinc ltd   \n",
       "906                                   CDM   \n",
       "\n",
       "                       geolocation_source  generation_gwh_2016  \\\n",
       "0    National Renewable Energy Laboratory          2467.936859   \n",
       "1                                     WRI          2467.936859   \n",
       "2                                     WRI          2467.936859   \n",
       "3                                     WRI           886.004428   \n",
       "4                                     WRI          6243.000000   \n",
       "..                                    ...                  ...   \n",
       "902                                   WRI           233.596650   \n",
       "903                        Industry About          2467.936859   \n",
       "904                                   WRI          2467.936859   \n",
       "905                                   WRI          2467.936859   \n",
       "906                                   WRI          2467.936859   \n",
       "\n",
       "     generation_gwh_2018  \n",
       "0            2600.804099  \n",
       "1            2600.804099  \n",
       "2            2600.804099  \n",
       "3             626.239128  \n",
       "4            7279.000000  \n",
       "..                   ...  \n",
       "902           686.500000  \n",
       "903          2600.804099  \n",
       "904          2600.804099  \n",
       "905          2600.804099  \n",
       "906          2600.804099  \n",
       "\n",
       "[907 rows x 9 columns]"
      ]
     },
     "execution_count": 20,
     "metadata": {},
     "output_type": "execute_result"
    }
   ],
   "source": [
    "df"
   ]
  },
  {
   "cell_type": "code",
   "execution_count": 21,
   "id": "7b830e9f",
   "metadata": {},
   "outputs": [
    {
     "data": {
      "text/plain": [
       "capacity_mw            0\n",
       "latitude               0\n",
       "longitude              0\n",
       "primary_fuel           0\n",
       "commissioning_year     0\n",
       "source                 0\n",
       "geolocation_source     0\n",
       "generation_gwh_2016    0\n",
       "generation_gwh_2018    0\n",
       "dtype: int64"
      ]
     },
     "execution_count": 21,
     "metadata": {},
     "output_type": "execute_result"
    }
   ],
   "source": [
    "#Again checking the null values\n",
    "\n",
    "df.isnull().sum()"
   ]
  },
  {
   "cell_type": "code",
   "execution_count": 22,
   "id": "d760433f",
   "metadata": {},
   "outputs": [
    {
     "data": {
      "text/plain": [
       "<AxesSubplot:>"
      ]
     },
     "execution_count": 22,
     "metadata": {},
     "output_type": "execute_result"
    },
    {
     "data": {
      "image/png": "[encoded data removed]",
      "text/plain": [
       "<Figure size 432x288 with 2 Axes>"
      ]
     },
     "metadata": {
      "needs_background": "light"
     },
     "output_type": "display_data"
    }
   ],
   "source": [
    "sns.heatmap(df.isnull())"
   ]
  },
  {
   "cell_type": "markdown",
   "id": "4f887165",
   "metadata": {},
   "source": [
    "Now there is no null values in any of the columns."
   ]
  },
  {
   "cell_type": "markdown",
   "id": "f3a20f44",
   "metadata": {},
   "source": [
    "## Statistics Summary"
   ]
  },
  {
   "cell_type": "code",
   "execution_count": 23,
   "id": "8c52b0c6",
   "metadata": {},
   "outputs": [
    {
     "data": {
      "text/html": [
       "<div>\n",
       "<style scoped>\n",
       "    .dataframe tbody tr th:only-of-type {\n",
       "        vertical-align: middle;\n",
       "    }\n",
       "\n",
       "    .dataframe tbody tr th {\n",
       "        vertical-align: top;\n",
       "    }\n",
       "\n",
       "    .dataframe thead th {\n",
       "        text-align: right;\n",
       "    }\n",
       "</style>\n",
       "<table border=\"1\" class=\"dataframe\">\n",
       "  <thead>\n",
       "    <tr style=\"text-align: right;\">\n",
       "      <th></th>\n",
       "      <th>capacity_mw</th>\n",
       "      <th>latitude</th>\n",
       "      <th>longitude</th>\n",
       "      <th>commissioning_year</th>\n",
       "      <th>generation_gwh_2016</th>\n",
       "      <th>generation_gwh_2018</th>\n",
       "    </tr>\n",
       "  </thead>\n",
       "  <tbody>\n",
       "    <tr>\n",
       "      <th>count</th>\n",
       "      <td>907.000000</td>\n",
       "      <td>907.000000</td>\n",
       "      <td>907.000000</td>\n",
       "      <td>907.000000</td>\n",
       "      <td>907.000000</td>\n",
       "      <td>907.000000</td>\n",
       "    </tr>\n",
       "    <tr>\n",
       "      <th>mean</th>\n",
       "      <td>326.223755</td>\n",
       "      <td>21.197918</td>\n",
       "      <td>77.464907</td>\n",
       "      <td>1997.091082</td>\n",
       "      <td>2467.936859</td>\n",
       "      <td>2600.804099</td>\n",
       "    </tr>\n",
       "    <tr>\n",
       "      <th>std</th>\n",
       "      <td>590.085456</td>\n",
       "      <td>6.079148</td>\n",
       "      <td>4.812291</td>\n",
       "      <td>13.016360</td>\n",
       "      <td>2877.890004</td>\n",
       "      <td>3030.808041</td>\n",
       "    </tr>\n",
       "    <tr>\n",
       "      <th>min</th>\n",
       "      <td>0.000000</td>\n",
       "      <td>8.168900</td>\n",
       "      <td>68.644700</td>\n",
       "      <td>1927.000000</td>\n",
       "      <td>0.000000</td>\n",
       "      <td>0.000000</td>\n",
       "    </tr>\n",
       "    <tr>\n",
       "      <th>25%</th>\n",
       "      <td>16.725000</td>\n",
       "      <td>17.072000</td>\n",
       "      <td>74.388900</td>\n",
       "      <td>1997.091082</td>\n",
       "      <td>896.500214</td>\n",
       "      <td>824.842340</td>\n",
       "    </tr>\n",
       "    <tr>\n",
       "      <th>50%</th>\n",
       "      <td>59.200000</td>\n",
       "      <td>21.281800</td>\n",
       "      <td>76.979200</td>\n",
       "      <td>1997.091082</td>\n",
       "      <td>2467.936859</td>\n",
       "      <td>2600.804099</td>\n",
       "    </tr>\n",
       "    <tr>\n",
       "      <th>75%</th>\n",
       "      <td>385.250000</td>\n",
       "      <td>25.176450</td>\n",
       "      <td>79.206100</td>\n",
       "      <td>2003.000000</td>\n",
       "      <td>2467.936859</td>\n",
       "      <td>2600.804099</td>\n",
       "    </tr>\n",
       "    <tr>\n",
       "      <th>max</th>\n",
       "      <td>4760.000000</td>\n",
       "      <td>34.649000</td>\n",
       "      <td>95.408000</td>\n",
       "      <td>2018.000000</td>\n",
       "      <td>30015.000000</td>\n",
       "      <td>35136.000000</td>\n",
       "    </tr>\n",
       "  </tbody>\n",
       "</table>\n",
       "</div>"
      ],
      "text/plain": [
       "       capacity_mw    latitude   longitude  commissioning_year  \\\n",
       "count   907.000000  907.000000  907.000000          907.000000   \n",
       "mean    326.223755   21.197918   77.464907         1997.091082   \n",
       "std     590.085456    6.079148    4.812291           13.016360   \n",
       "min       0.000000    8.168900   68.644700         1927.000000   \n",
       "25%      16.725000   17.072000   74.388900         1997.091082   \n",
       "50%      59.200000   21.281800   76.979200         1997.091082   \n",
       "75%     385.250000   25.176450   79.206100         2003.000000   \n",
       "max    4760.000000   34.649000   95.408000         2018.000000   \n",
       "\n",
       "       generation_gwh_2016  generation_gwh_2018  \n",
       "count           907.000000           907.000000  \n",
       "mean           2467.936859          2600.804099  \n",
       "std            2877.890004          3030.808041  \n",
       "min               0.000000             0.000000  \n",
       "25%             896.500214           824.842340  \n",
       "50%            2467.936859          2600.804099  \n",
       "75%            2467.936859          2600.804099  \n",
       "max           30015.000000         35136.000000  "
      ]
     },
     "execution_count": 23,
     "metadata": {},
     "output_type": "execute_result"
    }
   ],
   "source": [
    "# For all numerical variables\n",
    "df.describe() "
   ]
  },
  {
   "cell_type": "markdown",
   "id": "0d7aa004",
   "metadata": {},
   "source": [
    "We can observe that the count of the columns are same, which means the dataset is balanced. The minimum capacity of the power plant is zero and maximum in 4760 and there is huge difference in mean and standard deviation.From the difference between maximum and 75% percentile we can infer that there are huge outliers present in most of the columns, will remove them using appropriate methods before building our model."
   ]
  },
  {
   "cell_type": "code",
   "execution_count": 24,
   "id": "aed555af",
   "metadata": {},
   "outputs": [
    {
     "data": {
      "text/html": [
       "<div>\n",
       "<style scoped>\n",
       "    .dataframe tbody tr th:only-of-type {\n",
       "        vertical-align: middle;\n",
       "    }\n",
       "\n",
       "    .dataframe tbody tr th {\n",
       "        vertical-align: top;\n",
       "    }\n",
       "\n",
       "    .dataframe thead th {\n",
       "        text-align: right;\n",
       "    }\n",
       "</style>\n",
       "<table border=\"1\" class=\"dataframe\">\n",
       "  <thead>\n",
       "    <tr style=\"text-align: right;\">\n",
       "      <th></th>\n",
       "      <th>primary_fuel</th>\n",
       "      <th>source</th>\n",
       "      <th>geolocation_source</th>\n",
       "    </tr>\n",
       "  </thead>\n",
       "  <tbody>\n",
       "    <tr>\n",
       "      <th>count</th>\n",
       "      <td>907</td>\n",
       "      <td>907</td>\n",
       "      <td>907</td>\n",
       "    </tr>\n",
       "    <tr>\n",
       "      <th>unique</th>\n",
       "      <td>8</td>\n",
       "      <td>191</td>\n",
       "      <td>3</td>\n",
       "    </tr>\n",
       "    <tr>\n",
       "      <th>top</th>\n",
       "      <td>Coal</td>\n",
       "      <td>Central Electricity Authority</td>\n",
       "      <td>WRI</td>\n",
       "    </tr>\n",
       "    <tr>\n",
       "      <th>freq</th>\n",
       "      <td>258</td>\n",
       "      <td>519</td>\n",
       "      <td>784</td>\n",
       "    </tr>\n",
       "  </tbody>\n",
       "</table>\n",
       "</div>"
      ],
      "text/plain": [
       "       primary_fuel                         source geolocation_source\n",
       "count           907                            907                907\n",
       "unique            8                            191                  3\n",
       "top            Coal  Central Electricity Authority                WRI\n",
       "freq            258                            519                784"
      ]
     },
     "execution_count": 24,
     "metadata": {},
     "output_type": "execute_result"
    }
   ],
   "source": [
    "# For all categorical variables\n",
    "df.select_dtypes(include=\"object\").describe()"
   ]
  },
  {
   "cell_type": "markdown",
   "id": "1774139c",
   "metadata": {},
   "source": [
    "count of coal in primary_fuel is higher than maximum. Central Electricity Authority ais the main source of data, and WRI has highest count in geolocation_source"
   ]
  },
  {
   "cell_type": "markdown",
   "id": "eb1df9e0",
   "metadata": {},
   "source": [
    "# Data Visualization"
   ]
  },
  {
   "cell_type": "markdown",
   "id": "1449f0ce",
   "metadata": {},
   "source": [
    "### Univariate Analysis"
   ]
  },
  {
   "cell_type": "markdown",
   "id": "d5c1270a",
   "metadata": {},
   "source": [
    "### Categorical column visualization"
   ]
  },
  {
   "cell_type": "code",
   "execution_count": 25,
   "id": "f4928c56",
   "metadata": {},
   "outputs": [
    {
     "data": {
      "text/plain": [
       "Coal       258\n",
       "Hydro      251\n",
       "Solar      127\n",
       "Wind       123\n",
       "Gas         69\n",
       "Biomass     50\n",
       "Oil         20\n",
       "Nuclear      9\n",
       "Name: primary_fuel, dtype: int64"
      ]
     },
     "execution_count": 25,
     "metadata": {},
     "output_type": "execute_result"
    }
   ],
   "source": [
    "# Checking the list of counts of primary_fuel\n",
    "df['primary_fuel'].value_counts()"
   ]
  },
  {
   "cell_type": "code",
   "execution_count": 26,
   "id": "5fe8dd6b",
   "metadata": {},
   "outputs": [
    {
     "data": {
      "text/plain": [
       "<AxesSubplot:xlabel='primary_fuel', ylabel='count'>"
      ]
     },
     "execution_count": 26,
     "metadata": {},
     "output_type": "execute_result"
    },
    {
     "data": {
      "image/png": "[encoded data removed]",
      "text/plain": [
       "<Figure size 432x288 with 1 Axes>"
      ]
     },
     "metadata": {},
     "output_type": "display_data"
    }
   ],
   "source": [
    "sns.set_style(\"whitegrid\")\n",
    "sns.countplot(x=\"primary_fuel\", data=df)"
   ]
  },
  {
   "cell_type": "markdown",
   "id": "55dc1476",
   "metadata": {},
   "source": [
    "Here We can see that there are 8 chategories of fuel source. \n",
    "\n",
    "Also the 'Coal' energy source is used the highest in the generation of electricity. Then the next energy source used is the 'HydroBiomass' and followed by the other energy sources."
   ]
  },
  {
   "cell_type": "code",
   "execution_count": 27,
   "id": "898e6bc6",
   "metadata": {},
   "outputs": [
    {
     "data": {
      "text/plain": [
       "Central Electricity Authority                519\n",
       "CDM                                          124\n",
       "Lancosola                                     10\n",
       "National Renewable Energy Laboratory           8\n",
       "National Thermal Power Corporation (NTPC)      6\n",
       "                                            ... \n",
       "Aravali Infrapower Private Limited (AIPL)      1\n",
       "Purna Ssk ltd                                  1\n",
       "Lingandwi                                      1\n",
       "Sahakar Shiromani vasantrao                    1\n",
       "Hothur Pvt ltd                                 1\n",
       "Name: source, Length: 191, dtype: int64"
      ]
     },
     "execution_count": 27,
     "metadata": {},
     "output_type": "execute_result"
    }
   ],
   "source": [
    "# Checking the list of counts of source\n",
    "df['source'].value_counts()"
   ]
  },
  {
   "cell_type": "markdown",
   "id": "fd7e48fd",
   "metadata": {},
   "source": [
    "Central Electricity Authority has the highest count. So it is the main source of data ."
   ]
  },
  {
   "cell_type": "code",
   "execution_count": 28,
   "id": "6439285a",
   "metadata": {},
   "outputs": [
    {
     "data": {
      "text/plain": [
       "WRI                                     784\n",
       "Industry About                          119\n",
       "National Renewable Energy Laboratory      4\n",
       "Name: geolocation_source, dtype: int64"
      ]
     },
     "execution_count": 28,
     "metadata": {},
     "output_type": "execute_result"
    }
   ],
   "source": [
    "df['geolocation_source'].value_counts()"
   ]
  },
  {
   "cell_type": "code",
   "execution_count": 29,
   "id": "02927c2b",
   "metadata": {},
   "outputs": [
    {
     "data": {
      "image/png": "[encoded data removed]",
      "text/plain": [
       "<Figure size 576x360 with 1 Axes>"
      ]
     },
     "metadata": {},
     "output_type": "display_data"
    }
   ],
   "source": [
    "labels='WRI','Industry About','National Renewable Energy Laboratory'\n",
    "plt.figure(figsize=(8,5))\n",
    "sns.countplot(df['geolocation_source'])\n",
    "plt.show()        "
   ]
  },
  {
   "cell_type": "markdown",
   "id": "1399d2d8",
   "metadata": {},
   "source": [
    "Here it can be seen that the count of WRI geolocation_source is the max, which means that the max information is shared by this source."
   ]
  },
  {
   "cell_type": "markdown",
   "id": "7f733e2f",
   "metadata": {},
   "source": [
    "#### Checking Numerical Columns:"
   ]
  },
  {
   "cell_type": "code",
   "execution_count": 30,
   "id": "bca06554",
   "metadata": {},
   "outputs": [
    {
     "data": {
      "text/plain": [
       "5.0       39\n",
       "10.0      22\n",
       "15.0      20\n",
       "600.0     20\n",
       "1200.0    19\n",
       "          ..\n",
       "192.0      1\n",
       "27.3       1\n",
       "26.4       1\n",
       "68.8       1\n",
       "19.7       1\n",
       "Name: capacity_mw, Length: 361, dtype: int64"
      ]
     },
     "execution_count": 30,
     "metadata": {},
     "output_type": "execute_result"
    }
   ],
   "source": [
    "# Checking the list of counts of capacity_mw\n",
    "df['capacity_mw'].value_counts()"
   ]
  },
  {
   "cell_type": "code",
   "execution_count": 31,
   "id": "acb7ff42",
   "metadata": {},
   "outputs": [
    {
     "data": {
      "image/png": "[encoded data removed]",
      "text/plain": [
       "<Figure size 1440x360 with 1 Axes>"
      ]
     },
     "metadata": {},
     "output_type": "display_data"
    }
   ],
   "source": [
    "plt.figure(figsize=(20,5))\n",
    "sns.countplot(df['capacity_mw'])\n",
    "plt.show()"
   ]
  },
  {
   "cell_type": "markdown",
   "id": "a14a8a45",
   "metadata": {},
   "source": [
    "### Checking the distribution of dataset in numerical columns"
   ]
  },
  {
   "cell_type": "code",
   "execution_count": 32,
   "id": "2b8fb618",
   "metadata": {},
   "outputs": [
    {
     "name": "stdout",
     "output_type": "stream",
     "text": [
      "['capacity_mw', 'latitude', 'longitude', 'commissioning_year', 'generation_gwh_2016', 'generation_gwh_2018']\n"
     ]
    }
   ],
   "source": [
    "#checking the numeric columns for visualization\n",
    "num_col=[]\n",
    "for i in df.dtypes.index:\n",
    "    if df.dtypes[i]!='object':\n",
    "        num_col.append(i)\n",
    "print(num_col)        "
   ]
  },
  {
   "cell_type": "code",
   "execution_count": 33,
   "id": "f1700ae2",
   "metadata": {},
   "outputs": [
    {
     "data": {
      "image/png": "[encoded data removed]",
      "text/plain": [
       "<Figure size 720x720 with 6 Axes>"
      ]
     },
     "metadata": {},
     "output_type": "display_data"
    }
   ],
   "source": [
    "# Checking how the data has been distriubted in each column\n",
    "\n",
    "plt.figure(figsize=(10,10),facecolor='white')\n",
    "plotnumber=1\n",
    "for column in num_col:\n",
    "    if plotnumber<=9:\n",
    "        ax=plt.subplot(3,3,plotnumber)\n",
    "        sns.distplot(df[column],color=\"red\")\n",
    "        plt.xlabel(column,fontsize=20)\n",
    "    plotnumber+=1\n",
    "plt.tight_layout()"
   ]
  },
  {
   "cell_type": "markdown",
   "id": "0de966b7",
   "metadata": {},
   "source": [
    "Here in the plots we can see that the data is not normally distributed. Outliers and skewness is present, which needs to be treated,"
   ]
  },
  {
   "cell_type": "markdown",
   "id": "cde22f49",
   "metadata": {},
   "source": [
    "### Bivariate Analysis"
   ]
  },
  {
   "cell_type": "markdown",
   "id": "b3056f04",
   "metadata": {},
   "source": [
    "### Corealtion between features and targer 'Capacity_mw'"
   ]
  },
  {
   "cell_type": "code",
   "execution_count": 34,
   "id": "7b1bd690",
   "metadata": {},
   "outputs": [
    {
     "data": {
      "text/plain": [
       "<AxesSubplot:xlabel='capacity_mw', ylabel='generation_gwh_2016'>"
      ]
     },
     "execution_count": 34,
     "metadata": {},
     "output_type": "execute_result"
    },
    {
     "data": {
      "image/png": "[encoded data removed]",
      "text/plain": [
       "<Figure size 576x288 with 1 Axes>"
      ]
     },
     "metadata": {},
     "output_type": "display_data"
    }
   ],
   "source": [
    "plt.figure(figsize=(8,4))\n",
    "sns.scatterplot(x='capacity_mw',y='generation_gwh_2016',data=df)"
   ]
  },
  {
   "cell_type": "code",
   "execution_count": 35,
   "id": "b4d3d68c",
   "metadata": {},
   "outputs": [
    {
     "data": {
      "text/plain": [
       "<AxesSubplot:xlabel='capacity_mw', ylabel='generation_gwh_2018'>"
      ]
     },
     "execution_count": 35,
     "metadata": {},
     "output_type": "execute_result"
    },
    {
     "data": {
      "image/png": "[encoded data removed]",
      "text/plain": [
       "<Figure size 576x288 with 1 Axes>"
      ]
     },
     "metadata": {},
     "output_type": "display_data"
    }
   ],
   "source": [
    "plt.figure(figsize=(8,4))\n",
    "sns.scatterplot(x='capacity_mw',y='generation_gwh_2018',data=df)"
   ]
  },
  {
   "cell_type": "markdown",
   "id": "0547d26a",
   "metadata": {},
   "source": [
    "This features shows a positive corelation. Here the electricity generation reported over the years has capacity above 1000 mw also as the generation growth increases, the capacity of plant is also increasing moderately."
   ]
  },
  {
   "cell_type": "code",
   "execution_count": 36,
   "id": "806f0c5d",
   "metadata": {},
   "outputs": [
    {
     "data": {
      "text/plain": [
       "<AxesSubplot:xlabel='latitude', ylabel='capacity_mw'>"
      ]
     },
     "execution_count": 36,
     "metadata": {},
     "output_type": "execute_result"
    },
    {
     "data": {
      "image/png": "[encoded data removed]",
      "text/plain": [
       "<Figure size 576x288 with 1 Axes>"
      ]
     },
     "metadata": {},
     "output_type": "display_data"
    }
   ],
   "source": [
    "plt.figure(figsize=(8,4))\n",
    "sns.scatterplot(x='latitude',y='capacity_mw',data=df)"
   ]
  },
  {
   "cell_type": "markdown",
   "id": "bb2206cb",
   "metadata": {},
   "source": [
    "In the above scatter plot we can see that the latitude geolocation for electricty generation is highest measuring the mega watts between 20 to 25 decimal degrees."
   ]
  },
  {
   "cell_type": "markdown",
   "id": "071c1980",
   "metadata": {},
   "source": [
    "Here this feature do not show any linear relationship."
   ]
  },
  {
   "cell_type": "code",
   "execution_count": 37,
   "id": "ec519b61",
   "metadata": {},
   "outputs": [
    {
     "data": {
      "text/plain": [
       "<AxesSubplot:xlabel='longitude', ylabel='capacity_mw'>"
      ]
     },
     "execution_count": 37,
     "metadata": {},
     "output_type": "execute_result"
    },
    {
     "data": {
      "image/png": "[encoded data removed]",
      "text/plain": [
       "<Figure size 576x288 with 1 Axes>"
      ]
     },
     "metadata": {},
     "output_type": "display_data"
    }
   ],
   "source": [
    "plt.figure(figsize=(8,4))\n",
    "sns.scatterplot(x='longitude',y='capacity_mw',data=df)"
   ]
  },
  {
   "cell_type": "markdown",
   "id": "e4f884a4",
   "metadata": {},
   "source": [
    "In the above scatter plot we can see that the longitude geolocation for electricty generation is highest measuring the mega watts around 70 and then again between 80-85 decimal degrees"
   ]
  },
  {
   "cell_type": "code",
   "execution_count": 38,
   "id": "37693170",
   "metadata": {},
   "outputs": [
    {
     "data": {
      "text/plain": [
       "<AxesSubplot:xlabel='commissioning_year', ylabel='capacity_mw'>"
      ]
     },
     "execution_count": 38,
     "metadata": {},
     "output_type": "execute_result"
    },
    {
     "data": {
      "image/png": "[encoded data removed]",
      "text/plain": [
       "<Figure size 576x288 with 1 Axes>"
      ]
     },
     "metadata": {},
     "output_type": "display_data"
    }
   ],
   "source": [
    "plt.figure(figsize=(8,4))\n",
    "sns.scatterplot(x='commissioning_year',y='capacity_mw',data=df)"
   ]
  },
  {
   "cell_type": "markdown",
   "id": "48926f49",
   "metadata": {},
   "source": [
    "In the above scatter plot we can see that the electricity generating capacity measured in mega watts was pretty low in the olden times as compared to recent years due to the invention of efficient fuel types used for power generation."
   ]
  },
  {
   "cell_type": "code",
   "execution_count": 39,
   "id": "8bd53899",
   "metadata": {},
   "outputs": [
    {
     "data": {
      "image/png": "[encoded data removed]",
      "text/plain": [
       "<Figure size 720x360 with 1 Axes>"
      ]
     },
     "metadata": {},
     "output_type": "display_data"
    }
   ],
   "source": [
    "#Checking the relation between target capacity_mw and variable geolocation source\n",
    "plt.figure(figsize=(10,5))\n",
    "sns.barplot(x='geolocation_source',y='capacity_mw',data=df,palette='inferno')\n",
    "plt.title('Comparision between geolocation_source and capacity_mw')\n",
    "plt.show()"
   ]
  },
  {
   "cell_type": "markdown",
   "id": "e529dc4f",
   "metadata": {},
   "source": [
    "### Correlation between features and target 'Fuel_Types'"
   ]
  },
  {
   "cell_type": "code",
   "execution_count": 40,
   "id": "ea6cdf92",
   "metadata": {},
   "outputs": [
    {
     "data": {
      "image/png": "[encoded data removed]",
      "text/plain": [
       "<Figure size 432x288 with 1 Axes>"
      ]
     },
     "metadata": {},
     "output_type": "display_data"
    }
   ],
   "source": [
    "#primary_fuel vs capacity_mw\n",
    "plt.figure(figsize=(6,4))\n",
    "sns.barplot(x='primary_fuel',y='capacity_mw',data=df,palette='inferno')\n",
    "plt.show()"
   ]
  },
  {
   "cell_type": "markdown",
   "id": "90527bbb",
   "metadata": {},
   "source": [
    "In the above  plot we can see that Nuclear is the main fuel  when it comes to generating electricity and biomass is used the least."
   ]
  },
  {
   "cell_type": "code",
   "execution_count": 41,
   "id": "bc32222f",
   "metadata": {},
   "outputs": [
    {
     "data": {
      "image/png": "[encoded data removed]",
      "text/plain": [
       "<Figure size 432x288 with 1 Axes>"
      ]
     },
     "metadata": {},
     "output_type": "display_data"
    }
   ],
   "source": [
    "#primary_fuel vs capacity_mw\n",
    "plt.figure(figsize=(6,4))\n",
    "sns.barplot(x='primary_fuel',y='latitude',data=df,palette='inferno')\n",
    "plt.show()"
   ]
  },
  {
   "cell_type": "markdown",
   "id": "2d3bd4e0",
   "metadata": {},
   "source": [
    "In the above plot we can see thatSolar fuel type is distributed across all the latitude values considering the solar energy that help in generating electricity at a power plant."
   ]
  },
  {
   "cell_type": "code",
   "execution_count": 42,
   "id": "c1bd2506",
   "metadata": {},
   "outputs": [
    {
     "data": {
      "image/png": "[encoded data removed]",
      "text/plain": [
       "<Figure size 432x288 with 1 Axes>"
      ]
     },
     "metadata": {},
     "output_type": "display_data"
    }
   ],
   "source": [
    "#primary_fuel vs generation_gwh_2016\n",
    "plt.figure(figsize=(6,4))\n",
    "sns.barplot(x='primary_fuel',y='generation_gwh_2016',data=df,palette='inferno')\n",
    "plt.show()"
   ]
  },
  {
   "cell_type": "markdown",
   "id": "a2f22aba",
   "metadata": {},
   "source": [
    "Nuclear is the main primary_fuel in generation_gwh_2016."
   ]
  },
  {
   "cell_type": "code",
   "execution_count": 43,
   "id": "bee5fa5e",
   "metadata": {},
   "outputs": [
    {
     "data": {
      "image/png": "[encoded data removed]",
      "text/plain": [
       "<Figure size 432x288 with 1 Axes>"
      ]
     },
     "metadata": {},
     "output_type": "display_data"
    }
   ],
   "source": [
    "#primary_fuel vs generation_gwh_2018\n",
    "plt.figure(figsize=(6,4))\n",
    "sns.barplot(x='primary_fuel',y='generation_gwh_2018',data=df,palette='inferno')\n",
    "plt.show()"
   ]
  },
  {
   "cell_type": "markdown",
   "id": "bdd8753b",
   "metadata": {},
   "source": [
    "Coal is the main primary_fuel in generation_gwh_2018."
   ]
  },
  {
   "cell_type": "markdown",
   "id": "0ff429e7",
   "metadata": {},
   "source": [
    "## Label Encoding"
   ]
  },
  {
   "cell_type": "code",
   "execution_count": 44,
   "id": "c264fcf1",
   "metadata": {},
   "outputs": [],
   "source": [
    "categorical_col = ['primary_fuel', 'source', 'geolocation_source']"
   ]
  },
  {
   "cell_type": "code",
   "execution_count": 45,
   "id": "a1285327",
   "metadata": {},
   "outputs": [],
   "source": [
    "LE=LabelEncoder()\n",
    "df[categorical_col]= df[categorical_col].apply(LE.fit_transform)"
   ]
  },
  {
   "cell_type": "code",
   "execution_count": 46,
   "id": "a48735fc",
   "metadata": {},
   "outputs": [
    {
     "data": {
      "text/html": [
       "<div>\n",
       "<style scoped>\n",
       "    .dataframe tbody tr th:only-of-type {\n",
       "        vertical-align: middle;\n",
       "    }\n",
       "\n",
       "    .dataframe tbody tr th {\n",
       "        vertical-align: top;\n",
       "    }\n",
       "\n",
       "    .dataframe thead th {\n",
       "        text-align: right;\n",
       "    }\n",
       "</style>\n",
       "<table border=\"1\" class=\"dataframe\">\n",
       "  <thead>\n",
       "    <tr style=\"text-align: right;\">\n",
       "      <th></th>\n",
       "      <th>primary_fuel</th>\n",
       "      <th>source</th>\n",
       "      <th>geolocation_source</th>\n",
       "    </tr>\n",
       "  </thead>\n",
       "  <tbody>\n",
       "    <tr>\n",
       "      <th>0</th>\n",
       "      <td>6</td>\n",
       "      <td>109</td>\n",
       "      <td>1</td>\n",
       "    </tr>\n",
       "    <tr>\n",
       "      <th>1</th>\n",
       "      <td>1</td>\n",
       "      <td>174</td>\n",
       "      <td>2</td>\n",
       "    </tr>\n",
       "    <tr>\n",
       "      <th>2</th>\n",
       "      <td>7</td>\n",
       "      <td>21</td>\n",
       "      <td>2</td>\n",
       "    </tr>\n",
       "    <tr>\n",
       "      <th>3</th>\n",
       "      <td>2</td>\n",
       "      <td>22</td>\n",
       "      <td>2</td>\n",
       "    </tr>\n",
       "    <tr>\n",
       "      <th>4</th>\n",
       "      <td>1</td>\n",
       "      <td>22</td>\n",
       "      <td>2</td>\n",
       "    </tr>\n",
       "    <tr>\n",
       "      <th>...</th>\n",
       "      <td>...</td>\n",
       "      <td>...</td>\n",
       "      <td>...</td>\n",
       "    </tr>\n",
       "    <tr>\n",
       "      <th>902</th>\n",
       "      <td>1</td>\n",
       "      <td>22</td>\n",
       "      <td>2</td>\n",
       "    </tr>\n",
       "    <tr>\n",
       "      <th>903</th>\n",
       "      <td>6</td>\n",
       "      <td>77</td>\n",
       "      <td>0</td>\n",
       "    </tr>\n",
       "    <tr>\n",
       "      <th>904</th>\n",
       "      <td>7</td>\n",
       "      <td>21</td>\n",
       "      <td>2</td>\n",
       "    </tr>\n",
       "    <tr>\n",
       "      <th>905</th>\n",
       "      <td>1</td>\n",
       "      <td>59</td>\n",
       "      <td>2</td>\n",
       "    </tr>\n",
       "    <tr>\n",
       "      <th>906</th>\n",
       "      <td>7</td>\n",
       "      <td>21</td>\n",
       "      <td>2</td>\n",
       "    </tr>\n",
       "  </tbody>\n",
       "</table>\n",
       "<p>907 rows × 3 columns</p>\n",
       "</div>"
      ],
      "text/plain": [
       "     primary_fuel  source  geolocation_source\n",
       "0               6     109                   1\n",
       "1               1     174                   2\n",
       "2               7      21                   2\n",
       "3               2      22                   2\n",
       "4               1      22                   2\n",
       "..            ...     ...                 ...\n",
       "902             1      22                   2\n",
       "903             6      77                   0\n",
       "904             7      21                   2\n",
       "905             1      59                   2\n",
       "906             7      21                   2\n",
       "\n",
       "[907 rows x 3 columns]"
      ]
     },
     "execution_count": 46,
     "metadata": {},
     "output_type": "execute_result"
    }
   ],
   "source": [
    "df[categorical_col]"
   ]
  },
  {
   "cell_type": "code",
   "execution_count": 47,
   "id": "4c723ce4",
   "metadata": {},
   "outputs": [
    {
     "name": "stdout",
     "output_type": "stream",
     "text": [
      "<class 'pandas.core.frame.DataFrame'>\n",
      "RangeIndex: 907 entries, 0 to 906\n",
      "Data columns (total 9 columns):\n",
      " #   Column               Non-Null Count  Dtype  \n",
      "---  ------               --------------  -----  \n",
      " 0   capacity_mw          907 non-null    float64\n",
      " 1   latitude             907 non-null    float64\n",
      " 2   longitude            907 non-null    float64\n",
      " 3   primary_fuel         907 non-null    int32  \n",
      " 4   commissioning_year   907 non-null    float64\n",
      " 5   source               907 non-null    int32  \n",
      " 6   geolocation_source   907 non-null    int32  \n",
      " 7   generation_gwh_2016  907 non-null    float64\n",
      " 8   generation_gwh_2018  907 non-null    float64\n",
      "dtypes: float64(6), int32(3)\n",
      "memory usage: 53.3 KB\n"
     ]
    }
   ],
   "source": [
    "df.info()"
   ]
  },
  {
   "cell_type": "markdown",
   "id": "e75bb8d0",
   "metadata": {},
   "source": [
    "## Checking correlation"
   ]
  },
  {
   "cell_type": "code",
   "execution_count": 48,
   "id": "74a1248c",
   "metadata": {},
   "outputs": [
    {
     "data": {
      "text/html": [
       "<div>\n",
       "<style scoped>\n",
       "    .dataframe tbody tr th:only-of-type {\n",
       "        vertical-align: middle;\n",
       "    }\n",
       "\n",
       "    .dataframe tbody tr th {\n",
       "        vertical-align: top;\n",
       "    }\n",
       "\n",
       "    .dataframe thead th {\n",
       "        text-align: right;\n",
       "    }\n",
       "</style>\n",
       "<table border=\"1\" class=\"dataframe\">\n",
       "  <thead>\n",
       "    <tr style=\"text-align: right;\">\n",
       "      <th></th>\n",
       "      <th>capacity_mw</th>\n",
       "      <th>latitude</th>\n",
       "      <th>longitude</th>\n",
       "      <th>primary_fuel</th>\n",
       "      <th>commissioning_year</th>\n",
       "      <th>source</th>\n",
       "      <th>geolocation_source</th>\n",
       "      <th>generation_gwh_2016</th>\n",
       "      <th>generation_gwh_2018</th>\n",
       "    </tr>\n",
       "  </thead>\n",
       "  <tbody>\n",
       "    <tr>\n",
       "      <th>capacity_mw</th>\n",
       "      <td>1.000000</td>\n",
       "      <td>0.050984</td>\n",
       "      <td>0.195882</td>\n",
       "      <td>-0.380395</td>\n",
       "      <td>0.274292</td>\n",
       "      <td>-2.421218e-01</td>\n",
       "      <td>2.048653e-01</td>\n",
       "      <td>7.422211e-01</td>\n",
       "      <td>7.734556e-01</td>\n",
       "    </tr>\n",
       "    <tr>\n",
       "      <th>latitude</th>\n",
       "      <td>0.050984</td>\n",
       "      <td>1.000000</td>\n",
       "      <td>0.036362</td>\n",
       "      <td>-0.010204</td>\n",
       "      <td>0.102069</td>\n",
       "      <td>5.592656e-02</td>\n",
       "      <td>-1.842751e-01</td>\n",
       "      <td>3.125609e-02</td>\n",
       "      <td>3.132625e-02</td>\n",
       "    </tr>\n",
       "    <tr>\n",
       "      <th>longitude</th>\n",
       "      <td>0.195882</td>\n",
       "      <td>0.036362</td>\n",
       "      <td>1.000000</td>\n",
       "      <td>-0.347948</td>\n",
       "      <td>0.092331</td>\n",
       "      <td>-2.393334e-01</td>\n",
       "      <td>2.523426e-01</td>\n",
       "      <td>3.920892e-02</td>\n",
       "      <td>3.777965e-02</td>\n",
       "    </tr>\n",
       "    <tr>\n",
       "      <th>primary_fuel</th>\n",
       "      <td>-0.380395</td>\n",
       "      <td>-0.010204</td>\n",
       "      <td>-0.347948</td>\n",
       "      <td>1.000000</td>\n",
       "      <td>-0.126650</td>\n",
       "      <td>5.361263e-02</td>\n",
       "      <td>-4.832168e-01</td>\n",
       "      <td>-1.310514e-01</td>\n",
       "      <td>-1.369831e-01</td>\n",
       "    </tr>\n",
       "    <tr>\n",
       "      <th>commissioning_year</th>\n",
       "      <td>0.274292</td>\n",
       "      <td>0.102069</td>\n",
       "      <td>0.092331</td>\n",
       "      <td>-0.126650</td>\n",
       "      <td>1.000000</td>\n",
       "      <td>2.152776e-02</td>\n",
       "      <td>-7.843657e-03</td>\n",
       "      <td>1.706440e-01</td>\n",
       "      <td>1.743766e-01</td>\n",
       "    </tr>\n",
       "    <tr>\n",
       "      <th>source</th>\n",
       "      <td>-0.242122</td>\n",
       "      <td>0.055927</td>\n",
       "      <td>-0.239333</td>\n",
       "      <td>0.053613</td>\n",
       "      <td>0.021528</td>\n",
       "      <td>1.000000e+00</td>\n",
       "      <td>-5.057202e-01</td>\n",
       "      <td>-1.636718e-17</td>\n",
       "      <td>1.092118e-17</td>\n",
       "    </tr>\n",
       "    <tr>\n",
       "      <th>geolocation_source</th>\n",
       "      <td>0.204865</td>\n",
       "      <td>-0.184275</td>\n",
       "      <td>0.252343</td>\n",
       "      <td>-0.483217</td>\n",
       "      <td>-0.007844</td>\n",
       "      <td>-5.057202e-01</td>\n",
       "      <td>1.000000e+00</td>\n",
       "      <td>1.115708e-17</td>\n",
       "      <td>-1.048582e-17</td>\n",
       "    </tr>\n",
       "    <tr>\n",
       "      <th>generation_gwh_2016</th>\n",
       "      <td>0.742221</td>\n",
       "      <td>0.031256</td>\n",
       "      <td>0.039209</td>\n",
       "      <td>-0.131051</td>\n",
       "      <td>0.170644</td>\n",
       "      <td>-1.636718e-17</td>\n",
       "      <td>1.115708e-17</td>\n",
       "      <td>1.000000e+00</td>\n",
       "      <td>9.571589e-01</td>\n",
       "    </tr>\n",
       "    <tr>\n",
       "      <th>generation_gwh_2018</th>\n",
       "      <td>0.773456</td>\n",
       "      <td>0.031326</td>\n",
       "      <td>0.037780</td>\n",
       "      <td>-0.136983</td>\n",
       "      <td>0.174377</td>\n",
       "      <td>1.092118e-17</td>\n",
       "      <td>-1.048582e-17</td>\n",
       "      <td>9.571589e-01</td>\n",
       "      <td>1.000000e+00</td>\n",
       "    </tr>\n",
       "  </tbody>\n",
       "</table>\n",
       "</div>"
      ],
      "text/plain": [
       "                     capacity_mw  latitude  longitude  primary_fuel  \\\n",
       "capacity_mw             1.000000  0.050984   0.195882     -0.380395   \n",
       "latitude                0.050984  1.000000   0.036362     -0.010204   \n",
       "longitude               0.195882  0.036362   1.000000     -0.347948   \n",
       "primary_fuel           -0.380395 -0.010204  -0.347948      1.000000   \n",
       "commissioning_year      0.274292  0.102069   0.092331     -0.126650   \n",
       "source                 -0.242122  0.055927  -0.239333      0.053613   \n",
       "geolocation_source      0.204865 -0.184275   0.252343     -0.483217   \n",
       "generation_gwh_2016     0.742221  0.031256   0.039209     -0.131051   \n",
       "generation_gwh_2018     0.773456  0.031326   0.037780     -0.136983   \n",
       "\n",
       "                     commissioning_year        source  geolocation_source  \\\n",
       "capacity_mw                    0.274292 -2.421218e-01        2.048653e-01   \n",
       "latitude                       0.102069  5.592656e-02       -1.842751e-01   \n",
       "longitude                      0.092331 -2.393334e-01        2.523426e-01   \n",
       "primary_fuel                  -0.126650  5.361263e-02       -4.832168e-01   \n",
       "commissioning_year             1.000000  2.152776e-02       -7.843657e-03   \n",
       "source                         0.021528  1.000000e+00       -5.057202e-01   \n",
       "geolocation_source            -0.007844 -5.057202e-01        1.000000e+00   \n",
       "generation_gwh_2016            0.170644 -1.636718e-17        1.115708e-17   \n",
       "generation_gwh_2018            0.174377  1.092118e-17       -1.048582e-17   \n",
       "\n",
       "                     generation_gwh_2016  generation_gwh_2018  \n",
       "capacity_mw                 7.422211e-01         7.734556e-01  \n",
       "latitude                    3.125609e-02         3.132625e-02  \n",
       "longitude                   3.920892e-02         3.777965e-02  \n",
       "primary_fuel               -1.310514e-01        -1.369831e-01  \n",
       "commissioning_year          1.706440e-01         1.743766e-01  \n",
       "source                     -1.636718e-17         1.092118e-17  \n",
       "geolocation_source          1.115708e-17        -1.048582e-17  \n",
       "generation_gwh_2016         1.000000e+00         9.571589e-01  \n",
       "generation_gwh_2018         9.571589e-01         1.000000e+00  "
      ]
     },
     "execution_count": 48,
     "metadata": {},
     "output_type": "execute_result"
    }
   ],
   "source": [
    "df.corr()"
   ]
  },
  {
   "cell_type": "code",
   "execution_count": 49,
   "id": "b7305be5",
   "metadata": {},
   "outputs": [
    {
     "data": {
      "text/plain": [
       "<AxesSubplot:>"
      ]
     },
     "execution_count": 49,
     "metadata": {},
     "output_type": "execute_result"
    },
    {
     "data": {
      "image/png": "[encoded data removed]",
      "text/plain": [
       "<Figure size 864x864 with 2 Axes>"
      ]
     },
     "metadata": {},
     "output_type": "display_data"
    }
   ],
   "source": [
    "plt.figure(figsize=(12,12))\n",
    "sns.heatmap(df.corr(),cmap='YlOrRd_r',annot=True)"
   ]
  },
  {
   "cell_type": "markdown",
   "id": "c29e99bb",
   "metadata": {},
   "source": [
    "### Visualizing the correlation between capacity_mw and features using bar plot"
   ]
  },
  {
   "cell_type": "code",
   "execution_count": 50,
   "id": "9294f54a",
   "metadata": {},
   "outputs": [
    {
     "data": {
      "image/png": "[encoded data removed]",
      "text/plain": [
       "<Figure size 1080x360 with 1 Axes>"
      ]
     },
     "metadata": {},
     "output_type": "display_data"
    }
   ],
   "source": [
    "plt.figure(figsize=(15,5))\n",
    "df.corr()['capacity_mw'].sort_values(ascending=False).drop(['capacity_mw']).plot(kind='bar',color='c')\n",
    "plt.xlabel('Feature',fontsize=10)\n",
    "plt.ylabel('capacity_mw',fontsize=10)\n",
    "plt.title('correlation between capacity_mw and feature using bar plot',fontsize=20)\n",
    "plt.show()"
   ]
  },
  {
   "cell_type": "markdown",
   "id": "db443147",
   "metadata": {},
   "source": [
    "### Visualizing the correlation between primary_fuel and features using bar plot"
   ]
  },
  {
   "cell_type": "code",
   "execution_count": 51,
   "id": "77a2d287",
   "metadata": {},
   "outputs": [
    {
     "data": {
      "image/png": "[encoded data removed]",
      "text/plain": [
       "<Figure size 1080x360 with 1 Axes>"
      ]
     },
     "metadata": {},
     "output_type": "display_data"
    }
   ],
   "source": [
    "plt.figure(figsize=(15,5))\n",
    "df.corr()['primary_fuel'].sort_values(ascending=False).drop(['primary_fuel']).plot(kind='bar',color='c')\n",
    "plt.xlabel('Feature',fontsize=10)\n",
    "plt.ylabel('primary_fuel',fontsize=10)\n",
    "plt.title('correlation between primary_fuel and feature using bar plot',fontsize=20)\n",
    "plt.show()"
   ]
  },
  {
   "cell_type": "markdown",
   "id": "b3e8722f",
   "metadata": {},
   "source": [
    "OBSERVATIONS:\n",
    "    \n",
    "Form the above correlation map and correlation plots, we can see\n",
    "\n",
    "1. generation_gwh_2018 and generation_gwh_2016 are highly correlated with capacity_mw. Also geolocation_source commisioning_year and longitude has good correlation with capacity_mw.\n",
    "\n",
    "2. primary_fuel and source is negatively correlated with capacity_mw\n",
    "\n",
    "3. Other than source, all the columns are negatively correlated with primary_fuel.\n",
    "\n",
    "4. generation_gwh_2018 and generation_gwh_2016 are highly correlated with each other. Longitude and latitude is also correlated to each other. So there si multicollinearity among few columns. So will try to solve this problem by Checking VIF value before building our models."
   ]
  },
  {
   "cell_type": "markdown",
   "id": "1e2d08ce",
   "metadata": {},
   "source": [
    "## Checking the outliers"
   ]
  },
  {
   "cell_type": "code",
   "execution_count": 52,
   "id": "1cd7ebc0",
   "metadata": {},
   "outputs": [
    {
     "data": {
      "text/plain": [
       "capacity_mw               AxesSubplot(0.125,0.536818;0.133621x0.343182)\n",
       "latitude               AxesSubplot(0.285345,0.536818;0.133621x0.343182)\n",
       "longitude               AxesSubplot(0.44569,0.536818;0.133621x0.343182)\n",
       "primary_fuel           AxesSubplot(0.606034,0.536818;0.133621x0.343182)\n",
       "commissioning_year     AxesSubplot(0.766379,0.536818;0.133621x0.343182)\n",
       "source                       AxesSubplot(0.125,0.125;0.133621x0.343182)\n",
       "geolocation_source        AxesSubplot(0.285345,0.125;0.133621x0.343182)\n",
       "generation_gwh_2016        AxesSubplot(0.44569,0.125;0.133621x0.343182)\n",
       "generation_gwh_2018       AxesSubplot(0.606034,0.125;0.133621x0.343182)\n",
       "dtype: object"
      ]
     },
     "execution_count": 52,
     "metadata": {},
     "output_type": "execute_result"
    },
    {
     "data": {
      "image/png": "[encoded data removed]",
      "text/plain": [
       "<Figure size 720x720 with 10 Axes>"
      ]
     },
     "metadata": {},
     "output_type": "display_data"
    }
   ],
   "source": [
    "df.plot(kind='box',subplots=True,layout=(2,5),figsize=(10,10))"
   ]
  },
  {
   "cell_type": "markdown",
   "id": "5d2fb9da",
   "metadata": {},
   "source": [
    "There are so many outliers in all the columns except latitude and primary_fuel."
   ]
  },
  {
   "cell_type": "markdown",
   "id": "443704e9",
   "metadata": {},
   "source": [
    "### Removing Outliers"
   ]
  },
  {
   "cell_type": "code",
   "execution_count": 53,
   "id": "71d3e18e",
   "metadata": {},
   "outputs": [
    {
     "data": {
      "text/plain": [
       "array([[5.48907549e-01, 1.14980517e+00, 8.78279731e-01, ...,\n",
       "        1.08334929e+00, 0.00000000e+00, 1.50124402e-16],\n",
       "       [3.86977292e-01, 5.87310989e-01, 5.93788441e-01, ...,\n",
       "        3.94241396e-01, 0.00000000e+00, 1.50124402e-16],\n",
       "       [4.86678853e-01, 1.16179322e-01, 1.68239437e+00, ...,\n",
       "        3.94241396e-01, 0.00000000e+00, 1.50124402e-16],\n",
       "       ...,\n",
       "       [5.09908639e-01, 9.74706510e-01, 3.91673420e-01, ...,\n",
       "        3.94241396e-01, 0.00000000e+00, 1.50124402e-16],\n",
       "       [4.17498178e-01, 5.18793221e-01, 7.72866383e-01, ...,\n",
       "        3.94241396e-01, 0.00000000e+00, 1.50124402e-16],\n",
       "       [5.25169082e-01, 1.85383409e+00, 2.47270171e-03, ...,\n",
       "        3.94241396e-01, 0.00000000e+00, 1.50124402e-16]])"
      ]
     },
     "execution_count": 53,
     "metadata": {},
     "output_type": "execute_result"
    }
   ],
   "source": [
    "from scipy.stats import zscore\n",
    "\n",
    "z=np.abs(zscore(df))\n",
    "z"
   ]
  },
  {
   "cell_type": "code",
   "execution_count": 54,
   "id": "be788a90",
   "metadata": {},
   "outputs": [
    {
     "data": {
      "text/plain": [
       "(907, 9)"
      ]
     },
     "execution_count": 54,
     "metadata": {},
     "output_type": "execute_result"
    }
   ],
   "source": [
    "z.shape"
   ]
  },
  {
   "cell_type": "code",
   "execution_count": 55,
   "id": "cc4f7e59",
   "metadata": {},
   "outputs": [
    {
     "name": "stdout",
     "output_type": "stream",
     "text": [
      "(array([ 15,  15,  15,  71,  80, 143, 143, 143, 147, 179, 183, 191, 209,\n",
      "       209, 209, 222, 244, 299, 308, 308, 308, 321, 323, 333, 340, 342,\n",
      "       345, 360, 363, 364, 364, 364, 371, 375, 416, 427, 444, 454, 478,\n",
      "       482, 484, 493, 493, 493, 494, 494, 494, 499, 519, 538, 541, 546,\n",
      "       573, 577, 583, 592, 601, 621, 638, 648, 648, 648, 657, 657, 657,\n",
      "       661, 669, 689, 695, 695, 695, 706, 709, 721, 721, 724, 724, 726,\n",
      "       726, 726, 728, 767, 786, 786, 786, 788, 807, 808, 808, 808, 818,\n",
      "       832, 847, 848, 870, 871, 879, 880, 880, 880, 895, 900], dtype=int64), array([0, 7, 8, 5, 5, 0, 7, 8, 0, 2, 2, 5, 0, 7, 8, 4, 2, 5, 0, 7, 8, 5,\n",
      "       2, 2, 2, 4, 5, 2, 0, 0, 7, 8, 4, 0, 2, 2, 4, 4, 4, 0, 4, 0, 7, 8,\n",
      "       0, 7, 8, 2, 2, 4, 4, 2, 4, 2, 4, 4, 4, 4, 2, 0, 7, 8, 0, 7, 8, 5,\n",
      "       5, 5, 0, 7, 8, 4, 4, 7, 8, 7, 8, 0, 7, 8, 4, 0, 0, 7, 8, 0, 4, 0,\n",
      "       7, 8, 2, 5, 2, 4, 5, 5, 5, 0, 7, 8, 5, 5], dtype=int64))\n"
     ]
    }
   ],
   "source": [
    "threshold=3\n",
    "print(np.where(z>3))"
   ]
  },
  {
   "cell_type": "code",
   "execution_count": 56,
   "id": "96b5ca32",
   "metadata": {},
   "outputs": [
    {
     "data": {
      "text/html": [
       "<div>\n",
       "<style scoped>\n",
       "    .dataframe tbody tr th:only-of-type {\n",
       "        vertical-align: middle;\n",
       "    }\n",
       "\n",
       "    .dataframe tbody tr th {\n",
       "        vertical-align: top;\n",
       "    }\n",
       "\n",
       "    .dataframe thead th {\n",
       "        text-align: right;\n",
       "    }\n",
       "</style>\n",
       "<table border=\"1\" class=\"dataframe\">\n",
       "  <thead>\n",
       "    <tr style=\"text-align: right;\">\n",
       "      <th></th>\n",
       "      <th>capacity_mw</th>\n",
       "      <th>latitude</th>\n",
       "      <th>longitude</th>\n",
       "      <th>primary_fuel</th>\n",
       "      <th>commissioning_year</th>\n",
       "      <th>source</th>\n",
       "      <th>geolocation_source</th>\n",
       "      <th>generation_gwh_2016</th>\n",
       "      <th>generation_gwh_2018</th>\n",
       "    </tr>\n",
       "  </thead>\n",
       "  <tbody>\n",
       "    <tr>\n",
       "      <th>0</th>\n",
       "      <td>2.5</td>\n",
       "      <td>28.1839</td>\n",
       "      <td>73.2407</td>\n",
       "      <td>6</td>\n",
       "      <td>2011.000000</td>\n",
       "      <td>109</td>\n",
       "      <td>1</td>\n",
       "      <td>2467.936859</td>\n",
       "      <td>2600.804099</td>\n",
       "    </tr>\n",
       "    <tr>\n",
       "      <th>1</th>\n",
       "      <td>98.0</td>\n",
       "      <td>24.7663</td>\n",
       "      <td>74.6090</td>\n",
       "      <td>1</td>\n",
       "      <td>1997.091082</td>\n",
       "      <td>174</td>\n",
       "      <td>2</td>\n",
       "      <td>2467.936859</td>\n",
       "      <td>2600.804099</td>\n",
       "    </tr>\n",
       "    <tr>\n",
       "      <th>2</th>\n",
       "      <td>39.2</td>\n",
       "      <td>21.9038</td>\n",
       "      <td>69.3732</td>\n",
       "      <td>7</td>\n",
       "      <td>1997.091082</td>\n",
       "      <td>21</td>\n",
       "      <td>2</td>\n",
       "      <td>2467.936859</td>\n",
       "      <td>2600.804099</td>\n",
       "    </tr>\n",
       "    <tr>\n",
       "      <th>3</th>\n",
       "      <td>135.0</td>\n",
       "      <td>23.8712</td>\n",
       "      <td>91.3602</td>\n",
       "      <td>2</td>\n",
       "      <td>2004.000000</td>\n",
       "      <td>22</td>\n",
       "      <td>2</td>\n",
       "      <td>886.004428</td>\n",
       "      <td>626.239128</td>\n",
       "    </tr>\n",
       "    <tr>\n",
       "      <th>4</th>\n",
       "      <td>1800.0</td>\n",
       "      <td>21.9603</td>\n",
       "      <td>82.4091</td>\n",
       "      <td>1</td>\n",
       "      <td>2015.000000</td>\n",
       "      <td>22</td>\n",
       "      <td>2</td>\n",
       "      <td>6243.000000</td>\n",
       "      <td>7279.000000</td>\n",
       "    </tr>\n",
       "    <tr>\n",
       "      <th>...</th>\n",
       "      <td>...</td>\n",
       "      <td>...</td>\n",
       "      <td>...</td>\n",
       "      <td>...</td>\n",
       "      <td>...</td>\n",
       "      <td>...</td>\n",
       "      <td>...</td>\n",
       "      <td>...</td>\n",
       "      <td>...</td>\n",
       "    </tr>\n",
       "    <tr>\n",
       "      <th>902</th>\n",
       "      <td>1600.0</td>\n",
       "      <td>16.2949</td>\n",
       "      <td>77.3568</td>\n",
       "      <td>1</td>\n",
       "      <td>2016.000000</td>\n",
       "      <td>22</td>\n",
       "      <td>2</td>\n",
       "      <td>233.596650</td>\n",
       "      <td>686.500000</td>\n",
       "    </tr>\n",
       "    <tr>\n",
       "      <th>903</th>\n",
       "      <td>3.0</td>\n",
       "      <td>12.8932</td>\n",
       "      <td>78.1654</td>\n",
       "      <td>6</td>\n",
       "      <td>1997.091082</td>\n",
       "      <td>77</td>\n",
       "      <td>0</td>\n",
       "      <td>2467.936859</td>\n",
       "      <td>2600.804099</td>\n",
       "    </tr>\n",
       "    <tr>\n",
       "      <th>904</th>\n",
       "      <td>25.5</td>\n",
       "      <td>15.2758</td>\n",
       "      <td>75.5811</td>\n",
       "      <td>7</td>\n",
       "      <td>1997.091082</td>\n",
       "      <td>21</td>\n",
       "      <td>2</td>\n",
       "      <td>2467.936859</td>\n",
       "      <td>2600.804099</td>\n",
       "    </tr>\n",
       "    <tr>\n",
       "      <th>905</th>\n",
       "      <td>80.0</td>\n",
       "      <td>24.3500</td>\n",
       "      <td>73.7477</td>\n",
       "      <td>1</td>\n",
       "      <td>1997.091082</td>\n",
       "      <td>59</td>\n",
       "      <td>2</td>\n",
       "      <td>2467.936859</td>\n",
       "      <td>2600.804099</td>\n",
       "    </tr>\n",
       "    <tr>\n",
       "      <th>906</th>\n",
       "      <td>16.5</td>\n",
       "      <td>9.9344</td>\n",
       "      <td>77.4768</td>\n",
       "      <td>7</td>\n",
       "      <td>1997.091082</td>\n",
       "      <td>21</td>\n",
       "      <td>2</td>\n",
       "      <td>2467.936859</td>\n",
       "      <td>2600.804099</td>\n",
       "    </tr>\n",
       "  </tbody>\n",
       "</table>\n",
       "<p>835 rows × 9 columns</p>\n",
       "</div>"
      ],
      "text/plain": [
       "     capacity_mw  latitude  longitude  primary_fuel  commissioning_year  \\\n",
       "0            2.5   28.1839    73.2407             6         2011.000000   \n",
       "1           98.0   24.7663    74.6090             1         1997.091082   \n",
       "2           39.2   21.9038    69.3732             7         1997.091082   \n",
       "3          135.0   23.8712    91.3602             2         2004.000000   \n",
       "4         1800.0   21.9603    82.4091             1         2015.000000   \n",
       "..           ...       ...        ...           ...                 ...   \n",
       "902       1600.0   16.2949    77.3568             1         2016.000000   \n",
       "903          3.0   12.8932    78.1654             6         1997.091082   \n",
       "904         25.5   15.2758    75.5811             7         1997.091082   \n",
       "905         80.0   24.3500    73.7477             1         1997.091082   \n",
       "906         16.5    9.9344    77.4768             7         1997.091082   \n",
       "\n",
       "     source  geolocation_source  generation_gwh_2016  generation_gwh_2018  \n",
       "0       109                   1          2467.936859          2600.804099  \n",
       "1       174                   2          2467.936859          2600.804099  \n",
       "2        21                   2          2467.936859          2600.804099  \n",
       "3        22                   2           886.004428           626.239128  \n",
       "4        22                   2          6243.000000          7279.000000  \n",
       "..      ...                 ...                  ...                  ...  \n",
       "902      22                   2           233.596650           686.500000  \n",
       "903      77                   0          2467.936859          2600.804099  \n",
       "904      21                   2          2467.936859          2600.804099  \n",
       "905      59                   2          2467.936859          2600.804099  \n",
       "906      21                   2          2467.936859          2600.804099  \n",
       "\n",
       "[835 rows x 9 columns]"
      ]
     },
     "execution_count": 56,
     "metadata": {},
     "output_type": "execute_result"
    }
   ],
   "source": [
    "df_new=df[(z<3).all(axis=1)]\n",
    "df_new"
   ]
  },
  {
   "cell_type": "code",
   "execution_count": 57,
   "id": "35517659",
   "metadata": {},
   "outputs": [
    {
     "name": "stdout",
     "output_type": "stream",
     "text": [
      "(907, 9)\n",
      "(835, 9)\n"
     ]
    }
   ],
   "source": [
    "print(df.shape)\n",
    "print(df_new.shape)"
   ]
  },
  {
   "cell_type": "code",
   "execution_count": 58,
   "id": "f6cd87ff",
   "metadata": {},
   "outputs": [
    {
     "name": "stdout",
     "output_type": "stream",
     "text": [
      "7.938257993384785\n"
     ]
    }
   ],
   "source": [
    "# Percentage Data loss\n",
    "\n",
    "loss_percent=(907-835)/907*100\n",
    "print(loss_percent)"
   ]
  },
  {
   "cell_type": "markdown",
   "id": "fe693b13",
   "metadata": {},
   "source": [
    "7.93% data is lost"
   ]
  },
  {
   "cell_type": "markdown",
   "id": "2adfc2c1",
   "metadata": {},
   "source": [
    "## Checking Skewness"
   ]
  },
  {
   "cell_type": "code",
   "execution_count": 59,
   "id": "4395d42e",
   "metadata": {},
   "outputs": [
    {
     "data": {
      "text/plain": [
       "capacity_mw            1.951725\n",
       "latitude              -0.113160\n",
       "longitude              0.911191\n",
       "primary_fuel           0.414053\n",
       "commissioning_year    -0.843485\n",
       "source                 1.786502\n",
       "geolocation_source    -2.106224\n",
       "generation_gwh_2016    1.425788\n",
       "generation_gwh_2018    1.358324\n",
       "dtype: float64"
      ]
     },
     "execution_count": 59,
     "metadata": {},
     "output_type": "execute_result"
    }
   ],
   "source": [
    "df_new.skew()"
   ]
  },
  {
   "cell_type": "markdown",
   "id": "d0f7b9ab",
   "metadata": {},
   "source": [
    "skewness more than+/- 0.5 will we treated"
   ]
  },
  {
   "cell_type": "markdown",
   "id": "ff1e1997",
   "metadata": {},
   "source": [
    "### Removing skewness using yeo-johnson method"
   ]
  },
  {
   "cell_type": "code",
   "execution_count": 60,
   "id": "61a47a0c",
   "metadata": {},
   "outputs": [],
   "source": [
    "from sklearn.preprocessing import PowerTransformer"
   ]
  },
  {
   "cell_type": "markdown",
   "id": "f872d9fb",
   "metadata": {},
   "source": [
    "The following columns have skewness more than +0.5 and -0.5.\n",
    "\n",
    "'capacity_mw',\"longitude\",'commissioning_yera','source','geolocation_source','generation_gwh_2016','generation_gwh_2018'"
   ]
  },
  {
   "cell_type": "code",
   "execution_count": 61,
   "id": "1dee9f05",
   "metadata": {},
   "outputs": [
    {
     "data": {
      "text/plain": [
       "\"\\nparameters:\\nmethod = 'box-cox' or 'yeo-johnson'\\n\""
      ]
     },
     "execution_count": 61,
     "metadata": {},
     "output_type": "execute_result"
    }
   ],
   "source": [
    "skew = ['capacity_mw',\"longitude\",'commissioning_year','source','geolocation_source','generation_gwh_2016','generation_gwh_2018']\n",
    "scaler = PowerTransformer(method='yeo-johnson')\n",
    "'''\n",
    "parameters:\n",
    "method = 'box-cox' or 'yeo-johnson'\n",
    "'''"
   ]
  },
  {
   "cell_type": "code",
   "execution_count": 62,
   "id": "7f6c658c",
   "metadata": {},
   "outputs": [
    {
     "data": {
      "text/html": [
       "<div>\n",
       "<style scoped>\n",
       "    .dataframe tbody tr th:only-of-type {\n",
       "        vertical-align: middle;\n",
       "    }\n",
       "\n",
       "    .dataframe tbody tr th {\n",
       "        vertical-align: top;\n",
       "    }\n",
       "\n",
       "    .dataframe thead th {\n",
       "        text-align: right;\n",
       "    }\n",
       "</style>\n",
       "<table border=\"1\" class=\"dataframe\">\n",
       "  <thead>\n",
       "    <tr style=\"text-align: right;\">\n",
       "      <th></th>\n",
       "      <th>capacity_mw</th>\n",
       "      <th>longitude</th>\n",
       "      <th>commissioning_year</th>\n",
       "      <th>source</th>\n",
       "      <th>geolocation_source</th>\n",
       "      <th>generation_gwh_2016</th>\n",
       "      <th>generation_gwh_2018</th>\n",
       "    </tr>\n",
       "  </thead>\n",
       "  <tbody>\n",
       "    <tr>\n",
       "      <th>0</th>\n",
       "      <td>-1.671407</td>\n",
       "      <td>-0.930456</td>\n",
       "      <td>1.279713</td>\n",
       "      <td>1.615940</td>\n",
       "      <td>-2.284315</td>\n",
       "      <td>0.362091</td>\n",
       "      <td>0.377618</td>\n",
       "    </tr>\n",
       "    <tr>\n",
       "      <th>1</th>\n",
       "      <td>0.207389</td>\n",
       "      <td>-0.513824</td>\n",
       "      <td>-0.184895</td>\n",
       "      <td>2.090140</td>\n",
       "      <td>0.403637</td>\n",
       "      <td>0.362091</td>\n",
       "      <td>0.377618</td>\n",
       "    </tr>\n",
       "    <tr>\n",
       "      <th>2</th>\n",
       "      <td>-0.287387</td>\n",
       "      <td>-2.354133</td>\n",
       "      <td>-0.184895</td>\n",
       "      <td>-0.468138</td>\n",
       "      <td>0.403637</td>\n",
       "      <td>0.362091</td>\n",
       "      <td>0.377618</td>\n",
       "    </tr>\n",
       "    <tr>\n",
       "      <th>3</th>\n",
       "      <td>0.379679</td>\n",
       "      <td>2.446285</td>\n",
       "      <td>0.493260</td>\n",
       "      <td>-0.399913</td>\n",
       "      <td>0.403637</td>\n",
       "      <td>-0.666760</td>\n",
       "      <td>-0.905002</td>\n",
       "    </tr>\n",
       "    <tr>\n",
       "      <th>4</th>\n",
       "      <td>1.742984</td>\n",
       "      <td>1.248396</td>\n",
       "      <td>1.779350</td>\n",
       "      <td>-0.399913</td>\n",
       "      <td>0.403637</td>\n",
       "      <td>1.901743</td>\n",
       "      <td>2.078748</td>\n",
       "    </tr>\n",
       "  </tbody>\n",
       "</table>\n",
       "</div>"
      ],
      "text/plain": [
       "   capacity_mw  longitude  commissioning_year    source  geolocation_source  \\\n",
       "0    -1.671407  -0.930456            1.279713  1.615940           -2.284315   \n",
       "1     0.207389  -0.513824           -0.184895  2.090140            0.403637   \n",
       "2    -0.287387  -2.354133           -0.184895 -0.468138            0.403637   \n",
       "3     0.379679   2.446285            0.493260 -0.399913            0.403637   \n",
       "4     1.742984   1.248396            1.779350 -0.399913            0.403637   \n",
       "\n",
       "   generation_gwh_2016  generation_gwh_2018  \n",
       "0             0.362091             0.377618  \n",
       "1             0.362091             0.377618  \n",
       "2             0.362091             0.377618  \n",
       "3            -0.666760            -0.905002  \n",
       "4             1.901743             2.078748  "
      ]
     },
     "execution_count": 62,
     "metadata": {},
     "output_type": "execute_result"
    }
   ],
   "source": [
    "df_new[skew] = scaler.fit_transform(df_new[skew].values)\n",
    "df_new[skew].head()"
   ]
  },
  {
   "cell_type": "code",
   "execution_count": 63,
   "id": "915c9fb2",
   "metadata": {},
   "outputs": [
    {
     "data": {
      "text/plain": [
       "capacity_mw            0.011642\n",
       "latitude              -0.113160\n",
       "longitude             -0.000626\n",
       "primary_fuel           0.414053\n",
       "commissioning_year     0.027737\n",
       "source                -0.179941\n",
       "geolocation_source    -2.078069\n",
       "generation_gwh_2016   -0.307961\n",
       "generation_gwh_2018   -0.348291\n",
       "dtype: float64"
      ]
     },
     "execution_count": 63,
     "metadata": {},
     "output_type": "execute_result"
    }
   ],
   "source": [
    "df_new.skew()"
   ]
  },
  {
   "cell_type": "markdown",
   "id": "ea0ba0ce",
   "metadata": {},
   "source": [
    "The skewness has been removed now"
   ]
  },
  {
   "cell_type": "code",
   "execution_count": 64,
   "id": "bf9bae06",
   "metadata": {},
   "outputs": [
    {
     "data": {
      "image/png": "[encoded data removed]",
      "text/plain": [
       "<Figure size 1080x1440 with 7 Axes>"
      ]
     },
     "metadata": {},
     "output_type": "display_data"
    }
   ],
   "source": [
    "plt.figure(figsize=(15,20), facecolor='white')\n",
    "plotnumber = 1\n",
    "\n",
    "for column in df_new[skew]:\n",
    "    if plotnumber<=9:\n",
    "        ax = plt.subplot(3,3,plotnumber)\n",
    "        sns.distplot(df_new[column],color='red',kde_kws={\"shade\": True},hist=False)\n",
    "        plt.xlabel(column,fontsize=20)\n",
    "    plotnumber+=1\n",
    "plt.show()"
   ]
  },
  {
   "cell_type": "markdown",
   "id": "4ae3e97c",
   "metadata": {},
   "source": [
    "## Checking Multi-colinearity"
   ]
  },
  {
   "cell_type": "code",
   "execution_count": 65,
   "id": "a331ab0a",
   "metadata": {},
   "outputs": [],
   "source": [
    "#Seperating the features and target variable\n",
    "\n",
    "x=df_new.drop('capacity_mw', axis=1)\n",
    "y=df_new[\"capacity_mw\"]"
   ]
  },
  {
   "cell_type": "code",
   "execution_count": 66,
   "id": "07a614f0",
   "metadata": {},
   "outputs": [
    {
     "name": "stdout",
     "output_type": "stream",
     "text": [
      "(835, 8) \t (835,)\n"
     ]
    }
   ],
   "source": [
    "print(x.shape,'\\t',y.shape)"
   ]
  },
  {
   "cell_type": "code",
   "execution_count": 67,
   "id": "0455c17c",
   "metadata": {},
   "outputs": [
    {
     "data": {
      "text/html": [
       "<div>\n",
       "<style scoped>\n",
       "    .dataframe tbody tr th:only-of-type {\n",
       "        vertical-align: middle;\n",
       "    }\n",
       "\n",
       "    .dataframe tbody tr th {\n",
       "        vertical-align: top;\n",
       "    }\n",
       "\n",
       "    .dataframe thead th {\n",
       "        text-align: right;\n",
       "    }\n",
       "</style>\n",
       "<table border=\"1\" class=\"dataframe\">\n",
       "  <thead>\n",
       "    <tr style=\"text-align: right;\">\n",
       "      <th></th>\n",
       "      <th>VIF values</th>\n",
       "      <th>Features</th>\n",
       "    </tr>\n",
       "  </thead>\n",
       "  <tbody>\n",
       "    <tr>\n",
       "      <th>0</th>\n",
       "      <td>3.108026</td>\n",
       "      <td>latitude</td>\n",
       "    </tr>\n",
       "    <tr>\n",
       "      <th>1</th>\n",
       "      <td>1.253023</td>\n",
       "      <td>longitude</td>\n",
       "    </tr>\n",
       "    <tr>\n",
       "      <th>2</th>\n",
       "      <td>3.519544</td>\n",
       "      <td>primary_fuel</td>\n",
       "    </tr>\n",
       "    <tr>\n",
       "      <th>3</th>\n",
       "      <td>1.103210</td>\n",
       "      <td>commissioning_year</td>\n",
       "    </tr>\n",
       "    <tr>\n",
       "      <th>4</th>\n",
       "      <td>1.271414</td>\n",
       "      <td>source</td>\n",
       "    </tr>\n",
       "    <tr>\n",
       "      <th>5</th>\n",
       "      <td>1.469826</td>\n",
       "      <td>geolocation_source</td>\n",
       "    </tr>\n",
       "    <tr>\n",
       "      <th>6</th>\n",
       "      <td>5.838894</td>\n",
       "      <td>generation_gwh_2016</td>\n",
       "    </tr>\n",
       "    <tr>\n",
       "      <th>7</th>\n",
       "      <td>5.796370</td>\n",
       "      <td>generation_gwh_2018</td>\n",
       "    </tr>\n",
       "  </tbody>\n",
       "</table>\n",
       "</div>"
      ],
      "text/plain": [
       "   VIF values             Features\n",
       "0    3.108026             latitude\n",
       "1    1.253023            longitude\n",
       "2    3.519544         primary_fuel\n",
       "3    1.103210   commissioning_year\n",
       "4    1.271414               source\n",
       "5    1.469826   geolocation_source\n",
       "6    5.838894  generation_gwh_2016\n",
       "7    5.796370  generation_gwh_2018"
      ]
     },
     "execution_count": 67,
     "metadata": {},
     "output_type": "execute_result"
    }
   ],
   "source": [
    "vif = pd.DataFrame()\n",
    "vif[\"VIF values\"] = [variance_inflation_factor(x.values,i)\n",
    "              for i in range(len(x.columns))]\n",
    "vif[\"Features\"] = x.columns\n",
    "\n",
    "# Let's check the values\n",
    "vif"
   ]
  },
  {
   "cell_type": "markdown",
   "id": "9aa9bc1d",
   "metadata": {},
   "source": [
    "Since VIF values in all the columns are less then 10, hence no multicolinearity problem exists after removal of skewness and outliers."
   ]
  },
  {
   "cell_type": "markdown",
   "id": "5dc6fbd0",
   "metadata": {},
   "source": [
    "## Feature Scalling"
   ]
  },
  {
   "cell_type": "code",
   "execution_count": 68,
   "id": "7e9edd6f",
   "metadata": {},
   "outputs": [
    {
     "data": {
      "text/html": [
       "<div>\n",
       "<style scoped>\n",
       "    .dataframe tbody tr th:only-of-type {\n",
       "        vertical-align: middle;\n",
       "    }\n",
       "\n",
       "    .dataframe tbody tr th {\n",
       "        vertical-align: top;\n",
       "    }\n",
       "\n",
       "    .dataframe thead th {\n",
       "        text-align: right;\n",
       "    }\n",
       "</style>\n",
       "<table border=\"1\" class=\"dataframe\">\n",
       "  <thead>\n",
       "    <tr style=\"text-align: right;\">\n",
       "      <th></th>\n",
       "      <th>latitude</th>\n",
       "      <th>longitude</th>\n",
       "      <th>primary_fuel</th>\n",
       "      <th>commissioning_year</th>\n",
       "      <th>source</th>\n",
       "      <th>geolocation_source</th>\n",
       "      <th>generation_gwh_2016</th>\n",
       "      <th>generation_gwh_2018</th>\n",
       "    </tr>\n",
       "  </thead>\n",
       "  <tbody>\n",
       "    <tr>\n",
       "      <th>0</th>\n",
       "      <td>1.153580</td>\n",
       "      <td>-0.930456</td>\n",
       "      <td>1.171419</td>\n",
       "      <td>1.279713</td>\n",
       "      <td>1.615940</td>\n",
       "      <td>-2.284315</td>\n",
       "      <td>0.362091</td>\n",
       "      <td>0.377618</td>\n",
       "    </tr>\n",
       "    <tr>\n",
       "      <th>1</th>\n",
       "      <td>0.596482</td>\n",
       "      <td>-0.513824</td>\n",
       "      <td>-0.988773</td>\n",
       "      <td>-0.184895</td>\n",
       "      <td>2.090140</td>\n",
       "      <td>0.403637</td>\n",
       "      <td>0.362091</td>\n",
       "      <td>0.377618</td>\n",
       "    </tr>\n",
       "    <tr>\n",
       "      <th>2</th>\n",
       "      <td>0.129870</td>\n",
       "      <td>-2.354133</td>\n",
       "      <td>1.603457</td>\n",
       "      <td>-0.184895</td>\n",
       "      <td>-0.468138</td>\n",
       "      <td>0.403637</td>\n",
       "      <td>0.362091</td>\n",
       "      <td>0.377618</td>\n",
       "    </tr>\n",
       "    <tr>\n",
       "      <th>3</th>\n",
       "      <td>0.450573</td>\n",
       "      <td>2.446285</td>\n",
       "      <td>-0.556734</td>\n",
       "      <td>0.493260</td>\n",
       "      <td>-0.399913</td>\n",
       "      <td>0.403637</td>\n",
       "      <td>-0.666760</td>\n",
       "      <td>-0.905002</td>\n",
       "    </tr>\n",
       "    <tr>\n",
       "      <th>4</th>\n",
       "      <td>0.139080</td>\n",
       "      <td>1.248396</td>\n",
       "      <td>-0.988773</td>\n",
       "      <td>1.779350</td>\n",
       "      <td>-0.399913</td>\n",
       "      <td>0.403637</td>\n",
       "      <td>1.901743</td>\n",
       "      <td>2.078748</td>\n",
       "    </tr>\n",
       "    <tr>\n",
       "      <th>...</th>\n",
       "      <td>...</td>\n",
       "      <td>...</td>\n",
       "      <td>...</td>\n",
       "      <td>...</td>\n",
       "      <td>...</td>\n",
       "      <td>...</td>\n",
       "      <td>...</td>\n",
       "      <td>...</td>\n",
       "    </tr>\n",
       "    <tr>\n",
       "      <th>830</th>\n",
       "      <td>-0.784429</td>\n",
       "      <td>0.213054</td>\n",
       "      <td>-0.988773</td>\n",
       "      <td>1.910410</td>\n",
       "      <td>-0.399913</td>\n",
       "      <td>0.403637</td>\n",
       "      <td>-1.400855</td>\n",
       "      <td>-0.847059</td>\n",
       "    </tr>\n",
       "    <tr>\n",
       "      <th>831</th>\n",
       "      <td>-1.338935</td>\n",
       "      <td>0.402534</td>\n",
       "      <td>1.171419</td>\n",
       "      <td>-0.184895</td>\n",
       "      <td>1.231642</td>\n",
       "      <td>-2.483840</td>\n",
       "      <td>0.362091</td>\n",
       "      <td>0.377618</td>\n",
       "    </tr>\n",
       "    <tr>\n",
       "      <th>832</th>\n",
       "      <td>-0.950551</td>\n",
       "      <td>-0.240976</td>\n",
       "      <td>1.603457</td>\n",
       "      <td>-0.184895</td>\n",
       "      <td>-0.468138</td>\n",
       "      <td>0.403637</td>\n",
       "      <td>0.362091</td>\n",
       "      <td>0.377618</td>\n",
       "    </tr>\n",
       "    <tr>\n",
       "      <th>833</th>\n",
       "      <td>0.528622</td>\n",
       "      <td>-0.771409</td>\n",
       "      <td>-0.988773</td>\n",
       "      <td>-0.184895</td>\n",
       "      <td>0.917767</td>\n",
       "      <td>0.403637</td>\n",
       "      <td>0.362091</td>\n",
       "      <td>0.377618</td>\n",
       "    </tr>\n",
       "    <tr>\n",
       "      <th>834</th>\n",
       "      <td>-1.821244</td>\n",
       "      <td>0.241822</td>\n",
       "      <td>1.603457</td>\n",
       "      <td>-0.184895</td>\n",
       "      <td>-0.468138</td>\n",
       "      <td>0.403637</td>\n",
       "      <td>0.362091</td>\n",
       "      <td>0.377618</td>\n",
       "    </tr>\n",
       "  </tbody>\n",
       "</table>\n",
       "<p>835 rows × 8 columns</p>\n",
       "</div>"
      ],
      "text/plain": [
       "     latitude  longitude  primary_fuel  commissioning_year    source  \\\n",
       "0    1.153580  -0.930456      1.171419            1.279713  1.615940   \n",
       "1    0.596482  -0.513824     -0.988773           -0.184895  2.090140   \n",
       "2    0.129870  -2.354133      1.603457           -0.184895 -0.468138   \n",
       "3    0.450573   2.446285     -0.556734            0.493260 -0.399913   \n",
       "4    0.139080   1.248396     -0.988773            1.779350 -0.399913   \n",
       "..        ...        ...           ...                 ...       ...   \n",
       "830 -0.784429   0.213054     -0.988773            1.910410 -0.399913   \n",
       "831 -1.338935   0.402534      1.171419           -0.184895  1.231642   \n",
       "832 -0.950551  -0.240976      1.603457           -0.184895 -0.468138   \n",
       "833  0.528622  -0.771409     -0.988773           -0.184895  0.917767   \n",
       "834 -1.821244   0.241822      1.603457           -0.184895 -0.468138   \n",
       "\n",
       "     geolocation_source  generation_gwh_2016  generation_gwh_2018  \n",
       "0             -2.284315             0.362091             0.377618  \n",
       "1              0.403637             0.362091             0.377618  \n",
       "2              0.403637             0.362091             0.377618  \n",
       "3              0.403637            -0.666760            -0.905002  \n",
       "4              0.403637             1.901743             2.078748  \n",
       "..                  ...                  ...                  ...  \n",
       "830            0.403637            -1.400855            -0.847059  \n",
       "831           -2.483840             0.362091             0.377618  \n",
       "832            0.403637             0.362091             0.377618  \n",
       "833            0.403637             0.362091             0.377618  \n",
       "834            0.403637             0.362091             0.377618  \n",
       "\n",
       "[835 rows x 8 columns]"
      ]
     },
     "execution_count": 68,
     "metadata": {},
     "output_type": "execute_result"
    }
   ],
   "source": [
    "#Scalling the data using Standard Scaler\n",
    "scaler = StandardScaler()\n",
    "x = pd.DataFrame(scaler.fit_transform(x), columns=x.columns)\n",
    "x"
   ]
  },
  {
   "cell_type": "markdown",
   "id": "2acc2c6f",
   "metadata": {},
   "source": [
    "## MODELLING FOR CAPACITY_MW- Regression "
   ]
  },
  {
   "cell_type": "code",
   "execution_count": 69,
   "id": "4dae3f2f",
   "metadata": {},
   "outputs": [
    {
     "name": "stdout",
     "output_type": "stream",
     "text": [
      "Best score is 0.5696159874841625 on Random State 170\n"
     ]
    }
   ],
   "source": [
    "maxScore = 0\n",
    "maxRS = 0\n",
    "\n",
    "for i in range(1,200):\n",
    "    x_train,x_test,y_train,y_test=train_test_split(x,y,test_size=0.2,random_state=i)\n",
    "    lr = LinearRegression()\n",
    "    lr.fit(x_train,y_train)\n",
    "    pred_train = lr.predict(x_train)\n",
    "    pred_test = lr.predict(x_test)\n",
    "    acc=r2_score(y_test,pred_test)\n",
    "    if acc>maxScore:\n",
    "        maxScore=acc\n",
    "        maxRS=i\n",
    "print('Best score is',maxScore,'on Random State',maxRS)"
   ]
  },
  {
   "cell_type": "markdown",
   "id": "3b89fcbb",
   "metadata": {},
   "source": [
    "### Train_test_Split"
   ]
  },
  {
   "cell_type": "code",
   "execution_count": 70,
   "id": "47527606",
   "metadata": {},
   "outputs": [],
   "source": [
    "x_train,x_test, y_train, y_test=train_test_split(x,y,test_size=.20, random_state=maxRS)"
   ]
  },
  {
   "cell_type": "code",
   "execution_count": 71,
   "id": "8163c794",
   "metadata": {},
   "outputs": [
    {
     "name": "stdout",
     "output_type": "stream",
     "text": [
      "(668, 8) \t (167, 8)\n"
     ]
    }
   ],
   "source": [
    "# Checking train and test data size\n",
    "print(x_train.shape,'\\t',x_test.shape)"
   ]
  },
  {
   "cell_type": "code",
   "execution_count": 72,
   "id": "b11e7d5d",
   "metadata": {},
   "outputs": [
    {
     "name": "stdout",
     "output_type": "stream",
     "text": [
      "(668,) \t (167,)\n"
     ]
    }
   ],
   "source": [
    "print(y_train.shape,'\\t',y_test.shape)"
   ]
  },
  {
   "cell_type": "markdown",
   "id": "57a5d582",
   "metadata": {},
   "source": [
    "## Checking with different algorithm for best score"
   ]
  },
  {
   "cell_type": "code",
   "execution_count": 73,
   "id": "27c1696e",
   "metadata": {},
   "outputs": [
    {
     "name": "stdout",
     "output_type": "stream",
     "text": [
      "Score of LinearRegression() is: 0.41720572022647606\n",
      "test_score 0.5696159874841625\n",
      "Error:\n",
      "Mean absolute error: 0.6004387023228361\n",
      "Mean squared error: 0.5001459004126695\n",
      "Root Mean squared error: 0.7072099408327555\n",
      "r2_score: 0.5696159874841625\n",
      "********************************************************************************************\n",
      "\n",
      "\n",
      "Score of Lasso() is: 0.0\n",
      "test_score -0.01642158900966484\n",
      "Error:\n",
      "Mean absolute error: 0.9430334495411896\n",
      "Mean squared error: 1.1811755921472764\n",
      "Root Mean squared error: 1.0868190245607943\n",
      "r2_score: -0.01642158900966484\n",
      "********************************************************************************************\n",
      "\n",
      "\n",
      "Score of Ridge() is: 0.4172051940843018\n",
      "test_score 0.5694272659810493\n",
      "Error:\n",
      "Mean absolute error: 0.6006580918911517\n",
      "Mean squared error: 0.5003652121978587\n",
      "Root Mean squared error: 0.7073649780685065\n",
      "r2_score: 0.5694272659810493\n",
      "********************************************************************************************\n",
      "\n",
      "\n",
      "Score of SVR() is: 0.6890917046362945\n",
      "test_score 0.7413191046053397\n",
      "Error:\n",
      "Mean absolute error: 0.4093611829499633\n",
      "Mean squared error: 0.30061104870143623\n",
      "Root Mean squared error: 0.5482800823497387\n",
      "r2_score: 0.7413191046053397\n",
      "********************************************************************************************\n",
      "\n",
      "\n",
      "Score of KNeighborsRegressor() is: 0.7490431635852932\n",
      "test_score 0.7702201987914172\n",
      "Error:\n",
      "Mean absolute error: 0.3777359779869896\n",
      "Mean squared error: 0.2670253128138253\n",
      "Root Mean squared error: 0.5167449204528529\n",
      "r2_score: 0.7702201987914172\n",
      "********************************************************************************************\n",
      "\n",
      "\n",
      "Score of DecisionTreeRegressor() is: 0.9912269035827668\n",
      "test_score 0.7454659608304752\n",
      "Error:\n",
      "Mean absolute error: 0.36461274201118116\n",
      "Mean squared error: 0.2957920194617616\n",
      "Root Mean squared error: 0.5438676488464464\n",
      "r2_score: 0.7454659608304752\n",
      "********************************************************************************************\n",
      "\n",
      "\n"
     ]
    }
   ],
   "source": [
    "# Using algorithms via for loop\n",
    "\n",
    "model=[LinearRegression(),Lasso(),Ridge(),SVR(),KNeighborsRegressor(),DecisionTreeRegressor()]\n",
    "for p in model:\n",
    "    p.fit(x_train,y_train)\n",
    "    print('Score of', p , 'is:' , p.score(x_train,y_train))\n",
    "    predp=p.predict(x_test)\n",
    "    print(f\"test_score {p.score(x_test,y_test)}\")\n",
    "    print('Error:')\n",
    "    print('Mean absolute error:', mean_absolute_error(y_test,predp))\n",
    "    print('Mean squared error:', mean_squared_error(y_test,predp))\n",
    "    print('Root Mean squared error:', np.sqrt(mean_squared_error(y_test,predp)))\n",
    "    print('r2_score:', r2_score(y_test,predp))\n",
    "    print('********************************************************************************************')\n",
    "    print('\\n')"
   ]
  },
  {
   "cell_type": "markdown",
   "id": "f3619e2e",
   "metadata": {},
   "source": [
    "KNeighborsRegressor() is giving best r2_score. Also Root mean squared error is less in KNN(). So selecting that model"
   ]
  },
  {
   "cell_type": "markdown",
   "id": "15942a30",
   "metadata": {},
   "source": [
    "### Using Ensemble Technique to boostup score"
   ]
  },
  {
   "cell_type": "code",
   "execution_count": 74,
   "id": "40d3e136",
   "metadata": {},
   "outputs": [
    {
     "name": "stdout",
     "output_type": "stream",
     "text": [
      "score: 0.9609196893096321\n",
      "\n",
      "\n",
      "Mean absolute error: 0.27666700766114805\n",
      "Mean squared error: 0.1469614360243946\n",
      "Root Mean squared error: 0.3833554956230504\n",
      "r2_score: 0.87353719690778\n"
     ]
    }
   ],
   "source": [
    "from sklearn.ensemble import RandomForestRegressor\n",
    "\n",
    "rf=RandomForestRegressor(n_estimators=100,random_state=170)\n",
    "rf.fit(x_train,y_train)\n",
    "print('score:',rf.score(x_train,y_train))\n",
    "predrf=rf.predict(x_test)\n",
    "print('\\n')\n",
    "print('Mean absolute error:', mean_absolute_error(y_test,predrf))\n",
    "print('Mean squared error:', mean_squared_error(y_test,predrf))\n",
    "print('Root Mean squared error:', np.sqrt(mean_squared_error(y_test,predrf)))\n",
    "print('r2_score:', r2_score(y_test,predrf))"
   ]
  },
  {
   "cell_type": "code",
   "execution_count": 75,
   "id": "af72c487",
   "metadata": {},
   "outputs": [
    {
     "name": "stdout",
     "output_type": "stream",
     "text": [
      "score: 0.4109403584050506\n",
      "\n",
      "\n",
      "Mean absolute error: 0.6249180014808606\n",
      "Mean squared error: 0.5308304969509736\n",
      "Root Mean squared error: 0.7285811533048145\n",
      "r2_score: 0.543211372811347\n"
     ]
    }
   ],
   "source": [
    "from sklearn.ensemble import AdaBoostRegressor\n",
    "\n",
    "\n",
    "ad=AdaBoostRegressor(base_estimator=lr,n_estimators=20,learning_rate=1.0,random_state=160)\n",
    "ad.fit(x_train,y_train)\n",
    "print('score:',ad.score(x_train,y_train))\n",
    "predad=ad.predict(x_test)\n",
    "print('\\n')\n",
    "print('Mean absolute error:', mean_absolute_error(y_test,predad))\n",
    "print('Mean squared error:', mean_squared_error(y_test,predad))\n",
    "print('Root Mean squared error:', np.sqrt(mean_squared_error(y_test,predad)))\n",
    "print('r2_score:', r2_score(y_test,predad))"
   ]
  },
  {
   "cell_type": "code",
   "execution_count": 76,
   "id": "de1b4b0c",
   "metadata": {},
   "outputs": [
    {
     "name": "stdout",
     "output_type": "stream",
     "text": [
      "r2_score: 0.8344374949171\n",
      "Mean absolute error: 0.3228952734155102\n",
      "Mean squared error: 0.19239889440878594\n",
      "Root Mean squared error: 0.4386329837219107\n"
     ]
    }
   ],
   "source": [
    "gb=GradientBoostingRegressor()\n",
    "gb.fit(x_train,y_train)\n",
    "\n",
    "predgb=gb.predict(x_test)\n",
    "print('r2_score:',r2_score(y_test,predgb))\n",
    "\n",
    "# Mean Absolute Error (MAE)\n",
    "print('Mean absolute error:',metrics.mean_absolute_error(y_test, predgb))\n",
    "\n",
    "# Mean Squared Error (MSE)\n",
    "print('Mean squared error:',metrics.mean_squared_error(y_test, predgb))\n",
    "\n",
    "# Root Mean Squared Error (RMSE)\n",
    "print(\"Root Mean squared error:\",np.sqrt(metrics.mean_squared_error(y_test, predgb)))"
   ]
  },
  {
   "cell_type": "markdown",
   "id": "16b22b12",
   "metadata": {},
   "source": [
    "## Cross- Validation"
   ]
  },
  {
   "cell_type": "code",
   "execution_count": 77,
   "id": "5e54ec9c",
   "metadata": {},
   "outputs": [
    {
     "name": "stdout",
     "output_type": "stream",
     "text": [
      "At cross fold 2 the cv score is 0.775753646480698 and accuracy score for training is -0.3686135564775106 and accuracy for the testing is -0.443627855228645\n",
      "/n\n",
      "At cross fold 3 the cv score is 0.778338191913171 and accuracy score for training is -0.3686135564775106 and accuracy for the testing is -0.443627855228645\n",
      "/n\n",
      "At cross fold 4 the cv score is 0.786381305364374 and accuracy score for training is -0.3686135564775106 and accuracy for the testing is -0.443627855228645\n",
      "/n\n",
      "At cross fold 5 the cv score is 0.785900033056572 and accuracy score for training is -0.3686135564775106 and accuracy for the testing is -0.443627855228645\n",
      "/n\n",
      "At cross fold 6 the cv score is 0.7817154238673472 and accuracy score for training is -0.3686135564775106 and accuracy for the testing is -0.443627855228645\n",
      "/n\n",
      "At cross fold 7 the cv score is 0.7817558467816136 and accuracy score for training is -0.3686135564775106 and accuracy for the testing is -0.443627855228645\n",
      "/n\n",
      "At cross fold 8 the cv score is 0.7925758230270646 and accuracy score for training is -0.3686135564775106 and accuracy for the testing is -0.443627855228645\n",
      "/n\n",
      "At cross fold 9 the cv score is 0.7858655277927483 and accuracy score for training is -0.3686135564775106 and accuracy for the testing is -0.443627855228645\n",
      "/n\n"
     ]
    }
   ],
   "source": [
    "Train_accuracy= r2_score(y_train,pred_train)\n",
    "Test_accuracy = r2_score(y_test,pred_test)\n",
    "from sklearn.model_selection import cross_val_score\n",
    "\n",
    "for j in range(2,10):\n",
    "    cv_score=cross_val_score(rf,x,y,cv=j)\n",
    "    cv_mean=cv_score.mean()\n",
    "    print(f\"At cross fold {j} the cv score is {cv_mean} and accuracy score for training is {Train_accuracy} and accuracy for the testing is {Test_accuracy}\")\n",
    "    print(\"/n\")\n",
    "    "
   ]
  },
  {
   "cell_type": "markdown",
   "id": "98faa902",
   "metadata": {},
   "source": [
    "We are getting highest cv score at cv=8"
   ]
  },
  {
   "cell_type": "code",
   "execution_count": 78,
   "id": "12d386ed",
   "metadata": {},
   "outputs": [
    {
     "name": "stderr",
     "output_type": "stream",
     "text": [
      "[Parallel(n_jobs=-1)]: Using backend LokyBackend with 6 concurrent workers.\n",
      "[Parallel(n_jobs=-1)]: Done   6 out of   8 | elapsed:    1.0s remaining:    0.3s\n",
      "[Parallel(n_jobs=-1)]: Done   8 out of   8 | elapsed:    1.2s finished\n"
     ]
    },
    {
     "name": "stdout",
     "output_type": "stream",
     "text": [
      "Score: [0.80089583 0.71877663 0.82752633 0.76526094 0.80135366 0.84225727\n",
      " 0.75020385 0.83433207]\n",
      "Mean Score: 0.7925758230270646\n",
      "Standard Deviation: 0.04118168448257834\n"
     ]
    }
   ],
   "source": [
    "# Cross validate of RandomForestClassifier\n",
    "from sklearn.model_selection import cross_val_score\n",
    "score=cross_val_score(rf,x,y,cv=8,scoring='r2',verbose=1,n_jobs=-1)\n",
    "print('Score:', score)\n",
    "print('Mean Score:', score.mean())\n",
    "print('Standard Deviation:', score.std())"
   ]
  },
  {
   "cell_type": "markdown",
   "id": "c2eb61a7",
   "metadata": {},
   "source": [
    "## Hyper Parameter Tuning for the model with best acc and cv score"
   ]
  },
  {
   "cell_type": "code",
   "execution_count": 79,
   "id": "3afae51d",
   "metadata": {},
   "outputs": [],
   "source": [
    "#RandomForestRegressor\n",
    "parameters = {'criterion':['mse', 'mae'],\n",
    "             'max_features':['auto', 'sqrt', 'log2'],\n",
    "             'n_estimators':[0,200],\n",
    "             'max_depth':[2,3,4,6]}"
   ]
  },
  {
   "cell_type": "code",
   "execution_count": 80,
   "id": "784ff46b",
   "metadata": {},
   "outputs": [],
   "source": [
    "GCV=GridSearchCV(RandomForestRegressor(),parameters,cv=8)"
   ]
  },
  {
   "cell_type": "code",
   "execution_count": 81,
   "id": "75b3dfed",
   "metadata": {},
   "outputs": [
    {
     "data": {
      "text/plain": [
       "GridSearchCV(cv=8, estimator=RandomForestRegressor(),\n",
       "             param_grid={'criterion': ['mse', 'mae'], 'max_depth': [2, 3, 4, 6],\n",
       "                         'max_features': ['auto', 'sqrt', 'log2'],\n",
       "                         'n_estimators': [0, 200]})"
      ]
     },
     "execution_count": 81,
     "metadata": {},
     "output_type": "execute_result"
    }
   ],
   "source": [
    "GCV.fit(x_train,y_train)"
   ]
  },
  {
   "cell_type": "code",
   "execution_count": 82,
   "id": "05bb443f",
   "metadata": {},
   "outputs": [
    {
     "data": {
      "text/plain": [
       "{'criterion': 'mse',\n",
       " 'max_depth': 6,\n",
       " 'max_features': 'auto',\n",
       " 'n_estimators': 200}"
      ]
     },
     "execution_count": 82,
     "metadata": {},
     "output_type": "execute_result"
    }
   ],
   "source": [
    "GCV.best_params_"
   ]
  },
  {
   "cell_type": "code",
   "execution_count": 83,
   "id": "1cf20d40",
   "metadata": {},
   "outputs": [],
   "source": [
    "GCV_pred=GCV.best_estimator_.predict(x_test)"
   ]
  },
  {
   "cell_type": "code",
   "execution_count": 84,
   "id": "0a78e4ee",
   "metadata": {},
   "outputs": [
    {
     "name": "stdout",
     "output_type": "stream",
     "text": [
      "R2_Score: 86.14108192764688\n",
      "RMSE value: 0.3833554956230504\n"
     ]
    }
   ],
   "source": [
    "capacity_mw = RandomForestRegressor(criterion='mse', max_depth=6, max_features='auto', n_estimators=200)\n",
    "capacity_mw.fit(x_train, y_train)\n",
    "pred = capacity_mw.predict(x_test)\n",
    "print('R2_Score:',r2_score(y_test,pred)*100)\n",
    "print(\"RMSE value:\",np.sqrt(metrics.mean_squared_error(y_test, predrf)))"
   ]
  },
  {
   "cell_type": "markdown",
   "id": "0823ec75",
   "metadata": {},
   "source": [
    "After HyperParameter Tuning, we are getting an accuracy score of 86%"
   ]
  },
  {
   "cell_type": "code",
   "execution_count": 85,
   "id": "4c88bc9c",
   "metadata": {},
   "outputs": [
    {
     "data": {
      "text/plain": [
       "<AxesSubplot:xlabel='capacity_mw', ylabel='Density'>"
      ]
     },
     "execution_count": 85,
     "metadata": {},
     "output_type": "execute_result"
    },
    {
     "data": {
      "image/png": "[encoded data removed]",
      "text/plain": [
       "<Figure size 432x288 with 1 Axes>"
      ]
     },
     "metadata": {},
     "output_type": "display_data"
    }
   ],
   "source": [
    "sns.distplot(pred-y_test)"
   ]
  },
  {
   "cell_type": "markdown",
   "id": "ffe0d024",
   "metadata": {},
   "source": [
    "## Saving the model"
   ]
  },
  {
   "cell_type": "code",
   "execution_count": 86,
   "id": "cd658510",
   "metadata": {},
   "outputs": [
    {
     "data": {
      "text/plain": [
       "['Global_Power_Plant_capacity_mw_REGRESSION.pkl']"
      ]
     },
     "execution_count": 86,
     "metadata": {},
     "output_type": "execute_result"
    }
   ],
   "source": [
    "import joblib\n",
    "joblib.dump(capacity_mw,\"Global_Power_Plant_capacity_mw_REGRESSION.pkl\")"
   ]
  },
  {
   "cell_type": "code",
   "execution_count": null,
   "id": "a4abbbb8",
   "metadata": {},
   "outputs": [],
   "source": []
  },
  {
   "cell_type": "markdown",
   "id": "6d77ff87",
   "metadata": {},
   "source": [
    "# 2.MODELLING FOR PRIMARY_FUEL-Classification model"
   ]
  },
  {
   "cell_type": "markdown",
   "id": "c13c1603",
   "metadata": {},
   "source": [
    "### Seperating the Dataset into Features and Label(primary_fuel)"
   ]
  },
  {
   "cell_type": "code",
   "execution_count": 87,
   "id": "771186c8",
   "metadata": {},
   "outputs": [],
   "source": [
    "x_pf = df_new.drop(\"primary_fuel\", axis=1)\n",
    "y_pf = df_new[\"primary_fuel\"]"
   ]
  },
  {
   "cell_type": "code",
   "execution_count": 88,
   "id": "d2ab72c0",
   "metadata": {},
   "outputs": [
    {
     "name": "stdout",
     "output_type": "stream",
     "text": [
      "(835, 8) \t (835,)\n"
     ]
    }
   ],
   "source": [
    "print(x_pf.shape,'\\t',y_pf.shape)"
   ]
  },
  {
   "cell_type": "markdown",
   "id": "581739bb",
   "metadata": {},
   "source": [
    "### Feature Scalling"
   ]
  },
  {
   "cell_type": "code",
   "execution_count": 89,
   "id": "0a2957ef",
   "metadata": {},
   "outputs": [
    {
     "data": {
      "text/html": [
       "<div>\n",
       "<style scoped>\n",
       "    .dataframe tbody tr th:only-of-type {\n",
       "        vertical-align: middle;\n",
       "    }\n",
       "\n",
       "    .dataframe tbody tr th {\n",
       "        vertical-align: top;\n",
       "    }\n",
       "\n",
       "    .dataframe thead th {\n",
       "        text-align: right;\n",
       "    }\n",
       "</style>\n",
       "<table border=\"1\" class=\"dataframe\">\n",
       "  <thead>\n",
       "    <tr style=\"text-align: right;\">\n",
       "      <th></th>\n",
       "      <th>capacity_mw</th>\n",
       "      <th>latitude</th>\n",
       "      <th>longitude</th>\n",
       "      <th>commissioning_year</th>\n",
       "      <th>source</th>\n",
       "      <th>geolocation_source</th>\n",
       "      <th>generation_gwh_2016</th>\n",
       "      <th>generation_gwh_2018</th>\n",
       "    </tr>\n",
       "  </thead>\n",
       "  <tbody>\n",
       "    <tr>\n",
       "      <th>0</th>\n",
       "      <td>-1.671407</td>\n",
       "      <td>1.153580</td>\n",
       "      <td>-0.930456</td>\n",
       "      <td>1.279713</td>\n",
       "      <td>1.615940</td>\n",
       "      <td>-2.284315</td>\n",
       "      <td>0.362091</td>\n",
       "      <td>0.377618</td>\n",
       "    </tr>\n",
       "    <tr>\n",
       "      <th>1</th>\n",
       "      <td>0.207389</td>\n",
       "      <td>0.596482</td>\n",
       "      <td>-0.513824</td>\n",
       "      <td>-0.184895</td>\n",
       "      <td>2.090140</td>\n",
       "      <td>0.403637</td>\n",
       "      <td>0.362091</td>\n",
       "      <td>0.377618</td>\n",
       "    </tr>\n",
       "    <tr>\n",
       "      <th>2</th>\n",
       "      <td>-0.287387</td>\n",
       "      <td>0.129870</td>\n",
       "      <td>-2.354133</td>\n",
       "      <td>-0.184895</td>\n",
       "      <td>-0.468138</td>\n",
       "      <td>0.403637</td>\n",
       "      <td>0.362091</td>\n",
       "      <td>0.377618</td>\n",
       "    </tr>\n",
       "    <tr>\n",
       "      <th>3</th>\n",
       "      <td>0.379679</td>\n",
       "      <td>0.450573</td>\n",
       "      <td>2.446285</td>\n",
       "      <td>0.493260</td>\n",
       "      <td>-0.399913</td>\n",
       "      <td>0.403637</td>\n",
       "      <td>-0.666760</td>\n",
       "      <td>-0.905002</td>\n",
       "    </tr>\n",
       "    <tr>\n",
       "      <th>4</th>\n",
       "      <td>1.742984</td>\n",
       "      <td>0.139080</td>\n",
       "      <td>1.248396</td>\n",
       "      <td>1.779350</td>\n",
       "      <td>-0.399913</td>\n",
       "      <td>0.403637</td>\n",
       "      <td>1.901743</td>\n",
       "      <td>2.078748</td>\n",
       "    </tr>\n",
       "    <tr>\n",
       "      <th>...</th>\n",
       "      <td>...</td>\n",
       "      <td>...</td>\n",
       "      <td>...</td>\n",
       "      <td>...</td>\n",
       "      <td>...</td>\n",
       "      <td>...</td>\n",
       "      <td>...</td>\n",
       "      <td>...</td>\n",
       "    </tr>\n",
       "    <tr>\n",
       "      <th>830</th>\n",
       "      <td>1.682327</td>\n",
       "      <td>-0.784429</td>\n",
       "      <td>0.213054</td>\n",
       "      <td>1.910410</td>\n",
       "      <td>-0.399913</td>\n",
       "      <td>0.403637</td>\n",
       "      <td>-1.400855</td>\n",
       "      <td>-0.847059</td>\n",
       "    </tr>\n",
       "    <tr>\n",
       "      <th>831</th>\n",
       "      <td>-1.594007</td>\n",
       "      <td>-1.338935</td>\n",
       "      <td>0.402534</td>\n",
       "      <td>-0.184895</td>\n",
       "      <td>1.231642</td>\n",
       "      <td>-2.483840</td>\n",
       "      <td>0.362091</td>\n",
       "      <td>0.377618</td>\n",
       "    </tr>\n",
       "    <tr>\n",
       "      <th>832</th>\n",
       "      <td>-0.519077</td>\n",
       "      <td>-0.950551</td>\n",
       "      <td>-0.240976</td>\n",
       "      <td>-0.184895</td>\n",
       "      <td>-0.468138</td>\n",
       "      <td>0.403637</td>\n",
       "      <td>0.362091</td>\n",
       "      <td>0.377618</td>\n",
       "    </tr>\n",
       "    <tr>\n",
       "      <th>833</th>\n",
       "      <td>0.097965</td>\n",
       "      <td>0.528622</td>\n",
       "      <td>-0.771409</td>\n",
       "      <td>-0.184895</td>\n",
       "      <td>0.917767</td>\n",
       "      <td>0.403637</td>\n",
       "      <td>0.362091</td>\n",
       "      <td>0.377618</td>\n",
       "    </tr>\n",
       "    <tr>\n",
       "      <th>834</th>\n",
       "      <td>-0.751632</td>\n",
       "      <td>-1.821244</td>\n",
       "      <td>0.241822</td>\n",
       "      <td>-0.184895</td>\n",
       "      <td>-0.468138</td>\n",
       "      <td>0.403637</td>\n",
       "      <td>0.362091</td>\n",
       "      <td>0.377618</td>\n",
       "    </tr>\n",
       "  </tbody>\n",
       "</table>\n",
       "<p>835 rows × 8 columns</p>\n",
       "</div>"
      ],
      "text/plain": [
       "     capacity_mw  latitude  longitude  commissioning_year    source  \\\n",
       "0      -1.671407  1.153580  -0.930456            1.279713  1.615940   \n",
       "1       0.207389  0.596482  -0.513824           -0.184895  2.090140   \n",
       "2      -0.287387  0.129870  -2.354133           -0.184895 -0.468138   \n",
       "3       0.379679  0.450573   2.446285            0.493260 -0.399913   \n",
       "4       1.742984  0.139080   1.248396            1.779350 -0.399913   \n",
       "..           ...       ...        ...                 ...       ...   \n",
       "830     1.682327 -0.784429   0.213054            1.910410 -0.399913   \n",
       "831    -1.594007 -1.338935   0.402534           -0.184895  1.231642   \n",
       "832    -0.519077 -0.950551  -0.240976           -0.184895 -0.468138   \n",
       "833     0.097965  0.528622  -0.771409           -0.184895  0.917767   \n",
       "834    -0.751632 -1.821244   0.241822           -0.184895 -0.468138   \n",
       "\n",
       "     geolocation_source  generation_gwh_2016  generation_gwh_2018  \n",
       "0             -2.284315             0.362091             0.377618  \n",
       "1              0.403637             0.362091             0.377618  \n",
       "2              0.403637             0.362091             0.377618  \n",
       "3              0.403637            -0.666760            -0.905002  \n",
       "4              0.403637             1.901743             2.078748  \n",
       "..                  ...                  ...                  ...  \n",
       "830            0.403637            -1.400855            -0.847059  \n",
       "831           -2.483840             0.362091             0.377618  \n",
       "832            0.403637             0.362091             0.377618  \n",
       "833            0.403637             0.362091             0.377618  \n",
       "834            0.403637             0.362091             0.377618  \n",
       "\n",
       "[835 rows x 8 columns]"
      ]
     },
     "execution_count": 89,
     "metadata": {},
     "output_type": "execute_result"
    }
   ],
   "source": [
    "scaler=StandardScaler()\n",
    "x_pf=pd.DataFrame(scaler.fit_transform(x_pf),columns=x_pf.columns)\n",
    "x_pf"
   ]
  },
  {
   "cell_type": "markdown",
   "id": "fa3ed06d",
   "metadata": {},
   "source": [
    "## OverSampling-SMOTE Analysis"
   ]
  },
  {
   "cell_type": "code",
   "execution_count": 90,
   "id": "a3602407",
   "metadata": {},
   "outputs": [],
   "source": [
    "from imblearn.over_sampling import SMOTE\n",
    "sm = SMOTE()\n",
    "x_sm, y_sm = sm.fit_resample(x_pf,y_pf)"
   ]
  },
  {
   "cell_type": "code",
   "execution_count": 91,
   "id": "4d3ae8d7",
   "metadata": {},
   "outputs": [
    {
     "data": {
      "text/plain": [
       "0    232\n",
       "1    232\n",
       "2    232\n",
       "3    232\n",
       "4    232\n",
       "5    232\n",
       "6    232\n",
       "7    232\n",
       "Name: primary_fuel, dtype: int64"
      ]
     },
     "execution_count": 91,
     "metadata": {},
     "output_type": "execute_result"
    }
   ],
   "source": [
    "y_sm.value_counts()"
   ]
  },
  {
   "cell_type": "code",
   "execution_count": 92,
   "id": "5303395b",
   "metadata": {},
   "outputs": [
    {
     "data": {
      "text/html": [
       "<div>\n",
       "<style scoped>\n",
       "    .dataframe tbody tr th:only-of-type {\n",
       "        vertical-align: middle;\n",
       "    }\n",
       "\n",
       "    .dataframe tbody tr th {\n",
       "        vertical-align: top;\n",
       "    }\n",
       "\n",
       "    .dataframe thead th {\n",
       "        text-align: right;\n",
       "    }\n",
       "</style>\n",
       "<table border=\"1\" class=\"dataframe\">\n",
       "  <thead>\n",
       "    <tr style=\"text-align: right;\">\n",
       "      <th></th>\n",
       "      <th>capacity_mw</th>\n",
       "      <th>latitude</th>\n",
       "      <th>longitude</th>\n",
       "      <th>commissioning_year</th>\n",
       "      <th>source</th>\n",
       "      <th>geolocation_source</th>\n",
       "      <th>generation_gwh_2016</th>\n",
       "      <th>generation_gwh_2018</th>\n",
       "    </tr>\n",
       "  </thead>\n",
       "  <tbody>\n",
       "    <tr>\n",
       "      <th>0</th>\n",
       "      <td>-1.671407</td>\n",
       "      <td>1.153580</td>\n",
       "      <td>-0.930456</td>\n",
       "      <td>1.279713</td>\n",
       "      <td>1.615940</td>\n",
       "      <td>-2.284315</td>\n",
       "      <td>0.362091</td>\n",
       "      <td>0.377618</td>\n",
       "    </tr>\n",
       "    <tr>\n",
       "      <th>1</th>\n",
       "      <td>0.207389</td>\n",
       "      <td>0.596482</td>\n",
       "      <td>-0.513824</td>\n",
       "      <td>-0.184895</td>\n",
       "      <td>2.090140</td>\n",
       "      <td>0.403637</td>\n",
       "      <td>0.362091</td>\n",
       "      <td>0.377618</td>\n",
       "    </tr>\n",
       "    <tr>\n",
       "      <th>2</th>\n",
       "      <td>-0.287387</td>\n",
       "      <td>0.129870</td>\n",
       "      <td>-2.354133</td>\n",
       "      <td>-0.184895</td>\n",
       "      <td>-0.468138</td>\n",
       "      <td>0.403637</td>\n",
       "      <td>0.362091</td>\n",
       "      <td>0.377618</td>\n",
       "    </tr>\n",
       "    <tr>\n",
       "      <th>3</th>\n",
       "      <td>0.379679</td>\n",
       "      <td>0.450573</td>\n",
       "      <td>2.446285</td>\n",
       "      <td>0.493260</td>\n",
       "      <td>-0.399913</td>\n",
       "      <td>0.403637</td>\n",
       "      <td>-0.666760</td>\n",
       "      <td>-0.905002</td>\n",
       "    </tr>\n",
       "    <tr>\n",
       "      <th>4</th>\n",
       "      <td>1.742984</td>\n",
       "      <td>0.139080</td>\n",
       "      <td>1.248396</td>\n",
       "      <td>1.779350</td>\n",
       "      <td>-0.399913</td>\n",
       "      <td>0.403637</td>\n",
       "      <td>1.901743</td>\n",
       "      <td>2.078748</td>\n",
       "    </tr>\n",
       "  </tbody>\n",
       "</table>\n",
       "</div>"
      ],
      "text/plain": [
       "   capacity_mw  latitude  longitude  commissioning_year    source  \\\n",
       "0    -1.671407  1.153580  -0.930456            1.279713  1.615940   \n",
       "1     0.207389  0.596482  -0.513824           -0.184895  2.090140   \n",
       "2    -0.287387  0.129870  -2.354133           -0.184895 -0.468138   \n",
       "3     0.379679  0.450573   2.446285            0.493260 -0.399913   \n",
       "4     1.742984  0.139080   1.248396            1.779350 -0.399913   \n",
       "\n",
       "   geolocation_source  generation_gwh_2016  generation_gwh_2018  \n",
       "0           -2.284315             0.362091             0.377618  \n",
       "1            0.403637             0.362091             0.377618  \n",
       "2            0.403637             0.362091             0.377618  \n",
       "3            0.403637            -0.666760            -0.905002  \n",
       "4            0.403637             1.901743             2.078748  "
      ]
     },
     "execution_count": 92,
     "metadata": {},
     "output_type": "execute_result"
    }
   ],
   "source": [
    "x_sm.head()"
   ]
  },
  {
   "cell_type": "markdown",
   "id": "9a0fd0ba",
   "metadata": {},
   "source": [
    "## Modelling"
   ]
  },
  {
   "cell_type": "markdown",
   "id": "ba759a88",
   "metadata": {},
   "source": [
    "### Getting the best random state"
   ]
  },
  {
   "cell_type": "code",
   "execution_count": 93,
   "id": "edbfb30b",
   "metadata": {},
   "outputs": [
    {
     "name": "stdout",
     "output_type": "stream",
     "text": [
      "Best score is 0.7666068222621185 on Random State 175\n"
     ]
    }
   ],
   "source": [
    "maxAcc = 0\n",
    "maxRS = 0\n",
    "\n",
    "for i in range(1,200):\n",
    "    x1_train,x1_test,y1_train,y1_test=train_test_split(x_sm,y_sm,random_state=i,test_size=0.30)\n",
    "    LR = LogisticRegression()\n",
    "    LR.fit(x1_train,y1_train)\n",
    "    predrf= LR.predict(x1_test)\n",
    "    acc=accuracy_score(y1_test,predrf)\n",
    "    if acc>maxAcc:\n",
    "        maxAcc=acc\n",
    "        maxRS=i\n",
    "print('Best score is',maxAcc,'on Random State',maxRS)"
   ]
  },
  {
   "cell_type": "markdown",
   "id": "3117c846",
   "metadata": {},
   "source": [
    "### Creating train_test_split"
   ]
  },
  {
   "cell_type": "code",
   "execution_count": 94,
   "id": "f4d56dd5",
   "metadata": {},
   "outputs": [],
   "source": [
    "x1_train,x1_test,y1_train,y1_test=train_test_split(x_sm,y_sm,test_size=.30,random_state=maxRS)"
   ]
  },
  {
   "cell_type": "code",
   "execution_count": 95,
   "id": "899c125b",
   "metadata": {},
   "outputs": [
    {
     "name": "stdout",
     "output_type": "stream",
     "text": [
      "(1299, 8) \t (557, 8)\n"
     ]
    }
   ],
   "source": [
    "# Checking train and test data size\n",
    "print(x1_train.shape,'\\t',x1_test.shape)"
   ]
  },
  {
   "cell_type": "code",
   "execution_count": 96,
   "id": "3053d456",
   "metadata": {},
   "outputs": [
    {
     "name": "stdout",
     "output_type": "stream",
     "text": [
      "(1299,) \t (557,)\n"
     ]
    }
   ],
   "source": [
    "print(y1_train.shape,'\\t',y1_test.shape)"
   ]
  },
  {
   "cell_type": "markdown",
   "id": "ae12a6c4",
   "metadata": {},
   "source": [
    "### Checking with different algorithm for best score"
   ]
  },
  {
   "cell_type": "code",
   "execution_count": 97,
   "id": "fd969b31",
   "metadata": {},
   "outputs": [
    {
     "name": "stdout",
     "output_type": "stream",
     "text": [
      "Accuracy score of LogisticRegression() is:\n",
      "0.7666068222621185\n",
      "[[66  0  0  0  0  0  0  4]\n",
      " [ 7 35  5  6  6  1  0  1]\n",
      " [ 1  8 36  7  6  8  0  1]\n",
      " [ 0  8  8 35  5  6  0 18]\n",
      " [ 0  2  4  3 65  0  0  0]\n",
      " [ 2  0  1  1  0 63  0  6]\n",
      " [ 0  1  0  0  0  0 65  0]\n",
      " [ 0  1  0  3  0  0  0 62]]\n",
      "              precision    recall  f1-score   support\n",
      "\n",
      "           0       0.87      0.94      0.90        70\n",
      "           1       0.64      0.57      0.60        61\n",
      "           2       0.67      0.54      0.60        67\n",
      "           3       0.64      0.44      0.52        80\n",
      "           4       0.79      0.88      0.83        74\n",
      "           5       0.81      0.86      0.83        73\n",
      "           6       1.00      0.98      0.99        66\n",
      "           7       0.67      0.94      0.78        66\n",
      "\n",
      "    accuracy                           0.77       557\n",
      "   macro avg       0.76      0.77      0.76       557\n",
      "weighted avg       0.76      0.77      0.76       557\n",
      "\n",
      "\n",
      "\n",
      "Accuracy score of GaussianNB() is:\n",
      "0.585278276481149\n",
      "[[70  0  0  0  0  0  0  0]\n",
      " [15  3  0 41  2  0  0  0]\n",
      " [ 7  0  1 58  0  1  0  0]\n",
      " [ 0  0  0 80  0  0  0  0]\n",
      " [ 0  0  3 34 37  0  0  0]\n",
      " [27  0  0 41  0  5  0  0]\n",
      " [ 0  2  0  0  0  0 64  0]\n",
      " [ 0  0  0  0  0  0  0 66]]\n",
      "              precision    recall  f1-score   support\n",
      "\n",
      "           0       0.59      1.00      0.74        70\n",
      "           1       0.60      0.05      0.09        61\n",
      "           2       0.25      0.01      0.03        67\n",
      "           3       0.31      1.00      0.48        80\n",
      "           4       0.95      0.50      0.65        74\n",
      "           5       0.83      0.07      0.13        73\n",
      "           6       1.00      0.97      0.98        66\n",
      "           7       1.00      1.00      1.00        66\n",
      "\n",
      "    accuracy                           0.59       557\n",
      "   macro avg       0.69      0.58      0.51       557\n",
      "weighted avg       0.69      0.59      0.51       557\n",
      "\n",
      "\n",
      "\n",
      "Accuracy score of SVC() is:\n",
      "0.8509874326750448\n",
      "[[68  0  0  0  0  0  0  2]\n",
      " [ 6 39  3  4  5  1  0  3]\n",
      " [ 0  8 44  0  1 13  0  1]\n",
      " [ 0  1 10 50  2  0  0 17]\n",
      " [ 0  0  1  0 73  0  0  0]\n",
      " [ 0  0  0  0  0 68  0  5]\n",
      " [ 0  0  0  0  0  0 66  0]\n",
      " [ 0  0  0  0  0  0  0 66]]\n",
      "              precision    recall  f1-score   support\n",
      "\n",
      "           0       0.92      0.97      0.94        70\n",
      "           1       0.81      0.64      0.72        61\n",
      "           2       0.76      0.66      0.70        67\n",
      "           3       0.93      0.62      0.75        80\n",
      "           4       0.90      0.99      0.94        74\n",
      "           5       0.83      0.93      0.88        73\n",
      "           6       1.00      1.00      1.00        66\n",
      "           7       0.70      1.00      0.82        66\n",
      "\n",
      "    accuracy                           0.85       557\n",
      "   macro avg       0.86      0.85      0.84       557\n",
      "weighted avg       0.86      0.85      0.85       557\n",
      "\n",
      "\n",
      "\n",
      "Accuracy score of DecisionTreeClassifier() is:\n",
      "0.8904847396768402\n",
      "[[69  1  0  0  0  0  0  0]\n",
      " [ 2 40  9  3  2  5  0  0]\n",
      " [ 0  5 58  1  0  3  0  0]\n",
      " [ 0  6  5 67  2  0  0  0]\n",
      " [ 0  3  5  0 65  1  0  0]\n",
      " [ 2  1  5  0  0 65  0  0]\n",
      " [ 0  0  0  0  0  0 66  0]\n",
      " [ 0  0  0  0  0  0  0 66]]\n",
      "              precision    recall  f1-score   support\n",
      "\n",
      "           0       0.95      0.99      0.97        70\n",
      "           1       0.71      0.66      0.68        61\n",
      "           2       0.71      0.87      0.78        67\n",
      "           3       0.94      0.84      0.89        80\n",
      "           4       0.94      0.88      0.91        74\n",
      "           5       0.88      0.89      0.88        73\n",
      "           6       1.00      1.00      1.00        66\n",
      "           7       1.00      1.00      1.00        66\n",
      "\n",
      "    accuracy                           0.89       557\n",
      "   macro avg       0.89      0.89      0.89       557\n",
      "weighted avg       0.89      0.89      0.89       557\n",
      "\n",
      "\n",
      "\n",
      "Accuracy score of KNeighborsClassifier() is:\n",
      "0.8671454219030521\n",
      "[[70  0  0  0  0  0  0  0]\n",
      " [ 7 37  4  3  6  3  0  1]\n",
      " [ 0  6 51  0  3  7  0  0]\n",
      " [ 0  4  6 52  0  3  0 15]\n",
      " [ 0  0  1  0 73  0  0  0]\n",
      " [ 1  0  1  0  1 68  0  2]\n",
      " [ 0  0  0  0  0  0 66  0]\n",
      " [ 0  0  0  0  0  0  0 66]]\n",
      "              precision    recall  f1-score   support\n",
      "\n",
      "           0       0.90      1.00      0.95        70\n",
      "           1       0.79      0.61      0.69        61\n",
      "           2       0.81      0.76      0.78        67\n",
      "           3       0.95      0.65      0.77        80\n",
      "           4       0.88      0.99      0.93        74\n",
      "           5       0.84      0.93      0.88        73\n",
      "           6       1.00      1.00      1.00        66\n",
      "           7       0.79      1.00      0.88        66\n",
      "\n",
      "    accuracy                           0.87       557\n",
      "   macro avg       0.87      0.87      0.86       557\n",
      "weighted avg       0.87      0.87      0.86       557\n",
      "\n",
      "\n",
      "\n"
     ]
    }
   ],
   "source": [
    "import sklearn\n",
    "from sklearn.naive_bayes import GaussianNB\n",
    "from sklearn.svm import SVC\n",
    "from sklearn.tree import DecisionTreeClassifier\n",
    "from sklearn.neighbors import KNeighborsClassifier\n",
    "from sklearn.metrics import accuracy_score,confusion_matrix,classification_report\n",
    "import warnings\n",
    "warnings.filterwarnings('ignore')\n",
    "\n",
    "model=[LogisticRegression(),GaussianNB(),SVC(),DecisionTreeClassifier(),KNeighborsClassifier(),]\n",
    "\n",
    "for m in model:\n",
    "    m.fit(x1_train,y1_train)\n",
    "    m.score(x1_train,y1_train)\n",
    "    predm=m.predict(x1_test)\n",
    "    print('Accuracy score of',m, 'is:')\n",
    "    print(accuracy_score(y1_test,predm))\n",
    "    print(confusion_matrix(y1_test,predm))\n",
    "    print(classification_report(y1_test,predm))\n",
    "    print('\\n')"
   ]
  },
  {
   "cell_type": "markdown",
   "id": "0c2bb9f3",
   "metadata": {},
   "source": [
    "We are getting highest accuracy with DecisionTreeClassifier() which is 87%."
   ]
  },
  {
   "cell_type": "markdown",
   "id": "3b126a8e",
   "metadata": {},
   "source": [
    "### Using Ensemble Technique to boostup score"
   ]
  },
  {
   "cell_type": "code",
   "execution_count": 98,
   "id": "5743e4d1",
   "metadata": {},
   "outputs": [
    {
     "name": "stdout",
     "output_type": "stream",
     "text": [
      "0.933572710951526\n",
      "[[69  1  0  0  0  0  0  0]\n",
      " [ 4 47  2  4  3  1  0  0]\n",
      " [ 0  4 59  0  1  3  0  0]\n",
      " [ 0  1  4 74  1  0  0  0]\n",
      " [ 0  0  1  0 72  1  0  0]\n",
      " [ 1  2  3  0  0 67  0  0]\n",
      " [ 0  0  0  0  0  0 66  0]\n",
      " [ 0  0  0  0  0  0  0 66]]\n",
      "              precision    recall  f1-score   support\n",
      "\n",
      "           0       0.93      0.99      0.96        70\n",
      "           1       0.85      0.77      0.81        61\n",
      "           2       0.86      0.88      0.87        67\n",
      "           3       0.95      0.93      0.94        80\n",
      "           4       0.94      0.97      0.95        74\n",
      "           5       0.93      0.92      0.92        73\n",
      "           6       1.00      1.00      1.00        66\n",
      "           7       1.00      1.00      1.00        66\n",
      "\n",
      "    accuracy                           0.93       557\n",
      "   macro avg       0.93      0.93      0.93       557\n",
      "weighted avg       0.93      0.93      0.93       557\n",
      "\n"
     ]
    }
   ],
   "source": [
    "# Checking accuracy for Random Forest Classifier\n",
    "rfc = RandomForestClassifier()\n",
    "rfc.fit(x1_train,y1_train)\n",
    "\n",
    "# Prediction\n",
    "predrfc = rfc.predict(x1_test)\n",
    "\n",
    "print(accuracy_score(y1_test, predrfc))\n",
    "print(confusion_matrix(y1_test, predrfc))\n",
    "print(classification_report(y1_test,predrfc))"
   ]
  },
  {
   "cell_type": "code",
   "execution_count": 99,
   "id": "a987b715",
   "metadata": {},
   "outputs": [
    {
     "name": "stdout",
     "output_type": "stream",
     "text": [
      "0.9210053859964094\n",
      "[[68  2  0  0  0  0  0  0]\n",
      " [ 3 47  5  3  2  1  0  0]\n",
      " [ 0  4 57  1  2  3  0  0]\n",
      " [ 0  3  6 69  2  0  0  0]\n",
      " [ 0  2  1  1 69  1  0  0]\n",
      " [ 1  0  0  0  0 72  0  0]\n",
      " [ 0  1  0  0  0  0 65  0]\n",
      " [ 0  0  0  0  0  0  0 66]]\n",
      "              precision    recall  f1-score   support\n",
      "\n",
      "           0       0.94      0.97      0.96        70\n",
      "           1       0.80      0.77      0.78        61\n",
      "           2       0.83      0.85      0.84        67\n",
      "           3       0.93      0.86      0.90        80\n",
      "           4       0.92      0.93      0.93        74\n",
      "           5       0.94      0.99      0.96        73\n",
      "           6       1.00      0.98      0.99        66\n",
      "           7       1.00      1.00      1.00        66\n",
      "\n",
      "    accuracy                           0.92       557\n",
      "   macro avg       0.92      0.92      0.92       557\n",
      "weighted avg       0.92      0.92      0.92       557\n",
      "\n"
     ]
    }
   ],
   "source": [
    "# Checking accuracy for Gradient Boosting Classifier\n",
    "GBc = GradientBoostingClassifier()\n",
    "GBc.fit(x1_train,y1_train)\n",
    "\n",
    "# Prediction\n",
    "predGBc = GBc.predict(x1_test)\n",
    "\n",
    "print(accuracy_score(y1_test, predGBc))\n",
    "print(confusion_matrix(y1_test, predGBc))\n",
    "print(classification_report(y1_test,predGBc))"
   ]
  },
  {
   "cell_type": "code",
   "execution_count": 100,
   "id": "8030c25a",
   "metadata": {},
   "outputs": [
    {
     "name": "stdout",
     "output_type": "stream",
     "text": [
      "0.8904847396768402\n",
      "[[69  1  0  0  0  0  0  0]\n",
      " [ 2 39  6  4  5  5  0  0]\n",
      " [ 0  6 56  1  1  3  0  0]\n",
      " [ 0  2  6 70  2  0  0  0]\n",
      " [ 0  2  5  1 65  1  0  0]\n",
      " [ 1  2  5  0  0 65  0  0]\n",
      " [ 0  0  0  0  0  0 66  0]\n",
      " [ 0  0  0  0  0  0  0 66]]\n",
      "              precision    recall  f1-score   support\n",
      "\n",
      "           0       0.96      0.99      0.97        70\n",
      "           1       0.75      0.64      0.69        61\n",
      "           2       0.72      0.84      0.77        67\n",
      "           3       0.92      0.88      0.90        80\n",
      "           4       0.89      0.88      0.88        74\n",
      "           5       0.88      0.89      0.88        73\n",
      "           6       1.00      1.00      1.00        66\n",
      "           7       1.00      1.00      1.00        66\n",
      "\n",
      "    accuracy                           0.89       557\n",
      "   macro avg       0.89      0.89      0.89       557\n",
      "weighted avg       0.89      0.89      0.89       557\n",
      "\n"
     ]
    }
   ],
   "source": [
    "from sklearn.ensemble import AdaBoostClassifier\n",
    "adc=AdaBoostClassifier(n_estimators=100,random_state=75,base_estimator=DecisionTreeClassifier(),algorithm='SAMME',learning_rate=0.01)\n",
    "adc.fit(x1_train,y1_train)\n",
    "adc_pred=adc.predict(x1_test)\n",
    "print(accuracy_score(y1_test,adc_pred))\n",
    "print(confusion_matrix(y1_test,adc_pred))\n",
    "print(classification_report(y1_test,adc_pred))"
   ]
  },
  {
   "cell_type": "markdown",
   "id": "e63e5d28",
   "metadata": {},
   "source": [
    "Random Forest Classifier(rfc) is giving the better score than DecisionTreeClassifier. So Hypertuning Random Forest Classifier"
   ]
  },
  {
   "cell_type": "code",
   "execution_count": 101,
   "id": "3efcfd67",
   "metadata": {},
   "outputs": [
    {
     "name": "stdout",
     "output_type": "stream",
     "text": [
      "At cross fold 2 the cv score is 0.9154094827586207 and accuracy score for training is -0.3686135564775106 and accuracy for the testing is -0.443627855228645\n",
      "/n\n",
      "At cross fold 3 the cv score is 0.929416029263889 and accuracy score for training is -0.3686135564775106 and accuracy for the testing is -0.443627855228645\n",
      "/n\n",
      "At cross fold 4 the cv score is 0.9261853448275862 and accuracy score for training is -0.3686135564775106 and accuracy for the testing is -0.443627855228645\n",
      "/n\n",
      "At cross fold 5 the cv score is 0.9304987972060401 and accuracy score for training is -0.3686135564775106 and accuracy for the testing is -0.443627855228645\n",
      "/n\n",
      "At cross fold 6 the cv score is 0.9299578940042453 and accuracy score for training is -0.3686135564775106 and accuracy for the testing is -0.443627855228645\n",
      "/n\n",
      "At cross fold 7 the cv score is 0.9332043045619439 and accuracy score for training is -0.3686135564775106 and accuracy for the testing is -0.443627855228645\n",
      "/n\n",
      "At cross fold 8 the cv score is 0.9331896551724138 and accuracy score for training is -0.3686135564775106 and accuracy for the testing is -0.443627855228645\n",
      "/n\n",
      "At cross fold 9 the cv score is 0.9375133540744911 and accuracy score for training is -0.3686135564775106 and accuracy for the testing is -0.443627855228645\n",
      "/n\n"
     ]
    }
   ],
   "source": [
    "from sklearn.model_selection import cross_val_score\n",
    "\n",
    "for j in range(2,10):\n",
    "    cv_score=cross_val_score(rfc,x_sm,y_sm,cv=j)\n",
    "    cv_mean=cv_score.mean()\n",
    "    print(f\"At cross fold {j} the cv score is {cv_mean} and accuracy score for training is {Train_accuracy} and accuracy for the testing is {Test_accuracy}\")\n",
    "    print(\"/n\")\n",
    "    "
   ]
  },
  {
   "cell_type": "markdown",
   "id": "25c6d693",
   "metadata": {},
   "source": [
    "We are getting highest cv score at cv=8"
   ]
  },
  {
   "cell_type": "code",
   "execution_count": 102,
   "id": "5b1b549d",
   "metadata": {},
   "outputs": [
    {
     "name": "stderr",
     "output_type": "stream",
     "text": [
      "[Parallel(n_jobs=-1)]: Using backend LokyBackend with 6 concurrent workers.\n",
      "[Parallel(n_jobs=-1)]: Done   6 out of   8 | elapsed:    0.1s remaining:    0.0s\n",
      "[Parallel(n_jobs=-1)]: Done   8 out of   8 | elapsed:    0.3s finished\n"
     ]
    },
    {
     "name": "stdout",
     "output_type": "stream",
     "text": [
      "Score: [0.96223317 0.93103448 0.95648604 0.93513957 0.93021346 0.90640394\n",
      " 0.95402299 0.95648604]\n",
      "Mean Score: 0.9415024630541873\n",
      "Standard Deviation: 0.01783589699256188\n"
     ]
    }
   ],
   "source": [
    "# Cross validate of RandomForestClassifier\n",
    "from sklearn.model_selection import cross_val_score\n",
    "score=cross_val_score(rfc,x_sm,y_sm,cv=8,scoring='r2',verbose=1,n_jobs=-1)\n",
    "print('Score:', score)\n",
    "print('Mean Score:', score.mean())\n",
    "print('Standard Deviation:', score.std())"
   ]
  },
  {
   "cell_type": "markdown",
   "id": "1166c436",
   "metadata": {},
   "source": [
    "## HyperParameter Tuning for the model with best score"
   ]
  },
  {
   "cell_type": "code",
   "execution_count": 103,
   "id": "59400b1d",
   "metadata": {},
   "outputs": [],
   "source": [
    "#Random Forest Classifier\n",
    "\n",
    "parameters = {'criterion':['gini'],\n",
    "             'max_features':['auto'],\n",
    "             'n_estimators':[0,200],\n",
    "             'max_depth':[2,3,4,5,6,8]}"
   ]
  },
  {
   "cell_type": "code",
   "execution_count": 104,
   "id": "406128e2",
   "metadata": {},
   "outputs": [],
   "source": [
    "GCV=GridSearchCV(RandomForestClassifier(),parameters,cv=8)"
   ]
  },
  {
   "cell_type": "code",
   "execution_count": 105,
   "id": "2922a52f",
   "metadata": {},
   "outputs": [
    {
     "data": {
      "text/plain": [
       "GridSearchCV(cv=8, estimator=RandomForestClassifier(),\n",
       "             param_grid={'criterion': ['gini'], 'max_depth': [2, 3, 4, 5, 6, 8],\n",
       "                         'max_features': ['auto'], 'n_estimators': [0, 200]})"
      ]
     },
     "execution_count": 105,
     "metadata": {},
     "output_type": "execute_result"
    }
   ],
   "source": [
    "GCV.fit(x1_train,y1_train)"
   ]
  },
  {
   "cell_type": "code",
   "execution_count": 106,
   "id": "c0c6ef46",
   "metadata": {},
   "outputs": [
    {
     "data": {
      "text/plain": [
       "{'criterion': 'gini',\n",
       " 'max_depth': 8,\n",
       " 'max_features': 'auto',\n",
       " 'n_estimators': 200}"
      ]
     },
     "execution_count": 106,
     "metadata": {},
     "output_type": "execute_result"
    }
   ],
   "source": [
    "GCV.best_params_"
   ]
  },
  {
   "cell_type": "markdown",
   "id": "6ec7dd0c",
   "metadata": {},
   "source": [
    "These are the best parameters"
   ]
  },
  {
   "cell_type": "code",
   "execution_count": 107,
   "id": "59edefbd",
   "metadata": {},
   "outputs": [
    {
     "name": "stdout",
     "output_type": "stream",
     "text": [
      "91.74147217235189\n"
     ]
    }
   ],
   "source": [
    "primary_fuel =RandomForestClassifier (criterion='gini', max_depth=8, max_features='auto', n_estimators=200)\n",
    "primary_fuel.fit(x1_train, y1_train)\n",
    "pred = primary_fuel.predict(x1_test)\n",
    "acc=accuracy_score(y1_test,pred)\n",
    "print(acc*100)"
   ]
  },
  {
   "cell_type": "markdown",
   "id": "7e868497",
   "metadata": {},
   "source": [
    "After HyperParameter tuning we have received an accuracy score of 91%"
   ]
  },
  {
   "cell_type": "markdown",
   "id": "607d8ea8",
   "metadata": {},
   "source": [
    "## AUC ROC Curve"
   ]
  },
  {
   "cell_type": "markdown",
   "id": "b97658b3",
   "metadata": {},
   "source": [
    "Since it is a multiclass classifier, so we will apply OneVsrestClassifier to make AUC ROC curve between each pair of one class against other classes together."
   ]
  },
  {
   "cell_type": "code",
   "execution_count": 108,
   "id": "2dddc6fd",
   "metadata": {},
   "outputs": [],
   "source": [
    "from sklearn.preprocessing import label_binarize\n",
    "from sklearn.metrics import roc_curve, auc\n",
    "from sklearn.multiclass import OneVsRestClassifier"
   ]
  },
  {
   "cell_type": "code",
   "execution_count": 109,
   "id": "04369e7f",
   "metadata": {},
   "outputs": [
    {
     "data": {
      "image/png": "[encoded data removed]",
      "text/plain": [
       "<Figure size 432x288 with 1 Axes>"
      ]
     },
     "metadata": {},
     "output_type": "display_data"
    }
   ],
   "source": [
    "classifier = OneVsRestClassifier(primary_fuel)\n",
    "y_score = classifier.fit(x1_train, y1_train).predict_proba(x1_test)\n",
    "\n",
    "#Binarize the output\n",
    "y1_test_bin  = label_binarize(y1_test, classes=[0,1,2,3,4,5,6,7])\n",
    "n_classes = 8\n",
    "\n",
    "# Compute ROC curve and AUC for all the classes\n",
    "false_positive_rate = dict()\n",
    "true_positive_rate = dict()\n",
    "roc_auc = dict()\n",
    "for i in range(n_classes):\n",
    "    false_positive_rate[i], true_positive_rate[i], _ = roc_curve(y1_test_bin[:, i], y_score[:, i])\n",
    "    roc_auc[i] = auc(false_positive_rate[i], true_positive_rate[i])\n",
    "    \n",
    "   \n",
    "for i in range(n_classes):\n",
    "    plt.plot(false_positive_rate[i], true_positive_rate[i], lw=2,\n",
    "             label='ROC curve of class {0} (area = {1:0.2f})'\n",
    "             ''.format(i, roc_auc[i]))\n",
    "\n",
    "plt.plot([0, 1], [0, 1], 'k--', lw=2)\n",
    "plt.xlim([-0.05, 1.0])\n",
    "plt.ylim([0.0, 1.05])\n",
    "plt.xlabel('False Positive Rate')\n",
    "plt.ylabel('True Positive Rate')\n",
    "plt.title('Receiver operating characteristic for multiclassification data')\n",
    "plt.legend(loc=\"lower right\")\n",
    "plt.show()"
   ]
  },
  {
   "cell_type": "markdown",
   "id": "efc88a7c",
   "metadata": {},
   "source": [
    "## Conclusion:"
   ]
  },
  {
   "cell_type": "markdown",
   "id": "25382e45",
   "metadata": {},
   "source": [
    "The accuracy score for primary_fuel is 92%\n",
    "\n",
    "The accuracy score for capacity_mw is 86.5%"
   ]
  },
  {
   "cell_type": "markdown",
   "id": "0c88d922",
   "metadata": {},
   "source": [
    "### Saving the Model"
   ]
  },
  {
   "cell_type": "code",
   "execution_count": 110,
   "id": "c870ac90",
   "metadata": {},
   "outputs": [
    {
     "data": {
      "text/plain": [
       "['Global_Power_Plant_primary_fuel_classification.pkl']"
      ]
     },
     "execution_count": 110,
     "metadata": {},
     "output_type": "execute_result"
    }
   ],
   "source": [
    "import joblib\n",
    "joblib.dump(capacity_mw,\"Global_Power_Plant_primary_fuel_classification.pkl\")"
   ]
  },
  {
   "cell_type": "code",
   "execution_count": null,
   "id": "223d2013",
   "metadata": {},
   "outputs": [],
   "source": []
  }
 ],
 "metadata": {
  "kernelspec": {
   "display_name": "Python 3",
   "language": "python",
   "name": "python3"
  },
  "language_info": {
   "codemirror_mode": {
    "name": "ipython",
    "version": 3
   },
   "file_extension": ".py",
   "mimetype": "text/x-python",
   "name": "python",
   "nbconvert_exporter": "python",
   "pygments_lexer": "ipython3",
   "version": "3.8.8"
  }
 },
 "nbformat": 4,
 "nbformat_minor": 5
}
