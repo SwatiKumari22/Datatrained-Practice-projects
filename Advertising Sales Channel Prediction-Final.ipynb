{
 "cells": [
  {
   "cell_type": "markdown",
   "id": "13e99a5e",
   "metadata": {},
   "source": [
    "## Problem Statement"
   ]
  },
  {
   "cell_type": "markdown",
   "id": "1ba694a0",
   "metadata": {},
   "source": [
    "When a company enters a market, the distribution strategy and channel it uses are keys to its success in the market.Because an effective distribution strategy under efficient supply-chain management opens doors for attaining competitive advantage and strong brand equity in the market, it is a component of the marketing mix that cannot be ignored.\n",
    "                                                                 \n",
    "The distribution strategy and the channel design have to be right the first time. The case study of Sales channel includes the detailed study of TV, radio and newspaper channel. Predict the total sales generated from all the sales channel.  \n"
   ]
  },
  {
   "cell_type": "markdown",
   "id": "0edb8a54",
   "metadata": {},
   "source": [
    "### Features"
   ]
  },
  {
   "cell_type": "markdown",
   "id": "0cbb90e2",
   "metadata": {},
   "source": [
    "Advertisement through TV\n",
    "\n",
    "Advertisement through Radio\n",
    "\n",
    "Advertisement through newspaper"
   ]
  },
  {
   "cell_type": "markdown",
   "id": "5f73fb7f",
   "metadata": {},
   "source": [
    "## Importing Important Libraries"
   ]
  },
  {
   "cell_type": "code",
   "execution_count": 2,
   "id": "2b9e8336",
   "metadata": {},
   "outputs": [],
   "source": [
    "import numpy as np\n",
    "import pandas as pd\n",
    "import matplotlib.pyplot as plt\n",
    "import seaborn as sns\n",
    "from sklearn.linear_model import LinearRegression\n",
    "from sklearn.metrics import mean_squared_error,r2_score\n",
    "from sklearn.model_selection import train_test_split,GridSearchCV, cross_val_score\n",
    "from sklearn.neighbors import KNeighborsRegressor\n",
    "from sklearn.ensemble import AdaBoostRegressor\n",
    "from sklearn.svm import SVR\n",
    "from sklearn.tree import DecisionTreeRegressor\n",
    "from sklearn.ensemble import RandomForestRegressor\n",
    "\n",
    "import warnings\n",
    "warnings.filterwarnings('ignore')"
   ]
  },
  {
   "cell_type": "markdown",
   "id": "25341924",
   "metadata": {},
   "source": [
    "## Loading the Dataset"
   ]
  },
  {
   "cell_type": "code",
   "execution_count": 3,
   "id": "d7414b5c",
   "metadata": {},
   "outputs": [
    {
     "data": {
      "text/html": [
       "<div>\n",
       "<style scoped>\n",
       "    .dataframe tbody tr th:only-of-type {\n",
       "        vertical-align: middle;\n",
       "    }\n",
       "\n",
       "    .dataframe tbody tr th {\n",
       "        vertical-align: top;\n",
       "    }\n",
       "\n",
       "    .dataframe thead th {\n",
       "        text-align: right;\n",
       "    }\n",
       "</style>\n",
       "<table border=\"1\" class=\"dataframe\">\n",
       "  <thead>\n",
       "    <tr style=\"text-align: right;\">\n",
       "      <th></th>\n",
       "      <th>TV</th>\n",
       "      <th>radio</th>\n",
       "      <th>newspaper</th>\n",
       "      <th>sales</th>\n",
       "    </tr>\n",
       "  </thead>\n",
       "  <tbody>\n",
       "    <tr>\n",
       "      <th>1</th>\n",
       "      <td>230.1</td>\n",
       "      <td>37.8</td>\n",
       "      <td>69.2</td>\n",
       "      <td>22.1</td>\n",
       "    </tr>\n",
       "    <tr>\n",
       "      <th>2</th>\n",
       "      <td>44.5</td>\n",
       "      <td>39.3</td>\n",
       "      <td>45.1</td>\n",
       "      <td>10.4</td>\n",
       "    </tr>\n",
       "    <tr>\n",
       "      <th>3</th>\n",
       "      <td>17.2</td>\n",
       "      <td>45.9</td>\n",
       "      <td>69.3</td>\n",
       "      <td>9.3</td>\n",
       "    </tr>\n",
       "    <tr>\n",
       "      <th>4</th>\n",
       "      <td>151.5</td>\n",
       "      <td>41.3</td>\n",
       "      <td>58.5</td>\n",
       "      <td>18.5</td>\n",
       "    </tr>\n",
       "    <tr>\n",
       "      <th>5</th>\n",
       "      <td>180.8</td>\n",
       "      <td>10.8</td>\n",
       "      <td>58.4</td>\n",
       "      <td>12.9</td>\n",
       "    </tr>\n",
       "    <tr>\n",
       "      <th>...</th>\n",
       "      <td>...</td>\n",
       "      <td>...</td>\n",
       "      <td>...</td>\n",
       "      <td>...</td>\n",
       "    </tr>\n",
       "    <tr>\n",
       "      <th>196</th>\n",
       "      <td>38.2</td>\n",
       "      <td>3.7</td>\n",
       "      <td>13.8</td>\n",
       "      <td>7.6</td>\n",
       "    </tr>\n",
       "    <tr>\n",
       "      <th>197</th>\n",
       "      <td>94.2</td>\n",
       "      <td>4.9</td>\n",
       "      <td>8.1</td>\n",
       "      <td>9.7</td>\n",
       "    </tr>\n",
       "    <tr>\n",
       "      <th>198</th>\n",
       "      <td>177.0</td>\n",
       "      <td>9.3</td>\n",
       "      <td>6.4</td>\n",
       "      <td>12.8</td>\n",
       "    </tr>\n",
       "    <tr>\n",
       "      <th>199</th>\n",
       "      <td>283.6</td>\n",
       "      <td>42.0</td>\n",
       "      <td>66.2</td>\n",
       "      <td>25.5</td>\n",
       "    </tr>\n",
       "    <tr>\n",
       "      <th>200</th>\n",
       "      <td>232.1</td>\n",
       "      <td>8.6</td>\n",
       "      <td>8.7</td>\n",
       "      <td>13.4</td>\n",
       "    </tr>\n",
       "  </tbody>\n",
       "</table>\n",
       "<p>200 rows × 4 columns</p>\n",
       "</div>"
      ],
      "text/plain": [
       "        TV  radio  newspaper  sales\n",
       "1    230.1   37.8       69.2   22.1\n",
       "2     44.5   39.3       45.1   10.4\n",
       "3     17.2   45.9       69.3    9.3\n",
       "4    151.5   41.3       58.5   18.5\n",
       "5    180.8   10.8       58.4   12.9\n",
       "..     ...    ...        ...    ...\n",
       "196   38.2    3.7       13.8    7.6\n",
       "197   94.2    4.9        8.1    9.7\n",
       "198  177.0    9.3        6.4   12.8\n",
       "199  283.6   42.0       66.2   25.5\n",
       "200  232.1    8.6        8.7   13.4\n",
       "\n",
       "[200 rows x 4 columns]"
      ]
     },
     "execution_count": 3,
     "metadata": {},
     "output_type": "execute_result"
    }
   ],
   "source": [
    "adv_df = pd.read_csv(\"Advertising.csv\",index_col=0)\n",
    "adv_df"
   ]
  },
  {
   "cell_type": "code",
   "execution_count": 4,
   "id": "2a5a9198",
   "metadata": {},
   "outputs": [
    {
     "name": "stdout",
     "output_type": "stream",
     "text": [
      "(200, 4)\n",
      "Index(['TV', 'radio', 'newspaper', 'sales'], dtype='object')\n"
     ]
    },
    {
     "data": {
      "text/plain": [
       "pandas.core.frame.DataFrame"
      ]
     },
     "execution_count": 4,
     "metadata": {},
     "output_type": "execute_result"
    }
   ],
   "source": [
    "print(adv_df.shape)\n",
    "print(adv_df.columns)\n",
    "type(adv_df)"
   ]
  },
  {
   "cell_type": "markdown",
   "id": "277b1b5c",
   "metadata": {},
   "source": [
    "There are 200 rows and 4 columns in the dataset."
   ]
  },
  {
   "cell_type": "code",
   "execution_count": 5,
   "id": "eca4a89b",
   "metadata": {},
   "outputs": [
    {
     "name": "stdout",
     "output_type": "stream",
     "text": [
      "<class 'pandas.core.frame.DataFrame'>\n",
      "Int64Index: 200 entries, 1 to 200\n",
      "Data columns (total 4 columns):\n",
      " #   Column     Non-Null Count  Dtype  \n",
      "---  ------     --------------  -----  \n",
      " 0   TV         200 non-null    float64\n",
      " 1   radio      200 non-null    float64\n",
      " 2   newspaper  200 non-null    float64\n",
      " 3   sales      200 non-null    float64\n",
      "dtypes: float64(4)\n",
      "memory usage: 7.8 KB\n"
     ]
    }
   ],
   "source": [
    "adv_df.info()"
   ]
  },
  {
   "cell_type": "markdown",
   "id": "68afb139",
   "metadata": {},
   "source": [
    "Observation\n",
    "\n",
    "Dataset has 200 rows and 4 columns. \n",
    "\n",
    "sales if the dependent(target) column.\n",
    "\n",
    "There is no missing values in the dataset\n",
    "\n",
    "All the columns are float type"
   ]
  },
  {
   "cell_type": "markdown",
   "id": "afc311f9",
   "metadata": {},
   "source": [
    "## Exploratory Data Analysis"
   ]
  },
  {
   "cell_type": "code",
   "execution_count": 6,
   "id": "ab1b152c",
   "metadata": {},
   "outputs": [
    {
     "data": {
      "text/html": [
       "<div>\n",
       "<style scoped>\n",
       "    .dataframe tbody tr th:only-of-type {\n",
       "        vertical-align: middle;\n",
       "    }\n",
       "\n",
       "    .dataframe tbody tr th {\n",
       "        vertical-align: top;\n",
       "    }\n",
       "\n",
       "    .dataframe thead th {\n",
       "        text-align: right;\n",
       "    }\n",
       "</style>\n",
       "<table border=\"1\" class=\"dataframe\">\n",
       "  <thead>\n",
       "    <tr style=\"text-align: right;\">\n",
       "      <th></th>\n",
       "      <th>TV</th>\n",
       "      <th>radio</th>\n",
       "      <th>newspaper</th>\n",
       "      <th>sales</th>\n",
       "    </tr>\n",
       "  </thead>\n",
       "  <tbody>\n",
       "    <tr>\n",
       "      <th>count</th>\n",
       "      <td>200.000000</td>\n",
       "      <td>200.000000</td>\n",
       "      <td>200.000000</td>\n",
       "      <td>200.000000</td>\n",
       "    </tr>\n",
       "    <tr>\n",
       "      <th>mean</th>\n",
       "      <td>147.042500</td>\n",
       "      <td>23.264000</td>\n",
       "      <td>30.554000</td>\n",
       "      <td>14.022500</td>\n",
       "    </tr>\n",
       "    <tr>\n",
       "      <th>std</th>\n",
       "      <td>85.854236</td>\n",
       "      <td>14.846809</td>\n",
       "      <td>21.778621</td>\n",
       "      <td>5.217457</td>\n",
       "    </tr>\n",
       "    <tr>\n",
       "      <th>min</th>\n",
       "      <td>0.700000</td>\n",
       "      <td>0.000000</td>\n",
       "      <td>0.300000</td>\n",
       "      <td>1.600000</td>\n",
       "    </tr>\n",
       "    <tr>\n",
       "      <th>25%</th>\n",
       "      <td>74.375000</td>\n",
       "      <td>9.975000</td>\n",
       "      <td>12.750000</td>\n",
       "      <td>10.375000</td>\n",
       "    </tr>\n",
       "    <tr>\n",
       "      <th>50%</th>\n",
       "      <td>149.750000</td>\n",
       "      <td>22.900000</td>\n",
       "      <td>25.750000</td>\n",
       "      <td>12.900000</td>\n",
       "    </tr>\n",
       "    <tr>\n",
       "      <th>75%</th>\n",
       "      <td>218.825000</td>\n",
       "      <td>36.525000</td>\n",
       "      <td>45.100000</td>\n",
       "      <td>17.400000</td>\n",
       "    </tr>\n",
       "    <tr>\n",
       "      <th>max</th>\n",
       "      <td>296.400000</td>\n",
       "      <td>49.600000</td>\n",
       "      <td>114.000000</td>\n",
       "      <td>27.000000</td>\n",
       "    </tr>\n",
       "  </tbody>\n",
       "</table>\n",
       "</div>"
      ],
      "text/plain": [
       "               TV       radio   newspaper       sales\n",
       "count  200.000000  200.000000  200.000000  200.000000\n",
       "mean   147.042500   23.264000   30.554000   14.022500\n",
       "std     85.854236   14.846809   21.778621    5.217457\n",
       "min      0.700000    0.000000    0.300000    1.600000\n",
       "25%     74.375000    9.975000   12.750000   10.375000\n",
       "50%    149.750000   22.900000   25.750000   12.900000\n",
       "75%    218.825000   36.525000   45.100000   17.400000\n",
       "max    296.400000   49.600000  114.000000   27.000000"
      ]
     },
     "execution_count": 6,
     "metadata": {},
     "output_type": "execute_result"
    }
   ],
   "source": [
    "#check some statistics\n",
    "adv_df.describe()"
   ]
  },
  {
   "cell_type": "markdown",
   "id": "2c8d40f7",
   "metadata": {},
   "source": [
    "Key Observations\n",
    "\n",
    "1 The mean is more than median(50th percentile) in all the columns except ['TV'].\n",
    "\n",
    "2 There is a large difference between 75% and max value in ['newspaper']\n",
    "\n",
    "3 The 1 and 2 observations suggest that there are extreme outliers present in newspapers.\\\n",
    "\n",
    "4 wherever Mean value is higher than the median value, that data is skewed data.\n",
    "\n",
    "5 Also we can see the minimum value for radio is 0 which is also a null nalue. So we will change that. "
   ]
  },
  {
   "cell_type": "code",
   "execution_count": 7,
   "id": "f384ff00",
   "metadata": {},
   "outputs": [
    {
     "data": {
      "text/plain": [
       "count    200.000000\n",
       "mean      23.264000\n",
       "std       14.846809\n",
       "min        0.000000\n",
       "25%        9.975000\n",
       "50%       22.900000\n",
       "75%       36.525000\n",
       "max       49.600000\n",
       "Name: radio, dtype: float64"
      ]
     },
     "execution_count": 7,
     "metadata": {},
     "output_type": "execute_result"
    }
   ],
   "source": [
    "adv_df['radio'].describe()"
   ]
  },
  {
   "cell_type": "code",
   "execution_count": 8,
   "id": "ba9780ad",
   "metadata": {},
   "outputs": [
    {
     "data": {
      "text/html": [
       "<div>\n",
       "<style scoped>\n",
       "    .dataframe tbody tr th:only-of-type {\n",
       "        vertical-align: middle;\n",
       "    }\n",
       "\n",
       "    .dataframe tbody tr th {\n",
       "        vertical-align: top;\n",
       "    }\n",
       "\n",
       "    .dataframe thead th {\n",
       "        text-align: right;\n",
       "    }\n",
       "</style>\n",
       "<table border=\"1\" class=\"dataframe\">\n",
       "  <thead>\n",
       "    <tr style=\"text-align: right;\">\n",
       "      <th></th>\n",
       "      <th>TV</th>\n",
       "      <th>radio</th>\n",
       "      <th>newspaper</th>\n",
       "      <th>sales</th>\n",
       "    </tr>\n",
       "  </thead>\n",
       "  <tbody>\n",
       "    <tr>\n",
       "      <th>128</th>\n",
       "      <td>80.2</td>\n",
       "      <td>0.0</td>\n",
       "      <td>9.2</td>\n",
       "      <td>8.8</td>\n",
       "    </tr>\n",
       "  </tbody>\n",
       "</table>\n",
       "</div>"
      ],
      "text/plain": [
       "       TV  radio  newspaper  sales\n",
       "128  80.2    0.0        9.2    8.8"
      ]
     },
     "execution_count": 8,
     "metadata": {},
     "output_type": "execute_result"
    }
   ],
   "source": [
    "adv_df[adv_df.radio == 0]"
   ]
  },
  {
   "cell_type": "markdown",
   "id": "99766b9f",
   "metadata": {},
   "source": [
    "Only one row has null value for radio column. We will change this 0 value to null values and replace that null value with median value of amount of radio ."
   ]
  },
  {
   "cell_type": "code",
   "execution_count": 9,
   "id": "72128053",
   "metadata": {},
   "outputs": [],
   "source": [
    "adv_df[\"radio\"]  =adv_df[\"radio\"].replace(0, np.nan)\n",
    "adv_df[\"radio\"]  =adv_df[\"radio\"].fillna(adv_df[\"radio\"].median())  # imputing the missing value with median"
   ]
  },
  {
   "cell_type": "code",
   "execution_count": 10,
   "id": "359a0a37",
   "metadata": {},
   "outputs": [
    {
     "data": {
      "text/plain": [
       "count    200.000000\n",
       "mean      23.380500\n",
       "std       14.754472\n",
       "min        0.300000\n",
       "25%       10.075000\n",
       "50%       23.300000\n",
       "75%       36.525000\n",
       "max       49.600000\n",
       "Name: radio, dtype: float64"
      ]
     },
     "execution_count": 10,
     "metadata": {},
     "output_type": "execute_result"
    }
   ],
   "source": [
    "#Checking min value of radio again\n",
    "adv_df['radio'].describe()"
   ]
  },
  {
   "cell_type": "code",
   "execution_count": 11,
   "id": "552660d9",
   "metadata": {},
   "outputs": [
    {
     "data": {
      "text/html": [
       "<div>\n",
       "<style scoped>\n",
       "    .dataframe tbody tr th:only-of-type {\n",
       "        vertical-align: middle;\n",
       "    }\n",
       "\n",
       "    .dataframe tbody tr th {\n",
       "        vertical-align: top;\n",
       "    }\n",
       "\n",
       "    .dataframe thead th {\n",
       "        text-align: right;\n",
       "    }\n",
       "</style>\n",
       "<table border=\"1\" class=\"dataframe\">\n",
       "  <thead>\n",
       "    <tr style=\"text-align: right;\">\n",
       "      <th></th>\n",
       "      <th>TV</th>\n",
       "      <th>radio</th>\n",
       "      <th>newspaper</th>\n",
       "      <th>sales</th>\n",
       "    </tr>\n",
       "  </thead>\n",
       "  <tbody>\n",
       "    <tr>\n",
       "      <th>count</th>\n",
       "      <td>200.000000</td>\n",
       "      <td>200.000000</td>\n",
       "      <td>200.000000</td>\n",
       "      <td>200.000000</td>\n",
       "    </tr>\n",
       "    <tr>\n",
       "      <th>mean</th>\n",
       "      <td>147.042500</td>\n",
       "      <td>23.380500</td>\n",
       "      <td>30.554000</td>\n",
       "      <td>14.022500</td>\n",
       "    </tr>\n",
       "    <tr>\n",
       "      <th>std</th>\n",
       "      <td>85.854236</td>\n",
       "      <td>14.754472</td>\n",
       "      <td>21.778621</td>\n",
       "      <td>5.217457</td>\n",
       "    </tr>\n",
       "    <tr>\n",
       "      <th>min</th>\n",
       "      <td>0.700000</td>\n",
       "      <td>0.300000</td>\n",
       "      <td>0.300000</td>\n",
       "      <td>1.600000</td>\n",
       "    </tr>\n",
       "    <tr>\n",
       "      <th>25%</th>\n",
       "      <td>74.375000</td>\n",
       "      <td>10.075000</td>\n",
       "      <td>12.750000</td>\n",
       "      <td>10.375000</td>\n",
       "    </tr>\n",
       "    <tr>\n",
       "      <th>50%</th>\n",
       "      <td>149.750000</td>\n",
       "      <td>23.300000</td>\n",
       "      <td>25.750000</td>\n",
       "      <td>12.900000</td>\n",
       "    </tr>\n",
       "    <tr>\n",
       "      <th>75%</th>\n",
       "      <td>218.825000</td>\n",
       "      <td>36.525000</td>\n",
       "      <td>45.100000</td>\n",
       "      <td>17.400000</td>\n",
       "    </tr>\n",
       "    <tr>\n",
       "      <th>max</th>\n",
       "      <td>296.400000</td>\n",
       "      <td>49.600000</td>\n",
       "      <td>114.000000</td>\n",
       "      <td>27.000000</td>\n",
       "    </tr>\n",
       "  </tbody>\n",
       "</table>\n",
       "</div>"
      ],
      "text/plain": [
       "               TV       radio   newspaper       sales\n",
       "count  200.000000  200.000000  200.000000  200.000000\n",
       "mean   147.042500   23.380500   30.554000   14.022500\n",
       "std     85.854236   14.754472   21.778621    5.217457\n",
       "min      0.700000    0.300000    0.300000    1.600000\n",
       "25%     74.375000   10.075000   12.750000   10.375000\n",
       "50%    149.750000   23.300000   25.750000   12.900000\n",
       "75%    218.825000   36.525000   45.100000   17.400000\n",
       "max    296.400000   49.600000  114.000000   27.000000"
      ]
     },
     "execution_count": 11,
     "metadata": {},
     "output_type": "execute_result"
    }
   ],
   "source": [
    "# again checking the data description\n",
    "adv_df.describe()"
   ]
  },
  {
   "cell_type": "code",
   "execution_count": null,
   "id": "55c328bb",
   "metadata": {},
   "outputs": [],
   "source": []
  },
  {
   "cell_type": "markdown",
   "id": "feb1fe39",
   "metadata": {},
   "source": [
    "## Univariate Analysis"
   ]
  },
  {
   "cell_type": "code",
   "execution_count": 12,
   "id": "843e3fc9",
   "metadata": {},
   "outputs": [
    {
     "data": {
      "image/png": "[encoded data removed]",
      "text/plain": [
       "<Figure size 576x432 with 4 Axes>"
      ]
     },
     "metadata": {
      "needs_background": "light"
     },
     "output_type": "display_data"
    }
   ],
   "source": [
    "# we wll check the distribution of the data points\n",
    "adv_df.hist(figsize =(8,6));"
   ]
  },
  {
   "cell_type": "markdown",
   "id": "eff8c526",
   "metadata": {},
   "source": [
    "Observation Newspapaer and radio are right skewed data however TV is the left skewed distribution"
   ]
  },
  {
   "cell_type": "code",
   "execution_count": 13,
   "id": "9e432066",
   "metadata": {},
   "outputs": [
    {
     "data": {
      "image/png": "[encoded data removed]",
      "text/plain": [
       "<Figure size 864x288 with 3 Axes>"
      ]
     },
     "metadata": {
      "needs_background": "light"
     },
     "output_type": "display_data"
    }
   ],
   "source": [
    "# Let's see how Sales are related with other variables using regplot to understand relationship between features and result\n",
    "sns.pairplot(adv_df, x_vars=['TV', 'newspaper', 'radio'], y_vars='sales', height=4, aspect=1, kind='reg')\n",
    "plt.show()"
   ]
  },
  {
   "cell_type": "markdown",
   "id": "dc54f887",
   "metadata": {},
   "source": [
    "we see positive correlation of TV and radio with sales however newspaper is more scattered."
   ]
  },
  {
   "cell_type": "markdown",
   "id": "e1c2eb76",
   "metadata": {},
   "source": [
    "## Checking the Correlation"
   ]
  },
  {
   "cell_type": "code",
   "execution_count": 14,
   "id": "c1b3d6d1",
   "metadata": {},
   "outputs": [
    {
     "data": {
      "text/html": [
       "<div>\n",
       "<style scoped>\n",
       "    .dataframe tbody tr th:only-of-type {\n",
       "        vertical-align: middle;\n",
       "    }\n",
       "\n",
       "    .dataframe tbody tr th {\n",
       "        vertical-align: top;\n",
       "    }\n",
       "\n",
       "    .dataframe thead th {\n",
       "        text-align: right;\n",
       "    }\n",
       "</style>\n",
       "<table border=\"1\" class=\"dataframe\">\n",
       "  <thead>\n",
       "    <tr style=\"text-align: right;\">\n",
       "      <th></th>\n",
       "      <th>TV</th>\n",
       "      <th>radio</th>\n",
       "      <th>newspaper</th>\n",
       "      <th>sales</th>\n",
       "    </tr>\n",
       "  </thead>\n",
       "  <tbody>\n",
       "    <tr>\n",
       "      <th>TV</th>\n",
       "      <td>1.000000</td>\n",
       "      <td>0.048973</td>\n",
       "      <td>0.056648</td>\n",
       "      <td>0.782224</td>\n",
       "    </tr>\n",
       "    <tr>\n",
       "      <th>radio</th>\n",
       "      <td>0.048973</td>\n",
       "      <td>1.000000</td>\n",
       "      <td>0.348539</td>\n",
       "      <td>0.571885</td>\n",
       "    </tr>\n",
       "    <tr>\n",
       "      <th>newspaper</th>\n",
       "      <td>0.056648</td>\n",
       "      <td>0.348539</td>\n",
       "      <td>1.000000</td>\n",
       "      <td>0.228299</td>\n",
       "    </tr>\n",
       "    <tr>\n",
       "      <th>sales</th>\n",
       "      <td>0.782224</td>\n",
       "      <td>0.571885</td>\n",
       "      <td>0.228299</td>\n",
       "      <td>1.000000</td>\n",
       "    </tr>\n",
       "  </tbody>\n",
       "</table>\n",
       "</div>"
      ],
      "text/plain": [
       "                 TV     radio  newspaper     sales\n",
       "TV         1.000000  0.048973   0.056648  0.782224\n",
       "radio      0.048973  1.000000   0.348539  0.571885\n",
       "newspaper  0.056648  0.348539   1.000000  0.228299\n",
       "sales      0.782224  0.571885   0.228299  1.000000"
      ]
     },
     "execution_count": 14,
     "metadata": {},
     "output_type": "execute_result"
    }
   ],
   "source": [
    "adv_df.corr()"
   ]
  },
  {
   "cell_type": "markdown",
   "id": "99c4c8c7",
   "metadata": {},
   "source": [
    "OBSERVATIONS:\n",
    "    \n",
    "    1.All the features are positively correlated with the target variable.\n",
    "    \n",
    "    2.TV is highly correlated with Sales. So most of the advertising sales comes from Tv.Also radio is also having a good bond with SAles. \n",
    "    \n",
    "    3.Newspaper is least correlated with Sales."
   ]
  },
  {
   "cell_type": "code",
   "execution_count": 15,
   "id": "16eed29c",
   "metadata": {},
   "outputs": [
    {
     "data": {
      "text/plain": [
       "<AxesSubplot:>"
      ]
     },
     "execution_count": 15,
     "metadata": {},
     "output_type": "execute_result"
    },
    {
     "data": {
      "image/png": "[encoded data removed]",
      "text/plain": [
       "<Figure size 432x288 with 2 Axes>"
      ]
     },
     "metadata": {
      "needs_background": "light"
     },
     "output_type": "display_data"
    }
   ],
   "source": [
    "# checking with heatmap\n",
    "sns.heatmap(adv_df.corr(),annot=True)"
   ]
  },
  {
   "cell_type": "markdown",
   "id": "ecc378f5",
   "metadata": {},
   "source": [
    "as seen in the pair plot, TV and radio have higher correlation with target variable."
   ]
  },
  {
   "cell_type": "markdown",
   "id": "84106925",
   "metadata": {},
   "source": [
    "### Check for Skewness"
   ]
  },
  {
   "cell_type": "code",
   "execution_count": 16,
   "id": "5bb56057",
   "metadata": {},
   "outputs": [
    {
     "data": {
      "text/html": [
       "<div>\n",
       "<style scoped>\n",
       "    .dataframe tbody tr th:only-of-type {\n",
       "        vertical-align: middle;\n",
       "    }\n",
       "\n",
       "    .dataframe tbody tr th {\n",
       "        vertical-align: top;\n",
       "    }\n",
       "\n",
       "    .dataframe thead th {\n",
       "        text-align: right;\n",
       "    }\n",
       "</style>\n",
       "<table border=\"1\" class=\"dataframe\">\n",
       "  <thead>\n",
       "    <tr style=\"text-align: right;\">\n",
       "      <th></th>\n",
       "      <th>TV</th>\n",
       "      <th>radio</th>\n",
       "      <th>newspaper</th>\n",
       "    </tr>\n",
       "  </thead>\n",
       "  <tbody>\n",
       "    <tr>\n",
       "      <th>1</th>\n",
       "      <td>230.1</td>\n",
       "      <td>37.8</td>\n",
       "      <td>69.2</td>\n",
       "    </tr>\n",
       "    <tr>\n",
       "      <th>2</th>\n",
       "      <td>44.5</td>\n",
       "      <td>39.3</td>\n",
       "      <td>45.1</td>\n",
       "    </tr>\n",
       "    <tr>\n",
       "      <th>3</th>\n",
       "      <td>17.2</td>\n",
       "      <td>45.9</td>\n",
       "      <td>69.3</td>\n",
       "    </tr>\n",
       "    <tr>\n",
       "      <th>4</th>\n",
       "      <td>151.5</td>\n",
       "      <td>41.3</td>\n",
       "      <td>58.5</td>\n",
       "    </tr>\n",
       "    <tr>\n",
       "      <th>5</th>\n",
       "      <td>180.8</td>\n",
       "      <td>10.8</td>\n",
       "      <td>58.4</td>\n",
       "    </tr>\n",
       "    <tr>\n",
       "      <th>...</th>\n",
       "      <td>...</td>\n",
       "      <td>...</td>\n",
       "      <td>...</td>\n",
       "    </tr>\n",
       "    <tr>\n",
       "      <th>196</th>\n",
       "      <td>38.2</td>\n",
       "      <td>3.7</td>\n",
       "      <td>13.8</td>\n",
       "    </tr>\n",
       "    <tr>\n",
       "      <th>197</th>\n",
       "      <td>94.2</td>\n",
       "      <td>4.9</td>\n",
       "      <td>8.1</td>\n",
       "    </tr>\n",
       "    <tr>\n",
       "      <th>198</th>\n",
       "      <td>177.0</td>\n",
       "      <td>9.3</td>\n",
       "      <td>6.4</td>\n",
       "    </tr>\n",
       "    <tr>\n",
       "      <th>199</th>\n",
       "      <td>283.6</td>\n",
       "      <td>42.0</td>\n",
       "      <td>66.2</td>\n",
       "    </tr>\n",
       "    <tr>\n",
       "      <th>200</th>\n",
       "      <td>232.1</td>\n",
       "      <td>8.6</td>\n",
       "      <td>8.7</td>\n",
       "    </tr>\n",
       "  </tbody>\n",
       "</table>\n",
       "<p>200 rows × 3 columns</p>\n",
       "</div>"
      ],
      "text/plain": [
       "        TV  radio  newspaper\n",
       "1    230.1   37.8       69.2\n",
       "2     44.5   39.3       45.1\n",
       "3     17.2   45.9       69.3\n",
       "4    151.5   41.3       58.5\n",
       "5    180.8   10.8       58.4\n",
       "..     ...    ...        ...\n",
       "196   38.2    3.7       13.8\n",
       "197   94.2    4.9        8.1\n",
       "198  177.0    9.3        6.4\n",
       "199  283.6   42.0       66.2\n",
       "200  232.1    8.6        8.7\n",
       "\n",
       "[200 rows x 3 columns]"
      ]
     },
     "execution_count": 16,
     "metadata": {},
     "output_type": "execute_result"
    }
   ],
   "source": [
    "x=adv_df.drop('sales', axis=1)\n",
    "y=adv_df['sales']\n",
    "x"
   ]
  },
  {
   "cell_type": "code",
   "execution_count": 17,
   "id": "c9d96879",
   "metadata": {},
   "outputs": [
    {
     "data": {
      "text/plain": [
       "newspaper    0.894720\n",
       "radio        0.091924\n",
       "TV          -0.069853\n",
       "dtype: float64"
      ]
     },
     "execution_count": 17,
     "metadata": {},
     "output_type": "execute_result"
    }
   ],
   "source": [
    "# Cheking Skewness\n",
    "x.skew().sort_values(ascending=False)"
   ]
  },
  {
   "cell_type": "markdown",
   "id": "2c58f775",
   "metadata": {},
   "source": [
    "Since newspaper is little skewed. so we will apply skewness transformation on newspaper column. "
   ]
  },
  {
   "cell_type": "code",
   "execution_count": 18,
   "id": "2d5f1ae3",
   "metadata": {},
   "outputs": [
    {
     "data": {
      "text/plain": [
       "TV          -0.069853\n",
       "radio        0.091924\n",
       "newspaper    0.062388\n",
       "dtype: float64"
      ]
     },
     "execution_count": 18,
     "metadata": {},
     "output_type": "execute_result"
    }
   ],
   "source": [
    "#Applying log transformation gives -ve value i.e.(-1.1812). So applying sqrt transformation is more suitable\n",
    "#Applying square root transformation on newspaper column\n",
    "#newspaper=np.sqrt(adv_df['newspaper'])\n",
    "#newspaper.skew()\n",
    "adv_df[\"newspaper\"] =  adv_df[\"newspaper\"].map(lambda x: np.sqrt(x))   \n",
    "adv_df.iloc[:,:-1].skew()"
   ]
  },
  {
   "cell_type": "markdown",
   "id": "a11e258a",
   "metadata": {},
   "source": [
    "## Checking For Outliers"
   ]
  },
  {
   "cell_type": "code",
   "execution_count": 19,
   "id": "e4f8ed3d",
   "metadata": {},
   "outputs": [
    {
     "data": {
      "text/plain": [
       "TV              AxesSubplot(0.125,0.536818;0.133621x0.343182)\n",
       "radio        AxesSubplot(0.285345,0.536818;0.133621x0.343182)\n",
       "newspaper     AxesSubplot(0.44569,0.536818;0.133621x0.343182)\n",
       "sales        AxesSubplot(0.606034,0.536818;0.133621x0.343182)\n",
       "dtype: object"
      ]
     },
     "execution_count": 19,
     "metadata": {},
     "output_type": "execute_result"
    },
    {
     "data": {
      "image/png": "[encoded data removed]",
      "text/plain": [
       "<Figure size 720x720 with 10 Axes>"
      ]
     },
     "metadata": {
      "needs_background": "light"
     },
     "output_type": "display_data"
    }
   ],
   "source": [
    "adv_df.plot(kind='box',subplots=True,layout=(2,5),figsize=(10,10))"
   ]
  },
  {
   "cell_type": "markdown",
   "id": "972c1617",
   "metadata": {},
   "source": [
    "Since ther is no outliers, So we will not remove outliers"
   ]
  },
  {
   "cell_type": "markdown",
   "id": "72dca1d4",
   "metadata": {},
   "source": [
    "## Data Modeling"
   ]
  },
  {
   "cell_type": "code",
   "execution_count": 20,
   "id": "f090bc64",
   "metadata": {},
   "outputs": [],
   "source": [
    "# sepratating data into train and test\n",
    "\n",
    "X = adv_df[[\"TV\",\"radio\",\"newspaper\"]]\n",
    "Y = adv_df[\"sales\"]"
   ]
  },
  {
   "cell_type": "code",
   "execution_count": 21,
   "id": "bb2451cf",
   "metadata": {},
   "outputs": [
    {
     "data": {
      "text/html": [
       "<div>\n",
       "<style scoped>\n",
       "    .dataframe tbody tr th:only-of-type {\n",
       "        vertical-align: middle;\n",
       "    }\n",
       "\n",
       "    .dataframe tbody tr th {\n",
       "        vertical-align: top;\n",
       "    }\n",
       "\n",
       "    .dataframe thead th {\n",
       "        text-align: right;\n",
       "    }\n",
       "</style>\n",
       "<table border=\"1\" class=\"dataframe\">\n",
       "  <thead>\n",
       "    <tr style=\"text-align: right;\">\n",
       "      <th></th>\n",
       "      <th>TV</th>\n",
       "      <th>radio</th>\n",
       "      <th>newspaper</th>\n",
       "    </tr>\n",
       "  </thead>\n",
       "  <tbody>\n",
       "    <tr>\n",
       "      <th>0</th>\n",
       "      <td>0.969852</td>\n",
       "      <td>0.979749</td>\n",
       "      <td>1.563095</td>\n",
       "    </tr>\n",
       "    <tr>\n",
       "      <th>1</th>\n",
       "      <td>-1.197376</td>\n",
       "      <td>1.081669</td>\n",
       "      <td>0.774855</td>\n",
       "    </tr>\n",
       "    <tr>\n",
       "      <th>2</th>\n",
       "      <td>-1.516155</td>\n",
       "      <td>1.530113</td>\n",
       "      <td>1.566049</td>\n",
       "    </tr>\n",
       "    <tr>\n",
       "      <th>3</th>\n",
       "      <td>0.052050</td>\n",
       "      <td>1.217561</td>\n",
       "      <td>1.233576</td>\n",
       "    </tr>\n",
       "    <tr>\n",
       "      <th>4</th>\n",
       "      <td>0.394182</td>\n",
       "      <td>-0.854796</td>\n",
       "      <td>1.230360</td>\n",
       "    </tr>\n",
       "    <tr>\n",
       "      <th>...</th>\n",
       "      <td>...</td>\n",
       "      <td>...</td>\n",
       "      <td>...</td>\n",
       "    </tr>\n",
       "    <tr>\n",
       "      <th>195</th>\n",
       "      <td>-1.270941</td>\n",
       "      <td>-1.337214</td>\n",
       "      <td>-0.700730</td>\n",
       "    </tr>\n",
       "    <tr>\n",
       "      <th>196</th>\n",
       "      <td>-0.617035</td>\n",
       "      <td>-1.255679</td>\n",
       "      <td>-1.127935</td>\n",
       "    </tr>\n",
       "    <tr>\n",
       "      <th>197</th>\n",
       "      <td>0.349810</td>\n",
       "      <td>-0.956716</td>\n",
       "      <td>-1.283433</td>\n",
       "    </tr>\n",
       "    <tr>\n",
       "      <th>198</th>\n",
       "      <td>1.594565</td>\n",
       "      <td>1.265123</td>\n",
       "      <td>1.473445</td>\n",
       "    </tr>\n",
       "    <tr>\n",
       "      <th>199</th>\n",
       "      <td>0.993206</td>\n",
       "      <td>-1.004278</td>\n",
       "      <td>-1.077029</td>\n",
       "    </tr>\n",
       "  </tbody>\n",
       "</table>\n",
       "<p>200 rows × 3 columns</p>\n",
       "</div>"
      ],
      "text/plain": [
       "           TV     radio  newspaper\n",
       "0    0.969852  0.979749   1.563095\n",
       "1   -1.197376  1.081669   0.774855\n",
       "2   -1.516155  1.530113   1.566049\n",
       "3    0.052050  1.217561   1.233576\n",
       "4    0.394182 -0.854796   1.230360\n",
       "..        ...       ...        ...\n",
       "195 -1.270941 -1.337214  -0.700730\n",
       "196 -0.617035 -1.255679  -1.127935\n",
       "197  0.349810 -0.956716  -1.283433\n",
       "198  1.594565  1.265123   1.473445\n",
       "199  0.993206 -1.004278  -1.077029\n",
       "\n",
       "[200 rows x 3 columns]"
      ]
     },
     "execution_count": 21,
     "metadata": {},
     "output_type": "execute_result"
    }
   ],
   "source": [
    "from sklearn.preprocessing import StandardScaler\n",
    "scaler = StandardScaler()\n",
    "X = pd.DataFrame(scaler.fit_transform(X), columns=X.columns)\n",
    "X "
   ]
  },
  {
   "cell_type": "markdown",
   "id": "e956884e",
   "metadata": {},
   "source": [
    "### Creating the training and testing data sets"
   ]
  },
  {
   "cell_type": "code",
   "execution_count": 22,
   "id": "b1b59ba3",
   "metadata": {},
   "outputs": [],
   "source": [
    "X_train, X_test, Y_train, Y_test = train_test_split(X, Y, test_size=0.22, random_state=42)"
   ]
  },
  {
   "cell_type": "markdown",
   "id": "5b37bbf3",
   "metadata": {},
   "source": [
    "## Machine Learning Model for Regression"
   ]
  },
  {
   "cell_type": "code",
   "execution_count": 23,
   "id": "5b2e7979",
   "metadata": {},
   "outputs": [],
   "source": [
    "# Regression Model Function\n",
    "def reg(model, X, Y):\n",
    "    X_train, X_test, Y_train, Y_test = train_test_split(X, Y, test_size=0.22, random_state=42)\n",
    "    \n",
    "    # Training the model\n",
    "    model.fit(X_train, Y_train)\n",
    "    \n",
    "    # Predicting Y_test\n",
    "    pred = model.predict(X_test)\n",
    "    \n",
    "    print(f\"training_score {model.score(X_train,Y_train)}\")\n",
    "    print(f\"test_score {model.score(X_test,Y_test)}\")\n",
    "    \n",
    "    # RMSE - a lower RMSE score is better than a higher one\n",
    "    rmse = mean_squared_error(Y_test, pred, squared=False)\n",
    "    print(\"RMSE Score is:\", rmse)\n",
    "    \n",
    "    # R2 score\n",
    "    r2 = r2_score(Y_test, pred, multioutput='variance_weighted')*100\n",
    "    print(\"R2 Score is:\", r2)\n",
    "    \n",
    "    # Cross Validation Score\n",
    "    cv_score = (cross_val_score(model, X, Y, cv=5).mean())*100\n",
    "    print(\"Cross Validation Score:\", cv_score)\n",
    "    \n",
    "    # Result of r2 score minus cv score\n",
    "    result = r2 - cv_score\n",
    "    print(\"R2 Score - Cross Validation Score is\", result)"
   ]
  },
  {
   "cell_type": "code",
   "execution_count": 24,
   "id": "518ed056",
   "metadata": {},
   "outputs": [
    {
     "name": "stdout",
     "output_type": "stream",
     "text": [
      "training_score 0.8958313417760103\n",
      "test_score 0.8986246063592553\n",
      "RMSE Score is: 1.7286666692413446\n",
      "R2 Score is: 89.86246063592553\n",
      "Cross Validation Score: 88.6352808858259\n",
      "R2 Score - Cross Validation Score is 1.2271797500996229\n"
     ]
    }
   ],
   "source": [
    "# Linear Regression Model\n",
    "model=LinearRegression()\n",
    "reg(model, X, Y)"
   ]
  },
  {
   "cell_type": "code",
   "execution_count": 25,
   "id": "66413755",
   "metadata": {},
   "outputs": [
    {
     "name": "stdout",
     "output_type": "stream",
     "text": [
      "training_score 0.797495275745076\n",
      "test_score 0.8735157401371962\n",
      "RMSE Score is: 1.930915298545149\n",
      "R2 Score is: 87.35157401371961\n",
      "Cross Validation Score: 77.73103057393334\n",
      "R2 Score - Cross Validation Score is 9.620543439786275\n"
     ]
    }
   ],
   "source": [
    "# Support Vector Regression\n",
    "model=SVR(C=1.0, epsilon=0.2, kernel='poly', gamma='auto')\n",
    "reg(model, X, Y)"
   ]
  },
  {
   "cell_type": "code",
   "execution_count": 26,
   "id": "af1e4ee2",
   "metadata": {},
   "outputs": [
    {
     "name": "stdout",
     "output_type": "stream",
     "text": [
      "training_score 0.6970711611099264\n",
      "test_score 0.6588914447763619\n",
      "RMSE Score is: 3.1709638249727155\n",
      "R2 Score is: 65.88914447763618\n",
      "Cross Validation Score: 61.520155366450155\n",
      "R2 Score - Cross Validation Score is 4.368989111186025\n"
     ]
    }
   ],
   "source": [
    "# Random Forest Regressor\n",
    "model=RandomForestRegressor(max_depth=2, max_features=\"sqrt\")\n",
    "reg(model, X, Y)"
   ]
  },
  {
   "cell_type": "code",
   "execution_count": 27,
   "id": "691e0bf9",
   "metadata": {},
   "outputs": [
    {
     "name": "stdout",
     "output_type": "stream",
     "text": [
      "training_score 0.7001298132396953\n",
      "test_score 0.6522804674530677\n",
      "RMSE Score is: 3.2015443704569373\n",
      "R2 Score is: 65.22804674530677\n",
      "Cross Validation Score: 62.455644994619874\n",
      "R2 Score - Cross Validation Score is 2.772401750686896\n"
     ]
    }
   ],
   "source": [
    "# K Neighbors Regressor\n",
    "KNeighborsRegressor(n_neighbors=2, algorithm='kd_tree')\n",
    "reg(model, X, Y)"
   ]
  },
  {
   "cell_type": "code",
   "execution_count": 28,
   "id": "0d8d4b78",
   "metadata": {},
   "outputs": [
    {
     "name": "stdout",
     "output_type": "stream",
     "text": [
      "training_score 0.976356640185833\n",
      "test_score 0.964270411935429\n",
      "RMSE Score is: 1.0262637434843327\n",
      "R2 Score is: 96.42704119354289\n",
      "Cross Validation Score: 95.67476536018953\n",
      "R2 Score - Cross Validation Score is 0.7522758333533659\n"
     ]
    }
   ],
   "source": [
    "# Ada Boost Regressor\n",
    "model=AdaBoostRegressor(n_estimators=300, learning_rate=1.05, random_state=42)\n",
    "reg(model, X, Y)"
   ]
  },
  {
   "cell_type": "markdown",
   "id": "a7e35268",
   "metadata": {},
   "source": [
    "#### Selecting Best Model"
   ]
  },
  {
   "cell_type": "markdown",
   "id": "70a6a2a0",
   "metadata": {},
   "source": [
    "Since the lower is the result(diff between r2 score and cv score), the better is the model considered.AdaBoostRegressor has lowest result value and training and test scores are also good.  So it is performing is better than other algorithm thus we can select AdaBoostRegressor model for further process. training score and test score dont have diference thus we can say that model is not overfit."
   ]
  },
  {
   "cell_type": "markdown",
   "id": "bd65965a",
   "metadata": {},
   "source": [
    "using the cross valiation wit 5 CV and checking that how 5 CV (models) gives average accuracy. Accuracy seems good with small standard deviation"
   ]
  },
  {
   "cell_type": "markdown",
   "id": "0087c4c0",
   "metadata": {},
   "source": [
    "## Hyper Parameter Tuning"
   ]
  },
  {
   "cell_type": "code",
   "execution_count": 29,
   "id": "db51968b",
   "metadata": {},
   "outputs": [],
   "source": [
    "# Choosing Ada Boost Regressor\n",
    "fmod_param = {'n_estimators' : [50, 100, 150, 200],\n",
    "              'learning_rate' : [0.001, 0.01, 0.1, 1],\n",
    "              'loss' : [\"linear\", \"square\", \"exponential\"],\n",
    "              'random_state' : [21, 42, 104, 111]\n",
    "             }"
   ]
  },
  {
   "cell_type": "code",
   "execution_count": 30,
   "id": "a90d56fd",
   "metadata": {},
   "outputs": [],
   "source": [
    "GSCV = GridSearchCV(AdaBoostRegressor(), fmod_param, cv=5)"
   ]
  },
  {
   "cell_type": "code",
   "execution_count": 31,
   "id": "b2fa1158",
   "metadata": {},
   "outputs": [
    {
     "data": {
      "text/plain": [
       "GridSearchCV(cv=5, estimator=AdaBoostRegressor(),\n",
       "             param_grid={'learning_rate': [0.001, 0.01, 0.1, 1],\n",
       "                         'loss': ['linear', 'square', 'exponential'],\n",
       "                         'n_estimators': [50, 100, 150, 200],\n",
       "                         'random_state': [21, 42, 104, 111]})"
      ]
     },
     "execution_count": 31,
     "metadata": {},
     "output_type": "execute_result"
    }
   ],
   "source": [
    "GSCV.fit(X_train, Y_train)"
   ]
  },
  {
   "cell_type": "code",
   "execution_count": 32,
   "id": "4a0259d6",
   "metadata": {},
   "outputs": [
    {
     "data": {
      "text/plain": [
       "{'learning_rate': 1,\n",
       " 'loss': 'square',\n",
       " 'n_estimators': 150,\n",
       " 'random_state': 111}"
      ]
     },
     "execution_count": 32,
     "metadata": {},
     "output_type": "execute_result"
    }
   ],
   "source": [
    "GSCV.best_params_"
   ]
  },
  {
   "cell_type": "code",
   "execution_count": 33,
   "id": "7731ab10",
   "metadata": {},
   "outputs": [
    {
     "name": "stdout",
     "output_type": "stream",
     "text": [
      "R2 score for the Best Model is: 96.63027431849936\n"
     ]
    }
   ],
   "source": [
    "Final_Model = AdaBoostRegressor(learning_rate=1, loss=\"linear\", n_estimators=150, random_state=111)\n",
    "Classifier = Final_Model.fit(X_train, Y_train)\n",
    "fmod_pred = Final_Model.predict(X_test)\n",
    "fmod_r2 = r2_score(Y_test, fmod_pred, multioutput='variance_weighted')*100\n",
    "print(\"R2 score for the Best Model is:\", fmod_r2)"
   ]
  },
  {
   "cell_type": "code",
   "execution_count": 35,
   "id": "d5b1a0e8",
   "metadata": {},
   "outputs": [
    {
     "data": {
      "image/png": "[encoded data removed]",
      "text/plain": [
       "<Figure size 432x288 with 1 Axes>"
      ]
     },
     "metadata": {
      "needs_background": "light"
     },
     "output_type": "display_data"
    }
   ],
   "source": [
    "plt.scatter(Y_test, fmod_pred, color = 'maroon')\n",
    "plt.plot(Y_test,Y_test,color='b')\n",
    "plt.xlabel('Actual Sales',fontsize=14)\n",
    "plt.ylabel('Predicted Sales',fontsize=14)\n",
    "plt.title('Linear Regression',fontsize=18)\n",
    "plt.show()"
   ]
  },
  {
   "cell_type": "markdown",
   "id": "16116c3c",
   "metadata": {},
   "source": [
    "We can see that the prediction is way better than the previous one as the scattering is less. The R-square value is more than before that shows a better fit to tha data."
   ]
  },
  {
   "cell_type": "markdown",
   "id": "10c96c18",
   "metadata": {},
   "source": [
    "## Modeling Saving"
   ]
  },
  {
   "cell_type": "code",
   "execution_count": 39,
   "id": "14dcad35",
   "metadata": {},
   "outputs": [],
   "source": [
    "import pickle\n",
    "filename='Predicted_Sales.pkl'\n",
    "pickle.dump(Final_Model,open(filename,'wb'))"
   ]
  },
  {
   "cell_type": "code",
   "execution_count": null,
   "id": "c707e4db",
   "metadata": {},
   "outputs": [],
   "source": []
  }
 ],
 "metadata": {
  "kernelspec": {
   "display_name": "Python 3",
   "language": "python",
   "name": "python3"
  },
  "language_info": {
   "codemirror_mode": {
    "name": "ipython",
    "version": 3
   },
   "file_extension": ".py",
   "mimetype": "text/x-python",
   "name": "python",
   "nbconvert_exporter": "python",
   "pygments_lexer": "ipython3",
   "version": "3.8.8"
  }
 },
 "nbformat": 4,
 "nbformat_minor": 5
}
