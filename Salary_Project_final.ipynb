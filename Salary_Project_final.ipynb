{
 "cells": [
  {
   "cell_type": "code",
   "execution_count": 6,
   "id": "b06ea7f6",
   "metadata": {},
   "outputs": [],
   "source": [
    "# Supress Warnings\n",
    "import warnings\n",
    "warnings.filterwarnings('ignore')"
   ]
  },
  {
   "cell_type": "code",
   "execution_count": 7,
   "id": "d7e60cbb",
   "metadata": {},
   "outputs": [],
   "source": [
    "import numpy as np\n",
    "import pandas as pd"
   ]
  },
  {
   "cell_type": "code",
   "execution_count": 8,
   "id": "fbf2accf",
   "metadata": {},
   "outputs": [
    {
     "data": {
      "text/html": [
       "<div>\n",
       "<style scoped>\n",
       "    .dataframe tbody tr th:only-of-type {\n",
       "        vertical-align: middle;\n",
       "    }\n",
       "\n",
       "    .dataframe tbody tr th {\n",
       "        vertical-align: top;\n",
       "    }\n",
       "\n",
       "    .dataframe thead th {\n",
       "        text-align: right;\n",
       "    }\n",
       "</style>\n",
       "<table border=\"1\" class=\"dataframe\">\n",
       "  <thead>\n",
       "    <tr style=\"text-align: right;\">\n",
       "      <th></th>\n",
       "      <th>rank</th>\n",
       "      <th>discipline</th>\n",
       "      <th>yrs.since.phd</th>\n",
       "      <th>yrs.service</th>\n",
       "      <th>sex</th>\n",
       "      <th>salary</th>\n",
       "    </tr>\n",
       "  </thead>\n",
       "  <tbody>\n",
       "    <tr>\n",
       "      <th>0</th>\n",
       "      <td>Prof</td>\n",
       "      <td>B</td>\n",
       "      <td>19</td>\n",
       "      <td>18</td>\n",
       "      <td>Male</td>\n",
       "      <td>139750</td>\n",
       "    </tr>\n",
       "    <tr>\n",
       "      <th>1</th>\n",
       "      <td>Prof</td>\n",
       "      <td>B</td>\n",
       "      <td>20</td>\n",
       "      <td>16</td>\n",
       "      <td>Male</td>\n",
       "      <td>173200</td>\n",
       "    </tr>\n",
       "    <tr>\n",
       "      <th>2</th>\n",
       "      <td>AsstProf</td>\n",
       "      <td>B</td>\n",
       "      <td>4</td>\n",
       "      <td>3</td>\n",
       "      <td>Male</td>\n",
       "      <td>79750</td>\n",
       "    </tr>\n",
       "    <tr>\n",
       "      <th>3</th>\n",
       "      <td>Prof</td>\n",
       "      <td>B</td>\n",
       "      <td>45</td>\n",
       "      <td>39</td>\n",
       "      <td>Male</td>\n",
       "      <td>115000</td>\n",
       "    </tr>\n",
       "    <tr>\n",
       "      <th>4</th>\n",
       "      <td>Prof</td>\n",
       "      <td>B</td>\n",
       "      <td>40</td>\n",
       "      <td>41</td>\n",
       "      <td>Male</td>\n",
       "      <td>141500</td>\n",
       "    </tr>\n",
       "    <tr>\n",
       "      <th>...</th>\n",
       "      <td>...</td>\n",
       "      <td>...</td>\n",
       "      <td>...</td>\n",
       "      <td>...</td>\n",
       "      <td>...</td>\n",
       "      <td>...</td>\n",
       "    </tr>\n",
       "    <tr>\n",
       "      <th>392</th>\n",
       "      <td>Prof</td>\n",
       "      <td>A</td>\n",
       "      <td>33</td>\n",
       "      <td>30</td>\n",
       "      <td>Male</td>\n",
       "      <td>103106</td>\n",
       "    </tr>\n",
       "    <tr>\n",
       "      <th>393</th>\n",
       "      <td>Prof</td>\n",
       "      <td>A</td>\n",
       "      <td>31</td>\n",
       "      <td>19</td>\n",
       "      <td>Male</td>\n",
       "      <td>150564</td>\n",
       "    </tr>\n",
       "    <tr>\n",
       "      <th>394</th>\n",
       "      <td>Prof</td>\n",
       "      <td>A</td>\n",
       "      <td>42</td>\n",
       "      <td>25</td>\n",
       "      <td>Male</td>\n",
       "      <td>101738</td>\n",
       "    </tr>\n",
       "    <tr>\n",
       "      <th>395</th>\n",
       "      <td>Prof</td>\n",
       "      <td>A</td>\n",
       "      <td>25</td>\n",
       "      <td>15</td>\n",
       "      <td>Male</td>\n",
       "      <td>95329</td>\n",
       "    </tr>\n",
       "    <tr>\n",
       "      <th>396</th>\n",
       "      <td>AsstProf</td>\n",
       "      <td>A</td>\n",
       "      <td>8</td>\n",
       "      <td>4</td>\n",
       "      <td>Male</td>\n",
       "      <td>81035</td>\n",
       "    </tr>\n",
       "  </tbody>\n",
       "</table>\n",
       "<p>397 rows × 6 columns</p>\n",
       "</div>"
      ],
      "text/plain": [
       "         rank discipline  yrs.since.phd  yrs.service   sex  salary\n",
       "0        Prof          B             19           18  Male  139750\n",
       "1        Prof          B             20           16  Male  173200\n",
       "2    AsstProf          B              4            3  Male   79750\n",
       "3        Prof          B             45           39  Male  115000\n",
       "4        Prof          B             40           41  Male  141500\n",
       "..        ...        ...            ...          ...   ...     ...\n",
       "392      Prof          A             33           30  Male  103106\n",
       "393      Prof          A             31           19  Male  150564\n",
       "394      Prof          A             42           25  Male  101738\n",
       "395      Prof          A             25           15  Male   95329\n",
       "396  AsstProf          A              8            4  Male   81035\n",
       "\n",
       "[397 rows x 6 columns]"
      ]
     },
     "execution_count": 8,
     "metadata": {},
     "output_type": "execute_result"
    }
   ],
   "source": [
    "df= pd.read_csv(\"Salaries.csv\")\n",
    "df"
   ]
  },
  {
   "cell_type": "markdown",
   "id": "93875762",
   "metadata": {},
   "source": [
    "Given is the dataframe with salary details of employee based on their rank, discipline, qualifications,experience and sex."
   ]
  },
  {
   "cell_type": "code",
   "execution_count": 9,
   "id": "7ef59250",
   "metadata": {},
   "outputs": [
    {
     "data": {
      "text/html": [
       "<div>\n",
       "<style scoped>\n",
       "    .dataframe tbody tr th:only-of-type {\n",
       "        vertical-align: middle;\n",
       "    }\n",
       "\n",
       "    .dataframe tbody tr th {\n",
       "        vertical-align: top;\n",
       "    }\n",
       "\n",
       "    .dataframe thead th {\n",
       "        text-align: right;\n",
       "    }\n",
       "</style>\n",
       "<table border=\"1\" class=\"dataframe\">\n",
       "  <thead>\n",
       "    <tr style=\"text-align: right;\">\n",
       "      <th></th>\n",
       "      <th>rank</th>\n",
       "      <th>discipline</th>\n",
       "      <th>yrs.since.phd</th>\n",
       "      <th>yrs.service</th>\n",
       "      <th>sex</th>\n",
       "      <th>salary</th>\n",
       "    </tr>\n",
       "  </thead>\n",
       "  <tbody>\n",
       "    <tr>\n",
       "      <th>0</th>\n",
       "      <td>Prof</td>\n",
       "      <td>B</td>\n",
       "      <td>19</td>\n",
       "      <td>18</td>\n",
       "      <td>Male</td>\n",
       "      <td>139750</td>\n",
       "    </tr>\n",
       "    <tr>\n",
       "      <th>1</th>\n",
       "      <td>Prof</td>\n",
       "      <td>B</td>\n",
       "      <td>20</td>\n",
       "      <td>16</td>\n",
       "      <td>Male</td>\n",
       "      <td>173200</td>\n",
       "    </tr>\n",
       "    <tr>\n",
       "      <th>2</th>\n",
       "      <td>AsstProf</td>\n",
       "      <td>B</td>\n",
       "      <td>4</td>\n",
       "      <td>3</td>\n",
       "      <td>Male</td>\n",
       "      <td>79750</td>\n",
       "    </tr>\n",
       "    <tr>\n",
       "      <th>3</th>\n",
       "      <td>Prof</td>\n",
       "      <td>B</td>\n",
       "      <td>45</td>\n",
       "      <td>39</td>\n",
       "      <td>Male</td>\n",
       "      <td>115000</td>\n",
       "    </tr>\n",
       "    <tr>\n",
       "      <th>4</th>\n",
       "      <td>Prof</td>\n",
       "      <td>B</td>\n",
       "      <td>40</td>\n",
       "      <td>41</td>\n",
       "      <td>Male</td>\n",
       "      <td>141500</td>\n",
       "    </tr>\n",
       "  </tbody>\n",
       "</table>\n",
       "</div>"
      ],
      "text/plain": [
       "       rank discipline  yrs.since.phd  yrs.service   sex  salary\n",
       "0      Prof          B             19           18  Male  139750\n",
       "1      Prof          B             20           16  Male  173200\n",
       "2  AsstProf          B              4            3  Male   79750\n",
       "3      Prof          B             45           39  Male  115000\n",
       "4      Prof          B             40           41  Male  141500"
      ]
     },
     "execution_count": 9,
     "metadata": {},
     "output_type": "execute_result"
    }
   ],
   "source": [
    "df.head()"
   ]
  },
  {
   "cell_type": "code",
   "execution_count": 10,
   "id": "c2c56981",
   "metadata": {},
   "outputs": [
    {
     "data": {
      "text/plain": [
       "(397, 6)"
      ]
     },
     "execution_count": 10,
     "metadata": {},
     "output_type": "execute_result"
    }
   ],
   "source": [
    "df.shape"
   ]
  },
  {
   "cell_type": "markdown",
   "id": "5d9cef89",
   "metadata": {},
   "source": [
    "There are 397 rows and 6 columns in this dataset"
   ]
  },
  {
   "cell_type": "code",
   "execution_count": 11,
   "id": "97d0a6ff",
   "metadata": {},
   "outputs": [
    {
     "data": {
      "text/plain": [
       "Index(['rank', 'discipline', 'yrs.since.phd', 'yrs.service', 'sex', 'salary'], dtype='object')"
      ]
     },
     "execution_count": 11,
     "metadata": {},
     "output_type": "execute_result"
    }
   ],
   "source": [
    "df.columns"
   ]
  },
  {
   "cell_type": "markdown",
   "id": "52e52c37",
   "metadata": {},
   "source": [
    "Columns are as such:\n",
    "    \n",
    "rank: It gives the rank of the employees they are posted on.\n",
    "    \n",
    "discipline: It gives the detail about the feild the expertise of each employees.\n",
    "    \n",
    "yrs.since.phd: It gives the toatl year of finishing their phd.\n",
    "    \n",
    "yrs.service: It gives the total experience the employees are having.\n",
    "    \n",
    "sex: Sex of the employees\n",
    "    \n",
    "salary: salary details of employee based on their rank, discipline, qualifications,experience and sex."
   ]
  },
  {
   "cell_type": "code",
   "execution_count": 12,
   "id": "5ad93a4f",
   "metadata": {},
   "outputs": [
    {
     "name": "stdout",
     "output_type": "stream",
     "text": [
      "<class 'pandas.core.frame.DataFrame'>\n",
      "RangeIndex: 397 entries, 0 to 396\n",
      "Data columns (total 6 columns):\n",
      " #   Column         Non-Null Count  Dtype \n",
      "---  ------         --------------  ----- \n",
      " 0   rank           397 non-null    object\n",
      " 1   discipline     397 non-null    object\n",
      " 2   yrs.since.phd  397 non-null    int64 \n",
      " 3   yrs.service    397 non-null    int64 \n",
      " 4   sex            397 non-null    object\n",
      " 5   salary         397 non-null    int64 \n",
      "dtypes: int64(3), object(3)\n",
      "memory usage: 18.7+ KB\n"
     ]
    }
   ],
   "source": [
    "#Checking data type of the columns.\n",
    "df.info()"
   ]
  },
  {
   "cell_type": "markdown",
   "id": "efc32354",
   "metadata": {},
   "source": [
    "There is no null values in any columns.\n",
    "\n",
    "rank, discipline and sex column has data of object dtypes and yrs.since.phd, yrs.service and salary column has data of integer type."
   ]
  },
  {
   "cell_type": "markdown",
   "id": "b616a57d",
   "metadata": {},
   "source": [
    "## EDA"
   ]
  },
  {
   "cell_type": "code",
   "execution_count": 13,
   "id": "a21714d8",
   "metadata": {},
   "outputs": [],
   "source": [
    "import seaborn as sns\n",
    "import matplotlib.pyplot as plt"
   ]
  },
  {
   "cell_type": "code",
   "execution_count": 14,
   "id": "c3b49d3e",
   "metadata": {},
   "outputs": [
    {
     "data": {
      "text/plain": [
       "rank             0\n",
       "discipline       0\n",
       "yrs.since.phd    0\n",
       "yrs.service      0\n",
       "sex              0\n",
       "salary           0\n",
       "dtype: int64"
      ]
     },
     "execution_count": 14,
     "metadata": {},
     "output_type": "execute_result"
    }
   ],
   "source": [
    "df.isnull().sum()"
   ]
  },
  {
   "cell_type": "markdown",
   "id": "a4d15318",
   "metadata": {},
   "source": [
    "There are not any null values in the given dataframe."
   ]
  },
  {
   "cell_type": "code",
   "execution_count": 15,
   "id": "a7ec0574",
   "metadata": {},
   "outputs": [
    {
     "data": {
      "text/plain": [
       "<AxesSubplot:>"
      ]
     },
     "execution_count": 15,
     "metadata": {},
     "output_type": "execute_result"
    },
    {
     "data": {
      "image/png": "[encoded data removed]",
      "text/plain": [
       "<Figure size 432x288 with 2 Axes>"
      ]
     },
     "metadata": {
      "needs_background": "light"
     },
     "output_type": "display_data"
    }
   ],
   "source": [
    "#To check missing values\n",
    "sns.heatmap(df.isnull())"
   ]
  },
  {
   "cell_type": "markdown",
   "id": "3bb5747d",
   "metadata": {},
   "source": [
    "OBSERVATIONS: \n",
    "Data has no missing values.\n",
    "If there were any, it would have been visible in different colour shade."
   ]
  },
  {
   "cell_type": "code",
   "execution_count": 16,
   "id": "0421e7a1",
   "metadata": {},
   "outputs": [
    {
     "data": {
      "text/html": [
       "<div>\n",
       "<style scoped>\n",
       "    .dataframe tbody tr th:only-of-type {\n",
       "        vertical-align: middle;\n",
       "    }\n",
       "\n",
       "    .dataframe tbody tr th {\n",
       "        vertical-align: top;\n",
       "    }\n",
       "\n",
       "    .dataframe thead th {\n",
       "        text-align: right;\n",
       "    }\n",
       "</style>\n",
       "<table border=\"1\" class=\"dataframe\">\n",
       "  <thead>\n",
       "    <tr style=\"text-align: right;\">\n",
       "      <th></th>\n",
       "      <th>yrs.since.phd</th>\n",
       "      <th>yrs.service</th>\n",
       "      <th>salary</th>\n",
       "    </tr>\n",
       "  </thead>\n",
       "  <tbody>\n",
       "    <tr>\n",
       "      <th>count</th>\n",
       "      <td>397.000000</td>\n",
       "      <td>397.000000</td>\n",
       "      <td>397.000000</td>\n",
       "    </tr>\n",
       "    <tr>\n",
       "      <th>mean</th>\n",
       "      <td>22.314861</td>\n",
       "      <td>17.614610</td>\n",
       "      <td>113706.458438</td>\n",
       "    </tr>\n",
       "    <tr>\n",
       "      <th>std</th>\n",
       "      <td>12.887003</td>\n",
       "      <td>13.006024</td>\n",
       "      <td>30289.038695</td>\n",
       "    </tr>\n",
       "    <tr>\n",
       "      <th>min</th>\n",
       "      <td>1.000000</td>\n",
       "      <td>0.000000</td>\n",
       "      <td>57800.000000</td>\n",
       "    </tr>\n",
       "    <tr>\n",
       "      <th>25%</th>\n",
       "      <td>12.000000</td>\n",
       "      <td>7.000000</td>\n",
       "      <td>91000.000000</td>\n",
       "    </tr>\n",
       "    <tr>\n",
       "      <th>50%</th>\n",
       "      <td>21.000000</td>\n",
       "      <td>16.000000</td>\n",
       "      <td>107300.000000</td>\n",
       "    </tr>\n",
       "    <tr>\n",
       "      <th>75%</th>\n",
       "      <td>32.000000</td>\n",
       "      <td>27.000000</td>\n",
       "      <td>134185.000000</td>\n",
       "    </tr>\n",
       "    <tr>\n",
       "      <th>max</th>\n",
       "      <td>56.000000</td>\n",
       "      <td>60.000000</td>\n",
       "      <td>231545.000000</td>\n",
       "    </tr>\n",
       "  </tbody>\n",
       "</table>\n",
       "</div>"
      ],
      "text/plain": [
       "       yrs.since.phd  yrs.service         salary\n",
       "count     397.000000   397.000000     397.000000\n",
       "mean       22.314861    17.614610  113706.458438\n",
       "std        12.887003    13.006024   30289.038695\n",
       "min         1.000000     0.000000   57800.000000\n",
       "25%        12.000000     7.000000   91000.000000\n",
       "50%        21.000000    16.000000  107300.000000\n",
       "75%        32.000000    27.000000  134185.000000\n",
       "max        56.000000    60.000000  231545.000000"
      ]
     },
     "execution_count": 16,
     "metadata": {},
     "output_type": "execute_result"
    }
   ],
   "source": [
    "df.describe()"
   ]
  },
  {
   "cell_type": "markdown",
   "id": "3e8ba5a6",
   "metadata": {},
   "source": [
    "#### Visualizing norminal data  variables"
   ]
  },
  {
   "cell_type": "markdown",
   "id": "d773d0cd",
   "metadata": {},
   "source": [
    "To explore different category in each categorical variables, we will make countplot."
   ]
  },
  {
   "cell_type": "code",
   "execution_count": 17,
   "id": "eb18082c",
   "metadata": {},
   "outputs": [
    {
     "data": {
      "text/plain": [
       "Prof         266\n",
       "AsstProf      67\n",
       "AssocProf     64\n",
       "Name: rank, dtype: int64"
      ]
     },
     "execution_count": 17,
     "metadata": {},
     "output_type": "execute_result"
    },
    {
     "data": {
      "image/png": "[encoded data removed]",
      "text/plain": [
       "<Figure size 432x288 with 1 Axes>"
      ]
     },
     "metadata": {
      "needs_background": "light"
     },
     "output_type": "display_data"
    }
   ],
   "source": [
    "sns.countplot(df['rank'])\n",
    "df['rank'].value_counts()"
   ]
  },
  {
   "cell_type": "markdown",
   "id": "357869fd",
   "metadata": {},
   "source": [
    "Number of Prof is highest i.e. 266 in numbers. AsstProf and AssocProf are almost same in numbers."
   ]
  },
  {
   "cell_type": "code",
   "execution_count": 18,
   "id": "2b690a9d",
   "metadata": {},
   "outputs": [
    {
     "data": {
      "text/plain": [
       "B    216\n",
       "A    181\n",
       "Name: discipline, dtype: int64"
      ]
     },
     "execution_count": 18,
     "metadata": {},
     "output_type": "execute_result"
    },
    {
     "data": {
      "image/png": "[encoded data removed]",
      "text/plain": [
       "<Figure size 432x288 with 1 Axes>"
      ]
     },
     "metadata": {
      "needs_background": "light"
     },
     "output_type": "display_data"
    }
   ],
   "source": [
    "sns.countplot(df['discipline'])\n",
    "df['discipline'].value_counts()"
   ]
  },
  {
   "cell_type": "markdown",
   "id": "811ebd07",
   "metadata": {},
   "source": [
    "Number of A discipline employees are less than B discipline employees."
   ]
  },
  {
   "cell_type": "code",
   "execution_count": 19,
   "id": "c4eefc0e",
   "metadata": {},
   "outputs": [
    {
     "data": {
      "text/plain": [
       "Male      358\n",
       "Female     39\n",
       "Name: sex, dtype: int64"
      ]
     },
     "execution_count": 19,
     "metadata": {},
     "output_type": "execute_result"
    },
    {
     "data": {
      "image/png": "[encoded data removed]",
      "text/plain": [
       "<Figure size 432x288 with 1 Axes>"
      ]
     },
     "metadata": {
      "needs_background": "light"
     },
     "output_type": "display_data"
    }
   ],
   "source": [
    "sns.countplot(df['sex'])\n",
    "\n",
    "df['sex'].value_counts()"
   ]
  },
  {
   "cell_type": "markdown",
   "id": "3bd88de2",
   "metadata": {},
   "source": [
    "Number of males are much greater than number of females."
   ]
  },
  {
   "cell_type": "markdown",
   "id": "d4e8a503",
   "metadata": {},
   "source": [
    "Let's make a boxplot for these variables to check its relationship with target variables and to check the outliers in these categorical variables."
   ]
  },
  {
   "cell_type": "code",
   "execution_count": 20,
   "id": "920f275d",
   "metadata": {},
   "outputs": [
    {
     "data": {
      "text/plain": [
       "<AxesSubplot:xlabel='sex', ylabel='salary'>"
      ]
     },
     "execution_count": 20,
     "metadata": {},
     "output_type": "execute_result"
    },
    {
     "data": {
      "image/png": "[encoded data removed]",
      "text/plain": [
       "<Figure size 1440x864 with 3 Axes>"
      ]
     },
     "metadata": {
      "needs_background": "light"
     },
     "output_type": "display_data"
    }
   ],
   "source": [
    "plt.figure(figsize=(20, 12))\n",
    "plt.subplot(2,3,1)\n",
    "sns.boxplot(x = 'rank', y = 'salary', data = df)\n",
    "plt.subplot(2,3,2)\n",
    "sns.boxplot(x = 'discipline', y = 'salary', data = df)\n",
    "plt.subplot(2,3,3)\n",
    "sns.boxplot(x = 'sex', y = 'salary', data = df)"
   ]
  },
  {
   "cell_type": "markdown",
   "id": "a66315c8",
   "metadata": {},
   "source": [
    "#### Checking the distribution of continuous variables-"
   ]
  },
  {
   "cell_type": "markdown",
   "id": "35e96a8a",
   "metadata": {},
   "source": [
    "#### Vizualising numerical variables\n",
    "Let's make a pairplot of all the numeric variables"
   ]
  },
  {
   "cell_type": "code",
   "execution_count": 21,
   "id": "cc43f5fe",
   "metadata": {},
   "outputs": [
    {
     "data": {
      "image/png": "[encoded data removed]",
      "text/plain": [
       "<Figure size 540x540 with 12 Axes>"
      ]
     },
     "metadata": {
      "needs_background": "light"
     },
     "output_type": "display_data"
    }
   ],
   "source": [
    "sns.pairplot(df)\n",
    "plt.show()"
   ]
  },
  {
   "cell_type": "markdown",
   "id": "8324a386",
   "metadata": {},
   "source": [
    "#### Changing Categorical variables to integer type"
   ]
  },
  {
   "cell_type": "code",
   "execution_count": 22,
   "id": "d8f6d951",
   "metadata": {},
   "outputs": [
    {
     "data": {
      "text/html": [
       "<div>\n",
       "<style scoped>\n",
       "    .dataframe tbody tr th:only-of-type {\n",
       "        vertical-align: middle;\n",
       "    }\n",
       "\n",
       "    .dataframe tbody tr th {\n",
       "        vertical-align: top;\n",
       "    }\n",
       "\n",
       "    .dataframe thead th {\n",
       "        text-align: right;\n",
       "    }\n",
       "</style>\n",
       "<table border=\"1\" class=\"dataframe\">\n",
       "  <thead>\n",
       "    <tr style=\"text-align: right;\">\n",
       "      <th></th>\n",
       "      <th>rank</th>\n",
       "      <th>discipline</th>\n",
       "      <th>yrs.since.phd</th>\n",
       "      <th>yrs.service</th>\n",
       "      <th>sex</th>\n",
       "      <th>salary</th>\n",
       "    </tr>\n",
       "  </thead>\n",
       "  <tbody>\n",
       "    <tr>\n",
       "      <th>0</th>\n",
       "      <td>2.0</td>\n",
       "      <td>1.0</td>\n",
       "      <td>19</td>\n",
       "      <td>18</td>\n",
       "      <td>1.0</td>\n",
       "      <td>139750</td>\n",
       "    </tr>\n",
       "    <tr>\n",
       "      <th>1</th>\n",
       "      <td>2.0</td>\n",
       "      <td>1.0</td>\n",
       "      <td>20</td>\n",
       "      <td>16</td>\n",
       "      <td>1.0</td>\n",
       "      <td>173200</td>\n",
       "    </tr>\n",
       "    <tr>\n",
       "      <th>2</th>\n",
       "      <td>1.0</td>\n",
       "      <td>1.0</td>\n",
       "      <td>4</td>\n",
       "      <td>3</td>\n",
       "      <td>1.0</td>\n",
       "      <td>79750</td>\n",
       "    </tr>\n",
       "    <tr>\n",
       "      <th>3</th>\n",
       "      <td>2.0</td>\n",
       "      <td>1.0</td>\n",
       "      <td>45</td>\n",
       "      <td>39</td>\n",
       "      <td>1.0</td>\n",
       "      <td>115000</td>\n",
       "    </tr>\n",
       "    <tr>\n",
       "      <th>4</th>\n",
       "      <td>2.0</td>\n",
       "      <td>1.0</td>\n",
       "      <td>40</td>\n",
       "      <td>41</td>\n",
       "      <td>1.0</td>\n",
       "      <td>141500</td>\n",
       "    </tr>\n",
       "    <tr>\n",
       "      <th>...</th>\n",
       "      <td>...</td>\n",
       "      <td>...</td>\n",
       "      <td>...</td>\n",
       "      <td>...</td>\n",
       "      <td>...</td>\n",
       "      <td>...</td>\n",
       "    </tr>\n",
       "    <tr>\n",
       "      <th>392</th>\n",
       "      <td>2.0</td>\n",
       "      <td>0.0</td>\n",
       "      <td>33</td>\n",
       "      <td>30</td>\n",
       "      <td>1.0</td>\n",
       "      <td>103106</td>\n",
       "    </tr>\n",
       "    <tr>\n",
       "      <th>393</th>\n",
       "      <td>2.0</td>\n",
       "      <td>0.0</td>\n",
       "      <td>31</td>\n",
       "      <td>19</td>\n",
       "      <td>1.0</td>\n",
       "      <td>150564</td>\n",
       "    </tr>\n",
       "    <tr>\n",
       "      <th>394</th>\n",
       "      <td>2.0</td>\n",
       "      <td>0.0</td>\n",
       "      <td>42</td>\n",
       "      <td>25</td>\n",
       "      <td>1.0</td>\n",
       "      <td>101738</td>\n",
       "    </tr>\n",
       "    <tr>\n",
       "      <th>395</th>\n",
       "      <td>2.0</td>\n",
       "      <td>0.0</td>\n",
       "      <td>25</td>\n",
       "      <td>15</td>\n",
       "      <td>1.0</td>\n",
       "      <td>95329</td>\n",
       "    </tr>\n",
       "    <tr>\n",
       "      <th>396</th>\n",
       "      <td>1.0</td>\n",
       "      <td>0.0</td>\n",
       "      <td>8</td>\n",
       "      <td>4</td>\n",
       "      <td>1.0</td>\n",
       "      <td>81035</td>\n",
       "    </tr>\n",
       "  </tbody>\n",
       "</table>\n",
       "<p>397 rows × 6 columns</p>\n",
       "</div>"
      ],
      "text/plain": [
       "     rank  discipline  yrs.since.phd  yrs.service  sex  salary\n",
       "0     2.0         1.0             19           18  1.0  139750\n",
       "1     2.0         1.0             20           16  1.0  173200\n",
       "2     1.0         1.0              4            3  1.0   79750\n",
       "3     2.0         1.0             45           39  1.0  115000\n",
       "4     2.0         1.0             40           41  1.0  141500\n",
       "..    ...         ...            ...          ...  ...     ...\n",
       "392   2.0         0.0             33           30  1.0  103106\n",
       "393   2.0         0.0             31           19  1.0  150564\n",
       "394   2.0         0.0             42           25  1.0  101738\n",
       "395   2.0         0.0             25           15  1.0   95329\n",
       "396   1.0         0.0              8            4  1.0   81035\n",
       "\n",
       "[397 rows x 6 columns]"
      ]
     },
     "execution_count": 22,
     "metadata": {},
     "output_type": "execute_result"
    }
   ],
   "source": [
    "# Since 'rank','discipline' and 'sex' Are of object dtype. So we are applying ordinal Encoder\n",
    "from sklearn.preprocessing import OrdinalEncoder,LabelEncoder\n",
    "encode=OrdinalEncoder()\n",
    "for i in df.columns:\n",
    "    if df[i].dtypes=='object':\n",
    "        df[i]=encode.fit_transform(df[i].values.reshape(-1,1))\n",
    "df"
   ]
  },
  {
   "cell_type": "markdown",
   "id": "165ad226",
   "metadata": {},
   "source": [
    "#### Describing the dataset"
   ]
  },
  {
   "cell_type": "code",
   "execution_count": 23,
   "id": "b8fc9909",
   "metadata": {},
   "outputs": [
    {
     "data": {
      "text/html": [
       "<div>\n",
       "<style scoped>\n",
       "    .dataframe tbody tr th:only-of-type {\n",
       "        vertical-align: middle;\n",
       "    }\n",
       "\n",
       "    .dataframe tbody tr th {\n",
       "        vertical-align: top;\n",
       "    }\n",
       "\n",
       "    .dataframe thead th {\n",
       "        text-align: right;\n",
       "    }\n",
       "</style>\n",
       "<table border=\"1\" class=\"dataframe\">\n",
       "  <thead>\n",
       "    <tr style=\"text-align: right;\">\n",
       "      <th></th>\n",
       "      <th>rank</th>\n",
       "      <th>discipline</th>\n",
       "      <th>yrs.since.phd</th>\n",
       "      <th>yrs.service</th>\n",
       "      <th>sex</th>\n",
       "      <th>salary</th>\n",
       "    </tr>\n",
       "  </thead>\n",
       "  <tbody>\n",
       "    <tr>\n",
       "      <th>count</th>\n",
       "      <td>397.000000</td>\n",
       "      <td>397.000000</td>\n",
       "      <td>397.000000</td>\n",
       "      <td>397.000000</td>\n",
       "      <td>397.000000</td>\n",
       "      <td>397.000000</td>\n",
       "    </tr>\n",
       "    <tr>\n",
       "      <th>mean</th>\n",
       "      <td>1.508816</td>\n",
       "      <td>0.544081</td>\n",
       "      <td>22.314861</td>\n",
       "      <td>17.614610</td>\n",
       "      <td>0.901763</td>\n",
       "      <td>113706.458438</td>\n",
       "    </tr>\n",
       "    <tr>\n",
       "      <th>std</th>\n",
       "      <td>0.757486</td>\n",
       "      <td>0.498682</td>\n",
       "      <td>12.887003</td>\n",
       "      <td>13.006024</td>\n",
       "      <td>0.298010</td>\n",
       "      <td>30289.038695</td>\n",
       "    </tr>\n",
       "    <tr>\n",
       "      <th>min</th>\n",
       "      <td>0.000000</td>\n",
       "      <td>0.000000</td>\n",
       "      <td>1.000000</td>\n",
       "      <td>0.000000</td>\n",
       "      <td>0.000000</td>\n",
       "      <td>57800.000000</td>\n",
       "    </tr>\n",
       "    <tr>\n",
       "      <th>25%</th>\n",
       "      <td>1.000000</td>\n",
       "      <td>0.000000</td>\n",
       "      <td>12.000000</td>\n",
       "      <td>7.000000</td>\n",
       "      <td>1.000000</td>\n",
       "      <td>91000.000000</td>\n",
       "    </tr>\n",
       "    <tr>\n",
       "      <th>50%</th>\n",
       "      <td>2.000000</td>\n",
       "      <td>1.000000</td>\n",
       "      <td>21.000000</td>\n",
       "      <td>16.000000</td>\n",
       "      <td>1.000000</td>\n",
       "      <td>107300.000000</td>\n",
       "    </tr>\n",
       "    <tr>\n",
       "      <th>75%</th>\n",
       "      <td>2.000000</td>\n",
       "      <td>1.000000</td>\n",
       "      <td>32.000000</td>\n",
       "      <td>27.000000</td>\n",
       "      <td>1.000000</td>\n",
       "      <td>134185.000000</td>\n",
       "    </tr>\n",
       "    <tr>\n",
       "      <th>max</th>\n",
       "      <td>2.000000</td>\n",
       "      <td>1.000000</td>\n",
       "      <td>56.000000</td>\n",
       "      <td>60.000000</td>\n",
       "      <td>1.000000</td>\n",
       "      <td>231545.000000</td>\n",
       "    </tr>\n",
       "  </tbody>\n",
       "</table>\n",
       "</div>"
      ],
      "text/plain": [
       "             rank  discipline  yrs.since.phd  yrs.service         sex  \\\n",
       "count  397.000000  397.000000     397.000000   397.000000  397.000000   \n",
       "mean     1.508816    0.544081      22.314861    17.614610    0.901763   \n",
       "std      0.757486    0.498682      12.887003    13.006024    0.298010   \n",
       "min      0.000000    0.000000       1.000000     0.000000    0.000000   \n",
       "25%      1.000000    0.000000      12.000000     7.000000    1.000000   \n",
       "50%      2.000000    1.000000      21.000000    16.000000    1.000000   \n",
       "75%      2.000000    1.000000      32.000000    27.000000    1.000000   \n",
       "max      2.000000    1.000000      56.000000    60.000000    1.000000   \n",
       "\n",
       "              salary  \n",
       "count     397.000000  \n",
       "mean   113706.458438  \n",
       "std     30289.038695  \n",
       "min     57800.000000  \n",
       "25%     91000.000000  \n",
       "50%    107300.000000  \n",
       "75%    134185.000000  \n",
       "max    231545.000000  "
      ]
     },
     "execution_count": 23,
     "metadata": {},
     "output_type": "execute_result"
    }
   ],
   "source": [
    "df.describe()"
   ]
  },
  {
   "cell_type": "code",
   "execution_count": 24,
   "id": "e45a9f32",
   "metadata": {},
   "outputs": [
    {
     "data": {
      "image/png": "[encoded data removed]",
      "text/plain": [
       "<Figure size 576x432 with 2 Axes>"
      ]
     },
     "metadata": {
      "needs_background": "light"
     },
     "output_type": "display_data"
    }
   ],
   "source": [
    "plt.figure(figsize=(8,6))\n",
    "sns.heatmap(round(df.describe()[1:].transpose(),2),linewidth=2,annot=True,fmt='f')\n",
    "plt.xticks(fontsize=14)\n",
    "plt.yticks(fontsize=10)\n",
    "plt.title('Variables summary')\n",
    "plt.show()"
   ]
  },
  {
   "cell_type": "markdown",
   "id": "21097c73",
   "metadata": {},
   "source": [
    "#### To check correlation"
   ]
  },
  {
   "cell_type": "code",
   "execution_count": 25,
   "id": "a070b979",
   "metadata": {},
   "outputs": [
    {
     "data": {
      "text/html": [
       "<div>\n",
       "<style scoped>\n",
       "    .dataframe tbody tr th:only-of-type {\n",
       "        vertical-align: middle;\n",
       "    }\n",
       "\n",
       "    .dataframe tbody tr th {\n",
       "        vertical-align: top;\n",
       "    }\n",
       "\n",
       "    .dataframe thead th {\n",
       "        text-align: right;\n",
       "    }\n",
       "</style>\n",
       "<table border=\"1\" class=\"dataframe\">\n",
       "  <thead>\n",
       "    <tr style=\"text-align: right;\">\n",
       "      <th></th>\n",
       "      <th>rank</th>\n",
       "      <th>discipline</th>\n",
       "      <th>yrs.since.phd</th>\n",
       "      <th>yrs.service</th>\n",
       "      <th>sex</th>\n",
       "      <th>salary</th>\n",
       "    </tr>\n",
       "  </thead>\n",
       "  <tbody>\n",
       "    <tr>\n",
       "      <th>rank</th>\n",
       "      <td>1.000000</td>\n",
       "      <td>-0.086266</td>\n",
       "      <td>0.525500</td>\n",
       "      <td>0.447499</td>\n",
       "      <td>0.132492</td>\n",
       "      <td>0.522207</td>\n",
       "    </tr>\n",
       "    <tr>\n",
       "      <th>discipline</th>\n",
       "      <td>-0.086266</td>\n",
       "      <td>1.000000</td>\n",
       "      <td>-0.218087</td>\n",
       "      <td>-0.164599</td>\n",
       "      <td>0.003724</td>\n",
       "      <td>0.156084</td>\n",
       "    </tr>\n",
       "    <tr>\n",
       "      <th>yrs.since.phd</th>\n",
       "      <td>0.525500</td>\n",
       "      <td>-0.218087</td>\n",
       "      <td>1.000000</td>\n",
       "      <td>0.909649</td>\n",
       "      <td>0.148788</td>\n",
       "      <td>0.419231</td>\n",
       "    </tr>\n",
       "    <tr>\n",
       "      <th>yrs.service</th>\n",
       "      <td>0.447499</td>\n",
       "      <td>-0.164599</td>\n",
       "      <td>0.909649</td>\n",
       "      <td>1.000000</td>\n",
       "      <td>0.153740</td>\n",
       "      <td>0.334745</td>\n",
       "    </tr>\n",
       "    <tr>\n",
       "      <th>sex</th>\n",
       "      <td>0.132492</td>\n",
       "      <td>0.003724</td>\n",
       "      <td>0.148788</td>\n",
       "      <td>0.153740</td>\n",
       "      <td>1.000000</td>\n",
       "      <td>0.138610</td>\n",
       "    </tr>\n",
       "    <tr>\n",
       "      <th>salary</th>\n",
       "      <td>0.522207</td>\n",
       "      <td>0.156084</td>\n",
       "      <td>0.419231</td>\n",
       "      <td>0.334745</td>\n",
       "      <td>0.138610</td>\n",
       "      <td>1.000000</td>\n",
       "    </tr>\n",
       "  </tbody>\n",
       "</table>\n",
       "</div>"
      ],
      "text/plain": [
       "                   rank  discipline  yrs.since.phd  yrs.service       sex  \\\n",
       "rank           1.000000   -0.086266       0.525500     0.447499  0.132492   \n",
       "discipline    -0.086266    1.000000      -0.218087    -0.164599  0.003724   \n",
       "yrs.since.phd  0.525500   -0.218087       1.000000     0.909649  0.148788   \n",
       "yrs.service    0.447499   -0.164599       0.909649     1.000000  0.153740   \n",
       "sex            0.132492    0.003724       0.148788     0.153740  1.000000   \n",
       "salary         0.522207    0.156084       0.419231     0.334745  0.138610   \n",
       "\n",
       "                 salary  \n",
       "rank           0.522207  \n",
       "discipline     0.156084  \n",
       "yrs.since.phd  0.419231  \n",
       "yrs.service    0.334745  \n",
       "sex            0.138610  \n",
       "salary         1.000000  "
      ]
     },
     "execution_count": 25,
     "metadata": {},
     "output_type": "execute_result"
    }
   ],
   "source": [
    "df.corr()"
   ]
  },
  {
   "cell_type": "code",
   "execution_count": 26,
   "id": "2092cdcf",
   "metadata": {},
   "outputs": [
    {
     "data": {
      "text/plain": [
       "<AxesSubplot:>"
      ]
     },
     "execution_count": 26,
     "metadata": {},
     "output_type": "execute_result"
    },
    {
     "data": {
      "image/png": "[encoded data removed]",
      "text/plain": [
       "<Figure size 432x432 with 2 Axes>"
      ]
     },
     "metadata": {
      "needs_background": "light"
     },
     "output_type": "display_data"
    }
   ],
   "source": [
    "plt.figure(figsize=(6,6))\n",
    "sns.heatmap(df.corr(),cmap='Blues',annot=True)"
   ]
  },
  {
   "cell_type": "markdown",
   "id": "f8e99b15",
   "metadata": {},
   "source": [
    "All the variables are positively correlated with the target variables.\n",
    "Rank is highly correlated with salary which means higher tha rank, higher is the salary.\n",
    "\n",
    "yrs.since.phd is also having good bond with salary which is 42%, means salary also depends upon the years of completion of phd.\n",
    "\n",
    "yrs.experience is also 33% correlated with target variables. More the experience, more is the salary.\n",
    "\n",
    "Since the salary is least correlated with sex,it doesnot depend much on sex of the employee.\n",
    "\n",
    "maximum correlated: rank\n",
    "    \n",
    "minimum correlated: sex"
   ]
  },
  {
   "cell_type": "markdown",
   "id": "5b312fda",
   "metadata": {},
   "source": [
    "From the box plot we can see prof rank has few outliers, A & B discipline both have few outliers and male sex has few outliers."
   ]
  },
  {
   "cell_type": "markdown",
   "id": "f76fef79",
   "metadata": {},
   "source": [
    "#### Checking skewness"
   ]
  },
  {
   "cell_type": "code",
   "execution_count": 27,
   "id": "0be3e195",
   "metadata": {},
   "outputs": [
    {
     "data": {
      "text/plain": [
       "rank            -1.151164\n",
       "discipline      -0.177684\n",
       "yrs.since.phd    0.300880\n",
       "yrs.service      0.650569\n",
       "sex             -2.709958\n",
       "salary           0.714568\n",
       "dtype: float64"
      ]
     },
     "execution_count": 27,
     "metadata": {},
     "output_type": "execute_result"
    }
   ],
   "source": [
    "df.skew()"
   ]
  },
  {
   "cell_type": "markdown",
   "id": "f9a10ead",
   "metadata": {},
   "source": [
    "Since no columns has skewness, we will not treat that"
   ]
  },
  {
   "cell_type": "markdown",
   "id": "0c705c79",
   "metadata": {},
   "source": [
    "#### To check the distribution of skewness(Normal Distribution Curve)"
   ]
  },
  {
   "cell_type": "code",
   "execution_count": 28,
   "id": "597519d7",
   "metadata": {},
   "outputs": [
    {
     "data": {
      "text/plain": [
       "<AxesSubplot:xlabel='rank', ylabel='Density'>"
      ]
     },
     "execution_count": 28,
     "metadata": {},
     "output_type": "execute_result"
    },
    {
     "data": {
      "image/png": "[encoded data removed]",
      "text/plain": [
       "<Figure size 432x288 with 1 Axes>"
      ]
     },
     "metadata": {
      "needs_background": "light"
     },
     "output_type": "display_data"
    }
   ],
   "source": [
    "sns.distplot(df['rank'])"
   ]
  },
  {
   "cell_type": "code",
   "execution_count": 29,
   "id": "df15ff73",
   "metadata": {},
   "outputs": [
    {
     "data": {
      "text/plain": [
       "<AxesSubplot:xlabel='discipline', ylabel='Density'>"
      ]
     },
     "execution_count": 29,
     "metadata": {},
     "output_type": "execute_result"
    },
    {
     "data": {
      "image/png": "[encoded data removed]",
      "text/plain": [
       "<Figure size 432x288 with 1 Axes>"
      ]
     },
     "metadata": {
      "needs_background": "light"
     },
     "output_type": "display_data"
    }
   ],
   "source": [
    "sns.distplot(df['discipline'])"
   ]
  },
  {
   "cell_type": "code",
   "execution_count": 30,
   "id": "3efd0f31",
   "metadata": {},
   "outputs": [
    {
     "data": {
      "text/plain": [
       "<AxesSubplot:xlabel='yrs.since.phd', ylabel='Density'>"
      ]
     },
     "execution_count": 30,
     "metadata": {},
     "output_type": "execute_result"
    },
    {
     "data": {
      "image/png": "[encoded data removed]",
      "text/plain": [
       "<Figure size 432x288 with 1 Axes>"
      ]
     },
     "metadata": {
      "needs_background": "light"
     },
     "output_type": "display_data"
    }
   ],
   "source": [
    "sns.distplot(df['yrs.since.phd'])"
   ]
  },
  {
   "cell_type": "code",
   "execution_count": 31,
   "id": "bc6463e4",
   "metadata": {},
   "outputs": [
    {
     "data": {
      "text/plain": [
       "<AxesSubplot:xlabel='yrs.service', ylabel='Density'>"
      ]
     },
     "execution_count": 31,
     "metadata": {},
     "output_type": "execute_result"
    },
    {
     "data": {
      "image/png": "[encoded data removed]",
      "text/plain": [
       "<Figure size 432x288 with 1 Axes>"
      ]
     },
     "metadata": {
      "needs_background": "light"
     },
     "output_type": "display_data"
    }
   ],
   "source": [
    "sns.distplot(df['yrs.service'])"
   ]
  },
  {
   "cell_type": "code",
   "execution_count": 32,
   "id": "7ff99575",
   "metadata": {},
   "outputs": [
    {
     "data": {
      "text/plain": [
       "<AxesSubplot:xlabel='sex', ylabel='Density'>"
      ]
     },
     "execution_count": 32,
     "metadata": {},
     "output_type": "execute_result"
    },
    {
     "data": {
      "image/png": "[encoded data removed]",
      "text/plain": [
       "<Figure size 432x288 with 1 Axes>"
      ]
     },
     "metadata": {
      "needs_background": "light"
     },
     "output_type": "display_data"
    }
   ],
   "source": [
    "sns.distplot(df['sex'])"
   ]
  },
  {
   "cell_type": "markdown",
   "id": "a879e540",
   "metadata": {},
   "source": [
    "We can see the data is skewed"
   ]
  },
  {
   "cell_type": "markdown",
   "id": "ac323a2f",
   "metadata": {},
   "source": [
    "#### Outliers check"
   ]
  },
  {
   "cell_type": "code",
   "execution_count": 33,
   "id": "dad685a5",
   "metadata": {},
   "outputs": [
    {
     "data": {
      "text/plain": [
       "rank                AxesSubplot(0.125,0.536818;0.110714x0.343182)\n",
       "discipline       AxesSubplot(0.257857,0.536818;0.110714x0.343182)\n",
       "yrs.since.phd    AxesSubplot(0.390714,0.536818;0.110714x0.343182)\n",
       "yrs.service      AxesSubplot(0.523571,0.536818;0.110714x0.343182)\n",
       "sex              AxesSubplot(0.656429,0.536818;0.110714x0.343182)\n",
       "salary           AxesSubplot(0.789286,0.536818;0.110714x0.343182)\n",
       "dtype: object"
      ]
     },
     "execution_count": 33,
     "metadata": {},
     "output_type": "execute_result"
    },
    {
     "data": {
      "image/png": "[encoded data removed]",
      "text/plain": [
       "<Figure size 720x720 with 12 Axes>"
      ]
     },
     "metadata": {
      "needs_background": "light"
     },
     "output_type": "display_data"
    }
   ],
   "source": [
    "df.plot(kind='box',subplots=True,layout=(2,6),figsize=(10,10))"
   ]
  },
  {
   "cell_type": "markdown",
   "id": "270e77ab",
   "metadata": {},
   "source": [
    "There are no outliers in rank,discipline, and yrs.since.phd. \n",
    "\n",
    "one outlier is there in sex because of only two distict type of data in sex. so we cannot ignore any particular sex while considering a dataset.\n",
    "\n",
    "Few outliers are there in yrs,service\n",
    "\n",
    "salary is showing few outliers."
   ]
  },
  {
   "cell_type": "markdown",
   "id": "d65df44f",
   "metadata": {},
   "source": [
    "#### Removing the outliers"
   ]
  },
  {
   "cell_type": "code",
   "execution_count": 34,
   "id": "e20597fe",
   "metadata": {},
   "outputs": [
    {
     "data": {
      "text/plain": [
       "array([[0.64925739, 0.91540317, 0.25754973, 0.02966908, 0.3300584 ,\n",
       "        0.86091884],\n",
       "       [0.64925739, 0.91540317, 0.17985426, 0.12429986, 0.3300584 ,\n",
       "        1.96667226],\n",
       "       [0.67256406, 0.91540317, 1.42298184, 1.12509795, 0.3300584 ,\n",
       "        1.12249537],\n",
       "       ...,\n",
       "       [0.64925739, 1.09241483, 1.52944617, 0.56856036, 0.3300584 ,\n",
       "        0.39564018],\n",
       "       [0.64925739, 1.09241483, 0.20862311, 0.20128433, 0.3300584 ,\n",
       "        0.60750187],\n",
       "       [0.67256406, 1.09241483, 1.11219995, 1.04811348, 0.3300584 ,\n",
       "        1.08001725]])"
      ]
     },
     "execution_count": 34,
     "metadata": {},
     "output_type": "execute_result"
    }
   ],
   "source": [
    "from scipy.stats import zscore\n",
    "\n",
    "z=np.abs(zscore(df))\n",
    "z"
   ]
  },
  {
   "cell_type": "code",
   "execution_count": 35,
   "id": "20eb8d6f",
   "metadata": {},
   "outputs": [
    {
     "data": {
      "text/plain": [
       "(397, 6)"
      ]
     },
     "execution_count": 35,
     "metadata": {},
     "output_type": "execute_result"
    }
   ],
   "source": [
    "z.shape"
   ]
  },
  {
   "cell_type": "code",
   "execution_count": 36,
   "id": "1e3977cf",
   "metadata": {},
   "outputs": [
    {
     "name": "stdout",
     "output_type": "stream",
     "text": [
      "(array([  9,  19,  24,  34,  35,  43,  47,  48,  52,  63,  68,  84,  90,\n",
      "       103, 114, 119, 123, 127, 131, 132, 133, 148, 153, 179, 186, 218,\n",
      "       230, 231, 233, 237, 245, 253, 254, 274, 316, 323, 330, 332, 334,\n",
      "       341, 358, 361, 364], dtype=int64), array([4, 4, 4, 4, 4, 5, 4, 4, 4, 4, 4, 4, 4, 4, 4, 4, 4, 4, 3, 4, 4, 4,\n",
      "       4, 4, 4, 4, 4, 4, 4, 4, 4, 4, 4, 4, 4, 4, 3, 4, 4, 4, 4, 4, 5],\n",
      "      dtype=int64))\n"
     ]
    }
   ],
   "source": [
    "threshold=3\n",
    "print(np.where(z>3))"
   ]
  },
  {
   "cell_type": "code",
   "execution_count": 37,
   "id": "c696c576",
   "metadata": {},
   "outputs": [
    {
     "data": {
      "text/plain": [
       "3.0297668523315746"
      ]
     },
     "execution_count": 37,
     "metadata": {},
     "output_type": "execute_result"
    }
   ],
   "source": [
    "#z-score values through Rows and columns\n",
    "z[9][4]"
   ]
  },
  {
   "cell_type": "code",
   "execution_count": 38,
   "id": "644b677e",
   "metadata": {},
   "outputs": [
    {
     "data": {
      "text/html": [
       "<div>\n",
       "<style scoped>\n",
       "    .dataframe tbody tr th:only-of-type {\n",
       "        vertical-align: middle;\n",
       "    }\n",
       "\n",
       "    .dataframe tbody tr th {\n",
       "        vertical-align: top;\n",
       "    }\n",
       "\n",
       "    .dataframe thead th {\n",
       "        text-align: right;\n",
       "    }\n",
       "</style>\n",
       "<table border=\"1\" class=\"dataframe\">\n",
       "  <thead>\n",
       "    <tr style=\"text-align: right;\">\n",
       "      <th></th>\n",
       "      <th>rank</th>\n",
       "      <th>discipline</th>\n",
       "      <th>yrs.since.phd</th>\n",
       "      <th>yrs.service</th>\n",
       "      <th>sex</th>\n",
       "      <th>salary</th>\n",
       "    </tr>\n",
       "  </thead>\n",
       "  <tbody>\n",
       "    <tr>\n",
       "      <th>0</th>\n",
       "      <td>2.0</td>\n",
       "      <td>1.0</td>\n",
       "      <td>19</td>\n",
       "      <td>18</td>\n",
       "      <td>1.0</td>\n",
       "      <td>139750</td>\n",
       "    </tr>\n",
       "    <tr>\n",
       "      <th>1</th>\n",
       "      <td>2.0</td>\n",
       "      <td>1.0</td>\n",
       "      <td>20</td>\n",
       "      <td>16</td>\n",
       "      <td>1.0</td>\n",
       "      <td>173200</td>\n",
       "    </tr>\n",
       "    <tr>\n",
       "      <th>2</th>\n",
       "      <td>1.0</td>\n",
       "      <td>1.0</td>\n",
       "      <td>4</td>\n",
       "      <td>3</td>\n",
       "      <td>1.0</td>\n",
       "      <td>79750</td>\n",
       "    </tr>\n",
       "    <tr>\n",
       "      <th>3</th>\n",
       "      <td>2.0</td>\n",
       "      <td>1.0</td>\n",
       "      <td>45</td>\n",
       "      <td>39</td>\n",
       "      <td>1.0</td>\n",
       "      <td>115000</td>\n",
       "    </tr>\n",
       "    <tr>\n",
       "      <th>4</th>\n",
       "      <td>2.0</td>\n",
       "      <td>1.0</td>\n",
       "      <td>40</td>\n",
       "      <td>41</td>\n",
       "      <td>1.0</td>\n",
       "      <td>141500</td>\n",
       "    </tr>\n",
       "    <tr>\n",
       "      <th>...</th>\n",
       "      <td>...</td>\n",
       "      <td>...</td>\n",
       "      <td>...</td>\n",
       "      <td>...</td>\n",
       "      <td>...</td>\n",
       "      <td>...</td>\n",
       "    </tr>\n",
       "    <tr>\n",
       "      <th>392</th>\n",
       "      <td>2.0</td>\n",
       "      <td>0.0</td>\n",
       "      <td>33</td>\n",
       "      <td>30</td>\n",
       "      <td>1.0</td>\n",
       "      <td>103106</td>\n",
       "    </tr>\n",
       "    <tr>\n",
       "      <th>393</th>\n",
       "      <td>2.0</td>\n",
       "      <td>0.0</td>\n",
       "      <td>31</td>\n",
       "      <td>19</td>\n",
       "      <td>1.0</td>\n",
       "      <td>150564</td>\n",
       "    </tr>\n",
       "    <tr>\n",
       "      <th>394</th>\n",
       "      <td>2.0</td>\n",
       "      <td>0.0</td>\n",
       "      <td>42</td>\n",
       "      <td>25</td>\n",
       "      <td>1.0</td>\n",
       "      <td>101738</td>\n",
       "    </tr>\n",
       "    <tr>\n",
       "      <th>395</th>\n",
       "      <td>2.0</td>\n",
       "      <td>0.0</td>\n",
       "      <td>25</td>\n",
       "      <td>15</td>\n",
       "      <td>1.0</td>\n",
       "      <td>95329</td>\n",
       "    </tr>\n",
       "    <tr>\n",
       "      <th>396</th>\n",
       "      <td>1.0</td>\n",
       "      <td>0.0</td>\n",
       "      <td>8</td>\n",
       "      <td>4</td>\n",
       "      <td>1.0</td>\n",
       "      <td>81035</td>\n",
       "    </tr>\n",
       "  </tbody>\n",
       "</table>\n",
       "<p>354 rows × 6 columns</p>\n",
       "</div>"
      ],
      "text/plain": [
       "     rank  discipline  yrs.since.phd  yrs.service  sex  salary\n",
       "0     2.0         1.0             19           18  1.0  139750\n",
       "1     2.0         1.0             20           16  1.0  173200\n",
       "2     1.0         1.0              4            3  1.0   79750\n",
       "3     2.0         1.0             45           39  1.0  115000\n",
       "4     2.0         1.0             40           41  1.0  141500\n",
       "..    ...         ...            ...          ...  ...     ...\n",
       "392   2.0         0.0             33           30  1.0  103106\n",
       "393   2.0         0.0             31           19  1.0  150564\n",
       "394   2.0         0.0             42           25  1.0  101738\n",
       "395   2.0         0.0             25           15  1.0   95329\n",
       "396   1.0         0.0              8            4  1.0   81035\n",
       "\n",
       "[354 rows x 6 columns]"
      ]
     },
     "execution_count": 38,
     "metadata": {},
     "output_type": "execute_result"
    }
   ],
   "source": [
    "df_new=df[(z<3).all(axis=1)]\n",
    "df_new"
   ]
  },
  {
   "cell_type": "code",
   "execution_count": 39,
   "id": "cf37b4f8",
   "metadata": {},
   "outputs": [
    {
     "name": "stdout",
     "output_type": "stream",
     "text": [
      "(397, 6)\n",
      "(354, 6)\n"
     ]
    }
   ],
   "source": [
    "print(df.shape)\n",
    "print(df_new.shape)"
   ]
  },
  {
   "cell_type": "markdown",
   "id": "50c012f1",
   "metadata": {},
   "source": [
    "#### Percent data loss"
   ]
  },
  {
   "cell_type": "code",
   "execution_count": 40,
   "id": "58779821",
   "metadata": {},
   "outputs": [
    {
     "name": "stdout",
     "output_type": "stream",
     "text": [
      "10.831234256926953\n"
     ]
    }
   ],
   "source": [
    "loss_percent=(397-354)/397*100\n",
    "print(loss_percent)"
   ]
  },
  {
   "cell_type": "markdown",
   "id": "fbc315f1",
   "metadata": {},
   "source": [
    "Our model is becoming biased as it is removing one category of sex columns completely as outliers. Also 10% of data is being lost.\n",
    "So we will not remove the outliers."
   ]
  },
  {
   "cell_type": "markdown",
   "id": "d81f74a5",
   "metadata": {},
   "source": [
    "#### Separating columns into features and target"
   ]
  },
  {
   "cell_type": "code",
   "execution_count": 41,
   "id": "4bfd244e",
   "metadata": {},
   "outputs": [],
   "source": [
    "x=df.iloc[:, :-1]\n",
    "y=df.iloc[:,-1]"
   ]
  },
  {
   "cell_type": "code",
   "execution_count": 42,
   "id": "0a3ef54b",
   "metadata": {},
   "outputs": [
    {
     "data": {
      "text/plain": [
       "(397, 5)"
      ]
     },
     "execution_count": 42,
     "metadata": {},
     "output_type": "execute_result"
    }
   ],
   "source": [
    "x.shape"
   ]
  },
  {
   "cell_type": "code",
   "execution_count": 43,
   "id": "a417dd7c",
   "metadata": {},
   "outputs": [
    {
     "data": {
      "text/plain": [
       "(397,)"
      ]
     },
     "execution_count": 43,
     "metadata": {},
     "output_type": "execute_result"
    }
   ],
   "source": [
    "y.shape"
   ]
  },
  {
   "cell_type": "markdown",
   "id": "3331b815",
   "metadata": {},
   "source": [
    "#### Tansforming data to remove Skewness"
   ]
  },
  {
   "cell_type": "code",
   "execution_count": 44,
   "id": "70b4e055",
   "metadata": {},
   "outputs": [],
   "source": [
    "from sklearn.preprocessing import power_transform\n",
    "x=power_transform(x,method='yeo-johnson')"
   ]
  },
  {
   "cell_type": "code",
   "execution_count": 45,
   "id": "6fa9ff76",
   "metadata": {},
   "outputs": [
    {
     "data": {
      "text/plain": [
       "array([[ 0.69005113,  0.91540317, -0.12729454,  0.25061906,  0.3300584 ],\n",
       "       [ 0.69005113,  0.91540317, -0.04917821,  0.10511199,  0.3300584 ],\n",
       "       [-1.09153554,  0.91540317, -1.62812069, -1.28803213,  0.3300584 ],\n",
       "       ...,\n",
       "       [ 0.69005113, -1.09241483,  1.39552477,  0.69878852,  0.3300584 ],\n",
       "       [ 0.69005113, -1.09241483,  0.32017198,  0.02856739,  0.3300584 ],\n",
       "       [-1.09153554, -1.09241483, -1.13497737, -1.12348349,  0.3300584 ]])"
      ]
     },
     "execution_count": 45,
     "metadata": {},
     "output_type": "execute_result"
    }
   ],
   "source": [
    "from sklearn.preprocessing import StandardScaler\n",
    "sc=StandardScaler()\n",
    "x=sc.fit_transform(x)\n",
    "x"
   ]
  },
  {
   "cell_type": "markdown",
   "id": "b95890cd",
   "metadata": {},
   "source": [
    "### Since the target has multiple outcomes, we will use linear regression model"
   ]
  },
  {
   "cell_type": "code",
   "execution_count": 46,
   "id": "be881cdc",
   "metadata": {},
   "outputs": [],
   "source": [
    "from sklearn.linear_model import LinearRegression\n",
    "from sklearn.metrics import mean_squared_error,mean_absolute_error\n",
    "from sklearn.model_selection import train_test_split"
   ]
  },
  {
   "cell_type": "code",
   "execution_count": 47,
   "id": "477d7c90",
   "metadata": {},
   "outputs": [],
   "source": [
    "x_train,x_test,y_train,y_test=train_test_split(x,y,test_size=33,random_state=47)"
   ]
  },
  {
   "cell_type": "code",
   "execution_count": 48,
   "id": "1a4fed27",
   "metadata": {},
   "outputs": [
    {
     "data": {
      "text/plain": [
       "(364, 5)"
      ]
     },
     "execution_count": 48,
     "metadata": {},
     "output_type": "execute_result"
    }
   ],
   "source": [
    "x_train.shape"
   ]
  },
  {
   "cell_type": "code",
   "execution_count": 49,
   "id": "73284d60",
   "metadata": {},
   "outputs": [
    {
     "data": {
      "text/plain": [
       "(364,)"
      ]
     },
     "execution_count": 49,
     "metadata": {},
     "output_type": "execute_result"
    }
   ],
   "source": [
    "y_train.shape"
   ]
  },
  {
   "cell_type": "code",
   "execution_count": 50,
   "id": "b4fd6187",
   "metadata": {},
   "outputs": [
    {
     "data": {
      "text/plain": [
       "(33, 5)"
      ]
     },
     "execution_count": 50,
     "metadata": {},
     "output_type": "execute_result"
    }
   ],
   "source": [
    "x_test.shape"
   ]
  },
  {
   "cell_type": "code",
   "execution_count": 51,
   "id": "2b7ab657",
   "metadata": {},
   "outputs": [
    {
     "data": {
      "text/plain": [
       "(33,)"
      ]
     },
     "execution_count": 51,
     "metadata": {},
     "output_type": "execute_result"
    }
   ],
   "source": [
    "y_test.shape"
   ]
  },
  {
   "cell_type": "code",
   "execution_count": 52,
   "id": "b3c460ca",
   "metadata": {},
   "outputs": [
    {
     "name": "stdout",
     "output_type": "stream",
     "text": [
      "LinearRegression()\n",
      "0.42171097796406043\n"
     ]
    }
   ],
   "source": [
    "lm=LinearRegression()\n",
    "print(lm.fit(x_train,y_train))\n",
    "print(lm.score(x_train,y_train))"
   ]
  },
  {
   "cell_type": "code",
   "execution_count": 53,
   "id": "868df45a",
   "metadata": {},
   "outputs": [
    {
     "name": "stdout",
     "output_type": "stream",
     "text": [
      "[14344.86205182  7697.16143862  9575.47037153 -3043.58329056\n",
      "  1263.81103041]\n"
     ]
    }
   ],
   "source": [
    "print(lm.coef_)"
   ]
  },
  {
   "cell_type": "code",
   "execution_count": 54,
   "id": "868a7a29",
   "metadata": {},
   "outputs": [
    {
     "name": "stdout",
     "output_type": "stream",
     "text": [
      "114255.92440476341\n"
     ]
    }
   ],
   "source": [
    "print(lm.intercept_)"
   ]
  },
  {
   "cell_type": "code",
   "execution_count": 55,
   "id": "51170231",
   "metadata": {},
   "outputs": [
    {
     "name": "stdout",
     "output_type": "stream",
     "text": [
      "Predicted salary [ 75986.35816391 124063.2012539  138995.86977089  90884.0440139\n",
      " 130224.3073316   78990.57604942  80499.16153444  73621.68272808\n",
      "  86454.9433513  120761.17077472 134542.47556942 126701.34787839\n",
      " 120883.48951645 125622.84948609 121770.49921624 123966.19887535\n",
      "  88667.17901761  88989.52656338 115662.85348971  83158.10916862\n",
      " 127066.16632441  94972.60826816 116973.58070511 115372.42920451\n",
      " 119716.66016739 117515.85920271 132781.79211744  90322.55619922\n",
      "  88989.52656338 133219.27941597  94874.38450812 128561.46973605\n",
      " 123680.83252519]\n",
      "Actual salary 119     73500\n",
      "68     111512\n",
      "211    111350\n",
      "260     88600\n",
      "131     76840\n",
      "108     81500\n",
      "363     81285\n",
      "382     86895\n",
      "5       97000\n",
      "128    113278\n",
      "175    111751\n",
      "304    144050\n",
      "312     94350\n",
      "365    101036\n",
      "387    109305\n",
      "300     88600\n",
      "39     100938\n",
      "57      90215\n",
      "139    152664\n",
      "396     81035\n",
      "32     117256\n",
      "33      80225\n",
      "124     96614\n",
      "110    112429\n",
      "314    146800\n",
      "239     96200\n",
      "69      91412\n",
      "176     95436\n",
      "60      90304\n",
      "326    124714\n",
      "96      95611\n",
      "15     117150\n",
      "280    136500\n",
      "Name: salary, dtype: int64\n"
     ]
    }
   ],
   "source": [
    "#Predict the Salary\n",
    "pred=lm.predict(x_test)\n",
    "print('Predicted salary',pred)\n",
    "print('Actual salary',y_test)"
   ]
  },
  {
   "cell_type": "code",
   "execution_count": 56,
   "id": "ad7f67b3",
   "metadata": {},
   "outputs": [
    {
     "name": "stdout",
     "output_type": "stream",
     "text": [
      "error:\n",
      "Mean absolute error: 15217.925076964824\n",
      "Mean squared error: 400780079.15421003\n",
      "Root Mean squared error: 20019.4924799359\n"
     ]
    }
   ],
   "source": [
    "print('error:')\n",
    "print('Mean absolute error:',mean_absolute_error(y_test,pred))\n",
    "print('Mean squared error:',mean_squared_error(y_test,pred))\n",
    "\n",
    "print('Root Mean squared error:',np.sqrt(mean_squared_error(y_test,pred)))"
   ]
  },
  {
   "cell_type": "code",
   "execution_count": 57,
   "id": "7df4301d",
   "metadata": {},
   "outputs": [
    {
     "name": "stdout",
     "output_type": "stream",
     "text": [
      "0.01743538221828944\n"
     ]
    }
   ],
   "source": [
    "from sklearn.metrics import r2_score  # r2 says that what is the variance coming in y whenver inputs are changed\n",
    "print(r2_score(y_test,pred))"
   ]
  },
  {
   "cell_type": "markdown",
   "id": "26a40cdb",
   "metadata": {},
   "source": [
    "### Regularization"
   ]
  },
  {
   "cell_type": "code",
   "execution_count": 58,
   "id": "2da76cec",
   "metadata": {},
   "outputs": [
    {
     "data": {
      "text/plain": [
       "0.4217109779640602"
      ]
     },
     "execution_count": 58,
     "metadata": {},
     "output_type": "execute_result"
    }
   ],
   "source": [
    "from sklearn.linear_model import Lasso,Ridge\n",
    "ls=Lasso(alpha=.0001)\n",
    "#ls=Lasso(alpha=1.0) ..... Default\n",
    "ls.fit(x_train,y_train)\n",
    "ls.score(x_train,y_train)"
   ]
  },
  {
   "cell_type": "code",
   "execution_count": 59,
   "id": "ed5e1b53",
   "metadata": {},
   "outputs": [
    {
     "data": {
      "text/plain": [
       "array([14344.86201748,  7697.16127531,  9575.46925076, -3043.58216283,\n",
       "        1263.81092805])"
      ]
     },
     "execution_count": 59,
     "metadata": {},
     "output_type": "execute_result"
    }
   ],
   "source": [
    "ls.coef_"
   ]
  },
  {
   "cell_type": "code",
   "execution_count": 60,
   "id": "05a61b8c",
   "metadata": {},
   "outputs": [
    {
     "data": {
      "text/plain": [
       "0.4217109779639713"
      ]
     },
     "execution_count": 60,
     "metadata": {},
     "output_type": "execute_result"
    }
   ],
   "source": [
    "rd=Ridge(alpha=0.0001)\n",
    "#rd=Ridge()\n",
    "rd.fit(x_train,y_train)\n",
    "rd.score(x_train,y_train)"
   ]
  },
  {
   "cell_type": "markdown",
   "id": "5461b81a",
   "metadata": {},
   "source": [
    "#### Support Vector Machine model"
   ]
  },
  {
   "cell_type": "code",
   "execution_count": 61,
   "id": "39375e0a",
   "metadata": {},
   "outputs": [
    {
     "name": "stdout",
     "output_type": "stream",
     "text": [
      "-0.033075641925010224\n",
      "-0.04750363431255922\n",
      "-0.04911363039335326\n"
     ]
    }
   ],
   "source": [
    "from sklearn.svm import SVR\n",
    "\n",
    "kernellist=['linear','poly','rbf']\n",
    "for i in kernellist:\n",
    "    sv=SVR(kernel=i)\n",
    "    sv.fit(x_train,y_train)\n",
    "    print(sv.score(x_train,y_train))"
   ]
  },
  {
   "cell_type": "code",
   "execution_count": 62,
   "id": "93ea662c",
   "metadata": {},
   "outputs": [
    {
     "name": "stdout",
     "output_type": "stream",
     "text": [
      "GridSearchCV(estimator=Ridge(),\n",
      "             param_grid={'alpha': [1, 0.1, 0.01, 0.001, 0.0001, 0]})\n",
      "0.35458683673493335\n",
      "1\n",
      "{'alpha': 1}\n"
     ]
    }
   ],
   "source": [
    "from sklearn.linear_model import Ridge\n",
    "from sklearn.model_selection import GridSearchCV\n",
    "\n",
    "alphavalue={'alpha':[1,0.1,0.01,0.001,0.0001,0]}\n",
    "\n",
    "model=Ridge()\n",
    "grid= GridSearchCV(estimator=model, param_grid=alphavalue)\n",
    "grid.fit(x,y)\n",
    "print(grid)\n",
    "print(grid.best_score_)\n",
    "print(grid.best_estimator_.alpha)\n",
    "print(grid.best_params_)"
   ]
  },
  {
   "cell_type": "markdown",
   "id": "f5f79ada",
   "metadata": {},
   "source": [
    "### Conclusion"
   ]
  },
  {
   "cell_type": "markdown",
   "id": "6da3407b",
   "metadata": {},
   "source": [
    "From the above linear regression of model,regularization model,Support Vector machine model,and Grid Search model,we can see that  lm.score, ls.score.rd.score and sv.score(linear)are coming almost same which is 0.99.\n",
    "So i am continuing with linear regression model without outliers."
   ]
  },
  {
   "cell_type": "code",
   "execution_count": 64,
   "id": "78a5d55d",
   "metadata": {},
   "outputs": [
    {
     "data": {
      "text/html": [
       "<div>\n",
       "<style scoped>\n",
       "    .dataframe tbody tr th:only-of-type {\n",
       "        vertical-align: middle;\n",
       "    }\n",
       "\n",
       "    .dataframe tbody tr th {\n",
       "        vertical-align: top;\n",
       "    }\n",
       "\n",
       "    .dataframe thead th {\n",
       "        text-align: right;\n",
       "    }\n",
       "</style>\n",
       "<table border=\"1\" class=\"dataframe\">\n",
       "  <thead>\n",
       "    <tr style=\"text-align: right;\">\n",
       "      <th></th>\n",
       "      <th>Original</th>\n",
       "      <th>Predicted</th>\n",
       "    </tr>\n",
       "  </thead>\n",
       "  <tbody>\n",
       "    <tr>\n",
       "      <th>0</th>\n",
       "      <td>73500</td>\n",
       "      <td>75986.358164</td>\n",
       "    </tr>\n",
       "    <tr>\n",
       "      <th>1</th>\n",
       "      <td>111512</td>\n",
       "      <td>124063.201254</td>\n",
       "    </tr>\n",
       "    <tr>\n",
       "      <th>2</th>\n",
       "      <td>111350</td>\n",
       "      <td>138995.869771</td>\n",
       "    </tr>\n",
       "    <tr>\n",
       "      <th>3</th>\n",
       "      <td>88600</td>\n",
       "      <td>90884.044014</td>\n",
       "    </tr>\n",
       "    <tr>\n",
       "      <th>4</th>\n",
       "      <td>76840</td>\n",
       "      <td>130224.307332</td>\n",
       "    </tr>\n",
       "    <tr>\n",
       "      <th>5</th>\n",
       "      <td>81500</td>\n",
       "      <td>78990.576049</td>\n",
       "    </tr>\n",
       "    <tr>\n",
       "      <th>6</th>\n",
       "      <td>81285</td>\n",
       "      <td>80499.161534</td>\n",
       "    </tr>\n",
       "    <tr>\n",
       "      <th>7</th>\n",
       "      <td>86895</td>\n",
       "      <td>73621.682728</td>\n",
       "    </tr>\n",
       "    <tr>\n",
       "      <th>8</th>\n",
       "      <td>97000</td>\n",
       "      <td>86454.943351</td>\n",
       "    </tr>\n",
       "    <tr>\n",
       "      <th>9</th>\n",
       "      <td>113278</td>\n",
       "      <td>120761.170775</td>\n",
       "    </tr>\n",
       "    <tr>\n",
       "      <th>10</th>\n",
       "      <td>111751</td>\n",
       "      <td>134542.475569</td>\n",
       "    </tr>\n",
       "    <tr>\n",
       "      <th>11</th>\n",
       "      <td>144050</td>\n",
       "      <td>126701.347878</td>\n",
       "    </tr>\n",
       "    <tr>\n",
       "      <th>12</th>\n",
       "      <td>94350</td>\n",
       "      <td>120883.489516</td>\n",
       "    </tr>\n",
       "    <tr>\n",
       "      <th>13</th>\n",
       "      <td>101036</td>\n",
       "      <td>125622.849486</td>\n",
       "    </tr>\n",
       "    <tr>\n",
       "      <th>14</th>\n",
       "      <td>109305</td>\n",
       "      <td>121770.499216</td>\n",
       "    </tr>\n",
       "    <tr>\n",
       "      <th>15</th>\n",
       "      <td>88600</td>\n",
       "      <td>123966.198875</td>\n",
       "    </tr>\n",
       "    <tr>\n",
       "      <th>16</th>\n",
       "      <td>100938</td>\n",
       "      <td>88667.179018</td>\n",
       "    </tr>\n",
       "    <tr>\n",
       "      <th>17</th>\n",
       "      <td>90215</td>\n",
       "      <td>88989.526563</td>\n",
       "    </tr>\n",
       "    <tr>\n",
       "      <th>18</th>\n",
       "      <td>152664</td>\n",
       "      <td>115662.853490</td>\n",
       "    </tr>\n",
       "    <tr>\n",
       "      <th>19</th>\n",
       "      <td>81035</td>\n",
       "      <td>83158.109169</td>\n",
       "    </tr>\n",
       "    <tr>\n",
       "      <th>20</th>\n",
       "      <td>117256</td>\n",
       "      <td>127066.166324</td>\n",
       "    </tr>\n",
       "    <tr>\n",
       "      <th>21</th>\n",
       "      <td>80225</td>\n",
       "      <td>94972.608268</td>\n",
       "    </tr>\n",
       "    <tr>\n",
       "      <th>22</th>\n",
       "      <td>96614</td>\n",
       "      <td>116973.580705</td>\n",
       "    </tr>\n",
       "    <tr>\n",
       "      <th>23</th>\n",
       "      <td>112429</td>\n",
       "      <td>115372.429205</td>\n",
       "    </tr>\n",
       "    <tr>\n",
       "      <th>24</th>\n",
       "      <td>146800</td>\n",
       "      <td>119716.660167</td>\n",
       "    </tr>\n",
       "    <tr>\n",
       "      <th>25</th>\n",
       "      <td>96200</td>\n",
       "      <td>117515.859203</td>\n",
       "    </tr>\n",
       "    <tr>\n",
       "      <th>26</th>\n",
       "      <td>91412</td>\n",
       "      <td>132781.792117</td>\n",
       "    </tr>\n",
       "    <tr>\n",
       "      <th>27</th>\n",
       "      <td>95436</td>\n",
       "      <td>90322.556199</td>\n",
       "    </tr>\n",
       "    <tr>\n",
       "      <th>28</th>\n",
       "      <td>90304</td>\n",
       "      <td>88989.526563</td>\n",
       "    </tr>\n",
       "    <tr>\n",
       "      <th>29</th>\n",
       "      <td>124714</td>\n",
       "      <td>133219.279416</td>\n",
       "    </tr>\n",
       "    <tr>\n",
       "      <th>30</th>\n",
       "      <td>95611</td>\n",
       "      <td>94874.384508</td>\n",
       "    </tr>\n",
       "    <tr>\n",
       "      <th>31</th>\n",
       "      <td>117150</td>\n",
       "      <td>128561.469736</td>\n",
       "    </tr>\n",
       "    <tr>\n",
       "      <th>32</th>\n",
       "      <td>136500</td>\n",
       "      <td>123680.832525</td>\n",
       "    </tr>\n",
       "  </tbody>\n",
       "</table>\n",
       "</div>"
      ],
      "text/plain": [
       "    Original      Predicted\n",
       "0      73500   75986.358164\n",
       "1     111512  124063.201254\n",
       "2     111350  138995.869771\n",
       "3      88600   90884.044014\n",
       "4      76840  130224.307332\n",
       "5      81500   78990.576049\n",
       "6      81285   80499.161534\n",
       "7      86895   73621.682728\n",
       "8      97000   86454.943351\n",
       "9     113278  120761.170775\n",
       "10    111751  134542.475569\n",
       "11    144050  126701.347878\n",
       "12     94350  120883.489516\n",
       "13    101036  125622.849486\n",
       "14    109305  121770.499216\n",
       "15     88600  123966.198875\n",
       "16    100938   88667.179018\n",
       "17     90215   88989.526563\n",
       "18    152664  115662.853490\n",
       "19     81035   83158.109169\n",
       "20    117256  127066.166324\n",
       "21     80225   94972.608268\n",
       "22     96614  116973.580705\n",
       "23    112429  115372.429205\n",
       "24    146800  119716.660167\n",
       "25     96200  117515.859203\n",
       "26     91412  132781.792117\n",
       "27     95436   90322.556199\n",
       "28     90304   88989.526563\n",
       "29    124714  133219.279416\n",
       "30     95611   94874.384508\n",
       "31    117150  128561.469736\n",
       "32    136500  123680.832525"
      ]
     },
     "execution_count": 64,
     "metadata": {},
     "output_type": "execute_result"
    }
   ],
   "source": [
    "import numpy as np\n",
    "a=np.array(y_test)\n",
    "Predicted=np.array(pred)\n",
    "df_com=pd.DataFrame({'Original':a,'Predicted':Predicted},index=range(len(a)))\n",
    "df_com"
   ]
  },
  {
   "cell_type": "markdown",
   "id": "02b77538",
   "metadata": {},
   "source": [
    "### Model Saving"
   ]
  },
  {
   "cell_type": "code",
   "execution_count": 66,
   "id": "6b6a85e8",
   "metadata": {},
   "outputs": [],
   "source": [
    "import pickle\n",
    "filename='Predicted_Salary.pkl'\n",
    "pickle.dump(lm,open(filename,'wb'))"
   ]
  },
  {
   "cell_type": "code",
   "execution_count": null,
   "id": "318cc72f",
   "metadata": {},
   "outputs": [],
   "source": []
  }
 ],
 "metadata": {
  "kernelspec": {
   "display_name": "Python 3",
   "language": "python",
   "name": "python3"
  },
  "language_info": {
   "codemirror_mode": {
    "name": "ipython",
    "version": 3
   },
   "file_extension": ".py",
   "mimetype": "text/x-python",
   "name": "python",
   "nbconvert_exporter": "python",
   "pygments_lexer": "ipython3",
   "version": "3.8.8"
  }
 },
 "nbformat": 4,
 "nbformat_minor": 5
}
