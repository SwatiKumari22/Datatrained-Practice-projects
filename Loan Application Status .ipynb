{
 "cells": [
  {
   "cell_type": "markdown",
   "id": "22d30b86",
   "metadata": {},
   "source": [
    "## Problem Statement"
   ]
  },
  {
   "cell_type": "markdown",
   "id": "e10b46ff",
   "metadata": {},
   "source": [
    "A Company wants to automate the loan eligibility process (real time) based on customer detail provided while filling online application form. To automate this process, they have given a problem to identify the customers segments, those are eligible for loan amount so that they can specifically target these customers. Here they have provided a data set.\n",
    "\n",
    "This dataset includes details of applicants who have applied for loan. The dataset includes details like credit history, loan amount, their income, dependents etc. \n",
    "\n",
    "We have to build a model that can predict whether the loan of the applicant will be approved or not on the basis of the details provided in the dataset. \n",
    "\n",
    "Since the output is in Y or N. So we will use binary classification model"
   ]
  },
  {
   "cell_type": "markdown",
   "id": "6994a9c3",
   "metadata": {},
   "source": [
    "## Features:"
   ]
  },
  {
   "cell_type": "markdown",
   "id": "eb281916",
   "metadata": {},
   "source": [
    "Variable               Description\n",
    "\n",
    "INDEPENDENT VARIABLES:\n",
    "\n",
    "Loan_ID       -         Unique Loan ID\n",
    "\n",
    "Gender         -        Male/ Female\n",
    "\n",
    "Married        -        Applicant married (Y/N)\n",
    "\n",
    "Dependents      -       Number of dependents\n",
    "\n",
    "Education        -      Applicant Education (Graduate/ Under Graduate)\n",
    "\n",
    "Self_Employed     -     Self employed (Y/N)\n",
    "\n",
    "ApplicantIncome   -     Applicant income\n",
    "\n",
    "CoapplicantIncome  -    Coapplicant income\n",
    "\n",
    "LoanAmount         -    Loan amount in thousands\n",
    "\n",
    "Loan_Amount_Term    -   Term of loan in months\n",
    "\n",
    "Credit_History      -   credit history meets guidelines\n",
    "\n",
    "Property_Area      -    Urban/ Semi Urban/ Rural\n",
    "\n",
    "\n",
    "DEPENDENT VARIABLES(TARGET):\n",
    "\n",
    "Loan_Status       -     Loan approved (Y/N)"
   ]
  },
  {
   "cell_type": "markdown",
   "id": "31e0dcb8",
   "metadata": {},
   "source": [
    "## Importoing Important Libraries"
   ]
  },
  {
   "cell_type": "code",
   "execution_count": 2,
   "id": "dcf9d4a4",
   "metadata": {},
   "outputs": [],
   "source": [
    "import pandas as pd\n",
    "import numpy as np\n",
    "import matplotlib.pyplot as plt\n",
    "import seaborn as sns\n",
    "\n",
    "from sklearn.model_selection import train_test_split\n",
    "from sklearn.linear_model import LogisticRegression\n",
    "from sklearn.metrics import accuracy_score\n",
    "\n",
    "import warnings\n",
    "warnings.filterwarnings(\"ignore\")"
   ]
  },
  {
   "cell_type": "markdown",
   "id": "01fc0804",
   "metadata": {},
   "source": [
    "## Loading The Dataset"
   ]
  },
  {
   "cell_type": "code",
   "execution_count": 3,
   "id": "0908667d",
   "metadata": {},
   "outputs": [
    {
     "data": {
      "text/html": [
       "<div>\n",
       "<style scoped>\n",
       "    .dataframe tbody tr th:only-of-type {\n",
       "        vertical-align: middle;\n",
       "    }\n",
       "\n",
       "    .dataframe tbody tr th {\n",
       "        vertical-align: top;\n",
       "    }\n",
       "\n",
       "    .dataframe thead th {\n",
       "        text-align: right;\n",
       "    }\n",
       "</style>\n",
       "<table border=\"1\" class=\"dataframe\">\n",
       "  <thead>\n",
       "    <tr style=\"text-align: right;\">\n",
       "      <th></th>\n",
       "      <th>Loan_ID</th>\n",
       "      <th>Gender</th>\n",
       "      <th>Married</th>\n",
       "      <th>Dependents</th>\n",
       "      <th>Education</th>\n",
       "      <th>Self_Employed</th>\n",
       "      <th>ApplicantIncome</th>\n",
       "      <th>CoapplicantIncome</th>\n",
       "      <th>LoanAmount</th>\n",
       "      <th>Loan_Amount_Term</th>\n",
       "      <th>Credit_History</th>\n",
       "      <th>Property_Area</th>\n",
       "      <th>Loan_Status</th>\n",
       "    </tr>\n",
       "  </thead>\n",
       "  <tbody>\n",
       "    <tr>\n",
       "      <th>0</th>\n",
       "      <td>LP001002</td>\n",
       "      <td>Male</td>\n",
       "      <td>No</td>\n",
       "      <td>0</td>\n",
       "      <td>Graduate</td>\n",
       "      <td>No</td>\n",
       "      <td>5849</td>\n",
       "      <td>0.0</td>\n",
       "      <td>NaN</td>\n",
       "      <td>360.0</td>\n",
       "      <td>1.0</td>\n",
       "      <td>Urban</td>\n",
       "      <td>Y</td>\n",
       "    </tr>\n",
       "    <tr>\n",
       "      <th>1</th>\n",
       "      <td>LP001003</td>\n",
       "      <td>Male</td>\n",
       "      <td>Yes</td>\n",
       "      <td>1</td>\n",
       "      <td>Graduate</td>\n",
       "      <td>No</td>\n",
       "      <td>4583</td>\n",
       "      <td>1508.0</td>\n",
       "      <td>128.0</td>\n",
       "      <td>360.0</td>\n",
       "      <td>1.0</td>\n",
       "      <td>Rural</td>\n",
       "      <td>N</td>\n",
       "    </tr>\n",
       "    <tr>\n",
       "      <th>2</th>\n",
       "      <td>LP001005</td>\n",
       "      <td>Male</td>\n",
       "      <td>Yes</td>\n",
       "      <td>0</td>\n",
       "      <td>Graduate</td>\n",
       "      <td>Yes</td>\n",
       "      <td>3000</td>\n",
       "      <td>0.0</td>\n",
       "      <td>66.0</td>\n",
       "      <td>360.0</td>\n",
       "      <td>1.0</td>\n",
       "      <td>Urban</td>\n",
       "      <td>Y</td>\n",
       "    </tr>\n",
       "    <tr>\n",
       "      <th>3</th>\n",
       "      <td>LP001006</td>\n",
       "      <td>Male</td>\n",
       "      <td>Yes</td>\n",
       "      <td>0</td>\n",
       "      <td>Not Graduate</td>\n",
       "      <td>No</td>\n",
       "      <td>2583</td>\n",
       "      <td>2358.0</td>\n",
       "      <td>120.0</td>\n",
       "      <td>360.0</td>\n",
       "      <td>1.0</td>\n",
       "      <td>Urban</td>\n",
       "      <td>Y</td>\n",
       "    </tr>\n",
       "    <tr>\n",
       "      <th>4</th>\n",
       "      <td>LP001008</td>\n",
       "      <td>Male</td>\n",
       "      <td>No</td>\n",
       "      <td>0</td>\n",
       "      <td>Graduate</td>\n",
       "      <td>No</td>\n",
       "      <td>6000</td>\n",
       "      <td>0.0</td>\n",
       "      <td>141.0</td>\n",
       "      <td>360.0</td>\n",
       "      <td>1.0</td>\n",
       "      <td>Urban</td>\n",
       "      <td>Y</td>\n",
       "    </tr>\n",
       "    <tr>\n",
       "      <th>...</th>\n",
       "      <td>...</td>\n",
       "      <td>...</td>\n",
       "      <td>...</td>\n",
       "      <td>...</td>\n",
       "      <td>...</td>\n",
       "      <td>...</td>\n",
       "      <td>...</td>\n",
       "      <td>...</td>\n",
       "      <td>...</td>\n",
       "      <td>...</td>\n",
       "      <td>...</td>\n",
       "      <td>...</td>\n",
       "      <td>...</td>\n",
       "    </tr>\n",
       "    <tr>\n",
       "      <th>609</th>\n",
       "      <td>LP002978</td>\n",
       "      <td>Female</td>\n",
       "      <td>No</td>\n",
       "      <td>0</td>\n",
       "      <td>Graduate</td>\n",
       "      <td>No</td>\n",
       "      <td>2900</td>\n",
       "      <td>0.0</td>\n",
       "      <td>71.0</td>\n",
       "      <td>360.0</td>\n",
       "      <td>1.0</td>\n",
       "      <td>Rural</td>\n",
       "      <td>Y</td>\n",
       "    </tr>\n",
       "    <tr>\n",
       "      <th>610</th>\n",
       "      <td>LP002979</td>\n",
       "      <td>Male</td>\n",
       "      <td>Yes</td>\n",
       "      <td>3+</td>\n",
       "      <td>Graduate</td>\n",
       "      <td>No</td>\n",
       "      <td>4106</td>\n",
       "      <td>0.0</td>\n",
       "      <td>40.0</td>\n",
       "      <td>180.0</td>\n",
       "      <td>1.0</td>\n",
       "      <td>Rural</td>\n",
       "      <td>Y</td>\n",
       "    </tr>\n",
       "    <tr>\n",
       "      <th>611</th>\n",
       "      <td>LP002983</td>\n",
       "      <td>Male</td>\n",
       "      <td>Yes</td>\n",
       "      <td>1</td>\n",
       "      <td>Graduate</td>\n",
       "      <td>No</td>\n",
       "      <td>8072</td>\n",
       "      <td>240.0</td>\n",
       "      <td>253.0</td>\n",
       "      <td>360.0</td>\n",
       "      <td>1.0</td>\n",
       "      <td>Urban</td>\n",
       "      <td>Y</td>\n",
       "    </tr>\n",
       "    <tr>\n",
       "      <th>612</th>\n",
       "      <td>LP002984</td>\n",
       "      <td>Male</td>\n",
       "      <td>Yes</td>\n",
       "      <td>2</td>\n",
       "      <td>Graduate</td>\n",
       "      <td>No</td>\n",
       "      <td>7583</td>\n",
       "      <td>0.0</td>\n",
       "      <td>187.0</td>\n",
       "      <td>360.0</td>\n",
       "      <td>1.0</td>\n",
       "      <td>Urban</td>\n",
       "      <td>Y</td>\n",
       "    </tr>\n",
       "    <tr>\n",
       "      <th>613</th>\n",
       "      <td>LP002990</td>\n",
       "      <td>Female</td>\n",
       "      <td>No</td>\n",
       "      <td>0</td>\n",
       "      <td>Graduate</td>\n",
       "      <td>Yes</td>\n",
       "      <td>4583</td>\n",
       "      <td>0.0</td>\n",
       "      <td>133.0</td>\n",
       "      <td>360.0</td>\n",
       "      <td>0.0</td>\n",
       "      <td>Semiurban</td>\n",
       "      <td>N</td>\n",
       "    </tr>\n",
       "  </tbody>\n",
       "</table>\n",
       "<p>614 rows × 13 columns</p>\n",
       "</div>"
      ],
      "text/plain": [
       "      Loan_ID  Gender Married Dependents     Education Self_Employed  \\\n",
       "0    LP001002    Male      No          0      Graduate            No   \n",
       "1    LP001003    Male     Yes          1      Graduate            No   \n",
       "2    LP001005    Male     Yes          0      Graduate           Yes   \n",
       "3    LP001006    Male     Yes          0  Not Graduate            No   \n",
       "4    LP001008    Male      No          0      Graduate            No   \n",
       "..        ...     ...     ...        ...           ...           ...   \n",
       "609  LP002978  Female      No          0      Graduate            No   \n",
       "610  LP002979    Male     Yes         3+      Graduate            No   \n",
       "611  LP002983    Male     Yes          1      Graduate            No   \n",
       "612  LP002984    Male     Yes          2      Graduate            No   \n",
       "613  LP002990  Female      No          0      Graduate           Yes   \n",
       "\n",
       "     ApplicantIncome  CoapplicantIncome  LoanAmount  Loan_Amount_Term  \\\n",
       "0               5849                0.0         NaN             360.0   \n",
       "1               4583             1508.0       128.0             360.0   \n",
       "2               3000                0.0        66.0             360.0   \n",
       "3               2583             2358.0       120.0             360.0   \n",
       "4               6000                0.0       141.0             360.0   \n",
       "..               ...                ...         ...               ...   \n",
       "609             2900                0.0        71.0             360.0   \n",
       "610             4106                0.0        40.0             180.0   \n",
       "611             8072              240.0       253.0             360.0   \n",
       "612             7583                0.0       187.0             360.0   \n",
       "613             4583                0.0       133.0             360.0   \n",
       "\n",
       "     Credit_History Property_Area Loan_Status  \n",
       "0               1.0         Urban           Y  \n",
       "1               1.0         Rural           N  \n",
       "2               1.0         Urban           Y  \n",
       "3               1.0         Urban           Y  \n",
       "4               1.0         Urban           Y  \n",
       "..              ...           ...         ...  \n",
       "609             1.0         Rural           Y  \n",
       "610             1.0         Rural           Y  \n",
       "611             1.0         Urban           Y  \n",
       "612             1.0         Urban           Y  \n",
       "613             0.0     Semiurban           N  \n",
       "\n",
       "[614 rows x 13 columns]"
      ]
     },
     "execution_count": 3,
     "metadata": {},
     "output_type": "execute_result"
    }
   ],
   "source": [
    "df=pd.read_csv(\"loan_prediction.csv\")\n",
    "df"
   ]
  },
  {
   "cell_type": "markdown",
   "id": "3256a9d4",
   "metadata": {},
   "source": [
    "There are 614 rows and 13 colums in the dataset out of which Loan_Status is the target column."
   ]
  },
  {
   "cell_type": "code",
   "execution_count": 4,
   "id": "3821900c",
   "metadata": {},
   "outputs": [
    {
     "data": {
      "text/html": [
       "<div>\n",
       "<style scoped>\n",
       "    .dataframe tbody tr th:only-of-type {\n",
       "        vertical-align: middle;\n",
       "    }\n",
       "\n",
       "    .dataframe tbody tr th {\n",
       "        vertical-align: top;\n",
       "    }\n",
       "\n",
       "    .dataframe thead th {\n",
       "        text-align: right;\n",
       "    }\n",
       "</style>\n",
       "<table border=\"1\" class=\"dataframe\">\n",
       "  <thead>\n",
       "    <tr style=\"text-align: right;\">\n",
       "      <th></th>\n",
       "      <th>Loan_ID</th>\n",
       "      <th>Gender</th>\n",
       "      <th>Married</th>\n",
       "      <th>Dependents</th>\n",
       "      <th>Education</th>\n",
       "      <th>Self_Employed</th>\n",
       "      <th>ApplicantIncome</th>\n",
       "      <th>CoapplicantIncome</th>\n",
       "      <th>LoanAmount</th>\n",
       "      <th>Loan_Amount_Term</th>\n",
       "      <th>Credit_History</th>\n",
       "      <th>Property_Area</th>\n",
       "      <th>Loan_Status</th>\n",
       "    </tr>\n",
       "  </thead>\n",
       "  <tbody>\n",
       "    <tr>\n",
       "      <th>118</th>\n",
       "      <td>LP001421</td>\n",
       "      <td>Male</td>\n",
       "      <td>Yes</td>\n",
       "      <td>0</td>\n",
       "      <td>Graduate</td>\n",
       "      <td>No</td>\n",
       "      <td>5568</td>\n",
       "      <td>2142.0</td>\n",
       "      <td>175.0</td>\n",
       "      <td>360.0</td>\n",
       "      <td>1.0</td>\n",
       "      <td>Rural</td>\n",
       "      <td>N</td>\n",
       "    </tr>\n",
       "    <tr>\n",
       "      <th>217</th>\n",
       "      <td>LP001726</td>\n",
       "      <td>Male</td>\n",
       "      <td>Yes</td>\n",
       "      <td>0</td>\n",
       "      <td>Graduate</td>\n",
       "      <td>No</td>\n",
       "      <td>3727</td>\n",
       "      <td>1775.0</td>\n",
       "      <td>131.0</td>\n",
       "      <td>360.0</td>\n",
       "      <td>1.0</td>\n",
       "      <td>Semiurban</td>\n",
       "      <td>Y</td>\n",
       "    </tr>\n",
       "    <tr>\n",
       "      <th>410</th>\n",
       "      <td>LP002318</td>\n",
       "      <td>Female</td>\n",
       "      <td>No</td>\n",
       "      <td>1</td>\n",
       "      <td>Not Graduate</td>\n",
       "      <td>Yes</td>\n",
       "      <td>3867</td>\n",
       "      <td>0.0</td>\n",
       "      <td>62.0</td>\n",
       "      <td>360.0</td>\n",
       "      <td>1.0</td>\n",
       "      <td>Semiurban</td>\n",
       "      <td>N</td>\n",
       "    </tr>\n",
       "    <tr>\n",
       "      <th>102</th>\n",
       "      <td>LP001350</td>\n",
       "      <td>Male</td>\n",
       "      <td>Yes</td>\n",
       "      <td>NaN</td>\n",
       "      <td>Graduate</td>\n",
       "      <td>No</td>\n",
       "      <td>13650</td>\n",
       "      <td>0.0</td>\n",
       "      <td>NaN</td>\n",
       "      <td>360.0</td>\n",
       "      <td>1.0</td>\n",
       "      <td>Urban</td>\n",
       "      <td>Y</td>\n",
       "    </tr>\n",
       "    <tr>\n",
       "      <th>609</th>\n",
       "      <td>LP002978</td>\n",
       "      <td>Female</td>\n",
       "      <td>No</td>\n",
       "      <td>0</td>\n",
       "      <td>Graduate</td>\n",
       "      <td>No</td>\n",
       "      <td>2900</td>\n",
       "      <td>0.0</td>\n",
       "      <td>71.0</td>\n",
       "      <td>360.0</td>\n",
       "      <td>1.0</td>\n",
       "      <td>Rural</td>\n",
       "      <td>Y</td>\n",
       "    </tr>\n",
       "    <tr>\n",
       "      <th>357</th>\n",
       "      <td>LP002151</td>\n",
       "      <td>Male</td>\n",
       "      <td>Yes</td>\n",
       "      <td>1</td>\n",
       "      <td>Graduate</td>\n",
       "      <td>No</td>\n",
       "      <td>3875</td>\n",
       "      <td>0.0</td>\n",
       "      <td>67.0</td>\n",
       "      <td>360.0</td>\n",
       "      <td>1.0</td>\n",
       "      <td>Urban</td>\n",
       "      <td>N</td>\n",
       "    </tr>\n",
       "    <tr>\n",
       "      <th>537</th>\n",
       "      <td>LP002738</td>\n",
       "      <td>Male</td>\n",
       "      <td>No</td>\n",
       "      <td>2</td>\n",
       "      <td>Graduate</td>\n",
       "      <td>No</td>\n",
       "      <td>3617</td>\n",
       "      <td>0.0</td>\n",
       "      <td>107.0</td>\n",
       "      <td>360.0</td>\n",
       "      <td>1.0</td>\n",
       "      <td>Semiurban</td>\n",
       "      <td>Y</td>\n",
       "    </tr>\n",
       "    <tr>\n",
       "      <th>551</th>\n",
       "      <td>LP002784</td>\n",
       "      <td>Male</td>\n",
       "      <td>Yes</td>\n",
       "      <td>1</td>\n",
       "      <td>Not Graduate</td>\n",
       "      <td>No</td>\n",
       "      <td>2492</td>\n",
       "      <td>2375.0</td>\n",
       "      <td>NaN</td>\n",
       "      <td>360.0</td>\n",
       "      <td>1.0</td>\n",
       "      <td>Rural</td>\n",
       "      <td>Y</td>\n",
       "    </tr>\n",
       "    <tr>\n",
       "      <th>68</th>\n",
       "      <td>LP001238</td>\n",
       "      <td>Male</td>\n",
       "      <td>Yes</td>\n",
       "      <td>3+</td>\n",
       "      <td>Not Graduate</td>\n",
       "      <td>Yes</td>\n",
       "      <td>7100</td>\n",
       "      <td>0.0</td>\n",
       "      <td>125.0</td>\n",
       "      <td>60.0</td>\n",
       "      <td>1.0</td>\n",
       "      <td>Urban</td>\n",
       "      <td>Y</td>\n",
       "    </tr>\n",
       "    <tr>\n",
       "      <th>393</th>\n",
       "      <td>LP002265</td>\n",
       "      <td>Male</td>\n",
       "      <td>Yes</td>\n",
       "      <td>2</td>\n",
       "      <td>Not Graduate</td>\n",
       "      <td>No</td>\n",
       "      <td>1993</td>\n",
       "      <td>1625.0</td>\n",
       "      <td>113.0</td>\n",
       "      <td>180.0</td>\n",
       "      <td>1.0</td>\n",
       "      <td>Semiurban</td>\n",
       "      <td>Y</td>\n",
       "    </tr>\n",
       "  </tbody>\n",
       "</table>\n",
       "</div>"
      ],
      "text/plain": [
       "      Loan_ID  Gender Married Dependents     Education Self_Employed  \\\n",
       "118  LP001421    Male     Yes          0      Graduate            No   \n",
       "217  LP001726    Male     Yes          0      Graduate            No   \n",
       "410  LP002318  Female      No          1  Not Graduate           Yes   \n",
       "102  LP001350    Male     Yes        NaN      Graduate            No   \n",
       "609  LP002978  Female      No          0      Graduate            No   \n",
       "357  LP002151    Male     Yes          1      Graduate            No   \n",
       "537  LP002738    Male      No          2      Graduate            No   \n",
       "551  LP002784    Male     Yes          1  Not Graduate            No   \n",
       "68   LP001238    Male     Yes         3+  Not Graduate           Yes   \n",
       "393  LP002265    Male     Yes          2  Not Graduate            No   \n",
       "\n",
       "     ApplicantIncome  CoapplicantIncome  LoanAmount  Loan_Amount_Term  \\\n",
       "118             5568             2142.0       175.0             360.0   \n",
       "217             3727             1775.0       131.0             360.0   \n",
       "410             3867                0.0        62.0             360.0   \n",
       "102            13650                0.0         NaN             360.0   \n",
       "609             2900                0.0        71.0             360.0   \n",
       "357             3875                0.0        67.0             360.0   \n",
       "537             3617                0.0       107.0             360.0   \n",
       "551             2492             2375.0         NaN             360.0   \n",
       "68              7100                0.0       125.0              60.0   \n",
       "393             1993             1625.0       113.0             180.0   \n",
       "\n",
       "     Credit_History Property_Area Loan_Status  \n",
       "118             1.0         Rural           N  \n",
       "217             1.0     Semiurban           Y  \n",
       "410             1.0     Semiurban           N  \n",
       "102             1.0         Urban           Y  \n",
       "609             1.0         Rural           Y  \n",
       "357             1.0         Urban           N  \n",
       "537             1.0     Semiurban           Y  \n",
       "551             1.0         Rural           Y  \n",
       "68              1.0         Urban           Y  \n",
       "393             1.0     Semiurban           Y  "
      ]
     },
     "execution_count": 4,
     "metadata": {},
     "output_type": "execute_result"
    }
   ],
   "source": [
    "df.sample(10)"
   ]
  },
  {
   "cell_type": "code",
   "execution_count": 5,
   "id": "33c07434",
   "metadata": {},
   "outputs": [
    {
     "name": "stdout",
     "output_type": "stream",
     "text": [
      "<class 'pandas.core.frame.DataFrame'>\n",
      "RangeIndex: 614 entries, 0 to 613\n",
      "Data columns (total 13 columns):\n",
      " #   Column             Non-Null Count  Dtype  \n",
      "---  ------             --------------  -----  \n",
      " 0   Loan_ID            614 non-null    object \n",
      " 1   Gender             601 non-null    object \n",
      " 2   Married            611 non-null    object \n",
      " 3   Dependents         599 non-null    object \n",
      " 4   Education          614 non-null    object \n",
      " 5   Self_Employed      582 non-null    object \n",
      " 6   ApplicantIncome    614 non-null    int64  \n",
      " 7   CoapplicantIncome  614 non-null    float64\n",
      " 8   LoanAmount         592 non-null    float64\n",
      " 9   Loan_Amount_Term   600 non-null    float64\n",
      " 10  Credit_History     564 non-null    float64\n",
      " 11  Property_Area      614 non-null    object \n",
      " 12  Loan_Status        614 non-null    object \n",
      "dtypes: float64(4), int64(1), object(8)\n",
      "memory usage: 62.5+ KB\n"
     ]
    }
   ],
   "source": [
    "df.info()"
   ]
  },
  {
   "cell_type": "markdown",
   "id": "62074cb7",
   "metadata": {},
   "source": [
    "Most of the columns are categorical type. CoapplicantIncome, LoanAmount, Loan_Amount_Term and Credit_History are float dtype.ApplicantIncome anr of integer types.\n",
    "\n",
    "Also there are few null values in so many columns."
   ]
  },
  {
   "cell_type": "markdown",
   "id": "6ac24783",
   "metadata": {},
   "source": [
    "## Exploratory Data Analysis"
   ]
  },
  {
   "cell_type": "code",
   "execution_count": 6,
   "id": "c15c9835",
   "metadata": {},
   "outputs": [
    {
     "data": {
      "text/plain": [
       "Loan_ID               0\n",
       "Gender               13\n",
       "Married               3\n",
       "Dependents           15\n",
       "Education             0\n",
       "Self_Employed        32\n",
       "ApplicantIncome       0\n",
       "CoapplicantIncome     0\n",
       "LoanAmount           22\n",
       "Loan_Amount_Term     14\n",
       "Credit_History       50\n",
       "Property_Area         0\n",
       "Loan_Status           0\n",
       "dtype: int64"
      ]
     },
     "execution_count": 6,
     "metadata": {},
     "output_type": "execute_result"
    }
   ],
   "source": [
    "df.isnull().sum()"
   ]
  },
  {
   "cell_type": "code",
   "execution_count": 7,
   "id": "3ae489c1",
   "metadata": {},
   "outputs": [
    {
     "data": {
      "text/plain": [
       "<AxesSubplot:>"
      ]
     },
     "execution_count": 7,
     "metadata": {},
     "output_type": "execute_result"
    },
    {
     "data": {
      "image/png": "[encoded data removed]",
      "text/plain": [
       "<Figure size 432x288 with 2 Axes>"
      ]
     },
     "metadata": {
      "needs_background": "light"
     },
     "output_type": "display_data"
    }
   ],
   "source": [
    "#To check missing values\n",
    "sns.heatmap(df.isnull())"
   ]
  },
  {
   "cell_type": "markdown",
   "id": "fb517e0c",
   "metadata": {},
   "source": [
    "we have missing value in 7 columns out of 13. we will impute them in coming steps. For the variables which are object dtype, we will use mode to replce nan values and for numerical dtype , we will use mean to replace nan values "
   ]
  },
  {
   "cell_type": "markdown",
   "id": "5025db42",
   "metadata": {},
   "source": [
    "### Removing the Missing Values"
   ]
  },
  {
   "cell_type": "code",
   "execution_count": 8,
   "id": "90eb25a5",
   "metadata": {},
   "outputs": [],
   "source": [
    "from sklearn.impute import SimpleImputer\n",
    "\n",
    "#For Object dtype columns\n",
    "imp_O= SimpleImputer(strategy=\"most_frequent\")\n",
    "df[\"Gender\"]= imp_O.fit_transform(df[\"Gender\"].values.reshape(-1,1))\n",
    "df[\"Married\"]= imp_O.fit_transform(df[\"Married\"].values.reshape(-1,1))\n",
    "df[\"Dependents\"]= imp_O.fit_transform(df[\"Dependents\"].values.reshape(-1,1))\n",
    "df[\"Self_Employed\"]= imp_O.fit_transform(df[\"Self_Employed\"].values.reshape(-1,1))\n",
    "\n",
    "#For float dtype\n",
    "imp_N= SimpleImputer(strategy=\"mean\")\n",
    "df[\"LoanAmount\"]= imp_N.fit_transform(df[\"LoanAmount\"].values.reshape(-1,1))\n",
    "df[\"Loan_Amount_Term\"]= imp_N.fit_transform(df[\"Loan_Amount_Term\"].values.reshape(-1,1))\n",
    "df[\"Credit_History\"]= imp_N.fit_transform(df[\"Credit_History\"].values.reshape(-1,1))"
   ]
  },
  {
   "cell_type": "code",
   "execution_count": 9,
   "id": "ec740ff0",
   "metadata": {},
   "outputs": [
    {
     "data": {
      "text/html": [
       "<div>\n",
       "<style scoped>\n",
       "    .dataframe tbody tr th:only-of-type {\n",
       "        vertical-align: middle;\n",
       "    }\n",
       "\n",
       "    .dataframe tbody tr th {\n",
       "        vertical-align: top;\n",
       "    }\n",
       "\n",
       "    .dataframe thead th {\n",
       "        text-align: right;\n",
       "    }\n",
       "</style>\n",
       "<table border=\"1\" class=\"dataframe\">\n",
       "  <thead>\n",
       "    <tr style=\"text-align: right;\">\n",
       "      <th></th>\n",
       "      <th>Loan_ID</th>\n",
       "      <th>Gender</th>\n",
       "      <th>Married</th>\n",
       "      <th>Dependents</th>\n",
       "      <th>Education</th>\n",
       "      <th>Self_Employed</th>\n",
       "      <th>ApplicantIncome</th>\n",
       "      <th>CoapplicantIncome</th>\n",
       "      <th>LoanAmount</th>\n",
       "      <th>Loan_Amount_Term</th>\n",
       "      <th>Credit_History</th>\n",
       "      <th>Property_Area</th>\n",
       "      <th>Loan_Status</th>\n",
       "    </tr>\n",
       "  </thead>\n",
       "  <tbody>\n",
       "    <tr>\n",
       "      <th>0</th>\n",
       "      <td>LP001002</td>\n",
       "      <td>Male</td>\n",
       "      <td>No</td>\n",
       "      <td>0</td>\n",
       "      <td>Graduate</td>\n",
       "      <td>No</td>\n",
       "      <td>5849</td>\n",
       "      <td>0.0</td>\n",
       "      <td>146.412162</td>\n",
       "      <td>360.0</td>\n",
       "      <td>1.0</td>\n",
       "      <td>Urban</td>\n",
       "      <td>Y</td>\n",
       "    </tr>\n",
       "    <tr>\n",
       "      <th>1</th>\n",
       "      <td>LP001003</td>\n",
       "      <td>Male</td>\n",
       "      <td>Yes</td>\n",
       "      <td>1</td>\n",
       "      <td>Graduate</td>\n",
       "      <td>No</td>\n",
       "      <td>4583</td>\n",
       "      <td>1508.0</td>\n",
       "      <td>128.000000</td>\n",
       "      <td>360.0</td>\n",
       "      <td>1.0</td>\n",
       "      <td>Rural</td>\n",
       "      <td>N</td>\n",
       "    </tr>\n",
       "    <tr>\n",
       "      <th>2</th>\n",
       "      <td>LP001005</td>\n",
       "      <td>Male</td>\n",
       "      <td>Yes</td>\n",
       "      <td>0</td>\n",
       "      <td>Graduate</td>\n",
       "      <td>Yes</td>\n",
       "      <td>3000</td>\n",
       "      <td>0.0</td>\n",
       "      <td>66.000000</td>\n",
       "      <td>360.0</td>\n",
       "      <td>1.0</td>\n",
       "      <td>Urban</td>\n",
       "      <td>Y</td>\n",
       "    </tr>\n",
       "    <tr>\n",
       "      <th>3</th>\n",
       "      <td>LP001006</td>\n",
       "      <td>Male</td>\n",
       "      <td>Yes</td>\n",
       "      <td>0</td>\n",
       "      <td>Not Graduate</td>\n",
       "      <td>No</td>\n",
       "      <td>2583</td>\n",
       "      <td>2358.0</td>\n",
       "      <td>120.000000</td>\n",
       "      <td>360.0</td>\n",
       "      <td>1.0</td>\n",
       "      <td>Urban</td>\n",
       "      <td>Y</td>\n",
       "    </tr>\n",
       "    <tr>\n",
       "      <th>4</th>\n",
       "      <td>LP001008</td>\n",
       "      <td>Male</td>\n",
       "      <td>No</td>\n",
       "      <td>0</td>\n",
       "      <td>Graduate</td>\n",
       "      <td>No</td>\n",
       "      <td>6000</td>\n",
       "      <td>0.0</td>\n",
       "      <td>141.000000</td>\n",
       "      <td>360.0</td>\n",
       "      <td>1.0</td>\n",
       "      <td>Urban</td>\n",
       "      <td>Y</td>\n",
       "    </tr>\n",
       "    <tr>\n",
       "      <th>...</th>\n",
       "      <td>...</td>\n",
       "      <td>...</td>\n",
       "      <td>...</td>\n",
       "      <td>...</td>\n",
       "      <td>...</td>\n",
       "      <td>...</td>\n",
       "      <td>...</td>\n",
       "      <td>...</td>\n",
       "      <td>...</td>\n",
       "      <td>...</td>\n",
       "      <td>...</td>\n",
       "      <td>...</td>\n",
       "      <td>...</td>\n",
       "    </tr>\n",
       "    <tr>\n",
       "      <th>609</th>\n",
       "      <td>LP002978</td>\n",
       "      <td>Female</td>\n",
       "      <td>No</td>\n",
       "      <td>0</td>\n",
       "      <td>Graduate</td>\n",
       "      <td>No</td>\n",
       "      <td>2900</td>\n",
       "      <td>0.0</td>\n",
       "      <td>71.000000</td>\n",
       "      <td>360.0</td>\n",
       "      <td>1.0</td>\n",
       "      <td>Rural</td>\n",
       "      <td>Y</td>\n",
       "    </tr>\n",
       "    <tr>\n",
       "      <th>610</th>\n",
       "      <td>LP002979</td>\n",
       "      <td>Male</td>\n",
       "      <td>Yes</td>\n",
       "      <td>3+</td>\n",
       "      <td>Graduate</td>\n",
       "      <td>No</td>\n",
       "      <td>4106</td>\n",
       "      <td>0.0</td>\n",
       "      <td>40.000000</td>\n",
       "      <td>180.0</td>\n",
       "      <td>1.0</td>\n",
       "      <td>Rural</td>\n",
       "      <td>Y</td>\n",
       "    </tr>\n",
       "    <tr>\n",
       "      <th>611</th>\n",
       "      <td>LP002983</td>\n",
       "      <td>Male</td>\n",
       "      <td>Yes</td>\n",
       "      <td>1</td>\n",
       "      <td>Graduate</td>\n",
       "      <td>No</td>\n",
       "      <td>8072</td>\n",
       "      <td>240.0</td>\n",
       "      <td>253.000000</td>\n",
       "      <td>360.0</td>\n",
       "      <td>1.0</td>\n",
       "      <td>Urban</td>\n",
       "      <td>Y</td>\n",
       "    </tr>\n",
       "    <tr>\n",
       "      <th>612</th>\n",
       "      <td>LP002984</td>\n",
       "      <td>Male</td>\n",
       "      <td>Yes</td>\n",
       "      <td>2</td>\n",
       "      <td>Graduate</td>\n",
       "      <td>No</td>\n",
       "      <td>7583</td>\n",
       "      <td>0.0</td>\n",
       "      <td>187.000000</td>\n",
       "      <td>360.0</td>\n",
       "      <td>1.0</td>\n",
       "      <td>Urban</td>\n",
       "      <td>Y</td>\n",
       "    </tr>\n",
       "    <tr>\n",
       "      <th>613</th>\n",
       "      <td>LP002990</td>\n",
       "      <td>Female</td>\n",
       "      <td>No</td>\n",
       "      <td>0</td>\n",
       "      <td>Graduate</td>\n",
       "      <td>Yes</td>\n",
       "      <td>4583</td>\n",
       "      <td>0.0</td>\n",
       "      <td>133.000000</td>\n",
       "      <td>360.0</td>\n",
       "      <td>0.0</td>\n",
       "      <td>Semiurban</td>\n",
       "      <td>N</td>\n",
       "    </tr>\n",
       "  </tbody>\n",
       "</table>\n",
       "<p>614 rows × 13 columns</p>\n",
       "</div>"
      ],
      "text/plain": [
       "      Loan_ID  Gender Married Dependents     Education Self_Employed  \\\n",
       "0    LP001002    Male      No          0      Graduate            No   \n",
       "1    LP001003    Male     Yes          1      Graduate            No   \n",
       "2    LP001005    Male     Yes          0      Graduate           Yes   \n",
       "3    LP001006    Male     Yes          0  Not Graduate            No   \n",
       "4    LP001008    Male      No          0      Graduate            No   \n",
       "..        ...     ...     ...        ...           ...           ...   \n",
       "609  LP002978  Female      No          0      Graduate            No   \n",
       "610  LP002979    Male     Yes         3+      Graduate            No   \n",
       "611  LP002983    Male     Yes          1      Graduate            No   \n",
       "612  LP002984    Male     Yes          2      Graduate            No   \n",
       "613  LP002990  Female      No          0      Graduate           Yes   \n",
       "\n",
       "     ApplicantIncome  CoapplicantIncome  LoanAmount  Loan_Amount_Term  \\\n",
       "0               5849                0.0  146.412162             360.0   \n",
       "1               4583             1508.0  128.000000             360.0   \n",
       "2               3000                0.0   66.000000             360.0   \n",
       "3               2583             2358.0  120.000000             360.0   \n",
       "4               6000                0.0  141.000000             360.0   \n",
       "..               ...                ...         ...               ...   \n",
       "609             2900                0.0   71.000000             360.0   \n",
       "610             4106                0.0   40.000000             180.0   \n",
       "611             8072              240.0  253.000000             360.0   \n",
       "612             7583                0.0  187.000000             360.0   \n",
       "613             4583                0.0  133.000000             360.0   \n",
       "\n",
       "     Credit_History Property_Area Loan_Status  \n",
       "0               1.0         Urban           Y  \n",
       "1               1.0         Rural           N  \n",
       "2               1.0         Urban           Y  \n",
       "3               1.0         Urban           Y  \n",
       "4               1.0         Urban           Y  \n",
       "..              ...           ...         ...  \n",
       "609             1.0         Rural           Y  \n",
       "610             1.0         Rural           Y  \n",
       "611             1.0         Urban           Y  \n",
       "612             1.0         Urban           Y  \n",
       "613             0.0     Semiurban           N  \n",
       "\n",
       "[614 rows x 13 columns]"
      ]
     },
     "execution_count": 9,
     "metadata": {},
     "output_type": "execute_result"
    }
   ],
   "source": [
    "df"
   ]
  },
  {
   "cell_type": "code",
   "execution_count": 10,
   "id": "3b195a91",
   "metadata": {},
   "outputs": [
    {
     "data": {
      "text/plain": [
       "Loan_ID              0\n",
       "Gender               0\n",
       "Married              0\n",
       "Dependents           0\n",
       "Education            0\n",
       "Self_Employed        0\n",
       "ApplicantIncome      0\n",
       "CoapplicantIncome    0\n",
       "LoanAmount           0\n",
       "Loan_Amount_Term     0\n",
       "Credit_History       0\n",
       "Property_Area        0\n",
       "Loan_Status          0\n",
       "dtype: int64"
      ]
     },
     "execution_count": 10,
     "metadata": {},
     "output_type": "execute_result"
    }
   ],
   "source": [
    "#Again checking the null values\n",
    "\n",
    "df.isnull().sum()"
   ]
  },
  {
   "cell_type": "markdown",
   "id": "6c4b214f",
   "metadata": {},
   "source": [
    "Now we can see there are no null values in the data frame."
   ]
  },
  {
   "cell_type": "markdown",
   "id": "3714c66a",
   "metadata": {},
   "source": [
    "## Statistics Summary"
   ]
  },
  {
   "cell_type": "code",
   "execution_count": 11,
   "id": "8e7a3e22",
   "metadata": {},
   "outputs": [
    {
     "data": {
      "text/html": [
       "<div>\n",
       "<style scoped>\n",
       "    .dataframe tbody tr th:only-of-type {\n",
       "        vertical-align: middle;\n",
       "    }\n",
       "\n",
       "    .dataframe tbody tr th {\n",
       "        vertical-align: top;\n",
       "    }\n",
       "\n",
       "    .dataframe thead th {\n",
       "        text-align: right;\n",
       "    }\n",
       "</style>\n",
       "<table border=\"1\" class=\"dataframe\">\n",
       "  <thead>\n",
       "    <tr style=\"text-align: right;\">\n",
       "      <th></th>\n",
       "      <th>ApplicantIncome</th>\n",
       "      <th>CoapplicantIncome</th>\n",
       "      <th>LoanAmount</th>\n",
       "      <th>Loan_Amount_Term</th>\n",
       "      <th>Credit_History</th>\n",
       "    </tr>\n",
       "  </thead>\n",
       "  <tbody>\n",
       "    <tr>\n",
       "      <th>count</th>\n",
       "      <td>614.000000</td>\n",
       "      <td>614.000000</td>\n",
       "      <td>614.000000</td>\n",
       "      <td>614.000000</td>\n",
       "      <td>614.000000</td>\n",
       "    </tr>\n",
       "    <tr>\n",
       "      <th>mean</th>\n",
       "      <td>5403.459283</td>\n",
       "      <td>1621.245798</td>\n",
       "      <td>146.412162</td>\n",
       "      <td>342.000000</td>\n",
       "      <td>0.842199</td>\n",
       "    </tr>\n",
       "    <tr>\n",
       "      <th>std</th>\n",
       "      <td>6109.041673</td>\n",
       "      <td>2926.248369</td>\n",
       "      <td>84.037468</td>\n",
       "      <td>64.372489</td>\n",
       "      <td>0.349681</td>\n",
       "    </tr>\n",
       "    <tr>\n",
       "      <th>min</th>\n",
       "      <td>150.000000</td>\n",
       "      <td>0.000000</td>\n",
       "      <td>9.000000</td>\n",
       "      <td>12.000000</td>\n",
       "      <td>0.000000</td>\n",
       "    </tr>\n",
       "    <tr>\n",
       "      <th>25%</th>\n",
       "      <td>2877.500000</td>\n",
       "      <td>0.000000</td>\n",
       "      <td>100.250000</td>\n",
       "      <td>360.000000</td>\n",
       "      <td>1.000000</td>\n",
       "    </tr>\n",
       "    <tr>\n",
       "      <th>50%</th>\n",
       "      <td>3812.500000</td>\n",
       "      <td>1188.500000</td>\n",
       "      <td>129.000000</td>\n",
       "      <td>360.000000</td>\n",
       "      <td>1.000000</td>\n",
       "    </tr>\n",
       "    <tr>\n",
       "      <th>75%</th>\n",
       "      <td>5795.000000</td>\n",
       "      <td>2297.250000</td>\n",
       "      <td>164.750000</td>\n",
       "      <td>360.000000</td>\n",
       "      <td>1.000000</td>\n",
       "    </tr>\n",
       "    <tr>\n",
       "      <th>max</th>\n",
       "      <td>81000.000000</td>\n",
       "      <td>41667.000000</td>\n",
       "      <td>700.000000</td>\n",
       "      <td>480.000000</td>\n",
       "      <td>1.000000</td>\n",
       "    </tr>\n",
       "  </tbody>\n",
       "</table>\n",
       "</div>"
      ],
      "text/plain": [
       "       ApplicantIncome  CoapplicantIncome  LoanAmount  Loan_Amount_Term  \\\n",
       "count       614.000000         614.000000  614.000000        614.000000   \n",
       "mean       5403.459283        1621.245798  146.412162        342.000000   \n",
       "std        6109.041673        2926.248369   84.037468         64.372489   \n",
       "min         150.000000           0.000000    9.000000         12.000000   \n",
       "25%        2877.500000           0.000000  100.250000        360.000000   \n",
       "50%        3812.500000        1188.500000  129.000000        360.000000   \n",
       "75%        5795.000000        2297.250000  164.750000        360.000000   \n",
       "max       81000.000000       41667.000000  700.000000        480.000000   \n",
       "\n",
       "       Credit_History  \n",
       "count      614.000000  \n",
       "mean         0.842199  \n",
       "std          0.349681  \n",
       "min          0.000000  \n",
       "25%          1.000000  \n",
       "50%          1.000000  \n",
       "75%          1.000000  \n",
       "max          1.000000  "
      ]
     },
     "execution_count": 11,
     "metadata": {},
     "output_type": "execute_result"
    }
   ],
   "source": [
    "# For all numerical variables\n",
    "df.describe() "
   ]
  },
  {
   "cell_type": "markdown",
   "id": "0e4a1533",
   "metadata": {},
   "source": [
    "Key Observations:\n",
    "\n",
    "1. The mean is more than median(50th percentile) in ApplicantIncome, CoapplicantIncome and  LoanAmount.wherever Mean value  is higher than the median value, that data is skewed data. Also ther havehuge variance in their data.\n",
    "2. Also there is a large difference between 75% and max value in these three columns.\n",
    "3. The 1 and 2 observations suggest that there are extreme outliers present in these three columns.\\\n",
    "4. Also standard deviation is very high in these three columns. So data is spreaded in more area.\n",
    "5. Minimum co applicant income is 0 till 25th percentile.\n",
    "6. credit history is binery column with 0 and 1 values. assuming that credit history 1 is good and 0 is not good\n",
    "7. Loan_Amount_term is the year of loan, min is 1 year and maximum is 40. "
   ]
  },
  {
   "cell_type": "code",
   "execution_count": 12,
   "id": "3bcdcd2d",
   "metadata": {},
   "outputs": [
    {
     "data": {
      "text/html": [
       "<div>\n",
       "<style scoped>\n",
       "    .dataframe tbody tr th:only-of-type {\n",
       "        vertical-align: middle;\n",
       "    }\n",
       "\n",
       "    .dataframe tbody tr th {\n",
       "        vertical-align: top;\n",
       "    }\n",
       "\n",
       "    .dataframe thead th {\n",
       "        text-align: right;\n",
       "    }\n",
       "</style>\n",
       "<table border=\"1\" class=\"dataframe\">\n",
       "  <thead>\n",
       "    <tr style=\"text-align: right;\">\n",
       "      <th></th>\n",
       "      <th>Loan_ID</th>\n",
       "      <th>Gender</th>\n",
       "      <th>Married</th>\n",
       "      <th>Dependents</th>\n",
       "      <th>Education</th>\n",
       "      <th>Self_Employed</th>\n",
       "      <th>Property_Area</th>\n",
       "      <th>Loan_Status</th>\n",
       "    </tr>\n",
       "  </thead>\n",
       "  <tbody>\n",
       "    <tr>\n",
       "      <th>count</th>\n",
       "      <td>614</td>\n",
       "      <td>614</td>\n",
       "      <td>614</td>\n",
       "      <td>614</td>\n",
       "      <td>614</td>\n",
       "      <td>614</td>\n",
       "      <td>614</td>\n",
       "      <td>614</td>\n",
       "    </tr>\n",
       "    <tr>\n",
       "      <th>unique</th>\n",
       "      <td>614</td>\n",
       "      <td>2</td>\n",
       "      <td>2</td>\n",
       "      <td>4</td>\n",
       "      <td>2</td>\n",
       "      <td>2</td>\n",
       "      <td>3</td>\n",
       "      <td>2</td>\n",
       "    </tr>\n",
       "    <tr>\n",
       "      <th>top</th>\n",
       "      <td>LP002582</td>\n",
       "      <td>Male</td>\n",
       "      <td>Yes</td>\n",
       "      <td>0</td>\n",
       "      <td>Graduate</td>\n",
       "      <td>No</td>\n",
       "      <td>Semiurban</td>\n",
       "      <td>Y</td>\n",
       "    </tr>\n",
       "    <tr>\n",
       "      <th>freq</th>\n",
       "      <td>1</td>\n",
       "      <td>502</td>\n",
       "      <td>401</td>\n",
       "      <td>360</td>\n",
       "      <td>480</td>\n",
       "      <td>532</td>\n",
       "      <td>233</td>\n",
       "      <td>422</td>\n",
       "    </tr>\n",
       "  </tbody>\n",
       "</table>\n",
       "</div>"
      ],
      "text/plain": [
       "         Loan_ID Gender Married Dependents Education Self_Employed  \\\n",
       "count        614    614     614        614       614           614   \n",
       "unique       614      2       2          4         2             2   \n",
       "top     LP002582   Male     Yes          0  Graduate            No   \n",
       "freq           1    502     401        360       480           532   \n",
       "\n",
       "       Property_Area Loan_Status  \n",
       "count            614         614  \n",
       "unique             3           2  \n",
       "top        Semiurban           Y  \n",
       "freq             233         422  "
      ]
     },
     "execution_count": 12,
     "metadata": {},
     "output_type": "execute_result"
    }
   ],
   "source": [
    "# For all categorical variables\n",
    "df.select_dtypes(include=\"object\").describe()"
   ]
  },
  {
   "cell_type": "markdown",
   "id": "da365aab",
   "metadata": {},
   "source": [
    "count of Male applying loan is higher than female. 65% people are married who appiled for loan, 79% people are graduate and 38% people belong to semiurban area. 68% applicants' application are accepted."
   ]
  },
  {
   "cell_type": "code",
   "execution_count": 13,
   "id": "0d9fe025",
   "metadata": {},
   "outputs": [
    {
     "data": {
      "text/html": [
       "<div>\n",
       "<style scoped>\n",
       "    .dataframe tbody tr th:only-of-type {\n",
       "        vertical-align: middle;\n",
       "    }\n",
       "\n",
       "    .dataframe tbody tr th {\n",
       "        vertical-align: top;\n",
       "    }\n",
       "\n",
       "    .dataframe thead th {\n",
       "        text-align: right;\n",
       "    }\n",
       "</style>\n",
       "<table border=\"1\" class=\"dataframe\">\n",
       "  <thead>\n",
       "    <tr style=\"text-align: right;\">\n",
       "      <th>Loan_Status</th>\n",
       "      <th>N</th>\n",
       "      <th>Y</th>\n",
       "      <th>All</th>\n",
       "    </tr>\n",
       "    <tr>\n",
       "      <th>Credit_History</th>\n",
       "      <th></th>\n",
       "      <th></th>\n",
       "      <th></th>\n",
       "    </tr>\n",
       "  </thead>\n",
       "  <tbody>\n",
       "    <tr>\n",
       "      <th>0.0</th>\n",
       "      <td>82</td>\n",
       "      <td>7</td>\n",
       "      <td>89</td>\n",
       "    </tr>\n",
       "    <tr>\n",
       "      <th>0.8421985815602837</th>\n",
       "      <td>13</td>\n",
       "      <td>37</td>\n",
       "      <td>50</td>\n",
       "    </tr>\n",
       "    <tr>\n",
       "      <th>1.0</th>\n",
       "      <td>97</td>\n",
       "      <td>378</td>\n",
       "      <td>475</td>\n",
       "    </tr>\n",
       "    <tr>\n",
       "      <th>All</th>\n",
       "      <td>192</td>\n",
       "      <td>422</td>\n",
       "      <td>614</td>\n",
       "    </tr>\n",
       "  </tbody>\n",
       "</table>\n",
       "</div>"
      ],
      "text/plain": [
       "Loan_Status           N    Y  All\n",
       "Credit_History                   \n",
       "0.0                  82    7   89\n",
       "0.8421985815602837   13   37   50\n",
       "1.0                  97  378  475\n",
       "All                 192  422  614"
      ]
     },
     "execution_count": 13,
     "metadata": {},
     "output_type": "execute_result"
    }
   ],
   "source": [
    "#Let us see how credit history affects the Loan_Status of each of the applicants\n",
    "pd.crosstab(df['Credit_History'],df['Loan_Status'],margins=True)"
   ]
  },
  {
   "cell_type": "markdown",
   "id": "fa11e2a2",
   "metadata": {},
   "source": [
    "We can see that the applicants with Credit_History 1 are more eligible for the loan than the one who have Credit_History =0"
   ]
  },
  {
   "cell_type": "code",
   "execution_count": 14,
   "id": "81aa7c7f",
   "metadata": {},
   "outputs": [
    {
     "data": {
      "text/plain": [
       "Gender  Self_Employed  Property_Area  Loan_Status\n",
       "Female  No             Rural          N                8\n",
       "                                      Y               13\n",
       "                       Semiurban      N               10\n",
       "                                      Y               37\n",
       "                       Urban          N               13\n",
       "                                      Y               16\n",
       "        Yes            Rural          N                2\n",
       "                                      Y                1\n",
       "                       Semiurban      N                3\n",
       "                                      Y                5\n",
       "                       Urban          N                1\n",
       "                                      Y                3\n",
       "Male    No             Rural          N               52\n",
       "                                      Y               80\n",
       "                       Semiurban      N               37\n",
       "                                      Y              117\n",
       "                       Urban          N               46\n",
       "                                      Y              103\n",
       "        Yes            Rural          N                7\n",
       "                                      Y               16\n",
       "                       Semiurban      N                4\n",
       "                                      Y               20\n",
       "                       Urban          N                9\n",
       "                                      Y               11\n",
       "Name: Loan_Status, dtype: int64"
      ]
     },
     "execution_count": 14,
     "metadata": {},
     "output_type": "execute_result"
    }
   ],
   "source": [
    "df.groupby([\"Gender\",\"Self_Employed\",\"Property_Area\",\"Loan_Status\"])[\"Loan_Status\"].count()"
   ]
  },
  {
   "cell_type": "markdown",
   "id": "e931e1d9",
   "metadata": {},
   "source": [
    "## Univariate Analysis"
   ]
  },
  {
   "cell_type": "code",
   "execution_count": 15,
   "id": "91dd3a9e",
   "metadata": {},
   "outputs": [
    {
     "name": "stdout",
     "output_type": "stream",
     "text": [
      "Y    422\n",
      "N    192\n",
      "Name: Loan_Status, dtype: int64\n"
     ]
    },
    {
     "data": {
      "image/png": "[encoded data removed]",
      "text/plain": [
       "<Figure size 432x288 with 1 Axes>"
      ]
     },
     "metadata": {
      "needs_background": "light"
     },
     "output_type": "display_data"
    }
   ],
   "source": [
    "#Checking the target column\n",
    "# Finding the number of People who got loan\n",
    "sns.countplot(df['Loan_Status'])\n",
    "print(df['Loan_Status'].value_counts())"
   ]
  },
  {
   "cell_type": "markdown",
   "id": "99c14bf8",
   "metadata": {},
   "source": [
    "Here we can see that out of 641 people, 422 people have got loan which is around 65.8% and 192 didn't got loan.\n",
    "\n",
    "Also Here we can see there is huge difference between two Categories of Loan_Atatus. So the data is imbalanced. So we will apply SMOTE analysis before ML of final model."
   ]
  },
  {
   "cell_type": "code",
   "execution_count": 16,
   "id": "65312529",
   "metadata": {},
   "outputs": [
    {
     "data": {
      "text/plain": [
       "<AxesSubplot:xlabel='Loan_Status', ylabel='count'>"
      ]
     },
     "execution_count": 16,
     "metadata": {},
     "output_type": "execute_result"
    },
    {
     "data": {
      "image/png": "[encoded data removed]",
      "text/plain": [
       "<Figure size 1152x720 with 8 Axes>"
      ]
     },
     "metadata": {
      "needs_background": "light"
     },
     "output_type": "display_data"
    }
   ],
   "source": [
    "fig,ax=plt.subplots(2,4,figsize=(16,10))\n",
    "sns.countplot('Gender',data=df,ax=ax[0][0])\n",
    "sns.countplot('Married',data=df,ax=ax[0][1])\n",
    "sns.countplot('Education',data=df,ax=ax[0][2])\n",
    "sns.countplot('Self_Employed',data=df,ax=ax[0][3])\n",
    "sns.countplot('Property_Area',data=df,ax=ax[1][0])\n",
    "sns.countplot('Credit_History',data=df,ax=ax[1][1])\n",
    "sns.countplot('Dependents',data=df,ax=ax[1][2])\n",
    "sns.countplot('Loan_Status',data=df,ax=ax[1][3])"
   ]
  },
  {
   "cell_type": "markdown",
   "id": "f47a77f5",
   "metadata": {},
   "source": [
    "OBSERVATIONS:\n",
    "    \n",
    "1. More Loans are approved Vs Rejected\n",
    "\n",
    "2. Count of Male applicants is more than Female\n",
    "\n",
    "3. Count of Married applicant is more than Non-married\n",
    "\n",
    "4. Count of graduate is more than non-Graduate\n",
    "\n",
    "5. Count of self-employed is less than that of Non-Self-employed\n",
    "\n",
    "6. Maximum properties are located in Semiurban areas\n",
    "\n",
    "7. Credit History is present for many applicants\n",
    "\n",
    "8. The count of applicants with several dependents=0 is maximum."
   ]
  },
  {
   "cell_type": "code",
   "execution_count": 17,
   "id": "4ff2456f",
   "metadata": {},
   "outputs": [
    {
     "data": {
      "image/png": "[encoded data removed]",
      "text/plain": [
       "<Figure size 576x288 with 1 Axes>"
      ]
     },
     "metadata": {
      "needs_background": "light"
     },
     "output_type": "display_data"
    }
   ],
   "source": [
    "plt.rcParams[\"figure.figsize\"] =(8,4)\n",
    "sns.distplot(df[\"ApplicantIncome\"])\n",
    "plt.title(\"Distribution of Applicant Income\", fontsize=15)\n",
    "plt.grid()\n",
    "plt.show()"
   ]
  },
  {
   "cell_type": "markdown",
   "id": "5a272fae",
   "metadata": {},
   "source": [
    "## Bivariate Analysis"
   ]
  },
  {
   "cell_type": "code",
   "execution_count": 18,
   "id": "1ff52bdf",
   "metadata": {},
   "outputs": [
    {
     "data": {
      "text/plain": [
       "<AxesSubplot:ylabel='Gender,Loan_Status'>"
      ]
     },
     "execution_count": 18,
     "metadata": {},
     "output_type": "execute_result"
    },
    {
     "data": {
      "image/png": "[encoded data removed]",
      "text/plain": [
       "<Figure size 576x288 with 1 Axes>"
      ]
     },
     "metadata": {
      "needs_background": "light"
     },
     "output_type": "display_data"
    }
   ],
   "source": [
    "df.groupby([\"Gender\",\"Loan_Status\"])[\"Loan_Status\"].count().plot(kind = \"barh\")"
   ]
  },
  {
   "cell_type": "markdown",
   "id": "bd275883",
   "metadata": {},
   "source": [
    "we can see that maximum loan is applied by the males and accordingly more male members got their loan sanctioned."
   ]
  },
  {
   "cell_type": "code",
   "execution_count": 19,
   "id": "57f6e80b",
   "metadata": {},
   "outputs": [
    {
     "data": {
      "text/plain": [
       "<AxesSubplot:ylabel='Loan_Status,Gender,Education,Credit_History'>"
      ]
     },
     "execution_count": 19,
     "metadata": {},
     "output_type": "execute_result"
    },
    {
     "data": {
      "image/png": "[encoded data removed]",
      "text/plain": [
       "<Figure size 1080x576 with 1 Axes>"
      ]
     },
     "metadata": {
      "needs_background": "light"
     },
     "output_type": "display_data"
    }
   ],
   "source": [
    "plt.figure(figsize=(15,8))\n",
    "df.groupby([\"Loan_Status\",\"Gender\",\"Education\",\"Credit_History\"])[\"Loan_Status\"].count().plot(kind = \"barh\")"
   ]
  },
  {
   "cell_type": "markdown",
   "id": "5bfe5991",
   "metadata": {},
   "source": [
    "maximum participation has come from people who are graduate. we can clearly see that graduate people with good credit history have higher loan application.it seems that graduate are earning more."
   ]
  },
  {
   "cell_type": "markdown",
   "id": "ec0d029d",
   "metadata": {},
   "source": [
    "### Data visualisation of Numerical Features"
   ]
  },
  {
   "cell_type": "code",
   "execution_count": 20,
   "id": "0caa44d7",
   "metadata": {},
   "outputs": [
    {
     "data": {
      "text/plain": [
       "<AxesSubplot:xlabel='ApplicantIncome', ylabel='Count'>"
      ]
     },
     "execution_count": 20,
     "metadata": {},
     "output_type": "execute_result"
    },
    {
     "data": {
      "image/png": "[encoded data removed]",
      "text/plain": [
       "<Figure size 576x288 with 1 Axes>"
      ]
     },
     "metadata": {
      "needs_background": "light"
     },
     "output_type": "display_data"
    }
   ],
   "source": [
    "plt.grid()\n",
    "sns.histplot(df['ApplicantIncome'])"
   ]
  },
  {
   "cell_type": "code",
   "execution_count": 21,
   "id": "1cfa0565",
   "metadata": {},
   "outputs": [
    {
     "data": {
      "text/plain": [
       "<AxesSubplot:xlabel='CoapplicantIncome', ylabel='Count'>"
      ]
     },
     "execution_count": 21,
     "metadata": {},
     "output_type": "execute_result"
    },
    {
     "data": {
      "image/png": "[encoded data removed]",
      "text/plain": [
       "<Figure size 576x288 with 1 Axes>"
      ]
     },
     "metadata": {
      "needs_background": "light"
     },
     "output_type": "display_data"
    }
   ],
   "source": [
    "plt.grid()\n",
    "sns.histplot(df['CoapplicantIncome'])"
   ]
  },
  {
   "cell_type": "code",
   "execution_count": 22,
   "id": "ff4827f2",
   "metadata": {},
   "outputs": [
    {
     "data": {
      "text/plain": [
       "<AxesSubplot:xlabel='Credit_History', ylabel='Count'>"
      ]
     },
     "execution_count": 22,
     "metadata": {},
     "output_type": "execute_result"
    },
    {
     "data": {
      "image/png": "[encoded data removed]",
      "text/plain": [
       "<Figure size 576x288 with 1 Axes>"
      ]
     },
     "metadata": {
      "needs_background": "light"
     },
     "output_type": "display_data"
    }
   ],
   "source": [
    "plt.grid()\n",
    "sns.histplot(df['Credit_History'])"
   ]
  },
  {
   "cell_type": "code",
   "execution_count": 23,
   "id": "a864431e",
   "metadata": {},
   "outputs": [
    {
     "data": {
      "text/plain": [
       "Education\n",
       "Graduate        5857.433333\n",
       "Not Graduate    3777.283582\n",
       "Name: ApplicantIncome, dtype: float64"
      ]
     },
     "execution_count": 23,
     "metadata": {},
     "output_type": "execute_result"
    }
   ],
   "source": [
    "df.groupby(\"Education\")[\"ApplicantIncome\"].mean()"
   ]
  },
  {
   "cell_type": "code",
   "execution_count": 24,
   "id": "eb9fcac4",
   "metadata": {},
   "outputs": [
    {
     "data": {
      "text/html": [
       "<div>\n",
       "<style scoped>\n",
       "    .dataframe tbody tr th:only-of-type {\n",
       "        vertical-align: middle;\n",
       "    }\n",
       "\n",
       "    .dataframe tbody tr th {\n",
       "        vertical-align: top;\n",
       "    }\n",
       "\n",
       "    .dataframe thead th {\n",
       "        text-align: right;\n",
       "    }\n",
       "</style>\n",
       "<table border=\"1\" class=\"dataframe\">\n",
       "  <thead>\n",
       "    <tr style=\"text-align: right;\">\n",
       "      <th></th>\n",
       "      <th></th>\n",
       "      <th>ApplicantIncome</th>\n",
       "      <th>CoapplicantIncome</th>\n",
       "      <th>LoanAmount</th>\n",
       "    </tr>\n",
       "    <tr>\n",
       "      <th>Education</th>\n",
       "      <th>Dependents</th>\n",
       "      <th></th>\n",
       "      <th></th>\n",
       "      <th></th>\n",
       "    </tr>\n",
       "  </thead>\n",
       "  <tbody>\n",
       "    <tr>\n",
       "      <th rowspan=\"4\" valign=\"top\">Graduate</th>\n",
       "      <th>0</th>\n",
       "      <td>5200.234266</td>\n",
       "      <td>1696.315105</td>\n",
       "      <td>141.098327</td>\n",
       "    </tr>\n",
       "    <tr>\n",
       "      <th>1</th>\n",
       "      <td>6562.333333</td>\n",
       "      <td>1332.987654</td>\n",
       "      <td>163.706623</td>\n",
       "    </tr>\n",
       "    <tr>\n",
       "      <th>2</th>\n",
       "      <td>5360.597403</td>\n",
       "      <td>1781.516883</td>\n",
       "      <td>160.088628</td>\n",
       "    </tr>\n",
       "    <tr>\n",
       "      <th>3+</th>\n",
       "      <td>10555.166667</td>\n",
       "      <td>2613.694444</td>\n",
       "      <td>219.250000</td>\n",
       "    </tr>\n",
       "    <tr>\n",
       "      <th rowspan=\"4\" valign=\"top\">Not Graduate</th>\n",
       "      <th>0</th>\n",
       "      <td>3879.162162</td>\n",
       "      <td>1232.040541</td>\n",
       "      <td>116.273466</td>\n",
       "    </tr>\n",
       "    <tr>\n",
       "      <th>1</th>\n",
       "      <td>3647.761905</td>\n",
       "      <td>1785.904762</td>\n",
       "      <td>136.686293</td>\n",
       "    </tr>\n",
       "    <tr>\n",
       "      <th>2</th>\n",
       "      <td>3534.958333</td>\n",
       "      <td>1384.791667</td>\n",
       "      <td>118.100507</td>\n",
       "    </tr>\n",
       "    <tr>\n",
       "      <th>3+</th>\n",
       "      <td>3843.733333</td>\n",
       "      <td>609.800000</td>\n",
       "      <td>116.921622</td>\n",
       "    </tr>\n",
       "  </tbody>\n",
       "</table>\n",
       "</div>"
      ],
      "text/plain": [
       "                         ApplicantIncome  CoapplicantIncome  LoanAmount\n",
       "Education    Dependents                                                \n",
       "Graduate     0               5200.234266        1696.315105  141.098327\n",
       "             1               6562.333333        1332.987654  163.706623\n",
       "             2               5360.597403        1781.516883  160.088628\n",
       "             3+             10555.166667        2613.694444  219.250000\n",
       "Not Graduate 0               3879.162162        1232.040541  116.273466\n",
       "             1               3647.761905        1785.904762  136.686293\n",
       "             2               3534.958333        1384.791667  118.100507\n",
       "             3+              3843.733333         609.800000  116.921622"
      ]
     },
     "execution_count": 24,
     "metadata": {},
     "output_type": "execute_result"
    }
   ],
   "source": [
    "df.groupby([\"Education\",\"Dependents\"])[[\"ApplicantIncome\",\"CoapplicantIncome\",\"LoanAmount\"]].mean()"
   ]
  },
  {
   "cell_type": "markdown",
   "id": "76829945",
   "metadata": {},
   "source": [
    "it clearly tells that graduate are earning more than not graduate. average income along with dependants in graduate category is high than not graduate.With 3+ dependents loan amount is high under gradate bucket however under non graduate bucket it is 115 and the strange thing is that with 3+ dependents loan amount is equal as no dependance."
   ]
  },
  {
   "cell_type": "code",
   "execution_count": 25,
   "id": "907bbba6",
   "metadata": {},
   "outputs": [
    {
     "data": {
      "text/html": [
       "<div>\n",
       "<style scoped>\n",
       "    .dataframe tbody tr th:only-of-type {\n",
       "        vertical-align: middle;\n",
       "    }\n",
       "\n",
       "    .dataframe tbody tr th {\n",
       "        vertical-align: top;\n",
       "    }\n",
       "\n",
       "    .dataframe thead th {\n",
       "        text-align: right;\n",
       "    }\n",
       "</style>\n",
       "<table border=\"1\" class=\"dataframe\">\n",
       "  <thead>\n",
       "    <tr style=\"text-align: right;\">\n",
       "      <th></th>\n",
       "      <th></th>\n",
       "      <th>ApplicantIncome</th>\n",
       "      <th>LoanAmount</th>\n",
       "    </tr>\n",
       "    <tr>\n",
       "      <th>Self_Employed</th>\n",
       "      <th>Gender</th>\n",
       "      <th></th>\n",
       "      <th></th>\n",
       "    </tr>\n",
       "  </thead>\n",
       "  <tbody>\n",
       "    <tr>\n",
       "      <th rowspan=\"2\" valign=\"top\">No</th>\n",
       "      <th>Female</th>\n",
       "      <td>3966.257732</td>\n",
       "      <td>120.781694</td>\n",
       "    </tr>\n",
       "    <tr>\n",
       "      <th>Male</th>\n",
       "      <td>5351.195402</td>\n",
       "      <td>147.480475</td>\n",
       "    </tr>\n",
       "    <tr>\n",
       "      <th rowspan=\"2\" valign=\"top\">Yes</th>\n",
       "      <th>Female</th>\n",
       "      <td>9022.800000</td>\n",
       "      <td>168.894144</td>\n",
       "    </tr>\n",
       "    <tr>\n",
       "      <th>Male</th>\n",
       "      <td>7013.208955</td>\n",
       "      <td>171.549617</td>\n",
       "    </tr>\n",
       "  </tbody>\n",
       "</table>\n",
       "</div>"
      ],
      "text/plain": [
       "                      ApplicantIncome  LoanAmount\n",
       "Self_Employed Gender                             \n",
       "No            Female      3966.257732  120.781694\n",
       "              Male        5351.195402  147.480475\n",
       "Yes           Female      9022.800000  168.894144\n",
       "              Male        7013.208955  171.549617"
      ]
     },
     "execution_count": 25,
     "metadata": {},
     "output_type": "execute_result"
    }
   ],
   "source": [
    "df.groupby([\"Self_Employed\",\"Gender\"])[[\"ApplicantIncome\", \"LoanAmount\"]].mean()"
   ]
  },
  {
   "cell_type": "markdown",
   "id": "9fcb0fce",
   "metadata": {},
   "source": [
    "self_employed female are earning more than male, it seems they are good enterprenure but average loan amount is high for male."
   ]
  },
  {
   "cell_type": "code",
   "execution_count": 26,
   "id": "667a8b4b",
   "metadata": {},
   "outputs": [
    {
     "data": {
      "image/png": "[encoded data removed]",
      "text/plain": [
       "<Figure size 576x288 with 1 Axes>"
      ]
     },
     "metadata": {
      "needs_background": "light"
     },
     "output_type": "display_data"
    }
   ],
   "source": [
    "plt.rcParams['figure.figsize'] = (8,4)\n",
    "x = pd.crosstab(df['Dependents'], df['Loan_Status'])\n",
    "colors = plt.cm.magma(np.linspace(0, 1, 3))\n",
    "x.div(x.sum(1).astype(float), axis = 0).plot(kind = 'bar', stacked = False)\n",
    "plt.title('Effect of Dependents on Loan Status', fontsize = 15)\n",
    "plt.xlabel(' ')\n",
    "plt.show()"
   ]
  },
  {
   "cell_type": "code",
   "execution_count": 27,
   "id": "2739e8fd",
   "metadata": {},
   "outputs": [
    {
     "data": {
      "image/png": "[encoded data removed]",
      "text/plain": [
       "<Figure size 432x288 with 1 Axes>"
      ]
     },
     "metadata": {
      "needs_background": "light"
     },
     "output_type": "display_data"
    }
   ],
   "source": [
    "#Loan_Status vs ApplicantIncome\n",
    "plt.figure(figsize=(6,4))\n",
    "sns.barplot(x='Loan_Status',y='ApplicantIncome',data=df,palette='inferno')\n",
    "plt.show()"
   ]
  },
  {
   "cell_type": "markdown",
   "id": "b32fc597",
   "metadata": {},
   "source": [
    "Mean ApplicantIncome of Yes and No are almost the same."
   ]
  },
  {
   "cell_type": "code",
   "execution_count": 28,
   "id": "75bb7d7c",
   "metadata": {},
   "outputs": [
    {
     "data": {
      "text/plain": [
       "<AxesSubplot:>"
      ]
     },
     "execution_count": 28,
     "metadata": {},
     "output_type": "execute_result"
    },
    {
     "data": {
      "image/png": "[encoded data removed]",
      "text/plain": [
       "<Figure size 576x288 with 1 Axes>"
      ]
     },
     "metadata": {
      "needs_background": "light"
     },
     "output_type": "display_data"
    }
   ],
   "source": [
    "#Create a new column as Total Income\n",
    "\n",
    "df['TotalIncome']=df['ApplicantIncome'] + df['CoapplicantIncome']\n",
    "df['TotalIncome'] \n",
    "#Histogram for Total Income\n",
    "df['TotalIncome'].hist(bins=20) "
   ]
  },
  {
   "cell_type": "code",
   "execution_count": 29,
   "id": "a3266e2e",
   "metadata": {},
   "outputs": [
    {
     "data": {
      "image/png": "[encoded data removed]",
      "text/plain": [
       "<Figure size 1440x1440 with 6 Axes>"
      ]
     },
     "metadata": {
      "needs_background": "light"
     },
     "output_type": "display_data"
    }
   ],
   "source": [
    "# distribution of the data\n",
    "df.iloc[:,1:-1].hist(figsize=(20,20));"
   ]
  },
  {
   "cell_type": "code",
   "execution_count": null,
   "id": "cd3430e2",
   "metadata": {},
   "outputs": [],
   "source": []
  },
  {
   "cell_type": "markdown",
   "id": "18d45e7c",
   "metadata": {},
   "source": [
    "## To Check and remove the outliers and skewness"
   ]
  },
  {
   "cell_type": "code",
   "execution_count": 30,
   "id": "5b21b695",
   "metadata": {},
   "outputs": [
    {
     "data": {
      "text/html": [
       "<div>\n",
       "<style scoped>\n",
       "    .dataframe tbody tr th:only-of-type {\n",
       "        vertical-align: middle;\n",
       "    }\n",
       "\n",
       "    .dataframe tbody tr th {\n",
       "        vertical-align: top;\n",
       "    }\n",
       "\n",
       "    .dataframe thead th {\n",
       "        text-align: right;\n",
       "    }\n",
       "</style>\n",
       "<table border=\"1\" class=\"dataframe\">\n",
       "  <thead>\n",
       "    <tr style=\"text-align: right;\">\n",
       "      <th></th>\n",
       "      <th>ApplicantIncome</th>\n",
       "      <th>CoapplicantIncome</th>\n",
       "      <th>LoanAmount</th>\n",
       "      <th>Loan_Amount_Term</th>\n",
       "      <th>Credit_History</th>\n",
       "      <th>TotalIncome</th>\n",
       "    </tr>\n",
       "  </thead>\n",
       "  <tbody>\n",
       "    <tr>\n",
       "      <th>0</th>\n",
       "      <td>5849</td>\n",
       "      <td>0.0</td>\n",
       "      <td>146.412162</td>\n",
       "      <td>360.0</td>\n",
       "      <td>1.0</td>\n",
       "      <td>5849.0</td>\n",
       "    </tr>\n",
       "    <tr>\n",
       "      <th>1</th>\n",
       "      <td>4583</td>\n",
       "      <td>1508.0</td>\n",
       "      <td>128.000000</td>\n",
       "      <td>360.0</td>\n",
       "      <td>1.0</td>\n",
       "      <td>6091.0</td>\n",
       "    </tr>\n",
       "    <tr>\n",
       "      <th>2</th>\n",
       "      <td>3000</td>\n",
       "      <td>0.0</td>\n",
       "      <td>66.000000</td>\n",
       "      <td>360.0</td>\n",
       "      <td>1.0</td>\n",
       "      <td>3000.0</td>\n",
       "    </tr>\n",
       "    <tr>\n",
       "      <th>3</th>\n",
       "      <td>2583</td>\n",
       "      <td>2358.0</td>\n",
       "      <td>120.000000</td>\n",
       "      <td>360.0</td>\n",
       "      <td>1.0</td>\n",
       "      <td>4941.0</td>\n",
       "    </tr>\n",
       "    <tr>\n",
       "      <th>4</th>\n",
       "      <td>6000</td>\n",
       "      <td>0.0</td>\n",
       "      <td>141.000000</td>\n",
       "      <td>360.0</td>\n",
       "      <td>1.0</td>\n",
       "      <td>6000.0</td>\n",
       "    </tr>\n",
       "    <tr>\n",
       "      <th>...</th>\n",
       "      <td>...</td>\n",
       "      <td>...</td>\n",
       "      <td>...</td>\n",
       "      <td>...</td>\n",
       "      <td>...</td>\n",
       "      <td>...</td>\n",
       "    </tr>\n",
       "    <tr>\n",
       "      <th>609</th>\n",
       "      <td>2900</td>\n",
       "      <td>0.0</td>\n",
       "      <td>71.000000</td>\n",
       "      <td>360.0</td>\n",
       "      <td>1.0</td>\n",
       "      <td>2900.0</td>\n",
       "    </tr>\n",
       "    <tr>\n",
       "      <th>610</th>\n",
       "      <td>4106</td>\n",
       "      <td>0.0</td>\n",
       "      <td>40.000000</td>\n",
       "      <td>180.0</td>\n",
       "      <td>1.0</td>\n",
       "      <td>4106.0</td>\n",
       "    </tr>\n",
       "    <tr>\n",
       "      <th>611</th>\n",
       "      <td>8072</td>\n",
       "      <td>240.0</td>\n",
       "      <td>253.000000</td>\n",
       "      <td>360.0</td>\n",
       "      <td>1.0</td>\n",
       "      <td>8312.0</td>\n",
       "    </tr>\n",
       "    <tr>\n",
       "      <th>612</th>\n",
       "      <td>7583</td>\n",
       "      <td>0.0</td>\n",
       "      <td>187.000000</td>\n",
       "      <td>360.0</td>\n",
       "      <td>1.0</td>\n",
       "      <td>7583.0</td>\n",
       "    </tr>\n",
       "    <tr>\n",
       "      <th>613</th>\n",
       "      <td>4583</td>\n",
       "      <td>0.0</td>\n",
       "      <td>133.000000</td>\n",
       "      <td>360.0</td>\n",
       "      <td>0.0</td>\n",
       "      <td>4583.0</td>\n",
       "    </tr>\n",
       "  </tbody>\n",
       "</table>\n",
       "<p>614 rows × 6 columns</p>\n",
       "</div>"
      ],
      "text/plain": [
       "     ApplicantIncome  CoapplicantIncome  LoanAmount  Loan_Amount_Term  \\\n",
       "0               5849                0.0  146.412162             360.0   \n",
       "1               4583             1508.0  128.000000             360.0   \n",
       "2               3000                0.0   66.000000             360.0   \n",
       "3               2583             2358.0  120.000000             360.0   \n",
       "4               6000                0.0  141.000000             360.0   \n",
       "..               ...                ...         ...               ...   \n",
       "609             2900                0.0   71.000000             360.0   \n",
       "610             4106                0.0   40.000000             180.0   \n",
       "611             8072              240.0  253.000000             360.0   \n",
       "612             7583                0.0  187.000000             360.0   \n",
       "613             4583                0.0  133.000000             360.0   \n",
       "\n",
       "     Credit_History  TotalIncome  \n",
       "0               1.0       5849.0  \n",
       "1               1.0       6091.0  \n",
       "2               1.0       3000.0  \n",
       "3               1.0       4941.0  \n",
       "4               1.0       6000.0  \n",
       "..              ...          ...  \n",
       "609             1.0       2900.0  \n",
       "610             1.0       4106.0  \n",
       "611             1.0       8312.0  \n",
       "612             1.0       7583.0  \n",
       "613             0.0       4583.0  \n",
       "\n",
       "[614 rows x 6 columns]"
      ]
     },
     "execution_count": 30,
     "metadata": {},
     "output_type": "execute_result"
    }
   ],
   "source": [
    "num_col = df.select_dtypes(exclude = \"object\")\n",
    "num_col"
   ]
  },
  {
   "cell_type": "code",
   "execution_count": 31,
   "id": "b369b0d0",
   "metadata": {},
   "outputs": [],
   "source": [
    "def numeric_col_graph(x,variable):\n",
    "    plt.figure(figsize=(10,4))\n",
    "    plt.subplot(121)\n",
    "    sns.distplot(x[variable])\n",
    "    \n",
    "    plt.subplot(122)\n",
    "    sns.boxplot(x[variable])\n",
    "    plt.show();"
   ]
  },
  {
   "cell_type": "code",
   "execution_count": 32,
   "id": "0299b511",
   "metadata": {},
   "outputs": [],
   "source": [
    "def outlier_treatment(x,variable):\n",
    "    Q1 = x[variable].quantile(.25)\n",
    "    Q3 = x[variable].quantile(.75)\n",
    "    \n",
    "    IQR = Q3-Q1\n",
    "    lower_bound = Q1-(1.5*IQR)\n",
    "    upper_bound = Q3+(1.5*IQR)\n",
    "    x[variable] = np.where(x[variable]> upper_bound,upper_bound , np.where(x[variable] < lower_bound,lower_bound, x[variable]))"
   ]
  },
  {
   "cell_type": "code",
   "execution_count": 33,
   "id": "8cf3ac36",
   "metadata": {},
   "outputs": [
    {
     "data": {
      "image/png": "[encoded data removed]",
      "text/plain": [
       "<Figure size 720x288 with 2 Axes>"
      ]
     },
     "metadata": {
      "needs_background": "light"
     },
     "output_type": "display_data"
    }
   ],
   "source": [
    "numeric_col_graph(df,\"ApplicantIncome\")"
   ]
  },
  {
   "cell_type": "markdown",
   "id": "3ac980cb",
   "metadata": {},
   "source": [
    "Applicant income in right skewed and have lot of extreme values.will cap them with IQR method because we less data point and dropping them we will lose information"
   ]
  },
  {
   "cell_type": "code",
   "execution_count": 34,
   "id": "a32f8b71",
   "metadata": {},
   "outputs": [
    {
     "data": {
      "image/png": "[encoded data removed]",
      "text/plain": [
       "<Figure size 720x288 with 2 Axes>"
      ]
     },
     "metadata": {
      "needs_background": "light"
     },
     "output_type": "display_data"
    }
   ],
   "source": [
    "outlier_treatment(df,\"ApplicantIncome\")\n",
    "numeric_col_graph(df,\"ApplicantIncome\")"
   ]
  },
  {
   "cell_type": "markdown",
   "id": "1d10d216",
   "metadata": {},
   "source": [
    "now it looks better and close to normal distribution and we have not outlier in this column."
   ]
  },
  {
   "cell_type": "code",
   "execution_count": 35,
   "id": "5fa8a823",
   "metadata": {},
   "outputs": [
    {
     "data": {
      "image/png": "[encoded data removed]",
      "text/plain": [
       "<Figure size 720x288 with 2 Axes>"
      ]
     },
     "metadata": {
      "needs_background": "light"
     },
     "output_type": "display_data"
    }
   ],
   "source": [
    "numeric_col_graph(df,\"CoapplicantIncome\")"
   ]
  },
  {
   "cell_type": "markdown",
   "id": "745e668a",
   "metadata": {},
   "source": [
    "In Coapplicant we observe that data is right skewed and outlier also present"
   ]
  },
  {
   "cell_type": "code",
   "execution_count": 36,
   "id": "d67cb438",
   "metadata": {},
   "outputs": [
    {
     "data": {
      "image/png": "[encoded data removed]",
      "text/plain": [
       "<Figure size 720x288 with 2 Axes>"
      ]
     },
     "metadata": {
      "needs_background": "light"
     },
     "output_type": "display_data"
    }
   ],
   "source": [
    "outlier_treatment(df,\"CoapplicantIncome\")\n",
    "numeric_col_graph(df,\"CoapplicantIncome\")"
   ]
  },
  {
   "cell_type": "markdown",
   "id": "acf9ef75",
   "metadata": {},
   "source": [
    "All the extreme values have been capped with upper limit but we see high variability in the dataset range"
   ]
  },
  {
   "cell_type": "code",
   "execution_count": 37,
   "id": "47d43edb",
   "metadata": {},
   "outputs": [
    {
     "data": {
      "image/png": "[encoded data removed]",
      "text/plain": [
       "<Figure size 720x288 with 2 Axes>"
      ]
     },
     "metadata": {
      "needs_background": "light"
     },
     "output_type": "display_data"
    }
   ],
   "source": [
    "numeric_col_graph(df,\"LoanAmount\")"
   ]
  },
  {
   "cell_type": "markdown",
   "id": "03ebd851",
   "metadata": {},
   "source": [
    "We see that loan amount is high is some of the cases which are resulted in outlier."
   ]
  },
  {
   "cell_type": "code",
   "execution_count": 38,
   "id": "057be8a0",
   "metadata": {},
   "outputs": [
    {
     "data": {
      "image/png": "[encoded data removed]",
      "text/plain": [
       "<Figure size 720x288 with 2 Axes>"
      ]
     },
     "metadata": {
      "needs_background": "light"
     },
     "output_type": "display_data"
    }
   ],
   "source": [
    "outlier_treatment(df,\"LoanAmount\")\n",
    "numeric_col_graph(df,\"LoanAmount\")"
   ]
  },
  {
   "cell_type": "markdown",
   "id": "15adf853",
   "metadata": {},
   "source": [
    "Now it has come closure to normal distribution and no extreme values,Numeric columns'outliers have been handled with IQR method, we see that these are now more close to normal distribution."
   ]
  },
  {
   "cell_type": "markdown",
   "id": "bcba236c",
   "metadata": {},
   "source": [
    "### Removing Skewness"
   ]
  },
  {
   "cell_type": "code",
   "execution_count": 39,
   "id": "c8ca77e0",
   "metadata": {},
   "outputs": [
    {
     "data": {
      "text/plain": [
       "ApplicantIncome      1.039846\n",
       "CoapplicantIncome    1.012763\n",
       "LoanAmount           0.648627\n",
       "Loan_Amount_Term    -2.389680\n",
       "Credit_History      -1.963600\n",
       "TotalIncome          5.633449\n",
       "dtype: float64"
      ]
     },
     "execution_count": 39,
     "metadata": {},
     "output_type": "execute_result"
    }
   ],
   "source": [
    "df.select_dtypes(exclude = \"object\").skew()"
   ]
  },
  {
   "cell_type": "code",
   "execution_count": 40,
   "id": "4ba19c98",
   "metadata": {},
   "outputs": [],
   "source": [
    "# Correcitng the  skewness from the dataset\n",
    "df[\"ApplicantIncome\"] = np.sqrt(df[\"ApplicantIncome\"])\n",
    "df[\"CoapplicantIncome\"] = np.sqrt(df[\"CoapplicantIncome\"]) \n",
    "df[\"LoanAmount\"] = np.sqrt(df[\"LoanAmount\"])\n",
    "df[\"TotalIncome\"] = np.sqrt(df[\"TotalIncome\"])"
   ]
  },
  {
   "cell_type": "code",
   "execution_count": 41,
   "id": "1017b7cf",
   "metadata": {},
   "outputs": [
    {
     "data": {
      "text/plain": [
       "ApplicantIncome      0.540741\n",
       "CoapplicantIncome    0.192830\n",
       "LoanAmount           0.029092\n",
       "Loan_Amount_Term    -2.389680\n",
       "Credit_History      -1.963600\n",
       "TotalIncome          2.816326\n",
       "dtype: float64"
      ]
     },
     "execution_count": 41,
     "metadata": {},
     "output_type": "execute_result"
    }
   ],
   "source": [
    "df.select_dtypes(exclude = \"object\").skew()"
   ]
  },
  {
   "cell_type": "code",
   "execution_count": null,
   "id": "cf671906",
   "metadata": {},
   "outputs": [],
   "source": []
  },
  {
   "cell_type": "code",
   "execution_count": 42,
   "id": "82f3e804",
   "metadata": {},
   "outputs": [
    {
     "data": {
      "text/html": [
       "<div>\n",
       "<style scoped>\n",
       "    .dataframe tbody tr th:only-of-type {\n",
       "        vertical-align: middle;\n",
       "    }\n",
       "\n",
       "    .dataframe tbody tr th {\n",
       "        vertical-align: top;\n",
       "    }\n",
       "\n",
       "    .dataframe thead th {\n",
       "        text-align: right;\n",
       "    }\n",
       "</style>\n",
       "<table border=\"1\" class=\"dataframe\">\n",
       "  <thead>\n",
       "    <tr style=\"text-align: right;\">\n",
       "      <th></th>\n",
       "      <th>Loan_ID</th>\n",
       "      <th>Gender</th>\n",
       "      <th>Married</th>\n",
       "      <th>Dependents</th>\n",
       "      <th>Education</th>\n",
       "      <th>Self_Employed</th>\n",
       "      <th>ApplicantIncome</th>\n",
       "      <th>CoapplicantIncome</th>\n",
       "      <th>LoanAmount</th>\n",
       "      <th>Loan_Amount_Term</th>\n",
       "      <th>Credit_History</th>\n",
       "      <th>Property_Area</th>\n",
       "      <th>Loan_Status</th>\n",
       "      <th>TotalIncome</th>\n",
       "    </tr>\n",
       "  </thead>\n",
       "  <tbody>\n",
       "    <tr>\n",
       "      <th>0</th>\n",
       "      <td>0</td>\n",
       "      <td>1</td>\n",
       "      <td>0</td>\n",
       "      <td>0</td>\n",
       "      <td>0</td>\n",
       "      <td>0</td>\n",
       "      <td>376</td>\n",
       "      <td>0</td>\n",
       "      <td>100</td>\n",
       "      <td>9</td>\n",
       "      <td>2</td>\n",
       "      <td>2</td>\n",
       "      <td>1</td>\n",
       "      <td>320</td>\n",
       "    </tr>\n",
       "    <tr>\n",
       "      <th>1</th>\n",
       "      <td>1</td>\n",
       "      <td>1</td>\n",
       "      <td>1</td>\n",
       "      <td>1</td>\n",
       "      <td>0</td>\n",
       "      <td>0</td>\n",
       "      <td>306</td>\n",
       "      <td>60</td>\n",
       "      <td>81</td>\n",
       "      <td>9</td>\n",
       "      <td>2</td>\n",
       "      <td>0</td>\n",
       "      <td>0</td>\n",
       "      <td>333</td>\n",
       "    </tr>\n",
       "    <tr>\n",
       "      <th>2</th>\n",
       "      <td>2</td>\n",
       "      <td>1</td>\n",
       "      <td>1</td>\n",
       "      <td>0</td>\n",
       "      <td>0</td>\n",
       "      <td>1</td>\n",
       "      <td>139</td>\n",
       "      <td>0</td>\n",
       "      <td>26</td>\n",
       "      <td>9</td>\n",
       "      <td>2</td>\n",
       "      <td>2</td>\n",
       "      <td>1</td>\n",
       "      <td>42</td>\n",
       "    </tr>\n",
       "    <tr>\n",
       "      <th>3</th>\n",
       "      <td>3</td>\n",
       "      <td>1</td>\n",
       "      <td>1</td>\n",
       "      <td>0</td>\n",
       "      <td>1</td>\n",
       "      <td>0</td>\n",
       "      <td>90</td>\n",
       "      <td>160</td>\n",
       "      <td>73</td>\n",
       "      <td>9</td>\n",
       "      <td>2</td>\n",
       "      <td>2</td>\n",
       "      <td>1</td>\n",
       "      <td>238</td>\n",
       "    </tr>\n",
       "    <tr>\n",
       "      <th>4</th>\n",
       "      <td>4</td>\n",
       "      <td>1</td>\n",
       "      <td>0</td>\n",
       "      <td>0</td>\n",
       "      <td>0</td>\n",
       "      <td>0</td>\n",
       "      <td>381</td>\n",
       "      <td>0</td>\n",
       "      <td>94</td>\n",
       "      <td>9</td>\n",
       "      <td>2</td>\n",
       "      <td>2</td>\n",
       "      <td>1</td>\n",
       "      <td>327</td>\n",
       "    </tr>\n",
       "    <tr>\n",
       "      <th>...</th>\n",
       "      <td>...</td>\n",
       "      <td>...</td>\n",
       "      <td>...</td>\n",
       "      <td>...</td>\n",
       "      <td>...</td>\n",
       "      <td>...</td>\n",
       "      <td>...</td>\n",
       "      <td>...</td>\n",
       "      <td>...</td>\n",
       "      <td>...</td>\n",
       "      <td>...</td>\n",
       "      <td>...</td>\n",
       "      <td>...</td>\n",
       "      <td>...</td>\n",
       "    </tr>\n",
       "    <tr>\n",
       "      <th>609</th>\n",
       "      <td>609</td>\n",
       "      <td>0</td>\n",
       "      <td>0</td>\n",
       "      <td>0</td>\n",
       "      <td>0</td>\n",
       "      <td>0</td>\n",
       "      <td>125</td>\n",
       "      <td>0</td>\n",
       "      <td>29</td>\n",
       "      <td>9</td>\n",
       "      <td>2</td>\n",
       "      <td>0</td>\n",
       "      <td>1</td>\n",
       "      <td>31</td>\n",
       "    </tr>\n",
       "    <tr>\n",
       "      <th>610</th>\n",
       "      <td>610</td>\n",
       "      <td>1</td>\n",
       "      <td>1</td>\n",
       "      <td>3</td>\n",
       "      <td>0</td>\n",
       "      <td>0</td>\n",
       "      <td>275</td>\n",
       "      <td>0</td>\n",
       "      <td>7</td>\n",
       "      <td>5</td>\n",
       "      <td>2</td>\n",
       "      <td>0</td>\n",
       "      <td>1</td>\n",
       "      <td>135</td>\n",
       "    </tr>\n",
       "    <tr>\n",
       "      <th>611</th>\n",
       "      <td>611</td>\n",
       "      <td>1</td>\n",
       "      <td>1</td>\n",
       "      <td>1</td>\n",
       "      <td>0</td>\n",
       "      <td>0</td>\n",
       "      <td>431</td>\n",
       "      <td>3</td>\n",
       "      <td>163</td>\n",
       "      <td>9</td>\n",
       "      <td>2</td>\n",
       "      <td>2</td>\n",
       "      <td>1</td>\n",
       "      <td>436</td>\n",
       "    </tr>\n",
       "    <tr>\n",
       "      <th>612</th>\n",
       "      <td>612</td>\n",
       "      <td>1</td>\n",
       "      <td>1</td>\n",
       "      <td>2</td>\n",
       "      <td>0</td>\n",
       "      <td>0</td>\n",
       "      <td>422</td>\n",
       "      <td>0</td>\n",
       "      <td>133</td>\n",
       "      <td>9</td>\n",
       "      <td>2</td>\n",
       "      <td>2</td>\n",
       "      <td>1</td>\n",
       "      <td>416</td>\n",
       "    </tr>\n",
       "    <tr>\n",
       "      <th>613</th>\n",
       "      <td>613</td>\n",
       "      <td>0</td>\n",
       "      <td>0</td>\n",
       "      <td>0</td>\n",
       "      <td>0</td>\n",
       "      <td>1</td>\n",
       "      <td>306</td>\n",
       "      <td>0</td>\n",
       "      <td>86</td>\n",
       "      <td>9</td>\n",
       "      <td>0</td>\n",
       "      <td>1</td>\n",
       "      <td>0</td>\n",
       "      <td>185</td>\n",
       "    </tr>\n",
       "  </tbody>\n",
       "</table>\n",
       "<p>614 rows × 14 columns</p>\n",
       "</div>"
      ],
      "text/plain": [
       "     Loan_ID  Gender  Married  Dependents  Education  Self_Employed  \\\n",
       "0          0       1        0           0          0              0   \n",
       "1          1       1        1           1          0              0   \n",
       "2          2       1        1           0          0              1   \n",
       "3          3       1        1           0          1              0   \n",
       "4          4       1        0           0          0              0   \n",
       "..       ...     ...      ...         ...        ...            ...   \n",
       "609      609       0        0           0          0              0   \n",
       "610      610       1        1           3          0              0   \n",
       "611      611       1        1           1          0              0   \n",
       "612      612       1        1           2          0              0   \n",
       "613      613       0        0           0          0              1   \n",
       "\n",
       "     ApplicantIncome  CoapplicantIncome  LoanAmount  Loan_Amount_Term  \\\n",
       "0                376                  0         100                 9   \n",
       "1                306                 60          81                 9   \n",
       "2                139                  0          26                 9   \n",
       "3                 90                160          73                 9   \n",
       "4                381                  0          94                 9   \n",
       "..               ...                ...         ...               ...   \n",
       "609              125                  0          29                 9   \n",
       "610              275                  0           7                 5   \n",
       "611              431                  3         163                 9   \n",
       "612              422                  0         133                 9   \n",
       "613              306                  0          86                 9   \n",
       "\n",
       "     Credit_History  Property_Area  Loan_Status  TotalIncome  \n",
       "0                 2              2            1          320  \n",
       "1                 2              0            0          333  \n",
       "2                 2              2            1           42  \n",
       "3                 2              2            1          238  \n",
       "4                 2              2            1          327  \n",
       "..              ...            ...          ...          ...  \n",
       "609               2              0            1           31  \n",
       "610               2              0            1          135  \n",
       "611               2              2            1          436  \n",
       "612               2              2            1          416  \n",
       "613               0              1            0          185  \n",
       "\n",
       "[614 rows x 14 columns]"
      ]
     },
     "execution_count": 42,
     "metadata": {},
     "output_type": "execute_result"
    }
   ],
   "source": [
    "from sklearn.preprocessing import LabelEncoder\n",
    "le=LabelEncoder()\n",
    "df=df.apply(LabelEncoder().fit_transform)\n",
    "df"
   ]
  },
  {
   "cell_type": "code",
   "execution_count": 43,
   "id": "003f531e",
   "metadata": {},
   "outputs": [],
   "source": [
    "# Droping Loan_ID and TotalIncome because it is not adding any value to target columns.\n",
    "df.drop(\"Loan_ID\",axis =1,inplace = True)\n",
    "df.drop(\"TotalIncome\",axis =1,inplace = True)"
   ]
  },
  {
   "cell_type": "code",
   "execution_count": 44,
   "id": "76d330fa",
   "metadata": {},
   "outputs": [
    {
     "data": {
      "text/html": [
       "<div>\n",
       "<style scoped>\n",
       "    .dataframe tbody tr th:only-of-type {\n",
       "        vertical-align: middle;\n",
       "    }\n",
       "\n",
       "    .dataframe tbody tr th {\n",
       "        vertical-align: top;\n",
       "    }\n",
       "\n",
       "    .dataframe thead th {\n",
       "        text-align: right;\n",
       "    }\n",
       "</style>\n",
       "<table border=\"1\" class=\"dataframe\">\n",
       "  <thead>\n",
       "    <tr style=\"text-align: right;\">\n",
       "      <th></th>\n",
       "      <th>Gender</th>\n",
       "      <th>Married</th>\n",
       "      <th>Dependents</th>\n",
       "      <th>Education</th>\n",
       "      <th>Self_Employed</th>\n",
       "      <th>ApplicantIncome</th>\n",
       "      <th>CoapplicantIncome</th>\n",
       "      <th>LoanAmount</th>\n",
       "      <th>Loan_Amount_Term</th>\n",
       "      <th>Credit_History</th>\n",
       "      <th>Property_Area</th>\n",
       "      <th>Loan_Status</th>\n",
       "    </tr>\n",
       "  </thead>\n",
       "  <tbody>\n",
       "    <tr>\n",
       "      <th>Gender</th>\n",
       "      <td>1.000000</td>\n",
       "      <td>0.364569</td>\n",
       "      <td>0.172914</td>\n",
       "      <td>0.045364</td>\n",
       "      <td>-0.000525</td>\n",
       "      <td>0.074674</td>\n",
       "      <td>0.181782</td>\n",
       "      <td>0.155814</td>\n",
       "      <td>-0.069368</td>\n",
       "      <td>0.019882</td>\n",
       "      <td>-0.025752</td>\n",
       "      <td>0.017987</td>\n",
       "    </tr>\n",
       "    <tr>\n",
       "      <th>Married</th>\n",
       "      <td>0.364569</td>\n",
       "      <td>1.000000</td>\n",
       "      <td>0.334216</td>\n",
       "      <td>0.012304</td>\n",
       "      <td>0.004489</td>\n",
       "      <td>0.008528</td>\n",
       "      <td>0.209416</td>\n",
       "      <td>0.188401</td>\n",
       "      <td>-0.087657</td>\n",
       "      <td>-0.005177</td>\n",
       "      <td>0.004257</td>\n",
       "      <td>0.091478</td>\n",
       "    </tr>\n",
       "    <tr>\n",
       "      <th>Dependents</th>\n",
       "      <td>0.172914</td>\n",
       "      <td>0.334216</td>\n",
       "      <td>1.000000</td>\n",
       "      <td>0.055752</td>\n",
       "      <td>0.056798</td>\n",
       "      <td>0.137256</td>\n",
       "      <td>-0.067042</td>\n",
       "      <td>0.155696</td>\n",
       "      <td>-0.094810</td>\n",
       "      <td>-0.029681</td>\n",
       "      <td>-0.000244</td>\n",
       "      <td>0.010118</td>\n",
       "    </tr>\n",
       "    <tr>\n",
       "      <th>Education</th>\n",
       "      <td>0.045364</td>\n",
       "      <td>0.012304</td>\n",
       "      <td>0.055752</td>\n",
       "      <td>1.000000</td>\n",
       "      <td>-0.010383</td>\n",
       "      <td>-0.189613</td>\n",
       "      <td>-0.051748</td>\n",
       "      <td>-0.167962</td>\n",
       "      <td>-0.088487</td>\n",
       "      <td>-0.083070</td>\n",
       "      <td>-0.065243</td>\n",
       "      <td>-0.085884</td>\n",
       "    </tr>\n",
       "    <tr>\n",
       "      <th>Self_Employed</th>\n",
       "      <td>-0.000525</td>\n",
       "      <td>0.004489</td>\n",
       "      <td>0.056798</td>\n",
       "      <td>-0.010383</td>\n",
       "      <td>1.000000</td>\n",
       "      <td>0.196767</td>\n",
       "      <td>-0.036547</td>\n",
       "      <td>0.115582</td>\n",
       "      <td>-0.031174</td>\n",
       "      <td>-0.003643</td>\n",
       "      <td>-0.030860</td>\n",
       "      <td>-0.003700</td>\n",
       "    </tr>\n",
       "    <tr>\n",
       "      <th>ApplicantIncome</th>\n",
       "      <td>0.074674</td>\n",
       "      <td>0.008528</td>\n",
       "      <td>0.137256</td>\n",
       "      <td>-0.189613</td>\n",
       "      <td>0.196767</td>\n",
       "      <td>1.000000</td>\n",
       "      <td>-0.248819</td>\n",
       "      <td>0.512613</td>\n",
       "      <td>-0.016901</td>\n",
       "      <td>0.048620</td>\n",
       "      <td>-0.067048</td>\n",
       "      <td>-0.003352</td>\n",
       "    </tr>\n",
       "    <tr>\n",
       "      <th>CoapplicantIncome</th>\n",
       "      <td>0.181782</td>\n",
       "      <td>0.209416</td>\n",
       "      <td>-0.067042</td>\n",
       "      <td>-0.051748</td>\n",
       "      <td>-0.036547</td>\n",
       "      <td>-0.248819</td>\n",
       "      <td>1.000000</td>\n",
       "      <td>0.268674</td>\n",
       "      <td>-0.019557</td>\n",
       "      <td>-0.035498</td>\n",
       "      <td>-0.083574</td>\n",
       "      <td>0.009272</td>\n",
       "    </tr>\n",
       "    <tr>\n",
       "      <th>LoanAmount</th>\n",
       "      <td>0.155814</td>\n",
       "      <td>0.188401</td>\n",
       "      <td>0.155696</td>\n",
       "      <td>-0.167962</td>\n",
       "      <td>0.115582</td>\n",
       "      <td>0.512613</td>\n",
       "      <td>0.268674</td>\n",
       "      <td>1.000000</td>\n",
       "      <td>0.071258</td>\n",
       "      <td>-0.012651</td>\n",
       "      <td>-0.087042</td>\n",
       "      <td>-0.049819</td>\n",
       "    </tr>\n",
       "    <tr>\n",
       "      <th>Loan_Amount_Term</th>\n",
       "      <td>-0.069368</td>\n",
       "      <td>-0.087657</td>\n",
       "      <td>-0.094810</td>\n",
       "      <td>-0.088487</td>\n",
       "      <td>-0.031174</td>\n",
       "      <td>-0.016901</td>\n",
       "      <td>-0.019557</td>\n",
       "      <td>0.071258</td>\n",
       "      <td>1.000000</td>\n",
       "      <td>0.023971</td>\n",
       "      <td>-0.091598</td>\n",
       "      <td>0.002512</td>\n",
       "    </tr>\n",
       "    <tr>\n",
       "      <th>Credit_History</th>\n",
       "      <td>0.019882</td>\n",
       "      <td>-0.005177</td>\n",
       "      <td>-0.029681</td>\n",
       "      <td>-0.083070</td>\n",
       "      <td>-0.003643</td>\n",
       "      <td>0.048620</td>\n",
       "      <td>-0.035498</td>\n",
       "      <td>-0.012651</td>\n",
       "      <td>0.023971</td>\n",
       "      <td>1.000000</td>\n",
       "      <td>-0.009898</td>\n",
       "      <td>0.513319</td>\n",
       "    </tr>\n",
       "    <tr>\n",
       "      <th>Property_Area</th>\n",
       "      <td>-0.025752</td>\n",
       "      <td>0.004257</td>\n",
       "      <td>-0.000244</td>\n",
       "      <td>-0.065243</td>\n",
       "      <td>-0.030860</td>\n",
       "      <td>-0.067048</td>\n",
       "      <td>-0.083574</td>\n",
       "      <td>-0.087042</td>\n",
       "      <td>-0.091598</td>\n",
       "      <td>-0.009898</td>\n",
       "      <td>1.000000</td>\n",
       "      <td>0.032112</td>\n",
       "    </tr>\n",
       "    <tr>\n",
       "      <th>Loan_Status</th>\n",
       "      <td>0.017987</td>\n",
       "      <td>0.091478</td>\n",
       "      <td>0.010118</td>\n",
       "      <td>-0.085884</td>\n",
       "      <td>-0.003700</td>\n",
       "      <td>-0.003352</td>\n",
       "      <td>0.009272</td>\n",
       "      <td>-0.049819</td>\n",
       "      <td>0.002512</td>\n",
       "      <td>0.513319</td>\n",
       "      <td>0.032112</td>\n",
       "      <td>1.000000</td>\n",
       "    </tr>\n",
       "  </tbody>\n",
       "</table>\n",
       "</div>"
      ],
      "text/plain": [
       "                     Gender   Married  Dependents  Education  Self_Employed  \\\n",
       "Gender             1.000000  0.364569    0.172914   0.045364      -0.000525   \n",
       "Married            0.364569  1.000000    0.334216   0.012304       0.004489   \n",
       "Dependents         0.172914  0.334216    1.000000   0.055752       0.056798   \n",
       "Education          0.045364  0.012304    0.055752   1.000000      -0.010383   \n",
       "Self_Employed     -0.000525  0.004489    0.056798  -0.010383       1.000000   \n",
       "ApplicantIncome    0.074674  0.008528    0.137256  -0.189613       0.196767   \n",
       "CoapplicantIncome  0.181782  0.209416   -0.067042  -0.051748      -0.036547   \n",
       "LoanAmount         0.155814  0.188401    0.155696  -0.167962       0.115582   \n",
       "Loan_Amount_Term  -0.069368 -0.087657   -0.094810  -0.088487      -0.031174   \n",
       "Credit_History     0.019882 -0.005177   -0.029681  -0.083070      -0.003643   \n",
       "Property_Area     -0.025752  0.004257   -0.000244  -0.065243      -0.030860   \n",
       "Loan_Status        0.017987  0.091478    0.010118  -0.085884      -0.003700   \n",
       "\n",
       "                   ApplicantIncome  CoapplicantIncome  LoanAmount  \\\n",
       "Gender                    0.074674           0.181782    0.155814   \n",
       "Married                   0.008528           0.209416    0.188401   \n",
       "Dependents                0.137256          -0.067042    0.155696   \n",
       "Education                -0.189613          -0.051748   -0.167962   \n",
       "Self_Employed             0.196767          -0.036547    0.115582   \n",
       "ApplicantIncome           1.000000          -0.248819    0.512613   \n",
       "CoapplicantIncome        -0.248819           1.000000    0.268674   \n",
       "LoanAmount                0.512613           0.268674    1.000000   \n",
       "Loan_Amount_Term         -0.016901          -0.019557    0.071258   \n",
       "Credit_History            0.048620          -0.035498   -0.012651   \n",
       "Property_Area            -0.067048          -0.083574   -0.087042   \n",
       "Loan_Status              -0.003352           0.009272   -0.049819   \n",
       "\n",
       "                   Loan_Amount_Term  Credit_History  Property_Area  \\\n",
       "Gender                    -0.069368        0.019882      -0.025752   \n",
       "Married                   -0.087657       -0.005177       0.004257   \n",
       "Dependents                -0.094810       -0.029681      -0.000244   \n",
       "Education                 -0.088487       -0.083070      -0.065243   \n",
       "Self_Employed             -0.031174       -0.003643      -0.030860   \n",
       "ApplicantIncome           -0.016901        0.048620      -0.067048   \n",
       "CoapplicantIncome         -0.019557       -0.035498      -0.083574   \n",
       "LoanAmount                 0.071258       -0.012651      -0.087042   \n",
       "Loan_Amount_Term           1.000000        0.023971      -0.091598   \n",
       "Credit_History             0.023971        1.000000      -0.009898   \n",
       "Property_Area             -0.091598       -0.009898       1.000000   \n",
       "Loan_Status                0.002512        0.513319       0.032112   \n",
       "\n",
       "                   Loan_Status  \n",
       "Gender                0.017987  \n",
       "Married               0.091478  \n",
       "Dependents            0.010118  \n",
       "Education            -0.085884  \n",
       "Self_Employed        -0.003700  \n",
       "ApplicantIncome      -0.003352  \n",
       "CoapplicantIncome     0.009272  \n",
       "LoanAmount           -0.049819  \n",
       "Loan_Amount_Term      0.002512  \n",
       "Credit_History        0.513319  \n",
       "Property_Area         0.032112  \n",
       "Loan_Status           1.000000  "
      ]
     },
     "execution_count": 44,
     "metadata": {},
     "output_type": "execute_result"
    }
   ],
   "source": [
    "df.corr()"
   ]
  },
  {
   "cell_type": "code",
   "execution_count": 45,
   "id": "d98eaae5",
   "metadata": {},
   "outputs": [
    {
     "data": {
      "text/plain": [
       "<AxesSubplot:>"
      ]
     },
     "execution_count": 45,
     "metadata": {},
     "output_type": "execute_result"
    },
    {
     "data": {
      "image/png": "[encoded data removed]",
      "text/plain": [
       "<Figure size 864x576 with 2 Axes>"
      ]
     },
     "metadata": {
      "needs_background": "light"
     },
     "output_type": "display_data"
    }
   ],
   "source": [
    "plt.figure(figsize=(12,8))\n",
    "sns.heatmap(df.corr(),cmap='YlOrRd_r',annot=True)"
   ]
  },
  {
   "cell_type": "markdown",
   "id": "de7b967f",
   "metadata": {},
   "source": [
    "Observations:\n",
    "    \n",
    "1. We can see that Credit_History is highly correlated with Loan_status, means passing of loan highly depends on Credit history.\n",
    "2. Education, Selfemployed, Loanamount and Applicatincome are negatively correlated with the target column.\n",
    "3. There is good relation between Applicantincome and loan amount.\n",
    "4. There is no multicollinearity among the independent variables."
   ]
  },
  {
   "cell_type": "markdown",
   "id": "4b0078fc",
   "metadata": {},
   "source": [
    "## Applying SMOTE"
   ]
  },
  {
   "cell_type": "markdown",
   "id": "dc04dba5",
   "metadata": {},
   "source": [
    "Here we can see there is huge difference between two types of output in target. So the data is imbalanced."
   ]
  },
  {
   "cell_type": "code",
   "execution_count": 46,
   "id": "596e68b2",
   "metadata": {},
   "outputs": [],
   "source": [
    "X = df.drop(\"Loan_Status\",axis = 1)\n",
    "y = df[\"Loan_Status\"]"
   ]
  },
  {
   "cell_type": "code",
   "execution_count": 47,
   "id": "411c36cb",
   "metadata": {},
   "outputs": [
    {
     "data": {
      "text/plain": [
       "0    422\n",
       "1    422\n",
       "Name: Loan_Status, dtype: int64"
      ]
     },
     "execution_count": 47,
     "metadata": {},
     "output_type": "execute_result"
    }
   ],
   "source": [
    "#Balancing data by applying SMOTE.\n",
    "from imblearn.over_sampling import SMOTE\n",
    "smt=SMOTE()\n",
    "sm_x,sm_y=smt.fit_resample(X,y)\n",
    "#y.value_counts()\n",
    "sm_y.value_counts()"
   ]
  },
  {
   "cell_type": "code",
   "execution_count": 48,
   "id": "658f4412",
   "metadata": {},
   "outputs": [
    {
     "data": {
      "text/plain": [
       "array([[ 0.53533668, -1.14280835, -0.69145396, ...,  0.3708255 ,\n",
       "         0.71951352,  1.36427379],\n",
       "       [ 0.53533668,  0.87503736,  0.37738696, ...,  0.3708255 ,\n",
       "         0.71951352, -1.20879231],\n",
       "       [ 0.53533668,  0.87503736, -0.69145396, ...,  0.3708255 ,\n",
       "         0.71951352,  1.36427379],\n",
       "       ...,\n",
       "       [ 0.53533668,  0.87503736,  0.37738696, ..., -0.36732714,\n",
       "        -0.46888063,  0.07774074],\n",
       "       [ 0.53533668,  0.87503736,  0.37738696, ..., -2.58178507,\n",
       "        -0.46888063, -1.20879231],\n",
       "       [-1.86798332, -1.14280835, -0.69145396, ..., -0.36732714,\n",
       "        -1.65727478, -1.20879231]])"
      ]
     },
     "execution_count": 48,
     "metadata": {},
     "output_type": "execute_result"
    }
   ],
   "source": [
    "from sklearn.preprocessing import StandardScaler\n",
    "scale=StandardScaler()\n",
    "sm_x=scale.fit_transform(sm_x)\n",
    "sm_x"
   ]
  },
  {
   "cell_type": "code",
   "execution_count": 49,
   "id": "22e83994",
   "metadata": {},
   "outputs": [
    {
     "data": {
      "text/plain": [
       "0      1\n",
       "1      0\n",
       "2      1\n",
       "3      1\n",
       "4      1\n",
       "      ..\n",
       "839    0\n",
       "840    0\n",
       "841    0\n",
       "842    0\n",
       "843    0\n",
       "Name: Loan_Status, Length: 844, dtype: int32"
      ]
     },
     "execution_count": 49,
     "metadata": {},
     "output_type": "execute_result"
    }
   ],
   "source": [
    "sm_y"
   ]
  },
  {
   "cell_type": "markdown",
   "id": "b80a8325",
   "metadata": {},
   "source": [
    "## Creating Model"
   ]
  },
  {
   "cell_type": "code",
   "execution_count": 50,
   "id": "d3e966fb",
   "metadata": {},
   "outputs": [],
   "source": [
    "from sklearn.preprocessing import StandardScaler\n",
    "from sklearn.model_selection import train_test_split, GridSearchCV, RandomizedSearchCV, cross_val_score\n",
    "from sklearn.linear_model import LogisticRegression\n",
    "from sklearn.tree import DecisionTreeClassifier\n",
    "from sklearn.ensemble import RandomForestClassifier, AdaBoostClassifier\n",
    "from sklearn.svm import SVC\n",
    "from sklearn.neighbors import KNeighborsClassifier\n",
    "from sklearn.metrics import accuracy_score, classification_report, confusion_matrix"
   ]
  },
  {
   "cell_type": "markdown",
   "id": "94122bec",
   "metadata": {},
   "source": [
    "### Finding Best Random State"
   ]
  },
  {
   "cell_type": "code",
   "execution_count": 51,
   "id": "d5f0215a",
   "metadata": {},
   "outputs": [
    {
     "name": "stdout",
     "output_type": "stream",
     "text": [
      "Best score is 0.8579881656804734 on Random State 6\n"
     ]
    }
   ],
   "source": [
    "maxAcc = 0\n",
    "maxRS = 0\n",
    "\n",
    "for i in range(1,200):\n",
    "    x_train,x_test,y_train,y_test=train_test_split(sm_x,sm_y,random_state=i,test_size=0.20)\n",
    "    LR = LogisticRegression()\n",
    "    LR.fit(x_train,y_train)\n",
    "    predrf= LR.predict(x_test)\n",
    "    acc=accuracy_score(y_test,predrf)\n",
    "    if acc>maxAcc:\n",
    "        maxAcc=acc\n",
    "        maxRS=i\n",
    "print('Best score is',maxAcc,'on Random State',maxRS)"
   ]
  },
  {
   "cell_type": "code",
   "execution_count": 52,
   "id": "355ad99a",
   "metadata": {},
   "outputs": [],
   "source": [
    "# Make input and output variables into train and test data\n",
    "from sklearn.model_selection import train_test_split\n",
    "x_train,x_test,y_train,y_test=train_test_split(sm_x,sm_y,random_state=18,test_size=0.20)"
   ]
  },
  {
   "cell_type": "code",
   "execution_count": 53,
   "id": "a90e85a6",
   "metadata": {},
   "outputs": [
    {
     "name": "stdout",
     "output_type": "stream",
     "text": [
      "(675, 11) \t (169, 11)\n"
     ]
    }
   ],
   "source": [
    "# Checking train and test data size\n",
    "print(x_train.shape,'\\t',x_test.shape)"
   ]
  },
  {
   "cell_type": "code",
   "execution_count": 54,
   "id": "b632f554",
   "metadata": {},
   "outputs": [
    {
     "name": "stdout",
     "output_type": "stream",
     "text": [
      "(675,) \t (169,)\n"
     ]
    }
   ],
   "source": [
    "print(y_train.shape,'\\t',y_test.shape)"
   ]
  },
  {
   "cell_type": "code",
   "execution_count": 55,
   "id": "65209ab6",
   "metadata": {},
   "outputs": [],
   "source": [
    "from sklearn.linear_model import LogisticRegression\n",
    "from sklearn.metrics import accuracy_score\n",
    "from sklearn.metrics import confusion_matrix,classification_report"
   ]
  },
  {
   "cell_type": "code",
   "execution_count": 56,
   "id": "f1bd112f",
   "metadata": {},
   "outputs": [
    {
     "data": {
      "text/plain": [
       "LogisticRegression()"
      ]
     },
     "execution_count": 56,
     "metadata": {},
     "output_type": "execute_result"
    }
   ],
   "source": [
    "lg=LogisticRegression()\n",
    "lg.fit(x_train,y_train)"
   ]
  },
  {
   "cell_type": "code",
   "execution_count": 57,
   "id": "294310fb",
   "metadata": {},
   "outputs": [
    {
     "name": "stdout",
     "output_type": "stream",
     "text": [
      "[1 1 1 0 1 0 1 1 0 1 0 0 0 0 1 1 0 1 1 0 1 0 1 1 0 1 0 1 0 0 1 1 0 1 1 1 1\n",
      " 0 0 1 0 0 0 1 1 0 0 0 0 1 1 0 0 0 1 1 0 0 1 1 1 0 1 1 1 0 1 1 0 1 0 1 0 0\n",
      " 1 1 0 1 1 0 1 1 1 1 1 1 1 1 1 0 1 1 0 1 0 0 0 1 1 1 0 0 0 1 1 0 1 0 0 0 1\n",
      " 1 1 1 0 1 0 1 0 0 1 1 1 0 1 0 0 1 1 0 1 1 1 1 1 0 1 1 0 0 1 0 0 0 1 0 0 0\n",
      " 1 1 1 0 0 0 1 0 0 1 0 1 1 1 1 1 1 1 1 1 0]\n"
     ]
    }
   ],
   "source": [
    "pred=lg.predict(x_test)\n",
    "print(pred)"
   ]
  },
  {
   "cell_type": "code",
   "execution_count": 58,
   "id": "91888165",
   "metadata": {},
   "outputs": [
    {
     "name": "stdout",
     "output_type": "stream",
     "text": [
      "accuracy_score: 0.834319526627219\n",
      "[[59 14]\n",
      " [14 82]]\n",
      "              precision    recall  f1-score   support\n",
      "\n",
      "           0       0.81      0.81      0.81        73\n",
      "           1       0.85      0.85      0.85        96\n",
      "\n",
      "    accuracy                           0.83       169\n",
      "   macro avg       0.83      0.83      0.83       169\n",
      "weighted avg       0.83      0.83      0.83       169\n",
      "\n"
     ]
    }
   ],
   "source": [
    "print('accuracy_score:' , accuracy_score(y_test,pred))\n",
    "print(confusion_matrix(y_test,pred))\n",
    "print(classification_report(y_test,pred))"
   ]
  },
  {
   "cell_type": "markdown",
   "id": "54439d53",
   "metadata": {},
   "source": [
    "### Checking with different algorithms"
   ]
  },
  {
   "cell_type": "code",
   "execution_count": 59,
   "id": "5e1cbff5",
   "metadata": {},
   "outputs": [
    {
     "name": "stdout",
     "output_type": "stream",
     "text": [
      "Accuracy score of LogisticRegression() is:\n",
      "0.834319526627219\n",
      "[[59 14]\n",
      " [14 82]]\n",
      "              precision    recall  f1-score   support\n",
      "\n",
      "           0       0.81      0.81      0.81        73\n",
      "           1       0.85      0.85      0.85        96\n",
      "\n",
      "    accuracy                           0.83       169\n",
      "   macro avg       0.83      0.83      0.83       169\n",
      "weighted avg       0.83      0.83      0.83       169\n",
      "\n",
      "\n",
      "\n",
      "Accuracy score of GaussianNB() is:\n",
      "0.8224852071005917\n",
      "[[59 14]\n",
      " [16 80]]\n",
      "              precision    recall  f1-score   support\n",
      "\n",
      "           0       0.79      0.81      0.80        73\n",
      "           1       0.85      0.83      0.84        96\n",
      "\n",
      "    accuracy                           0.82       169\n",
      "   macro avg       0.82      0.82      0.82       169\n",
      "weighted avg       0.82      0.82      0.82       169\n",
      "\n",
      "\n",
      "\n",
      "Accuracy score of SVC() is:\n",
      "0.8461538461538461\n",
      "[[57 16]\n",
      " [10 86]]\n",
      "              precision    recall  f1-score   support\n",
      "\n",
      "           0       0.85      0.78      0.81        73\n",
      "           1       0.84      0.90      0.87        96\n",
      "\n",
      "    accuracy                           0.85       169\n",
      "   macro avg       0.85      0.84      0.84       169\n",
      "weighted avg       0.85      0.85      0.85       169\n",
      "\n",
      "\n",
      "\n",
      "Accuracy score of DecisionTreeClassifier() is:\n",
      "0.7751479289940828\n",
      "[[63 10]\n",
      " [28 68]]\n",
      "              precision    recall  f1-score   support\n",
      "\n",
      "           0       0.69      0.86      0.77        73\n",
      "           1       0.87      0.71      0.78        96\n",
      "\n",
      "    accuracy                           0.78       169\n",
      "   macro avg       0.78      0.79      0.77       169\n",
      "weighted avg       0.79      0.78      0.78       169\n",
      "\n",
      "\n",
      "\n",
      "Accuracy score of KNeighborsClassifier() is:\n",
      "0.8047337278106509\n",
      "[[60 13]\n",
      " [20 76]]\n",
      "              precision    recall  f1-score   support\n",
      "\n",
      "           0       0.75      0.82      0.78        73\n",
      "           1       0.85      0.79      0.82        96\n",
      "\n",
      "    accuracy                           0.80       169\n",
      "   macro avg       0.80      0.81      0.80       169\n",
      "weighted avg       0.81      0.80      0.81       169\n",
      "\n",
      "\n",
      "\n"
     ]
    }
   ],
   "source": [
    "import sklearn\n",
    "from sklearn.naive_bayes import GaussianNB\n",
    "from sklearn.svm import SVC\n",
    "from sklearn.tree import DecisionTreeClassifier\n",
    "from sklearn.neighbors import KNeighborsClassifier\n",
    "from sklearn.metrics import accuracy_score,confusion_matrix,classification_report\n",
    "import warnings\n",
    "warnings.filterwarnings('ignore')\n",
    "\n",
    "model=[LogisticRegression(),GaussianNB(),SVC(),DecisionTreeClassifier(),KNeighborsClassifier(),]\n",
    "\n",
    "for m in model:\n",
    "    m.fit(x_train,y_train)\n",
    "    m.score(x_train,y_train)\n",
    "    predm=m.predict(x_test)\n",
    "    print('Accuracy score of',m, 'is:')\n",
    "    print(accuracy_score(y_test,predm))\n",
    "    print(confusion_matrix(y_test,predm))\n",
    "    print(classification_report(y_test,predm))\n",
    "    print('\\n')"
   ]
  },
  {
   "cell_type": "markdown",
   "id": "ad53b467",
   "metadata": {},
   "source": [
    "We are getting highest accuracy with logistic Regression"
   ]
  },
  {
   "cell_type": "markdown",
   "id": "aadea486",
   "metadata": {},
   "source": [
    "## Using Ensemble Technique to boostup score"
   ]
  },
  {
   "cell_type": "code",
   "execution_count": 60,
   "id": "c0ea148f",
   "metadata": {},
   "outputs": [
    {
     "name": "stdout",
     "output_type": "stream",
     "text": [
      "0.8579881656804734\n",
      "[[63 10]\n",
      " [14 82]]\n",
      "              precision    recall  f1-score   support\n",
      "\n",
      "           0       0.82      0.86      0.84        73\n",
      "           1       0.89      0.85      0.87        96\n",
      "\n",
      "    accuracy                           0.86       169\n",
      "   macro avg       0.85      0.86      0.86       169\n",
      "weighted avg       0.86      0.86      0.86       169\n",
      "\n"
     ]
    }
   ],
   "source": [
    "from sklearn.ensemble import RandomForestClassifier\n",
    "\n",
    "rf=RandomForestClassifier(n_estimators=100,random_state=18,criterion='gini')\n",
    "#RandomForestClassifier(100)---Default\n",
    "rf.fit(x_train,y_train)\n",
    "predrf=rf.predict(x_test)\n",
    "print(accuracy_score(y_test,predrf))\n",
    "print(confusion_matrix(y_test,predrf))\n",
    "print(classification_report(y_test,predrf))"
   ]
  },
  {
   "cell_type": "code",
   "execution_count": 61,
   "id": "f7d0c920",
   "metadata": {},
   "outputs": [
    {
     "name": "stdout",
     "output_type": "stream",
     "text": [
      "0.8106508875739645\n",
      "[[62 11]\n",
      " [21 75]]\n",
      "              precision    recall  f1-score   support\n",
      "\n",
      "           0       0.75      0.85      0.79        73\n",
      "           1       0.87      0.78      0.82        96\n",
      "\n",
      "    accuracy                           0.81       169\n",
      "   macro avg       0.81      0.82      0.81       169\n",
      "weighted avg       0.82      0.81      0.81       169\n",
      "\n"
     ]
    }
   ],
   "source": [
    "from sklearn.ensemble import AdaBoostClassifier\n",
    "ad=AdaBoostClassifier(n_estimators=100,random_state=75,base_estimator=LogisticRegression(),algorithm='SAMME',learning_rate=0.01)\n",
    "ad.fit(x_train,y_train)\n",
    "ad_pred=ad.predict(x_test)\n",
    "print(accuracy_score(y_test,ad_pred))\n",
    "print(confusion_matrix(y_test,ad_pred))\n",
    "print(classification_report(y_test,ad_pred))"
   ]
  },
  {
   "cell_type": "markdown",
   "id": "679b018f",
   "metadata": {},
   "source": [
    "Random Forest Classifier is giving the better score than Logistic Regression. So Hypertuning Random Forest Classifier"
   ]
  },
  {
   "cell_type": "markdown",
   "id": "5439f5d7",
   "metadata": {},
   "source": [
    "## HyperTuning Parameter"
   ]
  },
  {
   "cell_type": "code",
   "execution_count": 62,
   "id": "661090ef",
   "metadata": {},
   "outputs": [
    {
     "name": "stdout",
     "output_type": "stream",
     "text": [
      "score 0.7748148148148148\n",
      "best parameter {'min_samples_split': 6, 'min_samples_leaf': 3, 'max_samples': 0.2, 'max_features': 'sqrt', 'max_depth': 2, 'criterion': 'gini'}\n",
      "best estimator RandomForestClassifier(max_depth=2, max_features='sqrt', max_samples=0.2,\n",
      "                       min_samples_leaf=3, min_samples_split=6)\n"
     ]
    }
   ],
   "source": [
    "RF = RandomForestClassifier() # Randomforest instance\n",
    "from sklearn.model_selection import RandomizedSearchCV,cross_val_score\n",
    "\n",
    "# we are checking best parameter which suited most for the model\n",
    "\n",
    "para = {\n",
    "        \"criterion\":[\"gini\",\"entropy\"],\n",
    "        \"max_features\" : [\"auto\", \"sqrt\", \"log2\"],\n",
    "        \"min_samples_split\" :[2,4,6,8], \n",
    "        \"max_depth\" :[2,3,4,5],\n",
    "        \"min_samples_leaf\":[3,5,8,10],\n",
    "        \"max_samples\" :[0.2,0.3,0.4,0.5]\n",
    "}\n",
    "\n",
    "grid = RandomizedSearchCV(RF, para, scoring= \"accuracy\" )\n",
    "\n",
    "grid.fit(x_train,y_train)\n",
    "print(\"score\",grid.best_score_)\n",
    "print(\"best parameter\",grid.best_params_)\n",
    "print(\"best estimator\",grid.best_estimator_)\n",
    "grid_pred=grid.best_estimator_.predict(x_test) # predicting with best parameters"
   ]
  },
  {
   "cell_type": "markdown",
   "id": "45d40659",
   "metadata": {},
   "source": [
    "### Cross Validation"
   ]
  },
  {
   "cell_type": "code",
   "execution_count": 65,
   "id": "db9f21eb",
   "metadata": {},
   "outputs": [
    {
     "name": "stdout",
     "output_type": "stream",
     "text": [
      "at CV 2 The mean is  0.7535545023696683 and the SD is 0.04028436018957349\n",
      "at CV 3 The mean is  0.7702312746607438 and the SD is 0.06358455213465447\n",
      "at CV 4 The mean is  0.7665876777251185 and the SD is 0.07127739925447882\n",
      "at CV 5 The mean is  0.7761904761904762 and the SD is 0.06984119910834578\n",
      "at CV 6 The mean is  0.7751013171225938 and the SD is 0.08522788558878003\n"
     ]
    }
   ],
   "source": [
    "best_parameter_RF = RandomForestClassifier(min_samples_split=6, min_samples_leaf=3, max_samples=0.2, max_features='sqrt', max_depth=2, criterion='gini')\n",
    "\n",
    "for i in range(2,7):\n",
    "    cv = cross_val_score(best_parameter_RF,sm_x,sm_y,cv=i)\n",
    "    print(f'at CV {i} The mean is  {cv.mean()} and the SD is {cv.std()}') "
   ]
  },
  {
   "cell_type": "markdown",
   "id": "50fc728c",
   "metadata": {},
   "source": [
    "Observation\n",
    "\n",
    "Since Randomforest worked well out of all other model, so we have done the hyperparameter tuning to set the best parameter for final model. Now i have checked the best CV as well that at level of CV is generated the best score and we have found CV 6 is at best"
   ]
  },
  {
   "cell_type": "code",
   "execution_count": 66,
   "id": "52c83a91",
   "metadata": {},
   "outputs": [
    {
     "name": "stdout",
     "output_type": "stream",
     "text": [
      "Score: [0.75886525 0.77304965 0.75886525 0.88652482 0.79285714 0.91428571]\n",
      "Mean Score: 0.8140746369469772\n",
      "Standard Deviation: 0.06261080129084881\n"
     ]
    }
   ],
   "source": [
    "# Cross validate of RandomForestClassifier using cv=6\n",
    "from sklearn.model_selection import cross_val_score\n",
    "score=cross_val_score(RF,sm_x,sm_y,cv=6,scoring='accuracy')\n",
    "print('Score:', score)\n",
    "print('Mean Score:', score.mean())\n",
    "print('Standard Deviation:', score.std())"
   ]
  },
  {
   "cell_type": "markdown",
   "id": "d21710b2",
   "metadata": {},
   "source": [
    "## AUC ROC Curve"
   ]
  },
  {
   "cell_type": "code",
   "execution_count": 67,
   "id": "a049126d",
   "metadata": {},
   "outputs": [],
   "source": [
    "from sklearn.metrics import roc_curve\n",
    "from sklearn.metrics import plot_roc_curve\n",
    "import matplotlib.pyplot as plt\n",
    "\n",
    "from sklearn.metrics import roc_auc_score"
   ]
  },
  {
   "cell_type": "code",
   "execution_count": 69,
   "id": "b9ef7d57",
   "metadata": {},
   "outputs": [
    {
     "data": {
      "text/plain": [
       "RandomizedSearchCV(estimator=RandomForestClassifier(),\n",
       "                   param_distributions={'criterion': ['gini', 'entropy'],\n",
       "                                        'max_depth': [2, 3, 4, 5],\n",
       "                                        'max_features': ['auto', 'sqrt',\n",
       "                                                         'log2'],\n",
       "                                        'max_samples': [0.2, 0.3, 0.4, 0.5],\n",
       "                                        'min_samples_leaf': [3, 5, 8, 10],\n",
       "                                        'min_samples_split': [2, 4, 6, 8]},\n",
       "                   scoring='accuracy')"
      ]
     },
     "execution_count": 69,
     "metadata": {},
     "output_type": "execute_result"
    }
   ],
   "source": [
    "grid.fit(x_train,y_train)"
   ]
  },
  {
   "cell_type": "code",
   "execution_count": 71,
   "id": "34c7e86a",
   "metadata": {},
   "outputs": [
    {
     "data": {
      "text/plain": [
       "array([0.79      , 0.3       , 0.64      , 0.85      , 0.808     ,\n",
       "       0.03      , 0.52      , 0.51      , 0.1       , 0.7       ,\n",
       "       0.01      , 0.32      , 0.33      , 0.1       , 0.79      ,\n",
       "       0.95      , 0.06      , 0.58      , 0.86      , 0.03      ,\n",
       "       0.64      , 0.11      , 0.745     , 0.7       , 0.11      ,\n",
       "       0.64      , 0.63      , 0.4       , 0.03      , 0.01      ,\n",
       "       0.96      , 0.81      , 0.28      , 0.87      , 0.7       ,\n",
       "       0.62      , 0.74      , 0.14      , 0.2       , 0.76      ,\n",
       "       0.59      , 0.08      , 0.17      , 0.74      , 0.94      ,\n",
       "       0.27      , 0.1       , 0.3       , 0.4       , 0.92      ,\n",
       "       0.49      , 0.39333333, 0.2       , 0.07      , 0.92      ,\n",
       "       0.77      , 0.62      , 0.88      , 0.5295    , 0.94      ,\n",
       "       0.3       , 0.48      , 0.91      , 0.78      , 0.82      ,\n",
       "       0.06      , 0.93      , 0.87      , 0.15      , 0.56      ,\n",
       "       0.        , 0.92      , 0.14      , 0.11      , 0.56      ,\n",
       "       0.66      , 0.03      , 0.95      , 0.91      , 0.04      ,\n",
       "       0.35      , 0.6       , 0.97      , 0.6777381 , 0.68      ,\n",
       "       0.59      , 0.95      , 0.57      , 0.82      , 0.06      ,\n",
       "       0.94      , 0.83      , 0.56      , 0.78      , 0.02      ,\n",
       "       0.        , 0.12      , 0.91      , 0.48533333, 0.79      ,\n",
       "       0.18      , 0.11      , 0.38      , 0.36      , 0.75      ,\n",
       "       0.25      , 0.9       , 0.23      , 0.31      , 0.4       ,\n",
       "       0.53      , 0.78      , 0.6       , 0.56      , 0.84      ,\n",
       "       0.88      , 0.18      , 0.65      , 0.05      , 0.01      ,\n",
       "       0.83      , 0.64      , 0.44      , 0.04      , 0.72      ,\n",
       "       0.02      , 0.59833333, 0.83      , 0.83      , 0.03      ,\n",
       "       0.69      , 0.7       , 0.84      , 0.61      , 0.42      ,\n",
       "       0.06      , 0.4       , 0.48      , 0.2       , 0.26      ,\n",
       "       0.93      , 0.36      , 0.1       , 0.09      , 0.82      ,\n",
       "       0.01      , 0.33      , 0.01      , 0.91      , 0.53      ,\n",
       "       0.6       , 0.07      , 0.65      , 0.26      , 0.67      ,\n",
       "       0.04      , 0.18      , 0.3       , 0.17      , 0.76      ,\n",
       "       0.56      , 0.65      , 0.68      , 0.86      , 0.51      ,\n",
       "       0.29      , 0.99      , 0.88      , 0.44      ])"
      ]
     },
     "execution_count": 71,
     "metadata": {},
     "output_type": "execute_result"
    }
   ],
   "source": [
    "y_pred_prob=rf.predict_proba(x_test)[:,1]\n",
    "y_pred_prob"
   ]
  },
  {
   "cell_type": "code",
   "execution_count": 72,
   "id": "b88e29bb",
   "metadata": {},
   "outputs": [],
   "source": [
    "fpr,tpr,thresholds=roc_curve(y_test,y_pred_prob)"
   ]
  },
  {
   "cell_type": "code",
   "execution_count": 73,
   "id": "92ef1542",
   "metadata": {},
   "outputs": [
    {
     "data": {
      "text/plain": [
       "(array([0.        , 0.        , 0.        , 0.        , 0.        ,\n",
       "        0.        , 0.        , 0.        , 0.        , 0.        ,\n",
       "        0.        , 0.        , 0.01369863, 0.01369863, 0.01369863,\n",
       "        0.02739726, 0.02739726, 0.04109589, 0.04109589, 0.04109589,\n",
       "        0.04109589, 0.04109589, 0.04109589, 0.04109589, 0.04109589,\n",
       "        0.04109589, 0.05479452, 0.05479452, 0.05479452, 0.05479452,\n",
       "        0.05479452, 0.05479452, 0.06849315, 0.08219178, 0.08219178,\n",
       "        0.08219178, 0.08219178, 0.10958904, 0.12328767, 0.1369863 ,\n",
       "        0.1369863 , 0.1369863 , 0.15068493, 0.15068493, 0.17808219,\n",
       "        0.17808219, 0.19178082, 0.21917808, 0.23287671, 0.23287671,\n",
       "        0.26027397, 0.26027397, 0.2739726 , 0.30136986, 0.34246575,\n",
       "        0.36986301, 0.36986301, 0.38356164, 0.46575342, 0.49315068,\n",
       "        0.50684932, 0.53424658, 0.54794521, 0.65753425, 0.68493151,\n",
       "        0.69863014, 0.75342466, 0.76712329, 0.80821918, 0.87671233,\n",
       "        0.90410959, 0.97260274, 1.        ]),\n",
       " array([0.        , 0.01041667, 0.03125   , 0.09375   , 0.11458333,\n",
       "        0.14583333, 0.1875    , 0.19791667, 0.22916667, 0.27083333,\n",
       "        0.28125   , 0.30208333, 0.33333333, 0.36458333, 0.38541667,\n",
       "        0.40625   , 0.4375    , 0.4375    , 0.45833333, 0.47916667,\n",
       "        0.5       , 0.51041667, 0.55208333, 0.5625    , 0.58333333,\n",
       "        0.59375   , 0.59375   , 0.60416667, 0.63541667, 0.67708333,\n",
       "        0.6875    , 0.70833333, 0.70833333, 0.72916667, 0.73958333,\n",
       "        0.76041667, 0.78125   , 0.8125    , 0.82291667, 0.82291667,\n",
       "        0.83333333, 0.85416667, 0.85416667, 0.86458333, 0.88541667,\n",
       "        0.89583333, 0.92708333, 0.92708333, 0.9375    , 0.94791667,\n",
       "        0.94791667, 0.95833333, 0.95833333, 0.97916667, 0.97916667,\n",
       "        0.97916667, 0.98958333, 0.98958333, 0.98958333, 0.98958333,\n",
       "        0.98958333, 0.98958333, 0.98958333, 0.98958333, 0.98958333,\n",
       "        1.        , 1.        , 1.        , 1.        , 1.        ,\n",
       "        1.        , 1.        , 1.        ]),\n",
       " array([1.99      , 0.99      , 0.96      , 0.94      , 0.93      ,\n",
       "        0.92      , 0.91      , 0.9       , 0.88      , 0.86      ,\n",
       "        0.85      , 0.84      , 0.83      , 0.82      , 0.808     ,\n",
       "        0.79      , 0.78      , 0.77      , 0.76      , 0.745     ,\n",
       "        0.74      , 0.72      , 0.7       , 0.69      , 0.68      ,\n",
       "        0.6777381 , 0.67      , 0.66      , 0.65      , 0.64      ,\n",
       "        0.63      , 0.62      , 0.61      , 0.6       , 0.59833333,\n",
       "        0.59      , 0.57      , 0.56      , 0.53      , 0.5295    ,\n",
       "        0.52      , 0.51      , 0.49      , 0.48533333, 0.44      ,\n",
       "        0.42      , 0.4       , 0.38      , 0.36      , 0.35      ,\n",
       "        0.33      , 0.32      , 0.31      , 0.3       , 0.27      ,\n",
       "        0.26      , 0.25      , 0.23      , 0.18      , 0.17      ,\n",
       "        0.15      , 0.14      , 0.12      , 0.1       , 0.08      ,\n",
       "        0.07      , 0.06      , 0.05      , 0.04      , 0.03      ,\n",
       "        0.02      , 0.01      , 0.        ]))"
      ]
     },
     "execution_count": 73,
     "metadata": {},
     "output_type": "execute_result"
    }
   ],
   "source": [
    "fpr,tpr,thresholds"
   ]
  },
  {
   "cell_type": "code",
   "execution_count": 75,
   "id": "c7ec0ec0",
   "metadata": {},
   "outputs": [
    {
     "name": "stdout",
     "output_type": "stream",
     "text": [
      "0.8585901826484017\n"
     ]
    }
   ],
   "source": [
    "auc_score=roc_auc_score(y_test,rf.predict(x_test))\n",
    "print(auc_score)"
   ]
  },
  {
   "cell_type": "code",
   "execution_count": 77,
   "id": "322130ab",
   "metadata": {},
   "outputs": [
    {
     "data": {
      "image/png": "[encoded data removed]",
      "text/plain": [
       "<Figure size 576x288 with 1 Axes>"
      ]
     },
     "metadata": {
      "needs_background": "light"
     },
     "output_type": "display_data"
    }
   ],
   "source": [
    "plot_roc_curve(grid,x_train,y_train)\n",
    "plt.plot([0,1],[0,1],'k--')\n",
    "plt.plot(fpr,tpr,label='RandomForestClassifier')\n",
    "plt.xlabel('False positive rate')\n",
    "plt.ylabel('True positive rate')\n",
    "plt.title('RandomForestClassifier')\n",
    "plt.show()"
   ]
  },
  {
   "cell_type": "markdown",
   "id": "b8a729c3",
   "metadata": {},
   "source": [
    "## Model Saving"
   ]
  },
  {
   "cell_type": "code",
   "execution_count": 78,
   "id": "5e8ed176",
   "metadata": {},
   "outputs": [],
   "source": [
    "import pickle\n",
    "filename='Predicted_Loan_Status.pkl'\n",
    "pickle.dump(rf,open(filename,'wb'))"
   ]
  },
  {
   "cell_type": "code",
   "execution_count": null,
   "id": "516aab65",
   "metadata": {},
   "outputs": [],
   "source": []
  }
 ],
 "metadata": {
  "kernelspec": {
   "display_name": "Python 3",
   "language": "python",
   "name": "python3"
  },
  "language_info": {
   "codemirror_mode": {
    "name": "ipython",
    "version": 3
   },
   "file_extension": ".py",
   "mimetype": "text/x-python",
   "name": "python",
   "nbconvert_exporter": "python",
   "pygments_lexer": "ipython3",
   "version": "3.8.8"
  }
 },
 "nbformat": 4,
 "nbformat_minor": 5
}
