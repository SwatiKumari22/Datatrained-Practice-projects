{
 "cells": [
  {
   "cell_type": "markdown",
   "id": "dc52b6d7",
   "metadata": {},
   "source": [
    "## Data set description\n",
    "\n",
    "The dataset used is Abalone Data set. \n",
    "\n",
    "In this task with the dataset, the age of the abalone should be predicted with the physical measurements. In general, the age is determined by cutting the shell through the cone, staining after that, and counting the number of rings present through the microscope.\n",
    "\n",
    "This dataset has 4177 instances. There are no missing values in this data set as per the description given. The missing values are already removed from the original samples and the ranges of continuous values are scaled with ANN."
   ]
  },
  {
   "cell_type": "markdown",
   "id": "41e1c673",
   "metadata": {},
   "source": [
    "### Importing all the required libraries"
   ]
  },
  {
   "cell_type": "code",
   "execution_count": 1,
   "id": "dcce0a6c",
   "metadata": {},
   "outputs": [],
   "source": [
    "import numpy as np\n",
    "import pandas as pd\n",
    "import seaborn as sns\n",
    "import matplotlib.pyplot as plt\n",
    "from sklearn.linear_model import LogisticRegression\n",
    "from scipy.stats import zscore\n",
    "from sklearn.svm import SVR\n",
    "from sklearn.naive_bayes import GaussianNB\n",
    "from sklearn.neighbors import KNeighborsClassifier\n",
    "from sklearn.tree import DecisionTreeClassifier\n",
    "from sklearn.ensemble import RandomForestClassifier\n",
    "from sklearn.metrics import accuracy_score,confusion_matrix,classification_report\n",
    "\n",
    "from sklearn.metrics import mean_squared_error, r2_score\n",
    "from sklearn.model_selection import train_test_split\n",
    "\n",
    "import warnings\n",
    "warnings.filterwarnings('ignore')"
   ]
  },
  {
   "cell_type": "code",
   "execution_count": 2,
   "id": "8cefe9a2",
   "metadata": {},
   "outputs": [
    {
     "data": {
      "text/html": [
       "<div>\n",
       "<style scoped>\n",
       "    .dataframe tbody tr th:only-of-type {\n",
       "        vertical-align: middle;\n",
       "    }\n",
       "\n",
       "    .dataframe tbody tr th {\n",
       "        vertical-align: top;\n",
       "    }\n",
       "\n",
       "    .dataframe thead th {\n",
       "        text-align: right;\n",
       "    }\n",
       "</style>\n",
       "<table border=\"1\" class=\"dataframe\">\n",
       "  <thead>\n",
       "    <tr style=\"text-align: right;\">\n",
       "      <th></th>\n",
       "      <th>Sex</th>\n",
       "      <th>Length</th>\n",
       "      <th>Diameter</th>\n",
       "      <th>Height</th>\n",
       "      <th>Whole weight</th>\n",
       "      <th>Shucked weight</th>\n",
       "      <th>Viscera weight</th>\n",
       "      <th>Shell weight</th>\n",
       "      <th>Rings</th>\n",
       "    </tr>\n",
       "  </thead>\n",
       "  <tbody>\n",
       "    <tr>\n",
       "      <th>0</th>\n",
       "      <td>M</td>\n",
       "      <td>0.455</td>\n",
       "      <td>0.365</td>\n",
       "      <td>0.095</td>\n",
       "      <td>0.5140</td>\n",
       "      <td>0.2245</td>\n",
       "      <td>0.1010</td>\n",
       "      <td>0.1500</td>\n",
       "      <td>15</td>\n",
       "    </tr>\n",
       "    <tr>\n",
       "      <th>1</th>\n",
       "      <td>M</td>\n",
       "      <td>0.350</td>\n",
       "      <td>0.265</td>\n",
       "      <td>0.090</td>\n",
       "      <td>0.2255</td>\n",
       "      <td>0.0995</td>\n",
       "      <td>0.0485</td>\n",
       "      <td>0.0700</td>\n",
       "      <td>7</td>\n",
       "    </tr>\n",
       "    <tr>\n",
       "      <th>2</th>\n",
       "      <td>F</td>\n",
       "      <td>0.530</td>\n",
       "      <td>0.420</td>\n",
       "      <td>0.135</td>\n",
       "      <td>0.6770</td>\n",
       "      <td>0.2565</td>\n",
       "      <td>0.1415</td>\n",
       "      <td>0.2100</td>\n",
       "      <td>9</td>\n",
       "    </tr>\n",
       "    <tr>\n",
       "      <th>3</th>\n",
       "      <td>M</td>\n",
       "      <td>0.440</td>\n",
       "      <td>0.365</td>\n",
       "      <td>0.125</td>\n",
       "      <td>0.5160</td>\n",
       "      <td>0.2155</td>\n",
       "      <td>0.1140</td>\n",
       "      <td>0.1550</td>\n",
       "      <td>10</td>\n",
       "    </tr>\n",
       "    <tr>\n",
       "      <th>4</th>\n",
       "      <td>I</td>\n",
       "      <td>0.330</td>\n",
       "      <td>0.255</td>\n",
       "      <td>0.080</td>\n",
       "      <td>0.2050</td>\n",
       "      <td>0.0895</td>\n",
       "      <td>0.0395</td>\n",
       "      <td>0.0550</td>\n",
       "      <td>7</td>\n",
       "    </tr>\n",
       "    <tr>\n",
       "      <th>...</th>\n",
       "      <td>...</td>\n",
       "      <td>...</td>\n",
       "      <td>...</td>\n",
       "      <td>...</td>\n",
       "      <td>...</td>\n",
       "      <td>...</td>\n",
       "      <td>...</td>\n",
       "      <td>...</td>\n",
       "      <td>...</td>\n",
       "    </tr>\n",
       "    <tr>\n",
       "      <th>4172</th>\n",
       "      <td>F</td>\n",
       "      <td>0.565</td>\n",
       "      <td>0.450</td>\n",
       "      <td>0.165</td>\n",
       "      <td>0.8870</td>\n",
       "      <td>0.3700</td>\n",
       "      <td>0.2390</td>\n",
       "      <td>0.2490</td>\n",
       "      <td>11</td>\n",
       "    </tr>\n",
       "    <tr>\n",
       "      <th>4173</th>\n",
       "      <td>M</td>\n",
       "      <td>0.590</td>\n",
       "      <td>0.440</td>\n",
       "      <td>0.135</td>\n",
       "      <td>0.9660</td>\n",
       "      <td>0.4390</td>\n",
       "      <td>0.2145</td>\n",
       "      <td>0.2605</td>\n",
       "      <td>10</td>\n",
       "    </tr>\n",
       "    <tr>\n",
       "      <th>4174</th>\n",
       "      <td>M</td>\n",
       "      <td>0.600</td>\n",
       "      <td>0.475</td>\n",
       "      <td>0.205</td>\n",
       "      <td>1.1760</td>\n",
       "      <td>0.5255</td>\n",
       "      <td>0.2875</td>\n",
       "      <td>0.3080</td>\n",
       "      <td>9</td>\n",
       "    </tr>\n",
       "    <tr>\n",
       "      <th>4175</th>\n",
       "      <td>F</td>\n",
       "      <td>0.625</td>\n",
       "      <td>0.485</td>\n",
       "      <td>0.150</td>\n",
       "      <td>1.0945</td>\n",
       "      <td>0.5310</td>\n",
       "      <td>0.2610</td>\n",
       "      <td>0.2960</td>\n",
       "      <td>10</td>\n",
       "    </tr>\n",
       "    <tr>\n",
       "      <th>4176</th>\n",
       "      <td>M</td>\n",
       "      <td>0.710</td>\n",
       "      <td>0.555</td>\n",
       "      <td>0.195</td>\n",
       "      <td>1.9485</td>\n",
       "      <td>0.9455</td>\n",
       "      <td>0.3765</td>\n",
       "      <td>0.4950</td>\n",
       "      <td>12</td>\n",
       "    </tr>\n",
       "  </tbody>\n",
       "</table>\n",
       "<p>4177 rows × 9 columns</p>\n",
       "</div>"
      ],
      "text/plain": [
       "     Sex  Length  Diameter  Height  Whole weight  Shucked weight  \\\n",
       "0      M   0.455     0.365   0.095        0.5140          0.2245   \n",
       "1      M   0.350     0.265   0.090        0.2255          0.0995   \n",
       "2      F   0.530     0.420   0.135        0.6770          0.2565   \n",
       "3      M   0.440     0.365   0.125        0.5160          0.2155   \n",
       "4      I   0.330     0.255   0.080        0.2050          0.0895   \n",
       "...   ..     ...       ...     ...           ...             ...   \n",
       "4172   F   0.565     0.450   0.165        0.8870          0.3700   \n",
       "4173   M   0.590     0.440   0.135        0.9660          0.4390   \n",
       "4174   M   0.600     0.475   0.205        1.1760          0.5255   \n",
       "4175   F   0.625     0.485   0.150        1.0945          0.5310   \n",
       "4176   M   0.710     0.555   0.195        1.9485          0.9455   \n",
       "\n",
       "      Viscera weight  Shell weight  Rings  \n",
       "0             0.1010        0.1500     15  \n",
       "1             0.0485        0.0700      7  \n",
       "2             0.1415        0.2100      9  \n",
       "3             0.1140        0.1550     10  \n",
       "4             0.0395        0.0550      7  \n",
       "...              ...           ...    ...  \n",
       "4172          0.2390        0.2490     11  \n",
       "4173          0.2145        0.2605     10  \n",
       "4174          0.2875        0.3080      9  \n",
       "4175          0.2610        0.2960     10  \n",
       "4176          0.3765        0.4950     12  \n",
       "\n",
       "[4177 rows x 9 columns]"
      ]
     },
     "execution_count": 2,
     "metadata": {},
     "output_type": "execute_result"
    }
   ],
   "source": [
    "df=pd.read_csv('abalone.csv')\n",
    "df"
   ]
  },
  {
   "cell_type": "code",
   "execution_count": 3,
   "id": "691cc0b7",
   "metadata": {},
   "outputs": [
    {
     "data": {
      "text/html": [
       "<div>\n",
       "<style scoped>\n",
       "    .dataframe tbody tr th:only-of-type {\n",
       "        vertical-align: middle;\n",
       "    }\n",
       "\n",
       "    .dataframe tbody tr th {\n",
       "        vertical-align: top;\n",
       "    }\n",
       "\n",
       "    .dataframe thead th {\n",
       "        text-align: right;\n",
       "    }\n",
       "</style>\n",
       "<table border=\"1\" class=\"dataframe\">\n",
       "  <thead>\n",
       "    <tr style=\"text-align: right;\">\n",
       "      <th></th>\n",
       "      <th>Sex</th>\n",
       "      <th>Length</th>\n",
       "      <th>Diameter</th>\n",
       "      <th>Height</th>\n",
       "      <th>Whole weight</th>\n",
       "      <th>Shucked weight</th>\n",
       "      <th>Viscera weight</th>\n",
       "      <th>Shell weight</th>\n",
       "      <th>Rings</th>\n",
       "    </tr>\n",
       "  </thead>\n",
       "  <tbody>\n",
       "    <tr>\n",
       "      <th>0</th>\n",
       "      <td>M</td>\n",
       "      <td>0.455</td>\n",
       "      <td>0.365</td>\n",
       "      <td>0.095</td>\n",
       "      <td>0.5140</td>\n",
       "      <td>0.2245</td>\n",
       "      <td>0.1010</td>\n",
       "      <td>0.150</td>\n",
       "      <td>15</td>\n",
       "    </tr>\n",
       "    <tr>\n",
       "      <th>1</th>\n",
       "      <td>M</td>\n",
       "      <td>0.350</td>\n",
       "      <td>0.265</td>\n",
       "      <td>0.090</td>\n",
       "      <td>0.2255</td>\n",
       "      <td>0.0995</td>\n",
       "      <td>0.0485</td>\n",
       "      <td>0.070</td>\n",
       "      <td>7</td>\n",
       "    </tr>\n",
       "    <tr>\n",
       "      <th>2</th>\n",
       "      <td>F</td>\n",
       "      <td>0.530</td>\n",
       "      <td>0.420</td>\n",
       "      <td>0.135</td>\n",
       "      <td>0.6770</td>\n",
       "      <td>0.2565</td>\n",
       "      <td>0.1415</td>\n",
       "      <td>0.210</td>\n",
       "      <td>9</td>\n",
       "    </tr>\n",
       "    <tr>\n",
       "      <th>3</th>\n",
       "      <td>M</td>\n",
       "      <td>0.440</td>\n",
       "      <td>0.365</td>\n",
       "      <td>0.125</td>\n",
       "      <td>0.5160</td>\n",
       "      <td>0.2155</td>\n",
       "      <td>0.1140</td>\n",
       "      <td>0.155</td>\n",
       "      <td>10</td>\n",
       "    </tr>\n",
       "    <tr>\n",
       "      <th>4</th>\n",
       "      <td>I</td>\n",
       "      <td>0.330</td>\n",
       "      <td>0.255</td>\n",
       "      <td>0.080</td>\n",
       "      <td>0.2050</td>\n",
       "      <td>0.0895</td>\n",
       "      <td>0.0395</td>\n",
       "      <td>0.055</td>\n",
       "      <td>7</td>\n",
       "    </tr>\n",
       "  </tbody>\n",
       "</table>\n",
       "</div>"
      ],
      "text/plain": [
       "  Sex  Length  Diameter  Height  Whole weight  Shucked weight  Viscera weight  \\\n",
       "0   M   0.455     0.365   0.095        0.5140          0.2245          0.1010   \n",
       "1   M   0.350     0.265   0.090        0.2255          0.0995          0.0485   \n",
       "2   F   0.530     0.420   0.135        0.6770          0.2565          0.1415   \n",
       "3   M   0.440     0.365   0.125        0.5160          0.2155          0.1140   \n",
       "4   I   0.330     0.255   0.080        0.2050          0.0895          0.0395   \n",
       "\n",
       "   Shell weight  Rings  \n",
       "0         0.150     15  \n",
       "1         0.070      7  \n",
       "2         0.210      9  \n",
       "3         0.155     10  \n",
       "4         0.055      7  "
      ]
     },
     "execution_count": 3,
     "metadata": {},
     "output_type": "execute_result"
    }
   ],
   "source": [
    "df.head()"
   ]
  },
  {
   "cell_type": "code",
   "execution_count": 4,
   "id": "4bb34581",
   "metadata": {},
   "outputs": [
    {
     "data": {
      "text/html": [
       "<div>\n",
       "<style scoped>\n",
       "    .dataframe tbody tr th:only-of-type {\n",
       "        vertical-align: middle;\n",
       "    }\n",
       "\n",
       "    .dataframe tbody tr th {\n",
       "        vertical-align: top;\n",
       "    }\n",
       "\n",
       "    .dataframe thead th {\n",
       "        text-align: right;\n",
       "    }\n",
       "</style>\n",
       "<table border=\"1\" class=\"dataframe\">\n",
       "  <thead>\n",
       "    <tr style=\"text-align: right;\">\n",
       "      <th></th>\n",
       "      <th>Sex</th>\n",
       "      <th>Length</th>\n",
       "      <th>Diameter</th>\n",
       "      <th>Height</th>\n",
       "      <th>Whole weight</th>\n",
       "      <th>Shucked weight</th>\n",
       "      <th>Viscera weight</th>\n",
       "      <th>Shell weight</th>\n",
       "      <th>Rings</th>\n",
       "    </tr>\n",
       "  </thead>\n",
       "  <tbody>\n",
       "    <tr>\n",
       "      <th>921</th>\n",
       "      <td>I</td>\n",
       "      <td>0.420</td>\n",
       "      <td>0.32</td>\n",
       "      <td>0.115</td>\n",
       "      <td>0.3760</td>\n",
       "      <td>0.1690</td>\n",
       "      <td>0.0920</td>\n",
       "      <td>0.100</td>\n",
       "      <td>5</td>\n",
       "    </tr>\n",
       "    <tr>\n",
       "      <th>2352</th>\n",
       "      <td>M</td>\n",
       "      <td>0.700</td>\n",
       "      <td>0.53</td>\n",
       "      <td>0.190</td>\n",
       "      <td>1.3185</td>\n",
       "      <td>0.5480</td>\n",
       "      <td>0.2330</td>\n",
       "      <td>0.420</td>\n",
       "      <td>18</td>\n",
       "    </tr>\n",
       "    <tr>\n",
       "      <th>2944</th>\n",
       "      <td>M</td>\n",
       "      <td>0.630</td>\n",
       "      <td>0.51</td>\n",
       "      <td>0.170</td>\n",
       "      <td>1.1885</td>\n",
       "      <td>0.4915</td>\n",
       "      <td>0.3065</td>\n",
       "      <td>0.348</td>\n",
       "      <td>7</td>\n",
       "    </tr>\n",
       "    <tr>\n",
       "      <th>3880</th>\n",
       "      <td>I</td>\n",
       "      <td>0.380</td>\n",
       "      <td>0.30</td>\n",
       "      <td>0.100</td>\n",
       "      <td>0.2860</td>\n",
       "      <td>0.1305</td>\n",
       "      <td>0.0560</td>\n",
       "      <td>0.090</td>\n",
       "      <td>7</td>\n",
       "    </tr>\n",
       "    <tr>\n",
       "      <th>3966</th>\n",
       "      <td>I</td>\n",
       "      <td>0.295</td>\n",
       "      <td>0.22</td>\n",
       "      <td>0.065</td>\n",
       "      <td>0.1295</td>\n",
       "      <td>0.0520</td>\n",
       "      <td>0.0280</td>\n",
       "      <td>0.035</td>\n",
       "      <td>6</td>\n",
       "    </tr>\n",
       "  </tbody>\n",
       "</table>\n",
       "</div>"
      ],
      "text/plain": [
       "     Sex  Length  Diameter  Height  Whole weight  Shucked weight  \\\n",
       "921    I   0.420      0.32   0.115        0.3760          0.1690   \n",
       "2352   M   0.700      0.53   0.190        1.3185          0.5480   \n",
       "2944   M   0.630      0.51   0.170        1.1885          0.4915   \n",
       "3880   I   0.380      0.30   0.100        0.2860          0.1305   \n",
       "3966   I   0.295      0.22   0.065        0.1295          0.0520   \n",
       "\n",
       "      Viscera weight  Shell weight  Rings  \n",
       "921           0.0920         0.100      5  \n",
       "2352          0.2330         0.420     18  \n",
       "2944          0.3065         0.348      7  \n",
       "3880          0.0560         0.090      7  \n",
       "3966          0.0280         0.035      6  "
      ]
     },
     "execution_count": 4,
     "metadata": {},
     "output_type": "execute_result"
    }
   ],
   "source": [
    "df.sample(5)"
   ]
  },
  {
   "cell_type": "code",
   "execution_count": 5,
   "id": "16ad445e",
   "metadata": {},
   "outputs": [
    {
     "data": {
      "text/plain": [
       "(4177, 9)"
      ]
     },
     "execution_count": 5,
     "metadata": {},
     "output_type": "execute_result"
    }
   ],
   "source": [
    "df.shape"
   ]
  },
  {
   "cell_type": "markdown",
   "id": "fc29af2b",
   "metadata": {},
   "source": [
    "There are 4177 rows and 9 columns in this dataset"
   ]
  },
  {
   "cell_type": "code",
   "execution_count": 6,
   "id": "83c344d1",
   "metadata": {},
   "outputs": [
    {
     "data": {
      "text/plain": [
       "Index(['Sex', 'Length', 'Diameter', 'Height', 'Whole weight', 'Shucked weight',\n",
       "       'Viscera weight', 'Shell weight', 'Rings'],\n",
       "      dtype='object')"
      ]
     },
     "execution_count": 6,
     "metadata": {},
     "output_type": "execute_result"
    }
   ],
   "source": [
    "df.columns"
   ]
  },
  {
   "cell_type": "markdown",
   "id": "ac611151",
   "metadata": {},
   "source": [
    "## Attributes\n",
    "\n",
    "There are 9 attributes. These attributes are the columns of the data set. The age column is not included in the dataset. But in the description it is given that age = Rings + 1.5.\n",
    "\n",
    "Sex – The data type is categorical and there are three types in this data. M, F and I.\n",
    "\n",
    "Length – It is the continuous datatype and the units are in mm. It is the longest shell measurement.\n",
    "\n",
    "Diameter – It is also continuous datatype and the units are in mm. It is the perpendicular to length.\n",
    "\n",
    "Height – It is a continuous data type. It is numerical just like diameter and length. Its units are in mm and it is the meat in the shell.\n",
    "\n",
    "Whole weight – A continuous data measured in grams. It is the weight of whole abalone.\n",
    "\n",
    "Shucked weight – It is same as whole weight, continuous data, measured in grams and it is the weight of the meat.\n",
    "\n",
    "Viscera weight – It is also continuous data, measured in grams and it is the git weight after bleeding.\n",
    "\n",
    "Shell weight – It is the weight of the shell after being dried. It is continuously varying data.\n",
    "\n",
    "Rings – It is an integer and adding 1.5 to rings gives the age of the abalone."
   ]
  },
  {
   "cell_type": "code",
   "execution_count": 7,
   "id": "e79e892f",
   "metadata": {},
   "outputs": [
    {
     "name": "stdout",
     "output_type": "stream",
     "text": [
      "<class 'pandas.core.frame.DataFrame'>\n",
      "RangeIndex: 4177 entries, 0 to 4176\n",
      "Data columns (total 9 columns):\n",
      " #   Column          Non-Null Count  Dtype  \n",
      "---  ------          --------------  -----  \n",
      " 0   Sex             4177 non-null   object \n",
      " 1   Length          4177 non-null   float64\n",
      " 2   Diameter        4177 non-null   float64\n",
      " 3   Height          4177 non-null   float64\n",
      " 4   Whole weight    4177 non-null   float64\n",
      " 5   Shucked weight  4177 non-null   float64\n",
      " 6   Viscera weight  4177 non-null   float64\n",
      " 7   Shell weight    4177 non-null   float64\n",
      " 8   Rings           4177 non-null   int64  \n",
      "dtypes: float64(7), int64(1), object(1)\n",
      "memory usage: 293.8+ KB\n"
     ]
    }
   ],
   "source": [
    "#Checking data type of the columns.\n",
    "df.info()"
   ]
  },
  {
   "cell_type": "markdown",
   "id": "cf2e377a",
   "metadata": {},
   "source": [
    "We can see there are no null values in the variables. We have Rings variables having integer data type which is als Target.\n",
    "Sex is object data type. Other variables are of float data tupe"
   ]
  },
  {
   "cell_type": "markdown",
   "id": "a39816a2",
   "metadata": {},
   "source": [
    "## EDA"
   ]
  },
  {
   "cell_type": "code",
   "execution_count": 8,
   "id": "aeb0a0e8",
   "metadata": {},
   "outputs": [
    {
     "data": {
      "text/plain": [
       "Sex               0\n",
       "Length            0\n",
       "Diameter          0\n",
       "Height            0\n",
       "Whole weight      0\n",
       "Shucked weight    0\n",
       "Viscera weight    0\n",
       "Shell weight      0\n",
       "Rings             0\n",
       "dtype: int64"
      ]
     },
     "execution_count": 8,
     "metadata": {},
     "output_type": "execute_result"
    }
   ],
   "source": [
    "df.isnull().sum()"
   ]
  },
  {
   "cell_type": "markdown",
   "id": "1743f781",
   "metadata": {},
   "source": [
    "There are no null values"
   ]
  },
  {
   "cell_type": "code",
   "execution_count": 9,
   "id": "4af86201",
   "metadata": {},
   "outputs": [
    {
     "data": {
      "text/plain": [
       "<AxesSubplot:>"
      ]
     },
     "execution_count": 9,
     "metadata": {},
     "output_type": "execute_result"
    },
    {
     "data": {
      "image/png": "[encoded data removed]",
      "text/plain": [
       "<Figure size 432x288 with 2 Axes>"
      ]
     },
     "metadata": {
      "needs_background": "light"
     },
     "output_type": "display_data"
    }
   ],
   "source": [
    "#To check missing values\n",
    "sns.heatmap(df.isnull())"
   ]
  },
  {
   "cell_type": "code",
   "execution_count": 10,
   "id": "059a662e",
   "metadata": {},
   "outputs": [
    {
     "data": {
      "text/plain": [
       "1       1\n",
       "2       1\n",
       "3      15\n",
       "4      57\n",
       "5     115\n",
       "6     259\n",
       "7     391\n",
       "8     568\n",
       "9     689\n",
       "10    634\n",
       "11    487\n",
       "12    267\n",
       "13    203\n",
       "14    126\n",
       "15    103\n",
       "16     67\n",
       "17     58\n",
       "18     42\n",
       "19     32\n",
       "20     26\n",
       "21     14\n",
       "22      6\n",
       "23      9\n",
       "24      2\n",
       "25      1\n",
       "26      1\n",
       "27      2\n",
       "29      1\n",
       "Name: Rings, dtype: int64"
      ]
     },
     "execution_count": 10,
     "metadata": {},
     "output_type": "execute_result"
    }
   ],
   "source": [
    "df['Rings'].value_counts().sort_index()"
   ]
  },
  {
   "cell_type": "markdown",
   "id": "843b2b8c",
   "metadata": {},
   "source": [
    "We can see that the target is 1 to 29 (but there is no 28), so the classification we are going to do is a multi-class classification"
   ]
  },
  {
   "cell_type": "markdown",
   "id": "e9090375",
   "metadata": {},
   "source": [
    "### Data Preprocessing"
   ]
  },
  {
   "cell_type": "markdown",
   "id": "3312a3c7",
   "metadata": {},
   "source": [
    "#### Dealing with missing values"
   ]
  },
  {
   "cell_type": "markdown",
   "id": "a544e6c0",
   "metadata": {},
   "source": [
    "We first check how many missing values are in the Height feature and which class is it in."
   ]
  },
  {
   "cell_type": "code",
   "execution_count": 11,
   "id": "809987ba",
   "metadata": {},
   "outputs": [
    {
     "data": {
      "text/html": [
       "<div>\n",
       "<style scoped>\n",
       "    .dataframe tbody tr th:only-of-type {\n",
       "        vertical-align: middle;\n",
       "    }\n",
       "\n",
       "    .dataframe tbody tr th {\n",
       "        vertical-align: top;\n",
       "    }\n",
       "\n",
       "    .dataframe thead th {\n",
       "        text-align: right;\n",
       "    }\n",
       "</style>\n",
       "<table border=\"1\" class=\"dataframe\">\n",
       "  <thead>\n",
       "    <tr style=\"text-align: right;\">\n",
       "      <th></th>\n",
       "      <th>Length</th>\n",
       "      <th>Diameter</th>\n",
       "      <th>Height</th>\n",
       "      <th>Whole weight</th>\n",
       "      <th>Shucked weight</th>\n",
       "      <th>Viscera weight</th>\n",
       "      <th>Shell weight</th>\n",
       "      <th>Rings</th>\n",
       "    </tr>\n",
       "  </thead>\n",
       "  <tbody>\n",
       "    <tr>\n",
       "      <th>count</th>\n",
       "      <td>4177.000000</td>\n",
       "      <td>4177.000000</td>\n",
       "      <td>4177.000000</td>\n",
       "      <td>4177.000000</td>\n",
       "      <td>4177.000000</td>\n",
       "      <td>4177.000000</td>\n",
       "      <td>4177.000000</td>\n",
       "      <td>4177.000000</td>\n",
       "    </tr>\n",
       "    <tr>\n",
       "      <th>mean</th>\n",
       "      <td>0.523992</td>\n",
       "      <td>0.407881</td>\n",
       "      <td>0.139516</td>\n",
       "      <td>0.828742</td>\n",
       "      <td>0.359367</td>\n",
       "      <td>0.180594</td>\n",
       "      <td>0.238831</td>\n",
       "      <td>9.933684</td>\n",
       "    </tr>\n",
       "    <tr>\n",
       "      <th>std</th>\n",
       "      <td>0.120093</td>\n",
       "      <td>0.099240</td>\n",
       "      <td>0.041827</td>\n",
       "      <td>0.490389</td>\n",
       "      <td>0.221963</td>\n",
       "      <td>0.109614</td>\n",
       "      <td>0.139203</td>\n",
       "      <td>3.224169</td>\n",
       "    </tr>\n",
       "    <tr>\n",
       "      <th>min</th>\n",
       "      <td>0.075000</td>\n",
       "      <td>0.055000</td>\n",
       "      <td>0.000000</td>\n",
       "      <td>0.002000</td>\n",
       "      <td>0.001000</td>\n",
       "      <td>0.000500</td>\n",
       "      <td>0.001500</td>\n",
       "      <td>1.000000</td>\n",
       "    </tr>\n",
       "    <tr>\n",
       "      <th>25%</th>\n",
       "      <td>0.450000</td>\n",
       "      <td>0.350000</td>\n",
       "      <td>0.115000</td>\n",
       "      <td>0.441500</td>\n",
       "      <td>0.186000</td>\n",
       "      <td>0.093500</td>\n",
       "      <td>0.130000</td>\n",
       "      <td>8.000000</td>\n",
       "    </tr>\n",
       "    <tr>\n",
       "      <th>50%</th>\n",
       "      <td>0.545000</td>\n",
       "      <td>0.425000</td>\n",
       "      <td>0.140000</td>\n",
       "      <td>0.799500</td>\n",
       "      <td>0.336000</td>\n",
       "      <td>0.171000</td>\n",
       "      <td>0.234000</td>\n",
       "      <td>9.000000</td>\n",
       "    </tr>\n",
       "    <tr>\n",
       "      <th>75%</th>\n",
       "      <td>0.615000</td>\n",
       "      <td>0.480000</td>\n",
       "      <td>0.165000</td>\n",
       "      <td>1.153000</td>\n",
       "      <td>0.502000</td>\n",
       "      <td>0.253000</td>\n",
       "      <td>0.329000</td>\n",
       "      <td>11.000000</td>\n",
       "    </tr>\n",
       "    <tr>\n",
       "      <th>max</th>\n",
       "      <td>0.815000</td>\n",
       "      <td>0.650000</td>\n",
       "      <td>1.130000</td>\n",
       "      <td>2.825500</td>\n",
       "      <td>1.488000</td>\n",
       "      <td>0.760000</td>\n",
       "      <td>1.005000</td>\n",
       "      <td>29.000000</td>\n",
       "    </tr>\n",
       "  </tbody>\n",
       "</table>\n",
       "</div>"
      ],
      "text/plain": [
       "            Length     Diameter       Height  Whole weight  Shucked weight  \\\n",
       "count  4177.000000  4177.000000  4177.000000   4177.000000     4177.000000   \n",
       "mean      0.523992     0.407881     0.139516      0.828742        0.359367   \n",
       "std       0.120093     0.099240     0.041827      0.490389        0.221963   \n",
       "min       0.075000     0.055000     0.000000      0.002000        0.001000   \n",
       "25%       0.450000     0.350000     0.115000      0.441500        0.186000   \n",
       "50%       0.545000     0.425000     0.140000      0.799500        0.336000   \n",
       "75%       0.615000     0.480000     0.165000      1.153000        0.502000   \n",
       "max       0.815000     0.650000     1.130000      2.825500        1.488000   \n",
       "\n",
       "       Viscera weight  Shell weight        Rings  \n",
       "count     4177.000000   4177.000000  4177.000000  \n",
       "mean         0.180594      0.238831     9.933684  \n",
       "std          0.109614      0.139203     3.224169  \n",
       "min          0.000500      0.001500     1.000000  \n",
       "25%          0.093500      0.130000     8.000000  \n",
       "50%          0.171000      0.234000     9.000000  \n",
       "75%          0.253000      0.329000    11.000000  \n",
       "max          0.760000      1.005000    29.000000  "
      ]
     },
     "execution_count": 11,
     "metadata": {},
     "output_type": "execute_result"
    }
   ],
   "source": [
    "df.describe()"
   ]
  },
  {
   "cell_type": "markdown",
   "id": "a3cdd82b",
   "metadata": {},
   "source": [
    "The minimum value in height is zero. There are some zero values in height feature so checking the 'height' feature.\n",
    "\n"
   ]
  },
  {
   "cell_type": "code",
   "execution_count": 12,
   "id": "76aeb543",
   "metadata": {},
   "outputs": [
    {
     "data": {
      "text/plain": [
       "count    4177.000000\n",
       "mean        0.139516\n",
       "std         0.041827\n",
       "min         0.000000\n",
       "25%         0.115000\n",
       "50%         0.140000\n",
       "75%         0.165000\n",
       "max         1.130000\n",
       "Name: Height, dtype: float64"
      ]
     },
     "execution_count": 12,
     "metadata": {},
     "output_type": "execute_result"
    }
   ],
   "source": [
    "df['Height'].describe()"
   ]
  },
  {
   "cell_type": "code",
   "execution_count": 13,
   "id": "0c490a8d",
   "metadata": {},
   "outputs": [
    {
     "data": {
      "text/html": [
       "<div>\n",
       "<style scoped>\n",
       "    .dataframe tbody tr th:only-of-type {\n",
       "        vertical-align: middle;\n",
       "    }\n",
       "\n",
       "    .dataframe tbody tr th {\n",
       "        vertical-align: top;\n",
       "    }\n",
       "\n",
       "    .dataframe thead th {\n",
       "        text-align: right;\n",
       "    }\n",
       "</style>\n",
       "<table border=\"1\" class=\"dataframe\">\n",
       "  <thead>\n",
       "    <tr style=\"text-align: right;\">\n",
       "      <th></th>\n",
       "      <th>Sex</th>\n",
       "      <th>Length</th>\n",
       "      <th>Diameter</th>\n",
       "      <th>Height</th>\n",
       "      <th>Whole weight</th>\n",
       "      <th>Shucked weight</th>\n",
       "      <th>Viscera weight</th>\n",
       "      <th>Shell weight</th>\n",
       "      <th>Rings</th>\n",
       "    </tr>\n",
       "  </thead>\n",
       "  <tbody>\n",
       "    <tr>\n",
       "      <th>1257</th>\n",
       "      <td>I</td>\n",
       "      <td>0.430</td>\n",
       "      <td>0.34</td>\n",
       "      <td>0.0</td>\n",
       "      <td>0.428</td>\n",
       "      <td>0.2065</td>\n",
       "      <td>0.0860</td>\n",
       "      <td>0.1150</td>\n",
       "      <td>8</td>\n",
       "    </tr>\n",
       "    <tr>\n",
       "      <th>3996</th>\n",
       "      <td>I</td>\n",
       "      <td>0.315</td>\n",
       "      <td>0.23</td>\n",
       "      <td>0.0</td>\n",
       "      <td>0.134</td>\n",
       "      <td>0.0575</td>\n",
       "      <td>0.0285</td>\n",
       "      <td>0.3505</td>\n",
       "      <td>6</td>\n",
       "    </tr>\n",
       "  </tbody>\n",
       "</table>\n",
       "</div>"
      ],
      "text/plain": [
       "     Sex  Length  Diameter  Height  Whole weight  Shucked weight  \\\n",
       "1257   I   0.430      0.34     0.0         0.428          0.2065   \n",
       "3996   I   0.315      0.23     0.0         0.134          0.0575   \n",
       "\n",
       "      Viscera weight  Shell weight  Rings  \n",
       "1257          0.0860        0.1150      8  \n",
       "3996          0.0285        0.3505      6  "
      ]
     },
     "execution_count": 13,
     "metadata": {},
     "output_type": "execute_result"
    }
   ],
   "source": [
    "df[df.Height == 0]"
   ]
  },
  {
   "cell_type": "markdown",
   "id": "eeee737f",
   "metadata": {},
   "source": [
    "The number of missing values is 2 and is in the infant sex. Then we change the value 0 to null. We will fill in the missing value with the average Height feature for the infant gender"
   ]
  },
  {
   "cell_type": "code",
   "execution_count": 14,
   "id": "d5adefc9",
   "metadata": {},
   "outputs": [
    {
     "data": {
      "text/html": [
       "<div>\n",
       "<style scoped>\n",
       "    .dataframe tbody tr th:only-of-type {\n",
       "        vertical-align: middle;\n",
       "    }\n",
       "\n",
       "    .dataframe tbody tr th {\n",
       "        vertical-align: top;\n",
       "    }\n",
       "\n",
       "    .dataframe thead th {\n",
       "        text-align: right;\n",
       "    }\n",
       "</style>\n",
       "<table border=\"1\" class=\"dataframe\">\n",
       "  <thead>\n",
       "    <tr style=\"text-align: right;\">\n",
       "      <th></th>\n",
       "      <th>Height</th>\n",
       "    </tr>\n",
       "    <tr>\n",
       "      <th>Sex</th>\n",
       "      <th></th>\n",
       "    </tr>\n",
       "  </thead>\n",
       "  <tbody>\n",
       "    <tr>\n",
       "      <th>F</th>\n",
       "      <td>0.158011</td>\n",
       "    </tr>\n",
       "    <tr>\n",
       "      <th>I</th>\n",
       "      <td>0.107996</td>\n",
       "    </tr>\n",
       "    <tr>\n",
       "      <th>M</th>\n",
       "      <td>0.151381</td>\n",
       "    </tr>\n",
       "  </tbody>\n",
       "</table>\n",
       "</div>"
      ],
      "text/plain": [
       "       Height\n",
       "Sex          \n",
       "F    0.158011\n",
       "I    0.107996\n",
       "M    0.151381"
      ]
     },
     "execution_count": 14,
     "metadata": {},
     "output_type": "execute_result"
    }
   ],
   "source": [
    "means=pd.pivot_table(df,index=['Sex'],aggfunc={'Height':np.mean})\n",
    "means"
   ]
  },
  {
   "cell_type": "markdown",
   "id": "26de1fb0",
   "metadata": {},
   "source": [
    "Mean value of infant sex values is 0.107996.So we will fill in the missing value with 0.107996"
   ]
  },
  {
   "cell_type": "code",
   "execution_count": 15,
   "id": "23ed0635",
   "metadata": {},
   "outputs": [],
   "source": [
    "df['Height']=df['Height'].replace(to_replace=0,value=0.107996)"
   ]
  },
  {
   "cell_type": "code",
   "execution_count": 16,
   "id": "2067f002",
   "metadata": {},
   "outputs": [
    {
     "data": {
      "text/plain": [
       "count    4177.000000\n",
       "mean        0.139568\n",
       "std         0.041721\n",
       "min         0.010000\n",
       "25%         0.115000\n",
       "50%         0.140000\n",
       "75%         0.165000\n",
       "max         1.130000\n",
       "Name: Height, dtype: float64"
      ]
     },
     "execution_count": 16,
     "metadata": {},
     "output_type": "execute_result"
    }
   ],
   "source": [
    "#Checking the height minimum values again\n",
    "df['Height'].describe()"
   ]
  },
  {
   "cell_type": "code",
   "execution_count": 17,
   "id": "435d4f6c",
   "metadata": {},
   "outputs": [
    {
     "data": {
      "text/html": [
       "<div>\n",
       "<style scoped>\n",
       "    .dataframe tbody tr th:only-of-type {\n",
       "        vertical-align: middle;\n",
       "    }\n",
       "\n",
       "    .dataframe tbody tr th {\n",
       "        vertical-align: top;\n",
       "    }\n",
       "\n",
       "    .dataframe thead th {\n",
       "        text-align: right;\n",
       "    }\n",
       "</style>\n",
       "<table border=\"1\" class=\"dataframe\">\n",
       "  <thead>\n",
       "    <tr style=\"text-align: right;\">\n",
       "      <th></th>\n",
       "      <th>Sex</th>\n",
       "      <th>Length</th>\n",
       "      <th>Diameter</th>\n",
       "      <th>Height</th>\n",
       "      <th>Whole weight</th>\n",
       "      <th>Shucked weight</th>\n",
       "      <th>Viscera weight</th>\n",
       "      <th>Shell weight</th>\n",
       "      <th>Rings</th>\n",
       "    </tr>\n",
       "  </thead>\n",
       "  <tbody>\n",
       "    <tr>\n",
       "      <th>0</th>\n",
       "      <td>2</td>\n",
       "      <td>0.455</td>\n",
       "      <td>0.365</td>\n",
       "      <td>0.095</td>\n",
       "      <td>0.5140</td>\n",
       "      <td>0.2245</td>\n",
       "      <td>0.1010</td>\n",
       "      <td>0.1500</td>\n",
       "      <td>15</td>\n",
       "    </tr>\n",
       "    <tr>\n",
       "      <th>1</th>\n",
       "      <td>2</td>\n",
       "      <td>0.350</td>\n",
       "      <td>0.265</td>\n",
       "      <td>0.090</td>\n",
       "      <td>0.2255</td>\n",
       "      <td>0.0995</td>\n",
       "      <td>0.0485</td>\n",
       "      <td>0.0700</td>\n",
       "      <td>7</td>\n",
       "    </tr>\n",
       "    <tr>\n",
       "      <th>2</th>\n",
       "      <td>0</td>\n",
       "      <td>0.530</td>\n",
       "      <td>0.420</td>\n",
       "      <td>0.135</td>\n",
       "      <td>0.6770</td>\n",
       "      <td>0.2565</td>\n",
       "      <td>0.1415</td>\n",
       "      <td>0.2100</td>\n",
       "      <td>9</td>\n",
       "    </tr>\n",
       "    <tr>\n",
       "      <th>3</th>\n",
       "      <td>2</td>\n",
       "      <td>0.440</td>\n",
       "      <td>0.365</td>\n",
       "      <td>0.125</td>\n",
       "      <td>0.5160</td>\n",
       "      <td>0.2155</td>\n",
       "      <td>0.1140</td>\n",
       "      <td>0.1550</td>\n",
       "      <td>10</td>\n",
       "    </tr>\n",
       "    <tr>\n",
       "      <th>4</th>\n",
       "      <td>1</td>\n",
       "      <td>0.330</td>\n",
       "      <td>0.255</td>\n",
       "      <td>0.080</td>\n",
       "      <td>0.2050</td>\n",
       "      <td>0.0895</td>\n",
       "      <td>0.0395</td>\n",
       "      <td>0.0550</td>\n",
       "      <td>7</td>\n",
       "    </tr>\n",
       "    <tr>\n",
       "      <th>...</th>\n",
       "      <td>...</td>\n",
       "      <td>...</td>\n",
       "      <td>...</td>\n",
       "      <td>...</td>\n",
       "      <td>...</td>\n",
       "      <td>...</td>\n",
       "      <td>...</td>\n",
       "      <td>...</td>\n",
       "      <td>...</td>\n",
       "    </tr>\n",
       "    <tr>\n",
       "      <th>4172</th>\n",
       "      <td>0</td>\n",
       "      <td>0.565</td>\n",
       "      <td>0.450</td>\n",
       "      <td>0.165</td>\n",
       "      <td>0.8870</td>\n",
       "      <td>0.3700</td>\n",
       "      <td>0.2390</td>\n",
       "      <td>0.2490</td>\n",
       "      <td>11</td>\n",
       "    </tr>\n",
       "    <tr>\n",
       "      <th>4173</th>\n",
       "      <td>2</td>\n",
       "      <td>0.590</td>\n",
       "      <td>0.440</td>\n",
       "      <td>0.135</td>\n",
       "      <td>0.9660</td>\n",
       "      <td>0.4390</td>\n",
       "      <td>0.2145</td>\n",
       "      <td>0.2605</td>\n",
       "      <td>10</td>\n",
       "    </tr>\n",
       "    <tr>\n",
       "      <th>4174</th>\n",
       "      <td>2</td>\n",
       "      <td>0.600</td>\n",
       "      <td>0.475</td>\n",
       "      <td>0.205</td>\n",
       "      <td>1.1760</td>\n",
       "      <td>0.5255</td>\n",
       "      <td>0.2875</td>\n",
       "      <td>0.3080</td>\n",
       "      <td>9</td>\n",
       "    </tr>\n",
       "    <tr>\n",
       "      <th>4175</th>\n",
       "      <td>0</td>\n",
       "      <td>0.625</td>\n",
       "      <td>0.485</td>\n",
       "      <td>0.150</td>\n",
       "      <td>1.0945</td>\n",
       "      <td>0.5310</td>\n",
       "      <td>0.2610</td>\n",
       "      <td>0.2960</td>\n",
       "      <td>10</td>\n",
       "    </tr>\n",
       "    <tr>\n",
       "      <th>4176</th>\n",
       "      <td>2</td>\n",
       "      <td>0.710</td>\n",
       "      <td>0.555</td>\n",
       "      <td>0.195</td>\n",
       "      <td>1.9485</td>\n",
       "      <td>0.9455</td>\n",
       "      <td>0.3765</td>\n",
       "      <td>0.4950</td>\n",
       "      <td>12</td>\n",
       "    </tr>\n",
       "  </tbody>\n",
       "</table>\n",
       "<p>4177 rows × 9 columns</p>\n",
       "</div>"
      ],
      "text/plain": [
       "      Sex  Length  Diameter  Height  Whole weight  Shucked weight  \\\n",
       "0       2   0.455     0.365   0.095        0.5140          0.2245   \n",
       "1       2   0.350     0.265   0.090        0.2255          0.0995   \n",
       "2       0   0.530     0.420   0.135        0.6770          0.2565   \n",
       "3       2   0.440     0.365   0.125        0.5160          0.2155   \n",
       "4       1   0.330     0.255   0.080        0.2050          0.0895   \n",
       "...   ...     ...       ...     ...           ...             ...   \n",
       "4172    0   0.565     0.450   0.165        0.8870          0.3700   \n",
       "4173    2   0.590     0.440   0.135        0.9660          0.4390   \n",
       "4174    2   0.600     0.475   0.205        1.1760          0.5255   \n",
       "4175    0   0.625     0.485   0.150        1.0945          0.5310   \n",
       "4176    2   0.710     0.555   0.195        1.9485          0.9455   \n",
       "\n",
       "      Viscera weight  Shell weight  Rings  \n",
       "0             0.1010        0.1500     15  \n",
       "1             0.0485        0.0700      7  \n",
       "2             0.1415        0.2100      9  \n",
       "3             0.1140        0.1550     10  \n",
       "4             0.0395        0.0550      7  \n",
       "...              ...           ...    ...  \n",
       "4172          0.2390        0.2490     11  \n",
       "4173          0.2145        0.2605     10  \n",
       "4174          0.2875        0.3080      9  \n",
       "4175          0.2610        0.2960     10  \n",
       "4176          0.3765        0.4950     12  \n",
       "\n",
       "[4177 rows x 9 columns]"
      ]
     },
     "execution_count": 17,
     "metadata": {},
     "output_type": "execute_result"
    }
   ],
   "source": [
    "# Since'Sex' Are of categorical dtype. So we are applying Label Encoder\n",
    "from sklearn.preprocessing import OrdinalEncoder,LabelEncoder\n",
    "lencode=LabelEncoder()\n",
    "df['Sex']=lencode.fit_transform(df['Sex'])\n",
    "df"
   ]
  },
  {
   "cell_type": "code",
   "execution_count": 18,
   "id": "3f96c070",
   "metadata": {},
   "outputs": [
    {
     "data": {
      "text/plain": [
       "Sex                 int32\n",
       "Length            float64\n",
       "Diameter          float64\n",
       "Height            float64\n",
       "Whole weight      float64\n",
       "Shucked weight    float64\n",
       "Viscera weight    float64\n",
       "Shell weight      float64\n",
       "Rings               int64\n",
       "dtype: object"
      ]
     },
     "execution_count": 18,
     "metadata": {},
     "output_type": "execute_result"
    }
   ],
   "source": [
    "df.dtypes"
   ]
  },
  {
   "cell_type": "markdown",
   "id": "3b89c9a1",
   "metadata": {},
   "source": [
    "Observation\n",
    "\n",
    "1.> Sex column has been encoded and values have been changed to int ( Infant =0 , male = 1, female =3)\n",
    "\n",
    "2.> Now all the columns are of type integer or float"
   ]
  },
  {
   "cell_type": "code",
   "execution_count": 19,
   "id": "a82e47d5",
   "metadata": {},
   "outputs": [
    {
     "data": {
      "text/html": [
       "<div>\n",
       "<style scoped>\n",
       "    .dataframe tbody tr th:only-of-type {\n",
       "        vertical-align: middle;\n",
       "    }\n",
       "\n",
       "    .dataframe tbody tr th {\n",
       "        vertical-align: top;\n",
       "    }\n",
       "\n",
       "    .dataframe thead th {\n",
       "        text-align: right;\n",
       "    }\n",
       "</style>\n",
       "<table border=\"1\" class=\"dataframe\">\n",
       "  <thead>\n",
       "    <tr style=\"text-align: right;\">\n",
       "      <th></th>\n",
       "      <th>Sex</th>\n",
       "      <th>Length</th>\n",
       "      <th>Diameter</th>\n",
       "      <th>Height</th>\n",
       "      <th>Whole weight</th>\n",
       "      <th>Shucked weight</th>\n",
       "      <th>Viscera weight</th>\n",
       "      <th>Shell weight</th>\n",
       "      <th>Rings</th>\n",
       "    </tr>\n",
       "  </thead>\n",
       "  <tbody>\n",
       "    <tr>\n",
       "      <th>count</th>\n",
       "      <td>4177.000000</td>\n",
       "      <td>4177.000000</td>\n",
       "      <td>4177.000000</td>\n",
       "      <td>4177.000000</td>\n",
       "      <td>4177.000000</td>\n",
       "      <td>4177.000000</td>\n",
       "      <td>4177.000000</td>\n",
       "      <td>4177.000000</td>\n",
       "      <td>4177.000000</td>\n",
       "    </tr>\n",
       "    <tr>\n",
       "      <th>mean</th>\n",
       "      <td>1.052909</td>\n",
       "      <td>0.523992</td>\n",
       "      <td>0.407881</td>\n",
       "      <td>0.139568</td>\n",
       "      <td>0.828742</td>\n",
       "      <td>0.359367</td>\n",
       "      <td>0.180594</td>\n",
       "      <td>0.238831</td>\n",
       "      <td>9.933684</td>\n",
       "    </tr>\n",
       "    <tr>\n",
       "      <th>std</th>\n",
       "      <td>0.822240</td>\n",
       "      <td>0.120093</td>\n",
       "      <td>0.099240</td>\n",
       "      <td>0.041721</td>\n",
       "      <td>0.490389</td>\n",
       "      <td>0.221963</td>\n",
       "      <td>0.109614</td>\n",
       "      <td>0.139203</td>\n",
       "      <td>3.224169</td>\n",
       "    </tr>\n",
       "    <tr>\n",
       "      <th>min</th>\n",
       "      <td>0.000000</td>\n",
       "      <td>0.075000</td>\n",
       "      <td>0.055000</td>\n",
       "      <td>0.010000</td>\n",
       "      <td>0.002000</td>\n",
       "      <td>0.001000</td>\n",
       "      <td>0.000500</td>\n",
       "      <td>0.001500</td>\n",
       "      <td>1.000000</td>\n",
       "    </tr>\n",
       "    <tr>\n",
       "      <th>25%</th>\n",
       "      <td>0.000000</td>\n",
       "      <td>0.450000</td>\n",
       "      <td>0.350000</td>\n",
       "      <td>0.115000</td>\n",
       "      <td>0.441500</td>\n",
       "      <td>0.186000</td>\n",
       "      <td>0.093500</td>\n",
       "      <td>0.130000</td>\n",
       "      <td>8.000000</td>\n",
       "    </tr>\n",
       "    <tr>\n",
       "      <th>50%</th>\n",
       "      <td>1.000000</td>\n",
       "      <td>0.545000</td>\n",
       "      <td>0.425000</td>\n",
       "      <td>0.140000</td>\n",
       "      <td>0.799500</td>\n",
       "      <td>0.336000</td>\n",
       "      <td>0.171000</td>\n",
       "      <td>0.234000</td>\n",
       "      <td>9.000000</td>\n",
       "    </tr>\n",
       "    <tr>\n",
       "      <th>75%</th>\n",
       "      <td>2.000000</td>\n",
       "      <td>0.615000</td>\n",
       "      <td>0.480000</td>\n",
       "      <td>0.165000</td>\n",
       "      <td>1.153000</td>\n",
       "      <td>0.502000</td>\n",
       "      <td>0.253000</td>\n",
       "      <td>0.329000</td>\n",
       "      <td>11.000000</td>\n",
       "    </tr>\n",
       "    <tr>\n",
       "      <th>max</th>\n",
       "      <td>2.000000</td>\n",
       "      <td>0.815000</td>\n",
       "      <td>0.650000</td>\n",
       "      <td>1.130000</td>\n",
       "      <td>2.825500</td>\n",
       "      <td>1.488000</td>\n",
       "      <td>0.760000</td>\n",
       "      <td>1.005000</td>\n",
       "      <td>29.000000</td>\n",
       "    </tr>\n",
       "  </tbody>\n",
       "</table>\n",
       "</div>"
      ],
      "text/plain": [
       "               Sex       Length     Diameter       Height  Whole weight  \\\n",
       "count  4177.000000  4177.000000  4177.000000  4177.000000   4177.000000   \n",
       "mean      1.052909     0.523992     0.407881     0.139568      0.828742   \n",
       "std       0.822240     0.120093     0.099240     0.041721      0.490389   \n",
       "min       0.000000     0.075000     0.055000     0.010000      0.002000   \n",
       "25%       0.000000     0.450000     0.350000     0.115000      0.441500   \n",
       "50%       1.000000     0.545000     0.425000     0.140000      0.799500   \n",
       "75%       2.000000     0.615000     0.480000     0.165000      1.153000   \n",
       "max       2.000000     0.815000     0.650000     1.130000      2.825500   \n",
       "\n",
       "       Shucked weight  Viscera weight  Shell weight        Rings  \n",
       "count     4177.000000     4177.000000   4177.000000  4177.000000  \n",
       "mean         0.359367        0.180594      0.238831     9.933684  \n",
       "std          0.221963        0.109614      0.139203     3.224169  \n",
       "min          0.001000        0.000500      0.001500     1.000000  \n",
       "25%          0.186000        0.093500      0.130000     8.000000  \n",
       "50%          0.336000        0.171000      0.234000     9.000000  \n",
       "75%          0.502000        0.253000      0.329000    11.000000  \n",
       "max          1.488000        0.760000      1.005000    29.000000  "
      ]
     },
     "execution_count": 19,
     "metadata": {},
     "output_type": "execute_result"
    }
   ],
   "source": [
    "df.describe()"
   ]
  },
  {
   "cell_type": "markdown",
   "id": "a9e0829c",
   "metadata": {},
   "source": [
    "### Univariate Analysis"
   ]
  },
  {
   "cell_type": "code",
   "execution_count": 20,
   "id": "9aa8bd80",
   "metadata": {},
   "outputs": [
    {
     "data": {
      "text/plain": [
       "<AxesSubplot:xlabel='Rings', ylabel='Density'>"
      ]
     },
     "execution_count": 20,
     "metadata": {},
     "output_type": "execute_result"
    },
    {
     "data": {
      "image/png": "[encoded data removed]",
      "text/plain": [
       "<Figure size 432x288 with 1 Axes>"
      ]
     },
     "metadata": {
      "needs_background": "light"
     },
     "output_type": "display_data"
    }
   ],
   "source": [
    "# Target feature distribution \n",
    "sns.distplot(df[\"Rings\"])"
   ]
  },
  {
   "cell_type": "markdown",
   "id": "98db1f09",
   "metadata": {},
   "source": [
    "Observation\n",
    "\n",
    "it is target variable and looking at the distribution it seems that maximum abalone rings falls between 7 to 15 numbers. \n",
    "Since age = Rings+1.5, maximum abalone'age fall under 7 to 15 age group."
   ]
  },
  {
   "cell_type": "code",
   "execution_count": 21,
   "id": "2bc954ef",
   "metadata": {},
   "outputs": [
    {
     "data": {
      "text/plain": [
       "<AxesSubplot:xlabel='Sex', ylabel='count'>"
      ]
     },
     "execution_count": 21,
     "metadata": {},
     "output_type": "execute_result"
    },
    {
     "data": {
      "image/png": "[encoded data removed]",
      "text/plain": [
       "<Figure size 432x288 with 1 Axes>"
      ]
     },
     "metadata": {
      "needs_background": "light"
     },
     "output_type": "display_data"
    }
   ],
   "source": [
    "#we have one categorical variable. ('Sex')\n",
    "#plotting to check how many categories for 'Sex' variable\n",
    "sns.countplot(df.Sex)"
   ]
  },
  {
   "cell_type": "code",
   "execution_count": 22,
   "id": "829d0cc7",
   "metadata": {},
   "outputs": [
    {
     "name": "stdout",
     "output_type": "stream",
     "text": [
      "2    1528\n",
      "1    1342\n",
      "0    1307\n",
      "Name: Sex, dtype: int64\n"
     ]
    }
   ],
   "source": [
    "# 0 = Infant\n",
    "# 1 = Male\n",
    "# 2 = female\n",
    "print(df[\"Sex\"].value_counts())"
   ]
  },
  {
   "cell_type": "markdown",
   "id": "15776e20",
   "metadata": {},
   "source": [
    "Observation\n",
    "\n",
    "Data is almost equally distributed in all 3 sex columns category, which shows that it is not inclide to one particular gender. "
   ]
  },
  {
   "cell_type": "markdown",
   "id": "152d00bb",
   "metadata": {},
   "source": [
    "#Let's consider relation between ['Sex'] and ['Rings'] \n",
    "#### Plot for relation between sex and rings"
   ]
  },
  {
   "cell_type": "code",
   "execution_count": 23,
   "id": "38cb11bc",
   "metadata": {},
   "outputs": [
    {
     "data": {
      "text/plain": [
       "<AxesSubplot:xlabel='Sex'>"
      ]
     },
     "execution_count": 23,
     "metadata": {},
     "output_type": "execute_result"
    },
    {
     "data": {
      "image/png": "[encoded data removed]",
      "text/plain": [
       "<Figure size 432x288 with 1 Axes>"
      ]
     },
     "metadata": {
      "needs_background": "light"
     },
     "output_type": "display_data"
    }
   ],
   "source": [
    "df.groupby([\"Sex\"])[\"Rings\"].mean().plot(kind=\"bar\")   # 0 = Infant  1 = Male  2 = female"
   ]
  },
  {
   "cell_type": "code",
   "execution_count": 24,
   "id": "69950ff3",
   "metadata": {},
   "outputs": [
    {
     "data": {
      "text/plain": [
       "<AxesSubplot:xlabel='Sex', ylabel='Rings'>"
      ]
     },
     "execution_count": 24,
     "metadata": {},
     "output_type": "execute_result"
    },
    {
     "data": {
      "image/png": "[encoded data removed]",
      "text/plain": [
       "<Figure size 432x288 with 1 Axes>"
      ]
     },
     "metadata": {
      "needs_background": "light"
     },
     "output_type": "display_data"
    }
   ],
   "source": [
    "import seaborn as sns\n",
    "sns.boxplot(x='Sex', y='Rings', data=df)    # 0 = Infant  1 = Male  2 = female"
   ]
  },
  {
   "cell_type": "markdown",
   "id": "5a9c949e",
   "metadata": {},
   "source": [
    "Conclusion : ‘sex’ has an influence on distribution of ‘Rings’. Female sex has more number of rings than male sex.Infant has least number of Rings."
   ]
  },
  {
   "cell_type": "markdown",
   "id": "164fa1bf",
   "metadata": {},
   "source": [
    "### Checking The Correlation"
   ]
  },
  {
   "cell_type": "code",
   "execution_count": 25,
   "id": "6c79b7cf",
   "metadata": {},
   "outputs": [
    {
     "data": {
      "text/html": [
       "<div>\n",
       "<style scoped>\n",
       "    .dataframe tbody tr th:only-of-type {\n",
       "        vertical-align: middle;\n",
       "    }\n",
       "\n",
       "    .dataframe tbody tr th {\n",
       "        vertical-align: top;\n",
       "    }\n",
       "\n",
       "    .dataframe thead th {\n",
       "        text-align: right;\n",
       "    }\n",
       "</style>\n",
       "<table border=\"1\" class=\"dataframe\">\n",
       "  <thead>\n",
       "    <tr style=\"text-align: right;\">\n",
       "      <th></th>\n",
       "      <th>Sex</th>\n",
       "      <th>Length</th>\n",
       "      <th>Diameter</th>\n",
       "      <th>Height</th>\n",
       "      <th>Whole weight</th>\n",
       "      <th>Shucked weight</th>\n",
       "      <th>Viscera weight</th>\n",
       "      <th>Shell weight</th>\n",
       "      <th>Rings</th>\n",
       "    </tr>\n",
       "  </thead>\n",
       "  <tbody>\n",
       "    <tr>\n",
       "      <th>Sex</th>\n",
       "      <td>1.000000</td>\n",
       "      <td>-0.036066</td>\n",
       "      <td>-0.038874</td>\n",
       "      <td>-0.042264</td>\n",
       "      <td>-0.021391</td>\n",
       "      <td>-0.001373</td>\n",
       "      <td>-0.032067</td>\n",
       "      <td>-0.034854</td>\n",
       "      <td>-0.034627</td>\n",
       "    </tr>\n",
       "    <tr>\n",
       "      <th>Length</th>\n",
       "      <td>-0.036066</td>\n",
       "      <td>1.000000</td>\n",
       "      <td>0.986812</td>\n",
       "      <td>0.828091</td>\n",
       "      <td>0.925261</td>\n",
       "      <td>0.897914</td>\n",
       "      <td>0.903018</td>\n",
       "      <td>0.897706</td>\n",
       "      <td>0.556720</td>\n",
       "    </tr>\n",
       "    <tr>\n",
       "      <th>Diameter</th>\n",
       "      <td>-0.038874</td>\n",
       "      <td>0.986812</td>\n",
       "      <td>1.000000</td>\n",
       "      <td>0.834265</td>\n",
       "      <td>0.925452</td>\n",
       "      <td>0.893162</td>\n",
       "      <td>0.899724</td>\n",
       "      <td>0.905330</td>\n",
       "      <td>0.574660</td>\n",
       "    </tr>\n",
       "    <tr>\n",
       "      <th>Height</th>\n",
       "      <td>-0.042264</td>\n",
       "      <td>0.828091</td>\n",
       "      <td>0.834265</td>\n",
       "      <td>1.000000</td>\n",
       "      <td>0.819916</td>\n",
       "      <td>0.775670</td>\n",
       "      <td>0.798951</td>\n",
       "      <td>0.819359</td>\n",
       "      <td>0.557755</td>\n",
       "    </tr>\n",
       "    <tr>\n",
       "      <th>Whole weight</th>\n",
       "      <td>-0.021391</td>\n",
       "      <td>0.925261</td>\n",
       "      <td>0.925452</td>\n",
       "      <td>0.819916</td>\n",
       "      <td>1.000000</td>\n",
       "      <td>0.969405</td>\n",
       "      <td>0.966375</td>\n",
       "      <td>0.955355</td>\n",
       "      <td>0.540390</td>\n",
       "    </tr>\n",
       "    <tr>\n",
       "      <th>Shucked weight</th>\n",
       "      <td>-0.001373</td>\n",
       "      <td>0.897914</td>\n",
       "      <td>0.893162</td>\n",
       "      <td>0.775670</td>\n",
       "      <td>0.969405</td>\n",
       "      <td>1.000000</td>\n",
       "      <td>0.931961</td>\n",
       "      <td>0.882617</td>\n",
       "      <td>0.420884</td>\n",
       "    </tr>\n",
       "    <tr>\n",
       "      <th>Viscera weight</th>\n",
       "      <td>-0.032067</td>\n",
       "      <td>0.903018</td>\n",
       "      <td>0.899724</td>\n",
       "      <td>0.798951</td>\n",
       "      <td>0.966375</td>\n",
       "      <td>0.931961</td>\n",
       "      <td>1.000000</td>\n",
       "      <td>0.907656</td>\n",
       "      <td>0.503819</td>\n",
       "    </tr>\n",
       "    <tr>\n",
       "      <th>Shell weight</th>\n",
       "      <td>-0.034854</td>\n",
       "      <td>0.897706</td>\n",
       "      <td>0.905330</td>\n",
       "      <td>0.819359</td>\n",
       "      <td>0.955355</td>\n",
       "      <td>0.882617</td>\n",
       "      <td>0.907656</td>\n",
       "      <td>1.000000</td>\n",
       "      <td>0.627574</td>\n",
       "    </tr>\n",
       "    <tr>\n",
       "      <th>Rings</th>\n",
       "      <td>-0.034627</td>\n",
       "      <td>0.556720</td>\n",
       "      <td>0.574660</td>\n",
       "      <td>0.557755</td>\n",
       "      <td>0.540390</td>\n",
       "      <td>0.420884</td>\n",
       "      <td>0.503819</td>\n",
       "      <td>0.627574</td>\n",
       "      <td>1.000000</td>\n",
       "    </tr>\n",
       "  </tbody>\n",
       "</table>\n",
       "</div>"
      ],
      "text/plain": [
       "                     Sex    Length  Diameter    Height  Whole weight  \\\n",
       "Sex             1.000000 -0.036066 -0.038874 -0.042264     -0.021391   \n",
       "Length         -0.036066  1.000000  0.986812  0.828091      0.925261   \n",
       "Diameter       -0.038874  0.986812  1.000000  0.834265      0.925452   \n",
       "Height         -0.042264  0.828091  0.834265  1.000000      0.819916   \n",
       "Whole weight   -0.021391  0.925261  0.925452  0.819916      1.000000   \n",
       "Shucked weight -0.001373  0.897914  0.893162  0.775670      0.969405   \n",
       "Viscera weight -0.032067  0.903018  0.899724  0.798951      0.966375   \n",
       "Shell weight   -0.034854  0.897706  0.905330  0.819359      0.955355   \n",
       "Rings          -0.034627  0.556720  0.574660  0.557755      0.540390   \n",
       "\n",
       "                Shucked weight  Viscera weight  Shell weight     Rings  \n",
       "Sex                  -0.001373       -0.032067     -0.034854 -0.034627  \n",
       "Length                0.897914        0.903018      0.897706  0.556720  \n",
       "Diameter              0.893162        0.899724      0.905330  0.574660  \n",
       "Height                0.775670        0.798951      0.819359  0.557755  \n",
       "Whole weight          0.969405        0.966375      0.955355  0.540390  \n",
       "Shucked weight        1.000000        0.931961      0.882617  0.420884  \n",
       "Viscera weight        0.931961        1.000000      0.907656  0.503819  \n",
       "Shell weight          0.882617        0.907656      1.000000  0.627574  \n",
       "Rings                 0.420884        0.503819      0.627574  1.000000  "
      ]
     },
     "execution_count": 25,
     "metadata": {},
     "output_type": "execute_result"
    }
   ],
   "source": [
    "df.corr()"
   ]
  },
  {
   "cell_type": "code",
   "execution_count": 26,
   "id": "5281945d",
   "metadata": {},
   "outputs": [
    {
     "data": {
      "text/plain": [
       "<AxesSubplot:>"
      ]
     },
     "execution_count": 26,
     "metadata": {},
     "output_type": "execute_result"
    },
    {
     "data": {
      "image/png": "[encoded data removed]",
      "text/plain": [
       "<Figure size 432x288 with 2 Axes>"
      ]
     },
     "metadata": {
      "needs_background": "light"
     },
     "output_type": "display_data"
    }
   ],
   "source": [
    "sns.heatmap(df.corr(),cmap='coolwarm',annot=True)"
   ]
  },
  {
   "cell_type": "markdown",
   "id": "772de221",
   "metadata": {},
   "source": [
    "CONCLUSION:\n",
    "\n",
    "1.Shell Weight is maximum correlated with the target['Rings']. All the other variables also have very good correlation with the target.\n",
    "\n",
    "2.'sex' is negativly correlated with the target."
   ]
  },
  {
   "cell_type": "code",
   "execution_count": 27,
   "id": "bc5efb61",
   "metadata": {},
   "outputs": [
    {
     "data": {
      "image/png": "[encoded data removed]",
      "text/plain": [
       "<Figure size 720x576 with 9 Axes>"
      ]
     },
     "metadata": {
      "needs_background": "light"
     },
     "output_type": "display_data"
    }
   ],
   "source": [
    "# distribution of the data\n",
    "df.iloc[:,1:-1].hist(figsize=(10,8));"
   ]
  },
  {
   "cell_type": "markdown",
   "id": "cfedbf13",
   "metadata": {},
   "source": [
    "Observation Length, Diameter and height are left skewed and whole weight,shucked weight, viscera weight and shell weight are right skewed."
   ]
  },
  {
   "cell_type": "markdown",
   "id": "217a354b",
   "metadata": {},
   "source": [
    " ### Let's check the data distribution among all the columns."
   ]
  },
  {
   "cell_type": "code",
   "execution_count": 28,
   "id": "b24fe82f",
   "metadata": {},
   "outputs": [
    {
     "data": {
      "image/png": "[encoded data removed]",
      "text/plain": [
       "<Figure size 1296x864 with 66 Axes>"
      ]
     },
     "metadata": {
      "needs_background": "light"
     },
     "output_type": "display_data"
    }
   ],
   "source": [
    "df.plot(kind='density',subplots=True, layout=(6,11), sharex=False, legend= False, fontsize=1, figsize=(18,12))\n",
    "plt.show()"
   ]
  },
  {
   "cell_type": "markdown",
   "id": "05e9e757",
   "metadata": {},
   "source": [
    "From the above grtaphs we see the data is not much skewed other than 1st one which is for sex column and it has 3 categories."
   ]
  },
  {
   "cell_type": "markdown",
   "id": "3c4eceb5",
   "metadata": {},
   "source": [
    "### Splitting the independant and target variables in x and y before removing the skewness"
   ]
  },
  {
   "cell_type": "code",
   "execution_count": 29,
   "id": "44ec9168",
   "metadata": {},
   "outputs": [
    {
     "data": {
      "text/html": [
       "<div>\n",
       "<style scoped>\n",
       "    .dataframe tbody tr th:only-of-type {\n",
       "        vertical-align: middle;\n",
       "    }\n",
       "\n",
       "    .dataframe tbody tr th {\n",
       "        vertical-align: top;\n",
       "    }\n",
       "\n",
       "    .dataframe thead th {\n",
       "        text-align: right;\n",
       "    }\n",
       "</style>\n",
       "<table border=\"1\" class=\"dataframe\">\n",
       "  <thead>\n",
       "    <tr style=\"text-align: right;\">\n",
       "      <th></th>\n",
       "      <th>Sex</th>\n",
       "      <th>Length</th>\n",
       "      <th>Diameter</th>\n",
       "      <th>Height</th>\n",
       "      <th>Whole weight</th>\n",
       "      <th>Shucked weight</th>\n",
       "      <th>Viscera weight</th>\n",
       "      <th>Shell weight</th>\n",
       "    </tr>\n",
       "  </thead>\n",
       "  <tbody>\n",
       "    <tr>\n",
       "      <th>0</th>\n",
       "      <td>2</td>\n",
       "      <td>0.455</td>\n",
       "      <td>0.365</td>\n",
       "      <td>0.095</td>\n",
       "      <td>0.5140</td>\n",
       "      <td>0.2245</td>\n",
       "      <td>0.1010</td>\n",
       "      <td>0.1500</td>\n",
       "    </tr>\n",
       "    <tr>\n",
       "      <th>1</th>\n",
       "      <td>2</td>\n",
       "      <td>0.350</td>\n",
       "      <td>0.265</td>\n",
       "      <td>0.090</td>\n",
       "      <td>0.2255</td>\n",
       "      <td>0.0995</td>\n",
       "      <td>0.0485</td>\n",
       "      <td>0.0700</td>\n",
       "    </tr>\n",
       "    <tr>\n",
       "      <th>2</th>\n",
       "      <td>0</td>\n",
       "      <td>0.530</td>\n",
       "      <td>0.420</td>\n",
       "      <td>0.135</td>\n",
       "      <td>0.6770</td>\n",
       "      <td>0.2565</td>\n",
       "      <td>0.1415</td>\n",
       "      <td>0.2100</td>\n",
       "    </tr>\n",
       "    <tr>\n",
       "      <th>3</th>\n",
       "      <td>2</td>\n",
       "      <td>0.440</td>\n",
       "      <td>0.365</td>\n",
       "      <td>0.125</td>\n",
       "      <td>0.5160</td>\n",
       "      <td>0.2155</td>\n",
       "      <td>0.1140</td>\n",
       "      <td>0.1550</td>\n",
       "    </tr>\n",
       "    <tr>\n",
       "      <th>4</th>\n",
       "      <td>1</td>\n",
       "      <td>0.330</td>\n",
       "      <td>0.255</td>\n",
       "      <td>0.080</td>\n",
       "      <td>0.2050</td>\n",
       "      <td>0.0895</td>\n",
       "      <td>0.0395</td>\n",
       "      <td>0.0550</td>\n",
       "    </tr>\n",
       "    <tr>\n",
       "      <th>...</th>\n",
       "      <td>...</td>\n",
       "      <td>...</td>\n",
       "      <td>...</td>\n",
       "      <td>...</td>\n",
       "      <td>...</td>\n",
       "      <td>...</td>\n",
       "      <td>...</td>\n",
       "      <td>...</td>\n",
       "    </tr>\n",
       "    <tr>\n",
       "      <th>4172</th>\n",
       "      <td>0</td>\n",
       "      <td>0.565</td>\n",
       "      <td>0.450</td>\n",
       "      <td>0.165</td>\n",
       "      <td>0.8870</td>\n",
       "      <td>0.3700</td>\n",
       "      <td>0.2390</td>\n",
       "      <td>0.2490</td>\n",
       "    </tr>\n",
       "    <tr>\n",
       "      <th>4173</th>\n",
       "      <td>2</td>\n",
       "      <td>0.590</td>\n",
       "      <td>0.440</td>\n",
       "      <td>0.135</td>\n",
       "      <td>0.9660</td>\n",
       "      <td>0.4390</td>\n",
       "      <td>0.2145</td>\n",
       "      <td>0.2605</td>\n",
       "    </tr>\n",
       "    <tr>\n",
       "      <th>4174</th>\n",
       "      <td>2</td>\n",
       "      <td>0.600</td>\n",
       "      <td>0.475</td>\n",
       "      <td>0.205</td>\n",
       "      <td>1.1760</td>\n",
       "      <td>0.5255</td>\n",
       "      <td>0.2875</td>\n",
       "      <td>0.3080</td>\n",
       "    </tr>\n",
       "    <tr>\n",
       "      <th>4175</th>\n",
       "      <td>0</td>\n",
       "      <td>0.625</td>\n",
       "      <td>0.485</td>\n",
       "      <td>0.150</td>\n",
       "      <td>1.0945</td>\n",
       "      <td>0.5310</td>\n",
       "      <td>0.2610</td>\n",
       "      <td>0.2960</td>\n",
       "    </tr>\n",
       "    <tr>\n",
       "      <th>4176</th>\n",
       "      <td>2</td>\n",
       "      <td>0.710</td>\n",
       "      <td>0.555</td>\n",
       "      <td>0.195</td>\n",
       "      <td>1.9485</td>\n",
       "      <td>0.9455</td>\n",
       "      <td>0.3765</td>\n",
       "      <td>0.4950</td>\n",
       "    </tr>\n",
       "  </tbody>\n",
       "</table>\n",
       "<p>4177 rows × 8 columns</p>\n",
       "</div>"
      ],
      "text/plain": [
       "      Sex  Length  Diameter  Height  Whole weight  Shucked weight  \\\n",
       "0       2   0.455     0.365   0.095        0.5140          0.2245   \n",
       "1       2   0.350     0.265   0.090        0.2255          0.0995   \n",
       "2       0   0.530     0.420   0.135        0.6770          0.2565   \n",
       "3       2   0.440     0.365   0.125        0.5160          0.2155   \n",
       "4       1   0.330     0.255   0.080        0.2050          0.0895   \n",
       "...   ...     ...       ...     ...           ...             ...   \n",
       "4172    0   0.565     0.450   0.165        0.8870          0.3700   \n",
       "4173    2   0.590     0.440   0.135        0.9660          0.4390   \n",
       "4174    2   0.600     0.475   0.205        1.1760          0.5255   \n",
       "4175    0   0.625     0.485   0.150        1.0945          0.5310   \n",
       "4176    2   0.710     0.555   0.195        1.9485          0.9455   \n",
       "\n",
       "      Viscera weight  Shell weight  \n",
       "0             0.1010        0.1500  \n",
       "1             0.0485        0.0700  \n",
       "2             0.1415        0.2100  \n",
       "3             0.1140        0.1550  \n",
       "4             0.0395        0.0550  \n",
       "...              ...           ...  \n",
       "4172          0.2390        0.2490  \n",
       "4173          0.2145        0.2605  \n",
       "4174          0.2875        0.3080  \n",
       "4175          0.2610        0.2960  \n",
       "4176          0.3765        0.4950  \n",
       "\n",
       "[4177 rows x 8 columns]"
      ]
     },
     "execution_count": 29,
     "metadata": {},
     "output_type": "execute_result"
    }
   ],
   "source": [
    "x=df.drop('Rings', axis=1)\n",
    "y=df['Rings']\n",
    "x"
   ]
  },
  {
   "cell_type": "code",
   "execution_count": 30,
   "id": "1d178127",
   "metadata": {},
   "outputs": [
    {
     "data": {
      "text/plain": [
       "0       15\n",
       "1        7\n",
       "2        9\n",
       "3       10\n",
       "4        7\n",
       "        ..\n",
       "4172    11\n",
       "4173    10\n",
       "4174     9\n",
       "4175    10\n",
       "4176    12\n",
       "Name: Rings, Length: 4177, dtype: int64"
      ]
     },
     "execution_count": 30,
     "metadata": {},
     "output_type": "execute_result"
    }
   ],
   "source": [
    "y"
   ]
  },
  {
   "cell_type": "code",
   "execution_count": 31,
   "id": "186459e6",
   "metadata": {},
   "outputs": [
    {
     "data": {
      "text/plain": [
       "Height            3.166698\n",
       "Shucked weight    0.719098\n",
       "Shell weight      0.620927\n",
       "Viscera weight    0.591852\n",
       "Whole weight      0.530959\n",
       "Sex              -0.098155\n",
       "Diameter         -0.609198\n",
       "Length           -0.639873\n",
       "dtype: float64"
      ]
     },
     "execution_count": 31,
     "metadata": {},
     "output_type": "execute_result"
    }
   ],
   "source": [
    "# Cheking Skewness\n",
    "x.skew().sort_values(ascending=False)"
   ]
  },
  {
   "cell_type": "markdown",
   "id": "c0daaddf",
   "metadata": {},
   "source": [
    "We can see we have skewness in 'Height'. So we will remove skewness using power_transformation."
   ]
  },
  {
   "cell_type": "code",
   "execution_count": 32,
   "id": "2e793f67",
   "metadata": {},
   "outputs": [],
   "source": [
    "from sklearn.preprocessing import power_transform\n",
    "x_new=power_transform(x)"
   ]
  },
  {
   "cell_type": "code",
   "execution_count": 33,
   "id": "c0c9883c",
   "metadata": {},
   "outputs": [
    {
     "data": {
      "text/plain": [
       "numpy.ndarray"
      ]
     },
     "execution_count": 33,
     "metadata": {},
     "output_type": "execute_result"
    }
   ],
   "source": [
    "type(x_new)"
   ]
  },
  {
   "cell_type": "code",
   "execution_count": 34,
   "id": "1ee9fd86",
   "metadata": {},
   "outputs": [
    {
     "data": {
      "text/plain": [
       "Index(['Sex', 'Length', 'Diameter', 'Height', 'Whole weight', 'Shucked weight',\n",
       "       'Viscera weight', 'Shell weight'],\n",
       "      dtype='object')"
      ]
     },
     "execution_count": 34,
     "metadata": {},
     "output_type": "execute_result"
    }
   ],
   "source": [
    "x.columns"
   ]
  },
  {
   "cell_type": "code",
   "execution_count": 35,
   "id": "a35ca987",
   "metadata": {},
   "outputs": [],
   "source": [
    "x=pd.DataFrame(x_new, columns=x.columns)"
   ]
  },
  {
   "cell_type": "code",
   "execution_count": 36,
   "id": "c9ce3336",
   "metadata": {},
   "outputs": [
    {
     "data": {
      "text/html": [
       "<div>\n",
       "<style scoped>\n",
       "    .dataframe tbody tr th:only-of-type {\n",
       "        vertical-align: middle;\n",
       "    }\n",
       "\n",
       "    .dataframe tbody tr th {\n",
       "        vertical-align: top;\n",
       "    }\n",
       "\n",
       "    .dataframe thead th {\n",
       "        text-align: right;\n",
       "    }\n",
       "</style>\n",
       "<table border=\"1\" class=\"dataframe\">\n",
       "  <thead>\n",
       "    <tr style=\"text-align: right;\">\n",
       "      <th></th>\n",
       "      <th>Sex</th>\n",
       "      <th>Length</th>\n",
       "      <th>Diameter</th>\n",
       "      <th>Height</th>\n",
       "      <th>Whole weight</th>\n",
       "      <th>Shucked weight</th>\n",
       "      <th>Viscera weight</th>\n",
       "      <th>Shell weight</th>\n",
       "    </tr>\n",
       "  </thead>\n",
       "  <tbody>\n",
       "    <tr>\n",
       "      <th>0</th>\n",
       "      <td>1.127072</td>\n",
       "      <td>-0.685502</td>\n",
       "      <td>-0.549860</td>\n",
       "      <td>-1.130946</td>\n",
       "      <td>-0.576766</td>\n",
       "      <td>-0.540989</td>\n",
       "      <td>-0.693283</td>\n",
       "      <td>-0.587809</td>\n",
       "    </tr>\n",
       "    <tr>\n",
       "      <th>1</th>\n",
       "      <td>1.127072</td>\n",
       "      <td>-1.396344</td>\n",
       "      <td>-1.387333</td>\n",
       "      <td>-1.271791</td>\n",
       "      <td>-1.351761</td>\n",
       "      <td>-1.311662</td>\n",
       "      <td>-1.332953</td>\n",
       "      <td>-1.332420</td>\n",
       "    </tr>\n",
       "    <tr>\n",
       "      <th>2</th>\n",
       "      <td>-1.307935</td>\n",
       "      <td>-0.070774</td>\n",
       "      <td>0.008537</td>\n",
       "      <td>-0.065468</td>\n",
       "      <td>-0.198099</td>\n",
       "      <td>-0.366116</td>\n",
       "      <td>-0.255135</td>\n",
       "      <td>-0.098262</td>\n",
       "    </tr>\n",
       "    <tr>\n",
       "      <th>3</th>\n",
       "      <td>1.127072</td>\n",
       "      <td>-0.797286</td>\n",
       "      <td>-0.549860</td>\n",
       "      <td>-0.322021</td>\n",
       "      <td>-0.571893</td>\n",
       "      <td>-0.591672</td>\n",
       "      <td>-0.547782</td>\n",
       "      <td>-0.544931</td>\n",
       "    </tr>\n",
       "    <tr>\n",
       "      <th>4</th>\n",
       "      <td>-0.009459</td>\n",
       "      <td>-1.513796</td>\n",
       "      <td>-1.459659</td>\n",
       "      <td>-1.558919</td>\n",
       "      <td>-1.413146</td>\n",
       "      <td>-1.380201</td>\n",
       "      <td>-1.451759</td>\n",
       "      <td>-1.485528</td>\n",
       "    </tr>\n",
       "    <tr>\n",
       "      <th>...</th>\n",
       "      <td>...</td>\n",
       "      <td>...</td>\n",
       "      <td>...</td>\n",
       "      <td>...</td>\n",
       "      <td>...</td>\n",
       "      <td>...</td>\n",
       "      <td>...</td>\n",
       "      <td>...</td>\n",
       "    </tr>\n",
       "    <tr>\n",
       "      <th>4172</th>\n",
       "      <td>-1.307935</td>\n",
       "      <td>0.249836</td>\n",
       "      <td>0.345636</td>\n",
       "      <td>0.667866</td>\n",
       "      <td>0.241948</td>\n",
       "      <td>0.194158</td>\n",
       "      <td>0.639623</td>\n",
       "      <td>0.193008</td>\n",
       "    </tr>\n",
       "    <tr>\n",
       "      <th>4173</th>\n",
       "      <td>1.127072</td>\n",
       "      <td>0.492813</td>\n",
       "      <td>0.230611</td>\n",
       "      <td>-0.065468</td>\n",
       "      <td>0.395706</td>\n",
       "      <td>0.495450</td>\n",
       "      <td>0.433568</td>\n",
       "      <td>0.275215</td>\n",
       "    </tr>\n",
       "    <tr>\n",
       "      <th>4174</th>\n",
       "      <td>1.127072</td>\n",
       "      <td>0.593366</td>\n",
       "      <td>0.645191</td>\n",
       "      <td>1.567887</td>\n",
       "      <td>0.777944</td>\n",
       "      <td>0.838137</td>\n",
       "      <td>1.015607</td>\n",
       "      <td>0.598398</td>\n",
       "    </tr>\n",
       "    <tr>\n",
       "      <th>4175</th>\n",
       "      <td>-1.307935</td>\n",
       "      <td>0.853375</td>\n",
       "      <td>0.769928</td>\n",
       "      <td>0.307824</td>\n",
       "      <td>0.633874</td>\n",
       "      <td>0.858739</td>\n",
       "      <td>0.815184</td>\n",
       "      <td>0.519145</td>\n",
       "    </tr>\n",
       "    <tr>\n",
       "      <th>4176</th>\n",
       "      <td>1.127072</td>\n",
       "      <td>1.834478</td>\n",
       "      <td>1.726289</td>\n",
       "      <td>1.350689</td>\n",
       "      <td>1.937323</td>\n",
       "      <td>2.103648</td>\n",
       "      <td>1.611344</td>\n",
       "      <td>1.658488</td>\n",
       "    </tr>\n",
       "  </tbody>\n",
       "</table>\n",
       "<p>4177 rows × 8 columns</p>\n",
       "</div>"
      ],
      "text/plain": [
       "           Sex    Length  Diameter    Height  Whole weight  Shucked weight  \\\n",
       "0     1.127072 -0.685502 -0.549860 -1.130946     -0.576766       -0.540989   \n",
       "1     1.127072 -1.396344 -1.387333 -1.271791     -1.351761       -1.311662   \n",
       "2    -1.307935 -0.070774  0.008537 -0.065468     -0.198099       -0.366116   \n",
       "3     1.127072 -0.797286 -0.549860 -0.322021     -0.571893       -0.591672   \n",
       "4    -0.009459 -1.513796 -1.459659 -1.558919     -1.413146       -1.380201   \n",
       "...        ...       ...       ...       ...           ...             ...   \n",
       "4172 -1.307935  0.249836  0.345636  0.667866      0.241948        0.194158   \n",
       "4173  1.127072  0.492813  0.230611 -0.065468      0.395706        0.495450   \n",
       "4174  1.127072  0.593366  0.645191  1.567887      0.777944        0.838137   \n",
       "4175 -1.307935  0.853375  0.769928  0.307824      0.633874        0.858739   \n",
       "4176  1.127072  1.834478  1.726289  1.350689      1.937323        2.103648   \n",
       "\n",
       "      Viscera weight  Shell weight  \n",
       "0          -0.693283     -0.587809  \n",
       "1          -1.332953     -1.332420  \n",
       "2          -0.255135     -0.098262  \n",
       "3          -0.547782     -0.544931  \n",
       "4          -1.451759     -1.485528  \n",
       "...              ...           ...  \n",
       "4172        0.639623      0.193008  \n",
       "4173        0.433568      0.275215  \n",
       "4174        1.015607      0.598398  \n",
       "4175        0.815184      0.519145  \n",
       "4176        1.611344      1.658488  \n",
       "\n",
       "[4177 rows x 8 columns]"
      ]
     },
     "execution_count": 36,
     "metadata": {},
     "output_type": "execute_result"
    }
   ],
   "source": [
    "x"
   ]
  },
  {
   "cell_type": "code",
   "execution_count": 37,
   "id": "0e299853",
   "metadata": {},
   "outputs": [
    {
     "data": {
      "text/plain": [
       "Viscera weight    0.039780\n",
       "Shucked weight    0.027351\n",
       "Shell weight      0.023390\n",
       "Whole weight     -0.003980\n",
       "Diameter         -0.065977\n",
       "Length           -0.066669\n",
       "Height           -0.113615\n",
       "Sex              -0.176442\n",
       "dtype: float64"
      ]
     },
     "execution_count": 37,
     "metadata": {},
     "output_type": "execute_result"
    }
   ],
   "source": [
    "# Again Cheking Skewness if it has been removed \n",
    "x.skew().sort_values(ascending=False)"
   ]
  },
  {
   "cell_type": "code",
   "execution_count": 38,
   "id": "32505d92",
   "metadata": {},
   "outputs": [
    {
     "data": {
      "text/plain": [
       "Sex              -0.176442\n",
       "Length           -0.066669\n",
       "Diameter         -0.065977\n",
       "Height           -0.113615\n",
       "Whole weight     -0.003980\n",
       "Shucked weight    0.027351\n",
       "Viscera weight    0.039780\n",
       "Shell weight      0.023390\n",
       "dtype: float64"
      ]
     },
     "execution_count": 38,
     "metadata": {},
     "output_type": "execute_result"
    }
   ],
   "source": [
    "sk=x.skew()\n",
    "sk"
   ]
  },
  {
   "cell_type": "code",
   "execution_count": 39,
   "id": "678fec02",
   "metadata": {},
   "outputs": [
    {
     "data": {
      "text/plain": [
       "True"
      ]
     },
     "execution_count": 39,
     "metadata": {},
     "output_type": "execute_result"
    }
   ],
   "source": [
    "x.skew()[np.abs(x.skew())<0.25].all()"
   ]
  },
  {
   "cell_type": "markdown",
   "id": "7d1bf72e",
   "metadata": {},
   "source": [
    "### Outliers check"
   ]
  },
  {
   "cell_type": "code",
   "execution_count": 40,
   "id": "e164d482",
   "metadata": {},
   "outputs": [
    {
     "data": {
      "text/plain": [
       "Sex                  AxesSubplot(0.125,0.536818;0.133621x0.343182)\n",
       "Length            AxesSubplot(0.285345,0.536818;0.133621x0.343182)\n",
       "Diameter           AxesSubplot(0.44569,0.536818;0.133621x0.343182)\n",
       "Height            AxesSubplot(0.606034,0.536818;0.133621x0.343182)\n",
       "Whole weight      AxesSubplot(0.766379,0.536818;0.133621x0.343182)\n",
       "Shucked weight          AxesSubplot(0.125,0.125;0.133621x0.343182)\n",
       "Viscera weight       AxesSubplot(0.285345,0.125;0.133621x0.343182)\n",
       "Shell weight          AxesSubplot(0.44569,0.125;0.133621x0.343182)\n",
       "Rings                AxesSubplot(0.606034,0.125;0.133621x0.343182)\n",
       "dtype: object"
      ]
     },
     "execution_count": 40,
     "metadata": {},
     "output_type": "execute_result"
    },
    {
     "data": {
      "image/png": "[encoded data removed]",
      "text/plain": [
       "<Figure size 720x720 with 10 Axes>"
      ]
     },
     "metadata": {
      "needs_background": "light"
     },
     "output_type": "display_data"
    }
   ],
   "source": [
    "df.plot(kind='box',subplots=True,layout=(2,5),figsize=(10,10))"
   ]
  },
  {
   "cell_type": "markdown",
   "id": "e5e956a4",
   "metadata": {},
   "source": [
    "Here we can see there are so many outliers in ['Length'],['Diameter'],['Whole weight'], ['Shucked weight'],[\"Viscera weight\"], ['Shell weight'] and ['Rings']"
   ]
  },
  {
   "cell_type": "markdown",
   "id": "e39e70ec",
   "metadata": {},
   "source": [
    "### Removing Outliers"
   ]
  },
  {
   "cell_type": "code",
   "execution_count": 41,
   "id": "9ee1aa71",
   "metadata": {},
   "outputs": [
    {
     "data": {
      "text/plain": [
       "array([[1.15198011, 0.57455813, 0.43214879, ..., 0.72621157, 0.63821689,\n",
       "        1.57154357],\n",
       "       [1.15198011, 1.44898585, 1.439929  , ..., 1.20522124, 1.21298732,\n",
       "        0.91001299],\n",
       "       [1.28068972, 0.05003309, 0.12213032, ..., 0.35668983, 0.20713907,\n",
       "        0.28962385],\n",
       "       ...,\n",
       "       [1.15198011, 0.6329849 , 0.67640943, ..., 0.97541324, 0.49695471,\n",
       "        0.28962385],\n",
       "       [1.28068972, 0.84118198, 0.77718745, ..., 0.73362741, 0.41073914,\n",
       "        0.02057072],\n",
       "       [1.15198011, 1.54905203, 1.48263359, ..., 1.78744868, 1.84048058,\n",
       "        0.64095986]])"
      ]
     },
     "execution_count": 41,
     "metadata": {},
     "output_type": "execute_result"
    }
   ],
   "source": [
    "from scipy.stats import zscore\n",
    "\n",
    "z=np.abs(zscore(df))\n",
    "z"
   ]
  },
  {
   "cell_type": "code",
   "execution_count": 42,
   "id": "a3d1d66c",
   "metadata": {},
   "outputs": [
    {
     "data": {
      "text/plain": [
       "(4177, 9)"
      ]
     },
     "execution_count": 42,
     "metadata": {},
     "output_type": "execute_result"
    }
   ],
   "source": [
    "z.shape"
   ]
  },
  {
   "cell_type": "code",
   "execution_count": 43,
   "id": "00332672",
   "metadata": {},
   "outputs": [
    {
     "name": "stdout",
     "output_type": "stream",
     "text": [
      "(array([   6,   72,   81,   83,  129,  163,  164,  165,  165,  165,  166,\n",
      "        166,  167,  168,  170,  181,  232,  236,  236,  236,  237,  237,\n",
      "        238,  238,  239,  270,  275,  277,  278,  294,  310,  313,  314,\n",
      "        334,  351,  355,  358,  358,  362,  375,  416,  417,  428,  431,\n",
      "        433,  469,  478,  480,  501,  526,  526,  530,  572,  628,  673,\n",
      "        674,  675,  678,  694,  696,  696,  719,  719,  720,  720,  744,\n",
      "        754,  756,  811,  891,  891,  891, 1048, 1051, 1051, 1052, 1193,\n",
      "       1197, 1199, 1202, 1204, 1206, 1206, 1207, 1207, 1207, 1207, 1209,\n",
      "       1209, 1417, 1417, 1418, 1422, 1426, 1427, 1427, 1427, 1428, 1429,\n",
      "       1429, 1528, 1754, 1756, 1757, 1759, 1761, 1762, 1762, 1762, 1763,\n",
      "       1763, 1763, 1821, 1982, 1986, 1987, 1987, 2051, 2090, 2108, 2108,\n",
      "       2114, 2114, 2157, 2161, 2176, 2180, 2199, 2201, 2208, 2209, 2274,\n",
      "       2275, 2305, 2334, 2334, 2334, 2335, 2344, 2358, 2368, 2381, 2436,\n",
      "       2459, 2471, 2544, 2623, 2624, 2624, 2624, 2625, 2709, 2710, 2710,\n",
      "       2810, 2810, 2811, 2811, 2811, 2862, 2863, 2863, 2863, 3007, 3008,\n",
      "       3140, 3148, 3149, 3149, 3151, 3151, 3188, 3193, 3280, 3359, 3427,\n",
      "       3427, 3427, 3599, 3599, 3628, 3713, 3715, 3715, 3715, 3715, 3800,\n",
      "       3837, 3899, 3899, 3902, 3924, 3930, 3944, 3961, 3962, 4145, 4148],\n",
      "      dtype=int64), array([8, 8, 7, 8, 7, 7, 7, 4, 5, 7, 7, 8, 8, 7, 6, 8, 8, 1, 2, 3, 1, 2,\n",
      "       1, 2, 1, 8, 8, 7, 8, 8, 8, 8, 8, 7, 8, 8, 4, 7, 8, 8, 8, 8, 8, 8,\n",
      "       8, 8, 8, 8, 8, 1, 2, 8, 8, 8, 8, 8, 8, 8, 2, 1, 2, 1, 2, 1, 2, 8,\n",
      "       8, 8, 8, 4, 5, 7, 6, 4, 5, 4, 5, 5, 5, 5, 6, 5, 6, 4, 5, 6, 7, 4,\n",
      "       5, 3, 5, 5, 6, 5, 4, 5, 6, 7, 1, 2, 5, 5, 5, 6, 6, 5, 4, 5, 6, 4,\n",
      "       5, 6, 5, 5, 1, 1, 2, 3, 7, 7, 8, 1, 2, 7, 7, 8, 8, 8, 8, 7, 8, 7,\n",
      "       8, 8, 4, 6, 8, 8, 8, 8, 7, 1, 8, 8, 8, 5, 4, 4, 5, 6, 5, 6, 5, 6,\n",
      "       5, 6, 4, 5, 6, 5, 4, 5, 6, 5, 7, 8, 7, 7, 8, 7, 8, 7, 8, 8, 8, 4,\n",
      "       5, 6, 4, 5, 6, 5, 4, 5, 6, 7, 4, 2, 1, 2, 1, 8, 8, 8, 5, 5, 7, 6],\n",
      "      dtype=int64))\n"
     ]
    }
   ],
   "source": [
    "threshold=3\n",
    "print(np.where(z>3))"
   ]
  },
  {
   "cell_type": "code",
   "execution_count": 44,
   "id": "a76a8d42",
   "metadata": {},
   "outputs": [
    {
     "data": {
      "text/html": [
       "<div>\n",
       "<style scoped>\n",
       "    .dataframe tbody tr th:only-of-type {\n",
       "        vertical-align: middle;\n",
       "    }\n",
       "\n",
       "    .dataframe tbody tr th {\n",
       "        vertical-align: top;\n",
       "    }\n",
       "\n",
       "    .dataframe thead th {\n",
       "        text-align: right;\n",
       "    }\n",
       "</style>\n",
       "<table border=\"1\" class=\"dataframe\">\n",
       "  <thead>\n",
       "    <tr style=\"text-align: right;\">\n",
       "      <th></th>\n",
       "      <th>Sex</th>\n",
       "      <th>Length</th>\n",
       "      <th>Diameter</th>\n",
       "      <th>Height</th>\n",
       "      <th>Whole weight</th>\n",
       "      <th>Shucked weight</th>\n",
       "      <th>Viscera weight</th>\n",
       "      <th>Shell weight</th>\n",
       "      <th>Rings</th>\n",
       "    </tr>\n",
       "  </thead>\n",
       "  <tbody>\n",
       "    <tr>\n",
       "      <th>0</th>\n",
       "      <td>2</td>\n",
       "      <td>0.455</td>\n",
       "      <td>0.365</td>\n",
       "      <td>0.095</td>\n",
       "      <td>0.5140</td>\n",
       "      <td>0.2245</td>\n",
       "      <td>0.1010</td>\n",
       "      <td>0.1500</td>\n",
       "      <td>15</td>\n",
       "    </tr>\n",
       "    <tr>\n",
       "      <th>1</th>\n",
       "      <td>2</td>\n",
       "      <td>0.350</td>\n",
       "      <td>0.265</td>\n",
       "      <td>0.090</td>\n",
       "      <td>0.2255</td>\n",
       "      <td>0.0995</td>\n",
       "      <td>0.0485</td>\n",
       "      <td>0.0700</td>\n",
       "      <td>7</td>\n",
       "    </tr>\n",
       "    <tr>\n",
       "      <th>2</th>\n",
       "      <td>0</td>\n",
       "      <td>0.530</td>\n",
       "      <td>0.420</td>\n",
       "      <td>0.135</td>\n",
       "      <td>0.6770</td>\n",
       "      <td>0.2565</td>\n",
       "      <td>0.1415</td>\n",
       "      <td>0.2100</td>\n",
       "      <td>9</td>\n",
       "    </tr>\n",
       "    <tr>\n",
       "      <th>3</th>\n",
       "      <td>2</td>\n",
       "      <td>0.440</td>\n",
       "      <td>0.365</td>\n",
       "      <td>0.125</td>\n",
       "      <td>0.5160</td>\n",
       "      <td>0.2155</td>\n",
       "      <td>0.1140</td>\n",
       "      <td>0.1550</td>\n",
       "      <td>10</td>\n",
       "    </tr>\n",
       "    <tr>\n",
       "      <th>4</th>\n",
       "      <td>1</td>\n",
       "      <td>0.330</td>\n",
       "      <td>0.255</td>\n",
       "      <td>0.080</td>\n",
       "      <td>0.2050</td>\n",
       "      <td>0.0895</td>\n",
       "      <td>0.0395</td>\n",
       "      <td>0.0550</td>\n",
       "      <td>7</td>\n",
       "    </tr>\n",
       "    <tr>\n",
       "      <th>...</th>\n",
       "      <td>...</td>\n",
       "      <td>...</td>\n",
       "      <td>...</td>\n",
       "      <td>...</td>\n",
       "      <td>...</td>\n",
       "      <td>...</td>\n",
       "      <td>...</td>\n",
       "      <td>...</td>\n",
       "      <td>...</td>\n",
       "    </tr>\n",
       "    <tr>\n",
       "      <th>4172</th>\n",
       "      <td>0</td>\n",
       "      <td>0.565</td>\n",
       "      <td>0.450</td>\n",
       "      <td>0.165</td>\n",
       "      <td>0.8870</td>\n",
       "      <td>0.3700</td>\n",
       "      <td>0.2390</td>\n",
       "      <td>0.2490</td>\n",
       "      <td>11</td>\n",
       "    </tr>\n",
       "    <tr>\n",
       "      <th>4173</th>\n",
       "      <td>2</td>\n",
       "      <td>0.590</td>\n",
       "      <td>0.440</td>\n",
       "      <td>0.135</td>\n",
       "      <td>0.9660</td>\n",
       "      <td>0.4390</td>\n",
       "      <td>0.2145</td>\n",
       "      <td>0.2605</td>\n",
       "      <td>10</td>\n",
       "    </tr>\n",
       "    <tr>\n",
       "      <th>4174</th>\n",
       "      <td>2</td>\n",
       "      <td>0.600</td>\n",
       "      <td>0.475</td>\n",
       "      <td>0.205</td>\n",
       "      <td>1.1760</td>\n",
       "      <td>0.5255</td>\n",
       "      <td>0.2875</td>\n",
       "      <td>0.3080</td>\n",
       "      <td>9</td>\n",
       "    </tr>\n",
       "    <tr>\n",
       "      <th>4175</th>\n",
       "      <td>0</td>\n",
       "      <td>0.625</td>\n",
       "      <td>0.485</td>\n",
       "      <td>0.150</td>\n",
       "      <td>1.0945</td>\n",
       "      <td>0.5310</td>\n",
       "      <td>0.2610</td>\n",
       "      <td>0.2960</td>\n",
       "      <td>10</td>\n",
       "    </tr>\n",
       "    <tr>\n",
       "      <th>4176</th>\n",
       "      <td>2</td>\n",
       "      <td>0.710</td>\n",
       "      <td>0.555</td>\n",
       "      <td>0.195</td>\n",
       "      <td>1.9485</td>\n",
       "      <td>0.9455</td>\n",
       "      <td>0.3765</td>\n",
       "      <td>0.4950</td>\n",
       "      <td>12</td>\n",
       "    </tr>\n",
       "  </tbody>\n",
       "</table>\n",
       "<p>4029 rows × 9 columns</p>\n",
       "</div>"
      ],
      "text/plain": [
       "      Sex  Length  Diameter  Height  Whole weight  Shucked weight  \\\n",
       "0       2   0.455     0.365   0.095        0.5140          0.2245   \n",
       "1       2   0.350     0.265   0.090        0.2255          0.0995   \n",
       "2       0   0.530     0.420   0.135        0.6770          0.2565   \n",
       "3       2   0.440     0.365   0.125        0.5160          0.2155   \n",
       "4       1   0.330     0.255   0.080        0.2050          0.0895   \n",
       "...   ...     ...       ...     ...           ...             ...   \n",
       "4172    0   0.565     0.450   0.165        0.8870          0.3700   \n",
       "4173    2   0.590     0.440   0.135        0.9660          0.4390   \n",
       "4174    2   0.600     0.475   0.205        1.1760          0.5255   \n",
       "4175    0   0.625     0.485   0.150        1.0945          0.5310   \n",
       "4176    2   0.710     0.555   0.195        1.9485          0.9455   \n",
       "\n",
       "      Viscera weight  Shell weight  Rings  \n",
       "0             0.1010        0.1500     15  \n",
       "1             0.0485        0.0700      7  \n",
       "2             0.1415        0.2100      9  \n",
       "3             0.1140        0.1550     10  \n",
       "4             0.0395        0.0550      7  \n",
       "...              ...           ...    ...  \n",
       "4172          0.2390        0.2490     11  \n",
       "4173          0.2145        0.2605     10  \n",
       "4174          0.2875        0.3080      9  \n",
       "4175          0.2610        0.2960     10  \n",
       "4176          0.3765        0.4950     12  \n",
       "\n",
       "[4029 rows x 9 columns]"
      ]
     },
     "execution_count": 44,
     "metadata": {},
     "output_type": "execute_result"
    }
   ],
   "source": [
    "df_new=df[(z<3).all(axis=1)]\n",
    "df_new"
   ]
  },
  {
   "cell_type": "code",
   "execution_count": 45,
   "id": "d905a539",
   "metadata": {},
   "outputs": [
    {
     "name": "stdout",
     "output_type": "stream",
     "text": [
      "(4177, 9)\n",
      "(4029, 9)\n"
     ]
    }
   ],
   "source": [
    "print(df.shape)\n",
    "print(df_new.shape)"
   ]
  },
  {
   "cell_type": "markdown",
   "id": "5fb4d6c1",
   "metadata": {},
   "source": [
    "#### Percentage Data Loss"
   ]
  },
  {
   "cell_type": "code",
   "execution_count": 46,
   "id": "076b5c20",
   "metadata": {},
   "outputs": [
    {
     "name": "stdout",
     "output_type": "stream",
     "text": [
      "3.5432128321762026\n"
     ]
    }
   ],
   "source": [
    "loss_percent=(4177-4029)/4177*100\n",
    "print(loss_percent)"
   ]
  },
  {
   "cell_type": "markdown",
   "id": "0f20764f",
   "metadata": {},
   "source": [
    "3.5% of data is lost approximately while removing outliers"
   ]
  },
  {
   "cell_type": "markdown",
   "id": "1abc0d88",
   "metadata": {},
   "source": [
    "## Model Without Outliers"
   ]
  },
  {
   "cell_type": "markdown",
   "id": "4c4e530d",
   "metadata": {},
   "source": [
    "### Separating columns into Features and Target"
   ]
  },
  {
   "cell_type": "code",
   "execution_count": 47,
   "id": "b8b39b21",
   "metadata": {},
   "outputs": [],
   "source": [
    "x=df_new.iloc[:, :-1]\n",
    "y=df_new.iloc[:,-1]"
   ]
  },
  {
   "cell_type": "code",
   "execution_count": 48,
   "id": "53b5a4ff",
   "metadata": {},
   "outputs": [
    {
     "data": {
      "text/plain": [
       "(4029, 8)"
      ]
     },
     "execution_count": 48,
     "metadata": {},
     "output_type": "execute_result"
    }
   ],
   "source": [
    "x.shape"
   ]
  },
  {
   "cell_type": "code",
   "execution_count": 49,
   "id": "316ef00e",
   "metadata": {},
   "outputs": [
    {
     "data": {
      "text/plain": [
       "(4029,)"
      ]
     },
     "execution_count": 49,
     "metadata": {},
     "output_type": "execute_result"
    }
   ],
   "source": [
    "y.shape"
   ]
  },
  {
   "cell_type": "code",
   "execution_count": 50,
   "id": "11f3cb38",
   "metadata": {},
   "outputs": [
    {
     "data": {
      "text/plain": [
       "array([[ 1.16001565, -0.56860689, -0.41955773, ..., -0.60317574,\n",
       "        -0.72241757, -0.63069126],\n",
       "       [ 1.16001565, -1.47439758, -1.46217669, ..., -1.20881734,\n",
       "        -1.23041555, -1.25608841],\n",
       "       [-1.28566883,  0.07838645,  0.15388269, ..., -0.44813149,\n",
       "        -0.33053341, -0.16164339],\n",
       "       ...,\n",
       "       [ 1.16001565,  0.68224691,  0.72732312, ...,  0.85520923,\n",
       "         1.08218478,  0.60446812],\n",
       "       [-1.28566883,  0.89791136,  0.83158501, ...,  0.88185746,\n",
       "         0.82576675,  0.51065855],\n",
       "       [ 1.16001565,  1.63117048,  1.56141828, ...,  2.89016501,\n",
       "         1.94336231,  2.06633396]])"
      ]
     },
     "execution_count": 50,
     "metadata": {},
     "output_type": "execute_result"
    }
   ],
   "source": [
    "from sklearn.preprocessing import StandardScaler\n",
    "scale=StandardScaler()\n",
    "x=scale.fit_transform(x)\n",
    "x"
   ]
  },
  {
   "cell_type": "code",
   "execution_count": 51,
   "id": "1920fa72",
   "metadata": {},
   "outputs": [
    {
     "name": "stdout",
     "output_type": "stream",
     "text": [
      "Shape of x_train : (3223, 8)\n",
      "Shape of x_test : (806, 8)\n",
      "Shape of y_train : (3223,)\n",
      "Shape of y_test : (806,)\n"
     ]
    }
   ],
   "source": [
    "# seprating data into train and test \n",
    "x_train,x_test,y_train,y_test = train_test_split(x,y, test_size = 0.20, random_state =150)  \n",
    "# getting the shapes\n",
    "print(\"Shape of x_train :\", x_train.shape)\n",
    "print(\"Shape of x_test :\", x_test.shape)\n",
    "print(\"Shape of y_train :\", y_train.shape)\n",
    "print(\"Shape of y_test :\", y_test.shape)"
   ]
  },
  {
   "cell_type": "markdown",
   "id": "38f87e2a",
   "metadata": {},
   "source": [
    "## Training with different Models"
   ]
  },
  {
   "cell_type": "code",
   "execution_count": 52,
   "id": "40e2e6c8",
   "metadata": {
    "scrolled": true
   },
   "outputs": [
    {
     "name": "stdout",
     "output_type": "stream",
     "text": [
      "Mean_squared_error LogisticRegression() 5.186104218362283\n",
      "RMSE LogisticRegression() 2.2773019602947437\n",
      "r_score LogisticRegression() 38.73247056491539\n",
      "\n",
      "\n",
      "Mean_squared_error KNeighborsClassifier() 6.993796526054591\n",
      "RMSE KNeighborsClassifier() 2.644578704832698\n",
      "r_score KNeighborsClassifier() 17.376779084791405\n",
      "\n",
      "\n",
      "Mean_squared_error DecisionTreeClassifier() 6.437965260545906\n",
      "RMSE DecisionTreeClassifier() 2.537314576584052\n",
      "r_score DecisionTreeClassifier() 23.94325113907798\n",
      "\n",
      "\n",
      "Mean_squared_error SVR() 3.8632401912402514\n",
      "RMSE SVR() 1.9655127044209741\n",
      "r_score SVR() 54.360504115291654\n",
      "\n",
      "\n",
      "Mean_squared_error RandomForestClassifier() 5.352357320099256\n",
      "RMSE RandomForestClassifier() 2.3135162242999843\n",
      "r_score RandomForestClassifier() 36.76839187010646\n",
      "\n",
      "\n",
      "Mean_squared_error GaussianNB() 7.349875930521092\n",
      "RMSE GaussianNB() 2.7110654603902673\n",
      "r_score GaussianNB() 13.170132925014066\n",
      "\n",
      "\n"
     ]
    }
   ],
   "source": [
    "# taking all models in a list\n",
    "models = [LogisticRegression(),KNeighborsClassifier(),DecisionTreeClassifier(),SVR(),RandomForestClassifier(),GaussianNB()]\n",
    "\n",
    "# running loop for differents model\\\n",
    "for model in models:\n",
    "    model.fit(x_train,y_train)\n",
    "    pred = model.predict(x_test)\n",
    "    MSE = mean_squared_error(pred,y_test)\n",
    "    \n",
    "    print(\"Mean_squared_error\",model,MSE)\n",
    "    print(\"RMSE\",model, np.sqrt(MSE) )\n",
    "    print(\"r_score\",model,r2_score(y_test,pred)*100)\n",
    "    print(\"\\n\")"
   ]
  },
  {
   "cell_type": "markdown",
   "id": "b36f4ace",
   "metadata": {},
   "source": [
    "## Cross Validation"
   ]
  },
  {
   "cell_type": "code",
   "execution_count": 56,
   "id": "b5afbbf3",
   "metadata": {},
   "outputs": [
    {
     "name": "stdout",
     "output_type": "stream",
     "text": [
      "CV score for LogisticRegression()\n",
      "[0.26284438 0.27997022 0.28518243]\n",
      "0.27599900719781584\n",
      "0.009542011807764256\n",
      "\n",
      "\n",
      "CV score for KNeighborsClassifier()\n",
      "[0.2271035  0.2285927  0.23976173]\n",
      "0.231819310002482\n",
      "0.005648948462020861\n",
      "\n",
      "\n",
      "CV score for DecisionTreeClassifier()\n",
      "[0.18615041 0.21295607 0.19880864]\n",
      "0.19930503847108463\n",
      "0.010948992305839057\n",
      "\n",
      "\n",
      "CV score for SVR()\n",
      "[0.49544372 0.55521623 0.53404183]\n",
      "0.5282339277050607\n",
      "0.024745198048522654\n",
      "\n",
      "\n",
      "CV score for RandomForestClassifier()\n",
      "[0.23976173 0.25241996 0.27848101]\n",
      "0.2568875651526433\n",
      "0.01611966530764906\n",
      "\n",
      "\n",
      "CV score for GaussianNB()\n",
      "[0.20997766 0.26358898 0.25614296]\n",
      "0.24323653512037724\n",
      "0.023713220972938556\n",
      "\n",
      "\n"
     ]
    }
   ],
   "source": [
    "from sklearn.model_selection import cross_val_score\n",
    "for model in models:\n",
    "    score=cross_val_score(model,x,y,cv=3)\n",
    "    print('CV score for',model)\n",
    "    print(score)\n",
    "    print(score.mean())\n",
    "    print(score.std())\n",
    "    print('\\n')"
   ]
  },
  {
   "cell_type": "markdown",
   "id": "b70c2aea",
   "metadata": {},
   "source": [
    "We are getting best r_score in SVR model. Also the difference for score of cross validation and model testing in SVR model is least. So selecting SVR model to train the data."
   ]
  },
  {
   "cell_type": "code",
   "execution_count": null,
   "id": "79aae8ff",
   "metadata": {},
   "outputs": [],
   "source": []
  },
  {
   "cell_type": "markdown",
   "id": "603302ff",
   "metadata": {},
   "source": [
    "### Hyperparameter Tuning"
   ]
  },
  {
   "cell_type": "code",
   "execution_count": 57,
   "id": "044eb8f4",
   "metadata": {
    "scrolled": true
   },
   "outputs": [
    {
     "name": "stdout",
     "output_type": "stream",
     "text": [
      "Fitting 5 folds for each of 15 candidates, totalling 75 fits\n",
      "[CV 1/5] END ........C=0.1, gamma=1, kernel=rbf;, score=0.438 total time=   0.3s\n",
      "[CV 2/5] END ........C=0.1, gamma=1, kernel=rbf;, score=0.422 total time=   0.3s\n",
      "[CV 3/5] END ........C=0.1, gamma=1, kernel=rbf;, score=0.365 total time=   0.3s\n",
      "[CV 4/5] END ........C=0.1, gamma=1, kernel=rbf;, score=0.402 total time=   0.3s\n",
      "[CV 5/5] END ........C=0.1, gamma=1, kernel=rbf;, score=0.406 total time=   0.3s\n",
      "[CV 1/5] END ......C=0.1, gamma=0.1, kernel=rbf;, score=0.472 total time=   0.3s\n",
      "[CV 2/5] END ......C=0.1, gamma=0.1, kernel=rbf;, score=0.476 total time=   0.3s\n",
      "[CV 3/5] END ......C=0.1, gamma=0.1, kernel=rbf;, score=0.393 total time=   0.3s\n",
      "[CV 4/5] END ......C=0.1, gamma=0.1, kernel=rbf;, score=0.426 total time=   0.3s\n",
      "[CV 5/5] END ......C=0.1, gamma=0.1, kernel=rbf;, score=0.433 total time=   0.4s\n",
      "[CV 1/5] END .....C=0.1, gamma=0.01, kernel=rbf;, score=0.380 total time=   0.3s\n",
      "[CV 2/5] END .....C=0.1, gamma=0.01, kernel=rbf;, score=0.399 total time=   0.3s\n",
      "[CV 3/5] END .....C=0.1, gamma=0.01, kernel=rbf;, score=0.306 total time=   0.3s\n",
      "[CV 4/5] END .....C=0.1, gamma=0.01, kernel=rbf;, score=0.343 total time=   0.3s\n",
      "[CV 5/5] END .....C=0.1, gamma=0.01, kernel=rbf;, score=0.340 total time=   0.3s\n",
      "[CV 1/5] END ....C=0.1, gamma=0.001, kernel=rbf;, score=0.257 total time=   0.3s\n",
      "[CV 2/5] END ....C=0.1, gamma=0.001, kernel=rbf;, score=0.281 total time=   0.3s\n",
      "[CV 3/5] END ....C=0.1, gamma=0.001, kernel=rbf;, score=0.197 total time=   0.4s\n",
      "[CV 4/5] END ....C=0.1, gamma=0.001, kernel=rbf;, score=0.239 total time=   0.3s\n",
      "[CV 5/5] END ....C=0.1, gamma=0.001, kernel=rbf;, score=0.231 total time=   0.4s\n",
      "[CV 1/5] END ...C=0.1, gamma=0.0001, kernel=rbf;, score=0.047 total time=   0.4s\n",
      "[CV 2/5] END ...C=0.1, gamma=0.0001, kernel=rbf;, score=0.055 total time=   0.3s\n",
      "[CV 3/5] END ..C=0.1, gamma=0.0001, kernel=rbf;, score=-0.003 total time=   0.4s\n",
      "[CV 4/5] END ...C=0.1, gamma=0.0001, kernel=rbf;, score=0.043 total time=   0.4s\n",
      "[CV 5/5] END ...C=0.1, gamma=0.0001, kernel=rbf;, score=0.008 total time=   0.3s\n",
      "[CV 1/5] END ..........C=1, gamma=1, kernel=rbf;, score=0.530 total time=   0.3s\n",
      "[CV 2/5] END ..........C=1, gamma=1, kernel=rbf;, score=0.537 total time=   0.4s\n",
      "[CV 3/5] END ..........C=1, gamma=1, kernel=rbf;, score=0.481 total time=   0.3s\n",
      "[CV 4/5] END ..........C=1, gamma=1, kernel=rbf;, score=0.507 total time=   0.4s\n",
      "[CV 5/5] END ..........C=1, gamma=1, kernel=rbf;, score=0.506 total time=   0.4s\n",
      "[CV 1/5] END ........C=1, gamma=0.1, kernel=rbf;, score=0.554 total time=   0.3s\n",
      "[CV 2/5] END ........C=1, gamma=0.1, kernel=rbf;, score=0.566 total time=   0.3s\n",
      "[CV 3/5] END ........C=1, gamma=0.1, kernel=rbf;, score=0.489 total time=   0.4s\n",
      "[CV 4/5] END ........C=1, gamma=0.1, kernel=rbf;, score=0.511 total time=   0.3s\n",
      "[CV 5/5] END ........C=1, gamma=0.1, kernel=rbf;, score=0.519 total time=   0.3s\n",
      "[CV 1/5] END .......C=1, gamma=0.01, kernel=rbf;, score=0.481 total time=   0.3s\n",
      "[CV 2/5] END .......C=1, gamma=0.01, kernel=rbf;, score=0.507 total time=   0.3s\n",
      "[CV 3/5] END .......C=1, gamma=0.01, kernel=rbf;, score=0.414 total time=   0.3s\n",
      "[CV 4/5] END .......C=1, gamma=0.01, kernel=rbf;, score=0.443 total time=   0.3s\n",
      "[CV 5/5] END .......C=1, gamma=0.01, kernel=rbf;, score=0.448 total time=   0.3s\n",
      "[CV 1/5] END ......C=1, gamma=0.001, kernel=rbf;, score=0.376 total time=   0.3s\n",
      "[CV 2/5] END ......C=1, gamma=0.001, kernel=rbf;, score=0.402 total time=   0.3s\n",
      "[CV 3/5] END ......C=1, gamma=0.001, kernel=rbf;, score=0.305 total time=   0.3s\n",
      "[CV 4/5] END ......C=1, gamma=0.001, kernel=rbf;, score=0.344 total time=   0.3s\n",
      "[CV 5/5] END ......C=1, gamma=0.001, kernel=rbf;, score=0.335 total time=   0.3s\n",
      "[CV 1/5] END .....C=1, gamma=0.0001, kernel=rbf;, score=0.257 total time=   0.4s\n",
      "[CV 2/5] END .....C=1, gamma=0.0001, kernel=rbf;, score=0.282 total time=   0.4s\n",
      "[CV 3/5] END .....C=1, gamma=0.0001, kernel=rbf;, score=0.197 total time=   0.4s\n",
      "[CV 4/5] END .....C=1, gamma=0.0001, kernel=rbf;, score=0.239 total time=   0.4s\n",
      "[CV 5/5] END .....C=1, gamma=0.0001, kernel=rbf;, score=0.230 total time=   0.3s\n",
      "[CV 1/5] END .........C=10, gamma=1, kernel=rbf;, score=0.505 total time=   0.5s\n",
      "[CV 2/5] END .........C=10, gamma=1, kernel=rbf;, score=0.528 total time=   0.5s\n",
      "[CV 3/5] END .........C=10, gamma=1, kernel=rbf;, score=0.468 total time=   0.5s\n",
      "[CV 4/5] END .........C=10, gamma=1, kernel=rbf;, score=0.489 total time=   0.5s\n",
      "[CV 5/5] END .........C=10, gamma=1, kernel=rbf;, score=0.450 total time=   0.5s\n",
      "[CV 1/5] END .......C=10, gamma=0.1, kernel=rbf;, score=0.566 total time=   0.4s\n",
      "[CV 2/5] END .......C=10, gamma=0.1, kernel=rbf;, score=0.588 total time=   0.4s\n",
      "[CV 3/5] END .......C=10, gamma=0.1, kernel=rbf;, score=0.526 total time=   0.4s\n",
      "[CV 4/5] END .......C=10, gamma=0.1, kernel=rbf;, score=0.535 total time=   0.4s\n",
      "[CV 5/5] END .......C=10, gamma=0.1, kernel=rbf;, score=0.528 total time=   0.4s\n",
      "[CV 1/5] END ......C=10, gamma=0.01, kernel=rbf;, score=0.542 total time=   0.4s\n",
      "[CV 2/5] END ......C=10, gamma=0.01, kernel=rbf;, score=0.560 total time=   0.4s\n",
      "[CV 3/5] END ......C=10, gamma=0.01, kernel=rbf;, score=0.488 total time=   0.4s\n",
      "[CV 4/5] END ......C=10, gamma=0.01, kernel=rbf;, score=0.509 total time=   0.4s\n",
      "[CV 5/5] END ......C=10, gamma=0.01, kernel=rbf;, score=0.500 total time=   0.4s\n",
      "[CV 1/5] END .....C=10, gamma=0.001, kernel=rbf;, score=0.473 total time=   0.4s\n",
      "[CV 2/5] END .....C=10, gamma=0.001, kernel=rbf;, score=0.504 total time=   0.4s\n",
      "[CV 3/5] END .....C=10, gamma=0.001, kernel=rbf;, score=0.411 total time=   0.3s\n",
      "[CV 4/5] END .....C=10, gamma=0.001, kernel=rbf;, score=0.439 total time=   0.3s\n",
      "[CV 5/5] END .....C=10, gamma=0.001, kernel=rbf;, score=0.439 total time=   0.3s\n",
      "[CV 1/5] END ....C=10, gamma=0.0001, kernel=rbf;, score=0.373 total time=   0.4s\n",
      "[CV 2/5] END ....C=10, gamma=0.0001, kernel=rbf;, score=0.400 total time=   0.4s\n",
      "[CV 3/5] END ....C=10, gamma=0.0001, kernel=rbf;, score=0.305 total time=   0.4s\n",
      "[CV 4/5] END ....C=10, gamma=0.0001, kernel=rbf;, score=0.343 total time=   0.3s\n",
      "[CV 5/5] END ....C=10, gamma=0.0001, kernel=rbf;, score=0.334 total time=   0.3s\n"
     ]
    },
    {
     "data": {
      "text/plain": [
       "GridSearchCV(estimator=SVR(),\n",
       "             param_grid={'C': [0.1, 1, 10],\n",
       "                         'gamma': [1, 0.1, 0.01, 0.001, 0.0001],\n",
       "                         'kernel': ['rbf']},\n",
       "             verbose=3)"
      ]
     },
     "execution_count": 57,
     "metadata": {},
     "output_type": "execute_result"
    }
   ],
   "source": [
    "from sklearn.model_selection import GridSearchCV\n",
    "#Creating parameter list to pass in GridSearchCV\n",
    "\n",
    "# defining parameter range\n",
    "param_grid = {'C': [0.1, 1, 10],\n",
    "              'gamma': [1, 0.1, 0.01, 0.001, 0.0001],\n",
    "              'kernel': ['rbf']}\n",
    " \n",
    "grid = GridSearchCV(SVR(), param_grid, refit = True, verbose = 3)\n",
    " \n",
    "# fitting the model for grid search\n",
    "grid.fit(x_train, y_train)\n"
   ]
  },
  {
   "cell_type": "code",
   "execution_count": 58,
   "id": "f5e435cd",
   "metadata": {},
   "outputs": [
    {
     "name": "stdout",
     "output_type": "stream",
     "text": [
      "score 0.5483784998554044\n",
      "best parameter {'C': 10, 'gamma': 0.1, 'kernel': 'rbf'}\n",
      "best estimator SVR(C=10, gamma=0.1)\n"
     ]
    }
   ],
   "source": [
    "print(\"score\",grid.best_score_)\n",
    "print(\"best parameter\",grid.best_params_)\n",
    "print(\"best estimator\",grid.best_estimator_)\n",
    "grid_pred=grid.best_estimator_.predict(x_test) # predicting with best parameters"
   ]
  },
  {
   "cell_type": "code",
   "execution_count": null,
   "id": "83a43d4f",
   "metadata": {},
   "outputs": [],
   "source": []
  },
  {
   "cell_type": "markdown",
   "id": "914fe79d",
   "metadata": {},
   "source": [
    "observation\n",
    "\n",
    "since we have selected SVR as the final for model, we have applied randomized search CV for hypertuning and trained model with best parameters\n",
    "Basis on the best paramater, we have used cross_validation\n",
    "cross validaion with 3 iteration it gives best score ( mean with 0.0247 standard deviation)\n",
    "saving the model with this"
   ]
  },
  {
   "cell_type": "code",
   "execution_count": null,
   "id": "8937850f",
   "metadata": {},
   "outputs": [],
   "source": []
  },
  {
   "cell_type": "code",
   "execution_count": 59,
   "id": "2d0ae864",
   "metadata": {},
   "outputs": [
    {
     "name": "stdout",
     "output_type": "stream",
     "text": [
      "Predicted number of Rings [10.94497058  9.03218823  9.84929874 10.0042146  10.2569967   6.42027099\n",
      "  7.57366343  6.10606528  9.6472628   7.92590713 10.29332069 11.02802579\n",
      "  6.56052812 10.50588324  9.70164531  9.39036503 11.10646136  9.937948\n",
      "  6.48514827  9.91488775  9.7037102   9.34800014  7.47917468  9.9513974\n",
      "  9.75011421  8.51209543 12.45718162 12.1741288  15.00345702  6.79257923\n",
      "  9.01933083 12.34154405  7.15832442  4.60696072 10.71755889  3.91260191\n",
      " 13.33892571 11.00968412 15.56058722  4.35748724 13.29563513  8.2594171\n",
      "  8.68830479 10.19496901  9.07107035  9.05096029 13.12732524  9.81881495\n",
      "  6.89466312 10.43915078  5.22276034  8.13823589  5.88937589 10.81771756\n",
      "  9.39766313  8.30960399  7.39228864 13.6716516  11.33296092  9.04916331\n",
      "  6.43040562 10.17214265  9.27160412  6.36760917  7.76732647 12.59169706\n",
      "  9.89503583  8.09739519 11.56395576  7.7791843  10.64276976  6.75597833\n",
      " 10.3769527  15.32066402 11.80205528 10.94476113  9.12640237 13.15908523\n",
      "  9.99924777  7.57752394  7.28145424  8.6309173  12.64588155 10.29475189\n",
      " 10.56325443  8.07705541 12.05724666  6.82627968  9.56374707 10.94502594\n",
      "  9.96956437 10.03152733 10.47503366  6.82022574 11.33872132 13.56759881\n",
      " 10.0397129  17.07214615  9.79775737 10.3420228   9.81183597 12.12659171\n",
      "  7.21701784  8.02780653 10.46742754 10.00791858 10.1176329  11.7681875\n",
      "  8.66398159 10.73908451 12.06992406  5.12278782 11.25086406  6.57472586\n",
      " 12.9698057   9.40981843  8.69474533 10.10404228  8.8264903   9.55808904\n",
      "  9.42273999 10.31756254  9.60973582  8.60714387  9.50224914 12.88599698\n",
      " 10.40813027 11.6873275  11.23606617  9.59930686  7.08547506  8.30463116\n",
      " 11.77183613  9.90724417  6.44535091  4.03326892 14.49723112  6.51683267\n",
      "  8.46323411  9.26180984  4.07809695  9.14932061 11.67950238 11.02498197\n",
      "  5.89390329  7.50134149  9.44654934  6.88133399 12.95713099  9.76423831\n",
      "  8.80107697  9.16061068  6.4770192  12.54917695 11.89152644  8.67563995\n",
      "  9.47725206  6.58464486 10.28145298 12.85452076 10.72377693  6.18360964\n",
      "  9.74915594  8.06856181 10.34258374 11.86184429  8.46345168 11.13776647\n",
      " 10.04046312 12.44988522 11.85295849  6.66897118  7.0424669  13.63642474\n",
      "  5.68240753 10.82883431  8.00649611  9.39573514 10.38503783  9.95552826\n",
      "  8.36256925  8.06601329 10.84385228 10.48016426  9.67327803 10.54614951\n",
      " 10.53458983  9.53073181  9.75800446  8.9513998   8.01937687  9.46988506\n",
      " 15.91182628 10.15505148 10.38092951 13.94779349  4.00782894 10.68604384\n",
      "  8.68761411 10.8586113   9.26175584 10.27121076  6.75662611 11.52498021\n",
      "  7.34968502  8.30792948  6.81032391  9.68312146 10.47199318 10.51662089\n",
      " 10.22792614 10.29064081  4.72449274  4.62292796 12.57168466  9.11443859\n",
      " 11.8328006  10.90968476 10.31200567  8.34316008 10.85631829  5.60922121\n",
      " 11.82521166 10.41373192 11.94652459  8.61941629 10.121143    9.01326951\n",
      "  8.93806424  8.45005208  9.43537711  9.82405566 10.19019026  6.70699599\n",
      "  8.83462989  9.57569616  6.7790734  12.26755083  8.19934978 10.17865532\n",
      "  7.97375773 11.05136629  8.71502496 10.51746331 10.80028637  8.64415691\n",
      "  9.40445457 11.48973093 10.20086278  9.58102749  8.7145248   9.08027116\n",
      "  9.77563491  6.32625932  9.38329621  6.94092618  8.10500405  8.14588097\n",
      "  6.05625041  8.87756623  9.25311982  7.84927569  7.36833894 11.86413997\n",
      "  9.10688351  6.65474022  9.14711803 10.18820039 12.10871947  8.0988914\n",
      "  9.70213258 10.3500495   9.00741786  7.14977275 10.67086917 10.54155271\n",
      " 10.02503482  9.81263502  9.97113464 11.73378632  9.75429287  6.63454114\n",
      " 13.22012992 11.32875438  8.96648642 11.29633499  8.85187828 10.26294005\n",
      " 14.69650491 10.5268035   9.35138636  7.99299573 10.85624131  9.16265192\n",
      " 10.14475401  9.7870699  10.58334271 10.20985332 10.2482431   7.56023853\n",
      "  7.59409747  9.11066664  9.4842751  11.00584846 11.9291692   8.70576286\n",
      " 10.57476643 10.24348648  7.79001154 10.26728368  9.60411218 11.28406207\n",
      "  9.82784249  7.05115679  9.04235114 12.86917911  9.92482202  9.57077161\n",
      "  6.61885607  9.08864199  8.49772589  9.90881617  9.45950923  7.01468356\n",
      "  9.51323659  8.25896632 10.59309438 11.14374532  8.40685042 11.32288069\n",
      "  8.41829616  8.24838287  8.45214754 11.19485297  6.44683074 12.99759762\n",
      "  7.69597862 11.12514405  9.77981335 12.02635106  8.49214979 10.40304387\n",
      " 11.38332901  9.68480079  8.35071282  9.3895648   8.41720309  6.93862494\n",
      " 12.24329582  9.85422148  7.73232414  9.63246653  9.73846065  9.27468646\n",
      " 12.6973102   9.43163366  9.84409309  9.45748852 11.04787275  7.43579416\n",
      "  4.83729354 12.53226474 10.57338478 10.80610785 11.95985746  9.17530422\n",
      "  6.61243425  9.95617805 10.45375673  6.73809462 11.76312026  5.83671284\n",
      "  7.75945867  7.1985439  11.50798723  7.78849594  9.51260915  8.34325053\n",
      "  9.75669635  8.41368783  9.58266805 10.71348032 13.1685776   8.66989944\n",
      "  9.86716629  8.72478986  5.3726483  12.44447194 11.00104362  7.05678833\n",
      " 12.94648254  9.48884675  6.65645331 10.52783152 14.1929785   7.04410676\n",
      " 12.04075513 12.86688474 11.16999417 10.63916486  7.90309962 10.02017865\n",
      " 10.39241962 10.14361696  9.81028409  7.27510754  7.21363195  8.76195729\n",
      " 12.43849998  9.91422958  7.5503294  10.87773184 10.68356225 10.38861672\n",
      "  9.30371697 10.00835966  9.42040499 14.05760135  5.56625208  9.7919967\n",
      "  9.49810079 10.47667289 10.16102057 13.59105709  9.23760117 10.37999306\n",
      "  9.19896055 11.97617707 10.685761   13.01639824 13.04340258 10.44848093\n",
      "  7.04995178 10.2668013   9.86516759  6.22096062 10.97438277  8.63076646\n",
      "  8.24858442 14.85127226 11.70198804  8.18029519  8.57026325  8.9458924\n",
      " 10.59395073 12.69843488  9.57245436  6.5464288   4.17262736  9.4853743\n",
      " 11.23077295 11.03818349  8.23177727  8.32441052  5.50266644  7.89718998\n",
      " 10.25972501  9.66594464 11.09859728  4.90693958  9.41878902  9.84833118\n",
      "  8.31653405 13.13828727  8.7358214   6.83053041  7.34430275  8.15873283\n",
      " 10.54883108 11.92464509 11.50675647 10.03295435 10.33420467  6.62157553\n",
      "  8.95560586 12.45934428  9.33925586  5.51967875 10.25884651 10.38801174\n",
      "  7.34514203 11.78028468  7.57165233  6.57083934  8.0600737   5.50327761\n",
      "  9.39190361  9.65258264  7.50365134 11.65722417  6.4602756   9.36274562\n",
      "  8.96444819  4.15844786  6.18082035 10.62140646 11.14773622  8.54163059\n",
      "  9.17923057 11.68119175  7.10315354  8.4137875   7.65114762  8.18274487\n",
      "  6.56777628  8.00751187 10.92879705  7.77034259  9.05285593 10.78314792\n",
      " 10.88203101 11.73910431  7.14689616 10.45678727 10.88712246 10.07405589\n",
      " 10.94480727  9.79942521  4.94691077  9.38636039  9.11198882  7.32081635\n",
      " 11.43341099  6.87905451 13.67295057  9.30288905 13.80480597  9.15662588\n",
      " 11.21821623  6.79144782  4.92490734  9.64347961  6.94392333  8.03203948\n",
      " 10.14598263  3.84606782 10.75556598  9.88172109 10.65429395  8.30568842\n",
      "  8.62694954 14.20712847 10.33556793 14.44187094  9.13189965 10.61362282\n",
      "  9.47257291 11.04360354  9.16946231 11.10235141 11.38128197  7.45739475\n",
      "  8.36107779  5.24124499  8.79366411  8.84818682  9.23103915 12.94229031\n",
      "  8.7265654   8.7945242  10.04960362 12.83496626 10.31784121  8.38074548\n",
      "  9.64941846  9.28723562  9.57435463 10.1543504   7.88467     7.36195025\n",
      "  8.69757306  9.15106531 10.85962504  9.31244811 10.92265331  6.51163721\n",
      " 12.94510892 12.45058469 10.61848243  7.30285235  4.89678031  9.09037646\n",
      " 10.14416195 10.06024122 10.67918473  9.19742151 10.5484594   8.65412803\n",
      " 10.88559219  6.71624289  9.55327237 11.37281558  9.70022979 13.33610005\n",
      " 10.12606861  9.00534813  9.86086085 14.51344043  9.98488331 13.63891842\n",
      "  6.33174246 11.28697648 11.76367074  6.73463669 11.25242461  9.89785332\n",
      "  9.46467066 10.09264593  9.8509121   6.65576122 12.1698263   7.61658818\n",
      "  9.48302156  9.33074896  8.73518283  7.09746474 14.62659524  6.63287905\n",
      " 12.28232913 10.38326948 12.83914686 12.81565607 11.91102091 11.89757701\n",
      " 11.93145367  9.76474588 11.64782612 11.58123689 10.58582155 13.46027385\n",
      "  7.87858549 11.87686307 11.64014153 10.67594431 10.1385224   9.78411465\n",
      "  8.86822163  7.02768267  9.75439673  9.76003829  6.70783584  9.19334634\n",
      " 10.51431227 10.24736904  8.43492716 12.75338019  6.8041321   6.66259485\n",
      "  8.18640665 10.58357953  7.01812086  7.40871879  8.2853479   8.92329939\n",
      "  7.49879263 10.97639489  6.5585447  12.47323965  8.83914186 10.13581989\n",
      "  8.07427291 10.06743199 13.06249454 10.40672279  3.9355567  10.23811225\n",
      "  7.11227207 11.1510551   9.88915552  7.749577   12.7598318   8.73796717\n",
      "  8.97087671 10.65078704  9.32373315  9.74052813  7.54067327 10.43775992\n",
      "  9.72775745 11.70399374  7.51519048  8.66064392  8.40657198 11.72437587\n",
      "  6.93669816 10.47420889  4.6043239  11.10697359  6.72542764 10.79035853\n",
      "  9.28786047  6.99443884  7.69972485  7.51523126 10.35672413  4.45315122\n",
      "  9.15367694 11.02007152 10.3392269   9.15202049  8.16016306  9.50117395\n",
      "  5.39538986  9.42300453  7.07829726  7.83367911  6.90451078 10.94474309\n",
      "  8.59422688  9.4501321  10.24212306  7.63531786  9.68623586 11.57592053\n",
      " 11.47936234 10.8810998   4.89913886  9.55873578  8.50051863  8.64486837\n",
      " 10.30081503 12.91074064  9.84485986  6.2285442   6.74338481  6.77146532\n",
      "  9.38231659 11.97358743  8.05242715 11.37643998  9.84806008 10.32312206\n",
      "  9.94006467  7.18586879 12.38773368 10.22927352  9.51633519  7.57515091\n",
      " 15.07576053 10.1753802  14.75914898  9.85224056  7.00362428 12.15578757\n",
      "  9.92209906  9.6385443   9.04032413  6.92476352 10.85148692  7.66890326\n",
      " 11.00263881  8.76367315 10.86130545  4.13571891  6.69559276  9.0905183\n",
      " 11.61386601  7.5434398  12.247441   10.72434222  7.51785564  8.85440047\n",
      "  8.18889397  3.69378881  7.35109092  6.89476563  8.31724853  9.73253436\n",
      "  7.70549392 10.09334875  9.46012182 10.53947447  9.24246485  8.21863599\n",
      " 11.11221022  6.96125144 10.67222059 10.59715867  9.4865048   7.46205523\n",
      "  6.98178791  9.77297808  9.7974939  10.46625118  5.34521318  8.95823093\n",
      "  9.37202133 10.76691618  9.91560996 10.75250261 12.5704834   6.59107762\n",
      "  7.02906135 12.85646713 13.35360522  8.41353425  6.59788343  4.75718536\n",
      " 10.21786465 11.16520785  9.71682404  8.95709313 12.64123318  9.98795703\n",
      " 11.2086983   7.05793403]\n",
      "Actual Number of Rings 2807    13\n",
      "1941    11\n",
      "3453     8\n",
      "2513     8\n",
      "117     10\n",
      "        ..\n",
      "555     10\n",
      "290     17\n",
      "3841    11\n",
      "4118     9\n",
      "3087     7\n",
      "Name: Rings, Length: 806, dtype: int64\n"
     ]
    }
   ],
   "source": [
    "#Predict the Rings\n",
    "pred=grid.predict(x_test)\n",
    "print('Predicted number of Rings',pred)\n",
    "print('Actual Number of Rings',y_test)\n"
   ]
  },
  {
   "cell_type": "code",
   "execution_count": 60,
   "id": "baa6d103",
   "metadata": {},
   "outputs": [
    {
     "data": {
      "text/html": [
       "<div>\n",
       "<style scoped>\n",
       "    .dataframe tbody tr th:only-of-type {\n",
       "        vertical-align: middle;\n",
       "    }\n",
       "\n",
       "    .dataframe tbody tr th {\n",
       "        vertical-align: top;\n",
       "    }\n",
       "\n",
       "    .dataframe thead th {\n",
       "        text-align: right;\n",
       "    }\n",
       "</style>\n",
       "<table border=\"1\" class=\"dataframe\">\n",
       "  <thead>\n",
       "    <tr style=\"text-align: right;\">\n",
       "      <th></th>\n",
       "      <th>Original</th>\n",
       "      <th>Predicted</th>\n",
       "    </tr>\n",
       "  </thead>\n",
       "  <tbody>\n",
       "    <tr>\n",
       "      <th>0</th>\n",
       "      <td>13</td>\n",
       "      <td>10.944971</td>\n",
       "    </tr>\n",
       "    <tr>\n",
       "      <th>1</th>\n",
       "      <td>11</td>\n",
       "      <td>9.032188</td>\n",
       "    </tr>\n",
       "    <tr>\n",
       "      <th>2</th>\n",
       "      <td>8</td>\n",
       "      <td>9.849299</td>\n",
       "    </tr>\n",
       "    <tr>\n",
       "      <th>3</th>\n",
       "      <td>8</td>\n",
       "      <td>10.004215</td>\n",
       "    </tr>\n",
       "    <tr>\n",
       "      <th>4</th>\n",
       "      <td>10</td>\n",
       "      <td>10.256997</td>\n",
       "    </tr>\n",
       "    <tr>\n",
       "      <th>...</th>\n",
       "      <td>...</td>\n",
       "      <td>...</td>\n",
       "    </tr>\n",
       "    <tr>\n",
       "      <th>801</th>\n",
       "      <td>10</td>\n",
       "      <td>8.957093</td>\n",
       "    </tr>\n",
       "    <tr>\n",
       "      <th>802</th>\n",
       "      <td>17</td>\n",
       "      <td>12.641233</td>\n",
       "    </tr>\n",
       "    <tr>\n",
       "      <th>803</th>\n",
       "      <td>11</td>\n",
       "      <td>9.987957</td>\n",
       "    </tr>\n",
       "    <tr>\n",
       "      <th>804</th>\n",
       "      <td>9</td>\n",
       "      <td>11.208698</td>\n",
       "    </tr>\n",
       "    <tr>\n",
       "      <th>805</th>\n",
       "      <td>7</td>\n",
       "      <td>7.057934</td>\n",
       "    </tr>\n",
       "  </tbody>\n",
       "</table>\n",
       "<p>806 rows × 2 columns</p>\n",
       "</div>"
      ],
      "text/plain": [
       "     Original  Predicted\n",
       "0          13  10.944971\n",
       "1          11   9.032188\n",
       "2           8   9.849299\n",
       "3           8  10.004215\n",
       "4          10  10.256997\n",
       "..        ...        ...\n",
       "801        10   8.957093\n",
       "802        17  12.641233\n",
       "803        11   9.987957\n",
       "804         9  11.208698\n",
       "805         7   7.057934\n",
       "\n",
       "[806 rows x 2 columns]"
      ]
     },
     "execution_count": 60,
     "metadata": {},
     "output_type": "execute_result"
    }
   ],
   "source": [
    "import numpy as np\n",
    "a=np.array(y_test)\n",
    "Predicted=np.array(pred)\n",
    "df_com=pd.DataFrame({'Original':a,'Predicted':Predicted},index=range(len(a)))\n",
    "df_com"
   ]
  },
  {
   "cell_type": "markdown",
   "id": "a425ed58",
   "metadata": {},
   "source": [
    "# Model Saving"
   ]
  },
  {
   "cell_type": "code",
   "execution_count": 61,
   "id": "7e09280a",
   "metadata": {},
   "outputs": [],
   "source": [
    "import pickle\n",
    "filename='Predicted_Rings.pkl'\n",
    "pickle.dump(SVR,open(filename,'wb'))"
   ]
  },
  {
   "cell_type": "code",
   "execution_count": null,
   "id": "8b4c43f9",
   "metadata": {},
   "outputs": [],
   "source": []
  }
 ],
 "metadata": {
  "kernelspec": {
   "display_name": "Python 3",
   "language": "python",
   "name": "python3"
  },
  "language_info": {
   "codemirror_mode": {
    "name": "ipython",
    "version": 3
   },
   "file_extension": ".py",
   "mimetype": "text/x-python",
   "name": "python",
   "nbconvert_exporter": "python",
   "pygments_lexer": "ipython3",
   "version": "3.8.8"
  }
 },
 "nbformat": 4,
 "nbformat_minor": 5
}
