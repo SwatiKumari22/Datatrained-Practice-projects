{
 "cells": [
  {
   "cell_type": "markdown",
   "id": "3cf18377",
   "metadata": {},
   "source": [
    "# Flight Price Prediction"
   ]
  },
  {
   "cell_type": "markdown",
   "id": "1c7ac1ba",
   "metadata": {},
   "source": [
    "## Problem Statement:"
   ]
  },
  {
   "cell_type": "markdown",
   "id": "7e789bdf",
   "metadata": {},
   "source": [
    "Flight ticket prices can be something hard to guess, today we might see a price, check out the price of the same flight tomorrow, it will be a different story. We might have often heard travellers saying that flight ticket prices are so unpredictable. Here we have prices of flight tickets for various airlines between the months of March and June of 2019 and between various cities.\n",
    "\n",
    "**Dataset**\n",
    "\n",
    "We have training and test file sepratelly available with us. training set has 10683 rows and 11 colunms including Target feature. Test set has 2671 rows and 10 colmns. All the columns are categorical except target columns. so we have to process all the columns and convert them into numeric one for the model.\n",
    "\n",
    "Size of training set: 10683 records\n",
    "\n",
    "Size of test set: 2671 records"
   ]
  },
  {
   "cell_type": "markdown",
   "id": "95060917",
   "metadata": {},
   "source": [
    "## Features"
   ]
  },
  {
   "cell_type": "markdown",
   "id": "1a01a7c8",
   "metadata": {},
   "source": [
    "Airline: The name of the airline.\n",
    "\n",
    "Date_of_Journey: The date of the journey\n",
    "\n",
    "Source: The source from which the service begins.\n",
    "\n",
    "Destination: The destination where the service ends.\n",
    "\n",
    "Route: The route taken by the flight to reach the destination.\n",
    "\n",
    "Dep_Time: The time when the journey starts from the source.\n",
    "\n",
    "Arrival_Time: Time of arrival at the destination.\n",
    "\n",
    "Duration: Total duration of the flight.\n",
    "\n",
    "Total_Stops: Total stops between the source and destination.\n",
    "\n",
    "Additional_Info: Additional information about the flight\n",
    "\n",
    "Price: The price of the ticket\n"
   ]
  },
  {
   "cell_type": "markdown",
   "id": "e9cd05bb",
   "metadata": {},
   "source": [
    "## Importing important libraries"
   ]
  },
  {
   "cell_type": "code",
   "execution_count": 1,
   "id": "fbd11d6b",
   "metadata": {},
   "outputs": [],
   "source": [
    "import pandas as pd\n",
    "import numpy as np\n",
    "import seaborn as sns\n",
    "import matplotlib.pyplot as plt\n",
    "from sklearn.model_selection import train_test_split, RandomizedSearchCV, cross_val_score\n",
    "from sklearn.preprocessing import StandardScaler\n",
    "from sklearn.linear_model import LinearRegression, Lasso,Ridge\n",
    "from sklearn.ensemble import RandomForestRegressor, GradientBoostingRegressor, AdaBoostRegressor\n",
    "from sklearn.tree import DecisionTreeRegressor\n",
    "from sklearn.neighbors import KNeighborsRegressor\n",
    "from sklearn.metrics import r2_score, mean_squared_error\n",
    "\n",
    "import warnings\n",
    "warnings.filterwarnings(\"ignore\")"
   ]
  },
  {
   "cell_type": "code",
   "execution_count": 2,
   "id": "add368e6",
   "metadata": {},
   "outputs": [],
   "source": [
    "fl_train_df = pd.read_excel(\"Flight_Ticket_Participant_Datasets/Data_Train.xlsx\")\n",
    "fl_test_df  = pd.read_excel(\"Flight_Ticket_Participant_Datasets/Test_set.xlsx\")"
   ]
  },
  {
   "cell_type": "markdown",
   "id": "a2c414ee",
   "metadata": {},
   "source": [
    "We have two datasets. One is train data which has price as target column and another is test data where we have to predict the target."
   ]
  },
  {
   "cell_type": "code",
   "execution_count": 3,
   "id": "f3f5290e",
   "metadata": {},
   "outputs": [
    {
     "data": {
      "text/html": [
       "<div>\n",
       "<style scoped>\n",
       "    .dataframe tbody tr th:only-of-type {\n",
       "        vertical-align: middle;\n",
       "    }\n",
       "\n",
       "    .dataframe tbody tr th {\n",
       "        vertical-align: top;\n",
       "    }\n",
       "\n",
       "    .dataframe thead th {\n",
       "        text-align: right;\n",
       "    }\n",
       "</style>\n",
       "<table border=\"1\" class=\"dataframe\">\n",
       "  <thead>\n",
       "    <tr style=\"text-align: right;\">\n",
       "      <th></th>\n",
       "      <th>Airline</th>\n",
       "      <th>Date_of_Journey</th>\n",
       "      <th>Source</th>\n",
       "      <th>Destination</th>\n",
       "      <th>Route</th>\n",
       "      <th>Dep_Time</th>\n",
       "      <th>Arrival_Time</th>\n",
       "      <th>Duration</th>\n",
       "      <th>Total_Stops</th>\n",
       "      <th>Additional_Info</th>\n",
       "      <th>Price</th>\n",
       "    </tr>\n",
       "  </thead>\n",
       "  <tbody>\n",
       "    <tr>\n",
       "      <th>0</th>\n",
       "      <td>IndiGo</td>\n",
       "      <td>24/03/2019</td>\n",
       "      <td>Banglore</td>\n",
       "      <td>New Delhi</td>\n",
       "      <td>BLR → DEL</td>\n",
       "      <td>22:20</td>\n",
       "      <td>01:10 22 Mar</td>\n",
       "      <td>2h 50m</td>\n",
       "      <td>non-stop</td>\n",
       "      <td>No info</td>\n",
       "      <td>3897</td>\n",
       "    </tr>\n",
       "    <tr>\n",
       "      <th>1</th>\n",
       "      <td>Air India</td>\n",
       "      <td>1/05/2019</td>\n",
       "      <td>Kolkata</td>\n",
       "      <td>Banglore</td>\n",
       "      <td>CCU → IXR → BBI → BLR</td>\n",
       "      <td>05:50</td>\n",
       "      <td>13:15</td>\n",
       "      <td>7h 25m</td>\n",
       "      <td>2 stops</td>\n",
       "      <td>No info</td>\n",
       "      <td>7662</td>\n",
       "    </tr>\n",
       "    <tr>\n",
       "      <th>2</th>\n",
       "      <td>Jet Airways</td>\n",
       "      <td>9/06/2019</td>\n",
       "      <td>Delhi</td>\n",
       "      <td>Cochin</td>\n",
       "      <td>DEL → LKO → BOM → COK</td>\n",
       "      <td>09:25</td>\n",
       "      <td>04:25 10 Jun</td>\n",
       "      <td>19h</td>\n",
       "      <td>2 stops</td>\n",
       "      <td>No info</td>\n",
       "      <td>13882</td>\n",
       "    </tr>\n",
       "    <tr>\n",
       "      <th>3</th>\n",
       "      <td>IndiGo</td>\n",
       "      <td>12/05/2019</td>\n",
       "      <td>Kolkata</td>\n",
       "      <td>Banglore</td>\n",
       "      <td>CCU → NAG → BLR</td>\n",
       "      <td>18:05</td>\n",
       "      <td>23:30</td>\n",
       "      <td>5h 25m</td>\n",
       "      <td>1 stop</td>\n",
       "      <td>No info</td>\n",
       "      <td>6218</td>\n",
       "    </tr>\n",
       "    <tr>\n",
       "      <th>4</th>\n",
       "      <td>IndiGo</td>\n",
       "      <td>01/03/2019</td>\n",
       "      <td>Banglore</td>\n",
       "      <td>New Delhi</td>\n",
       "      <td>BLR → NAG → DEL</td>\n",
       "      <td>16:50</td>\n",
       "      <td>21:35</td>\n",
       "      <td>4h 45m</td>\n",
       "      <td>1 stop</td>\n",
       "      <td>No info</td>\n",
       "      <td>13302</td>\n",
       "    </tr>\n",
       "  </tbody>\n",
       "</table>\n",
       "</div>"
      ],
      "text/plain": [
       "       Airline Date_of_Journey    Source Destination                  Route  \\\n",
       "0       IndiGo      24/03/2019  Banglore   New Delhi              BLR → DEL   \n",
       "1    Air India       1/05/2019   Kolkata    Banglore  CCU → IXR → BBI → BLR   \n",
       "2  Jet Airways       9/06/2019     Delhi      Cochin  DEL → LKO → BOM → COK   \n",
       "3       IndiGo      12/05/2019   Kolkata    Banglore        CCU → NAG → BLR   \n",
       "4       IndiGo      01/03/2019  Banglore   New Delhi        BLR → NAG → DEL   \n",
       "\n",
       "  Dep_Time  Arrival_Time Duration Total_Stops Additional_Info  Price  \n",
       "0    22:20  01:10 22 Mar   2h 50m    non-stop         No info   3897  \n",
       "1    05:50         13:15   7h 25m     2 stops         No info   7662  \n",
       "2    09:25  04:25 10 Jun      19h     2 stops         No info  13882  \n",
       "3    18:05         23:30   5h 25m      1 stop         No info   6218  \n",
       "4    16:50         21:35   4h 45m      1 stop         No info  13302  "
      ]
     },
     "execution_count": 3,
     "metadata": {},
     "output_type": "execute_result"
    }
   ],
   "source": [
    "fl_train_df.head()"
   ]
  },
  {
   "cell_type": "code",
   "execution_count": 4,
   "id": "74daf268",
   "metadata": {},
   "outputs": [
    {
     "data": {
      "text/html": [
       "<div>\n",
       "<style scoped>\n",
       "    .dataframe tbody tr th:only-of-type {\n",
       "        vertical-align: middle;\n",
       "    }\n",
       "\n",
       "    .dataframe tbody tr th {\n",
       "        vertical-align: top;\n",
       "    }\n",
       "\n",
       "    .dataframe thead th {\n",
       "        text-align: right;\n",
       "    }\n",
       "</style>\n",
       "<table border=\"1\" class=\"dataframe\">\n",
       "  <thead>\n",
       "    <tr style=\"text-align: right;\">\n",
       "      <th></th>\n",
       "      <th>Airline</th>\n",
       "      <th>Date_of_Journey</th>\n",
       "      <th>Source</th>\n",
       "      <th>Destination</th>\n",
       "      <th>Route</th>\n",
       "      <th>Dep_Time</th>\n",
       "      <th>Arrival_Time</th>\n",
       "      <th>Duration</th>\n",
       "      <th>Total_Stops</th>\n",
       "      <th>Additional_Info</th>\n",
       "      <th>Price</th>\n",
       "    </tr>\n",
       "  </thead>\n",
       "  <tbody>\n",
       "    <tr>\n",
       "      <th>10678</th>\n",
       "      <td>Air Asia</td>\n",
       "      <td>9/04/2019</td>\n",
       "      <td>Kolkata</td>\n",
       "      <td>Banglore</td>\n",
       "      <td>CCU → BLR</td>\n",
       "      <td>19:55</td>\n",
       "      <td>22:25</td>\n",
       "      <td>2h 30m</td>\n",
       "      <td>non-stop</td>\n",
       "      <td>No info</td>\n",
       "      <td>4107</td>\n",
       "    </tr>\n",
       "    <tr>\n",
       "      <th>10679</th>\n",
       "      <td>Air India</td>\n",
       "      <td>27/04/2019</td>\n",
       "      <td>Kolkata</td>\n",
       "      <td>Banglore</td>\n",
       "      <td>CCU → BLR</td>\n",
       "      <td>20:45</td>\n",
       "      <td>23:20</td>\n",
       "      <td>2h 35m</td>\n",
       "      <td>non-stop</td>\n",
       "      <td>No info</td>\n",
       "      <td>4145</td>\n",
       "    </tr>\n",
       "    <tr>\n",
       "      <th>10680</th>\n",
       "      <td>Jet Airways</td>\n",
       "      <td>27/04/2019</td>\n",
       "      <td>Banglore</td>\n",
       "      <td>Delhi</td>\n",
       "      <td>BLR → DEL</td>\n",
       "      <td>08:20</td>\n",
       "      <td>11:20</td>\n",
       "      <td>3h</td>\n",
       "      <td>non-stop</td>\n",
       "      <td>No info</td>\n",
       "      <td>7229</td>\n",
       "    </tr>\n",
       "    <tr>\n",
       "      <th>10681</th>\n",
       "      <td>Vistara</td>\n",
       "      <td>01/03/2019</td>\n",
       "      <td>Banglore</td>\n",
       "      <td>New Delhi</td>\n",
       "      <td>BLR → DEL</td>\n",
       "      <td>11:30</td>\n",
       "      <td>14:10</td>\n",
       "      <td>2h 40m</td>\n",
       "      <td>non-stop</td>\n",
       "      <td>No info</td>\n",
       "      <td>12648</td>\n",
       "    </tr>\n",
       "    <tr>\n",
       "      <th>10682</th>\n",
       "      <td>Air India</td>\n",
       "      <td>9/05/2019</td>\n",
       "      <td>Delhi</td>\n",
       "      <td>Cochin</td>\n",
       "      <td>DEL → GOI → BOM → COK</td>\n",
       "      <td>10:55</td>\n",
       "      <td>19:15</td>\n",
       "      <td>8h 20m</td>\n",
       "      <td>2 stops</td>\n",
       "      <td>No info</td>\n",
       "      <td>11753</td>\n",
       "    </tr>\n",
       "  </tbody>\n",
       "</table>\n",
       "</div>"
      ],
      "text/plain": [
       "           Airline Date_of_Journey    Source Destination  \\\n",
       "10678     Air Asia       9/04/2019   Kolkata    Banglore   \n",
       "10679    Air India      27/04/2019   Kolkata    Banglore   \n",
       "10680  Jet Airways      27/04/2019  Banglore       Delhi   \n",
       "10681      Vistara      01/03/2019  Banglore   New Delhi   \n",
       "10682    Air India       9/05/2019     Delhi      Cochin   \n",
       "\n",
       "                       Route Dep_Time Arrival_Time Duration Total_Stops  \\\n",
       "10678              CCU → BLR    19:55        22:25   2h 30m    non-stop   \n",
       "10679              CCU → BLR    20:45        23:20   2h 35m    non-stop   \n",
       "10680              BLR → DEL    08:20        11:20       3h    non-stop   \n",
       "10681              BLR → DEL    11:30        14:10   2h 40m    non-stop   \n",
       "10682  DEL → GOI → BOM → COK    10:55        19:15   8h 20m     2 stops   \n",
       "\n",
       "      Additional_Info  Price  \n",
       "10678         No info   4107  \n",
       "10679         No info   4145  \n",
       "10680         No info   7229  \n",
       "10681         No info  12648  \n",
       "10682         No info  11753  "
      ]
     },
     "execution_count": 4,
     "metadata": {},
     "output_type": "execute_result"
    }
   ],
   "source": [
    "fl_train_df.tail()"
   ]
  },
  {
   "cell_type": "code",
   "execution_count": 5,
   "id": "a466d567",
   "metadata": {},
   "outputs": [
    {
     "data": {
      "text/html": [
       "<div>\n",
       "<style scoped>\n",
       "    .dataframe tbody tr th:only-of-type {\n",
       "        vertical-align: middle;\n",
       "    }\n",
       "\n",
       "    .dataframe tbody tr th {\n",
       "        vertical-align: top;\n",
       "    }\n",
       "\n",
       "    .dataframe thead th {\n",
       "        text-align: right;\n",
       "    }\n",
       "</style>\n",
       "<table border=\"1\" class=\"dataframe\">\n",
       "  <thead>\n",
       "    <tr style=\"text-align: right;\">\n",
       "      <th></th>\n",
       "      <th>Airline</th>\n",
       "      <th>Date_of_Journey</th>\n",
       "      <th>Source</th>\n",
       "      <th>Destination</th>\n",
       "      <th>Route</th>\n",
       "      <th>Dep_Time</th>\n",
       "      <th>Arrival_Time</th>\n",
       "      <th>Duration</th>\n",
       "      <th>Total_Stops</th>\n",
       "      <th>Additional_Info</th>\n",
       "    </tr>\n",
       "  </thead>\n",
       "  <tbody>\n",
       "    <tr>\n",
       "      <th>0</th>\n",
       "      <td>Jet Airways</td>\n",
       "      <td>6/06/2019</td>\n",
       "      <td>Delhi</td>\n",
       "      <td>Cochin</td>\n",
       "      <td>DEL → BOM → COK</td>\n",
       "      <td>17:30</td>\n",
       "      <td>04:25 07 Jun</td>\n",
       "      <td>10h 55m</td>\n",
       "      <td>1 stop</td>\n",
       "      <td>No info</td>\n",
       "    </tr>\n",
       "    <tr>\n",
       "      <th>1</th>\n",
       "      <td>IndiGo</td>\n",
       "      <td>12/05/2019</td>\n",
       "      <td>Kolkata</td>\n",
       "      <td>Banglore</td>\n",
       "      <td>CCU → MAA → BLR</td>\n",
       "      <td>06:20</td>\n",
       "      <td>10:20</td>\n",
       "      <td>4h</td>\n",
       "      <td>1 stop</td>\n",
       "      <td>No info</td>\n",
       "    </tr>\n",
       "    <tr>\n",
       "      <th>2</th>\n",
       "      <td>Jet Airways</td>\n",
       "      <td>21/05/2019</td>\n",
       "      <td>Delhi</td>\n",
       "      <td>Cochin</td>\n",
       "      <td>DEL → BOM → COK</td>\n",
       "      <td>19:15</td>\n",
       "      <td>19:00 22 May</td>\n",
       "      <td>23h 45m</td>\n",
       "      <td>1 stop</td>\n",
       "      <td>In-flight meal not included</td>\n",
       "    </tr>\n",
       "    <tr>\n",
       "      <th>3</th>\n",
       "      <td>Multiple carriers</td>\n",
       "      <td>21/05/2019</td>\n",
       "      <td>Delhi</td>\n",
       "      <td>Cochin</td>\n",
       "      <td>DEL → BOM → COK</td>\n",
       "      <td>08:00</td>\n",
       "      <td>21:00</td>\n",
       "      <td>13h</td>\n",
       "      <td>1 stop</td>\n",
       "      <td>No info</td>\n",
       "    </tr>\n",
       "    <tr>\n",
       "      <th>4</th>\n",
       "      <td>Air Asia</td>\n",
       "      <td>24/06/2019</td>\n",
       "      <td>Banglore</td>\n",
       "      <td>Delhi</td>\n",
       "      <td>BLR → DEL</td>\n",
       "      <td>23:55</td>\n",
       "      <td>02:45 25 Jun</td>\n",
       "      <td>2h 50m</td>\n",
       "      <td>non-stop</td>\n",
       "      <td>No info</td>\n",
       "    </tr>\n",
       "  </tbody>\n",
       "</table>\n",
       "</div>"
      ],
      "text/plain": [
       "             Airline Date_of_Journey    Source Destination            Route  \\\n",
       "0        Jet Airways       6/06/2019     Delhi      Cochin  DEL → BOM → COK   \n",
       "1             IndiGo      12/05/2019   Kolkata    Banglore  CCU → MAA → BLR   \n",
       "2        Jet Airways      21/05/2019     Delhi      Cochin  DEL → BOM → COK   \n",
       "3  Multiple carriers      21/05/2019     Delhi      Cochin  DEL → BOM → COK   \n",
       "4           Air Asia      24/06/2019  Banglore       Delhi        BLR → DEL   \n",
       "\n",
       "  Dep_Time  Arrival_Time Duration Total_Stops              Additional_Info  \n",
       "0    17:30  04:25 07 Jun  10h 55m      1 stop                      No info  \n",
       "1    06:20         10:20       4h      1 stop                      No info  \n",
       "2    19:15  19:00 22 May  23h 45m      1 stop  In-flight meal not included  \n",
       "3    08:00         21:00      13h      1 stop                      No info  \n",
       "4    23:55  02:45 25 Jun   2h 50m    non-stop                      No info  "
      ]
     },
     "execution_count": 5,
     "metadata": {},
     "output_type": "execute_result"
    }
   ],
   "source": [
    "fl_test_df.head()"
   ]
  },
  {
   "cell_type": "code",
   "execution_count": 6,
   "id": "efba8735",
   "metadata": {},
   "outputs": [
    {
     "data": {
      "text/html": [
       "<div>\n",
       "<style scoped>\n",
       "    .dataframe tbody tr th:only-of-type {\n",
       "        vertical-align: middle;\n",
       "    }\n",
       "\n",
       "    .dataframe tbody tr th {\n",
       "        vertical-align: top;\n",
       "    }\n",
       "\n",
       "    .dataframe thead th {\n",
       "        text-align: right;\n",
       "    }\n",
       "</style>\n",
       "<table border=\"1\" class=\"dataframe\">\n",
       "  <thead>\n",
       "    <tr style=\"text-align: right;\">\n",
       "      <th></th>\n",
       "      <th>Airline</th>\n",
       "      <th>Date_of_Journey</th>\n",
       "      <th>Source</th>\n",
       "      <th>Destination</th>\n",
       "      <th>Route</th>\n",
       "      <th>Dep_Time</th>\n",
       "      <th>Arrival_Time</th>\n",
       "      <th>Duration</th>\n",
       "      <th>Total_Stops</th>\n",
       "      <th>Additional_Info</th>\n",
       "    </tr>\n",
       "  </thead>\n",
       "  <tbody>\n",
       "    <tr>\n",
       "      <th>2666</th>\n",
       "      <td>Air India</td>\n",
       "      <td>6/06/2019</td>\n",
       "      <td>Kolkata</td>\n",
       "      <td>Banglore</td>\n",
       "      <td>CCU → DEL → BLR</td>\n",
       "      <td>20:30</td>\n",
       "      <td>20:25 07 Jun</td>\n",
       "      <td>23h 55m</td>\n",
       "      <td>1 stop</td>\n",
       "      <td>No info</td>\n",
       "    </tr>\n",
       "    <tr>\n",
       "      <th>2667</th>\n",
       "      <td>IndiGo</td>\n",
       "      <td>27/03/2019</td>\n",
       "      <td>Kolkata</td>\n",
       "      <td>Banglore</td>\n",
       "      <td>CCU → BLR</td>\n",
       "      <td>14:20</td>\n",
       "      <td>16:55</td>\n",
       "      <td>2h 35m</td>\n",
       "      <td>non-stop</td>\n",
       "      <td>No info</td>\n",
       "    </tr>\n",
       "    <tr>\n",
       "      <th>2668</th>\n",
       "      <td>Jet Airways</td>\n",
       "      <td>6/03/2019</td>\n",
       "      <td>Delhi</td>\n",
       "      <td>Cochin</td>\n",
       "      <td>DEL → BOM → COK</td>\n",
       "      <td>21:50</td>\n",
       "      <td>04:25 07 Mar</td>\n",
       "      <td>6h 35m</td>\n",
       "      <td>1 stop</td>\n",
       "      <td>No info</td>\n",
       "    </tr>\n",
       "    <tr>\n",
       "      <th>2669</th>\n",
       "      <td>Air India</td>\n",
       "      <td>6/03/2019</td>\n",
       "      <td>Delhi</td>\n",
       "      <td>Cochin</td>\n",
       "      <td>DEL → BOM → COK</td>\n",
       "      <td>04:00</td>\n",
       "      <td>19:15</td>\n",
       "      <td>15h 15m</td>\n",
       "      <td>1 stop</td>\n",
       "      <td>No info</td>\n",
       "    </tr>\n",
       "    <tr>\n",
       "      <th>2670</th>\n",
       "      <td>Multiple carriers</td>\n",
       "      <td>15/06/2019</td>\n",
       "      <td>Delhi</td>\n",
       "      <td>Cochin</td>\n",
       "      <td>DEL → BOM → COK</td>\n",
       "      <td>04:55</td>\n",
       "      <td>19:15</td>\n",
       "      <td>14h 20m</td>\n",
       "      <td>1 stop</td>\n",
       "      <td>No info</td>\n",
       "    </tr>\n",
       "  </tbody>\n",
       "</table>\n",
       "</div>"
      ],
      "text/plain": [
       "                Airline Date_of_Journey   Source Destination            Route  \\\n",
       "2666          Air India       6/06/2019  Kolkata    Banglore  CCU → DEL → BLR   \n",
       "2667             IndiGo      27/03/2019  Kolkata    Banglore        CCU → BLR   \n",
       "2668        Jet Airways       6/03/2019    Delhi      Cochin  DEL → BOM → COK   \n",
       "2669          Air India       6/03/2019    Delhi      Cochin  DEL → BOM → COK   \n",
       "2670  Multiple carriers      15/06/2019    Delhi      Cochin  DEL → BOM → COK   \n",
       "\n",
       "     Dep_Time  Arrival_Time Duration Total_Stops Additional_Info  \n",
       "2666    20:30  20:25 07 Jun  23h 55m      1 stop         No info  \n",
       "2667    14:20         16:55   2h 35m    non-stop         No info  \n",
       "2668    21:50  04:25 07 Mar   6h 35m      1 stop         No info  \n",
       "2669    04:00         19:15  15h 15m      1 stop         No info  \n",
       "2670    04:55         19:15  14h 20m      1 stop         No info  "
      ]
     },
     "execution_count": 6,
     "metadata": {},
     "output_type": "execute_result"
    }
   ],
   "source": [
    "fl_test_df.tail()"
   ]
  },
  {
   "cell_type": "code",
   "execution_count": 7,
   "id": "e5ee03d0",
   "metadata": {},
   "outputs": [
    {
     "data": {
      "text/plain": [
       "(10683, 11)"
      ]
     },
     "execution_count": 7,
     "metadata": {},
     "output_type": "execute_result"
    }
   ],
   "source": [
    "fl_train_df.shape"
   ]
  },
  {
   "cell_type": "markdown",
   "id": "58b664ae",
   "metadata": {},
   "source": [
    "The train data has 10683 rows and 11 columns out of which price is the target column."
   ]
  },
  {
   "cell_type": "code",
   "execution_count": 8,
   "id": "ce5f93e4",
   "metadata": {},
   "outputs": [
    {
     "data": {
      "text/plain": [
       "(2671, 10)"
      ]
     },
     "execution_count": 8,
     "metadata": {},
     "output_type": "execute_result"
    }
   ],
   "source": [
    "fl_test_df.shape"
   ]
  },
  {
   "cell_type": "markdown",
   "id": "dd918bbf",
   "metadata": {},
   "source": [
    "The test data has 2671 rows and 10 columns. We have to predict the target i.e. price for test data."
   ]
  },
  {
   "cell_type": "code",
   "execution_count": 9,
   "id": "0886f260",
   "metadata": {},
   "outputs": [
    {
     "name": "stdout",
     "output_type": "stream",
     "text": [
      "<class 'pandas.core.frame.DataFrame'>\n",
      "RangeIndex: 10683 entries, 0 to 10682\n",
      "Data columns (total 11 columns):\n",
      " #   Column           Non-Null Count  Dtype \n",
      "---  ------           --------------  ----- \n",
      " 0   Airline          10683 non-null  object\n",
      " 1   Date_of_Journey  10683 non-null  object\n",
      " 2   Source           10683 non-null  object\n",
      " 3   Destination      10683 non-null  object\n",
      " 4   Route            10682 non-null  object\n",
      " 5   Dep_Time         10683 non-null  object\n",
      " 6   Arrival_Time     10683 non-null  object\n",
      " 7   Duration         10683 non-null  object\n",
      " 8   Total_Stops      10682 non-null  object\n",
      " 9   Additional_Info  10683 non-null  object\n",
      " 10  Price            10683 non-null  int64 \n",
      "dtypes: int64(1), object(10)\n",
      "memory usage: 918.2+ KB\n"
     ]
    }
   ],
   "source": [
    "fl_train_df.info()"
   ]
  },
  {
   "cell_type": "markdown",
   "id": "bf32a05d",
   "metadata": {},
   "source": [
    "All the columns are of object dtype. Only 1 column price is of integer dtypes."
   ]
  },
  {
   "cell_type": "code",
   "execution_count": 10,
   "id": "99bbe10d",
   "metadata": {},
   "outputs": [
    {
     "name": "stdout",
     "output_type": "stream",
     "text": [
      "<class 'pandas.core.frame.DataFrame'>\n",
      "RangeIndex: 2671 entries, 0 to 2670\n",
      "Data columns (total 10 columns):\n",
      " #   Column           Non-Null Count  Dtype \n",
      "---  ------           --------------  ----- \n",
      " 0   Airline          2671 non-null   object\n",
      " 1   Date_of_Journey  2671 non-null   object\n",
      " 2   Source           2671 non-null   object\n",
      " 3   Destination      2671 non-null   object\n",
      " 4   Route            2671 non-null   object\n",
      " 5   Dep_Time         2671 non-null   object\n",
      " 6   Arrival_Time     2671 non-null   object\n",
      " 7   Duration         2671 non-null   object\n",
      " 8   Total_Stops      2671 non-null   object\n",
      " 9   Additional_Info  2671 non-null   object\n",
      "dtypes: object(10)\n",
      "memory usage: 208.8+ KB\n"
     ]
    }
   ],
   "source": [
    "fl_test_df.info()"
   ]
  },
  {
   "cell_type": "markdown",
   "id": "eb41173b",
   "metadata": {},
   "source": [
    "All the columns are of object dtypes."
   ]
  },
  {
   "cell_type": "code",
   "execution_count": 11,
   "id": "744fa7ae",
   "metadata": {},
   "outputs": [
    {
     "data": {
      "text/plain": [
       "Airline            0\n",
       "Date_of_Journey    0\n",
       "Source             0\n",
       "Destination        0\n",
       "Route              1\n",
       "Dep_Time           0\n",
       "Arrival_Time       0\n",
       "Duration           0\n",
       "Total_Stops        1\n",
       "Additional_Info    0\n",
       "Price              0\n",
       "dtype: int64"
      ]
     },
     "execution_count": 11,
     "metadata": {},
     "output_type": "execute_result"
    }
   ],
   "source": [
    "fl_train_df.isnull().sum()"
   ]
  },
  {
   "cell_type": "markdown",
   "id": "86a9ea4b",
   "metadata": {},
   "source": [
    "There is 1 null value in Route and 1 null value in Total_Stops."
   ]
  },
  {
   "cell_type": "code",
   "execution_count": 12,
   "id": "8f0087b9",
   "metadata": {},
   "outputs": [
    {
     "data": {
      "text/plain": [
       "<AxesSubplot:>"
      ]
     },
     "execution_count": 12,
     "metadata": {},
     "output_type": "execute_result"
    },
    {
     "data": {
      "image/png": "[encoded data removed]",
      "text/plain": [
       "<Figure size 432x288 with 2 Axes>"
      ]
     },
     "metadata": {
      "needs_background": "light"
     },
     "output_type": "display_data"
    }
   ],
   "source": [
    "#To check missing values\n",
    "sns.heatmap(fl_train_df.isnull())"
   ]
  },
  {
   "cell_type": "code",
   "execution_count": 13,
   "id": "af389a49",
   "metadata": {},
   "outputs": [
    {
     "data": {
      "text/plain": [
       "Airline            0\n",
       "Date_of_Journey    0\n",
       "Source             0\n",
       "Destination        0\n",
       "Route              0\n",
       "Dep_Time           0\n",
       "Arrival_Time       0\n",
       "Duration           0\n",
       "Total_Stops        0\n",
       "Additional_Info    0\n",
       "dtype: int64"
      ]
     },
     "execution_count": 13,
     "metadata": {},
     "output_type": "execute_result"
    }
   ],
   "source": [
    "fl_test_df.isnull().sum()"
   ]
  },
  {
   "cell_type": "markdown",
   "id": "583ae2b2",
   "metadata": {},
   "source": [
    "There is no null value in test data."
   ]
  },
  {
   "cell_type": "markdown",
   "id": "7e80cc45",
   "metadata": {},
   "source": [
    "Since there are only 2 values in total which are null. So we will drop those null values rows as it will not change the dataset much."
   ]
  },
  {
   "cell_type": "code",
   "execution_count": 14,
   "id": "40a7b5c9",
   "metadata": {},
   "outputs": [],
   "source": [
    "fl_train_df.dropna(inplace = True)"
   ]
  },
  {
   "cell_type": "code",
   "execution_count": 15,
   "id": "5cc2a4ce",
   "metadata": {},
   "outputs": [
    {
     "data": {
      "text/plain": [
       "Airline            0\n",
       "Date_of_Journey    0\n",
       "Source             0\n",
       "Destination        0\n",
       "Route              0\n",
       "Dep_Time           0\n",
       "Arrival_Time       0\n",
       "Duration           0\n",
       "Total_Stops        0\n",
       "Additional_Info    0\n",
       "Price              0\n",
       "dtype: int64"
      ]
     },
     "execution_count": 15,
     "metadata": {},
     "output_type": "execute_result"
    }
   ],
   "source": [
    "fl_train_df.isnull().sum()"
   ]
  },
  {
   "cell_type": "code",
   "execution_count": 16,
   "id": "714deef6",
   "metadata": {},
   "outputs": [
    {
     "data": {
      "text/plain": [
       "(10682, 11)"
      ]
     },
     "execution_count": 16,
     "metadata": {},
     "output_type": "execute_result"
    }
   ],
   "source": [
    "fl_train_df.shape"
   ]
  },
  {
   "cell_type": "markdown",
   "id": "8c683bb7",
   "metadata": {},
   "source": [
    "only 1 row is dropped as both the null values are in the same row."
   ]
  },
  {
   "cell_type": "markdown",
   "id": "f50c23af",
   "metadata": {},
   "source": [
    "## EDA"
   ]
  },
  {
   "cell_type": "markdown",
   "id": "9681a2ad",
   "metadata": {},
   "source": [
    "**Checking the unique values counts in train data columns and test data columns.**"
   ]
  },
  {
   "cell_type": "code",
   "execution_count": 17,
   "id": "09782b91",
   "metadata": {},
   "outputs": [
    {
     "name": "stdout",
     "output_type": "stream",
     "text": [
      "Airline\n",
      "Jet Airways                          3849\n",
      "IndiGo                               2053\n",
      "Air India                            1751\n",
      "Multiple carriers                    1196\n",
      "SpiceJet                              818\n",
      "Vistara                               479\n",
      "Air Asia                              319\n",
      "GoAir                                 194\n",
      "Multiple carriers Premium economy      13\n",
      "Jet Airways Business                    6\n",
      "Vistara Premium economy                 3\n",
      "Trujet                                  1\n",
      "Name: Airline, dtype: int64 \n",
      "\n",
      "Date_of_Journey\n",
      "18/05/2019    504\n",
      "6/06/2019     503\n",
      "21/05/2019    497\n",
      "9/06/2019     495\n",
      "12/06/2019    493\n",
      "9/05/2019     484\n",
      "21/03/2019    423\n",
      "15/05/2019    405\n",
      "27/05/2019    382\n",
      "27/06/2019    355\n",
      "24/06/2019    351\n",
      "1/06/2019     342\n",
      "3/06/2019     333\n",
      "15/06/2019    328\n",
      "24/03/2019    323\n",
      "6/03/2019     308\n",
      "27/03/2019    299\n",
      "24/05/2019    286\n",
      "6/05/2019     281\n",
      "1/05/2019     277\n",
      "12/05/2019    259\n",
      "1/04/2019     257\n",
      "3/03/2019     218\n",
      "9/03/2019     200\n",
      "15/03/2019    162\n",
      "18/03/2019    156\n",
      "01/03/2019    152\n",
      "12/03/2019    142\n",
      "9/04/2019     125\n",
      "3/04/2019     110\n",
      "21/06/2019    109\n",
      "18/06/2019    105\n",
      "09/03/2019    102\n",
      "6/04/2019     100\n",
      "03/03/2019     97\n",
      "06/03/2019     95\n",
      "27/04/2019     94\n",
      "24/04/2019     92\n",
      "3/05/2019      90\n",
      "15/04/2019     89\n",
      "21/04/2019     82\n",
      "18/04/2019     67\n",
      "12/04/2019     63\n",
      "1/03/2019      47\n",
      "Name: Date_of_Journey, dtype: int64 \n",
      "\n",
      "Source\n",
      "Delhi       4536\n",
      "Kolkata     2871\n",
      "Banglore    2197\n",
      "Mumbai       697\n",
      "Chennai      381\n",
      "Name: Source, dtype: int64 \n",
      "\n",
      "Destination\n",
      "Cochin       4536\n",
      "Banglore     2871\n",
      "Delhi        1265\n",
      "New Delhi     932\n",
      "Hyderabad     697\n",
      "Kolkata       381\n",
      "Name: Destination, dtype: int64 \n",
      "\n",
      "Route\n",
      "DEL → BOM → COK                2376\n",
      "BLR → DEL                      1552\n",
      "CCU → BOM → BLR                 979\n",
      "CCU → BLR                       724\n",
      "BOM → HYD                       621\n",
      "                               ... \n",
      "BLR → HBX → BOM → BHO → DEL       1\n",
      "CCU → IXZ → MAA → BLR             1\n",
      "BLR → HBX → BOM → AMD → DEL       1\n",
      "BOM → BBI → HYD                   1\n",
      "BOM → JAI → DEL → HYD             1\n",
      "Name: Route, Length: 128, dtype: int64 \n",
      "\n",
      "Dep_Time\n",
      "18:55    233\n",
      "17:00    227\n",
      "07:05    205\n",
      "10:00    203\n",
      "07:10    202\n",
      "        ... \n",
      "03:00      1\n",
      "16:25      1\n",
      "12:05      1\n",
      "04:50      1\n",
      "04:15      1\n",
      "Name: Dep_Time, Length: 222, dtype: int64 \n",
      "\n",
      "Arrival_Time\n",
      "19:00           423\n",
      "21:00           360\n",
      "19:15           333\n",
      "16:10           154\n",
      "12:35           122\n",
      "               ... \n",
      "09:05 16 May      1\n",
      "20:20 02 Mar      1\n",
      "06:50 28 Jun      1\n",
      "22:55 02 Apr      1\n",
      "05:25 13 May      1\n",
      "Name: Arrival_Time, Length: 1343, dtype: int64 \n",
      "\n",
      "Duration\n",
      "2h 50m     550\n",
      "1h 30m     386\n",
      "2h 45m     337\n",
      "2h 55m     337\n",
      "2h 35m     329\n",
      "          ... \n",
      "37h 10m      1\n",
      "42h 45m      1\n",
      "27h 55m      1\n",
      "29h 40m      1\n",
      "35h 35m      1\n",
      "Name: Duration, Length: 368, dtype: int64 \n",
      "\n",
      "Total_Stops\n",
      "1 stop      5625\n",
      "non-stop    3491\n",
      "2 stops     1520\n",
      "3 stops       45\n",
      "4 stops        1\n",
      "Name: Total_Stops, dtype: int64 \n",
      "\n",
      "Additional_Info\n",
      "No info                         8344\n",
      "In-flight meal not included     1982\n",
      "No check-in baggage included     320\n",
      "1 Long layover                    19\n",
      "Change airports                    7\n",
      "Business class                     4\n",
      "No Info                            3\n",
      "1 Short layover                    1\n",
      "2 Long layover                     1\n",
      "Red-eye flight                     1\n",
      "Name: Additional_Info, dtype: int64 \n",
      "\n"
     ]
    }
   ],
   "source": [
    "obj_col = fl_train_df.select_dtypes(include= \"object\")\n",
    "for i in obj_col.columns:\n",
    "    print(i)\n",
    "    print(obj_col[i].value_counts(),\"\\n\")"
   ]
  },
  {
   "cell_type": "markdown",
   "id": "a2dffafa",
   "metadata": {},
   "source": [
    "Conclusion:\n",
    "    \n",
    "1. we have multiple airlines data, top 3 airlines names are Jet Airways, IndiGO and air india.\n",
    "2. Date column has to be converted into datetime columns and date and month from the date needs to be separated for analysin.\n",
    "3. Major sources of the flights are from major 4 cities i.e. Delhi,Kolkata Bangalore and Mumbai.And their destination is also to major cities i.e. Cochin, Bangalore And Delhi.\n",
    "4. Route tells whether flight are connecting or direct flight\n",
    "5. Arrival time columns as multiple observations , it has hours, minutes and months also along wtih dates.\n",
    "6. Duration is shown in hours and minutes.\n",
    "7. Totat stops tells that how many stops a flight takes. Most of the flights have 1 stop. Next to it are the flights which are non stop."
   ]
  },
  {
   "cell_type": "markdown",
   "id": "66fc217d",
   "metadata": {},
   "source": [
    "### Merging Delhi and New Delhi."
   ]
  },
  {
   "cell_type": "code",
   "execution_count": 18,
   "id": "f9cfbd0f",
   "metadata": {},
   "outputs": [],
   "source": [
    "def newd(x):\n",
    "    if x=='New Delhi':\n",
    "        return 'Delhi'\n",
    "    else:\n",
    "        return x\n",
    "fl_train_df['Destination'] = fl_train_df['Destination'].apply(newd)"
   ]
  },
  {
   "cell_type": "markdown",
   "id": "5f91a84b",
   "metadata": {},
   "source": [
    "### Creating  features by seprating Date, month and year"
   ]
  },
  {
   "cell_type": "markdown",
   "id": "cf5f87b9",
   "metadata": {},
   "source": [
    "Since all the data is from the year 2019 only. SO it is of no use to create year column as all will have same value. So we will only create day and month column from Date column."
   ]
  },
  {
   "cell_type": "markdown",
   "id": "63ec46ca",
   "metadata": {},
   "source": [
    "**For Train Data**"
   ]
  },
  {
   "cell_type": "code",
   "execution_count": 19,
   "id": "d1e2c547",
   "metadata": {},
   "outputs": [],
   "source": [
    "#Change the datatypes of Date columns from object to datetime type\n",
    "fl_train_df[\"Date_of_Journey\"] = pd.to_datetime(fl_train_df[\"Date_of_Journey\"])\n",
    "\n",
    "# Creating day, month and year column\n",
    "fl_train_df[\"Dep_Day\"]  = fl_train_df[\"Date_of_Journey\"].dt.day\n",
    "fl_train_df[\"Dep_Month\"]  = fl_train_df[\"Date_of_Journey\"].dt.month\n",
    "\n",
    "#Droping original Date_of_Journey column as it is of no use now\n",
    "fl_train_df.drop(\"Date_of_Journey\", axis = 1, inplace = True)"
   ]
  },
  {
   "cell_type": "code",
   "execution_count": 20,
   "id": "434fb804",
   "metadata": {},
   "outputs": [
    {
     "data": {
      "text/html": [
       "<div>\n",
       "<style scoped>\n",
       "    .dataframe tbody tr th:only-of-type {\n",
       "        vertical-align: middle;\n",
       "    }\n",
       "\n",
       "    .dataframe tbody tr th {\n",
       "        vertical-align: top;\n",
       "    }\n",
       "\n",
       "    .dataframe thead th {\n",
       "        text-align: right;\n",
       "    }\n",
       "</style>\n",
       "<table border=\"1\" class=\"dataframe\">\n",
       "  <thead>\n",
       "    <tr style=\"text-align: right;\">\n",
       "      <th></th>\n",
       "      <th>Airline</th>\n",
       "      <th>Source</th>\n",
       "      <th>Destination</th>\n",
       "      <th>Route</th>\n",
       "      <th>Dep_Time</th>\n",
       "      <th>Arrival_Time</th>\n",
       "      <th>Duration</th>\n",
       "      <th>Total_Stops</th>\n",
       "      <th>Additional_Info</th>\n",
       "      <th>Price</th>\n",
       "      <th>Dep_Day</th>\n",
       "      <th>Dep_Month</th>\n",
       "    </tr>\n",
       "  </thead>\n",
       "  <tbody>\n",
       "    <tr>\n",
       "      <th>0</th>\n",
       "      <td>IndiGo</td>\n",
       "      <td>Banglore</td>\n",
       "      <td>Delhi</td>\n",
       "      <td>BLR → DEL</td>\n",
       "      <td>22:20</td>\n",
       "      <td>01:10 22 Mar</td>\n",
       "      <td>2h 50m</td>\n",
       "      <td>non-stop</td>\n",
       "      <td>No info</td>\n",
       "      <td>3897</td>\n",
       "      <td>24</td>\n",
       "      <td>3</td>\n",
       "    </tr>\n",
       "    <tr>\n",
       "      <th>1</th>\n",
       "      <td>Air India</td>\n",
       "      <td>Kolkata</td>\n",
       "      <td>Banglore</td>\n",
       "      <td>CCU → IXR → BBI → BLR</td>\n",
       "      <td>05:50</td>\n",
       "      <td>13:15</td>\n",
       "      <td>7h 25m</td>\n",
       "      <td>2 stops</td>\n",
       "      <td>No info</td>\n",
       "      <td>7662</td>\n",
       "      <td>5</td>\n",
       "      <td>1</td>\n",
       "    </tr>\n",
       "  </tbody>\n",
       "</table>\n",
       "</div>"
      ],
      "text/plain": [
       "     Airline    Source Destination                  Route Dep_Time  \\\n",
       "0     IndiGo  Banglore       Delhi              BLR → DEL    22:20   \n",
       "1  Air India   Kolkata    Banglore  CCU → IXR → BBI → BLR    05:50   \n",
       "\n",
       "   Arrival_Time Duration Total_Stops Additional_Info  Price  Dep_Day  \\\n",
       "0  01:10 22 Mar   2h 50m    non-stop         No info   3897       24   \n",
       "1         13:15   7h 25m     2 stops         No info   7662        5   \n",
       "\n",
       "   Dep_Month  \n",
       "0          3  \n",
       "1          1  "
      ]
     },
     "execution_count": 20,
     "metadata": {},
     "output_type": "execute_result"
    }
   ],
   "source": [
    "fl_train_df.head(2)"
   ]
  },
  {
   "cell_type": "markdown",
   "id": "365669bb",
   "metadata": {},
   "source": [
    "#### For Test Data"
   ]
  },
  {
   "cell_type": "code",
   "execution_count": 21,
   "id": "32802d06",
   "metadata": {},
   "outputs": [],
   "source": [
    "#Change the datatypes of Date columns from object to datetime type\n",
    "fl_test_df[\"Date_of_Journey\"] = pd.to_datetime(fl_test_df[\"Date_of_Journey\"])\n",
    "\n",
    "# Creating day, month and year column\n",
    "fl_test_df[\"Dep_Day\"]  = fl_test_df[\"Date_of_Journey\"].dt.day\n",
    "fl_test_df[\"Dep_Month\"]  = fl_test_df[\"Date_of_Journey\"].dt.month\n",
    "\n",
    "#Droping original Date_of_Journey column as it is of no use now\n",
    "fl_test_df.drop(\"Date_of_Journey\", axis = 1, inplace = True)"
   ]
  },
  {
   "cell_type": "code",
   "execution_count": 22,
   "id": "a9b3d1c5",
   "metadata": {},
   "outputs": [
    {
     "data": {
      "text/html": [
       "<div>\n",
       "<style scoped>\n",
       "    .dataframe tbody tr th:only-of-type {\n",
       "        vertical-align: middle;\n",
       "    }\n",
       "\n",
       "    .dataframe tbody tr th {\n",
       "        vertical-align: top;\n",
       "    }\n",
       "\n",
       "    .dataframe thead th {\n",
       "        text-align: right;\n",
       "    }\n",
       "</style>\n",
       "<table border=\"1\" class=\"dataframe\">\n",
       "  <thead>\n",
       "    <tr style=\"text-align: right;\">\n",
       "      <th></th>\n",
       "      <th>Airline</th>\n",
       "      <th>Source</th>\n",
       "      <th>Destination</th>\n",
       "      <th>Route</th>\n",
       "      <th>Dep_Time</th>\n",
       "      <th>Arrival_Time</th>\n",
       "      <th>Duration</th>\n",
       "      <th>Total_Stops</th>\n",
       "      <th>Additional_Info</th>\n",
       "      <th>Dep_Day</th>\n",
       "      <th>Dep_Month</th>\n",
       "    </tr>\n",
       "  </thead>\n",
       "  <tbody>\n",
       "    <tr>\n",
       "      <th>0</th>\n",
       "      <td>Jet Airways</td>\n",
       "      <td>Delhi</td>\n",
       "      <td>Cochin</td>\n",
       "      <td>DEL → BOM → COK</td>\n",
       "      <td>17:30</td>\n",
       "      <td>04:25 07 Jun</td>\n",
       "      <td>10h 55m</td>\n",
       "      <td>1 stop</td>\n",
       "      <td>No info</td>\n",
       "      <td>6</td>\n",
       "      <td>6</td>\n",
       "    </tr>\n",
       "    <tr>\n",
       "      <th>1</th>\n",
       "      <td>IndiGo</td>\n",
       "      <td>Kolkata</td>\n",
       "      <td>Banglore</td>\n",
       "      <td>CCU → MAA → BLR</td>\n",
       "      <td>06:20</td>\n",
       "      <td>10:20</td>\n",
       "      <td>4h</td>\n",
       "      <td>1 stop</td>\n",
       "      <td>No info</td>\n",
       "      <td>5</td>\n",
       "      <td>12</td>\n",
       "    </tr>\n",
       "  </tbody>\n",
       "</table>\n",
       "</div>"
      ],
      "text/plain": [
       "       Airline   Source Destination            Route Dep_Time  Arrival_Time  \\\n",
       "0  Jet Airways    Delhi      Cochin  DEL → BOM → COK    17:30  04:25 07 Jun   \n",
       "1       IndiGo  Kolkata    Banglore  CCU → MAA → BLR    06:20         10:20   \n",
       "\n",
       "  Duration Total_Stops Additional_Info  Dep_Day  Dep_Month  \n",
       "0  10h 55m      1 stop         No info        6          6  \n",
       "1       4h      1 stop         No info        5         12  "
      ]
     },
     "execution_count": 22,
     "metadata": {},
     "output_type": "execute_result"
    }
   ],
   "source": [
    "fl_test_df.head(2)"
   ]
  },
  {
   "cell_type": "markdown",
   "id": "1ab67fc5",
   "metadata": {},
   "source": [
    "### Creating features by seprating Dep_hour and Dep_min from Departure Time and Arrival Time"
   ]
  },
  {
   "cell_type": "markdown",
   "id": "33df9c60",
   "metadata": {},
   "source": [
    "**Departure Time**"
   ]
  },
  {
   "cell_type": "code",
   "execution_count": 23,
   "id": "7aae8662",
   "metadata": {},
   "outputs": [
    {
     "data": {
      "text/html": [
       "<div>\n",
       "<style scoped>\n",
       "    .dataframe tbody tr th:only-of-type {\n",
       "        vertical-align: middle;\n",
       "    }\n",
       "\n",
       "    .dataframe tbody tr th {\n",
       "        vertical-align: top;\n",
       "    }\n",
       "\n",
       "    .dataframe thead th {\n",
       "        text-align: right;\n",
       "    }\n",
       "</style>\n",
       "<table border=\"1\" class=\"dataframe\">\n",
       "  <thead>\n",
       "    <tr style=\"text-align: right;\">\n",
       "      <th></th>\n",
       "      <th>Airline</th>\n",
       "      <th>Source</th>\n",
       "      <th>Destination</th>\n",
       "      <th>Route</th>\n",
       "      <th>Arrival_Time</th>\n",
       "      <th>Duration</th>\n",
       "      <th>Total_Stops</th>\n",
       "      <th>Additional_Info</th>\n",
       "      <th>Dep_Day</th>\n",
       "      <th>Dep_Month</th>\n",
       "      <th>Dep_hour</th>\n",
       "      <th>Dep_min</th>\n",
       "    </tr>\n",
       "  </thead>\n",
       "  <tbody>\n",
       "    <tr>\n",
       "      <th>0</th>\n",
       "      <td>Jet Airways</td>\n",
       "      <td>Delhi</td>\n",
       "      <td>Cochin</td>\n",
       "      <td>DEL → BOM → COK</td>\n",
       "      <td>04:25 07 Jun</td>\n",
       "      <td>10h 55m</td>\n",
       "      <td>1 stop</td>\n",
       "      <td>No info</td>\n",
       "      <td>6</td>\n",
       "      <td>6</td>\n",
       "      <td>17</td>\n",
       "      <td>30</td>\n",
       "    </tr>\n",
       "    <tr>\n",
       "      <th>1</th>\n",
       "      <td>IndiGo</td>\n",
       "      <td>Kolkata</td>\n",
       "      <td>Banglore</td>\n",
       "      <td>CCU → MAA → BLR</td>\n",
       "      <td>10:20</td>\n",
       "      <td>4h</td>\n",
       "      <td>1 stop</td>\n",
       "      <td>No info</td>\n",
       "      <td>5</td>\n",
       "      <td>12</td>\n",
       "      <td>6</td>\n",
       "      <td>20</td>\n",
       "    </tr>\n",
       "  </tbody>\n",
       "</table>\n",
       "</div>"
      ],
      "text/plain": [
       "       Airline   Source Destination            Route  Arrival_Time Duration  \\\n",
       "0  Jet Airways    Delhi      Cochin  DEL → BOM → COK  04:25 07 Jun  10h 55m   \n",
       "1       IndiGo  Kolkata    Banglore  CCU → MAA → BLR         10:20       4h   \n",
       "\n",
       "  Total_Stops Additional_Info  Dep_Day  Dep_Month  Dep_hour  Dep_min  \n",
       "0      1 stop         No info        6          6        17       30  \n",
       "1      1 stop         No info        5         12         6       20  "
      ]
     },
     "execution_count": 23,
     "metadata": {},
     "output_type": "execute_result"
    }
   ],
   "source": [
    "# Departure time is when a plane leaves the gate. \n",
    "# Similar to Date_of_Journey we can extract values from Dep_Time\n",
    "\n",
    "# For Train data \n",
    "\n",
    "# Extracting Hours\n",
    "fl_train_df[\"Dep_hour\"] = pd.to_datetime(fl_train_df[\"Dep_Time\"]).dt.hour\n",
    "\n",
    "# Extracting Minutes\n",
    "fl_train_df[\"Dep_min\"] = pd.to_datetime(fl_train_df[\"Dep_Time\"]).dt.minute\n",
    "\n",
    "# Now we can drop Dep_Time as it is of no use\n",
    "fl_train_df.drop([\"Dep_Time\"], axis = 1, inplace = True)\n",
    "\n",
    "\n",
    "#For test data\n",
    "\n",
    "# Extracting Hours\n",
    "fl_test_df[\"Dep_hour\"] = pd.to_datetime(fl_test_df[\"Dep_Time\"]).dt.hour\n",
    "\n",
    "# Extracting Minutes\n",
    "fl_test_df[\"Dep_min\"] = pd.to_datetime(fl_test_df[\"Dep_Time\"]).dt.minute\n",
    "\n",
    "# Now we can drop Dep_Time as it is of no use\n",
    "fl_test_df.drop([\"Dep_Time\"], axis = 1, inplace = True)\n",
    "\n",
    "fl_test_df.head(2)"
   ]
  },
  {
   "cell_type": "markdown",
   "id": "141e8744",
   "metadata": {},
   "source": [
    "**Arrival Time**"
   ]
  },
  {
   "cell_type": "code",
   "execution_count": 24,
   "id": "7e574ac6",
   "metadata": {},
   "outputs": [
    {
     "data": {
      "text/html": [
       "<div>\n",
       "<style scoped>\n",
       "    .dataframe tbody tr th:only-of-type {\n",
       "        vertical-align: middle;\n",
       "    }\n",
       "\n",
       "    .dataframe tbody tr th {\n",
       "        vertical-align: top;\n",
       "    }\n",
       "\n",
       "    .dataframe thead th {\n",
       "        text-align: right;\n",
       "    }\n",
       "</style>\n",
       "<table border=\"1\" class=\"dataframe\">\n",
       "  <thead>\n",
       "    <tr style=\"text-align: right;\">\n",
       "      <th></th>\n",
       "      <th>Airline</th>\n",
       "      <th>Source</th>\n",
       "      <th>Destination</th>\n",
       "      <th>Route</th>\n",
       "      <th>Duration</th>\n",
       "      <th>Total_Stops</th>\n",
       "      <th>Additional_Info</th>\n",
       "      <th>Dep_Day</th>\n",
       "      <th>Dep_Month</th>\n",
       "      <th>Dep_hour</th>\n",
       "      <th>Dep_min</th>\n",
       "      <th>Arrival_hour</th>\n",
       "      <th>Arrival_min</th>\n",
       "    </tr>\n",
       "  </thead>\n",
       "  <tbody>\n",
       "    <tr>\n",
       "      <th>0</th>\n",
       "      <td>Jet Airways</td>\n",
       "      <td>Delhi</td>\n",
       "      <td>Cochin</td>\n",
       "      <td>DEL → BOM → COK</td>\n",
       "      <td>10h 55m</td>\n",
       "      <td>1 stop</td>\n",
       "      <td>No info</td>\n",
       "      <td>6</td>\n",
       "      <td>6</td>\n",
       "      <td>17</td>\n",
       "      <td>30</td>\n",
       "      <td>4</td>\n",
       "      <td>25</td>\n",
       "    </tr>\n",
       "    <tr>\n",
       "      <th>1</th>\n",
       "      <td>IndiGo</td>\n",
       "      <td>Kolkata</td>\n",
       "      <td>Banglore</td>\n",
       "      <td>CCU → MAA → BLR</td>\n",
       "      <td>4h</td>\n",
       "      <td>1 stop</td>\n",
       "      <td>No info</td>\n",
       "      <td>5</td>\n",
       "      <td>12</td>\n",
       "      <td>6</td>\n",
       "      <td>20</td>\n",
       "      <td>10</td>\n",
       "      <td>20</td>\n",
       "    </tr>\n",
       "  </tbody>\n",
       "</table>\n",
       "</div>"
      ],
      "text/plain": [
       "       Airline   Source Destination            Route Duration Total_Stops  \\\n",
       "0  Jet Airways    Delhi      Cochin  DEL → BOM → COK  10h 55m      1 stop   \n",
       "1       IndiGo  Kolkata    Banglore  CCU → MAA → BLR       4h      1 stop   \n",
       "\n",
       "  Additional_Info  Dep_Day  Dep_Month  Dep_hour  Dep_min  Arrival_hour  \\\n",
       "0         No info        6          6        17       30             4   \n",
       "1         No info        5         12         6       20            10   \n",
       "\n",
       "   Arrival_min  \n",
       "0           25  \n",
       "1           20  "
      ]
     },
     "execution_count": 24,
     "metadata": {},
     "output_type": "execute_result"
    }
   ],
   "source": [
    "# Arrival time is when the plane pulls up to the gate.\n",
    "# Similar to Date_of_Journey we can extract values from Arrival_Time\n",
    "\n",
    "#For Train Data\n",
    "# Extracting Hours\n",
    "fl_train_df[\"Arrival_hour\"] = pd.to_datetime(fl_train_df.Arrival_Time).dt.hour\n",
    "\n",
    "# Extracting Minutes\n",
    "fl_train_df[\"Arrival_min\"] = pd.to_datetime(fl_train_df.Arrival_Time).dt.minute\n",
    "\n",
    "# Now we can drop Arrival_Time as it is of no use\n",
    "fl_train_df.drop([\"Arrival_Time\"], axis = 1, inplace = True)\n",
    "\n",
    "\n",
    "#For Test data\n",
    "# Extracting Hours\n",
    "fl_test_df[\"Arrival_hour\"] = pd.to_datetime(fl_test_df.Arrival_Time).dt.hour\n",
    "\n",
    "# Extracting Minutes\n",
    "fl_test_df[\"Arrival_min\"] = pd.to_datetime(fl_test_df.Arrival_Time).dt.minute\n",
    "\n",
    "# Now we can drop Arrival_Time as it is of no use\n",
    "fl_test_df.drop([\"Arrival_Time\"], axis = 1, inplace = True)\n",
    "\n",
    "fl_test_df.head(2)\n"
   ]
  },
  {
   "cell_type": "markdown",
   "id": "fc451262",
   "metadata": {},
   "source": [
    "### Extracting the hours and min from the Duration column"
   ]
  },
  {
   "cell_type": "code",
   "execution_count": 25,
   "id": "4b3fff9e",
   "metadata": {},
   "outputs": [],
   "source": [
    "# Time taken by plane to reach destination is called Duration\n",
    "# It is the differnce betwwen Departure Time and Arrival time\n",
    "# Assigning and converting Duration column into list\n",
    "\n",
    "#Fror Train data\n",
    "tr_duration = list(fl_train_df[\"Duration\"])\n",
    "for i in range(len(tr_duration)):\n",
    "    if len(tr_duration[i].split()) !=2:\n",
    "        if \"h\" in tr_duration[i]:\n",
    "             tr_duration[i] = tr_duration[i].strip() + \" 0m\" \n",
    "        else:\n",
    "            tr_duration[i] = \"0h \" + tr_duration[i]\n",
    "tr_duration_hrs = []\n",
    "tr_duration_mins = []\n",
    "\n",
    "for i in range(len(tr_duration)):\n",
    "    tr_duration_hrs.append(int(tr_duration[i].split(\"h\")[0]))\n",
    "    tr_duration_mins.append(int(tr_duration[i].split(\"m\")[0].split()[-1]))\n",
    "    \n",
    "#For Test Data   \n",
    "test_duration = list(fl_test_df[\"Duration\"])\n",
    "for i in range(len(test_duration)):\n",
    "    if len(test_duration[i].split()) !=2:\n",
    "        if \"h\" in test_duration[i]:\n",
    "             test_duration[i] = test_duration[i].strip() + \" 0m\" \n",
    "        else:\n",
    "            test_duration[i] = \"0h \" + test_duration[i]\n",
    "test_duration_hrs = []\n",
    "test_duration_mins = []\n",
    "\n",
    "for i in range(len(test_duration)):\n",
    "    test_duration_hrs.append(int(test_duration[i].split(\"h\")[0]))\n",
    "    test_duration_mins.append(int(test_duration[i].split(\"m\")[0].split()[-1]))"
   ]
  },
  {
   "cell_type": "code",
   "execution_count": 26,
   "id": "4a800e69",
   "metadata": {},
   "outputs": [],
   "source": [
    "# Training data\n",
    "fl_train_df[\"Duration_hours\"] = tr_duration_hrs\n",
    "fl_train_df[\"Duration_Min\"] = tr_duration_mins\n",
    "fl_train_df.drop(\"Duration\",axis = 1,inplace = True)\n",
    "\n",
    "# test data\n",
    "fl_test_df[\"Duration_hours\"] = test_duration_hrs\n",
    "fl_test_df[\"Duration_Min\"] = test_duration_mins\n",
    "fl_test_df.drop(\"Duration\",axis = 1,inplace = True)"
   ]
  },
  {
   "cell_type": "code",
   "execution_count": 27,
   "id": "2c8477e8",
   "metadata": {},
   "outputs": [
    {
     "data": {
      "text/html": [
       "<div>\n",
       "<style scoped>\n",
       "    .dataframe tbody tr th:only-of-type {\n",
       "        vertical-align: middle;\n",
       "    }\n",
       "\n",
       "    .dataframe tbody tr th {\n",
       "        vertical-align: top;\n",
       "    }\n",
       "\n",
       "    .dataframe thead th {\n",
       "        text-align: right;\n",
       "    }\n",
       "</style>\n",
       "<table border=\"1\" class=\"dataframe\">\n",
       "  <thead>\n",
       "    <tr style=\"text-align: right;\">\n",
       "      <th></th>\n",
       "      <th>Airline</th>\n",
       "      <th>Source</th>\n",
       "      <th>Destination</th>\n",
       "      <th>Route</th>\n",
       "      <th>Total_Stops</th>\n",
       "      <th>Additional_Info</th>\n",
       "      <th>Dep_Day</th>\n",
       "      <th>Dep_Month</th>\n",
       "      <th>Dep_hour</th>\n",
       "      <th>Dep_min</th>\n",
       "      <th>Arrival_hour</th>\n",
       "      <th>Arrival_min</th>\n",
       "      <th>Duration_hours</th>\n",
       "      <th>Duration_Min</th>\n",
       "    </tr>\n",
       "  </thead>\n",
       "  <tbody>\n",
       "    <tr>\n",
       "      <th>0</th>\n",
       "      <td>Jet Airways</td>\n",
       "      <td>Delhi</td>\n",
       "      <td>Cochin</td>\n",
       "      <td>DEL → BOM → COK</td>\n",
       "      <td>1 stop</td>\n",
       "      <td>No info</td>\n",
       "      <td>6</td>\n",
       "      <td>6</td>\n",
       "      <td>17</td>\n",
       "      <td>30</td>\n",
       "      <td>4</td>\n",
       "      <td>25</td>\n",
       "      <td>10</td>\n",
       "      <td>55</td>\n",
       "    </tr>\n",
       "    <tr>\n",
       "      <th>1</th>\n",
       "      <td>IndiGo</td>\n",
       "      <td>Kolkata</td>\n",
       "      <td>Banglore</td>\n",
       "      <td>CCU → MAA → BLR</td>\n",
       "      <td>1 stop</td>\n",
       "      <td>No info</td>\n",
       "      <td>5</td>\n",
       "      <td>12</td>\n",
       "      <td>6</td>\n",
       "      <td>20</td>\n",
       "      <td>10</td>\n",
       "      <td>20</td>\n",
       "      <td>4</td>\n",
       "      <td>0</td>\n",
       "    </tr>\n",
       "  </tbody>\n",
       "</table>\n",
       "</div>"
      ],
      "text/plain": [
       "       Airline   Source Destination            Route Total_Stops  \\\n",
       "0  Jet Airways    Delhi      Cochin  DEL → BOM → COK      1 stop   \n",
       "1       IndiGo  Kolkata    Banglore  CCU → MAA → BLR      1 stop   \n",
       "\n",
       "  Additional_Info  Dep_Day  Dep_Month  Dep_hour  Dep_min  Arrival_hour  \\\n",
       "0         No info        6          6        17       30             4   \n",
       "1         No info        5         12         6       20            10   \n",
       "\n",
       "   Arrival_min  Duration_hours  Duration_Min  \n",
       "0           25              10            55  \n",
       "1           20               4             0  "
      ]
     },
     "execution_count": 27,
     "metadata": {},
     "output_type": "execute_result"
    }
   ],
   "source": [
    "fl_test_df.head(2)"
   ]
  },
  {
   "cell_type": "code",
   "execution_count": 28,
   "id": "95533684",
   "metadata": {},
   "outputs": [
    {
     "data": {
      "text/html": [
       "<div>\n",
       "<style scoped>\n",
       "    .dataframe tbody tr th:only-of-type {\n",
       "        vertical-align: middle;\n",
       "    }\n",
       "\n",
       "    .dataframe tbody tr th {\n",
       "        vertical-align: top;\n",
       "    }\n",
       "\n",
       "    .dataframe thead th {\n",
       "        text-align: right;\n",
       "    }\n",
       "</style>\n",
       "<table border=\"1\" class=\"dataframe\">\n",
       "  <thead>\n",
       "    <tr style=\"text-align: right;\">\n",
       "      <th></th>\n",
       "      <th>Airline</th>\n",
       "      <th>Source</th>\n",
       "      <th>Destination</th>\n",
       "      <th>Route</th>\n",
       "      <th>Total_Stops</th>\n",
       "      <th>Additional_Info</th>\n",
       "      <th>Price</th>\n",
       "      <th>Dep_Day</th>\n",
       "      <th>Dep_Month</th>\n",
       "      <th>Dep_hour</th>\n",
       "      <th>Dep_min</th>\n",
       "      <th>Arrival_hour</th>\n",
       "      <th>Arrival_min</th>\n",
       "      <th>Duration_hours</th>\n",
       "      <th>Duration_Min</th>\n",
       "    </tr>\n",
       "  </thead>\n",
       "  <tbody>\n",
       "    <tr>\n",
       "      <th>0</th>\n",
       "      <td>IndiGo</td>\n",
       "      <td>Banglore</td>\n",
       "      <td>Delhi</td>\n",
       "      <td>BLR → DEL</td>\n",
       "      <td>non-stop</td>\n",
       "      <td>No info</td>\n",
       "      <td>3897</td>\n",
       "      <td>24</td>\n",
       "      <td>3</td>\n",
       "      <td>22</td>\n",
       "      <td>20</td>\n",
       "      <td>1</td>\n",
       "      <td>10</td>\n",
       "      <td>2</td>\n",
       "      <td>50</td>\n",
       "    </tr>\n",
       "    <tr>\n",
       "      <th>1</th>\n",
       "      <td>Air India</td>\n",
       "      <td>Kolkata</td>\n",
       "      <td>Banglore</td>\n",
       "      <td>CCU → IXR → BBI → BLR</td>\n",
       "      <td>2 stops</td>\n",
       "      <td>No info</td>\n",
       "      <td>7662</td>\n",
       "      <td>5</td>\n",
       "      <td>1</td>\n",
       "      <td>5</td>\n",
       "      <td>50</td>\n",
       "      <td>13</td>\n",
       "      <td>15</td>\n",
       "      <td>7</td>\n",
       "      <td>25</td>\n",
       "    </tr>\n",
       "  </tbody>\n",
       "</table>\n",
       "</div>"
      ],
      "text/plain": [
       "     Airline    Source Destination                  Route Total_Stops  \\\n",
       "0     IndiGo  Banglore       Delhi              BLR → DEL    non-stop   \n",
       "1  Air India   Kolkata    Banglore  CCU → IXR → BBI → BLR     2 stops   \n",
       "\n",
       "  Additional_Info  Price  Dep_Day  Dep_Month  Dep_hour  Dep_min  Arrival_hour  \\\n",
       "0         No info   3897       24          3        22       20             1   \n",
       "1         No info   7662        5          1         5       50            13   \n",
       "\n",
       "   Arrival_min  Duration_hours  Duration_Min  \n",
       "0           10               2            50  \n",
       "1           15               7            25  "
      ]
     },
     "execution_count": 28,
     "metadata": {},
     "output_type": "execute_result"
    }
   ],
   "source": [
    "fl_train_df.head(2)"
   ]
  },
  {
   "cell_type": "code",
   "execution_count": 29,
   "id": "010b488b",
   "metadata": {},
   "outputs": [],
   "source": [
    "# Additional_Info contains almost 80% no_info. So we will drop this column\n",
    "fl_train_df.drop(\"Additional_Info\",axis = 1,inplace = True)\n",
    "fl_test_df.drop(\"Additional_Info\",axis = 1,inplace = True)"
   ]
  },
  {
   "cell_type": "markdown",
   "id": "12b54131",
   "metadata": {},
   "source": [
    "Route and Total_Stops are related to each other. Also some flights are 2 routes, some has 3 or more.So it is difficult to analyse that column. So we will drop Route column also."
   ]
  },
  {
   "cell_type": "code",
   "execution_count": 30,
   "id": "808ece8a",
   "metadata": {},
   "outputs": [],
   "source": [
    "# Route and Total_Stops are related to each other. So we will drop this column\n",
    "fl_train_df.drop(\"Route\",axis = 1,inplace = True)\n",
    "fl_test_df.drop(\"Route\",axis = 1,inplace = True)"
   ]
  },
  {
   "cell_type": "code",
   "execution_count": 31,
   "id": "6c94207c",
   "metadata": {},
   "outputs": [],
   "source": [
    "# Replacing Total_Stops\n",
    "fl_train_df.replace({\"non-stop\": 0, \"1 stop\": 1, \"2 stops\": 2, \"3 stops\": 3, \"4 stops\": 4}, inplace = True)\n",
    "fl_test_df.replace({\"non-stop\": 0, \"1 stop\": 1, \"2 stops\": 2, \"3 stops\": 3, \"4 stops\": 4}, inplace = True)\n"
   ]
  },
  {
   "cell_type": "code",
   "execution_count": 32,
   "id": "839bbbc9",
   "metadata": {},
   "outputs": [
    {
     "data": {
      "text/html": [
       "<div>\n",
       "<style scoped>\n",
       "    .dataframe tbody tr th:only-of-type {\n",
       "        vertical-align: middle;\n",
       "    }\n",
       "\n",
       "    .dataframe tbody tr th {\n",
       "        vertical-align: top;\n",
       "    }\n",
       "\n",
       "    .dataframe thead th {\n",
       "        text-align: right;\n",
       "    }\n",
       "</style>\n",
       "<table border=\"1\" class=\"dataframe\">\n",
       "  <thead>\n",
       "    <tr style=\"text-align: right;\">\n",
       "      <th></th>\n",
       "      <th>Airline</th>\n",
       "      <th>Source</th>\n",
       "      <th>Destination</th>\n",
       "      <th>Total_Stops</th>\n",
       "      <th>Price</th>\n",
       "      <th>Dep_Day</th>\n",
       "      <th>Dep_Month</th>\n",
       "      <th>Dep_hour</th>\n",
       "      <th>Dep_min</th>\n",
       "      <th>Arrival_hour</th>\n",
       "      <th>Arrival_min</th>\n",
       "      <th>Duration_hours</th>\n",
       "      <th>Duration_Min</th>\n",
       "    </tr>\n",
       "  </thead>\n",
       "  <tbody>\n",
       "    <tr>\n",
       "      <th>0</th>\n",
       "      <td>IndiGo</td>\n",
       "      <td>Banglore</td>\n",
       "      <td>Delhi</td>\n",
       "      <td>0</td>\n",
       "      <td>3897</td>\n",
       "      <td>24</td>\n",
       "      <td>3</td>\n",
       "      <td>22</td>\n",
       "      <td>20</td>\n",
       "      <td>1</td>\n",
       "      <td>10</td>\n",
       "      <td>2</td>\n",
       "      <td>50</td>\n",
       "    </tr>\n",
       "    <tr>\n",
       "      <th>1</th>\n",
       "      <td>Air India</td>\n",
       "      <td>Kolkata</td>\n",
       "      <td>Banglore</td>\n",
       "      <td>2</td>\n",
       "      <td>7662</td>\n",
       "      <td>5</td>\n",
       "      <td>1</td>\n",
       "      <td>5</td>\n",
       "      <td>50</td>\n",
       "      <td>13</td>\n",
       "      <td>15</td>\n",
       "      <td>7</td>\n",
       "      <td>25</td>\n",
       "    </tr>\n",
       "  </tbody>\n",
       "</table>\n",
       "</div>"
      ],
      "text/plain": [
       "     Airline    Source Destination  Total_Stops  Price  Dep_Day  Dep_Month  \\\n",
       "0     IndiGo  Banglore       Delhi            0   3897       24          3   \n",
       "1  Air India   Kolkata    Banglore            2   7662        5          1   \n",
       "\n",
       "   Dep_hour  Dep_min  Arrival_hour  Arrival_min  Duration_hours  Duration_Min  \n",
       "0        22       20             1           10               2            50  \n",
       "1         5       50            13           15               7            25  "
      ]
     },
     "execution_count": 32,
     "metadata": {},
     "output_type": "execute_result"
    }
   ],
   "source": [
    "fl_train_df.head(2)"
   ]
  },
  {
   "cell_type": "code",
   "execution_count": 33,
   "id": "15521f9c",
   "metadata": {},
   "outputs": [
    {
     "data": {
      "text/html": [
       "<div>\n",
       "<style scoped>\n",
       "    .dataframe tbody tr th:only-of-type {\n",
       "        vertical-align: middle;\n",
       "    }\n",
       "\n",
       "    .dataframe tbody tr th {\n",
       "        vertical-align: top;\n",
       "    }\n",
       "\n",
       "    .dataframe thead th {\n",
       "        text-align: right;\n",
       "    }\n",
       "</style>\n",
       "<table border=\"1\" class=\"dataframe\">\n",
       "  <thead>\n",
       "    <tr style=\"text-align: right;\">\n",
       "      <th></th>\n",
       "      <th>Airline</th>\n",
       "      <th>Source</th>\n",
       "      <th>Destination</th>\n",
       "      <th>Total_Stops</th>\n",
       "      <th>Dep_Day</th>\n",
       "      <th>Dep_Month</th>\n",
       "      <th>Dep_hour</th>\n",
       "      <th>Dep_min</th>\n",
       "      <th>Arrival_hour</th>\n",
       "      <th>Arrival_min</th>\n",
       "      <th>Duration_hours</th>\n",
       "      <th>Duration_Min</th>\n",
       "    </tr>\n",
       "  </thead>\n",
       "  <tbody>\n",
       "    <tr>\n",
       "      <th>0</th>\n",
       "      <td>Jet Airways</td>\n",
       "      <td>Delhi</td>\n",
       "      <td>Cochin</td>\n",
       "      <td>1</td>\n",
       "      <td>6</td>\n",
       "      <td>6</td>\n",
       "      <td>17</td>\n",
       "      <td>30</td>\n",
       "      <td>4</td>\n",
       "      <td>25</td>\n",
       "      <td>10</td>\n",
       "      <td>55</td>\n",
       "    </tr>\n",
       "    <tr>\n",
       "      <th>1</th>\n",
       "      <td>IndiGo</td>\n",
       "      <td>Kolkata</td>\n",
       "      <td>Banglore</td>\n",
       "      <td>1</td>\n",
       "      <td>5</td>\n",
       "      <td>12</td>\n",
       "      <td>6</td>\n",
       "      <td>20</td>\n",
       "      <td>10</td>\n",
       "      <td>20</td>\n",
       "      <td>4</td>\n",
       "      <td>0</td>\n",
       "    </tr>\n",
       "  </tbody>\n",
       "</table>\n",
       "</div>"
      ],
      "text/plain": [
       "       Airline   Source Destination  Total_Stops  Dep_Day  Dep_Month  \\\n",
       "0  Jet Airways    Delhi      Cochin            1        6          6   \n",
       "1       IndiGo  Kolkata    Banglore            1        5         12   \n",
       "\n",
       "   Dep_hour  Dep_min  Arrival_hour  Arrival_min  Duration_hours  Duration_Min  \n",
       "0        17       30             4           25              10            55  \n",
       "1         6       20            10           20               4             0  "
      ]
     },
     "execution_count": 33,
     "metadata": {},
     "output_type": "execute_result"
    }
   ],
   "source": [
    "fl_test_df.head(2)"
   ]
  },
  {
   "cell_type": "code",
   "execution_count": 34,
   "id": "665d1a84",
   "metadata": {},
   "outputs": [
    {
     "data": {
      "text/plain": [
       "count    10682.000000\n",
       "mean      9087.214567\n",
       "std       4611.548810\n",
       "min       1759.000000\n",
       "25%       5277.000000\n",
       "50%       8372.000000\n",
       "75%      12373.000000\n",
       "max      79512.000000\n",
       "Name: Price, dtype: float64"
      ]
     },
     "execution_count": 34,
     "metadata": {},
     "output_type": "execute_result"
    }
   ],
   "source": [
    "fl_train_df[\"Price\"].describe()"
   ]
  },
  {
   "cell_type": "code",
   "execution_count": 35,
   "id": "a70cd093",
   "metadata": {},
   "outputs": [
    {
     "data": {
      "text/plain": [
       "<AxesSubplot:xlabel='Price', ylabel='Density'>"
      ]
     },
     "execution_count": 35,
     "metadata": {},
     "output_type": "execute_result"
    },
    {
     "data": {
      "image/png": "[encoded data removed]",
      "text/plain": [
       "<Figure size 432x288 with 1 Axes>"
      ]
     },
     "metadata": {
      "needs_background": "light"
     },
     "output_type": "display_data"
    }
   ],
   "source": [
    "sns.distplot(fl_train_df['Price'])"
   ]
  },
  {
   "cell_type": "markdown",
   "id": "4fe6945c",
   "metadata": {},
   "source": [
    "Price is Right skewed and max price is 79512."
   ]
  },
  {
   "cell_type": "code",
   "execution_count": 36,
   "id": "5b4b55d9",
   "metadata": {},
   "outputs": [
    {
     "data": {
      "text/html": [
       "<div>\n",
       "<style scoped>\n",
       "    .dataframe tbody tr th:only-of-type {\n",
       "        vertical-align: middle;\n",
       "    }\n",
       "\n",
       "    .dataframe tbody tr th {\n",
       "        vertical-align: top;\n",
       "    }\n",
       "\n",
       "    .dataframe thead th {\n",
       "        text-align: right;\n",
       "    }\n",
       "</style>\n",
       "<table border=\"1\" class=\"dataframe\">\n",
       "  <thead>\n",
       "    <tr style=\"text-align: right;\">\n",
       "      <th></th>\n",
       "      <th>Total_Stops</th>\n",
       "      <th>Price</th>\n",
       "      <th>Dep_Day</th>\n",
       "      <th>Dep_Month</th>\n",
       "      <th>Dep_hour</th>\n",
       "      <th>Dep_min</th>\n",
       "      <th>Arrival_hour</th>\n",
       "      <th>Arrival_min</th>\n",
       "      <th>Duration_hours</th>\n",
       "      <th>Duration_Min</th>\n",
       "    </tr>\n",
       "  </thead>\n",
       "  <tbody>\n",
       "    <tr>\n",
       "      <th>count</th>\n",
       "      <td>10682.000000</td>\n",
       "      <td>10682.000000</td>\n",
       "      <td>10682.000000</td>\n",
       "      <td>10682.000000</td>\n",
       "      <td>10682.000000</td>\n",
       "      <td>10682.000000</td>\n",
       "      <td>10682.000000</td>\n",
       "      <td>10682.000000</td>\n",
       "      <td>10682.000000</td>\n",
       "      <td>10682.000000</td>\n",
       "    </tr>\n",
       "    <tr>\n",
       "      <th>mean</th>\n",
       "      <td>0.824190</td>\n",
       "      <td>9087.214567</td>\n",
       "      <td>12.682925</td>\n",
       "      <td>5.534731</td>\n",
       "      <td>12.491013</td>\n",
       "      <td>24.409287</td>\n",
       "      <td>13.349186</td>\n",
       "      <td>24.690601</td>\n",
       "      <td>10.244898</td>\n",
       "      <td>28.326624</td>\n",
       "    </tr>\n",
       "    <tr>\n",
       "      <th>std</th>\n",
       "      <td>0.675229</td>\n",
       "      <td>4611.548810</td>\n",
       "      <td>8.803800</td>\n",
       "      <td>2.987626</td>\n",
       "      <td>5.748820</td>\n",
       "      <td>18.767801</td>\n",
       "      <td>6.859317</td>\n",
       "      <td>16.506808</td>\n",
       "      <td>8.494916</td>\n",
       "      <td>16.945817</td>\n",
       "    </tr>\n",
       "    <tr>\n",
       "      <th>min</th>\n",
       "      <td>0.000000</td>\n",
       "      <td>1759.000000</td>\n",
       "      <td>3.000000</td>\n",
       "      <td>1.000000</td>\n",
       "      <td>0.000000</td>\n",
       "      <td>0.000000</td>\n",
       "      <td>0.000000</td>\n",
       "      <td>0.000000</td>\n",
       "      <td>0.000000</td>\n",
       "      <td>0.000000</td>\n",
       "    </tr>\n",
       "    <tr>\n",
       "      <th>25%</th>\n",
       "      <td>0.000000</td>\n",
       "      <td>5277.000000</td>\n",
       "      <td>5.000000</td>\n",
       "      <td>3.000000</td>\n",
       "      <td>8.000000</td>\n",
       "      <td>5.000000</td>\n",
       "      <td>8.000000</td>\n",
       "      <td>10.000000</td>\n",
       "      <td>2.000000</td>\n",
       "      <td>15.000000</td>\n",
       "    </tr>\n",
       "    <tr>\n",
       "      <th>50%</th>\n",
       "      <td>1.000000</td>\n",
       "      <td>8372.000000</td>\n",
       "      <td>6.000000</td>\n",
       "      <td>5.000000</td>\n",
       "      <td>11.000000</td>\n",
       "      <td>25.000000</td>\n",
       "      <td>14.000000</td>\n",
       "      <td>25.000000</td>\n",
       "      <td>8.000000</td>\n",
       "      <td>30.000000</td>\n",
       "    </tr>\n",
       "    <tr>\n",
       "      <th>75%</th>\n",
       "      <td>1.000000</td>\n",
       "      <td>12373.000000</td>\n",
       "      <td>21.000000</td>\n",
       "      <td>6.000000</td>\n",
       "      <td>18.000000</td>\n",
       "      <td>40.000000</td>\n",
       "      <td>19.000000</td>\n",
       "      <td>35.000000</td>\n",
       "      <td>15.000000</td>\n",
       "      <td>45.000000</td>\n",
       "    </tr>\n",
       "    <tr>\n",
       "      <th>max</th>\n",
       "      <td>4.000000</td>\n",
       "      <td>79512.000000</td>\n",
       "      <td>27.000000</td>\n",
       "      <td>12.000000</td>\n",
       "      <td>23.000000</td>\n",
       "      <td>55.000000</td>\n",
       "      <td>23.000000</td>\n",
       "      <td>55.000000</td>\n",
       "      <td>47.000000</td>\n",
       "      <td>55.000000</td>\n",
       "    </tr>\n",
       "  </tbody>\n",
       "</table>\n",
       "</div>"
      ],
      "text/plain": [
       "        Total_Stops         Price       Dep_Day     Dep_Month      Dep_hour  \\\n",
       "count  10682.000000  10682.000000  10682.000000  10682.000000  10682.000000   \n",
       "mean       0.824190   9087.214567     12.682925      5.534731     12.491013   \n",
       "std        0.675229   4611.548810      8.803800      2.987626      5.748820   \n",
       "min        0.000000   1759.000000      3.000000      1.000000      0.000000   \n",
       "25%        0.000000   5277.000000      5.000000      3.000000      8.000000   \n",
       "50%        1.000000   8372.000000      6.000000      5.000000     11.000000   \n",
       "75%        1.000000  12373.000000     21.000000      6.000000     18.000000   \n",
       "max        4.000000  79512.000000     27.000000     12.000000     23.000000   \n",
       "\n",
       "            Dep_min  Arrival_hour   Arrival_min  Duration_hours  Duration_Min  \n",
       "count  10682.000000  10682.000000  10682.000000    10682.000000  10682.000000  \n",
       "mean      24.409287     13.349186     24.690601       10.244898     28.326624  \n",
       "std       18.767801      6.859317     16.506808        8.494916     16.945817  \n",
       "min        0.000000      0.000000      0.000000        0.000000      0.000000  \n",
       "25%        5.000000      8.000000     10.000000        2.000000     15.000000  \n",
       "50%       25.000000     14.000000     25.000000        8.000000     30.000000  \n",
       "75%       40.000000     19.000000     35.000000       15.000000     45.000000  \n",
       "max       55.000000     23.000000     55.000000       47.000000     55.000000  "
      ]
     },
     "execution_count": 36,
     "metadata": {},
     "output_type": "execute_result"
    }
   ],
   "source": [
    "# For numerical columns\n",
    "fl_train_df.describe()"
   ]
  },
  {
   "cell_type": "code",
   "execution_count": null,
   "id": "26b1f680",
   "metadata": {},
   "outputs": [],
   "source": []
  },
  {
   "cell_type": "markdown",
   "id": "3a80407e",
   "metadata": {},
   "source": [
    "## Handling Categorical Data"
   ]
  },
  {
   "cell_type": "markdown",
   "id": "4ca75fe2",
   "metadata": {},
   "source": [
    "One can find many ways to handle categorical data. Some of them categorical data are,\n",
    "\n",
    "**Nominal data** --> data are not in any order --> **OneHotEncoder** is used in this case\n",
    "\n",
    "**Ordinal data** --> data are in order --> **LabelEncoder** is used in this case"
   ]
  },
  {
   "cell_type": "code",
   "execution_count": 37,
   "id": "c6ddacb7",
   "metadata": {},
   "outputs": [
    {
     "data": {
      "image/png": "[encoded data removed]",
      "text/plain": [
       "<Figure size 1440x360 with 3 Axes>"
      ]
     },
     "metadata": {
      "needs_background": "light"
     },
     "output_type": "display_data"
    }
   ],
   "source": [
    "plt.figure(figsize=(20,5))\n",
    "plt.subplot(1,3,1)\n",
    "sns.countplot('Source',data=fl_train_df)\n",
    "plt.subplot(1,3,2)\n",
    "sns.countplot('Destination',data=fl_train_df)\n",
    "plt.subplot(1,3,3)\n",
    "sns.countplot('Total_Stops',data=fl_train_df)\n",
    "plt.tight_layout()    \n",
    "plt.show()"
   ]
  },
  {
   "cell_type": "code",
   "execution_count": 38,
   "id": "26cc1d7c",
   "metadata": {},
   "outputs": [
    {
     "data": {
      "image/png": "[encoded data removed]",
      "text/plain": [
       "<Figure size 720x360 with 1 Axes>"
      ]
     },
     "metadata": {},
     "output_type": "display_data"
    }
   ],
   "source": [
    "sns.set(style=\"whitegrid\")\n",
    "plt.figure(figsize=(10,5))\n",
    "sns.countplot(fl_train_df.Airline)\n",
    "plt.title(\"Airline\")\n",
    "plt.xticks(rotation=90)\n",
    "plt.show()"
   ]
  },
  {
   "cell_type": "markdown",
   "id": "c95e02aa",
   "metadata": {},
   "source": [
    "Conclusions;\n",
    "1.\tBusiness class Average price for Jet Airways is way high to Jet Airways business, carriers premium economy, Multiple Carriers. \n",
    "2.\tIndigo Air India and Multiple carriers economy's price are high after Jet airways business class.\n",
    "3.\tMost of the flight’s source is Delhi followed by Kolkata and maximum flight’s has destination as Cochin followed by Bangalore.\n",
    "4.\tMaximum flights are having 1 stop only followed by zero stops."
   ]
  },
  {
   "cell_type": "code",
   "execution_count": 39,
   "id": "de34b779",
   "metadata": {
    "scrolled": true
   },
   "outputs": [
    {
     "data": {
      "image/png": "[encoded data removed]",
      "text/plain": [
       "<Figure size 1296x432 with 1 Axes>"
      ]
     },
     "metadata": {},
     "output_type": "display_data"
    }
   ],
   "source": [
    "# Airline vs Price\n",
    "sns.catplot(y = \"Price\", x = \"Airline\", data = fl_train_df.sort_values(\"Price\", ascending = False), kind=\"boxen\", height = 6, aspect = 3)\n",
    "plt.show()"
   ]
  },
  {
   "cell_type": "markdown",
   "id": "65b78979",
   "metadata": {},
   "source": [
    "From graph we can see that Jet Airways Business have the highest Price.\n",
    "\n",
    "Apart from the first Airline almost all are having similar median"
   ]
  },
  {
   "cell_type": "code",
   "execution_count": 40,
   "id": "1f59c172",
   "metadata": {},
   "outputs": [
    {
     "data": {
      "image/png": "[encoded data removed]",
      "text/plain": [
       "<Figure size 864x288 with 1 Axes>"
      ]
     },
     "metadata": {},
     "output_type": "display_data"
    }
   ],
   "source": [
    "# Source vs Price\n",
    "sns.catplot(y='Price',x='Source',data=fl_train_df.sort_values('Price', ascending=False),kind='boxen',height=4,aspect=3)\n",
    "plt.show()"
   ]
  },
  {
   "cell_type": "markdown",
   "id": "6d38b225",
   "metadata": {},
   "source": [
    "Flights starting from Bangalore are having highest price and flight starting from Chennai are having lowest price."
   ]
  },
  {
   "cell_type": "code",
   "execution_count": 41,
   "id": "1d92d4cf",
   "metadata": {},
   "outputs": [
    {
     "data": {
      "text/plain": [
       "<AxesSubplot:xlabel='Source,Destination'>"
      ]
     },
     "execution_count": 41,
     "metadata": {},
     "output_type": "execute_result"
    },
    {
     "data": {
      "image/png": "[encoded data removed]",
      "text/plain": [
       "<Figure size 1080x360 with 1 Axes>"
      ]
     },
     "metadata": {},
     "output_type": "display_data"
    }
   ],
   "source": [
    "plt.figure(figsize =(15,5))\n",
    "fl_train_df.groupby([\"Source\",\"Destination\"])[\"Price\"].mean().sort_values(ascending= False).plot(kind = \"bar\")"
   ]
  },
  {
   "cell_type": "markdown",
   "id": "6e621966",
   "metadata": {},
   "source": [
    "Bangalore to New_Delhi average price is 12000 approx, Delhi to Cochin average price is 10500 approx"
   ]
  },
  {
   "cell_type": "code",
   "execution_count": 42,
   "id": "92322873",
   "metadata": {},
   "outputs": [
    {
     "data": {
      "text/plain": [
       "<AxesSubplot:xlabel='Dep_Day', ylabel='Price'>"
      ]
     },
     "execution_count": 42,
     "metadata": {},
     "output_type": "execute_result"
    },
    {
     "data": {
      "image/png": "[encoded data removed]",
      "text/plain": [
       "<Figure size 1080x360 with 1 Axes>"
      ]
     },
     "metadata": {},
     "output_type": "display_data"
    }
   ],
   "source": [
    "plt.figure(figsize=(15,5))\n",
    "sns.barplot(x = \"Dep_Day\", y = \"Price\", data = fl_train_df)"
   ]
  },
  {
   "cell_type": "markdown",
   "id": "64813271",
   "metadata": {},
   "source": [
    "3rd of every month price are extremly high in all the months. This may be because business travels are more at the beginning of the month."
   ]
  },
  {
   "cell_type": "code",
   "execution_count": 43,
   "id": "9ffc181f",
   "metadata": {},
   "outputs": [
    {
     "data": {
      "text/plain": [
       "<AxesSubplot:xlabel='Total_Stops', ylabel='Price'>"
      ]
     },
     "execution_count": 43,
     "metadata": {},
     "output_type": "execute_result"
    },
    {
     "data": {
      "image/png": "[encoded data removed]",
      "text/plain": [
       "<Figure size 1080x360 with 1 Axes>"
      ]
     },
     "metadata": {},
     "output_type": "display_data"
    }
   ],
   "source": [
    "plt.figure(figsize=(15,5))\n",
    "sns.barplot(x = \"Total_Stops\", y = \"Price\", data = fl_train_df)"
   ]
  },
  {
   "cell_type": "markdown",
   "id": "4b5f1158",
   "metadata": {},
   "source": [
    "Here we can clearly see that wherever the number of stops are more, price is more.Price is highest for the flights having 4 stops. "
   ]
  },
  {
   "cell_type": "code",
   "execution_count": 44,
   "id": "38e06915",
   "metadata": {},
   "outputs": [
    {
     "data": {
      "text/html": [
       "<div>\n",
       "<style scoped>\n",
       "    .dataframe tbody tr th:only-of-type {\n",
       "        vertical-align: middle;\n",
       "    }\n",
       "\n",
       "    .dataframe tbody tr th {\n",
       "        vertical-align: top;\n",
       "    }\n",
       "\n",
       "    .dataframe thead th {\n",
       "        text-align: right;\n",
       "    }\n",
       "</style>\n",
       "<table border=\"1\" class=\"dataframe\">\n",
       "  <thead>\n",
       "    <tr style=\"text-align: right;\">\n",
       "      <th></th>\n",
       "      <th>Dep_Day</th>\n",
       "      <th>3</th>\n",
       "      <th>4</th>\n",
       "      <th>5</th>\n",
       "      <th>6</th>\n",
       "      <th>15</th>\n",
       "      <th>18</th>\n",
       "      <th>21</th>\n",
       "      <th>24</th>\n",
       "      <th>27</th>\n",
       "    </tr>\n",
       "    <tr>\n",
       "      <th>Source</th>\n",
       "      <th>Destination</th>\n",
       "      <th></th>\n",
       "      <th></th>\n",
       "      <th></th>\n",
       "      <th></th>\n",
       "      <th></th>\n",
       "      <th></th>\n",
       "      <th></th>\n",
       "      <th></th>\n",
       "      <th></th>\n",
       "    </tr>\n",
       "  </thead>\n",
       "  <tbody>\n",
       "    <tr>\n",
       "      <th>Banglore</th>\n",
       "      <th>Delhi</th>\n",
       "      <td>14493.081181</td>\n",
       "      <td>5091.176744</td>\n",
       "      <td>4995.629808</td>\n",
       "      <td>5438.763889</td>\n",
       "      <td>6691.165939</td>\n",
       "      <td>8265.032258</td>\n",
       "      <td>5976.827907</td>\n",
       "      <td>5316.600000</td>\n",
       "      <td>4964.392593</td>\n",
       "    </tr>\n",
       "    <tr>\n",
       "      <th>Chennai</th>\n",
       "      <th>Kolkata</th>\n",
       "      <td>7252.538462</td>\n",
       "      <td>NaN</td>\n",
       "      <td>4372.522388</td>\n",
       "      <td>4450.476923</td>\n",
       "      <td>5009.358974</td>\n",
       "      <td>4340.307692</td>\n",
       "      <td>3963.027027</td>\n",
       "      <td>4571.736842</td>\n",
       "      <td>4104.136364</td>\n",
       "    </tr>\n",
       "    <tr>\n",
       "      <th>Delhi</th>\n",
       "      <th>Cochin</th>\n",
       "      <td>14216.060391</td>\n",
       "      <td>6550.446970</td>\n",
       "      <td>11173.741379</td>\n",
       "      <td>10481.231412</td>\n",
       "      <td>9569.119332</td>\n",
       "      <td>10719.696296</td>\n",
       "      <td>9842.086081</td>\n",
       "      <td>9750.591640</td>\n",
       "      <td>9709.459158</td>\n",
       "    </tr>\n",
       "    <tr>\n",
       "      <th>Kolkata</th>\n",
       "      <th>Banglore</th>\n",
       "      <td>5208.716216</td>\n",
       "      <td>7119.089219</td>\n",
       "      <td>10036.759669</td>\n",
       "      <td>9819.789474</td>\n",
       "      <td>8659.063025</td>\n",
       "      <td>8967.514894</td>\n",
       "      <td>9015.367347</td>\n",
       "      <td>10107.777512</td>\n",
       "      <td>4313.253165</td>\n",
       "    </tr>\n",
       "    <tr>\n",
       "      <th>Mumbai</th>\n",
       "      <th>Hyderabad</th>\n",
       "      <td>11322.500000</td>\n",
       "      <td>3450.307692</td>\n",
       "      <td>3663.098039</td>\n",
       "      <td>3662.020202</td>\n",
       "      <td>3386.542373</td>\n",
       "      <td>3525.084507</td>\n",
       "      <td>3891.352941</td>\n",
       "      <td>3620.846154</td>\n",
       "      <td>3654.687500</td>\n",
       "    </tr>\n",
       "  </tbody>\n",
       "</table>\n",
       "</div>"
      ],
      "text/plain": [
       "Dep_Day                         3            4             5             6   \\\n",
       "Source   Destination                                                          \n",
       "Banglore Delhi        14493.081181  5091.176744   4995.629808   5438.763889   \n",
       "Chennai  Kolkata       7252.538462          NaN   4372.522388   4450.476923   \n",
       "Delhi    Cochin       14216.060391  6550.446970  11173.741379  10481.231412   \n",
       "Kolkata  Banglore      5208.716216  7119.089219  10036.759669   9819.789474   \n",
       "Mumbai   Hyderabad    11322.500000  3450.307692   3663.098039   3662.020202   \n",
       "\n",
       "Dep_Day                        15            18           21            24  \\\n",
       "Source   Destination                                                         \n",
       "Banglore Delhi        6691.165939   8265.032258  5976.827907   5316.600000   \n",
       "Chennai  Kolkata      5009.358974   4340.307692  3963.027027   4571.736842   \n",
       "Delhi    Cochin       9569.119332  10719.696296  9842.086081   9750.591640   \n",
       "Kolkata  Banglore     8659.063025   8967.514894  9015.367347  10107.777512   \n",
       "Mumbai   Hyderabad    3386.542373   3525.084507  3891.352941   3620.846154   \n",
       "\n",
       "Dep_Day                        27  \n",
       "Source   Destination               \n",
       "Banglore Delhi        4964.392593  \n",
       "Chennai  Kolkata      4104.136364  \n",
       "Delhi    Cochin       9709.459158  \n",
       "Kolkata  Banglore     4313.253165  \n",
       "Mumbai   Hyderabad    3654.687500  "
      ]
     },
     "execution_count": 44,
     "metadata": {},
     "output_type": "execute_result"
    }
   ],
   "source": [
    "pd.pivot_table(fl_train_df, values = \"Price\",index =[\"Source\",\"Destination\"], aggfunc=\"mean\", columns = \"Dep_Day\" )"
   ]
  },
  {
   "cell_type": "markdown",
   "id": "c2edec4a",
   "metadata": {},
   "source": [
    "Bangalore to Delhi price is almost same for all days and it is between 5400 to 4964.\n",
    "\n",
    "Bagalore to New delhi price are high,\n",
    "\n",
    "3rd of every month price are very high except KOL"
   ]
  },
  {
   "cell_type": "code",
   "execution_count": 45,
   "id": "0d375657",
   "metadata": {},
   "outputs": [
    {
     "data": {
      "text/html": [
       "<div>\n",
       "<style scoped>\n",
       "    .dataframe tbody tr th:only-of-type {\n",
       "        vertical-align: middle;\n",
       "    }\n",
       "\n",
       "    .dataframe tbody tr th {\n",
       "        vertical-align: top;\n",
       "    }\n",
       "\n",
       "    .dataframe thead th {\n",
       "        text-align: right;\n",
       "    }\n",
       "</style>\n",
       "<table border=\"1\" class=\"dataframe\">\n",
       "  <thead>\n",
       "    <tr style=\"text-align: right;\">\n",
       "      <th>Dep_Day</th>\n",
       "      <th>3</th>\n",
       "      <th>4</th>\n",
       "      <th>5</th>\n",
       "      <th>6</th>\n",
       "      <th>15</th>\n",
       "      <th>18</th>\n",
       "      <th>21</th>\n",
       "      <th>24</th>\n",
       "      <th>27</th>\n",
       "    </tr>\n",
       "    <tr>\n",
       "      <th>Airline</th>\n",
       "      <th></th>\n",
       "      <th></th>\n",
       "      <th></th>\n",
       "      <th></th>\n",
       "      <th></th>\n",
       "      <th></th>\n",
       "      <th></th>\n",
       "      <th></th>\n",
       "      <th></th>\n",
       "    </tr>\n",
       "  </thead>\n",
       "  <tbody>\n",
       "    <tr>\n",
       "      <th>Air Asia</th>\n",
       "      <td>28.0</td>\n",
       "      <td>26.0</td>\n",
       "      <td>43.0</td>\n",
       "      <td>60.0</td>\n",
       "      <td>33.0</td>\n",
       "      <td>28.0</td>\n",
       "      <td>31.0</td>\n",
       "      <td>37.0</td>\n",
       "      <td>33.0</td>\n",
       "    </tr>\n",
       "    <tr>\n",
       "      <th>Air India</th>\n",
       "      <td>302.0</td>\n",
       "      <td>103.0</td>\n",
       "      <td>235.0</td>\n",
       "      <td>324.0</td>\n",
       "      <td>167.0</td>\n",
       "      <td>134.0</td>\n",
       "      <td>178.0</td>\n",
       "      <td>166.0</td>\n",
       "      <td>142.0</td>\n",
       "    </tr>\n",
       "    <tr>\n",
       "      <th>GoAir</th>\n",
       "      <td>21.0</td>\n",
       "      <td>22.0</td>\n",
       "      <td>22.0</td>\n",
       "      <td>34.0</td>\n",
       "      <td>23.0</td>\n",
       "      <td>12.0</td>\n",
       "      <td>12.0</td>\n",
       "      <td>28.0</td>\n",
       "      <td>20.0</td>\n",
       "    </tr>\n",
       "    <tr>\n",
       "      <th>IndiGo</th>\n",
       "      <td>289.0</td>\n",
       "      <td>160.0</td>\n",
       "      <td>233.0</td>\n",
       "      <td>346.0</td>\n",
       "      <td>218.0</td>\n",
       "      <td>159.0</td>\n",
       "      <td>206.0</td>\n",
       "      <td>204.0</td>\n",
       "      <td>238.0</td>\n",
       "    </tr>\n",
       "    <tr>\n",
       "      <th>Jet Airways</th>\n",
       "      <td>416.0</td>\n",
       "      <td>207.0</td>\n",
       "      <td>600.0</td>\n",
       "      <td>885.0</td>\n",
       "      <td>285.0</td>\n",
       "      <td>320.0</td>\n",
       "      <td>405.0</td>\n",
       "      <td>376.0</td>\n",
       "      <td>355.0</td>\n",
       "    </tr>\n",
       "    <tr>\n",
       "      <th>Jet Airways Business</th>\n",
       "      <td>6.0</td>\n",
       "      <td>NaN</td>\n",
       "      <td>NaN</td>\n",
       "      <td>NaN</td>\n",
       "      <td>NaN</td>\n",
       "      <td>NaN</td>\n",
       "      <td>NaN</td>\n",
       "      <td>NaN</td>\n",
       "      <td>NaN</td>\n",
       "    </tr>\n",
       "    <tr>\n",
       "      <th>Multiple carriers</th>\n",
       "      <td>173.0</td>\n",
       "      <td>14.0</td>\n",
       "      <td>71.0</td>\n",
       "      <td>307.0</td>\n",
       "      <td>132.0</td>\n",
       "      <td>63.0</td>\n",
       "      <td>138.0</td>\n",
       "      <td>73.0</td>\n",
       "      <td>225.0</td>\n",
       "    </tr>\n",
       "    <tr>\n",
       "      <th>Multiple carriers Premium economy</th>\n",
       "      <td>NaN</td>\n",
       "      <td>NaN</td>\n",
       "      <td>NaN</td>\n",
       "      <td>NaN</td>\n",
       "      <td>NaN</td>\n",
       "      <td>NaN</td>\n",
       "      <td>13.0</td>\n",
       "      <td>NaN</td>\n",
       "      <td>NaN</td>\n",
       "    </tr>\n",
       "    <tr>\n",
       "      <th>SpiceJet</th>\n",
       "      <td>63.0</td>\n",
       "      <td>80.0</td>\n",
       "      <td>108.0</td>\n",
       "      <td>125.0</td>\n",
       "      <td>87.0</td>\n",
       "      <td>79.0</td>\n",
       "      <td>89.0</td>\n",
       "      <td>100.0</td>\n",
       "      <td>87.0</td>\n",
       "    </tr>\n",
       "    <tr>\n",
       "      <th>Trujet</th>\n",
       "      <td>1.0</td>\n",
       "      <td>NaN</td>\n",
       "      <td>NaN</td>\n",
       "      <td>NaN</td>\n",
       "      <td>NaN</td>\n",
       "      <td>NaN</td>\n",
       "      <td>NaN</td>\n",
       "      <td>NaN</td>\n",
       "      <td>NaN</td>\n",
       "    </tr>\n",
       "    <tr>\n",
       "      <th>Vistara</th>\n",
       "      <td>60.0</td>\n",
       "      <td>42.0</td>\n",
       "      <td>79.0</td>\n",
       "      <td>85.0</td>\n",
       "      <td>39.0</td>\n",
       "      <td>37.0</td>\n",
       "      <td>39.0</td>\n",
       "      <td>68.0</td>\n",
       "      <td>30.0</td>\n",
       "    </tr>\n",
       "    <tr>\n",
       "      <th>Vistara Premium economy</th>\n",
       "      <td>2.0</td>\n",
       "      <td>1.0</td>\n",
       "      <td>NaN</td>\n",
       "      <td>NaN</td>\n",
       "      <td>NaN</td>\n",
       "      <td>NaN</td>\n",
       "      <td>NaN</td>\n",
       "      <td>NaN</td>\n",
       "      <td>NaN</td>\n",
       "    </tr>\n",
       "  </tbody>\n",
       "</table>\n",
       "</div>"
      ],
      "text/plain": [
       "Dep_Day                               3      4      5      6      15     18  \\\n",
       "Airline                                                                       \n",
       "Air Asia                            28.0   26.0   43.0   60.0   33.0   28.0   \n",
       "Air India                          302.0  103.0  235.0  324.0  167.0  134.0   \n",
       "GoAir                               21.0   22.0   22.0   34.0   23.0   12.0   \n",
       "IndiGo                             289.0  160.0  233.0  346.0  218.0  159.0   \n",
       "Jet Airways                        416.0  207.0  600.0  885.0  285.0  320.0   \n",
       "Jet Airways Business                 6.0    NaN    NaN    NaN    NaN    NaN   \n",
       "Multiple carriers                  173.0   14.0   71.0  307.0  132.0   63.0   \n",
       "Multiple carriers Premium economy    NaN    NaN    NaN    NaN    NaN    NaN   \n",
       "SpiceJet                            63.0   80.0  108.0  125.0   87.0   79.0   \n",
       "Trujet                               1.0    NaN    NaN    NaN    NaN    NaN   \n",
       "Vistara                             60.0   42.0   79.0   85.0   39.0   37.0   \n",
       "Vistara Premium economy              2.0    1.0    NaN    NaN    NaN    NaN   \n",
       "\n",
       "Dep_Day                               21     24     27  \n",
       "Airline                                                 \n",
       "Air Asia                            31.0   37.0   33.0  \n",
       "Air India                          178.0  166.0  142.0  \n",
       "GoAir                               12.0   28.0   20.0  \n",
       "IndiGo                             206.0  204.0  238.0  \n",
       "Jet Airways                        405.0  376.0  355.0  \n",
       "Jet Airways Business                 NaN    NaN    NaN  \n",
       "Multiple carriers                  138.0   73.0  225.0  \n",
       "Multiple carriers Premium economy   13.0    NaN    NaN  \n",
       "SpiceJet                            89.0  100.0   87.0  \n",
       "Trujet                               NaN    NaN    NaN  \n",
       "Vistara                             39.0   68.0   30.0  \n",
       "Vistara Premium economy              NaN    NaN    NaN  "
      ]
     },
     "execution_count": 45,
     "metadata": {},
     "output_type": "execute_result"
    }
   ],
   "source": [
    "pd.pivot_table(fl_train_df, values = \"Duration_hours\", index = \"Airline\", columns = \"Dep_Day\", aggfunc = \"count\")"
   ]
  },
  {
   "cell_type": "markdown",
   "id": "0b6f7ae0",
   "metadata": {},
   "source": [
    "it is obvious that Jet Airway has maxium flight and its duration also would be high but Air india comes at 3rd place in terms of flight take off count but the average is high as compared to Indigo, which mean it has maximum stops"
   ]
  },
  {
   "cell_type": "code",
   "execution_count": 46,
   "id": "4b10c92f",
   "metadata": {},
   "outputs": [
    {
     "name": "stdout",
     "output_type": "stream",
     "text": [
      "<class 'pandas.core.frame.DataFrame'>\n",
      "Int64Index: 10682 entries, 0 to 10682\n",
      "Data columns (total 13 columns):\n",
      " #   Column          Non-Null Count  Dtype \n",
      "---  ------          --------------  ----- \n",
      " 0   Airline         10682 non-null  object\n",
      " 1   Source          10682 non-null  object\n",
      " 2   Destination     10682 non-null  object\n",
      " 3   Total_Stops     10682 non-null  int64 \n",
      " 4   Price           10682 non-null  int64 \n",
      " 5   Dep_Day         10682 non-null  int64 \n",
      " 6   Dep_Month       10682 non-null  int64 \n",
      " 7   Dep_hour        10682 non-null  int64 \n",
      " 8   Dep_min         10682 non-null  int64 \n",
      " 9   Arrival_hour    10682 non-null  int64 \n",
      " 10  Arrival_min     10682 non-null  int64 \n",
      " 11  Duration_hours  10682 non-null  int64 \n",
      " 12  Duration_Min    10682 non-null  int64 \n",
      "dtypes: int64(10), object(3)\n",
      "memory usage: 1.4+ MB\n"
     ]
    }
   ],
   "source": [
    "fl_train_df.info()"
   ]
  },
  {
   "cell_type": "markdown",
   "id": "169d2420",
   "metadata": {},
   "source": [
    "Now we have 3 columns of object dtype and rest are integer dtype."
   ]
  },
  {
   "cell_type": "markdown",
   "id": "d1fb5c7b",
   "metadata": {},
   "source": [
    "## Label Encoding"
   ]
  },
  {
   "cell_type": "code",
   "execution_count": 47,
   "id": "cf61c50b",
   "metadata": {},
   "outputs": [],
   "source": [
    "from sklearn.preprocessing import LabelEncoder\n",
    "\n",
    "le = LabelEncoder()\n",
    "\n",
    "# training data\n",
    "\n",
    "fl_train_df[\"Airline\"] = le.fit_transform(fl_train_df[\"Airline\"])\n",
    "fl_train_df[\"Source\"] = le.fit_transform(fl_train_df[\"Source\"])\n",
    "fl_train_df[\"Destination\"] = le.fit_transform(fl_train_df[\"Destination\"])\n",
    "\n",
    "# Test Data\n",
    "\n",
    "fl_test_df[\"Airline\"] = le.fit_transform(fl_test_df[\"Airline\"])\n",
    "fl_test_df[\"Source\"] = le.fit_transform(fl_test_df[\"Source\"])\n",
    "fl_test_df[\"Destination\"] = le.fit_transform(fl_test_df[\"Destination\"])"
   ]
  },
  {
   "cell_type": "code",
   "execution_count": 48,
   "id": "0ab4de8e",
   "metadata": {},
   "outputs": [
    {
     "data": {
      "text/html": [
       "<div>\n",
       "<style scoped>\n",
       "    .dataframe tbody tr th:only-of-type {\n",
       "        vertical-align: middle;\n",
       "    }\n",
       "\n",
       "    .dataframe tbody tr th {\n",
       "        vertical-align: top;\n",
       "    }\n",
       "\n",
       "    .dataframe thead th {\n",
       "        text-align: right;\n",
       "    }\n",
       "</style>\n",
       "<table border=\"1\" class=\"dataframe\">\n",
       "  <thead>\n",
       "    <tr style=\"text-align: right;\">\n",
       "      <th></th>\n",
       "      <th>Airline</th>\n",
       "      <th>Source</th>\n",
       "      <th>Destination</th>\n",
       "      <th>Total_Stops</th>\n",
       "      <th>Price</th>\n",
       "      <th>Dep_Day</th>\n",
       "      <th>Dep_Month</th>\n",
       "      <th>Dep_hour</th>\n",
       "      <th>Dep_min</th>\n",
       "      <th>Arrival_hour</th>\n",
       "      <th>Arrival_min</th>\n",
       "      <th>Duration_hours</th>\n",
       "      <th>Duration_Min</th>\n",
       "    </tr>\n",
       "  </thead>\n",
       "  <tbody>\n",
       "    <tr>\n",
       "      <th>0</th>\n",
       "      <td>3</td>\n",
       "      <td>0</td>\n",
       "      <td>2</td>\n",
       "      <td>0</td>\n",
       "      <td>3897</td>\n",
       "      <td>24</td>\n",
       "      <td>3</td>\n",
       "      <td>22</td>\n",
       "      <td>20</td>\n",
       "      <td>1</td>\n",
       "      <td>10</td>\n",
       "      <td>2</td>\n",
       "      <td>50</td>\n",
       "    </tr>\n",
       "    <tr>\n",
       "      <th>1</th>\n",
       "      <td>1</td>\n",
       "      <td>3</td>\n",
       "      <td>0</td>\n",
       "      <td>2</td>\n",
       "      <td>7662</td>\n",
       "      <td>5</td>\n",
       "      <td>1</td>\n",
       "      <td>5</td>\n",
       "      <td>50</td>\n",
       "      <td>13</td>\n",
       "      <td>15</td>\n",
       "      <td>7</td>\n",
       "      <td>25</td>\n",
       "    </tr>\n",
       "    <tr>\n",
       "      <th>2</th>\n",
       "      <td>4</td>\n",
       "      <td>2</td>\n",
       "      <td>1</td>\n",
       "      <td>2</td>\n",
       "      <td>13882</td>\n",
       "      <td>6</td>\n",
       "      <td>9</td>\n",
       "      <td>9</td>\n",
       "      <td>25</td>\n",
       "      <td>4</td>\n",
       "      <td>25</td>\n",
       "      <td>19</td>\n",
       "      <td>0</td>\n",
       "    </tr>\n",
       "    <tr>\n",
       "      <th>3</th>\n",
       "      <td>3</td>\n",
       "      <td>3</td>\n",
       "      <td>0</td>\n",
       "      <td>1</td>\n",
       "      <td>6218</td>\n",
       "      <td>5</td>\n",
       "      <td>12</td>\n",
       "      <td>18</td>\n",
       "      <td>5</td>\n",
       "      <td>23</td>\n",
       "      <td>30</td>\n",
       "      <td>5</td>\n",
       "      <td>25</td>\n",
       "    </tr>\n",
       "    <tr>\n",
       "      <th>4</th>\n",
       "      <td>3</td>\n",
       "      <td>0</td>\n",
       "      <td>2</td>\n",
       "      <td>1</td>\n",
       "      <td>13302</td>\n",
       "      <td>3</td>\n",
       "      <td>1</td>\n",
       "      <td>16</td>\n",
       "      <td>50</td>\n",
       "      <td>21</td>\n",
       "      <td>35</td>\n",
       "      <td>4</td>\n",
       "      <td>45</td>\n",
       "    </tr>\n",
       "  </tbody>\n",
       "</table>\n",
       "</div>"
      ],
      "text/plain": [
       "   Airline  Source  Destination  Total_Stops  Price  Dep_Day  Dep_Month  \\\n",
       "0        3       0            2            0   3897       24          3   \n",
       "1        1       3            0            2   7662        5          1   \n",
       "2        4       2            1            2  13882        6          9   \n",
       "3        3       3            0            1   6218        5         12   \n",
       "4        3       0            2            1  13302        3          1   \n",
       "\n",
       "   Dep_hour  Dep_min  Arrival_hour  Arrival_min  Duration_hours  Duration_Min  \n",
       "0        22       20             1           10               2            50  \n",
       "1         5       50            13           15               7            25  \n",
       "2         9       25             4           25              19             0  \n",
       "3        18        5            23           30               5            25  \n",
       "4        16       50            21           35               4            45  "
      ]
     },
     "execution_count": 48,
     "metadata": {},
     "output_type": "execute_result"
    }
   ],
   "source": [
    "fl_train_df.head()"
   ]
  },
  {
   "cell_type": "code",
   "execution_count": 49,
   "id": "c35311cc",
   "metadata": {},
   "outputs": [
    {
     "data": {
      "text/html": [
       "<div>\n",
       "<style scoped>\n",
       "    .dataframe tbody tr th:only-of-type {\n",
       "        vertical-align: middle;\n",
       "    }\n",
       "\n",
       "    .dataframe tbody tr th {\n",
       "        vertical-align: top;\n",
       "    }\n",
       "\n",
       "    .dataframe thead th {\n",
       "        text-align: right;\n",
       "    }\n",
       "</style>\n",
       "<table border=\"1\" class=\"dataframe\">\n",
       "  <thead>\n",
       "    <tr style=\"text-align: right;\">\n",
       "      <th></th>\n",
       "      <th>Airline</th>\n",
       "      <th>Source</th>\n",
       "      <th>Destination</th>\n",
       "      <th>Total_Stops</th>\n",
       "      <th>Dep_Day</th>\n",
       "      <th>Dep_Month</th>\n",
       "      <th>Dep_hour</th>\n",
       "      <th>Dep_min</th>\n",
       "      <th>Arrival_hour</th>\n",
       "      <th>Arrival_min</th>\n",
       "      <th>Duration_hours</th>\n",
       "      <th>Duration_Min</th>\n",
       "    </tr>\n",
       "  </thead>\n",
       "  <tbody>\n",
       "    <tr>\n",
       "      <th>0</th>\n",
       "      <td>4</td>\n",
       "      <td>2</td>\n",
       "      <td>1</td>\n",
       "      <td>1</td>\n",
       "      <td>6</td>\n",
       "      <td>6</td>\n",
       "      <td>17</td>\n",
       "      <td>30</td>\n",
       "      <td>4</td>\n",
       "      <td>25</td>\n",
       "      <td>10</td>\n",
       "      <td>55</td>\n",
       "    </tr>\n",
       "    <tr>\n",
       "      <th>1</th>\n",
       "      <td>3</td>\n",
       "      <td>3</td>\n",
       "      <td>0</td>\n",
       "      <td>1</td>\n",
       "      <td>5</td>\n",
       "      <td>12</td>\n",
       "      <td>6</td>\n",
       "      <td>20</td>\n",
       "      <td>10</td>\n",
       "      <td>20</td>\n",
       "      <td>4</td>\n",
       "      <td>0</td>\n",
       "    </tr>\n",
       "    <tr>\n",
       "      <th>2</th>\n",
       "      <td>4</td>\n",
       "      <td>2</td>\n",
       "      <td>1</td>\n",
       "      <td>1</td>\n",
       "      <td>21</td>\n",
       "      <td>5</td>\n",
       "      <td>19</td>\n",
       "      <td>15</td>\n",
       "      <td>19</td>\n",
       "      <td>0</td>\n",
       "      <td>23</td>\n",
       "      <td>45</td>\n",
       "    </tr>\n",
       "    <tr>\n",
       "      <th>3</th>\n",
       "      <td>6</td>\n",
       "      <td>2</td>\n",
       "      <td>1</td>\n",
       "      <td>1</td>\n",
       "      <td>21</td>\n",
       "      <td>5</td>\n",
       "      <td>8</td>\n",
       "      <td>0</td>\n",
       "      <td>21</td>\n",
       "      <td>0</td>\n",
       "      <td>13</td>\n",
       "      <td>0</td>\n",
       "    </tr>\n",
       "    <tr>\n",
       "      <th>4</th>\n",
       "      <td>0</td>\n",
       "      <td>0</td>\n",
       "      <td>2</td>\n",
       "      <td>0</td>\n",
       "      <td>24</td>\n",
       "      <td>6</td>\n",
       "      <td>23</td>\n",
       "      <td>55</td>\n",
       "      <td>2</td>\n",
       "      <td>45</td>\n",
       "      <td>2</td>\n",
       "      <td>50</td>\n",
       "    </tr>\n",
       "  </tbody>\n",
       "</table>\n",
       "</div>"
      ],
      "text/plain": [
       "   Airline  Source  Destination  Total_Stops  Dep_Day  Dep_Month  Dep_hour  \\\n",
       "0        4       2            1            1        6          6        17   \n",
       "1        3       3            0            1        5         12         6   \n",
       "2        4       2            1            1       21          5        19   \n",
       "3        6       2            1            1       21          5         8   \n",
       "4        0       0            2            0       24          6        23   \n",
       "\n",
       "   Dep_min  Arrival_hour  Arrival_min  Duration_hours  Duration_Min  \n",
       "0       30             4           25              10            55  \n",
       "1       20            10           20               4             0  \n",
       "2       15            19            0              23            45  \n",
       "3        0            21            0              13             0  \n",
       "4       55             2           45               2            50  "
      ]
     },
     "execution_count": 49,
     "metadata": {},
     "output_type": "execute_result"
    }
   ],
   "source": [
    "fl_test_df.head()"
   ]
  },
  {
   "cell_type": "code",
   "execution_count": 50,
   "id": "3b03b220",
   "metadata": {},
   "outputs": [
    {
     "name": "stdout",
     "output_type": "stream",
     "text": [
      "Train data\n",
      "<class 'pandas.core.frame.DataFrame'>\n",
      "Int64Index: 10682 entries, 0 to 10682\n",
      "Data columns (total 13 columns):\n",
      " #   Column          Non-Null Count  Dtype\n",
      "---  ------          --------------  -----\n",
      " 0   Airline         10682 non-null  int32\n",
      " 1   Source          10682 non-null  int32\n",
      " 2   Destination     10682 non-null  int32\n",
      " 3   Total_Stops     10682 non-null  int64\n",
      " 4   Price           10682 non-null  int64\n",
      " 5   Dep_Day         10682 non-null  int64\n",
      " 6   Dep_Month       10682 non-null  int64\n",
      " 7   Dep_hour        10682 non-null  int64\n",
      " 8   Dep_min         10682 non-null  int64\n",
      " 9   Arrival_hour    10682 non-null  int64\n",
      " 10  Arrival_min     10682 non-null  int64\n",
      " 11  Duration_hours  10682 non-null  int64\n",
      " 12  Duration_Min    10682 non-null  int64\n",
      "dtypes: int32(3), int64(10)\n",
      "memory usage: 1.3 MB\n",
      "None\n",
      "\n",
      "\n",
      "Test data\n",
      "<class 'pandas.core.frame.DataFrame'>\n",
      "RangeIndex: 2671 entries, 0 to 2670\n",
      "Data columns (total 12 columns):\n",
      " #   Column          Non-Null Count  Dtype\n",
      "---  ------          --------------  -----\n",
      " 0   Airline         2671 non-null   int32\n",
      " 1   Source          2671 non-null   int32\n",
      " 2   Destination     2671 non-null   int32\n",
      " 3   Total_Stops     2671 non-null   int64\n",
      " 4   Dep_Day         2671 non-null   int64\n",
      " 5   Dep_Month       2671 non-null   int64\n",
      " 6   Dep_hour        2671 non-null   int64\n",
      " 7   Dep_min         2671 non-null   int64\n",
      " 8   Arrival_hour    2671 non-null   int64\n",
      " 9   Arrival_min     2671 non-null   int64\n",
      " 10  Duration_hours  2671 non-null   int64\n",
      " 11  Duration_Min    2671 non-null   int64\n",
      "dtypes: int32(3), int64(9)\n",
      "memory usage: 219.2 KB\n",
      "None\n"
     ]
    }
   ],
   "source": [
    "print('Train data')\n",
    "print(fl_train_df.info())\n",
    "print(\"\\n\")\n",
    "print('Test data')\n",
    "print(fl_test_df.info())"
   ]
  },
  {
   "cell_type": "markdown",
   "id": "e5869811",
   "metadata": {},
   "source": [
    "Now all the columns are int type in both train data and test data. "
   ]
  },
  {
   "cell_type": "code",
   "execution_count": 51,
   "id": "a7e26985",
   "metadata": {},
   "outputs": [
    {
     "data": {
      "text/plain": [
       "Airline           5.532328e+00\n",
       "Source            1.385980e+00\n",
       "Destination       1.026129e+00\n",
       "Total_Stops       4.559338e-01\n",
       "Price             2.126638e+07\n",
       "Dep_Day           7.750689e+01\n",
       "Dep_Month         8.925907e+00\n",
       "Dep_hour          3.304893e+01\n",
       "Dep_min           3.522304e+02\n",
       "Arrival_hour      4.705023e+01\n",
       "Arrival_min       2.724747e+02\n",
       "Duration_hours    7.216359e+01\n",
       "Duration_Min      2.871607e+02\n",
       "dtype: float64"
      ]
     },
     "execution_count": 51,
     "metadata": {},
     "output_type": "execute_result"
    }
   ],
   "source": [
    "fl_train_df.var()"
   ]
  },
  {
   "cell_type": "markdown",
   "id": "c73e7717",
   "metadata": {},
   "source": [
    "Here we can see Dep_day, Dep_month and Duration_hours have little high variance. Let,s check its distribution with scatter plot."
   ]
  },
  {
   "cell_type": "code",
   "execution_count": 52,
   "id": "a4f5c37a",
   "metadata": {},
   "outputs": [
    {
     "data": {
      "text/plain": [
       "<AxesSubplot:xlabel='Price', ylabel='Dep_Day'>"
      ]
     },
     "execution_count": 52,
     "metadata": {},
     "output_type": "execute_result"
    },
    {
     "data": {
      "image/png": "[encoded data removed]",
      "text/plain": [
       "<Figure size 432x288 with 1 Axes>"
      ]
     },
     "metadata": {},
     "output_type": "display_data"
    }
   ],
   "source": [
    "plt.figure(figsize=(6,4))\n",
    "sns.scatterplot(x =\"Price\", y = \"Dep_Day\" , data = fl_train_df)"
   ]
  },
  {
   "cell_type": "markdown",
   "id": "d64f46bb",
   "metadata": {},
   "source": [
    "In the beginning of the month, the price were highest,which was little less at the end of the month."
   ]
  },
  {
   "cell_type": "code",
   "execution_count": 53,
   "id": "1328674b",
   "metadata": {},
   "outputs": [
    {
     "data": {
      "text/plain": [
       "<AxesSubplot:xlabel='Price', ylabel='Dep_Month'>"
      ]
     },
     "execution_count": 53,
     "metadata": {},
     "output_type": "execute_result"
    },
    {
     "data": {
      "image/png": "[encoded data removed]",
      "text/plain": [
       "<Figure size 432x288 with 1 Axes>"
      ]
     },
     "metadata": {},
     "output_type": "display_data"
    }
   ],
   "source": [
    "plt.figure(figsize=(6,4))\n",
    "sns.scatterplot(x =\"Price\", y = \"Dep_Month\" , data = fl_train_df)"
   ]
  },
  {
   "cell_type": "markdown",
   "id": "fe70e34e",
   "metadata": {},
   "source": [
    "At the starting months, price were maximum, which decreases by april month and by end of the year it was again high."
   ]
  },
  {
   "cell_type": "code",
   "execution_count": 54,
   "id": "7eec2185",
   "metadata": {},
   "outputs": [
    {
     "data": {
      "text/plain": [
       "<AxesSubplot:xlabel='Price', ylabel='Duration_hours'>"
      ]
     },
     "execution_count": 54,
     "metadata": {},
     "output_type": "execute_result"
    },
    {
     "data": {
      "image/png": "[encoded data removed]",
      "text/plain": [
       "<Figure size 432x288 with 1 Axes>"
      ]
     },
     "metadata": {},
     "output_type": "display_data"
    }
   ],
   "source": [
    "plt.figure(figsize=(6,4))\n",
    "sns.scatterplot(x =\"Price\", y = \"Duration_hours\" , data = fl_train_df)"
   ]
  },
  {
   "cell_type": "markdown",
   "id": "1fa3a027",
   "metadata": {},
   "source": [
    "maximum points are below 20000 and duration is speard across."
   ]
  },
  {
   "cell_type": "markdown",
   "id": "7ca949fc",
   "metadata": {},
   "source": [
    "## Correlation Map"
   ]
  },
  {
   "cell_type": "code",
   "execution_count": null,
   "id": "ece6d511",
   "metadata": {},
   "outputs": [],
   "source": []
  },
  {
   "cell_type": "code",
   "execution_count": 55,
   "id": "140321ff",
   "metadata": {},
   "outputs": [
    {
     "data": {
      "text/plain": [
       "<AxesSubplot:>"
      ]
     },
     "execution_count": 55,
     "metadata": {},
     "output_type": "execute_result"
    },
    {
     "data": {
      "image/png": "[encoded data removed]",
      "text/plain": [
       "<Figure size 720x432 with 2 Axes>"
      ]
     },
     "metadata": {},
     "output_type": "display_data"
    }
   ],
   "source": [
    "plt.figure(figsize =(10,6))\n",
    "sns.heatmap(fl_train_df.corr(),annot= True, cmap = \"afmhot_r\")"
   ]
  },
  {
   "cell_type": "markdown",
   "id": "fcabdee0",
   "metadata": {},
   "source": [
    "Total_stops and Duration_hours have postive correlation with Target colums. Total_stops and Duration hours are also correlation but we will keep the same in the dataset because there are only two which reflect maximum variance"
   ]
  },
  {
   "cell_type": "markdown",
   "id": "a676264e",
   "metadata": {},
   "source": [
    "## Check for Skewness"
   ]
  },
  {
   "cell_type": "code",
   "execution_count": 56,
   "id": "9c7ed2db",
   "metadata": {},
   "outputs": [
    {
     "data": {
      "text/html": [
       "<div>\n",
       "<style scoped>\n",
       "    .dataframe tbody tr th:only-of-type {\n",
       "        vertical-align: middle;\n",
       "    }\n",
       "\n",
       "    .dataframe tbody tr th {\n",
       "        vertical-align: top;\n",
       "    }\n",
       "\n",
       "    .dataframe thead th {\n",
       "        text-align: right;\n",
       "    }\n",
       "</style>\n",
       "<table border=\"1\" class=\"dataframe\">\n",
       "  <thead>\n",
       "    <tr style=\"text-align: right;\">\n",
       "      <th></th>\n",
       "      <th>Airline</th>\n",
       "      <th>Source</th>\n",
       "      <th>Destination</th>\n",
       "      <th>Total_Stops</th>\n",
       "      <th>Dep_Day</th>\n",
       "      <th>Dep_Month</th>\n",
       "      <th>Dep_hour</th>\n",
       "      <th>Dep_min</th>\n",
       "      <th>Arrival_hour</th>\n",
       "      <th>Arrival_min</th>\n",
       "      <th>Duration_hours</th>\n",
       "      <th>Duration_Min</th>\n",
       "    </tr>\n",
       "  </thead>\n",
       "  <tbody>\n",
       "    <tr>\n",
       "      <th>0</th>\n",
       "      <td>3</td>\n",
       "      <td>0</td>\n",
       "      <td>2</td>\n",
       "      <td>0</td>\n",
       "      <td>24</td>\n",
       "      <td>3</td>\n",
       "      <td>22</td>\n",
       "      <td>20</td>\n",
       "      <td>1</td>\n",
       "      <td>10</td>\n",
       "      <td>2</td>\n",
       "      <td>50</td>\n",
       "    </tr>\n",
       "    <tr>\n",
       "      <th>1</th>\n",
       "      <td>1</td>\n",
       "      <td>3</td>\n",
       "      <td>0</td>\n",
       "      <td>2</td>\n",
       "      <td>5</td>\n",
       "      <td>1</td>\n",
       "      <td>5</td>\n",
       "      <td>50</td>\n",
       "      <td>13</td>\n",
       "      <td>15</td>\n",
       "      <td>7</td>\n",
       "      <td>25</td>\n",
       "    </tr>\n",
       "    <tr>\n",
       "      <th>2</th>\n",
       "      <td>4</td>\n",
       "      <td>2</td>\n",
       "      <td>1</td>\n",
       "      <td>2</td>\n",
       "      <td>6</td>\n",
       "      <td>9</td>\n",
       "      <td>9</td>\n",
       "      <td>25</td>\n",
       "      <td>4</td>\n",
       "      <td>25</td>\n",
       "      <td>19</td>\n",
       "      <td>0</td>\n",
       "    </tr>\n",
       "    <tr>\n",
       "      <th>3</th>\n",
       "      <td>3</td>\n",
       "      <td>3</td>\n",
       "      <td>0</td>\n",
       "      <td>1</td>\n",
       "      <td>5</td>\n",
       "      <td>12</td>\n",
       "      <td>18</td>\n",
       "      <td>5</td>\n",
       "      <td>23</td>\n",
       "      <td>30</td>\n",
       "      <td>5</td>\n",
       "      <td>25</td>\n",
       "    </tr>\n",
       "    <tr>\n",
       "      <th>4</th>\n",
       "      <td>3</td>\n",
       "      <td>0</td>\n",
       "      <td>2</td>\n",
       "      <td>1</td>\n",
       "      <td>3</td>\n",
       "      <td>1</td>\n",
       "      <td>16</td>\n",
       "      <td>50</td>\n",
       "      <td>21</td>\n",
       "      <td>35</td>\n",
       "      <td>4</td>\n",
       "      <td>45</td>\n",
       "    </tr>\n",
       "    <tr>\n",
       "      <th>...</th>\n",
       "      <td>...</td>\n",
       "      <td>...</td>\n",
       "      <td>...</td>\n",
       "      <td>...</td>\n",
       "      <td>...</td>\n",
       "      <td>...</td>\n",
       "      <td>...</td>\n",
       "      <td>...</td>\n",
       "      <td>...</td>\n",
       "      <td>...</td>\n",
       "      <td>...</td>\n",
       "      <td>...</td>\n",
       "    </tr>\n",
       "    <tr>\n",
       "      <th>10678</th>\n",
       "      <td>0</td>\n",
       "      <td>3</td>\n",
       "      <td>0</td>\n",
       "      <td>0</td>\n",
       "      <td>4</td>\n",
       "      <td>9</td>\n",
       "      <td>19</td>\n",
       "      <td>55</td>\n",
       "      <td>22</td>\n",
       "      <td>25</td>\n",
       "      <td>2</td>\n",
       "      <td>30</td>\n",
       "    </tr>\n",
       "    <tr>\n",
       "      <th>10679</th>\n",
       "      <td>1</td>\n",
       "      <td>3</td>\n",
       "      <td>0</td>\n",
       "      <td>0</td>\n",
       "      <td>27</td>\n",
       "      <td>4</td>\n",
       "      <td>20</td>\n",
       "      <td>45</td>\n",
       "      <td>23</td>\n",
       "      <td>20</td>\n",
       "      <td>2</td>\n",
       "      <td>35</td>\n",
       "    </tr>\n",
       "    <tr>\n",
       "      <th>10680</th>\n",
       "      <td>4</td>\n",
       "      <td>0</td>\n",
       "      <td>2</td>\n",
       "      <td>0</td>\n",
       "      <td>27</td>\n",
       "      <td>4</td>\n",
       "      <td>8</td>\n",
       "      <td>20</td>\n",
       "      <td>11</td>\n",
       "      <td>20</td>\n",
       "      <td>3</td>\n",
       "      <td>0</td>\n",
       "    </tr>\n",
       "    <tr>\n",
       "      <th>10681</th>\n",
       "      <td>10</td>\n",
       "      <td>0</td>\n",
       "      <td>2</td>\n",
       "      <td>0</td>\n",
       "      <td>3</td>\n",
       "      <td>1</td>\n",
       "      <td>11</td>\n",
       "      <td>30</td>\n",
       "      <td>14</td>\n",
       "      <td>10</td>\n",
       "      <td>2</td>\n",
       "      <td>40</td>\n",
       "    </tr>\n",
       "    <tr>\n",
       "      <th>10682</th>\n",
       "      <td>1</td>\n",
       "      <td>2</td>\n",
       "      <td>1</td>\n",
       "      <td>2</td>\n",
       "      <td>5</td>\n",
       "      <td>9</td>\n",
       "      <td>10</td>\n",
       "      <td>55</td>\n",
       "      <td>19</td>\n",
       "      <td>15</td>\n",
       "      <td>8</td>\n",
       "      <td>20</td>\n",
       "    </tr>\n",
       "  </tbody>\n",
       "</table>\n",
       "<p>10682 rows × 12 columns</p>\n",
       "</div>"
      ],
      "text/plain": [
       "       Airline  Source  Destination  Total_Stops  Dep_Day  Dep_Month  \\\n",
       "0            3       0            2            0       24          3   \n",
       "1            1       3            0            2        5          1   \n",
       "2            4       2            1            2        6          9   \n",
       "3            3       3            0            1        5         12   \n",
       "4            3       0            2            1        3          1   \n",
       "...        ...     ...          ...          ...      ...        ...   \n",
       "10678        0       3            0            0        4          9   \n",
       "10679        1       3            0            0       27          4   \n",
       "10680        4       0            2            0       27          4   \n",
       "10681       10       0            2            0        3          1   \n",
       "10682        1       2            1            2        5          9   \n",
       "\n",
       "       Dep_hour  Dep_min  Arrival_hour  Arrival_min  Duration_hours  \\\n",
       "0            22       20             1           10               2   \n",
       "1             5       50            13           15               7   \n",
       "2             9       25             4           25              19   \n",
       "3            18        5            23           30               5   \n",
       "4            16       50            21           35               4   \n",
       "...         ...      ...           ...          ...             ...   \n",
       "10678        19       55            22           25               2   \n",
       "10679        20       45            23           20               2   \n",
       "10680         8       20            11           20               3   \n",
       "10681        11       30            14           10               2   \n",
       "10682        10       55            19           15               8   \n",
       "\n",
       "       Duration_Min  \n",
       "0                50  \n",
       "1                25  \n",
       "2                 0  \n",
       "3                25  \n",
       "4                45  \n",
       "...             ...  \n",
       "10678            30  \n",
       "10679            35  \n",
       "10680             0  \n",
       "10681            40  \n",
       "10682            20  \n",
       "\n",
       "[10682 rows x 12 columns]"
      ]
     },
     "execution_count": 56,
     "metadata": {},
     "output_type": "execute_result"
    }
   ],
   "source": [
    "x=fl_train_df.drop('Price', axis=1)\n",
    "y=fl_train_df['Price']\n",
    "x"
   ]
  },
  {
   "cell_type": "code",
   "execution_count": 57,
   "id": "8f749080",
   "metadata": {},
   "outputs": [
    {
     "data": {
      "text/plain": [
       "Duration_hours    0.851197\n",
       "Destination       0.846631\n",
       "Airline           0.731057\n",
       "Dep_Month         0.629556\n",
       "Dep_Day           0.367212\n",
       "Total_Stops       0.317109\n",
       "Dep_min           0.167234\n",
       "Dep_hour          0.112924\n",
       "Arrival_min       0.110945\n",
       "Duration_Min     -0.090680\n",
       "Arrival_hour     -0.370146\n",
       "Source           -0.424023\n",
       "dtype: float64"
      ]
     },
     "execution_count": 57,
     "metadata": {},
     "output_type": "execute_result"
    }
   ],
   "source": [
    "# Cheking Skewness\n",
    "x.skew().sort_values(ascending=False)"
   ]
  },
  {
   "cell_type": "markdown",
   "id": "30f18534",
   "metadata": {},
   "source": [
    "Destination,Duration_hours,Airline has skewness."
   ]
  },
  {
   "cell_type": "code",
   "execution_count": 58,
   "id": "35ae030c",
   "metadata": {},
   "outputs": [],
   "source": [
    "from sklearn.preprocessing import power_transform\n",
    "x_new=power_transform(x)"
   ]
  },
  {
   "cell_type": "code",
   "execution_count": 59,
   "id": "54a36e3b",
   "metadata": {},
   "outputs": [
    {
     "data": {
      "text/plain": [
       "numpy.ndarray"
      ]
     },
     "execution_count": 59,
     "metadata": {},
     "output_type": "execute_result"
    }
   ],
   "source": [
    "type(x_new)"
   ]
  },
  {
   "cell_type": "code",
   "execution_count": 60,
   "id": "9c68f98f",
   "metadata": {},
   "outputs": [
    {
     "data": {
      "text/plain": [
       "Index(['Airline', 'Source', 'Destination', 'Total_Stops', 'Dep_Day',\n",
       "       'Dep_Month', 'Dep_hour', 'Dep_min', 'Arrival_hour', 'Arrival_min',\n",
       "       'Duration_hours', 'Duration_Min'],\n",
       "      dtype='object')"
      ]
     },
     "execution_count": 60,
     "metadata": {},
     "output_type": "execute_result"
    }
   ],
   "source": [
    "x.columns"
   ]
  },
  {
   "cell_type": "code",
   "execution_count": 61,
   "id": "b4d17aca",
   "metadata": {},
   "outputs": [
    {
     "data": {
      "text/html": [
       "<div>\n",
       "<style scoped>\n",
       "    .dataframe tbody tr th:only-of-type {\n",
       "        vertical-align: middle;\n",
       "    }\n",
       "\n",
       "    .dataframe tbody tr th {\n",
       "        vertical-align: top;\n",
       "    }\n",
       "\n",
       "    .dataframe thead th {\n",
       "        text-align: right;\n",
       "    }\n",
       "</style>\n",
       "<table border=\"1\" class=\"dataframe\">\n",
       "  <thead>\n",
       "    <tr style=\"text-align: right;\">\n",
       "      <th></th>\n",
       "      <th>Airline</th>\n",
       "      <th>Source</th>\n",
       "      <th>Destination</th>\n",
       "      <th>Total_Stops</th>\n",
       "      <th>Dep_Day</th>\n",
       "      <th>Dep_Month</th>\n",
       "      <th>Dep_hour</th>\n",
       "      <th>Dep_min</th>\n",
       "      <th>Arrival_hour</th>\n",
       "      <th>Arrival_min</th>\n",
       "      <th>Duration_hours</th>\n",
       "      <th>Duration_Min</th>\n",
       "    </tr>\n",
       "  </thead>\n",
       "  <tbody>\n",
       "    <tr>\n",
       "      <th>0</th>\n",
       "      <td>-0.295676</td>\n",
       "      <td>-1.599652</td>\n",
       "      <td>0.907576</td>\n",
       "      <td>-1.297820</td>\n",
       "      <td>1.179430</td>\n",
       "      <td>-0.819890</td>\n",
       "      <td>1.545888</td>\n",
       "      <td>0.023186</td>\n",
       "      <td>-1.790733</td>\n",
       "      <td>-0.776578</td>\n",
       "      <td>-1.175643</td>\n",
       "      <td>1.200413</td>\n",
       "    </tr>\n",
       "    <tr>\n",
       "      <th>1</th>\n",
       "      <td>-1.420475</td>\n",
       "      <td>0.902015</td>\n",
       "      <td>-1.392116</td>\n",
       "      <td>1.574617</td>\n",
       "      <td>-0.823967</td>\n",
       "      <td>-1.885442</td>\n",
       "      <td>-1.356237</td>\n",
       "      <td>1.179354</td>\n",
       "      <td>-0.056006</td>\n",
       "      <td>-0.433010</td>\n",
       "      <td>-0.055254</td>\n",
       "      <td>-0.099976</td>\n",
       "    </tr>\n",
       "    <tr>\n",
       "      <th>2</th>\n",
       "      <td>0.147591</td>\n",
       "      <td>-0.012096</td>\n",
       "      <td>0.029552</td>\n",
       "      <td>1.574617</td>\n",
       "      <td>-0.601518</td>\n",
       "      <td>1.138592</td>\n",
       "      <td>-0.548198</td>\n",
       "      <td>0.255935</td>\n",
       "      <td>-1.362584</td>\n",
       "      <td>0.156840</td>\n",
       "      <td>1.074715</td>\n",
       "      <td>-1.877928</td>\n",
       "    </tr>\n",
       "    <tr>\n",
       "      <th>3</th>\n",
       "      <td>-0.295676</td>\n",
       "      <td>0.902015</td>\n",
       "      <td>-1.392116</td>\n",
       "      <td>0.358782</td>\n",
       "      <td>-0.823967</td>\n",
       "      <td>1.847402</td>\n",
       "      <td>0.956329</td>\n",
       "      <td>-0.933677</td>\n",
       "      <td>1.413910</td>\n",
       "      <td>0.420855</td>\n",
       "      <td>-0.393117</td>\n",
       "      <td>-0.099976</td>\n",
       "    </tr>\n",
       "    <tr>\n",
       "      <th>4</th>\n",
       "      <td>-0.295676</td>\n",
       "      <td>-1.599652</td>\n",
       "      <td>0.907576</td>\n",
       "      <td>0.358782</td>\n",
       "      <td>-1.416260</td>\n",
       "      <td>-1.885442</td>\n",
       "      <td>0.646652</td>\n",
       "      <td>1.179354</td>\n",
       "      <td>1.118899</td>\n",
       "      <td>0.670321</td>\n",
       "      <td>-0.603213</td>\n",
       "      <td>0.955571</td>\n",
       "    </tr>\n",
       "    <tr>\n",
       "      <th>...</th>\n",
       "      <td>...</td>\n",
       "      <td>...</td>\n",
       "      <td>...</td>\n",
       "      <td>...</td>\n",
       "      <td>...</td>\n",
       "      <td>...</td>\n",
       "      <td>...</td>\n",
       "      <td>...</td>\n",
       "      <td>...</td>\n",
       "      <td>...</td>\n",
       "      <td>...</td>\n",
       "      <td>...</td>\n",
       "    </tr>\n",
       "    <tr>\n",
       "      <th>10677</th>\n",
       "      <td>-2.244258</td>\n",
       "      <td>0.902015</td>\n",
       "      <td>-1.392116</td>\n",
       "      <td>-1.297820</td>\n",
       "      <td>-1.089003</td>\n",
       "      <td>1.138592</td>\n",
       "      <td>1.107195</td>\n",
       "      <td>1.334321</td>\n",
       "      <td>1.266349</td>\n",
       "      <td>0.156840</td>\n",
       "      <td>-1.175643</td>\n",
       "      <td>0.178061</td>\n",
       "    </tr>\n",
       "    <tr>\n",
       "      <th>10678</th>\n",
       "      <td>-1.420475</td>\n",
       "      <td>0.902015</td>\n",
       "      <td>-1.392116</td>\n",
       "      <td>-1.297820</td>\n",
       "      <td>1.333246</td>\n",
       "      <td>-0.407861</td>\n",
       "      <td>1.255645</td>\n",
       "      <td>1.016696</td>\n",
       "      <td>1.413910</td>\n",
       "      <td>-0.125677</td>\n",
       "      <td>-1.175643</td>\n",
       "      <td>0.445547</td>\n",
       "    </tr>\n",
       "    <tr>\n",
       "      <th>10679</th>\n",
       "      <td>0.147591</td>\n",
       "      <td>-1.599652</td>\n",
       "      <td>0.907576</td>\n",
       "      <td>-1.297820</td>\n",
       "      <td>1.333246</td>\n",
       "      <td>-0.407861</td>\n",
       "      <td>-0.738484</td>\n",
       "      <td>0.023186</td>\n",
       "      <td>-0.348125</td>\n",
       "      <td>-0.125677</td>\n",
       "      <td>-0.856175</td>\n",
       "      <td>-1.877928</td>\n",
       "    </tr>\n",
       "    <tr>\n",
       "      <th>10680</th>\n",
       "      <td>2.122962</td>\n",
       "      <td>-1.599652</td>\n",
       "      <td>0.907576</td>\n",
       "      <td>-1.297820</td>\n",
       "      <td>-1.416260</td>\n",
       "      <td>-1.885442</td>\n",
       "      <td>-0.185064</td>\n",
       "      <td>0.467472</td>\n",
       "      <td>0.090331</td>\n",
       "      <td>-0.776578</td>\n",
       "      <td>-1.175643</td>\n",
       "      <td>0.704280</td>\n",
       "    </tr>\n",
       "    <tr>\n",
       "      <th>10681</th>\n",
       "      <td>-1.420475</td>\n",
       "      <td>-0.012096</td>\n",
       "      <td>0.029552</td>\n",
       "      <td>1.574617</td>\n",
       "      <td>-0.823967</td>\n",
       "      <td>1.138592</td>\n",
       "      <td>-0.363964</td>\n",
       "      <td>1.334321</td>\n",
       "      <td>0.824351</td>\n",
       "      <td>-0.433010</td>\n",
       "      <td>0.085355</td>\n",
       "      <td>-0.391165</td>\n",
       "    </tr>\n",
       "  </tbody>\n",
       "</table>\n",
       "<p>10682 rows × 12 columns</p>\n",
       "</div>"
      ],
      "text/plain": [
       "        Airline    Source  Destination  Total_Stops   Dep_Day  Dep_Month  \\\n",
       "0     -0.295676 -1.599652     0.907576    -1.297820  1.179430  -0.819890   \n",
       "1     -1.420475  0.902015    -1.392116     1.574617 -0.823967  -1.885442   \n",
       "2      0.147591 -0.012096     0.029552     1.574617 -0.601518   1.138592   \n",
       "3     -0.295676  0.902015    -1.392116     0.358782 -0.823967   1.847402   \n",
       "4     -0.295676 -1.599652     0.907576     0.358782 -1.416260  -1.885442   \n",
       "...         ...       ...          ...          ...       ...        ...   \n",
       "10677 -2.244258  0.902015    -1.392116    -1.297820 -1.089003   1.138592   \n",
       "10678 -1.420475  0.902015    -1.392116    -1.297820  1.333246  -0.407861   \n",
       "10679  0.147591 -1.599652     0.907576    -1.297820  1.333246  -0.407861   \n",
       "10680  2.122962 -1.599652     0.907576    -1.297820 -1.416260  -1.885442   \n",
       "10681 -1.420475 -0.012096     0.029552     1.574617 -0.823967   1.138592   \n",
       "\n",
       "       Dep_hour   Dep_min  Arrival_hour  Arrival_min  Duration_hours  \\\n",
       "0      1.545888  0.023186     -1.790733    -0.776578       -1.175643   \n",
       "1     -1.356237  1.179354     -0.056006    -0.433010       -0.055254   \n",
       "2     -0.548198  0.255935     -1.362584     0.156840        1.074715   \n",
       "3      0.956329 -0.933677      1.413910     0.420855       -0.393117   \n",
       "4      0.646652  1.179354      1.118899     0.670321       -0.603213   \n",
       "...         ...       ...           ...          ...             ...   \n",
       "10677  1.107195  1.334321      1.266349     0.156840       -1.175643   \n",
       "10678  1.255645  1.016696      1.413910    -0.125677       -1.175643   \n",
       "10679 -0.738484  0.023186     -0.348125    -0.125677       -0.856175   \n",
       "10680 -0.185064  0.467472      0.090331    -0.776578       -1.175643   \n",
       "10681 -0.363964  1.334321      0.824351    -0.433010        0.085355   \n",
       "\n",
       "       Duration_Min  \n",
       "0          1.200413  \n",
       "1         -0.099976  \n",
       "2         -1.877928  \n",
       "3         -0.099976  \n",
       "4          0.955571  \n",
       "...             ...  \n",
       "10677      0.178061  \n",
       "10678      0.445547  \n",
       "10679     -1.877928  \n",
       "10680      0.704280  \n",
       "10681     -0.391165  \n",
       "\n",
       "[10682 rows x 12 columns]"
      ]
     },
     "execution_count": 61,
     "metadata": {},
     "output_type": "execute_result"
    }
   ],
   "source": [
    "x=pd.DataFrame(x_new, columns=x.columns)\n",
    "x"
   ]
  },
  {
   "cell_type": "code",
   "execution_count": 62,
   "id": "6adbf8a5",
   "metadata": {},
   "outputs": [
    {
     "data": {
      "text/plain": [
       "Dep_Day           0.016927\n",
       "Destination      -0.013141\n",
       "Airline          -0.015281\n",
       "Dep_Month        -0.026460\n",
       "Duration_hours   -0.029588\n",
       "Total_Stops      -0.059185\n",
       "Dep_hour         -0.104258\n",
       "Source           -0.238295\n",
       "Arrival_min      -0.347628\n",
       "Arrival_hour     -0.356878\n",
       "Dep_min          -0.359497\n",
       "Duration_Min     -0.375848\n",
       "dtype: float64"
      ]
     },
     "execution_count": 62,
     "metadata": {},
     "output_type": "execute_result"
    }
   ],
   "source": [
    "# Again Cheking Skewness if it has been removed \n",
    "x.skew().sort_values(ascending=False)"
   ]
  },
  {
   "cell_type": "code",
   "execution_count": null,
   "id": "cef18dfc",
   "metadata": {},
   "outputs": [],
   "source": []
  },
  {
   "cell_type": "code",
   "execution_count": 63,
   "id": "c9274161",
   "metadata": {},
   "outputs": [
    {
     "data": {
      "text/plain": [
       "True"
      ]
     },
     "execution_count": 63,
     "metadata": {},
     "output_type": "execute_result"
    }
   ],
   "source": [
    "x.skew()[np.abs(x.skew())<0.25].all()"
   ]
  },
  {
   "cell_type": "markdown",
   "id": "e95b3ce0",
   "metadata": {},
   "source": [
    "Skewness is removed."
   ]
  },
  {
   "cell_type": "markdown",
   "id": "9fc6677e",
   "metadata": {},
   "source": [
    "## Checking Outliers"
   ]
  },
  {
   "cell_type": "code",
   "execution_count": 64,
   "id": "6b6ac261",
   "metadata": {},
   "outputs": [
    {
     "data": {
      "text/plain": [
       "Airline              AxesSubplot(0.125,0.657941;0.168478x0.222059)\n",
       "Source            AxesSubplot(0.327174,0.657941;0.168478x0.222059)\n",
       "Destination       AxesSubplot(0.529348,0.657941;0.168478x0.222059)\n",
       "Total_Stops       AxesSubplot(0.731522,0.657941;0.168478x0.222059)\n",
       "Dep_Day              AxesSubplot(0.125,0.391471;0.168478x0.222059)\n",
       "Dep_Month         AxesSubplot(0.327174,0.391471;0.168478x0.222059)\n",
       "Dep_hour          AxesSubplot(0.529348,0.391471;0.168478x0.222059)\n",
       "Dep_min           AxesSubplot(0.731522,0.391471;0.168478x0.222059)\n",
       "Arrival_hour            AxesSubplot(0.125,0.125;0.168478x0.222059)\n",
       "Arrival_min          AxesSubplot(0.327174,0.125;0.168478x0.222059)\n",
       "Duration_hours       AxesSubplot(0.529348,0.125;0.168478x0.222059)\n",
       "Duration_Min         AxesSubplot(0.731522,0.125;0.168478x0.222059)\n",
       "dtype: object"
      ]
     },
     "execution_count": 64,
     "metadata": {},
     "output_type": "execute_result"
    },
    {
     "data": {
      "image/png": "[encoded data removed]",
      "text/plain": [
       "<Figure size 720x720 with 12 Axes>"
      ]
     },
     "metadata": {},
     "output_type": "display_data"
    }
   ],
   "source": [
    "x.plot(kind='box',subplots=True,layout=(3,4),figsize=(10,10))"
   ]
  },
  {
   "cell_type": "markdown",
   "id": "dc769642",
   "metadata": {},
   "source": [
    "There are no outliers."
   ]
  },
  {
   "cell_type": "markdown",
   "id": "1d682f07",
   "metadata": {},
   "source": [
    "### Feature Scalling"
   ]
  },
  {
   "cell_type": "code",
   "execution_count": 65,
   "id": "218be708",
   "metadata": {},
   "outputs": [],
   "source": [
    "# Performing Standard scaler\n",
    "sc = StandardScaler()\n",
    "X = sc.fit_transform(x)\n",
    "fl_test = sc.fit_transform(fl_test_df)"
   ]
  },
  {
   "cell_type": "code",
   "execution_count": 66,
   "id": "efd36648",
   "metadata": {},
   "outputs": [
    {
     "data": {
      "text/plain": [
       "array([[-0.29567552, -1.59965221,  0.90757599, ..., -0.77657798,\n",
       "        -1.17564313,  1.20041293],\n",
       "       [-1.4204747 ,  0.90201529, -1.39211617, ..., -0.43301039,\n",
       "        -0.05525394, -0.09997587],\n",
       "       [ 0.14759112, -0.01209588,  0.02955217, ...,  0.15684039,\n",
       "         1.07471547, -1.87792766],\n",
       "       ...,\n",
       "       [ 0.14759112, -1.59965221,  0.90757599, ..., -0.12567658,\n",
       "        -0.85617477, -1.87792766],\n",
       "       [ 2.12296151, -1.59965221,  0.90757599, ..., -0.77657798,\n",
       "        -1.17564313,  0.70428035],\n",
       "       [-1.4204747 , -0.01209588,  0.02955217, ..., -0.43301039,\n",
       "         0.0853554 , -0.39116479]])"
      ]
     },
     "execution_count": 66,
     "metadata": {},
     "output_type": "execute_result"
    }
   ],
   "source": [
    "X"
   ]
  },
  {
   "cell_type": "markdown",
   "id": "63ebec33",
   "metadata": {},
   "source": [
    "## Finding Best Random State"
   ]
  },
  {
   "cell_type": "code",
   "execution_count": 67,
   "id": "35706b8f",
   "metadata": {},
   "outputs": [
    {
     "name": "stdout",
     "output_type": "stream",
     "text": [
      "Best score is 0.5201357968198729 on Random State 64\n"
     ]
    }
   ],
   "source": [
    "maxScore = 0\n",
    "maxRS = 0\n",
    "\n",
    "for i in range(1,200):\n",
    "    x_train,x_test,y_train,y_test=train_test_split(X,y,test_size=0.3,random_state=i)\n",
    "    lr = LinearRegression()\n",
    "    lr.fit(x_train,y_train)\n",
    "    pred_train = lr.predict(x_train)\n",
    "    pred_test = lr.predict(x_test)\n",
    "    acc=r2_score(y_test,pred_test)\n",
    "    if acc>maxScore:\n",
    "        maxScore=acc\n",
    "        maxRS=i\n",
    "print('Best score is',maxScore,'on Random State',maxRS)"
   ]
  },
  {
   "cell_type": "markdown",
   "id": "cc204864",
   "metadata": {},
   "source": [
    "## Checking with different algorithms"
   ]
  },
  {
   "cell_type": "code",
   "execution_count": 68,
   "id": "b36ae5ae",
   "metadata": {},
   "outputs": [
    {
     "name": "stdout",
     "output_type": "stream",
     "text": [
      "Train Score of LinearRegression() is: 0.44305406894215327\n",
      "r2_score 0.5201357968198729\n",
      "mean_squred_error 8907579.355311653\n",
      "RMSE 2984.556810535134 \n",
      "\n",
      "Train Score of Lasso() is: 0.4430535327513274\n",
      "r2_score 0.5201930574066636\n",
      "mean_squred_error 8906516.443726689\n",
      "RMSE 2984.3787366429697 \n",
      "\n",
      "Train Score of Ridge() is: 0.44305405959610955\n",
      "r2_score 0.5201435091581713\n",
      "mean_squred_error 8907436.19342345\n",
      "RMSE 2984.532826662064 \n",
      "\n",
      "Train Score of DecisionTreeRegressor() is: 0.9749527302581628\n",
      "r2_score 0.6544972374863609\n",
      "mean_squred_error 6413467.089593256\n",
      "RMSE 2532.4823966995814 \n",
      "\n",
      "Train Score of KNeighborsRegressor() is: 0.788721910802874\n",
      "r2_score 0.7081944087724568\n",
      "mean_squred_error 5416702.148143525\n",
      "RMSE 2327.3809632596735 \n",
      "\n"
     ]
    }
   ],
   "source": [
    "model = [LinearRegression(),Lasso(alpha=1.0),Ridge(alpha=1.0),DecisionTreeRegressor(criterion='squared_error'),\n",
    "         KNeighborsRegressor()]\n",
    "for i in model:\n",
    "    X_train1,X_test1,y_train1,y_test1 = train_test_split(X,y, test_size = 0.3, random_state =maxRS)\n",
    "    i.fit(X_train1,y_train1)\n",
    "    pred = i.predict(X_test1)\n",
    "    print('Train Score of', i , 'is:' , i.score(X_train1,y_train1))\n",
    "    print(\"r2_score\", r2_score(y_test1, pred))\n",
    "    print(\"mean_squred_error\", mean_squared_error(y_test1, pred))\n",
    "    print(\"RMSE\", np.sqrt(mean_squared_error(y_test1, pred)),\"\\n\")"
   ]
  },
  {
   "cell_type": "markdown",
   "id": "4548df2a",
   "metadata": {},
   "source": [
    "Have checked Multiple Model and their score also. I have found that KNeighborsRegressor() is working well on the dataset and have given less RMSE score . Now i will check with ensemble method to boost up score."
   ]
  },
  {
   "cell_type": "markdown",
   "id": "9de22390",
   "metadata": {},
   "source": [
    "## Using Ensemble Technique to boostup score"
   ]
  },
  {
   "cell_type": "markdown",
   "id": "926fcd03",
   "metadata": {},
   "source": [
    "### RandomForestRegressor"
   ]
  },
  {
   "cell_type": "code",
   "execution_count": 69,
   "id": "4a656337",
   "metadata": {},
   "outputs": [
    {
     "name": "stdout",
     "output_type": "stream",
     "text": [
      "Train Score of RandomForestRegressor(random_state=64) is: 0.9514090545570778\n",
      "r2_score 0.7938030086637775\n",
      "mean_squred_error 3827574.657542148\n",
      "RMSE 1956.4188348976168\n"
     ]
    }
   ],
   "source": [
    "from sklearn.ensemble import RandomForestRegressor\n",
    "\n",
    "rf=RandomForestRegressor(n_estimators=100,random_state=64,criterion='squared_error', min_samples_split=2, min_samples_leaf=1)\n",
    "#RandomForestClassifier(100)---Default\n",
    "rf.fit(X_train1,y_train1)\n",
    "predrf=rf.predict(X_test1)\n",
    "print('Train Score of', rf , 'is:' , rf.score(X_train1,y_train1))\n",
    "print(\"r2_score\", r2_score(y_test1, predrf))\n",
    "print(\"mean_squred_error\", mean_squared_error(y_test1, predrf))\n",
    "print(\"RMSE\", np.sqrt(mean_squared_error(y_test1, predrf)))"
   ]
  },
  {
   "cell_type": "markdown",
   "id": "c65eed45",
   "metadata": {},
   "source": [
    "There is much difference between train score and test score. so the model is overfitting."
   ]
  },
  {
   "cell_type": "markdown",
   "id": "e9cf34c1",
   "metadata": {},
   "source": [
    "### AdaBoostRegressor"
   ]
  },
  {
   "cell_type": "code",
   "execution_count": 70,
   "id": "fe058ab2",
   "metadata": {},
   "outputs": [
    {
     "name": "stdout",
     "output_type": "stream",
     "text": [
      "Train Score of AdaBoostRegressor(random_state=64) is: 0.43776127073842797\n",
      "r2_score 0.3304557415027817\n",
      "mean_squred_error 12428554.943112835\n",
      "RMSE 3525.4155702715157\n"
     ]
    }
   ],
   "source": [
    "from sklearn.ensemble import AdaBoostRegressor\n",
    "\n",
    "ABr=AdaBoostRegressor( base_estimator=None,n_estimators=50,learning_rate=1.0,loss='linear',random_state=64,)\n",
    "#RandomForestClassifier(50)---Default\n",
    "ABr.fit(X_train1,y_train1)\n",
    "predAbr=ABr.predict(X_test1)\n",
    "print('Train Score of', ABr , 'is:' , ABr.score(X_train1,y_train1))\n",
    "print(\"r2_score\", r2_score(y_test1, predAbr))\n",
    "print(\"mean_squred_error\", mean_squared_error(y_test1, predAbr))\n",
    "print(\"RMSE\", np.sqrt(mean_squared_error(y_test1, predAbr)))"
   ]
  },
  {
   "cell_type": "markdown",
   "id": "febec8dd",
   "metadata": {},
   "source": [
    "### GradientBoostingRegressor"
   ]
  },
  {
   "cell_type": "code",
   "execution_count": 71,
   "id": "8107cd60",
   "metadata": {},
   "outputs": [
    {
     "name": "stdout",
     "output_type": "stream",
     "text": [
      "Train Score of GradientBoostingRegressor() is: 0.7843975603819493\n",
      "r2_score 0.7777511602893274\n",
      "mean_squred_error 4125540.4408768415\n",
      "RMSE 2031.142644148077 \n",
      "\n"
     ]
    }
   ],
   "source": [
    "from sklearn.ensemble import GradientBoostingRegressor\n",
    "\n",
    "Gradient_Boost=GradientBoostingRegressor(n_estimators=100,loss='squared_error',learning_rate=0.1,criterion='friedman_mse', min_samples_split=2, min_samples_leaf=1)\n",
    "#GradientBoostingRegressor(100)---Default\n",
    "Gradient_Boost.fit(X_train1,y_train1)\n",
    "predgb=Gradient_Boost.predict(X_test1)\n",
    "print('Train Score of', Gradient_Boost , 'is:' , Gradient_Boost.score(X_train1,y_train1))\n",
    "print(\"r2_score\", r2_score(y_test1, predgb))\n",
    "print(\"mean_squred_error\", mean_squared_error(y_test1, predgb))\n",
    "print(\"RMSE\", np.sqrt(mean_squared_error(y_test1, predgb)),\"\\n\")"
   ]
  },
  {
   "cell_type": "markdown",
   "id": "874a2d06",
   "metadata": {},
   "source": [
    "**I have found that GradientBoostingRegressor() is working well on the dataset with least train score and test score difference and have given less RMSE score . So i am selecting GradientBoostingRegressor for final Model.**"
   ]
  },
  {
   "cell_type": "markdown",
   "id": "fb3015aa",
   "metadata": {},
   "source": [
    "## Hyper Parameter Tuning"
   ]
  },
  {
   "cell_type": "code",
   "execution_count": 72,
   "id": "31652c35",
   "metadata": {},
   "outputs": [
    {
     "name": "stdout",
     "output_type": "stream",
     "text": [
      "Fitting 5 folds for each of 10 candidates, totalling 50 fits\n",
      "{'n_estimators': 300, 'max_depth': 3, 'learning_rate': 0.1}\n"
     ]
    }
   ],
   "source": [
    "Gradient_Boost = GradientBoostingRegressor()\n",
    "Para = {\"n_estimators\":[100,200,300,400],\n",
    "        \"learning_rate\":[0.1,0.3,0.5],\n",
    "        \"max_depth\" :[3,5,7,9,10]}\n",
    "\n",
    "Rand_search = RandomizedSearchCV(Gradient_Boost,Para,cv = 5,scoring = \"r2\",n_jobs =-1,verbose = 2) \n",
    "Rand_search.fit(X_train1,y_train1)\n",
    "print(Rand_search.best_params_)"
   ]
  },
  {
   "cell_type": "code",
   "execution_count": 73,
   "id": "ca194650",
   "metadata": {},
   "outputs": [],
   "source": [
    "prediction = Rand_search.predict(X_test1)"
   ]
  },
  {
   "cell_type": "code",
   "execution_count": 83,
   "id": "03cdaf3b",
   "metadata": {},
   "outputs": [
    {
     "name": "stdout",
     "output_type": "stream",
     "text": [
      "R2_Score: 80.47710784831041\n",
      "RMSE value: 2129.4774679993234\n"
     ]
    }
   ],
   "source": [
    "Price = GradientBoostingRegressor(n_estimators= 300, max_depth= 3, learning_rate =0.1)\n",
    "Price.fit(x_train, y_train)\n",
    "pred = Price.predict(x_test)\n",
    "print('R2_Score:',r2_score(y_test,pred)*100)\n",
    "print(\"RMSE value:\",np.sqrt(mean_squared_error(y_test, pred)))"
   ]
  },
  {
   "cell_type": "markdown",
   "id": "d5ebc2ae",
   "metadata": {},
   "source": [
    "### Plotting the residuals."
   ]
  },
  {
   "cell_type": "code",
   "execution_count": 84,
   "id": "cbd5a5b2",
   "metadata": {},
   "outputs": [
    {
     "data": {
      "image/png": "[encoded data removed]",
      "text/plain": [
       "<Figure size 576x576 with 1 Axes>"
      ]
     },
     "metadata": {},
     "output_type": "display_data"
    }
   ],
   "source": [
    "plt.figure(figsize = (8,8))\n",
    "sns.distplot(y_test1-prediction)\n",
    "plt.show()"
   ]
  },
  {
   "cell_type": "markdown",
   "id": "0f8eee70",
   "metadata": {},
   "source": [
    "As we can see that most of the residuals are 0, which means our model is generalizing well."
   ]
  },
  {
   "cell_type": "markdown",
   "id": "7a3249a5",
   "metadata": {},
   "source": [
    "## Cross Validation"
   ]
  },
  {
   "cell_type": "code",
   "execution_count": 85,
   "id": "de2c433e",
   "metadata": {},
   "outputs": [
    {
     "name": "stdout",
     "output_type": "stream",
     "text": [
      "2 mean 0.7919443443221532 and STD 0.0021048920575445496\n",
      "3 mean 0.8007221795346283 and STD 0.008130786291244701\n",
      "4 mean 0.8007585590387961 and STD 0.020663281612748816\n",
      "5 mean 0.8062401337558743 and STD 0.01003259062735334\n",
      "6 mean 0.8021117810826489 and STD 0.01179268926760376\n",
      "7 mean 0.8025562393783945 and STD 0.014200839728644683\n",
      "8 mean 0.804696050848249 and STD 0.0317546057052126\n",
      "9 mean 0.804138943540766 and STD 0.018808458000540255\n",
      "10 mean 0.8044644208761669 and STD 0.018457015184725884\n"
     ]
    }
   ],
   "source": [
    "best_Gradient_Boost = GradientBoostingRegressor(n_estimators= 300, max_depth = 3, learning_rate = 0.1)\n",
    "\n",
    "for i in range(2,11):\n",
    "    cross_score = cross_val_score(best_Gradient_Boost,X,y,cv = i,n_jobs = -1) \n",
    "    print(i,\"mean\",cross_score.mean() ,\"and STD\" , cross_score.std())"
   ]
  },
  {
   "cell_type": "code",
   "execution_count": 104,
   "id": "257e8931",
   "metadata": {},
   "outputs": [
    {
     "name": "stdout",
     "output_type": "stream",
     "text": [
      "Score: [0.79355679 0.79784836 0.82207916 0.80919562 0.80972126]\n",
      "Mean Score: 0.8064802356440313\n",
      "Standard Deviation: 0.010027249274831028\n"
     ]
    }
   ],
   "source": [
    "# Cross validate of GradientBoostingRegressor using cv=5\n",
    "from sklearn.model_selection import cross_val_score\n",
    "score=cross_val_score(best_Gradient_Boost,X,y,cv=5,scoring='r2')\n",
    "print('Score:', score)\n",
    "print('Mean Score:', score.mean())\n",
    "print('Standard Deviation:', score.std())"
   ]
  },
  {
   "cell_type": "markdown",
   "id": "ff3a5b5f",
   "metadata": {},
   "source": [
    "## Plotting y_test vs predictions."
   ]
  },
  {
   "cell_type": "code",
   "execution_count": 100,
   "id": "1f77a611",
   "metadata": {},
   "outputs": [
    {
     "data": {
      "image/png": "[encoded data removed]",
      "text/plain": [
       "<Figure size 576x576 with 1 Axes>"
      ]
     },
     "metadata": {},
     "output_type": "display_data"
    }
   ],
   "source": [
    "plt.figure(figsize = (8,8))\n",
    "plt.scatter(y_test1, prediction, alpha = 0.5)\n",
    "plt.xlabel(\"y_test1\")\n",
    "plt.ylabel(\"prediction\")\n",
    "plt.show()"
   ]
  },
  {
   "cell_type": "markdown",
   "id": "3370248e",
   "metadata": {},
   "source": [
    "## Saving Model"
   ]
  },
  {
   "cell_type": "code",
   "execution_count": 86,
   "id": "e0acceaa",
   "metadata": {},
   "outputs": [],
   "source": [
    "import pickle\n",
    "# Saving the GradientBoostRegressor\n",
    "best_Gradient_Boost.fit(X,y)\n",
    "pred = best_Gradient_Boost.predict(fl_test)\n",
    "\n",
    "# Saving model\n",
    "\n",
    "filename = \"Flight_price_prediction.pkl\"\n",
    "\n",
    "with open(filename,\"wb\") as f:\n",
    "    pickle.dump(best_Gradient_Boost,f)"
   ]
  },
  {
   "cell_type": "code",
   "execution_count": 87,
   "id": "e632cf18",
   "metadata": {},
   "outputs": [],
   "source": [
    "loaded_model=pickle.load(open('Flight_price_prediction.pkl','rb'))"
   ]
  },
  {
   "cell_type": "code",
   "execution_count": 88,
   "id": "4399a5ab",
   "metadata": {},
   "outputs": [
    {
     "data": {
      "text/html": [
       "<div>\n",
       "<style scoped>\n",
       "    .dataframe tbody tr th:only-of-type {\n",
       "        vertical-align: middle;\n",
       "    }\n",
       "\n",
       "    .dataframe tbody tr th {\n",
       "        vertical-align: top;\n",
       "    }\n",
       "\n",
       "    .dataframe thead th {\n",
       "        text-align: right;\n",
       "    }\n",
       "</style>\n",
       "<table border=\"1\" class=\"dataframe\">\n",
       "  <thead>\n",
       "    <tr style=\"text-align: right;\">\n",
       "      <th></th>\n",
       "      <th>0</th>\n",
       "    </tr>\n",
       "  </thead>\n",
       "  <tbody>\n",
       "    <tr>\n",
       "      <th>0</th>\n",
       "      <td>11690.891014</td>\n",
       "    </tr>\n",
       "    <tr>\n",
       "      <th>1</th>\n",
       "      <td>4401.640797</td>\n",
       "    </tr>\n",
       "    <tr>\n",
       "      <th>2</th>\n",
       "      <td>12150.095708</td>\n",
       "    </tr>\n",
       "    <tr>\n",
       "      <th>3</th>\n",
       "      <td>10218.996811</td>\n",
       "    </tr>\n",
       "    <tr>\n",
       "      <th>4</th>\n",
       "      <td>5407.972602</td>\n",
       "    </tr>\n",
       "    <tr>\n",
       "      <th>...</th>\n",
       "      <td>...</td>\n",
       "    </tr>\n",
       "    <tr>\n",
       "      <th>2666</th>\n",
       "      <td>8240.173394</td>\n",
       "    </tr>\n",
       "    <tr>\n",
       "      <th>2667</th>\n",
       "      <td>5552.663290</td>\n",
       "    </tr>\n",
       "    <tr>\n",
       "      <th>2668</th>\n",
       "      <td>7677.790216</td>\n",
       "    </tr>\n",
       "    <tr>\n",
       "      <th>2669</th>\n",
       "      <td>6781.949676</td>\n",
       "    </tr>\n",
       "    <tr>\n",
       "      <th>2670</th>\n",
       "      <td>8968.829725</td>\n",
       "    </tr>\n",
       "  </tbody>\n",
       "</table>\n",
       "<p>2671 rows × 1 columns</p>\n",
       "</div>"
      ],
      "text/plain": [
       "                 0\n",
       "0     11690.891014\n",
       "1      4401.640797\n",
       "2     12150.095708\n",
       "3     10218.996811\n",
       "4      5407.972602\n",
       "...            ...\n",
       "2666   8240.173394\n",
       "2667   5552.663290\n",
       "2668   7677.790216\n",
       "2669   6781.949676\n",
       "2670   8968.829725\n",
       "\n",
       "[2671 rows x 1 columns]"
      ]
     },
     "execution_count": 88,
     "metadata": {},
     "output_type": "execute_result"
    }
   ],
   "source": [
    "Test_pred=loaded_model.predict(fl_test)\n",
    "Y_tst=pd.DataFrame(data=Test_pred)\n",
    "\n",
    "Y_tst"
   ]
  },
  {
   "cell_type": "code",
   "execution_count": 89,
   "id": "6464e46f",
   "metadata": {},
   "outputs": [
    {
     "data": {
      "text/plain": [
       "(2671, 13)"
      ]
     },
     "execution_count": 89,
     "metadata": {},
     "output_type": "execute_result"
    }
   ],
   "source": [
    "fl_test_df.shape"
   ]
  },
  {
   "cell_type": "code",
   "execution_count": 90,
   "id": "728f9dcc",
   "metadata": {},
   "outputs": [
    {
     "data": {
      "text/html": [
       "<div>\n",
       "<style scoped>\n",
       "    .dataframe tbody tr th:only-of-type {\n",
       "        vertical-align: middle;\n",
       "    }\n",
       "\n",
       "    .dataframe tbody tr th {\n",
       "        vertical-align: top;\n",
       "    }\n",
       "\n",
       "    .dataframe thead th {\n",
       "        text-align: right;\n",
       "    }\n",
       "</style>\n",
       "<table border=\"1\" class=\"dataframe\">\n",
       "  <thead>\n",
       "    <tr style=\"text-align: right;\">\n",
       "      <th></th>\n",
       "      <th>0</th>\n",
       "    </tr>\n",
       "  </thead>\n",
       "  <tbody>\n",
       "    <tr>\n",
       "      <th>0</th>\n",
       "      <td>11690.891014</td>\n",
       "    </tr>\n",
       "    <tr>\n",
       "      <th>1</th>\n",
       "      <td>4401.640797</td>\n",
       "    </tr>\n",
       "    <tr>\n",
       "      <th>2</th>\n",
       "      <td>12150.095708</td>\n",
       "    </tr>\n",
       "    <tr>\n",
       "      <th>3</th>\n",
       "      <td>10218.996811</td>\n",
       "    </tr>\n",
       "    <tr>\n",
       "      <th>4</th>\n",
       "      <td>5407.972602</td>\n",
       "    </tr>\n",
       "    <tr>\n",
       "      <th>...</th>\n",
       "      <td>...</td>\n",
       "    </tr>\n",
       "    <tr>\n",
       "      <th>2666</th>\n",
       "      <td>8240.173394</td>\n",
       "    </tr>\n",
       "    <tr>\n",
       "      <th>2667</th>\n",
       "      <td>5552.663290</td>\n",
       "    </tr>\n",
       "    <tr>\n",
       "      <th>2668</th>\n",
       "      <td>7677.790216</td>\n",
       "    </tr>\n",
       "    <tr>\n",
       "      <th>2669</th>\n",
       "      <td>6781.949676</td>\n",
       "    </tr>\n",
       "    <tr>\n",
       "      <th>2670</th>\n",
       "      <td>8968.829725</td>\n",
       "    </tr>\n",
       "  </tbody>\n",
       "</table>\n",
       "<p>2671 rows × 1 columns</p>\n",
       "</div>"
      ],
      "text/plain": [
       "                 0\n",
       "0     11690.891014\n",
       "1      4401.640797\n",
       "2     12150.095708\n",
       "3     10218.996811\n",
       "4      5407.972602\n",
       "...            ...\n",
       "2666   8240.173394\n",
       "2667   5552.663290\n",
       "2668   7677.790216\n",
       "2669   6781.949676\n",
       "2670   8968.829725\n",
       "\n",
       "[2671 rows x 1 columns]"
      ]
     },
     "execution_count": 90,
     "metadata": {},
     "output_type": "execute_result"
    }
   ],
   "source": [
    "Y_tst"
   ]
  },
  {
   "cell_type": "markdown",
   "id": "62693ad7",
   "metadata": {},
   "source": [
    "**Combining Test data with target**"
   ]
  },
  {
   "cell_type": "code",
   "execution_count": 91,
   "id": "c95f5e25",
   "metadata": {},
   "outputs": [
    {
     "data": {
      "text/html": [
       "<div>\n",
       "<style scoped>\n",
       "    .dataframe tbody tr th:only-of-type {\n",
       "        vertical-align: middle;\n",
       "    }\n",
       "\n",
       "    .dataframe tbody tr th {\n",
       "        vertical-align: top;\n",
       "    }\n",
       "\n",
       "    .dataframe thead th {\n",
       "        text-align: right;\n",
       "    }\n",
       "</style>\n",
       "<table border=\"1\" class=\"dataframe\">\n",
       "  <thead>\n",
       "    <tr style=\"text-align: right;\">\n",
       "      <th></th>\n",
       "      <th>Airline</th>\n",
       "      <th>Source</th>\n",
       "      <th>Destination</th>\n",
       "      <th>Total_Stops</th>\n",
       "      <th>Dep_Day</th>\n",
       "      <th>Dep_Month</th>\n",
       "      <th>Dep_hour</th>\n",
       "      <th>Dep_min</th>\n",
       "      <th>Arrival_hour</th>\n",
       "      <th>Arrival_min</th>\n",
       "      <th>Duration_hours</th>\n",
       "      <th>Duration_Min</th>\n",
       "      <th>Price</th>\n",
       "    </tr>\n",
       "  </thead>\n",
       "  <tbody>\n",
       "    <tr>\n",
       "      <th>0</th>\n",
       "      <td>4</td>\n",
       "      <td>2</td>\n",
       "      <td>1</td>\n",
       "      <td>1</td>\n",
       "      <td>6</td>\n",
       "      <td>6</td>\n",
       "      <td>17</td>\n",
       "      <td>30</td>\n",
       "      <td>4</td>\n",
       "      <td>25</td>\n",
       "      <td>10</td>\n",
       "      <td>55</td>\n",
       "      <td>11690.891014</td>\n",
       "    </tr>\n",
       "    <tr>\n",
       "      <th>1</th>\n",
       "      <td>3</td>\n",
       "      <td>3</td>\n",
       "      <td>0</td>\n",
       "      <td>1</td>\n",
       "      <td>5</td>\n",
       "      <td>12</td>\n",
       "      <td>6</td>\n",
       "      <td>20</td>\n",
       "      <td>10</td>\n",
       "      <td>20</td>\n",
       "      <td>4</td>\n",
       "      <td>0</td>\n",
       "      <td>4401.640797</td>\n",
       "    </tr>\n",
       "    <tr>\n",
       "      <th>2</th>\n",
       "      <td>4</td>\n",
       "      <td>2</td>\n",
       "      <td>1</td>\n",
       "      <td>1</td>\n",
       "      <td>21</td>\n",
       "      <td>5</td>\n",
       "      <td>19</td>\n",
       "      <td>15</td>\n",
       "      <td>19</td>\n",
       "      <td>0</td>\n",
       "      <td>23</td>\n",
       "      <td>45</td>\n",
       "      <td>12150.095708</td>\n",
       "    </tr>\n",
       "    <tr>\n",
       "      <th>3</th>\n",
       "      <td>6</td>\n",
       "      <td>2</td>\n",
       "      <td>1</td>\n",
       "      <td>1</td>\n",
       "      <td>21</td>\n",
       "      <td>5</td>\n",
       "      <td>8</td>\n",
       "      <td>0</td>\n",
       "      <td>21</td>\n",
       "      <td>0</td>\n",
       "      <td>13</td>\n",
       "      <td>0</td>\n",
       "      <td>10218.996811</td>\n",
       "    </tr>\n",
       "    <tr>\n",
       "      <th>4</th>\n",
       "      <td>0</td>\n",
       "      <td>0</td>\n",
       "      <td>2</td>\n",
       "      <td>0</td>\n",
       "      <td>24</td>\n",
       "      <td>6</td>\n",
       "      <td>23</td>\n",
       "      <td>55</td>\n",
       "      <td>2</td>\n",
       "      <td>45</td>\n",
       "      <td>2</td>\n",
       "      <td>50</td>\n",
       "      <td>5407.972602</td>\n",
       "    </tr>\n",
       "    <tr>\n",
       "      <th>...</th>\n",
       "      <td>...</td>\n",
       "      <td>...</td>\n",
       "      <td>...</td>\n",
       "      <td>...</td>\n",
       "      <td>...</td>\n",
       "      <td>...</td>\n",
       "      <td>...</td>\n",
       "      <td>...</td>\n",
       "      <td>...</td>\n",
       "      <td>...</td>\n",
       "      <td>...</td>\n",
       "      <td>...</td>\n",
       "      <td>...</td>\n",
       "    </tr>\n",
       "    <tr>\n",
       "      <th>2666</th>\n",
       "      <td>1</td>\n",
       "      <td>3</td>\n",
       "      <td>0</td>\n",
       "      <td>1</td>\n",
       "      <td>6</td>\n",
       "      <td>6</td>\n",
       "      <td>20</td>\n",
       "      <td>30</td>\n",
       "      <td>20</td>\n",
       "      <td>25</td>\n",
       "      <td>23</td>\n",
       "      <td>55</td>\n",
       "      <td>8240.173394</td>\n",
       "    </tr>\n",
       "    <tr>\n",
       "      <th>2667</th>\n",
       "      <td>3</td>\n",
       "      <td>3</td>\n",
       "      <td>0</td>\n",
       "      <td>0</td>\n",
       "      <td>27</td>\n",
       "      <td>3</td>\n",
       "      <td>14</td>\n",
       "      <td>20</td>\n",
       "      <td>16</td>\n",
       "      <td>55</td>\n",
       "      <td>2</td>\n",
       "      <td>35</td>\n",
       "      <td>5552.663290</td>\n",
       "    </tr>\n",
       "    <tr>\n",
       "      <th>2668</th>\n",
       "      <td>4</td>\n",
       "      <td>2</td>\n",
       "      <td>1</td>\n",
       "      <td>1</td>\n",
       "      <td>3</td>\n",
       "      <td>6</td>\n",
       "      <td>21</td>\n",
       "      <td>50</td>\n",
       "      <td>4</td>\n",
       "      <td>25</td>\n",
       "      <td>6</td>\n",
       "      <td>35</td>\n",
       "      <td>7677.790216</td>\n",
       "    </tr>\n",
       "    <tr>\n",
       "      <th>2669</th>\n",
       "      <td>1</td>\n",
       "      <td>2</td>\n",
       "      <td>1</td>\n",
       "      <td>1</td>\n",
       "      <td>3</td>\n",
       "      <td>6</td>\n",
       "      <td>4</td>\n",
       "      <td>0</td>\n",
       "      <td>19</td>\n",
       "      <td>15</td>\n",
       "      <td>15</td>\n",
       "      <td>15</td>\n",
       "      <td>6781.949676</td>\n",
       "    </tr>\n",
       "    <tr>\n",
       "      <th>2670</th>\n",
       "      <td>6</td>\n",
       "      <td>2</td>\n",
       "      <td>1</td>\n",
       "      <td>1</td>\n",
       "      <td>15</td>\n",
       "      <td>6</td>\n",
       "      <td>4</td>\n",
       "      <td>55</td>\n",
       "      <td>19</td>\n",
       "      <td>15</td>\n",
       "      <td>14</td>\n",
       "      <td>20</td>\n",
       "      <td>8968.829725</td>\n",
       "    </tr>\n",
       "  </tbody>\n",
       "</table>\n",
       "<p>2671 rows × 13 columns</p>\n",
       "</div>"
      ],
      "text/plain": [
       "      Airline  Source  Destination  Total_Stops  Dep_Day  Dep_Month  Dep_hour  \\\n",
       "0           4       2            1            1        6          6        17   \n",
       "1           3       3            0            1        5         12         6   \n",
       "2           4       2            1            1       21          5        19   \n",
       "3           6       2            1            1       21          5         8   \n",
       "4           0       0            2            0       24          6        23   \n",
       "...       ...     ...          ...          ...      ...        ...       ...   \n",
       "2666        1       3            0            1        6          6        20   \n",
       "2667        3       3            0            0       27          3        14   \n",
       "2668        4       2            1            1        3          6        21   \n",
       "2669        1       2            1            1        3          6         4   \n",
       "2670        6       2            1            1       15          6         4   \n",
       "\n",
       "      Dep_min  Arrival_hour  Arrival_min  Duration_hours  Duration_Min  \\\n",
       "0          30             4           25              10            55   \n",
       "1          20            10           20               4             0   \n",
       "2          15            19            0              23            45   \n",
       "3           0            21            0              13             0   \n",
       "4          55             2           45               2            50   \n",
       "...       ...           ...          ...             ...           ...   \n",
       "2666       30            20           25              23            55   \n",
       "2667       20            16           55               2            35   \n",
       "2668       50             4           25               6            35   \n",
       "2669        0            19           15              15            15   \n",
       "2670       55            19           15              14            20   \n",
       "\n",
       "             Price  \n",
       "0     11690.891014  \n",
       "1      4401.640797  \n",
       "2     12150.095708  \n",
       "3     10218.996811  \n",
       "4      5407.972602  \n",
       "...            ...  \n",
       "2666   8240.173394  \n",
       "2667   5552.663290  \n",
       "2668   7677.790216  \n",
       "2669   6781.949676  \n",
       "2670   8968.829725  \n",
       "\n",
       "[2671 rows x 13 columns]"
      ]
     },
     "execution_count": 91,
     "metadata": {},
     "output_type": "execute_result"
    }
   ],
   "source": [
    "fl_test_df['Price']=Y_tst\n",
    "fl_test_df"
   ]
  },
  {
   "cell_type": "markdown",
   "id": "e81bc5eb",
   "metadata": {},
   "source": [
    "# Conclusion"
   ]
  },
  {
   "cell_type": "markdown",
   "id": "0483292c",
   "metadata": {},
   "source": [
    "We have training and test file sepratelly available with us. \n",
    "All the independent variables are categorical in nature and dependent variable of train data i.e. price is numerical data type. So applied regressoin method for prediction.\n",
    "\n",
    "Once data has been cleaned for both test and training files, Label encoding applied on them to convert them into Numerical one.I have tried best algorithm and it has given top 5 features, i trained model on them but for most of the models, train and test data was having high variance, The model was overfitting. \n",
    "\n",
    "Only GradientBoosting regressor worked well out of all the models, as there was less difference between train score and test score and RMSE was also low.I have it as final model and have done further procesing."
   ]
  },
  {
   "cell_type": "code",
   "execution_count": null,
   "id": "c75b273b",
   "metadata": {},
   "outputs": [],
   "source": []
  }
 ],
 "metadata": {
  "kernelspec": {
   "display_name": "Python 3",
   "language": "python",
   "name": "python3"
  },
  "language_info": {
   "codemirror_mode": {
    "name": "ipython",
    "version": 3
   },
   "file_extension": ".py",
   "mimetype": "text/x-python",
   "name": "python",
   "nbconvert_exporter": "python",
   "pygments_lexer": "ipython3",
   "version": "3.8.8"
  }
 },
 "nbformat": 4,
 "nbformat_minor": 5
}
